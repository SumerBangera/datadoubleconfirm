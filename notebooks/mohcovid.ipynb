{
 "cells": [
  {
   "cell_type": "markdown",
   "metadata": {},
   "source": [
    "### This notebook explores the Number of updates on COVID-19 local situation (Singapore) on Ministry of Health's website since January. \n",
    "\n",
    "Data is first scraped off the website using BeautifulSoup and then Plotly is used to build an interactive visualization. Some static charts are also created using Seaborn. The data contains updates between 2 Jan 2020 and 25 March 2020."
   ]
  },
  {
   "cell_type": "code",
   "execution_count": 1,
   "metadata": {},
   "outputs": [],
   "source": [
    "from urllib.request import Request, urlopen\n",
    "import requests\n",
    "from bs4 import BeautifulSoup\n",
    "import csv"
   ]
  },
  {
   "cell_type": "code",
   "execution_count": 2,
   "metadata": {},
   "outputs": [],
   "source": [
    "import pandas as pd\n",
    "import numpy as np"
   ]
  },
  {
   "cell_type": "code",
   "execution_count": 3,
   "metadata": {},
   "outputs": [],
   "source": [
    "import re"
   ]
  },
  {
   "cell_type": "code",
   "execution_count": 4,
   "metadata": {},
   "outputs": [],
   "source": [
    "site = \"https://www.moh.gov.sg/covid-19/past-updates\"\n",
    "hdr = {'User-Agent': 'Mozilla/5.0'}\n",
    "bookpage = requests.get(site)\n",
    "soup = BeautifulSoup(bookpage.text, \"html.parser\")\n",
    "#print(soup.prettify())"
   ]
  },
  {
   "cell_type": "code",
   "execution_count": 5,
   "metadata": {},
   "outputs": [
    {
     "data": {
      "text/plain": [
       "[<span class=\"sgds-icon sgds-icon-sg-crest\"></span>,\n",
       " <span>A Singapore Government Agency Website</span>,\n",
       " <span class=\"sr-only\">Toggle navigation</span>,\n",
       " <span class=\"sgds-icon sgds-icon-menu\"></span>,\n",
       " <span class=\"sgds-icon sgds-icon-search\"></span>,\n",
       " <span class=\"caret\"></span>,\n",
       " <span class=\"caret\"></span>,\n",
       " <span class=\"caret\"></span>,\n",
       " <span class=\"sgds-icon sgds-icon-search\"></span>,\n",
       " <span class=\"sgds-icon sgds-icon-search\"></span>,\n",
       " <span class=\"last\">26 Mar 2020</span>,\n",
       " <span style=\"font-family: Arial; font-size: 16px;\">Find past updates on the COVID-19 (Coronavirus Disease 2019) situation in Singapore below. <em>For the latest updates, please click </em><strong><a href=\"/covid-19\" target=\"_blank\"><em>here</em></a></strong>.</span>,\n",
       " <span style=\"font-size: 16px;\"><strong><span style=\"font-family: Arial;\"> Updates</span></strong></span>,\n",
       " <span style=\"font-family: Arial;\"> Updates</span>,\n",
       " <span style=\"font-size: 16px; font-family: Arial;\"><strong>Date</strong><br/></span>,\n",
       " <span style=\"font-family: Arial; font-size: 16px;\"><strong>Title</strong><br/></span>,\n",
       " <span style=\"font-family: Arial; font-size: 16px;\">25 Mar 2020</span>,\n",
       " <span style=\"font-family: Arial;\"><span style=\"font-size: 16px;\"><a class=\"\" href=\"https://www.ica.gov.sg/careers/news-and-publications/media-releases/media-release/travellers-arriving-in-singapore-will-receive-advance-notification-of-stay-home-notice-requirements\" target=\"_blank\" title=\"\">Travellers Arriving In Singapore Will Receive Advance Notification Of Stay-Home Notice Requirements</a> - Immigration &amp; Checkpoints Authority (ICA) </span></span>,\n",
       " <span style=\"font-size: 16px;\"><a class=\"\" href=\"https://www.ica.gov.sg/careers/news-and-publications/media-releases/media-release/travellers-arriving-in-singapore-will-receive-advance-notification-of-stay-home-notice-requirements\" target=\"_blank\" title=\"\">Travellers Arriving In Singapore Will Receive Advance Notification Of Stay-Home Notice Requirements</a> - Immigration &amp; Checkpoints Authority (ICA) </span>,\n",
       " <span style=\"font-family: Arial; font-size: 16px;\">25 Mar 2020</span>,\n",
       " <span style=\"font-family: Arial; font-size: 16px;\"><a href=\"https://www.moh.gov.sg/news-highlights/details/five-more-cases-discharged-73-new-cases-of-covid-19-infection-confirmed\" target=\"_blank\" title=\"\">Five More Cases Discharged; 73 News Cases of COVID-19 Infection Confirmed</a> </span>,\n",
       " <span style=\"font-family: Arial; font-size: 16px;\">25 Mar 2020</span>,\n",
       " <span style=\"font-family: Arial; font-size: 16px;\"><strong>[Updated]</strong> <a href=\"/docs/librariesprovider5/default-document-library/moh-health-advisory-for-persons-issued-stay-home-notice-(25-mar-2020-2050h).pdf?sfvrsn=4231e587_0\" title=\"Health Advisory for Persons issued Stay-Home Notice (SHN)\">Health Advisory for Persons issued Stay-Home Notice (SHN)</a><br/></span>,\n",
       " <span style=\"font-family: Arial; font-size: 16px;\">25 Mar 2020</span>,\n",
       " <span style=\"font-family: Arial;\"><span style=\"font-size: 16px;\"><strong><strong>[Updated]</strong> <a href=\"https://www-moh-gov-sg-admin.cwp.sg/docs/librariesprovider5/default-document-library/advisory-for-individuals-sharing-residential-spaces-with-persons-issued-stay-home-notice-(25-mar-2020).pdf?sfvrsn=6a5f5c8d_0\" target=\"_blank\" title=\"Advisory for Individuals Sharing Residential Spaces with Persons issued Stay-Home Notice (SHN)\"></a></strong><a href=\"https://www-moh-gov-sg-admin.cwp.sg/docs/librariesprovider5/default-document-library/advisory-for-individuals-sharing-residential-spaces-with-persons-issued-stay-home-notice-(25-mar-2020).pdf?sfvrsn=6a5f5c8d_0\" target=\"_blank\" title=\"Advisory for Individuals Sharing Residential Spaces with Persons issued Stay-Home Notice (SHN)\">Advisory for Individuals Sharing Residential Spaces with Persons issued Stay-Home Notice (SHN)</a><strong><a href=\"https://www-moh-gov-sg-admin.cwp.sg/docs/librariesprovider5/default-document-library/advisory-for-individuals-sharing-residential-spaces-with-persons-issued-stay-home-notice-(25-mar-2020).pdf?sfvrsn=6a5f5c8d_0\" target=\"_blank\" title=\"Advisory for Individuals Sharing Residential Spaces with Persons issued Stay-Home Notice (SHN)\"></a> </strong>(25 Mar 2020)</span></span>,\n",
       " <span style=\"font-size: 16px;\"><strong><strong>[Updated]</strong> <a href=\"https://www-moh-gov-sg-admin.cwp.sg/docs/librariesprovider5/default-document-library/advisory-for-individuals-sharing-residential-spaces-with-persons-issued-stay-home-notice-(25-mar-2020).pdf?sfvrsn=6a5f5c8d_0\" target=\"_blank\" title=\"Advisory for Individuals Sharing Residential Spaces with Persons issued Stay-Home Notice (SHN)\"></a></strong><a href=\"https://www-moh-gov-sg-admin.cwp.sg/docs/librariesprovider5/default-document-library/advisory-for-individuals-sharing-residential-spaces-with-persons-issued-stay-home-notice-(25-mar-2020).pdf?sfvrsn=6a5f5c8d_0\" target=\"_blank\" title=\"Advisory for Individuals Sharing Residential Spaces with Persons issued Stay-Home Notice (SHN)\">Advisory for Individuals Sharing Residential Spaces with Persons issued Stay-Home Notice (SHN)</a><strong><a href=\"https://www-moh-gov-sg-admin.cwp.sg/docs/librariesprovider5/default-document-library/advisory-for-individuals-sharing-residential-spaces-with-persons-issued-stay-home-notice-(25-mar-2020).pdf?sfvrsn=6a5f5c8d_0\" target=\"_blank\" title=\"Advisory for Individuals Sharing Residential Spaces with Persons issued Stay-Home Notice (SHN)\"></a> </strong>(25 Mar 2020)</span>,\n",
       " <span style=\"font-family: Arial; font-size: 16px;\">25 Mar 2020<br/></span>,\n",
       " <span style=\"font-family: Arial; font-size: 16px;\"><a class=\"\" href=\"https://www.mom.gov.sg/newsroom/press-releases/2020/0325-measures-to-prevent-congregations-of-foreign-workers-and-foreign-domestic-workers\" target=\"_blank\" title=\"\">Measures to Prevent Congregations of Foreign Workers and Foreign Domestic Workers</a> - Ministry of Manpower (MOM)<br/></span>,\n",
       " <span style=\"font-family: Arial; font-size: 16px;\">25 Mar 2020<br/></span>,\n",
       " <span style=\"font-family: Arial; font-size: 16px;\"><a class=\"\" href=\"https://www.mom.gov.sg/newsroom/press-releases/2020/0325-employers-advised-to-plan-sustainable-housing-options-for-workers-usually-housed-in-malaysia\" target=\"_blank\" title=\"\">Employers Advised To Plan For More Sustainable Housing Options For Their Workers Usually Housed In Malaysia</a> - Ministry of Manpower (MOM)</span>,\n",
       " <span style=\"font-family: Arial; font-size: 16px;\">25 Mar 2020</span>,\n",
       " <span style=\"font-family: Arial; font-size: 16px;\"><a class=\"\" href=\"https://www.ica.gov.sg/careers/news-and-publications/media-releases/media-release/singapore-permanent-resident-failed-to-declare-recent-travel-history-to-indonesia\" target=\"_blank\" title=\"\">Singapore Permanent Resident Failed To Declare Recent Travel History To Indonesia</a> - Immigration &amp; Checkpoints Authority (ICA)</span>,\n",
       " <span style=\"font-family: Arial; font-size: 16px;\">25 Mar 2020</span>,\n",
       " <span style=\"font-family: Arial;\"><span style=\"font-size: 16px;\"><a class=\"\" href=\"https://www.mom.gov.sg/newsroom/press-releases/2020/0325-mom-entry-approval-and-stay-home-notice-requirements-for-work-pass-holders-from-malaysia\" target=\"_blank\" title=\"Entry Approval and Stay-Home Notice Requirements for Work Pass Holders from Malaysia - Ministry of Manpower (MOM)\">Entry Approval and Stay-Home Notice Requirements for Work Pass Holders from Malaysia - Ministry of Manpower (MOM)</a> - Ministry of Manpower (MOM) </span></span>,\n",
       " <span style=\"font-size: 16px;\"><a class=\"\" href=\"https://www.mom.gov.sg/newsroom/press-releases/2020/0325-mom-entry-approval-and-stay-home-notice-requirements-for-work-pass-holders-from-malaysia\" target=\"_blank\" title=\"Entry Approval and Stay-Home Notice Requirements for Work Pass Holders from Malaysia - Ministry of Manpower (MOM)\">Entry Approval and Stay-Home Notice Requirements for Work Pass Holders from Malaysia - Ministry of Manpower (MOM)</a> - Ministry of Manpower (MOM) </span>,\n",
       " <span style=\"font-family: Arial; font-size: 16px;\">25 Mar 2020</span>,\n",
       " <span style=\"font-family: Arial;\"><span style=\"font-size: 16px;\"><a href=\"https://www.parliament.gov.sg/docs/default-source/default-document-library/press-release-covid-measures-in-parliament.pdf\" target=\"_blank\" title=\"\">Stepped Up Precautionary Measures against COVID-19 in Parliament</a> - Parliament of Singapore</span></span>,\n",
       " <span style=\"font-size: 16px;\"><a href=\"https://www.parliament.gov.sg/docs/default-source/default-document-library/press-release-covid-measures-in-parliament.pdf\" target=\"_blank\" title=\"\">Stepped Up Precautionary Measures against COVID-19 in Parliament</a> - Parliament of Singapore</span>,\n",
       " <span style=\"font-family: Arial; font-size: 16px;\">25 Mar 2020</span>,\n",
       " <span style=\"font-family: Arial; font-size: 16px;\">Ministerial Statement by Minister Lawrence Wong on Update on Whole-of-Government Response to COVID-19</span>,\n",
       " <span style=\"font-family: Arial; font-size: 16px;\">25 Mar 2020</span>,\n",
       " <span style=\"font-family: Arial; font-size: 16px;\">Statement by Mr Gan Kim Yong, Minister for Health, at Parliament, on the Update on Whole-of-Government Response to COVID-19</span>,\n",
       " <span style=\"font-family: Arial; font-size: 16px;\">25 Mar 2020</span>,\n",
       " <span style=\"font-size: 16px;\"><a class=\"\" href=\"http://www.moh.gov.sg/news-highlights/details/second-meeting-of-the-singapore---malaysia-joint-working-group-for-covid-19\" target=\"\" title=\"\">Second Meeting of the Singapore - Malaysia Joint Working Group for COVID-19</a></span>,\n",
       " <span style=\"font-family: Arial; font-size: 16px;\">25 Mar 2020</span>,\n",
       " <span style=\"font-family: Arial; font-size: 16px;\"><a href=\"https://www.mti.gov.sg/Newsroom/Press-Releases/2020/03/Joint-ministerial-statement-affirming-commitment\" target=\"_blank\" title=\"\">Joint ministerial statement by Australia, Brunei Darussalam, Canada, Chile, Myanmar, New Zealand and Singapore affirming commitment to ensuring supply chain connectivity amidst the COVID-19 situation</a> - Ministry of Trade and Industry (MTI)<br/></span>,\n",
       " <span style=\"font-family: Arial; font-size: 16px;\">25 Mar 2020</span>,\n",
       " <span style=\"font-family: Arial; font-size: 16px;\">Joint statement by the Singapore Tourism Board, Enterprise Singapore and Singapore Police Force</span>,\n",
       " <span style=\"font-family: Arial; font-size: 16px;\">25 Mar 2020</span>,\n",
       " <span style=\"font-family: Arial;\"><span style=\"font-size: 16px;\"><a class=\"\" href=\"https://www.mom.gov.sg/newsroom/press-releases/2020/0323-mom-mounts-enforcement-operation-to-ensure-workplaces-comply-with-safe-distancing-measures\" target=\"_blank\" title=\"\">MOM Mounts Enforcement Operation to Ensure Workplaces Comply with Safe Distancing Measures</a> - Ministry of Manpower (MOM) </span></span>,\n",
       " <span style=\"font-size: 16px;\"><a class=\"\" href=\"https://www.mom.gov.sg/newsroom/press-releases/2020/0323-mom-mounts-enforcement-operation-to-ensure-workplaces-comply-with-safe-distancing-measures\" target=\"_blank\" title=\"\">MOM Mounts Enforcement Operation to Ensure Workplaces Comply with Safe Distancing Measures</a> - Ministry of Manpower (MOM) </span>,\n",
       " <span style=\"font-family: Arial; font-size: 16px;\">25 Mar 2020</span>,\n",
       " <span style=\"font-family: Arial;\"><span style=\"font-size: 16px;\"><a class=\"\" href=\"https://www.mas.gov.sg/news/media-releases/2020/guidance-on-safe-distancing-measures-for-issuers-when-conducting-meetings\" target=\"_blank\" title=\"\">Guidance on Safe Distancing Measures for Issuers when Conducting Meetings</a> - Monetary Authority of Singapore (MAS)</span></span>,\n",
       " <span style=\"font-size: 16px;\"><a class=\"\" href=\"https://www.mas.gov.sg/news/media-releases/2020/guidance-on-safe-distancing-measures-for-issuers-when-conducting-meetings\" target=\"_blank\" title=\"\">Guidance on Safe Distancing Measures for Issuers when Conducting Meetings</a> - Monetary Authority of Singapore (MAS)</span>,\n",
       " <span style=\"font-family: Arial; font-size: 16px;\">24 Mar 2020</span>,\n",
       " <span style=\"font-family: Arial; font-size: 16px;\"><a class=\"\" href=\"https://www.mom.gov.sg/newsroom/press-releases/2020/0324-further-measures-to-help-companies-cope-with-covid-19-situation\" target=\"\" title=\"\"><span style=\"font-family: Arial; font-size: 16px;\">Further Measures to Help Companies Cope with COVID-19 Situation</span></a> - Ministry of Manpower (MOM)</span>,\n",
       " <span style=\"font-family: Arial; font-size: 16px;\">Further Measures to Help Companies Cope with COVID-19 Situation</span>,\n",
       " <span style=\"font-family: Arial; font-size: 16px;\">24 Mar 2020</span>,\n",
       " <span style=\"font-family: Arial; font-size: 16px;\"><a class=\"\" href=\"https://www.moh.gov.sg/news-highlights/details/three-more-cases-discharged-49-new-cases-of-covid-19-infection-confirmed\" target=\"_blank\" title=\"\">Three More Cases Discharged; 49 New Cases of COVID-19 Infection Confirmed</a></span>,\n",
       " <span style=\"font-family: Arial; font-size: 16px;\">24 Mar 2020</span>,\n",
       " <span style=\"font-family: Arial;\"><span style=\"font-size: 16px;\"><a class=\"\" href=\"https://www.moe.gov.sg/news/press-releases/joint-moe-msf-statement-on-additional-precautionary-measures\" target=\"\" title=\"\">Joint MOE-MSF Statement on Additional Precautionary Measures </a><br/>- Ministry of Education (MOE)</span></span>,\n",
       " <span style=\"font-size: 16px;\"><a class=\"\" href=\"https://www.moe.gov.sg/news/press-releases/joint-moe-msf-statement-on-additional-precautionary-measures\" target=\"\" title=\"\">Joint MOE-MSF Statement on Additional Precautionary Measures </a><br/>- Ministry of Education (MOE)</span>,\n",
       " <span style=\"font-family: Arial; font-size: 16px;\">24 Mar 2020</span>,\n",
       " <span style=\"font-family: Arial; font-size: 16px;\"><a class=\"\" href=\"https://www.muis.gov.sg/Media/Media-Releases/24-Mar-20-Mosques-to-remain-closed-until-further-notice\" target=\"\" title=\"\">Mosque to Remain Closed Until Further Notice </a>- Majlis Ugama Islam Singapura (MUIS)</span>,\n",
       " <span style=\"font-family: Arial; font-size: 16px;\">24 Mar 2020</span>,\n",
       " <span style=\"font-size: 16px;\"><a class=\"\" href=\"https://www.sgpc.gov.sg/media_releases/mnd/speech/S-20200324-1\" target=\"\" title=\"\"><span style=\"font-family: Arial;\">Speech by Mr Lawrence Wong, Minister for National Development, at COVID-19 Press Conference, 24 Mar 2020</span></a></span>,\n",
       " <span style=\"font-family: Arial;\">Speech by Mr Lawrence Wong, Minister for National Development, at COVID-19 Press Conference, 24 Mar 2020</span>,\n",
       " <span style=\"font-family: Arial; font-size: 16px;\">24 Mar 2020</span>,\n",
       " <span style=\"font-family: Arial; font-size: 16px;\"><a class=\"\" href=\"https://www.moh.gov.sg/news-highlights/details/tighter-measures-to-minimise-further-spread-of-covid-19\" target=\"\" title=\"\">Tighter Measures to Minimise Further Spread of COVID-19</a></span>,\n",
       " <span style=\"font-family: Arial; font-size: 16px;\">23 Mar 2020</span>,\n",
       " <span style=\"font-family: Arial; font-size: 16px;\"><a class=\"\" href=\"https://www.mas.gov.sg/news/media-releases/2020/mas-tells-financial-institutions-to-adopt-safe-distancing-measures \" target=\"_blank\" title=\"\">MAS  Tells Financial Institutions to Adopt Safe Distancing Measures</a> - Monetary Authority of Singapore (MAS)</span>,\n",
       " <span style=\"font-family: Arial; font-size: 16px;\">23 Mar 2020</span>,\n",
       " <span style=\"font-family: Arial; font-size: 16px;\">Eight More Cases Discharged; 54 New Cases of COVID-19 Infection Confirmed</span>,\n",
       " <span style=\"font-size: 16px; font-family: Arial;\">23 Mar 2020</span>,\n",
       " <span style=\"font-size: 16px;\"><span style=\"font-family: Arial;\"><a href=\"https://www.ica.gov.sg/news-and-publications/media-releases/media-release/all-travellers-arriving-in-singapore-from-27-march-2020-0900-hours-must-submit-health-declaration-via-the-sg-arrival-card-e-service\" target=\"_blank\" title=\"\">All Travellers Arriving In Singapore From 27 March 2020, 0900 Hours, Must Submit Health Declaration Via The SG Arrival Card E-Service</a> - Immigration &amp; Checkpoints Authority (ICA)</span></span>,\n",
       " <span style=\"font-family: Arial;\"><a href=\"https://www.ica.gov.sg/news-and-publications/media-releases/media-release/all-travellers-arriving-in-singapore-from-27-march-2020-0900-hours-must-submit-health-declaration-via-the-sg-arrival-card-e-service\" target=\"_blank\" title=\"\">All Travellers Arriving In Singapore From 27 March 2020, 0900 Hours, Must Submit Health Declaration Via The SG Arrival Card E-Service</a> - Immigration &amp; Checkpoints Authority (ICA)</span>,\n",
       " <span style=\"font-family: Arial; font-size: 16px;\">22 Mar 2020</span>,\n",
       " <span style=\"font-family: Arial; font-size: 16px;\"><a class=\"\" href=\"https://www.sgpc.gov.sg/media_releases/mnd/transcript/T-20200322-1\" target=\"_blank\" title=\"\">Remarks by Minister Lawrence Wong, Co-chair of the Multi-Ministry Taskforce on COVID-19, at Media Doorstop</a></span>,\n",
       " <span style=\"font-size: 16px; font-family: Arial;\">22 Mar 2020</span>,\n",
       " <span style=\"font-size: 16px; font-family: Arial;\"><a class=\"\" href=\"http://moh.gov.sg/news-highlights/details/four-more-cases-discharged-23-new-cases-of-covid-19-infection-confirmed\" target=\"_blank\" title=\"\">Four More Cases Discharged; 23 New Cases of COVID-19 Infection Confirmed</a></span>,\n",
       " <span style=\"font-family: Arial; font-size: 16px;\">22 Mar 2020</span>,\n",
       " <span style=\"font-family: Arial; font-size: 16px;\"><a href=\"https://www.moh.gov.sg/news-highlights/details/additional-border-control-measures-to-reduce-further-importation-of-covid-19-cases\" target=\"_blank\" title=\"\">Additional Border Control Measures to Reduce Further Importation of COVID-19 Cases</a> </span>,\n",
       " <span style=\"font-family: Arial; font-size: 16px;\">21 Mar 2020</span>,\n",
       " <span style=\"font-family: Arial; font-size: 16px;\"><a class=\"\" href=\"https://www.mom.gov.sg/newsroom/press-releases/2020/0321-89-work-passes-revoked-for-breach-of-entry-approval-and-stay-home-notice-requirements\" target=\"_blank\" title=\"\">89 Work Passes Revoked for Breach of Entry Approval and Stay-Home Notice Requirements</a> - Ministry of Manpower (MOM)  </span>,\n",
       " <span style=\"font-family: Arial; font-size: 16px;\">21 Mar 2020</span>,\n",
       " <span style=\"font-family: Arial; font-size: 16px;\"><a class=\"\" href=\"http://www.mom.gov.sg/covid-19/updated-advisory-to-fdws-and-employers\" target=\"\" title=\"\">Updated Advisory to Foreign Domestic Workers &amp; Employers - FDWs Urged to Stay Home on Rest Days</a> - Ministry of Manpower (MOM) </span>,\n",
       " <span style=\"font-family: Arial; font-size: 16px;\">21 Mar 2020</span>,\n",
       " <span style=\"font-family: Arial; font-size: 16px;\"><a class=\"\" href=\"https://www.moh.gov.sg/news-highlights/details/nine-more-cases-discharged-47-new-cases-of-covid-19-infection-confirmed \" target=\"\" title=\"\"><span style=\"font-family: Arial; font-size: 16px;\"></span><span style=\"font-family: Arial; font-size: 16px;\">Nine More Cases Discharged; 47 New Cases of COVID-19 Infection Confirmed</span></a></span>,\n",
       " <span style=\"font-family: Arial; font-size: 16px;\"></span>,\n",
       " <span style=\"font-family: Arial; font-size: 16px;\">Nine More Cases Discharged; 47 New Cases of COVID-19 Infection Confirmed</span>,\n",
       " <span style=\"font-family: Arial; font-size: 16px;\"></span>,\n",
       " <span style=\"font-family: Arial; font-size: 16px;\">21 Mar 2020</span>,\n",
       " <span style=\"font-family: Arial;\"><span style=\"font-size: 16px;\"><a href=\"https://www.psd.gov.sg/press-room/press-releases/public-sector-implements-safe-distancing-measures-across-the-board-to-prevent-further-spread-of-covid-19-cases-1 \" target=\"_blank\" title=\"\">Public Sector Implements Safe Distancing Measures Across the Board to Prevent Further Spread of COVID-19 Cases</a> - Public Service Division (PSD)</span></span>,\n",
       " <span style=\"font-size: 16px;\"><a href=\"https://www.psd.gov.sg/press-room/press-releases/public-sector-implements-safe-distancing-measures-across-the-board-to-prevent-further-spread-of-covid-19-cases-1 \" target=\"_blank\" title=\"\">Public Sector Implements Safe Distancing Measures Across the Board to Prevent Further Spread of COVID-19 Cases</a> - Public Service Division (PSD)</span>,\n",
       " <span style=\"font-family: Arial; font-size: 16px;\">21 Mar 2020</span>,\n",
       " <span style=\"font-family: Arial; font-size: 16px;\">Passing of Two Patients with COVID-19 Infection</span>,\n",
       " <span style=\"font-family: Arial; font-size: 16px;\">20 Mar 2020</span>,\n",
       " <span style=\"font-family: Arial; font-size: 16px;\"><a class=\"\" href=\"https://www.mpa.gov.sg/web/portal/home/port-of-singapore/circulars-and-notices/detail/82b76232-09cc-4b52-94c7-44f1140ff0e6\" target=\"_blank\" title=\"\">Extension of Precautionary Measures to Minimise Risk of Community Spread of the Coronavirus Disease 2019 (COVID-19) in Singapore</a> - Maritime and Port Authority of Singapore (MPA)</span>,\n",
       " <span style=\"font-family: Arial; font-size: 16px;\">20 Mar 2020</span>,\n",
       " <span style=\"font-family: Arial; font-size: 16px;\"><a class=\"\" href=\"https://www.mpa.gov.sg/web/portal/home/port-of-singapore/circulars-and-notices/detail/9f6af06f-2817-483e-bf94-70d9d7324e9a\" target=\"_blank\" title=\"\">Maritime Declaration of Health</a> - Maritime and Port Authority of Singapore (MPA)</span>,\n",
       " <span style=\"font-family: Arial; font-size: 16px;\">20 Mar 2020</span>,\n",
       " <span style=\"font-family: Arial;\"><span style=\"font-size: 16px;\"><span style=\"font-family: Arial; font-size: 16px;\"><a class=\"\" href=\"https://www.muis.gov.sg/Media/Media-Releases/20-Mar-20-Muis-Response-To-MOH-Safe-Distancing-Measures\" target=\"_blank\" title=\"\">MUIS' response to MOH's Advisories on Safe Distancing Measures</a></span> - Islamic Religious Council of Singapore (MUIS) </span></span>,\n",
       " <span style=\"font-size: 16px;\"><span style=\"font-family: Arial; font-size: 16px;\"><a class=\"\" href=\"https://www.muis.gov.sg/Media/Media-Releases/20-Mar-20-Muis-Response-To-MOH-Safe-Distancing-Measures\" target=\"_blank\" title=\"\">MUIS' response to MOH's Advisories on Safe Distancing Measures</a></span> - Islamic Religious Council of Singapore (MUIS) </span>,\n",
       " <span style=\"font-family: Arial; font-size: 16px;\"><a class=\"\" href=\"https://www.muis.gov.sg/Media/Media-Releases/20-Mar-20-Muis-Response-To-MOH-Safe-Distancing-Measures\" target=\"_blank\" title=\"\">MUIS' response to MOH's Advisories on Safe Distancing Measures</a></span>,\n",
       " <span style=\"font-family: Arial; font-size: 16px;\">20 Mar 2020</span>,\n",
       " <span style=\"font-family: Arial;\"><span style=\"font-size: 16px;\"><a class=\"\" href=\"https://www.enterprisesg.gov.sg/covid-19/safe-distance\" target=\"_blank\" title=\"\">Advisories on Safe Distancing Measures (for Retail and F&amp;B establishments)</a> - Enterprise Singapore (ESG)</span></span>,\n",
       " <span style=\"font-size: 16px;\"><a class=\"\" href=\"https://www.enterprisesg.gov.sg/covid-19/safe-distance\" target=\"_blank\" title=\"\">Advisories on Safe Distancing Measures (for Retail and F&amp;B establishments)</a> - Enterprise Singapore (ESG)</span>,\n",
       " <span style=\"font-family: Arial; font-size: 16px;\">20 Mar 2020</span>,\n",
       " <span style=\"font-family: Arial;\"><span style=\"font-size: 16px;\"><a href=\"https://www.mti.gov.sg/Newsroom/Press-Releases/2020/03/Joint-Ministerial-Statement---SG-and-NZ-affirming-commitment-to-ensuring-supply-chain-connectivity\" target=\"_blank\" title=\"\">Joint Ministerial Statement by Singapore and New Zealand Affirming Commitment to Ensuring Supply Chain Connectivity Amidst the COVID-19 Situation</a> - Ministry of Trade and Industry (MTI)</span></span>,\n",
       " <span style=\"font-size: 16px;\"><a href=\"https://www.mti.gov.sg/Newsroom/Press-Releases/2020/03/Joint-Ministerial-Statement---SG-and-NZ-affirming-commitment-to-ensuring-supply-chain-connectivity\" target=\"_blank\" title=\"\">Joint Ministerial Statement by Singapore and New Zealand Affirming Commitment to Ensuring Supply Chain Connectivity Amidst the COVID-19 Situation</a> - Ministry of Trade and Industry (MTI)</span>,\n",
       " <span style=\"font-family: Arial; font-size: 16px;\">20 Mar 2020</span>,\n",
       " <span style=\"font-family: Arial;\"><span style=\"font-size: 16px;\"><a href=\"https://www.moh.gov.sg/news-highlights/details/seven-more-cases-discharged-40-new-cases-of-covid-19-infection-confirmed\" target=\"_blank\" title=\"\">S</a><a class=\"\" href=\"https://www.moh.gov.sg/news-highlights/details/seven-more-cases-discharged-40-new-cases-of-covid-19-infection-confirmed\" target=\"_blank\" title=\"\">even More Cases Discharged; 40 New Cases of COVID-19 Infection Confirmed</a></span></span>,\n",
       " <span style=\"font-size: 16px;\"><a href=\"https://www.moh.gov.sg/news-highlights/details/seven-more-cases-discharged-40-new-cases-of-covid-19-infection-confirmed\" target=\"_blank\" title=\"\">S</a><a class=\"\" href=\"https://www.moh.gov.sg/news-highlights/details/seven-more-cases-discharged-40-new-cases-of-covid-19-infection-confirmed\" target=\"_blank\" title=\"\">even More Cases Discharged; 40 New Cases of COVID-19 Infection Confirmed</a></span>,\n",
       " <span style=\"font-family: Arial; font-size: 16px;\">20 Mar 2020</span>,\n",
       " <span style=\"font-family: Arial; font-size: 16px;\">Advisory for Precautionary Measures for Seniors</span>,\n",
       " <span style=\"font-family: Arial; font-size: 16px;\">20 Mar 2020</span>,\n",
       " <span style=\"font-family: Arial; font-size: 16px;\">Launch of New App for Contact Tracing</span>,\n",
       " <span style=\"font-family: Arial; font-size: 16px;\">20 Mar 2020</span>,\n",
       " <span style=\"font-family: Arial; font-size: 16px;\">Speech by Mr Lawrence Wong, Minister for National Development, at COVID-19 Press Conference, 20 MAR 2020, 06.00 PM at National Press Centre</span>,\n",
       " <span style=\"font-family: Arial; font-size: 16px;\">20 Mar 2020</span>,\n",
       " <span style=\"font-family: Arial; font-size: 16px;\">Stricter Safe Distancing Measures to Prevent Further Spread of COVID-19 Cases</span>,\n",
       " <span style=\"font-family: Arial; font-size: 16px;\">20 Mar 2020 </span>,\n",
       " <span style=\"font-family: Arial; font-size: 16px;\"><a class=\"\" href=\"https://www.mom.gov.sg/newsroom/press-releases/2020/0320-companies-encouraged-to-impose-loa-for-employees-returning-between-14-and-20-march-2020\" target=\"_blank\" title=\"\">Companies Encouraged to Impose Leave of Absence for Employees Returning Between 14 and 20 March 2020</a> - Ministry of Manpower (MOM)</span>,\n",
       " <span style=\"font-family: Arial; font-size: 16px;\">19 Mar 2020</span>,\n",
       " <span style=\"font-family: Arial; font-size: 16px;\"><a class=\"\" href=\"https://www.hsa.gov.sg/announcements/press-release/hsa-operationpangea2020\" target=\"_blank\" title=\"\"><span style=\"font-family: Arial; font-size: 16px;\">HSA Took Down More Than 2,500 Listings of Adulterated Products or Products Making False or Misleading Claims from E-commerce Platforms During International Week of Action</span></a> - Health Science Authority of Singapore (HSA)</span>,\n",
       " <span style=\"font-family: Arial; font-size: 16px;\">HSA Took Down More Than 2,500 Listings of Adulterated Products or Products Making False or Misleading Claims from E-commerce Platforms During International Week of Action</span>,\n",
       " <span style=\"font-family: Arial; font-size: 16px;\">19 Mar 2020</span>,\n",
       " <span style=\"font-family: Arial; font-size: 16px;\"><a class=\"\" href=\"https://www.moh.gov.sg/news-highlights/details/seven-more-cases-discharged-32-new-cases-of-covid-19-infection-confirmed\" target=\"\" title=\"\">Seven More Cases Discharged; 32 New Cases of COVID-19 Infection Confirmed</a></span>,\n",
       " <span style=\"font-family: Arial; font-size: 16px;\">19 Mar 2020</span>,\n",
       " <span style=\"font-family: Arial;\"><span style=\"font-size: 16px;\"><strong>[Updated]</strong> <a href=\"https://www.muis.gov.sg/Media/Media-Releases/15-Mar-20-Muis-Advisory-for-General-Muslim-Public\" target=\"_blank\" title=\"\">MUIS Advisory for General Muslim Public</a> (list of mosques attended by confirmed cases updated as of 19 Mar 2020) - Islamic Religious Council of Singapore (MUIS)</span></span>,\n",
       " <span style=\"font-size: 16px;\"><strong>[Updated]</strong> <a href=\"https://www.muis.gov.sg/Media/Media-Releases/15-Mar-20-Muis-Advisory-for-General-Muslim-Public\" target=\"_blank\" title=\"\">MUIS Advisory for General Muslim Public</a> (list of mosques attended by confirmed cases updated as of 19 Mar 2020) - Islamic Religious Council of Singapore (MUIS)</span>,\n",
       " <span style=\"font-family: Arial; font-size: 16px;\">19 Mar 2020</span>,\n",
       " <span style=\"font-family: Arial; font-size: 16px;\"><a class=\"\" href=\"http://www.ecda.gov.sg/PressReleases/Pages/Advisory-to-Parents-Keeping-Our-Children-in-Preschools-Safe-Against-COVID-19-%5b14-day-Leave-of-Absence-for-Preschool-Staff.aspx\" target=\"\" title=\"\">Advisory to Parents: Keeping Our Children in Preschools Safe Against COVID-19 [14-Day Leave of Absence for Preschool Staff and Children Returning from All Overseas Travel]</a> - Early Childhood Development Agency (ECDA)</span>,\n",
       " <span style=\"font-family: Arial; font-size: 16px;\">19 Mar 2020</span>,\n",
       " <span style=\"font-family: Arial; font-size: 16px;\"><a href=\"https://www.moe.gov.sg/news/press-releases/schools-and-kindergartens-to-re-open-with-enhanced-precautionary-measures\" target=\"_blank\" title=\"\">Schools and Kindergartens to Re-Open with Enhanced Precautionary Measures</a> - Ministry of Education (MOE)<br/></span>,\n",
       " <span style=\"font-family: Arial; font-size: 16px;\">19 Mar 2020</span>,\n",
       " <span style=\"font-family: Arial; font-size: 16px;\"><a class=\"\" href=\"http://www.sgx.com/media-centre/20200319-sgx-regco-provides-guidance-holding-general-meetings-amid-covid-19\" target=\"\" title=\"\">SGX RegCo Provides Guidance on Holding of General Meetings Amid COVID-19</a> - Singapore Exchange (SGX)</span>,\n",
       " <span style=\"font-family: Arial; font-size: 16px;\">18 Mar 2020</span>,\n",
       " <span style=\"font-family: Arial; font-size: 16px;\"><a class=\"\" href=\"https://www.mom.gov.sg/newsroom/press-releases/2020/0318-mom-entry-approval-and-stay-home-notices-now-covers-all-new-and-existing-work-pass-holders\" target=\"_blank\" title=\"\">Entry Approval and SHN Now Covers All New and Existing Work Pass Holders</a> - Ministry of Manpower (MOM)</span>,\n",
       " <span style=\"font-family: Arial; font-size: 16px;\">18 Mar 2020</span>,\n",
       " <span style=\"font-family: Arial; font-size: 16px;\"><a class=\"\" href=\"http://www.sgpc.gov.sg/media_releases/mnd/transcript/T-20200318-1\" target=\"\" title=\"\">Remarks by Minister Lawrence Wong, Co-chair of the Multi-Ministry Taskforce on COVID-19, at Press Conference on COVID-19</a></span>,\n",
       " <span style=\"font-family: Arial; font-size: 16px;\">18 Mar 2020</span>,\n",
       " <span style=\"font-family: Arial; font-size: 16px;\"><a href=\"https://www.moh.gov.sg/news-highlights/details/three-more-cases-discharged-47-new-cases-of-covid-19-infection-confirmed\" target=\"_blank\" title=\"\">Three More Cases Discharged; 47 New Cases of COVID-19 Infection Confirmed</a> </span>,\n",
       " <span style=\"font-family: Arial; font-size: 16px;\">1</span>,\n",
       " <span style=\"font-family: Arial; font-size: 16px;\">8 Mar 2020</span>,\n",
       " <span style=\"font-family: Arial; font-size: 16px;\"><a class=\"\" href=\"https://www.moh.gov.sg/news-highlights/details/additional-measures-for-travellers-to-reduce-further-importation-of-covid-19-cases\" target=\"_blank\" title=\"\">Additional Measures for Travellers to Reduce Further Importation of COVID-19 Cases</a></span>,\n",
       " <span style=\"font-family: Arial; font-size: 16px;\">18 Mar 2020</span>,\n",
       " <span style=\"font-family: Arial;\"><span style=\"font-size: 16px;\"><strong>[Updated] <a href=\"/docs/librariesprovider5/2019-ncov/moh-health-advisory-for-persons-issued-stay-home-notice-(updated-18-mar).pdf?sfvrsn=34c7f777_0\"></a></strong><a href=\"/docs/librariesprovider5/2019-ncov/moh-health-advisory-for-persons-issued-stay-home-notice-(updated-18-mar).pdf?sfvrsn=34c7f777_0\">Health Advisory for Persons Issued Stay-Home Notice</a></span></span>,\n",
       " <span style=\"font-size: 16px;\"><strong>[Updated] <a href=\"/docs/librariesprovider5/2019-ncov/moh-health-advisory-for-persons-issued-stay-home-notice-(updated-18-mar).pdf?sfvrsn=34c7f777_0\"></a></strong><a href=\"/docs/librariesprovider5/2019-ncov/moh-health-advisory-for-persons-issued-stay-home-notice-(updated-18-mar).pdf?sfvrsn=34c7f777_0\">Health Advisory for Persons Issued Stay-Home Notice</a></span>,\n",
       " <span style=\"font-family: Arial; font-size: 16px;\">17 Mar 2020</span>,\n",
       " <span style=\"font-family: Arial; font-size: 16px;\">Five More Cases Discharged; 23 New Cases of COVID-19 Infection Confirmed</span>,\n",
       " <span style=\"font-family: Arial; font-size: 16px;\">17 Mar 2020</span>,\n",
       " <span style=\"font-family: Arial; font-size: 16px;\">Speech by Mr Lawrence Wong, Minister for National Development, at COVID-19 Press Conference, 17 Mar 2020, 06.00 PM at National Press Centre</span>,\n",
       " <span style=\"font-family: Arial; font-size: 16px;\">17 Mar 2020</span>,\n",
       " <span style=\"font-family: Arial;\"><span style=\"font-size: 16px;\"><a class=\"\" href=\"https://www.mfa.gov.sg/Newsroom/Press-Statements-Transcripts-and-Photos/2020/03/170320_Advisory-for-Singaporean-Students-Studying-Overseas\" target=\"_blank\" title=\"\">Advisory for Singaporean Students Studying Overseas</a> - Ministry of Foreign Affairs (MFA) / Ministry of Education (MOE)</span></span>,\n",
       " <span style=\"font-size: 16px;\"><a class=\"\" href=\"https://www.mfa.gov.sg/Newsroom/Press-Statements-Transcripts-and-Photos/2020/03/170320_Advisory-for-Singaporean-Students-Studying-Overseas\" target=\"_blank\" title=\"\">Advisory for Singaporean Students Studying Overseas</a> - Ministry of Foreign Affairs (MFA) / Ministry of Education (MOE)</span>,\n",
       " <span style=\"font-family: Arial; font-size: 16px;\">17 Mar 2020</span>,\n",
       " <span style=\"font-family: Arial; font-size: 16px;\"><a href=\"https://www.mom.gov.sg/newsroom/press-releases/2020/0317-accommodating-workers-affected-by-lockdown-in-malaysia\" target=\"_blank\" title=\"\">Accommodating Workers Affected by Lockdown in Malaysia</a> - Ministry of Manpower (MOM) </span>,\n",
       " <span style=\"font-family: Arial; font-size: 16px;\">16 Mar 2020</span>,\n",
       " <span style=\"font-family: Arial; font-size: 16px;\"><a href=\"https://www-moh-gov-sg-admin.cwp.sg/covid-19/health-clearance\" target=\"_blank\">Health Clearance Requirements for Entry to Singapore in view of COVID-19 Situation</a> </span>,\n",
       " <span style=\"font-family: Arial; font-size: 16px;\">16 Mar 2020</span>,\n",
       " <span style=\"font-family: Arial; font-size: 16px;\"><a class=\"\" href=\"https://www.mom.gov.sg/covid-19/advisory-on-non-essential-travel \" target=\"_blank\" title=\"\">[Updated] Advisory for Employers on Employees’ Non-essential Travel in Response to Updated Travel Advisory (COVID-19)</a> - Ministry of Manpower (MOM) </span>,\n",
       " <span style=\"font-family: Arial; font-size: 16px;\">16 Mar 2020</span>,\n",
       " <span style=\"font-family: Arial; font-size: 16px;\"><a class=\"\" href=\"https://www.moh.gov.sg/news-highlights/details/four-more-cases-discharged-seventeen-new-cases-of-covid-19-infection-confirmed\" target=\"\" title=\"\">Four More Cases Discharged; Seventeen New Cases of COVID-19 Infection Confirmed</a></span>,\n",
       " <span style=\"font-family: Arial; font-size: 16px;\">16 Mar 2020</span>,\n",
       " <span style=\"font-family: Arial;\"><span style=\"font-size: 16px;\"><a href=\"https://www.muis.gov.sg/Media/Media-Releases/16-Mar-20-Media-Statement-on-Extension-of-Temporary-Closure-of-Mosques\" target=\"_blank\" title=\"\">Media Statement on Extension of Temporary Closure of Mosques</a>-Islamic Religious Council of Singapore (MUIS)</span></span>,\n",
       " <span style=\"font-size: 16px;\"><a href=\"https://www.muis.gov.sg/Media/Media-Releases/16-Mar-20-Media-Statement-on-Extension-of-Temporary-Closure-of-Mosques\" target=\"_blank\" title=\"\">Media Statement on Extension of Temporary Closure of Mosques</a>-Islamic Religious Council of Singapore (MUIS)</span>,\n",
       " <span style=\"font-family: Arial; font-size: 16px;\">16 Mar 2020</span>,\n",
       " <span style=\"font-family: Arial;\"><span style=\"font-size: 16px;\"><a href=\"https://www.mfa.gov.sg/Newsroom/Press-Statements-Transcripts-and-Photos/2020/03/160320_Singapore-cooperation-with-Indonesia-on-COVID-19\" target=\"_blank\" title=\"\">MFA's Spokesperson's Comments on Singapore's Cooperation with Indonesia on COVID-19</a> - Ministry of Foreign Affairs</span></span>,\n",
       " <span style=\"font-size: 16px;\"><a href=\"https://www.mfa.gov.sg/Newsroom/Press-Statements-Transcripts-and-Photos/2020/03/160320_Singapore-cooperation-with-Indonesia-on-COVID-19\" target=\"_blank\" title=\"\">MFA's Spokesperson's Comments on Singapore's Cooperation with Indonesia on COVID-19</a> - Ministry of Foreign Affairs</span>,\n",
       " <span style=\"font-family: Arial; font-size: 16px;\">16 Mar 2020</span>,\n",
       " <span style=\"font-family: Arial; font-size: 16px;\"><a class=\"\" href=\"https://www.ecda.gov.sg/PressReleases/Pages/Temporary-Closure-of-MY-World-Preschool-Ltd-(52-Lengkok-Bahru).aspx \" target=\"_blank\" title=\"\">Temporary Closure of MY World Preschool Ltd (52 Lengkok Bahru)</a> - Early Childhood Development Agency (ECDA)</span>,\n",
       " <span style=\"font-family: Arial; font-size: 16px;\">16 Mar 2020</span>,\n",
       " <span style=\"font-family: Arial; font-size: 16px;\"><a class=\"\" href=\"https://www.sgpc.gov.sg/media_releases/mnd/speech/S-20200315-2 \" target=\"_blank\" title=\"\">Remarks by Mr Lawrence Wong, Minister for National Development, at Media Doorstop, 15 March 2020, 4.00pm at National Press Centre</a></span>,\n",
       " <span style=\"font-family: Arial; font-size: 16px;\"></span>,\n",
       " <span style=\"font-family: Arial; font-size: 16px;\">15 Mar 2020</span>,\n",
       " <span style=\"font-family: Arial; font-size: 16px;\"><a class=\"\" href=\"https://www.mom.gov.sg/newsroom/press-releases/2020/0315-mom-entry-approval-and-shn-extended-to-asean-countries-japan-switzerland-united-kingdom\" target=\"_blank\" title=\"\"><span style=\"font-family: Arial; font-size: 16px;\">Entry Approval and SHN Extended to ASEAN, Japan, Switzerland and the UK</span></a> - Ministry of Mapower (MOM)</span>,\n",
       " <span style=\"font-family: Arial; font-size: 16px;\">Entry Approval and SHN Extended to ASEAN, Japan, Switzerland and the UK</span>,\n",
       " <span style=\"font-family: Arial; font-size: 16px;\">15 Mar 2020</span>,\n",
       " <span style=\"font-family: Arial;\"><span style=\"font-size: 16px;\"><a class=\"\" href=\"https://www.sportsingapore.gov.sg/Newsroom/Media-Releases/2020/Considering-its-patrons%e2%80%99-safety-and-wellbeing,-SportSG-enhances-precautionary-measures \" target=\"_blank\" title=\"\"><span style=\"font-family: Arial; font-size: 16px;\"></span><span style=\"font-family: Arial;\"><span style=\"font-size: 16px;\">Considering its patrons’ safety and wellbeing, SportSG enhances precautionary measures - Sport Singapore</span></span></a> (SportSG)</span></span>,\n",
       " <span style=\"font-size: 16px;\"><a class=\"\" href=\"https://www.sportsingapore.gov.sg/Newsroom/Media-Releases/2020/Considering-its-patrons%e2%80%99-safety-and-wellbeing,-SportSG-enhances-precautionary-measures \" target=\"_blank\" title=\"\"><span style=\"font-family: Arial; font-size: 16px;\"></span><span style=\"font-family: Arial;\"><span style=\"font-size: 16px;\">Considering its patrons’ safety and wellbeing, SportSG enhances precautionary measures - Sport Singapore</span></span></a> (SportSG)</span>,\n",
       " <span style=\"font-family: Arial; font-size: 16px;\"></span>,\n",
       " <span style=\"font-family: Arial;\"><span style=\"font-size: 16px;\">Considering its patrons’ safety and wellbeing, SportSG enhances precautionary measures - Sport Singapore</span></span>,\n",
       " <span style=\"font-size: 16px;\">Considering its patrons’ safety and wellbeing, SportSG enhances precautionary measures - Sport Singapore</span>,\n",
       " <span style=\"font-family: Arial; font-size: 16px;\">15 Mar 2020</span>,\n",
       " <span style=\"font-family: Arial; font-size: 16px;\"><a class=\"\" href=\"https://www.moh.gov.sg/news-highlights/details/fourteen-new-cases-of-covid-19-infection-confirmed \" target=\"_blank\" title=\"\"><span style=\"font-family: Arial; font-size: 16px;\"></span><span style=\"font-family: Arial; font-size: 16px;\">Fourteen New Cases of COVID-19 Infection Confirmed</span></a></span>,\n",
       " <span style=\"font-family: Arial; font-size: 16px;\"></span>,\n",
       " <span style=\"font-family: Arial; font-size: 16px;\">Fourteen New Cases of COVID-19 Infection Confirmed</span>,\n",
       " <span style=\"font-family: Arial; font-size: 16px;\">15 Mar 2020</span>,\n",
       " <span style=\"font-family: Arial; font-size: 16px;\"><a class=\"\" href=\"https://www.moe.gov.sg/news/press-releases/institutes-of-higher-learning-to-suspend-all-official-overseas-placements \" target=\"_blank\" title=\"\">Institutes of Higher Learning to Suspend All Official Overseas Placements</a> - Ministry of Education (MOE)</span>,\n",
       " <span style=\"font-family: Arial; font-size: 16px;\">15 Mar 2020</span>,\n",
       " <span style=\"font-family: Arial;\"><span style=\"font-size: 16px;\"><a href=\"https://www.mom.gov.sg/newsroom/press-releases/2020/0315-entry-approval-and-shn-requirements-for-all-new-and-returning-foreign-domestic-workers\" target=\"_blank\" title=\"\">Entry Approval and Stay-Home Notice Requirements for all New and Returning Foreign Domestic Workers</a> - Ministry of Manpower (MOM)</span></span>,\n",
       " <span style=\"font-size: 16px;\"><a href=\"https://www.mom.gov.sg/newsroom/press-releases/2020/0315-entry-approval-and-shn-requirements-for-all-new-and-returning-foreign-domestic-workers\" target=\"_blank\" title=\"\">Entry Approval and Stay-Home Notice Requirements for all New and Returning Foreign Domestic Workers</a> - Ministry of Manpower (MOM)</span>,\n",
       " <span style=\"font-family: Arial; font-size: 16px;\">15 Mar 2020</span>,\n",
       " <span style=\"font-family: Arial; font-size: 16px;\"><a href=\"https://www.moh.gov.sg/news-highlights/details/additional-precautionary-measures-to-prevent-further-importation-of-covid-19-cases\" target=\"_blank\" title=\"\">Additional Precautionary Measures to Prevent Further Importation of COVID-19 Cases</a> </span>,\n",
       " <span style=\"font-family: Arial; font-size: 16px;\">15 Mar 2020</span>,\n",
       " <span style=\"font-family: Arial; font-size: 16px;\"><a class=\"\" href=\"http://www.muis.gov.sg/Media/Media-Releases/15-Mar-20-Muis-Advisory-for-General-Muslim-Public\" target=\"\" title=\"\">MUIS Advisory for General Muslim Public</a></span>,\n",
       " <span style=\"font-family: Arial; font-size: 16px;\">14 Mar 2020</span>,\n",
       " <span style=\"font-family: Arial; font-size: 16px;\"><a class=\"\" href=\"https://www.moh.gov.sg/news-highlights/details/eight-more-cases-discharged-twelve-new-cases-of-covid-19-infection-confirmed \" target=\"_blank\" title=\"\"><span style=\"font-family: Arial; font-size: 16px;\"></span><span style=\"font-family: Arial; font-size: 16px;\">Eight More Case Discharged; Twelve New Cases of COVID-19 Infection Confirmed</span></a></span>,\n",
       " <span style=\"font-family: Arial; font-size: 16px;\"></span>,\n",
       " <span style=\"font-family: Arial; font-size: 16px;\">Eight More Case Discharged; Twelve New Cases of COVID-19 Infection Confirmed</span>,\n",
       " <span style=\"font-family: Arial; font-size: 16px;\">14 Mar 2020</span>,\n",
       " <span style=\"font-family: Arial; font-size: 16px;\"><a class=\"\" href=\"https://www.mom.gov.sg/covid-19/advisory-on-social-distancing-measures\" target=\"_blank\" title=\"\">Advisory on Social Distancing Measures at Workplace</a> - Ministry of Manpower (MOM)</span>,\n",
       " <span style=\"font-family: Arial; font-size: 16px;\">13 Mar 2020</span>,\n",
       " <span style=\"font-family: Arial;\"><span style=\"font-size: 16px;\"><a class=\"\" href=\"https://www.ecda.gov.sg/PressReleases/Pages/Advisory-to-Parents-Keeping-Our-Children-in-Preschools-Safe-Against-COVID-19.aspx \" target=\"_blank\" title=\"\">Advisory to Parents: Keeping Our Children in Preschools Safe Against COVID-19</a> - Early Childhood Development Agency (ECDA)</span></span>,\n",
       " <span style=\"font-size: 16px;\"><a class=\"\" href=\"https://www.ecda.gov.sg/PressReleases/Pages/Advisory-to-Parents-Keeping-Our-Children-in-Preschools-Safe-Against-COVID-19.aspx \" target=\"_blank\" title=\"\">Advisory to Parents: Keeping Our Children in Preschools Safe Against COVID-19</a> - Early Childhood Development Agency (ECDA)</span>,\n",
       " <span style=\"font-family: Arial; font-size: 16px;\">13 Mar 2020</span>,\n",
       " <span style=\"font-family: Arial; font-size: 16px;\">One More Case Discharged, Thirteen New Cases of COVID-19 Infection Confirmed</span>,\n",
       " <span style=\"font-family: Arial; font-size: 16px;\">13 Mar 2020</span>,\n",
       " <span style=\"font-family: Arial;\"><span style=\"font-size: 16px;\"><strong>[Updated] </strong><a href=\"/docs/librariesprovider5/2019-ncov/moh-health-advisory-for-persons-issued-stay-home-notice-(updated-13-mar)-(1530h).pdf?sfvrsn=d8987962_0\" target=\"_blank\" title=\"MOH Health Advisory for Persons Issued Stay-Home Notice (updated 13 Mar) (1530h)\">MOH Health Advisory for Persons Issued Stay-Home Notice</a></span></span>,\n",
       " <span style=\"font-size: 16px;\"><strong>[Updated] </strong><a href=\"/docs/librariesprovider5/2019-ncov/moh-health-advisory-for-persons-issued-stay-home-notice-(updated-13-mar)-(1530h).pdf?sfvrsn=d8987962_0\" target=\"_blank\" title=\"MOH Health Advisory for Persons Issued Stay-Home Notice (updated 13 Mar) (1530h)\">MOH Health Advisory for Persons Issued Stay-Home Notice</a></span>,\n",
       " <span style=\"font-family: Arial; font-size: 16px;\">13 Mar 2020</span>,\n",
       " <span style=\"font-family: Arial; font-size: 16px;\"><a class=\"\" href=\"https://www.mpa.gov.sg/web/portal/home/port-of-singapore/circulars-and-notices/detail/d9ac0919-71f0-4095-90cc-3342895d3f3e\" target=\"_blank\" title=\"\">Extension of Precautionary Measures to Minimise Risk of Community Spread of the Coronavirus Disease 2019 (COVID-19) in Singapore</a> - Maritime and Port Authority of Singapore (MPA)</span>,\n",
       " <span style=\"font-family: Arial; font-size: 16px;\">13 Mar 2020</span>,\n",
       " <span style=\"font-family: Arial; font-size: 16px;\">Speech by Mr Lawrence Wong, Minister for National Development, at COVID-19 Press Conference, 13 Mar 2020, 11.00am at National Press Centre</span>,\n",
       " <span style=\"font-family: Arial; font-size: 16px;\">13 Mar 2020</span>,\n",
       " <span style=\"font-family: Arial; font-size: 16px;\">Additional Precautionary Measures to Prevent Further Importation and Spread of COVID-19 Cases</span>,\n",
       " <span style=\"font-family: Arial; font-size: 16px;\">12 Mar 2020</span>,\n",
       " <span style=\"font-family: Arial; font-size: 16px;\"><a class=\"\" href=\"https://www.pmo.gov.sg/Newsroom/PM-Lee-remarks-COVID-19-Outbreak-12-Mar-2020\" target=\"\" title=\"\">PM Lee Hsien Loong's remarks in English, Chinese and Malay on the Coronavirus Disease 2019 (COVID-19) situation in Singapore, delivered on 12 March 2020</a></span>,\n",
       " <span style=\"font-family: Arial; font-size: 16px;\">12 Mar 2020</span>,\n",
       " <span style=\"font-family: Arial; font-size: 16px;\"><a class=\"\" href=\"https://www.muis.gov.sg/Media/Media-Releases/12-Mar-20-Media-Statement-on-Temporary-Closure-of-Mosques\" target=\"\" title=\"\">Media Statement on Temporary Closure of Mosques and Suspension of Mosque Activities</a> - </span>,\n",
       " <span style=\"font-family: Arial; font-size: 16px;\">Masjid Ugama Islam Singapure (MUIS)</span>,\n",
       " <span style=\"font-family: Arial; font-size: 16px;\">12 Mar 2020</span>,\n",
       " <span style=\"font-family: Arial; font-size: 16px;\"><a class=\"\" href=\"https://www.moh.gov.sg/news-highlights/details/nine-new-cases-of-covid-19-infection-confirmed\" target=\"\" title=\"\">Nine More Cases of COVID-19 Infection Confirmed</a></span>,\n",
       " <span style=\"font-family: Arial; font-size: 16px;\">12 Mar 2020</span>,\n",
       " <span style=\"font-family: Arial; font-size: 16px;\"><a class=\"\" href=\"http://www.sgpc.gov.sg/media_releases/enterprise-sg/press_release/P-20200312-1\" target=\"\" title=\"\">SG Clean Quality Mark Extended to Tourism and Lifestyle Business as Part of Nationwide Efforts to Uplift Sanitation and Hygiene</a> - Enterprise Singapore (ESG), Singapore Tourism Board (STB)</span>,\n",
       " <span style=\"font-family: Arial; font-size: 16px;\">12 Mar 2020</span>,\n",
       " <span style=\"font-family: Arial;\"><span style=\"font-size: 16px;\"><a class=\"\" href=\"https://www.mfa.gov.sg/Newsroom/Press-Statements-Transcripts-and-Photos/2020/03/110320_MinFA-CNBC-Interview\" target=\"_blank\" title=\"\">Minister for Foreign Affairs Dr Vivian Balakrishnan's Live Interview with CNBC Asia's Squawk Box Asia, 11 Mar 2020</a> - MFA </span></span>,\n",
       " <span style=\"font-size: 16px;\"><a class=\"\" href=\"https://www.mfa.gov.sg/Newsroom/Press-Statements-Transcripts-and-Photos/2020/03/110320_MinFA-CNBC-Interview\" target=\"_blank\" title=\"\">Minister for Foreign Affairs Dr Vivian Balakrishnan's Live Interview with CNBC Asia's Squawk Box Asia, 11 Mar 2020</a> - MFA </span>,\n",
       " <span style=\"font-size: 16px; font-family: Arial;\">11 Mar 2020</span>,\n",
       " <span style=\"font-family: Arial; font-size: 16px;\"><a class=\"\" href=\"http://www.mom.gov.sg/newsroom/press-releases/2020/0311-tripartite-partners-update-advisory-on-managing-excess-manpower-and-responsible-retrenchment\" target=\"\" title=\"\">Tripartite Partners Update Advisory on Managing Excess Manpower and Responsible Retrenchment in View of COVID-19</a> - Ministry of Manpower (MOM), National Trades Union Congress (NTUC), and the Singapore National Employers Federation (SNEF)</span>,\n",
       " <span style=\"font-family: Arial; font-size: 16px;\">11 Mar 2020</span>,\n",
       " <span style=\"font-family: Arial;\"><span style=\"font-size: 16px;\"><a class=\"\" href=\"https://www.mindef.gov.sg/web/portal/mindef/news-and-events/latest-releases/article-detail/2020/March/11mar20_nr\" target=\"_blank\" title=\"\">Update on COVID-19 – Case 165, 169, 173 and 175</a> - Ministry of Defence (MINDEF) </span></span>,\n",
       " <span style=\"font-size: 16px;\"><a class=\"\" href=\"https://www.mindef.gov.sg/web/portal/mindef/news-and-events/latest-releases/article-detail/2020/March/11mar20_nr\" target=\"_blank\" title=\"\">Update on COVID-19 – Case 165, 169, 173 and 175</a> - Ministry of Defence (MINDEF) </span>,\n",
       " <span style=\"font-family: Arial; font-size: 16px;\">11 Mar 2020</span>,\n",
       " <span style=\"font-family: Arial; font-size: 16px;\"><a class=\"\" href=\"https://www.moh.gov.sg/news-highlights/details/three-more-cases-discharged-twelve-new-cases-of-covid-19-infection-confirmed\" target=\"_blank\" title=\"\">Three More Cases Discharged; Twelve More Cases of COVID-19 Infections Confirmed</a> </span>,\n",
       " <span style=\"font-family: Arial; font-size: 16px;\">11 Mar 2020</span>,\n",
       " <span style=\"font-family: Arial; font-size: 16px;\"><strong><strong><a href=\"/docs/librariesprovider5/2019-ncov/moh-health-advisory-for-persons-issued-stay-home-notice-(updated-11-mar-2020).pdf?sfvrsn=73c856b4_0\">[Updated]</a> </strong></strong><a href=\"/docs/librariesprovider5/2019-ncov/moh-health-advisory-for-persons-issued-stay-home-notice-(updated-11-mar-2020).pdf?sfvrsn=73c856b4_0\">Health Advisory for Persons Issued Stay-Home Notice</a><br/></span>,\n",
       " <span style=\"font-family: Arial; font-size: 16px;\"><a href=\"/docs/librariesprovider5/2019-ncov/advisory-for-individuals-sharing-residential-spaces-with-people-issued-stay-home-notice-(updated-11-mar-2020).pdf?sfvrsn=577f8557_0\"><strong>[Updated] </strong>Advisory</a> <a href=\"/docs/librariesprovider5/2019-ncov/advisory-for-individuals-sharing-residential-spaces-with-people-issued-stay-home-notice-(updated-11-mar-2020).pdf?sfvrsn=577f8557_0\">for Individuals Sharing Residential Spaces with Persons Issued Stay-Home Notice</a><br/></span>,\n",
       " <span style=\"font-family: Arial; font-size: 16px;\">10 Mar 2020</span>,\n",
       " <span style=\"font-family: Arial; font-size: 16px;\"><a class=\"\" href=\"https://www.caas.gov.sg/about-caas/newsroom/Detail/measures-for-business-aviation-aircraft-entering-singapore-under-current-context-of-covid-19/\" target=\"_blank\" title=\"\">Measures for Business Aviation Aircraft Entering Singapore under Current Context of COVID-19</a> - Civil Aviation Authority of Singapore (CAAS)</span>,\n",
       " <span style=\"font-family: Arial; font-size: 16px;\">10 Mar 2020</span>,\n",
       " <span style=\"font-family: Arial;\"><span style=\"font-size: 16px;\"><strong><a href=\"https://www.nea.gov.sg/our-services/public-cleanliness/environmental-cleaning-guidelines/guidelines/guidelines-for-environmental-cleaning-and-disinfection \" target=\"_blank\" title=\"\">[Updated]</a> </strong><a href=\"https://www.nea.gov.sg/our-services/public-cleanliness/environmental-cleaning-guidelines/guidelines/guidelines-for-environmental-cleaning-and-disinfection \" target=\"_blank\" title=\"\">Interim Guidelines for Environmental Cleaning and Disinfection of Areas Exposed to Confirmed Case(s) of COVID-19 in Non-Healthcare Premises</a>- National Environment Agency (NEA)</span></span>,\n",
       " <span style=\"font-size: 16px;\"><strong><a href=\"https://www.nea.gov.sg/our-services/public-cleanliness/environmental-cleaning-guidelines/guidelines/guidelines-for-environmental-cleaning-and-disinfection \" target=\"_blank\" title=\"\">[Updated]</a> </strong><a href=\"https://www.nea.gov.sg/our-services/public-cleanliness/environmental-cleaning-guidelines/guidelines/guidelines-for-environmental-cleaning-and-disinfection \" target=\"_blank\" title=\"\">Interim Guidelines for Environmental Cleaning and Disinfection of Areas Exposed to Confirmed Case(s) of COVID-19 in Non-Healthcare Premises</a>- National Environment Agency (NEA)</span>,\n",
       " <span style=\"font-family: Arial; font-size: 16px;\">10 Mar 2020</span>,\n",
       " <span style=\"font-family: Arial; font-size: 16px;\"><a href=\"https://www.mpa.gov.sg/web/portal/home/media-centre/news-releases/detail/aab08f69-6eb0-4454-b839-a62f903a24af\" target=\"\" title=\"\">Third Joint Statement by MOH, MPA and STB:  Precautionary Measures Taken for Cruise Ship's Scheduled Call at Singapore</a> </span>,\n",
       " <span style=\"font-family: Arial; font-size: 16px;\">10 Mar 2020</span>,\n",
       " <span style=\"font-family: Arial; font-size: 16px;\"><a class=\"\" href=\"https://www.sgpc.gov.sg/media_releases/mnd/speech/S-20200310-1 \" target=\"_blank\" title=\"\">Remarks by Minister Lawrence Wong, Co-chair of the Multi-Ministry Taskforce on COVID-19, at Press Conference at National Press Centre on 10 March 2020</a></span>,\n",
       " <span style=\"font-family: Arial; font-size: 16px;\">10 Mar 2020</span>,\n",
       " <span style=\"font-family: Arial;\"><span style=\"font-size: 16px;\"><a href=\"https://www.moh.gov.sg/news-highlights/details/six-new-cases-of-covid-19-infection-confirmed\" target=\"_blank\" title=\"\">Six</a><a class=\"\" href=\"https://www.moh.gov.sg/news-highlights/details/six-new-cases-of-covid-19-infection-confirmed\" target=\"_blank\" title=\"\"> New Cases of COVID-19 Infection Confirmed</a></span></span>,\n",
       " <span style=\"font-size: 16px;\"><a href=\"https://www.moh.gov.sg/news-highlights/details/six-new-cases-of-covid-19-infection-confirmed\" target=\"_blank\" title=\"\">Six</a><a class=\"\" href=\"https://www.moh.gov.sg/news-highlights/details/six-new-cases-of-covid-19-infection-confirmed\" target=\"_blank\" title=\"\"> New Cases of COVID-19 Infection Confirmed</a></span>,\n",
       " <span style=\"font-family: Arial; font-size: 16px;\">10 Mar 2020</span>,\n",
       " <span style=\"font-family: Arial; font-size: 16px;\">Second Joint Statement by MOH, MPA and STB: Precautionary Measures Taken for Cruise Ship's Scheduled Call at Singapore</span>,\n",
       " <span style=\"font-family: Arial; font-size: 16px;\">10 Mar 2020</span>,\n",
       " <span style=\"font-family: Arial; font-size: 16px;\">Additional Precautionary Measures to Protect Our Seniors</span>,\n",
       " <span style=\"font-family: Arial; font-size: 16px;\">9 Mar 2020</span>,\n",
       " <span style=\"font-family: Arial;\"><span style=\"font-size: 16px;\"><a class=\"\" href=\"https://www.moh.gov.sg/news-highlights/details/joint-statement-by-moh-mpa-and-stb-precautionary-measures-taken-for-cruise-ship-s-scheduled-call-at-singapore\" target=\"\" title=\"\"><span style=\"font-family: Arial;\"><span style=\"font-size: 16px;\"></span></span></a><a href=\"https://www.moh.gov.sg/news-highlights/details/joint-statement-by-moh-mpa-and-stb-precautionary-measures-taken-for-cruise-ship-s-scheduled-call-at-singapore\" target=\"\" title=\"\">J</a><a href=\"https://www.moh.gov.sg/news-highlights/details/joint-statement-by-moh-mpa-and-stb-precautionary-measures-taken-for-cruise-ship-s-scheduled-call-at-singapore\" target=\"\" title=\"\">oint Statement by MOH, MPA and STB: Precautionary Measures Taken For Cruise Ship's Scheduled Call At Singapore</a></span></span>,\n",
       " <span style=\"font-size: 16px;\"><a class=\"\" href=\"https://www.moh.gov.sg/news-highlights/details/joint-statement-by-moh-mpa-and-stb-precautionary-measures-taken-for-cruise-ship-s-scheduled-call-at-singapore\" target=\"\" title=\"\"><span style=\"font-family: Arial;\"><span style=\"font-size: 16px;\"></span></span></a><a href=\"https://www.moh.gov.sg/news-highlights/details/joint-statement-by-moh-mpa-and-stb-precautionary-measures-taken-for-cruise-ship-s-scheduled-call-at-singapore\" target=\"\" title=\"\">J</a><a href=\"https://www.moh.gov.sg/news-highlights/details/joint-statement-by-moh-mpa-and-stb-precautionary-measures-taken-for-cruise-ship-s-scheduled-call-at-singapore\" target=\"\" title=\"\">oint Statement by MOH, MPA and STB: Precautionary Measures Taken For Cruise Ship's Scheduled Call At Singapore</a></span>,\n",
       " <span style=\"font-family: Arial;\"><span style=\"font-size: 16px;\"></span></span>,\n",
       " <span style=\"font-size: 16px;\"></span>,\n",
       " <span style=\"font-family: Arial; font-size: 16px;\">9 Mar 2020</span>,\n",
       " <span style=\"font-family: Arial; font-size: 16px;\"><a class=\"\" href=\"https://www.moh.gov.sg/news-highlights/details/three-more-cases-discharged-ten-new-cases-of-covid-19-infection-confirmed\" target=\"\" title=\"\"><span style=\"font-family: Arial; font-size: 16px;\">Three More Cases Discharged; Ten New Cases of COVID-19 Infection Confirmed</span></a></span>,\n",
       " <span style=\"font-family: Arial; font-size: 16px;\">Three More Cases Discharged; Ten New Cases of COVID-19 Infection Confirmed</span>,\n",
       " <span style=\"font-family: Arial; font-size: 16px;\">8 Mar 2020</span>,\n",
       " <span style=\"font-family: Arial; font-size: 16px;\"><a class=\"\" href=\"https://www.moh.gov.sg/news-highlights/details/twelve-new-cases-of-covid-19-infection-confirmed\" target=\"_blank\" title=\"\">Twelve New Cases of COVID-19 Infection Confirmed</a></span>,\n",
       " <span style=\"font-family: Arial; font-size: 16px;\">7 Mar 2020</span>,\n",
       " <span style=\"font-family: Arial; font-size: 16px;\"><a class=\"\" href=\"https://www.moh.gov.sg/news-highlights/details/eight-more-cases-discharged-eight-more-cases-of-covid-19-infection-confirmed\" target=\"_blank\" title=\"\">Eight More Cases Discharged; Eight New Cases of COVID-19 Infection Confirmed</a></span>,\n",
       " <span style=\"font-family: Arial; font-size: 16px;\">6 Mar 2020</span>,\n",
       " <span style=\"font-family: Arial;\"><span style=\"font-size: 16px;\"><a class=\"\" href=\"https://www.sgpc.gov.sg/media_releases/mewr/press_release/P-20200306-2\" target=\"_blank\" title=\"\">SG Clean Taskforce to Galvanise Collective Action to Raise Standards of Hygiene and Cleanliness in Singapore</a> - Ministry of the Environment and Water Resources (MEWR)</span></span>,\n",
       " <span style=\"font-size: 16px;\"><a class=\"\" href=\"https://www.sgpc.gov.sg/media_releases/mewr/press_release/P-20200306-2\" target=\"_blank\" title=\"\">SG Clean Taskforce to Galvanise Collective Action to Raise Standards of Hygiene and Cleanliness in Singapore</a> - Ministry of the Environment and Water Resources (MEWR)</span>,\n",
       " <span style=\"font-family: Arial; font-size: 16px;\">6 Mar 2020</span>,\n",
       " <span style=\"font-family: Arial; font-size: 16px;\">One More Case Discharged, Thirteen New Cases of COVID-19 Infection Confirmed</span>,\n",
       " <span style=\"font-family: Arial; font-size: 16px;\">6 Mar 2020</span>,\n",
       " <span style=\"font-family: Arial; font-size: 16px;\"><a class=\"\" href=\"https://www.sgpc.gov.sg/media_releases/mnd/speech/S-20200306-2 \" target=\"_blank\" title=\"\">Remarks by Minister Lawrence Wong, Co-chair of the Multi-Ministry Taskforce on COVID-19, at Press Conference at National Press Centre on 6 March 2020</a></span>,\n",
       " <span style=\"font-family: Arial; font-size: 16px;\">5 Mar 2020</span>,\n",
       " <span style=\"font-family: Arial;\"><span style=\"font-size: 16px;\"><span style=\"font-family: Arial; font-size: 16px;\"><a class=\"\" href=\"https://www.sfa.gov.sg/docs/default-source/default-document-library/covid-related-faqs-for-food-industry.pdf\" target=\"_blank\" title=\"\"><span style=\"font-family: Arial;\"><span style=\"font-size: 16px;\"><span style=\"font-family: Arial; font-size: 16px;\">COVID-19 FAQs for the Food Industry</span></span></span></a></span> - Singapore Food Agency (SFA)</span></span>,\n",
       " <span style=\"font-size: 16px;\"><span style=\"font-family: Arial; font-size: 16px;\"><a class=\"\" href=\"https://www.sfa.gov.sg/docs/default-source/default-document-library/covid-related-faqs-for-food-industry.pdf\" target=\"_blank\" title=\"\"><span style=\"font-family: Arial;\"><span style=\"font-size: 16px;\"><span style=\"font-family: Arial; font-size: 16px;\">COVID-19 FAQs for the Food Industry</span></span></span></a></span> - Singapore Food Agency (SFA)</span>,\n",
       " <span style=\"font-family: Arial; font-size: 16px;\"><a class=\"\" href=\"https://www.sfa.gov.sg/docs/default-source/default-document-library/covid-related-faqs-for-food-industry.pdf\" target=\"_blank\" title=\"\"><span style=\"font-family: Arial;\"><span style=\"font-size: 16px;\"><span style=\"font-family: Arial; font-size: 16px;\">COVID-19 FAQs for the Food Industry</span></span></span></a></span>,\n",
       " <span style=\"font-family: Arial;\"><span style=\"font-size: 16px;\"><span style=\"font-family: Arial; font-size: 16px;\">COVID-19 FAQs for the Food Industry</span></span></span>,\n",
       " <span style=\"font-size: 16px;\"><span style=\"font-family: Arial; font-size: 16px;\">COVID-19 FAQs for the Food Industry</span></span>,\n",
       " <span style=\"font-family: Arial; font-size: 16px;\">COVID-19 FAQs for the Food Industry</span>,\n",
       " <span style=\"font-size: 16px; font-family: Arial;\">5 Mar 2020</span>,\n",
       " <span style=\"font-size: 16px;\"><a class=\"\" href=\"https://www.moh.gov.sg/news-highlights/details/two-more-cases-discharged-five-new-cases-of-covid-19-infection-confirmed\" target=\"\" title=\"\"><font face=\"Arial\"><span style=\"font-size: 16px;\">Two More Cases Discharged; Five New Cases of COVID-19 Infection Confirmed</span></font></a></span>,\n",
       " <span style=\"font-size: 16px;\">Two More Cases Discharged; Five New Cases of COVID-19 Infection Confirmed</span>,\n",
       " <span style=\"font-family: Arial; font-size: 16px;\">4 Mar 2020</span>,\n",
       " <span style=\"font-family: Arial;\"><span style=\"font-size: 16px;\"><a href=\"https://www.ecda.gov.sg/PressReleases/Pages/Temporary-Closure-Of-Creative-O-Preschoolers-Bay.aspx\" target=\"_blank\" title=\"\">Temporary Closure Of Creative O Preschoolers' Bay</a> - Early Childhood Development Agency (ECDA)</span></span>,\n",
       " <span style=\"font-size: 16px;\"><a href=\"https://www.ecda.gov.sg/PressReleases/Pages/Temporary-Closure-Of-Creative-O-Preschoolers-Bay.aspx\" target=\"_blank\" title=\"\">Temporary Closure Of Creative O Preschoolers' Bay</a> - Early Childhood Development Agency (ECDA)</span>,\n",
       " <span style=\"font-family: Arial; font-size: 16px;\">4 Mar 2020</span>,\n",
       " <span style=\"font-family: Arial; font-size: 16px;\"><a class=\"\" href=\"https://www.moh.gov.sg/news-highlights/details/one-more-case-discharged-two-new-cases-of-covid-19-infection-confirmed\" target=\"_blank\" title=\"\">One More Case Discharged; Two New Cases of COVID-19 Infection Confirmed</a></span>,\n",
       " <span style=\"font-family: Arial; font-size: 16px;\">4 Mar 2020</span>,\n",
       " <span style=\"font-family: Arial;\"><span style=\"font-size: 16px;\"><a href=\"https://www.mom.gov.sg/covid-19/advisory-for-employers-and-employees-travelling-to-and-from-affected-areas\" target=\"_blank\" title=\"\">Advisory for employers and employees travelling to and from affected areas in response to increase in cases of COVID-19</a> - Ministry of Manpower (MOM, updated on 4 Mar) </span></span>,\n",
       " <span style=\"font-size: 16px;\"><a href=\"https://www.mom.gov.sg/covid-19/advisory-for-employers-and-employees-travelling-to-and-from-affected-areas\" target=\"_blank\" title=\"\">Advisory for employers and employees travelling to and from affected areas in response to increase in cases of COVID-19</a> - Ministry of Manpower (MOM, updated on 4 Mar) </span>,\n",
       " <span style=\"font-family: Arial; font-size: 16px;\">4 Mar 2020</span>,\n",
       " <span style=\"font-family: Arial;\"><span style=\"font-size: 16px;\"><span style=\"font-family: Arial; font-size: 16px;\"><a class=\"\" href=\"https://www.mfa.gov.sg/Newsroom/Press-Statements-Transcripts-and-Photos/2020/03/040320_Singapore-assistance-to-Myanmar\" target=\"_blank\" title=\"\">Singapore's Assistance to Myanmar to Fight COVID-19</a></span> - Ministry of Foreign Affairs (MFA) </span></span>,\n",
       " <span style=\"font-size: 16px;\"><span style=\"font-family: Arial; font-size: 16px;\"><a class=\"\" href=\"https://www.mfa.gov.sg/Newsroom/Press-Statements-Transcripts-and-Photos/2020/03/040320_Singapore-assistance-to-Myanmar\" target=\"_blank\" title=\"\">Singapore's Assistance to Myanmar to Fight COVID-19</a></span> - Ministry of Foreign Affairs (MFA) </span>,\n",
       " <span style=\"font-family: Arial; font-size: 16px;\"><a class=\"\" href=\"https://www.mfa.gov.sg/Newsroom/Press-Statements-Transcripts-and-Photos/2020/03/040320_Singapore-assistance-to-Myanmar\" target=\"_blank\" title=\"\">Singapore's Assistance to Myanmar to Fight COVID-19</a></span>,\n",
       " <span style=\"font-family: Arial; font-size: 16px;\">3 Mar 2020</span>,\n",
       " <span style=\"font-family: Arial; font-size: 16px;\">Two New Cases of COVID-19 Infection Confirmed</span>,\n",
       " <span style=\"font-family: Arial; font-size: 16px;\">3 Mar 2020</span>,\n",
       " <span style=\"font-family: Arial;\"><span style=\"font-size: 16px;\"><a class=\"\" href=\"https://www.mom.gov.sg/newsroom/press-releases/2020/0303-mom-entry-approval-and-stay-home-notices-extended-to-more-countries\" target=\"_blank\" title=\"\">MOM Entry Approval and Stay-Home Notice Extended to More Countries</a> - Ministry of Manpower (MOM) </span></span>,\n",
       " <span style=\"font-size: 16px;\"><a class=\"\" href=\"https://www.mom.gov.sg/newsroom/press-releases/2020/0303-mom-entry-approval-and-stay-home-notices-extended-to-more-countries\" target=\"_blank\" title=\"\">MOM Entry Approval and Stay-Home Notice Extended to More Countries</a> - Ministry of Manpower (MOM) </span>,\n",
       " <span style=\"font-family: Arial; font-size: 16px;\">3 Mar 2020</span>,\n",
       " <span style=\"font-family: Arial; font-size: 16px;\">Remarks by Minister Lawrence Wong, Co-chair of the Multi-Ministry Taskforce on Covid-19, at a Media Doorstop at National Press Centre on 3 Mar 2020</span>,\n",
       " <span style=\"font-family: Arial; font-size: 16px;\">3 Mar 2020</span>,\n",
       " <span style=\"font-family: Arial; font-size: 16px;\"><a class=\"\" href=\"https://www.moh.gov.sg/news-highlights/details/additional-precautionary-measures-in-response-to-escalating-global-situation\" target=\"_blank\" title=\"\">Additional Precautionary Measures in Response to Escalating Global Situation</a></span>,\n",
       " <span style=\"font-family: Arial; font-size: 16px;\">2 Mar 2020</span>,\n",
       " <span style=\"font-family: Arial; font-size: 16px;\"><a class=\"\" href=\"https://www.moh.gov.sg/news-highlights/details/four-more-cases-discharged-two-new-cases-of-covid-19-infection-confirmed-2Mar\" target=\"_blank\" title=\"\">Four More Cases Discharged, Two New Cases of COVID-19 Infection Confirmed</a></span>,\n",
       " <span style=\"font-family: Arial; font-size: 16px;\">1 Mar 2020</span>,\n",
       " <span style=\"font-family: Arial; font-size: 16px;\"><a class=\"\" href=\"https://www.moh.gov.sg/news-highlights/details/two-more-cases-discharged-four-new-cases-of-covid-19-infection-confirmed\" target=\"_blank\" title=\"\">Two More Cases Discharged; Four New Cases of COVID-19 Infection Confirmed</a> </span>,\n",
       " <span style=\"font-family: Arial; font-size: 16px;\">1 Mar 2020</span>,\n",
       " <span style=\"font-family: Arial;\"><span style=\"font-size: 16px;\">[Revised] <a class=\"\" href=\"https://www.nea.gov.sg/our-services/public-cleanliness/environmental-cleaning-guidelines/guidelines/interim-list-of-household-products-and-active-ingredients-for-disinfection-of-covid-19\" target=\"_blank\" title=\"\">Interim List of Household Products and Active Ingredients for Disinfection of the COVID-19 Virus</a> - National Environment Agency (NEA) </span></span>,\n",
       " <span style=\"font-size: 16px;\">[Revised] <a class=\"\" href=\"https://www.nea.gov.sg/our-services/public-cleanliness/environmental-cleaning-guidelines/guidelines/interim-list-of-household-products-and-active-ingredients-for-disinfection-of-covid-19\" target=\"_blank\" title=\"\">Interim List of Household Products and Active Ingredients for Disinfection of the COVID-19 Virus</a> - National Environment Agency (NEA) </span>,\n",
       " <span style=\"font-family: Arial; font-size: 16px;\"><strong>Date</strong></span>,\n",
       " <span style=\"font-family: Arial; font-size: 16px;\"><strong>Title</strong></span>,\n",
       " <span style=\"font-family: Arial; font-size: 16px;\">29 Feb 2020</span>,\n",
       " <span style=\"font-family: Arial; font-size: 16px;\"><a class=\"\" href=\"https://www.moh.gov.sg/news-highlights/details/three-more-cases-discharged-four-new-cases-of-covid-19-infection-confirmed\" target=\"_blank\" title=\"\">Three More Cases Discharged; Four New Cases of COVID-19 Infection Confirmed </a> </span>,\n",
       " <span style=\"font-family: Arial; font-size: 16px;\">29 Feb 2020</span>,\n",
       " <span style=\"font-size: 16px; font-family: Arial;\"> Ministry of Manpower (MOM)</span>,\n",
       " <span style=\"font-family: Arial; font-size: 16px;\">28 Feb 2020</span>,\n",
       " <span style=\"font-family: Arial; font-size: 16px;\">Three More Cases Discharged; Two New Cases of COVID-19 Infection Confirmed </span>,\n",
       " <span style=\"font-family: Arial; font-size: 16px;\">28 Feb 2020</span>,\n",
       " <span style=\"font-family: Arial;\"><span style=\"font-size: 16px;\"><a class=\"\" href=\"https://www.mha.gov.sg/newsroom/press-release/news/investigations-into-shincheonji-church-of-jesus-the-temple-of-the-tabernacle-of-the-testimony-in-singapore\" target=\"_blank\" title=\"\">Investigations into Shincheonji Church of Jesus the Temple of the Tabernacle of the Testimony in Singapore</a> - Ministry of Home Affairs (MHA)</span></span>,\n",
       " <span style=\"font-size: 16px;\"><a class=\"\" href=\"https://www.mha.gov.sg/newsroom/press-release/news/investigations-into-shincheonji-church-of-jesus-the-temple-of-the-tabernacle-of-the-testimony-in-singapore\" target=\"_blank\" title=\"\">Investigations into Shincheonji Church of Jesus the Temple of the Tabernacle of the Testimony in Singapore</a> - Ministry of Home Affairs (MHA)</span>,\n",
       " <span style=\"font-family: Arial; font-size: 16px;\">28 Feb 2020</span>,\n",
       " <span style=\"font-size: 16px; vertical-align: sub; font-family: Arial;\"></span>,\n",
       " <span style=\"font-size: 16px; vertical-align: sub; font-family: Arial;\">- Ministry of Manpower (MOM)</span>,\n",
       " <span style=\"font-family: Arial; font-size: 16px;\">27 Feb 2020</span>,\n",
       " <span style=\"font-family: Arial;\"><span style=\"font-size: 16px;\"><a class=\"\" href=\"https://www.sfa.gov.sg/docs/default-source/default-document-library/guidance-document-on-use-of-masks-by-the-food-industry.pdf\" target=\"_blank\" title=\"\">Guidance on Use of Masks by the Food Industry</a> - Singapore Food Agency (SFA) </span></span>,\n",
       " <span style=\"font-size: 16px;\"><a class=\"\" href=\"https://www.sfa.gov.sg/docs/default-source/default-document-library/guidance-document-on-use-of-masks-by-the-food-industry.pdf\" target=\"_blank\" title=\"\">Guidance on Use of Masks by the Food Industry</a> - Singapore Food Agency (SFA) </span>,\n",
       " <span style=\"font-family: Arial; font-size: 16px;\">27 Feb 2020</span>,\n",
       " <span style=\"font-family: Arial; font-size: 16px;\"><a class=\"\" href=\"https://www.mom.gov.sg/covid-19/general-advisory-for-workplace-measures\" target=\"_blank\" title=\"\">General Advisory for Workplace Measures in Response to DORSCON Orange Situation in Singapore</a> - Ministry of Manpower (MOM)</span>,\n",
       " <span style=\"font-family: Arial; font-size: 16px;\">27 Feb 2020</span>,\n",
       " <span style=\"font-family: Arial; font-size: 16px;\"><a class=\"\" href=\"https://www.mom.gov.sg/covid-19/advisory-for-employers-and-employees-travelling-to-and-from-affected-areas\" target=\"_blank\" title=\"\">Advisory for Employers and Employees Travelling to and from Affected Areas in Response to Increase in Cases of COVID-19 </a> -Ministry of Manpower (MOM)</span>,\n",
       " <span style=\"font-family: Arial; font-size: 16px;\">27 Feb 2020</span>,\n",
       " <span style=\"font-family: Arial;\"><span style=\"font-size: 16px;\"><a class=\"\" href=\"https://www.mom.gov.sg/covid-19/general-advisory-for-workplaces-and-frontline-workers\" target=\"_blank\" title=\"\">General Advisory for Workplaces and Frontline Workers in Response to Confirmed Cases of Local Transmission of Coronavirus Disease 2019 in Singapore</a> - Ministry of Manpower (MOM)</span></span>,\n",
       " <span style=\"font-size: 16px;\"><a class=\"\" href=\"https://www.mom.gov.sg/covid-19/general-advisory-for-workplaces-and-frontline-workers\" target=\"_blank\" title=\"\">General Advisory for Workplaces and Frontline Workers in Response to Confirmed Cases of Local Transmission of Coronavirus Disease 2019 in Singapore</a> - Ministry of Manpower (MOM)</span>,\n",
       " <span style=\"font-family: Arial; font-size: 16px;\">27 Feb 2020</span>,\n",
       " <span style=\"font-family: Arial;\"><span style=\"font-size: 16px;\"><a class=\"\" href=\"https://www.moe.gov.sg/news/press-releases/one-day-suspension-of-classes-and-activities-at-raffles-institution-and-moe-language-centre-Bishan\" target=\"_blank\" title=\"\">One-Day Suspension of Classes and Activities at Raffles Institution and MOE Language Centre (Bishan)</a> - Ministry of Education (MOE)</span></span>,\n",
       " <span style=\"font-size: 16px;\"><a class=\"\" href=\"https://www.moe.gov.sg/news/press-releases/one-day-suspension-of-classes-and-activities-at-raffles-institution-and-moe-language-centre-Bishan\" target=\"_blank\" title=\"\">One-Day Suspension of Classes and Activities at Raffles Institution and MOE Language Centre (Bishan)</a> - Ministry of Education (MOE)</span>,\n",
       " <span style=\"font-family: Arial; font-size: 16px;\">27 Feb 2020</span>,\n",
       " <span style=\"font-family: Arial;\"><span style=\"font-size: 16px;\"><a class=\"\" href=\"https://www.moh.gov.sg/news-highlights/details/four-more-cases-discharged-three-new-cases-of-covid-19-infection-confirmed\" target=\"_blank\" title=\"\">Four More Cases Discharged; Three New Confirmed Cases of COVID-19 Infection</a></span></span>,\n",
       " <span style=\"font-size: 16px;\"><a class=\"\" href=\"https://www.moh.gov.sg/news-highlights/details/four-more-cases-discharged-three-new-cases-of-covid-19-infection-confirmed\" target=\"_blank\" title=\"\">Four More Cases Discharged; Three New Confirmed Cases of COVID-19 Infection</a></span>,\n",
       " <span style=\"font-family: Arial; font-size: 16px;\">26 Feb 2020</span>,\n",
       " <span style=\"font-family: Arial;\"><span style=\"font-size: 16px;\"><a class=\"\" href=\"http://moh.gov.sg/news-highlights/details/four-more-cases-discharged-two-new-cases-of-covid-19-infection-confirmed\" target=\"_blank\" title=\"\">Four More Cases Discharged; Two New Confirmed Cases of COVID-19 Infection</a></span></span>,\n",
       " <span style=\"font-size: 16px;\"><a class=\"\" href=\"http://moh.gov.sg/news-highlights/details/four-more-cases-discharged-two-new-cases-of-covid-19-infection-confirmed\" target=\"_blank\" title=\"\">Four More Cases Discharged; Two New Confirmed Cases of COVID-19 Infection</a></span>,\n",
       " <span style=\"font-family: Arial; font-size: 16px;\">26 Feb 2020</span>,\n",
       " <span style=\"font-family: Arial; font-size: 16px;\"><a class=\"\" href=\"https://www.sgpc.gov.sg/media_releases/ica/press_release/P-20200226-2\" target=\"_blank\" title=\"\">Singapore Permanent Resident Breached Stay-Home Notice Requirements; Loses Singapore Permanent Residence Status and Will Be Barred From Re-entering Singapore</a> - Immigration &amp; Checkpoints Authority (ICA)</span>,\n",
       " <span style=\"font-family: Arial; font-size: 16px;\">26 Feb 2020</span>,\n",
       " <span style=\"font-family: Arial; font-size: 16px;\"><a class=\"\" href=\"https://www.moh.gov.sg/news-highlights/details/two-charged-under-infectious-diseases-act-for-false-information-and-obstruction-of-contact-tracing\" target=\"_blank\" title=\"\"><span style=\"font-family: Arial; font-size: 16px;\">Two charged under Infectious Disease Act for false information and obstruction of contact tracing</span></a></span>,\n",
       " <span style=\"font-family: Arial; font-size: 16px;\">Two charged under Infectious Disease Act for false information and obstruction of contact tracing</span>,\n",
       " <span style=\"font-family: Arial; font-size: 16px;\">26 Feb 2020</span>,\n",
       " <span style=\"font-size: 16px; font-family: Arial;\"><a class=\"\" href=\"https://www.moh.gov.sg/news-highlights/details/first-meeting-of-the-singapore-malaysia-joint-working-group-for-covid-19\" target=\"_blank\" title=\"\">First Meeting of the Singapore-Malaysia Joint Working Group for COVID-19</a></span>,\n",
       " <span style=\"font-family: Arial; font-size: 16px;\">25 Feb 2020</span>,\n",
       " <span style=\"font-family: Arial; font-size: 16px;\">Five More Cases Discharged, One New Case of COVID-19 Infection Confirmed </span>,\n",
       " <span style=\"font-family: Arial; font-size: 16px;\">25 Feb 2020</span>,\n",
       " <span style=\"font-family: Arial;\"><span style=\"font-size: 16px;\"><a class=\"\" href=\"https://www.mom.gov.sg/newsroom/press-releases/2020/0225-temporary-scheme-to-help-manufacturing-and-services-sectors-manage-manpower-needs\" target=\"_blank\" title=\"\">Temporary Scheme to Help Manufacturing and Services Sectors Manage Manpower Needs</a> - Ministry of Manpower (MOM)</span></span>,\n",
       " <span style=\"font-size: 16px;\"><a class=\"\" href=\"https://www.mom.gov.sg/newsroom/press-releases/2020/0225-temporary-scheme-to-help-manufacturing-and-services-sectors-manage-manpower-needs\" target=\"_blank\" title=\"\">Temporary Scheme to Help Manufacturing and Services Sectors Manage Manpower Needs</a> - Ministry of Manpower (MOM)</span>,\n",
       " <span style=\"font-family: Arial; font-size: 16px;\">25 Feb 2020</span>,\n",
       " <span style=\"font-family: Arial; font-size: 16px;\">Speech by Mr Lawrence Wong, Minister for National Development, at COVID-19 Press Conference, 25 Feb 2020, 06.00 PM at National Press Centre</span>,\n",
       " <span style=\"font-family: Arial; font-size: 16px;\">25 Feb 2020</span>,\n",
       " <span style=\"font-family: Arial; font-size: 16px;\"><a class=\"\" href=\"https://www.mom.gov.sg/newsroom/press-releases/2020/0225-entry-approval-for-employers-with-work-pass-holders-with-travel-history-to-daegu-and-cheongdo\" target=\"_blank\" title=\"\">Entry Approval Requirement for Employers with Work Pass Holders with Travel History to Daegu City and Cheongdo County</a><br/></span>,\n",
       " <span style=\"font-family: Arial; font-size: 16px;\">25 Feb 2020</span>,\n",
       " <span style=\"font-family: Arial; font-size: 16px;\"><a class=\"\" href=\"https://www.moh.gov.sg/news-highlights/details/additional-precautionary-measures-in-response-to-escalating-situation-in-daegu-and-cheongdo\" target=\"_blank\" title=\"\">Additional Precautionary Measures in Response to Escalating Situation in Daegu and Cheongdo</a><br/></span>,\n",
       " <span style=\"font-family: Arial; font-size: 16px;\">25 Feb 2020</span>,\n",
       " <span style=\"font-family: Arial; font-size: 16px;\"><a class=\"\" href=\"https://www.moh.gov.sg/news-highlights/details/links-established-between-church-clusters-and-wuhan-travellers\" target=\"_blank\" title=\"\">Links Established between Church Clusters and Wuhan Travellers</a> <br/></span>,\n",
       " <span style=\"font-family: Arial; font-size: 16px;\">24 Feb 2020 </span>,\n",
       " <span style=\"font-family: Arial;\"><span style=\"font-size: 16px;\">[Revised] <a class=\"\" href=\"https://www.nea.gov.sg/our-services/public-cleanliness/environmental-cleaning-guidelines/guidelines/interim-guidelines-for-environmental-cleaning-and-disinfection-in-residences\" target=\"_blank\" title=\"\">Interim Guidelines for Environmental Cleaning and Disinfection in Residences That May Be Exposed to the COVID-19 Virus </a>- National Environment Agency (NEA) </span></span>,\n",
       " <span style=\"font-size: 16px;\">[Revised] <a class=\"\" href=\"https://www.nea.gov.sg/our-services/public-cleanliness/environmental-cleaning-guidelines/guidelines/interim-guidelines-for-environmental-cleaning-and-disinfection-in-residences\" target=\"_blank\" title=\"\">Interim Guidelines for Environmental Cleaning and Disinfection in Residences That May Be Exposed to the COVID-19 Virus </a>- National Environment Agency (NEA) </span>,\n",
       " <span style=\"font-family: Arial; font-size: 16px;\">24 Feb 2020</span>,\n",
       " <span style=\"font-family: Arial;\"><span style=\"font-size: 16px;\"><a class=\"\" href=\"https://www.sgpc.gov.sg/media_releases/mpa/press_release/P-20200224-1\" target=\"_blank\" title=\"\">Crew Member with COVID-19 (Coronavirus Disease 2019) Fully Recovers and Ship Resumes Normal Operations</a> - Maritime and Port Authority of Singapore (MPA)</span></span>,\n",
       " <span style=\"font-size: 16px;\"><a class=\"\" href=\"https://www.sgpc.gov.sg/media_releases/mpa/press_release/P-20200224-1\" target=\"_blank\" title=\"\">Crew Member with COVID-19 (Coronavirus Disease 2019) Fully Recovers and Ship Resumes Normal Operations</a> - Maritime and Port Authority of Singapore (MPA)</span>,\n",
       " <span style=\"font-family: Arial; font-size: 16px;\">24 Feb 2020</span>,\n",
       " <span style=\"font-family: Arial;\"><span style=\"font-size: 16px;\"><a class=\"\" href=\"https://www.mfa.gov.sg/Newsroom/Press-Statements-Transcripts-and-Photos/2020/02/24022020-COVID19-letters---President-and-PM\" target=\"_blank\" title=\"\">Letters from Singapore Leaders on the Coronavirus Disease (COVID-19) Outbreak in China</a> - Ministry of Foreign Affairs (MFA)</span></span>,\n",
       " <span style=\"font-size: 16px;\"><a class=\"\" href=\"https://www.mfa.gov.sg/Newsroom/Press-Statements-Transcripts-and-Photos/2020/02/24022020-COVID19-letters---President-and-PM\" target=\"_blank\" title=\"\">Letters from Singapore Leaders on the Coronavirus Disease (COVID-19) Outbreak in China</a> - Ministry of Foreign Affairs (MFA)</span>,\n",
       " <span style=\"font-size: 16px; font-family: Arial;\">24 Feb 2020</span>,\n",
       " <span style=\"font-family: Arial;\"><span style=\"font-size: 16px;\"><a class=\"\" href=\"https://www.mom.gov.sg/newsroom/press-releases/2020/0224-more-workers-and-employers-taken-to-task-for-breaching-loa-requirements\" target=\"_blank\" title=\"\">More Workers and Employers Taken to Task for Breaching Leave of Absence Requirements</a> - Ministry of Manpower (MOM)</span></span>,\n",
       " <span style=\"font-size: 16px;\"><a class=\"\" href=\"https://www.mom.gov.sg/newsroom/press-releases/2020/0224-more-workers-and-employers-taken-to-task-for-breaching-loa-requirements\" target=\"_blank\" title=\"\">More Workers and Employers Taken to Task for Breaching Leave of Absence Requirements</a> - Ministry of Manpower (MOM)</span>,\n",
       " <span style=\"font-family: Arial; font-size: 16px;\">24 Feb 2020</span>,\n",
       " <span style=\"font-family: Arial;\"><span style=\"font-size: 16px;\"><a class=\"\" href=\"https://www.mom.gov.sg/newsroom/press-releases/2020/0224-majority-of-employers-compliant-with-entry-approval-requirements-for-work-pass-holders\" target=\"_blank\" title=\"\">Majority of Employers Compliant with Entry Approval Requirements for Work Pass Holders</a> - Ministry of Manpower (MOM)</span></span>,\n",
       " <span style=\"font-size: 16px;\"><a class=\"\" href=\"https://www.mom.gov.sg/newsroom/press-releases/2020/0224-majority-of-employers-compliant-with-entry-approval-requirements-for-work-pass-holders\" target=\"_blank\" title=\"\">Majority of Employers Compliant with Entry Approval Requirements for Work Pass Holders</a> - Ministry of Manpower (MOM)</span>,\n",
       " <span style=\"font-family: Arial; font-size: 16px;\">24 Feb 2020</span>,\n",
       " <span style=\"font-family: Arial; font-size: 16px;\">Two More Cases Discharged; One New Confirmed Case of COVID-19 Infection</span>,\n",
       " <span style=\"font-size: 16px; font-family: Arial;\">23 Feb 2020</span>,\n",
       " <span style=\"font-size: 16px; font-family: Arial;\"><a class=\"\" href=\"https://www.moh.gov.sg/news-highlights/details/two-more-cases-discharged-no-new-confirmed-case-of-covid-19-infection\" target=\"_blank\" title=\"\">Two More Cases Discharged; No New Confirmed Case of COVID-19 Infection</a></span>,\n",
       " <span style=\"font-family: Arial; font-size: 16px;\">23 Feb 2020 </span>,\n",
       " <span style=\"font-family: Arial; font-size: 16px;\"><a class=\"\" href=\"https://www.moh.gov.sg/news-highlights/details/public-health-travel-advisory-in-response-to-cases-of-covid-19-in-republic-of-korea\" target=\"_blank\" title=\"\"><span style=\"font-family: Arial; font-size: 16px;\">Public Health Travel Advisory in Response to Cases of COVID-19 in Republic of Korea</span></a></span>,\n",
       " <span style=\"font-family: Arial; font-size: 16px;\">Public Health Travel Advisory in Response to Cases of COVID-19 in Republic of Korea</span>,\n",
       " <span style=\"font-family: Arial; font-size: 16px;\">22 Feb 2020</span>,\n",
       " <span style=\"font-family: Arial; font-size: 16px;\">Two More Cases Discharged; Three New Cases of COVID-19 Infection Confirmed</span>,\n",
       " <span style=\"font-family: Arial; font-size: 16px;\">21 Feb 2020</span>,\n",
       " <span style=\"font-family: Arial; font-size: 16px;\"><a href=\"/docs/librariesprovider5/default-document-library/press-release-ten-more-cases-discharged-one-new-case-of-covid-19-infection-confirmed-(1)fe9bce8e35f94c38b2eb54a37220ce66.pdf?sfvrsn=4e862283_0\" title=\"Ten More Cases Discharged;One New Case of COVID-19 Infection Confirmed\">Ten More Cases Discharged; One New Case of COVID-19 Infection Confirmed</a></span>,\n",
       " <span style=\"font-family: Arial; font-size: 16px;\">20 Feb 2020</span>,\n",
       " <span style=\"font-family: Arial; font-size: 16px;\"><a href=\"/docs/librariesprovider5/default-document-library/press-release---three-more-cases-discharged_-one-new-case-of-covid-19-infection-confirmed968fa56c454d4a4ca04d9f3518bb13a2.pdf?sfvrsn=be3075ee_0\" title=\" Three More Cases Discharged;One New Case of COVID-19 Infection Confirmed\"> </a><a class=\"\" href=\"https://www.moh.gov.sg/news-highlights/details/three-more-cases-discharged-one-new-case-of-covid-19-infection-confirmed\" target=\"_blank\" title=\" Three More Cases Discharged;One New Case of COVID-19 Infection Confirmed\">Three More Cases Discharged; One New Case of COVID-19 Infection Confirmed</a></span>,\n",
       " <span style=\"font-family: Arial; font-size: 16px;\">19 Feb 2020 </span>,\n",
       " <span style=\"font-family: Arial; font-size: 16px;\"><a class=\"\" href=\"https://www.moh.gov.sg/news-highlights/details/five-more-cases-discharged-three-new-cases-of-covid-19-infection-confirmed\" target=\"_blank\" title=\"\">Five More Cases Discharged; Three New Cases of COVID-19 Infection Confirmed </a></span>,\n",
       " <span style=\"font-family: Arial; font-size: 16px;\">18 Feb 2020</span>,\n",
       " <span style=\"font-family: Arial; font-size: 16px;\"><a class=\"\" href=\"https://www.mom.gov.sg/covid-19/general-advisory-for-confirmed-or-suspect-case\" target=\"_blank\" title=\"\">General advisory for employers if a confirmed or suspect case of COVID-19 is detected at the workplace</a> - Ministry of Manpower (MOM, Updated as of 18 Feb)</span>,\n",
       " <span style=\"font-family: Arial; font-size: 16px;\">18 Feb 2020</span>,\n",
       " <span style=\"font-family: Arial; font-size: 16px;\"><a class=\"\" href=\"https://www.moh.gov.sg/news-highlights/details/five-more-cases-discharged-four-new-cases-of-covid-19-infection-confirmed\" target=\"_blank\" title=\"\">Five More Cases Discharged; Four New Cases of COVID-19 Infection Confirmed</a></span>,\n",
       " <span style=\"font-family: Arial; font-size: 16px;\">18 Feb 2020</span>,\n",
       " <span style=\"font-family: Arial; font-size: 16px;\"><a class=\"\" href=\"https://www-moh-gov-sg-admin.cwp.sg/docs/librariesprovider5/default-document-library/moh-advisory-individuals-sharing-residential-spaces-with-persons-issued-stay-home-notice-(18-feb-2020).pdf?sfvrsn=5ecad806_0\" target=\"_blank\" title=\"Advisory Individuals sharing Residential Spaces with Persons issued Stay-Home Notice (SHN)\">Advisory for Individuals sharing Residential Spaces with Persons issued Stay-Home Notice (SHN)</a><br/></span>,\n",
       " <span style=\"font-family: Arial; font-size: 16px;\">18 Feb 2020</span>,\n",
       " <span style=\"font-family: Arial; font-size: 16px;\">Health Advisory for Persons issued Stay-Home Notice (SHN)</span>,\n",
       " <span style=\"font-family: Arial; font-size: 16px;\">17 Feb 2020</span>,\n",
       " <span style=\"font-family: Arial; font-size: 16px;\"><a class=\"\" href=\"https://www.moh.gov.sg/news-highlights/details/five-more-cases-discharged-two-new-cases-of-covid-19-infection-confirmed\" target=\"_blank\" title=\"\">Five More Cases Discharged; Two New Cases of COVID-19 Infection Confirmed</a></span>,\n",
       " <span style=\"font-family: Arial; font-size: 16px;\">17 Feb 2020</span>,\n",
       " <span style=\"font-family: Arial; font-size: 16px;\"><a class=\"\" href=\"https://www.mom.gov.sg/newsroom/press-releases/2020/0217-loasp-extended-to-those-serving-stay-home-notice\" target=\"_blank\" title=\"\">Leave of Absence Support Programme Extended to Those Serving Stay-Home Notice</a> - Ministry of Manpower (MOM)</span>,\n",
       " <span style=\"font-family: Arial; font-size: 16px;\">17 Feb 2020</span>,\n",
       " <span style=\"font-family: Arial;\"><span style=\"font-size: 16px;\"><a class=\"\" href=\"https://www.mom.gov.sg/newsroom/press-releases/2020/0214-mandatory-shn-for-wph-with-travel-history-to-china\" target=\"_blank\" title=\"\">Mandatory Stay-Home Notice for Work Pass Holders with Travel History to Mainland China</a> - Ministry of Manpower (MOM)</span></span>,\n",
       " <span style=\"font-size: 16px;\"><a class=\"\" href=\"https://www.mom.gov.sg/newsroom/press-releases/2020/0214-mandatory-shn-for-wph-with-travel-history-to-china\" target=\"_blank\" title=\"\">Mandatory Stay-Home Notice for Work Pass Holders with Travel History to Mainland China</a> - Ministry of Manpower (MOM)</span>,\n",
       " <span style=\"font-family: Arial; font-size: 16px;\">17 Feb 2020</span>,\n",
       " <span style=\"font-family: Arial; font-size: 16px;\">Implementation of New Stay-at-Home Notice</span>,\n",
       " <span style=\"font-family: Arial; font-size: 16px;\">17 Feb 2020</span>,\n",
       " <span style=\"font-family: Arial;\"><span style=\"font-size: 16px;\"><a class=\"\" href=\"https://www.moh.gov.sg/news-highlights/details/meeting-with-religious-leaders-on-covid-19\" target=\"_blank\" title=\"\">Meeting with Religious Leaders on COVID-19</a></span></span>,\n",
       " <span style=\"font-size: 16px;\"><a class=\"\" href=\"https://www.moh.gov.sg/news-highlights/details/meeting-with-religious-leaders-on-covid-19\" target=\"_blank\" title=\"\">Meeting with Religious Leaders on COVID-19</a></span>,\n",
       " <span style=\"font-family: Arial; font-size: 16px;\">17 Feb 2020</span>,\n",
       " <span style=\"font-family: Arial; font-size: 16px;\"><a class=\"\" href=\"https://www.hsa.gov.sg/announcements/regulatory-updates/import-of-hand-sanitisers-masks-thermometers-and-protective-gear\" target=\"_blank\" title=\"\">Import of Hand Sanitiser, Masks, Thermometers and Protective Gears</a> - Health Science Authority (HSA, first published on 14 Feb 2020)</span>,\n",
       " <span style=\"font-family: Arial; font-size: 16px;\">16 Feb 2020</span>,\n",
       " <span style=\"font-family: Arial;\"><span style=\"font-size: 16px;\"><a class=\"\" href=\"https://www.mindef.gov.sg/web/portal/mindef/news-and-events/latest-releases/article-detail/2020/February/16feb20_nr2\" target=\"_blank\" title=\"\">Updates on COVID-19, Case 73</a> - Ministry of Defence (MINDEF)</span></span>,\n",
       " <span style=\"font-size: 16px;\"><a class=\"\" href=\"https://www.mindef.gov.sg/web/portal/mindef/news-and-events/latest-releases/article-detail/2020/February/16feb20_nr2\" target=\"_blank\" title=\"\">Updates on COVID-19, Case 73</a> - Ministry of Defence (MINDEF)</span>,\n",
       " <span style=\"font-family: Arial; font-size: 16px;\">16 Feb 2020</span>,\n",
       " <span style=\"font-family: Arial; font-size: 16px;\">One More Case Discharged; Three New Cases of COVID-19 Infection Confirmed </span>,\n",
       " <span style=\"font-family: Arial; font-size: 16px;\">16 Feb 2020</span>,\n",
       " <span style=\"font-family: Arial; font-size: 16px;\"><a class=\"\" href=\"https://www.nea.gov.sg/media/news/news/index/sg-clean-campaign-launched-to-rally-public-and-businesses-to-work-together-to-keep-singapore-clean\" target=\"_blank\" title=\"\"><span style=\"font-family: Arial; font-size: 16px;\">\"SG Clean\" Campaign Launched To Rally Public And Businesses To Work Together To Keep Singapore Clean</span></a></span>,\n",
       " <span style=\"font-family: Arial; font-size: 16px;\">\"SG Clean\" Campaign Launched To Rally Public And Businesses To Work Together To Keep Singapore Clean</span>,\n",
       " <span style=\"font-family: Arial; font-size: 16px;\">15 Feb 2020</span>,\n",
       " <span style=\"font-family: Arial; font-size: 16px;\"><a class=\"\" href=\"https://www.moh.gov.sg/news-highlights/details/one-more-case-discharged-five-new-cases-of-covid19-infection-confirmed \" target=\"_blank\" title=\"\">One More Case Discharged; Five New Cases of COVID-19 Infection Confirmed</a></span>,\n",
       " <span style=\"font-family: Arial; font-size: 16px;\">15 Feb 2020</span>,\n",
       " <span style=\"font-family: Arial; font-size: 16px;\"><a class=\"\" href=\"https://www.mti.gov.sg/-/media/MTI/Newsroom/COVID-19/v2/Advisory-for-businesses-on-largescale-events15-Feb.pdf\" target=\"_blank\" title=\"\">Advisory for Businesses on Large-scale Events amidst COVID-19 (Coronavirus Disease 2019) Situation</a> - Ministry of Trade and Industry (MTI)<br/></span>,\n",
       " <span style=\"font-family: Arial; font-size: 16px;\">15 Feb 2020</span>,\n",
       " <span style=\"font-family: Arial; font-size: 16px;\"><a class=\"\" href=\"https://www.mindef.gov.sg/web/portal/mindef/news-and-events/latest-releases/article-detail/2020/February/15feb20_speech2\" target=\"_blank\" title=\"\">Speech by Mr Chan Chun Sing, Minister for Trade and Industry at the Total Defence Day Commemoration Event</a> </span>,\n",
       " <span style=\"font-family: Arial; font-size: 16px;\">14 Feb 2020</span>,\n",
       " <span style=\"font-family: Arial; font-size: 16px;\"></span>,\n",
       " <span style=\"font-family: Arial; font-size: 16px;\"><a class=\"\" href=\"https://www.mas.gov.sg/news/media-releases/2020/mas-welcomes-measures-by-financial-institutions-to-support-customers-facing-the-impact-of-covid-19 \" target=\"_blank\" title=\"\"><span style=\"font-family: Arial; font-size: 16px;\">MAS Welcomes Measures by Financial Institutions to Support Customers Facing the</span><span style=\"font-size: 16px; font-family: Arial;\"> Impact of COVID-19</span></a></span>,\n",
       " <span style=\"font-family: Arial; font-size: 16px;\">MAS Welcomes Measures by Financial Institutions to Support Customers Facing the</span>,\n",
       " <span style=\"font-size: 16px; font-family: Arial;\"> Impact of COVID-19</span>,\n",
       " <span style=\"font-family: Arial; font-size: 16px;\">14 Feb 2020</span>,\n",
       " <span style=\"font-family: Arial; font-size: 16px;\"><a class=\"\" href=\"https://nccs.org.sg/wp-content/uploads/2020/02/Meeting-with-Minister-of-Health-20200217.pdf \" target=\"_blank\" title=\"\">The COVID-19 Advisory Update - Meeting with Minister for Health Mr Gan Kim Yong</a> - National Council of Churches Singapore (NCCS)</span>,\n",
       " <span style=\"font-family: Arial; font-size: 16px;\">14 Feb 2020</span>,\n",
       " <span style=\"font-family: Arial; font-size: 16px;\">Minister for Health and Minister for Culture, Community &amp; Youth Meet Church Leaders on COVID-19</span>,\n",
       " <span style=\"font-family: Arial; font-size: 16px;\">14 Feb 2020</span>,\n",
       " <span style=\"font-family: Arial; font-size: 16px;\"><a class=\"\" href=\"https://www.sgpc.gov.sg/media_releases/mnd/speech/S-20200214-4\" target=\"_blank\" title=\"\">Speech By Mr Lawrence Wong, Minister For National Development, At COVID-19 Press Conference</a></span>,\n",
       " <span style=\"font-family: Arial; font-size: 16px;\">14 Feb 2020</span>,\n",
       " <span style=\"font-family: Arial; font-size: 16px;\"><a class=\"\" href=\"https://www.moh.gov.sg/news-highlights/details/two-more-cases-discharged-nine-new-cases-of-covid-19-infection-confirmed\" target=\"_blank\" title=\"\">Two More Cases Discharged; Nine New Cases of COVID-19 Infection Confirmed</a></span>,\n",
       " <span style=\"font-size: 16px; font-family: Arial;\">14 Feb 2020</span>,\n",
       " <span style=\"font-family: Arial; font-size: 16px;\"><a class=\"\" href=\"https://www.moh.gov.sg/news-highlights/details/additional-pre-emptive-measures-to-reduce-risk-of-community-transmission\" target=\"_blank\" title=\"\">Additional Pre-emptive Measures To Reduce Risk Of Community Transmission</a></span>,\n",
       " <span style=\"font-family: Arial; font-size: 16px;\">14 Feb 2020</span>,\n",
       " <span style=\"font-family: Arial; font-size: 16px;\">Corrections and clarifications regarding falsehoods published by States Times Review on COVID-19 situation</span>,\n",
       " <span style=\"font-family: Arial; font-size: 16px;\">14 Feb 2020</span>,\n",
       " <span style=\"font-family: Arial; font-size: 16px;\"><a class=\"\" href=\"https://www.mindef.gov.sg/web/portal/mindef/news-and-events/latest-releases/article-detail/2020/February/14feb20_transcript\" target=\"_blank\" title=\"\">Transcript of Minister for Defence, Dr Ng Eng Hen's Total Defence Day 2020 Video Message</a> - Ministry of Defence (MINDEF)</span>,\n",
       " <span style=\"font-family: Arial; font-size: 16px;\">13 Feb 2020</span>,\n",
       " <span style=\"font-family: Arial; font-size: 16px;\"><a class=\"\" href=\"https://www.mom.gov.sg/newsroom/press-releases/2020/0213-supporting-healthcare-workers-whose-leave-and-holiday-plans-have-been-cancelled\" target=\"_blank\" title=\"\">Supporting Healthcare Workers Whose Leave and Holiday Plans Have Been Cancelled</a> - Ministry of Manpower (MOM)</span>,\n",
       " <span style=\"font-family: Arial; font-size: 16px;\">13 Feb 2020</span>,\n",
       " <span style=\"font-family: Arial;\"><span style=\"font-size: 16px;\"><a class=\"\" href=\"https://www.mom.gov.sg/newsroom/press-releases/2020/0213-two-work-passes-revoked-for-re-entry-into-singapore-without-prior-approval\" target=\"_blank\" title=\"\">Two Work Passes Revoked for Re-Entry into Singapore Without Prior Approval</a> - Ministry of Manpower (MOM)</span></span>,\n",
       " <span style=\"font-size: 16px;\"><a class=\"\" href=\"https://www.mom.gov.sg/newsroom/press-releases/2020/0213-two-work-passes-revoked-for-re-entry-into-singapore-without-prior-approval\" target=\"_blank\" title=\"\">Two Work Passes Revoked for Re-Entry into Singapore Without Prior Approval</a> - Ministry of Manpower (MOM)</span>,\n",
       " <span style=\"font-family: Arial; font-size: 16px;\">13 Feb 2020</span>,\n",
       " <span style=\"font-family: Arial; font-size: 16px;\"><a class=\"\" href=\"https://www.moh.gov.sg/news-highlights/details/eight-more-confirmed-cases-of-covid-19-infection\" target=\"_blank\" title=\"\">Eight More Confirmed Cases of COVID-19 Infection</a></span>,\n",
       " <span style=\"font-family: Arial; font-size: 16px;\">13 Feb 2020</span>,\n",
       " <span style=\"font-family: Arial;\"><span style=\"font-size: 16px;\"><a class=\"\" href=\"https://www.lta.gov.sg/content/ltagov/en/newsroom/2020/february/news-releases/-77-million-point-to-point-support-package-for-taxi-and-private-.html\" target=\"_blank\" title=\"\">$77 Million Point-To-Point Support Package for Taxi and Private Hire Car Drivers Affected by the Coronavirus Disease 2019 Outbreak</a> - Land Transport Authority (LTA)</span></span>,\n",
       " <span style=\"font-size: 16px;\"><a class=\"\" href=\"https://www.lta.gov.sg/content/ltagov/en/newsroom/2020/february/news-releases/-77-million-point-to-point-support-package-for-taxi-and-private-.html\" target=\"_blank\" title=\"\">$77 Million Point-To-Point Support Package for Taxi and Private Hire Car Drivers Affected by the Coronavirus Disease 2019 Outbreak</a> - Land Transport Authority (LTA)</span>,\n",
       " <span style=\"font-family: Arial; font-size: 16px;\">12 Feb 2020</span>,\n",
       " <span style=\"font-family: Arial;\"><span style=\"font-size: 16px;\"><a class=\"\" href=\"https://www.mom.gov.sg/covid-19/advisory-to-permit-workers-to-enter-worksite\" target=\"_blank\" title=\"\">Advisory to permit workers to enter their worksite</a> - Ministry of Manpower (MOM)</span></span>,\n",
       " <span style=\"font-size: 16px;\"><a class=\"\" href=\"https://www.mom.gov.sg/covid-19/advisory-to-permit-workers-to-enter-worksite\" target=\"_blank\" title=\"\">Advisory to permit workers to enter their worksite</a> - Ministry of Manpower (MOM)</span>,\n",
       " <span style=\"font-family: Arial; font-size: 16px;\">12 Feb 2020</span>,\n",
       " <span style=\"font-family: Arial;\"><span style=\"font-size: 16px;\"><a class=\"\" href=\"https://www.nea.gov.sg/our-services/public-cleanliness/environmental-cleaning-guidelines/guidelines/interim-guidelines-for-environmental-cleaning-and-disinfection-of-premises-with-transient-exposure-to-confirmed-cases-of-the-novel-coronavirus\" target=\"_blank\" title=\"\">Interim Guidelines for Environmental Cleaning and Disinfection of Premises With Transient Exposure to Confirmed Cases(s) of the COVID-19</a> - National Environment Agency (NEA) </span></span>,\n",
       " <span style=\"font-size: 16px;\"><a class=\"\" href=\"https://www.nea.gov.sg/our-services/public-cleanliness/environmental-cleaning-guidelines/guidelines/interim-guidelines-for-environmental-cleaning-and-disinfection-of-premises-with-transient-exposure-to-confirmed-cases-of-the-novel-coronavirus\" target=\"_blank\" title=\"\">Interim Guidelines for Environmental Cleaning and Disinfection of Premises With Transient Exposure to Confirmed Cases(s) of the COVID-19</a> - National Environment Agency (NEA) </span>,\n",
       " <span style=\"font-family: Arial; font-size: 16px;\">12 Feb 2020</span>,\n",
       " <span style=\"font-family: Arial; font-size: 16px;\"><a class=\"\" href=\"https://www.sgpc.gov.sg/media_releases/mnd/speech/S-20200212-1\" target=\"_blank\" title=\"\">Speech by Mr Lawrence Wong, Minister for National Development, at COVID-19 Press Conference</a> <br/></span>,\n",
       " <span style=\"font-family: Arial; font-size: 16px;\">12 Feb 2020</span>,\n",
       " <span style=\"font-family: Arial; font-size: 16px;\"><a class=\"\" href=\"https://www.moh.gov.sg/news-highlights/details/six-more-cases-discharged-three-new-cases-of-covid-19-infection-confirmed\" target=\"_blank\" title=\"\">Six More Cases Discharged; Three New Cases of COVID-19 Infection Confirmed</a></span>,\n",
       " <span style=\"font-family: Arial; font-size: 16px;\">12 Feb 2020</span>,\n",
       " <span style=\"font-family: Arial; font-size: 16px;\"><a class=\"\" href=\"https://www.mom.gov.sg/newsroom/press-releases/2020/0212-leave-of-absence-support-programme\" target=\"_blank\" title=\"\">Leave of Absence Support Programme (LOASP)</a> - Ministry of Manpower (MOM)<br/></span>,\n",
       " <span style=\"font-family: Arial; font-size: 16px;\">12 Feb 2020</span>,\n",
       " <span style=\"font-family: Arial;\"><span style=\"font-size: 16px;\"><a class=\"\" href=\"https://www.nea.gov.sg/our-services/public-cleanliness/environmental-cleaning-guidelines/guidelines/interim-guidelines-for-environmental-cleaning-and-disinfection-of-premises-with-transient-exposure-to-confirmed-cases-of-the-novel-coronavirus\" target=\"_blank\" title=\"\">Interim Guidelines for Environmental Cleaning and Disinfection of Premises With Transient Exposure to Confirmed Cases(s) of the Novel Coronavirus (COVID-19)</a> - National Environment Agency (NEA)</span></span>,\n",
       " <span style=\"font-size: 16px;\"><a class=\"\" href=\"https://www.nea.gov.sg/our-services/public-cleanliness/environmental-cleaning-guidelines/guidelines/interim-guidelines-for-environmental-cleaning-and-disinfection-of-premises-with-transient-exposure-to-confirmed-cases-of-the-novel-coronavirus\" target=\"_blank\" title=\"\">Interim Guidelines for Environmental Cleaning and Disinfection of Premises With Transient Exposure to Confirmed Cases(s) of the Novel Coronavirus (COVID-19)</a> - National Environment Agency (NEA)</span>,\n",
       " <span style=\"font-size: 16px; font-family: Arial;\">11 Feb 2020</span>,\n",
       " <span style=\"font-size: 16px; font-family: Arial;\"><a class=\"\" href=\"https://www.mindef.gov.sg/web/portal/mindef/news-and-events/latest-releases/article-detail/2020/February/11feb20_nr1\" target=\"_blank\" title=\"\">Senior Minister of State for Defence Visits BMTC to Observe SAF's Enhanced Precautionary Measures for 2019 Novel Coronavirus</a> - Ministry of Defence (MINDEF)</span>,\n",
       " <span style=\"font-family: Arial; font-size: 16px;\">11 Feb 2020</span>,\n",
       " <span style=\"font-family: Arial;\"><span style=\"font-size: 16px;\"><a class=\"\" href=\"https://www.stb.gov.sg/content/stb/en/media-centre/media-releases/stb-rallies-tourismsectortofacebiggestchallengesincesars.html\" target=\"_blank\" title=\"\">STB rallies tourism sector to face biggest challenges since SARS</a> - Singapore Tourism Board (STB)</span></span>,\n",
       " <span style=\"font-size: 16px;\"><a class=\"\" href=\"https://www.stb.gov.sg/content/stb/en/media-centre/media-releases/stb-rallies-tourismsectortofacebiggestchallengesincesars.html\" target=\"_blank\" title=\"\">STB rallies tourism sector to face biggest challenges since SARS</a> - Singapore Tourism Board (STB)</span>,\n",
       " <span style=\"font-family: Arial; font-size: 16px;\">11 Feb 2020</span>,\n",
       " <span style=\"font-family: Arial; font-size: 16px;\"><a class=\"\" href=\"https://www.moh.gov.sg/news-highlights/details/singapore-and-malaysia-to-establish-a-joint-working-group-for-the-2019-novel-coronavirus\" target=\"_blank\" title=\"\">Singapore and Malaysia to Establish A Joint Working Group for the 2019 Novel Coronavirus</a></span>,\n",
       " <span style=\"font-family: Arial; font-size: 16px;\">11 Feb 2020</span>,\n",
       " <span style=\"font-family: Arial; font-size: 16px;\">Two More Cases Discharged; Two New Cases of Novel Coronavirus Infection Confirmed</span>,\n",
       " <span style=\"font-size: 16px; font-family: Arial;\">11 Feb 2020</span>,\n",
       " <span style=\"font-size: 16px;\"><span style=\"font-family: Arial;\"><a class=\"\" href=\"https://www.mti.gov.sg/Newsroom/Press-Releases/2020/02/Price-Control-Act-Letter-of-Demand-issued-to-retailer-3-Stars\" style=\"\" target=\"_blank\" title=\"\">Price Control Act Letter of Demand Issued to Retailer 3 Stars</a> - Ministry of Trade and Industry (MTI)</span></span>,\n",
       " <span style=\"font-family: Arial;\"><a class=\"\" href=\"https://www.mti.gov.sg/Newsroom/Press-Releases/2020/02/Price-Control-Act-Letter-of-Demand-issued-to-retailer-3-Stars\" style=\"\" target=\"_blank\" title=\"\">Price Control Act Letter of Demand Issued to Retailer 3 Stars</a> - Ministry of Trade and Industry (MTI)</span>,\n",
       " <span style=\"font-family: Arial; font-size: 16px;\">10 Feb 2020</span>,\n",
       " <span style=\"font-family: Arial;\"><span style=\"font-size: 16px;\"><a class=\"\" href=\"https://www.mom.gov.sg/covid-19/advisory-to-fdws-and-employers\" target=\"_blank\" title=\"\">Advisory to Foreign Domestic Workers (FDWs), Employers and Employment Agencies on COVID-19 Precautionary Measures</a> - Ministry of Manpower (MOM) </span></span>,\n",
       " <span style=\"font-size: 16px;\"><a class=\"\" href=\"https://www.mom.gov.sg/covid-19/advisory-to-fdws-and-employers\" target=\"_blank\" title=\"\">Advisory to Foreign Domestic Workers (FDWs), Employers and Employment Agencies on COVID-19 Precautionary Measures</a> - Ministry of Manpower (MOM) </span>,\n",
       " <span style=\"font-family: Arial; font-size: 16px;\">10 Feb 2020</span>,\n",
       " <span style=\"font-family: Arial; font-size: 16px;\"><a class=\"\" href=\"https://www.moh.gov.sg/news-highlights/details/one-more-case-discharged-two-new-cases-of-novel-coronavirus-infection-confirmed-10feb \" target=\"_blank\" title=\"\">One More Case Discharged; Two New Cases of Novel Coronavirus Infection Confirmed</a></span>,\n",
       " <span style=\"font-size: 16px; font-family: Arial;\">10 Feb 2020</span>,\n",
       " <span style=\"font-family: Arial; font-size: 16px;\"><a class=\"\" href=\"https://www.mom.gov.sg/newsroom/press-releases/2020/0210-actions-taken-by-mom-following-confirmed-2019-ncov-case-of-work-permit-holder\" target=\"_blank\" title=\"\">Actions Taken By The Ministry of Manpower Following Confirmed 2019-nCoV Case of Work Permit Holder</a><br/></span>,\n",
       " <span style=\"font-family: Arial; font-size: 16px;\">10 Feb 2020</span>,\n",
       " <span style=\"font-family: Arial; font-size: 16px;\"><a class=\"\" href=\"https://www.mom.gov.sg/newsroom/press-releases/2020/0210-mom-issues-updated-advisory-on-enhanced-precautionary-measure-for-dormitory\" target=\"_blank\" title=\"\">MOM Issues Updated Advisory on Enhanced Precautionary Measures for Dormitories</a> - Ministry of Manpower (MOM)</span>,\n",
       " <span style=\"font-family: Arial; font-size: 16px;\">10 Feb 2020</span>,\n",
       " <span style=\"font-family: Arial;\"><span style=\"font-size: 16px;\"><a class=\"\" href=\"https://www.lta.gov.sg/content/ltagov/en/newsroom/2020/february/news-releases/Safeguarding_the_health_taxi_PHC_drivers_passengers.html\" target=\"_blank\" title=\"\">Safeguarding the Health of Taxi and Private Hire Car Drivers and Passengers</a> - Land Transport Authority (LTA)</span></span>,\n",
       " <span style=\"font-size: 16px;\"><a class=\"\" href=\"https://www.lta.gov.sg/content/ltagov/en/newsroom/2020/february/news-releases/Safeguarding_the_health_taxi_PHC_drivers_passengers.html\" target=\"_blank\" title=\"\">Safeguarding the Health of Taxi and Private Hire Car Drivers and Passengers</a> - Land Transport Authority (LTA)</span>,\n",
       " <span style=\"font-size: 16px; font-family: Arial;\">09 Feb 2020</span>,\n",
       " <span style=\"font-family: Arial; font-size: 16px;\"><a class=\"\" href=\"https://www.moh.gov.sg/news-highlights/details/four-more-cases-discharged-three-new-confirmed-cases-of-novel-coronavirus-infection\" target=\"_blank\" title=\"\">Four More Cases Discharged; Three New Confirmed Cases of Novel Coronavirus Infection </a></span>,\n",
       " <span style=\"font-family: Arial; font-size: 16px;\">09 Feb 2020</span>,\n",
       " <span style=\"font-family: Arial; font-size: 16px;\"><a class=\"\" href=\"https://www.mom.gov.sg/2019-ncov/advisory-to-fdws-and-employers\" target=\"_blank\" title=\"\">Advisory to foreign domestic workers and employers in view of the 2019 Novel Coronavirus situation</a> - Ministry of Manpower (MOM)<br/></span>,\n",
       " <span style=\"font-family: Arial; font-size: 16px;\">09 Feb 2020</span>,\n",
       " <span style=\"font-family: Arial; font-size: 16px;\"><a class=\"\" href=\"https://www.mom.gov.sg/newsroom/press-releases/2020/0207-work-passes-cancelled-for-breaching-loa-requirements\" target=\"_blank\" title=\"\">Work Passes Cancelled and Employers' Work Pass Privileges Revoked for Breaching Leave of Absence Requirements</a> - Ministry of Manpower (MOM)<br/></span>,\n",
       " <span style=\"font-family: Arial; font-size: 16px;\">09 Feb 2020 </span>,\n",
       " <span style=\"font-family: Arial; font-size: 16px;\"><a class=\"\" href=\"http://www.mas.gov.sg/news/media-releases/2020/mas-advises-financial-institutions-to-adopt-recommended-measures-for-dorscon-orange\" target=\"_blank\" title=\"\">MAS Advises Financial Institutions to Adopt Recommended Measures for DORSCON Orange</a></span>,\n",
       " <span style=\"font-family: Arial; font-size: 16px;\">09 Feb 2020</span>,\n",
       " <span style=\"font-family: Arial;\"><span style=\"font-size: 16px;\"><a class=\"\" href=\"https://www.mfa.gov.sg/Newsroom/Press-Statements-Transcripts-and-Photos/2020/02/20200209-Return-of-Singaporeans-from-Wuhan\" target=\"_blank\" title=\"\">Return of Singaporeans from Wuhan, Hubei Province to Singapore on 9 February 2020</a> - Ministry of Foreign Affairs (MFA)</span></span>,\n",
       " <span style=\"font-size: 16px;\"><a class=\"\" href=\"https://www.mfa.gov.sg/Newsroom/Press-Statements-Transcripts-and-Photos/2020/02/20200209-Return-of-Singaporeans-from-Wuhan\" target=\"_blank\" title=\"\">Return of Singaporeans from Wuhan, Hubei Province to Singapore on 9 February 2020</a> - Ministry of Foreign Affairs (MFA)</span>,\n",
       " <span style=\"font-family: Arial; font-size: 16px;\">09 Feb 2020<br/></span>,\n",
       " <span style=\"font-family: Arial;\"><span style=\"font-size: 16px;\"><a class=\"\" href=\"https://www.mti.gov.sg/-/media/MTI/Newsroom/2019-nCoV/v2/Transcript-of-Min-Chans-doorstop-9-Feb-20.pdf\" target=\"_blank\" title=\"\">Transcript of Minister Chan Chun Sing's remarks at Ministerial Community Walkabout at Jurong Spring Division</a> - Ministry of Trade and Industry (MTI)</span></span>,\n",
       " <span style=\"font-size: 16px;\"><a class=\"\" href=\"https://www.mti.gov.sg/-/media/MTI/Newsroom/2019-nCoV/v2/Transcript-of-Min-Chans-doorstop-9-Feb-20.pdf\" target=\"_blank\" title=\"\">Transcript of Minister Chan Chun Sing's remarks at Ministerial Community Walkabout at Jurong Spring Division</a> - Ministry of Trade and Industry (MTI)</span>,\n",
       " <span style=\"font-family: Arial; font-size: 16px;\">08 Feb 2020</span>,\n",
       " <span style=\"font-family: Arial; font-size: 16px;\"><a class=\"\" href=\"https://www.moh.gov.sg/docs/librariesprovider5/default-document-library/advisory-for-large-scale-events-amidst-the-novel-coronavirus-situation-(8-feb-2020).pdf?sfvrsn=5255c202_0\" target=\"_blank\" title=\"Advisory for Large-Scale Events Amidst the Novel Coronavirus Situation\">Advisory for Large-Scale Events Amidst the Novel Coronavirus Situation</a> (Updated)<br/></span>,\n",
       " <span style=\"font-family: Arial; font-size: 16px;\">08 Feb 2020</span>,\n",
       " <span style=\"font-family: Arial; font-size: 16px;\"><a class=\"\" href=\"https://www.moh.gov.sg/news-highlights/details/seven-more-confirmed-cases-of-novel-coronavirus-infection-in-singapore\" target=\"_blank\" title=\"\">Seven More Confirmed Cases of Novel Coronavirus Infection in Singapore </a><br/></span>,\n",
       " <span style=\"font-family: Arial; font-size: 16px;\">08 Feb 2020<br/></span>,\n",
       " <span style=\"font-family: Arial; font-size: 16px;\"><a class=\"\" href=\"https://www.pmo.gov.sg/Newsroom/PM-Lee-Hsien-Loong-on-the-Novel-Coronavirus-nCoV-Situation-in-Singapore-on-8-February-2020\" target=\"_blank\" title=\"\">Remarks by Prime Minister Lee Hsien Loong on the Novel Coronavirus (nCoV) Situation in Singapore </a></span>,\n",
       " <span style=\"font-family: Arial; font-size: 16px;\">08 Feb 2020</span>,\n",
       " <span style=\"font-family: Arial; font-size: 16px;\"><a class=\"\" href=\"https://www.ecda.gov.sg/PressReleases/Pages/Advisory-to-Parents-Keeping-Our-Children-in-Preschools-Safe-Against-the-2019-Novel-Coronavirus-%282019-nCoV%29.aspx \" target=\"_blank\" title=\"\">Keeping Our Children in Preschools Safe Against the 2019 Novel Coronavirus (2019-nCoV)</a></span>,\n",
       " <span style=\"font-family: Arial; font-size: 16px;\">07 Feb 2020</span>,\n",
       " <span style=\"font-family: Arial;\"><span style=\"font-size: 16px;\"><a class=\"\" href=\"https://www.enterprisesg.gov.sg/-/media/esg/files/media-centre/media-releases/2020/feb-2020/guide-on-business-continuity-planning-for-covid-19_2nd-edition_170220_final.pdf?la=en\" target=\"_blank\" title=\"\">Guide on Business Continuity Planning for COVID-19 (2nd Edition)</a> - Enterprise Singapore (ESG) </span></span>,\n",
       " <span style=\"font-size: 16px;\"><a class=\"\" href=\"https://www.enterprisesg.gov.sg/-/media/esg/files/media-centre/media-releases/2020/feb-2020/guide-on-business-continuity-planning-for-covid-19_2nd-edition_170220_final.pdf?la=en\" target=\"_blank\" title=\"\">Guide on Business Continuity Planning for COVID-19 (2nd Edition)</a> - Enterprise Singapore (ESG) </span>,\n",
       " <span style=\"font-family: Arial; font-size: 16px;\">07 Feb 2020</span>,\n",
       " <span style=\"font-family: Arial;\"><span style=\"font-size: 16px;\"><a class=\"\" href=\"https://www.hsa.gov.sg/announcements/news/hsa's-updates-on-the-precautionary-measures-taken-to-safeguard-donors'-health-and-well-being\" target=\"_blank\" title=\"\">HSA's Updates on the Precautionary Measures Taken to Safeguard Donors' Health and Well-being</a> - Health Sciences Authority (HSA) </span></span>,\n",
       " <span style=\"font-size: 16px;\"><a class=\"\" href=\"https://www.hsa.gov.sg/announcements/news/hsa's-updates-on-the-precautionary-measures-taken-to-safeguard-donors'-health-and-well-being\" target=\"_blank\" title=\"\">HSA's Updates on the Precautionary Measures Taken to Safeguard Donors' Health and Well-being</a> - Health Sciences Authority (HSA) </span>,\n",
       " <span style=\"font-size: 16px; font-family: Arial;\">07 Feb 2020</span>,\n",
       " <span style=\"font-family: Arial; font-size: 16px;\"><span style=\"font-family: Arial;\"><a class=\"\" href=\"https://www.moe.gov.sg/news/press-releases/stepping-up-precautionary-measures-in-schools \" target=\"_blank\" title=\"\">Stepping Up Precautionary Measures in Schools</a></span> - Ministry of Education (MOE)</span>,\n",
       " <span style=\"font-family: Arial;\"><a class=\"\" href=\"https://www.moe.gov.sg/news/press-releases/stepping-up-precautionary-measures-in-schools \" target=\"_blank\" title=\"\">Stepping Up Precautionary Measures in Schools</a></span>,\n",
       " <span style=\"font-family: Arial; font-size: 16px;\">07 Feb 2020</span>,\n",
       " <span style=\"font-family: Arial; font-size: 16px;\"><a class=\"\" href=\"https://www.moh.gov.sg/news-highlights/details/risk-assessment-raised-to-dorscon-orange\" target=\"_blank\" title=\"\">Risk assessment raised to DORSCON Orange</a></span>,\n",
       " <span style=\"font-family: Arial; font-size: 16px;\">07 Feb 2020</span>,\n",
       " <span style=\"font-size: 16px; font-family: Arial;\">Three More Confirmed Cases of Novel Coronavirus Infection in Singapore</span>,\n",
       " <span style=\"font-family: Arial; font-size: 16px;\">06 Feb 2020</span>,\n",
       " <span style=\"font-family: Arial; font-size: 16px;\"><a class=\"\" href=\"https://www.moh.gov.sg/news-highlights/details/two-more-confirmed-cases-of-novel-coronavirus-infection-in-singapore\" target=\"_blank\" title=\"\">Two More Confirmed Cases of Novel Coronavirus Infection in Singapore</a></span>,\n",
       " <span style=\"font-family: Arial; font-size: 16px;\">05 Feb 2020</span>,\n",
       " <span style=\"font-family: Arial; font-size: 16px;\">Four More Confirmed Cases of Novel Coronavirus Infection in Singapore</span>,\n",
       " <span style=\"font-family: Arial; font-size: 16px;\">05 Feb 2020</span>,\n",
       " <span style=\"font-family: Arial;\"><span style=\"font-size: 16px;\"><a class=\"\" href=\"https://www.mom.gov.sg/2019-ncov/advisory-for-employers-and-employees-travelling-to-and-from-mainland-china\" target=\"_blank\" title=\"\">Advisory for employers and employees travelling to and from Mainland China in response to increase in cases of 2019 Novel Coronavirus (2019-nCoV)</a> (Updated) - Ministry of Manpower (MOM)</span></span>,\n",
       " <span style=\"font-size: 16px;\"><a class=\"\" href=\"https://www.mom.gov.sg/2019-ncov/advisory-for-employers-and-employees-travelling-to-and-from-mainland-china\" target=\"_blank\" title=\"\">Advisory for employers and employees travelling to and from Mainland China in response to increase in cases of 2019 Novel Coronavirus (2019-nCoV)</a> (Updated) - Ministry of Manpower (MOM)</span>,\n",
       " <span style=\"font-family: Arial; font-size: 16px;\">04 Feb 2020</span>,\n",
       " <span style=\"font-family: Arial; font-size: 16px;\">04 Feb 2020</span>,\n",
       " <span style=\"font-family: Arial; font-size: 16px;\"><a class=\"\" href=\"https://www.msf.gov.sg/media-room/Pages/2019-novel-coronavirus-advisory.aspx\" target=\"_blank\" title=\"\">Advisory to Residential and Community-based Facilities on Additional Precautionary Measures</a> - Ministry for Social and Family Development (MSF)<br/></span>,\n",
       " <span style=\"font-family: Arial; font-size: 16px;\">04 Feb 2020</span>,\n",
       " <span style=\"font-family: Arial;\"><span style=\"font-size: 16px;\"><a class=\"\" href=\"https://www.mom.gov.sg/2019-ncov/general-advisory-for-workplaces-and-frontline-workers\" target=\"_blank\" title=\"\">General advisory for workplaces and frontline workers in response to confirmed cases of local transmission of novel coronavirus in Singapore</a> - MTI, MOM. NTUC, SNEF </span></span>,\n",
       " <span style=\"font-size: 16px;\"><a class=\"\" href=\"https://www.mom.gov.sg/2019-ncov/general-advisory-for-workplaces-and-frontline-workers\" target=\"_blank\" title=\"\">General advisory for workplaces and frontline workers in response to confirmed cases of local transmission of novel coronavirus in Singapore</a> - MTI, MOM. NTUC, SNEF </span>,\n",
       " <span style=\"font-family: Arial; font-size: 16px;\">04 Feb 2020</span>,\n",
       " <span style=\"font-family: Arial;\"><span style=\"font-size: 16px;\"><a class=\"\" href=\"https://www.ecda.gov.sg/PressReleases/Pages/Advisory-to%20Parents-Precautionary%20Measures%20In%20Preschools.aspx\" target=\"_blank\" title=\"\">Advisory to Parents: Precautionary Measures in Preschools - 2019-nCoV</a> - Early Childhood Development Agency (ECDA)</span></span>,\n",
       " <span style=\"font-size: 16px;\"><a class=\"\" href=\"https://www.ecda.gov.sg/PressReleases/Pages/Advisory-to%20Parents-Precautionary%20Measures%20In%20Preschools.aspx\" target=\"_blank\" title=\"\">Advisory to Parents: Precautionary Measures in Preschools - 2019-nCoV</a> - Early Childhood Development Agency (ECDA)</span>,\n",
       " <span style=\"font-family: Arial; font-size: 16px;\">04 Feb 2020</span>,\n",
       " <span style=\"font-family: Arial;\"><span style=\"font-size: 16px;\"><a class=\"\" href=\"https://www.moe.gov.sg/news/press-releases/additional-precautionary-measures-against-the-2019-novel-coronavirus-infection\" target=\"_blank\" title=\"\">Additional Precautionary Measures against the 2019 Novel Coronavirus Infection</a> - Ministry of Education (MOE) and Ministry of Social and Family Development (MSF)</span></span>,\n",
       " <span style=\"font-size: 16px;\"><a class=\"\" href=\"https://www.moe.gov.sg/news/press-releases/additional-precautionary-measures-against-the-2019-novel-coronavirus-infection\" target=\"_blank\" title=\"\">Additional Precautionary Measures against the 2019 Novel Coronavirus Infection</a> - Ministry of Education (MOE) and Ministry of Social and Family Development (MSF)</span>,\n",
       " <span style=\"font-family: Arial; font-size: 16px;\">04 Feb 2020</span>,\n",
       " <span style=\"font-family: Arial; font-size: 16px;\">Update on Novel Coronavirus Infection in Singapore</span>,\n",
       " <span style=\"font-family: Arial; font-size: 16px;\">04 Feb 2020</span>,\n",
       " <span style=\"font-family: Arial; font-size: 16px;\"><a class=\"\" href=\"https://www.moh.gov.sg/news-highlights/details/confirmed-cases-of-local-transmission-of-novel-coronavirus-infection-in-singapore\" target=\"_blank\" title=\"\">Confirmed Cases of Local Transmission of Novel Coronavirus Infection in Singapore</a></span>,\n",
       " <span style=\"font-family: Arial; font-size: 16px;\">03 Feb 2020</span>,\n",
       " <span style=\"font-family: Arial; font-size: 16px;\"><a class=\"\" href=\"https://www.nea.gov.sg/docs/default-source/our-services/public-cleanliness/advisory-to-food-establishments-revised-3-feb-2020.PDF\" target=\"_blank\" title=\"\">Sanitation and Hygiene Advisory for Food Establishments</a> - National Environment Agency (NEA) and Singapore Food Agency (SFA)</span>,\n",
       " <span style=\"font-family: Arial; font-size: 16px;\">03 Feb 2020</span>,\n",
       " <span style=\"font-family: Arial; font-size: 16px;\">Joint Statement by Ministry of National Development, Ministry of Education, and Ministry of Manpower on Persons Placed on Home Quarantined Orders and Leave of Absence</span>,\n",
       " <span style=\"font-family: Arial; font-size: 16px;\">03 Feb 2020</span>,\n",
       " <span style=\"font-family: Arial; font-size: 16px;\"><a class=\"\" href=\"https://www.moh.gov.sg/news-highlights/details/no-new-confirmed-cases-of-novel-coronavirus-infection-in-singapore-3-Feb\" target=\"_blank\" title=\"\">No New Confirmed Cases of Novel Coronavirus Infection in Singapore</a> <br/></span>,\n",
       " <span style=\"font-family: Arial; font-size: 16px;\">03 Feb 2020</span>,\n",
       " <span style=\"font-family: Arial; font-size: 16px;\"><a class=\"\" href=\"https://www.sgpc.gov.sg/media_releases/mnd/speech/S-20200203-1\" target=\"_blank\" title=\"\">Ministerial Statement by Mr Lawrence Wong, Minister for National Development (MND) on Whole-of-Government Response to 2019 Novel Coronavirus (2019-nCoV)</a><br/></span>,\n",
       " <span style=\"font-family: Arial; font-size: 16px;\">03 Feb 2020</span>,\n",
       " <span style=\"font-family: Arial; font-size: 16px;\">Ministerial Statement by Mr Gan Kim Yong, Minister for Health (MOH), on Whole-of-Government Response to 2019 Novel Coronavirus (2019-nCoV)</span>,\n",
       " <span style=\"font-family: Arial; font-size: 16px;\">03 Feb 2020</span>,\n",
       " <span style=\"font-family: Arial;\"><span style=\"font-size: 16px;\"><a class=\"\" href=\"https://www.ecda.gov.sg/PressReleases/Pages/Advisory-to%20Parents-Precautionary%20Measures%20In%20Preschools.aspx\" target=\"_blank\" title=\"\">Advisory to Parents: Precautionary Measures in Preschools - 2019-nCoV</a> - Early Childhood Development Agency (ECDA)</span></span>,\n",
       " <span style=\"font-size: 16px;\"><a class=\"\" href=\"https://www.ecda.gov.sg/PressReleases/Pages/Advisory-to%20Parents-Precautionary%20Measures%20In%20Preschools.aspx\" target=\"_blank\" title=\"\">Advisory to Parents: Precautionary Measures in Preschools - 2019-nCoV</a> - Early Childhood Development Agency (ECDA)</span>,\n",
       " <span style=\"font-family: Arial; font-size: 16px;\">02 Feb 2020</span>,\n",
       " <span style=\"font-family: Arial; font-size: 16px;\"><a class=\"\" href=\"https://www.moh.gov.sg/news-highlights/details/no-new-confirmed-cases-of-novel-coronavirus-infection-in-singapore\" target=\"_blank\" title=\"\">No New Confirmed Cases of 2019 Novel Coronavirus Infection in Singapore</a> <br/></span>,\n",
       " <span style=\"font-family: Arial; font-size: 16px;\">02 Feb 2020</span>,\n",
       " <span style=\"font-family: Arial; font-size: 16px;\">Advisory for Individuals Sharing Residential Spaces with Persons on Leave of Absence</span>,\n",
       " <span style=\"font-family: Arial; font-size: 16px;\">02 Feb 2020</span>,\n",
       " <span style=\"font-family: Arial; font-size: 16px;\">Singapore Tourism Board (STB) unveils targeted measures to support tourism businesses affected by 2019-nCoV</span>,\n",
       " <span style=\"font-family: Arial; font-size: 16px;\">01 Feb 2020 </span>,\n",
       " <span style=\"font-family: Arial;\"><span style=\"font-size: 16px;\"><a class=\"\" href=\"https://www.ntuc.org.sg/wps/portal/up2/home/news/mediareleases/mediareleasesdetails?WCM_GLOBAL_CONTEXT=/Content_Library/ntuc/home/about%20ntuc/newsroom/media%20releases/fa696f01-912d-44a3-a374-f2dcb5fedfe2\" target=\"_blank\" title=\"\">Tripartite Care Package for Taxi and Private Hire Drivers placed on Quarantine due to Wuhan Coronavirus</a> - National Trade Union Congress (NTUC) </span></span>,\n",
       " <span style=\"font-size: 16px;\"><a class=\"\" href=\"https://www.ntuc.org.sg/wps/portal/up2/home/news/mediareleases/mediareleasesdetails?WCM_GLOBAL_CONTEXT=/Content_Library/ntuc/home/about%20ntuc/newsroom/media%20releases/fa696f01-912d-44a3-a374-f2dcb5fedfe2\" target=\"_blank\" title=\"\">Tripartite Care Package for Taxi and Private Hire Drivers placed on Quarantine due to Wuhan Coronavirus</a> - National Trade Union Congress (NTUC) </span>,\n",
       " <span style=\"font-family: Arial; font-size: 16px;\">01 Feb 2020</span>,\n",
       " <span style=\"font-family: Arial; font-size: 16px;\"><a class=\"\" href=\"https://www.mof.gov.sg/newsroom/press-releases/government-support-for-firms-and-workers-in-response-to-the-2019-ncov-novel-coronavirus-outbreak\" target=\"_blank\" title=\"\">Government support for firms and workers in response to the 2019 Novel Coronavirus outbreak</a> - Ministry of Finance (MOF) and Ministry of Trade and Industry (MTI)</span>,\n",
       " <span style=\"font-family: Arial; font-size: 16px;\">01 Feb 2020</span>,\n",
       " <span style=\"font-family: Arial; font-size: 16px;\"><a class=\"\" href=\"https://www.moh.gov.sg/news-highlights/details/two-more-confirmed-imported-cases-of-novel-coronavirus-infection-in-singapore\" target=\"_blank\" title=\"\">Two More Confirmed Imported Cases of Novel Coronavirus Infection in Singapore</a></span>,\n",
       " <span style=\"font-family: Arial; font-size: 16px;\">01 Feb 2020</span>,\n",
       " <span style=\"font-family: Arial; font-size: 16px;\"><a class=\"\" href=\"https://www.moh.gov.sg/docs/librariesprovider5/default-document-library/moh-health-advisory-for-persons-placed-on-leave-of-absence---01-feb-2020-1850h.pdf?sfvrsn=85a9eec1_0\" target=\"_blank\" title=\"MOH Health Advisory for Persons Placed on Leave of Absence - 01 Feb 2020 1850H\">Health Advisory for Persons Placed on Leave of Absence (LOA) - 01 Feb 2020</a> - Updated </span>,\n",
       " <span style=\"font-family: Arial; font-size: 16px;\">01 Feb 2020</span>,\n",
       " <span style=\"font-family: Arial; font-size: 16px;\"><a class=\"\" href=\"https://www.moh.gov.sg/2019-ncov-wuhan/faqs\" target=\"_blank\" title=\"\">Updated FAQs on Masks</a></span>,\n",
       " <span style=\"font-family: Arial; font-size: 16px;\">01 Feb 2020</span>,\n",
       " <span style=\"font-family: Arial; font-size: 16px;\"><a class=\"\" href=\"https://www.pa.gov.sg/Newsroom/News/detail/Collection-of-Masks-from-1-Feb-9-Feb-at-RCs-and-CCs\" target=\"_blank\" title=\"\">Collection of Masks from 01 Feb to 09 Feb 2020 at Residents' Committee (RC) Centres and Community Clubs (CCs)</a> - People's Association </span>,\n",
       " <span style=\"font-family: Arial; font-size: 16px;\">01 Feb 2020</span>,\n",
       " <span style=\"font-family: Arial; font-size: 16px;\"><a class=\"\" href=\"https://www.mti.gov.sg/Newsroom/Updates-on-2019-novel-coronavirus\" target=\"_blank\" title=\"\">Advisory on 2019 Novel Coronavirus for Businesses</a> - Ministry of Trade and Industry (MTI)</span>,\n",
       " <span style=\"font-family: Arial; font-size: 16px;\"><strong><u>Date</u></strong></span>,\n",
       " <span style=\"font-family: Arial; font-size: 16px;\"><strong><u>Title </u></strong></span>,\n",
       " <span style=\"font-family: Arial; font-size: 16px;\"> 31 Jan 2020</span>,\n",
       " <span style=\"font-family: Arial; font-size: 16px;\"><a class=\"\" href=\"https://www.pmo.gov.sg/Newsroom/PM-Lee-Doorstop-Interview-at-NCID \" target=\"_blank\" title=\"\">Doorstop interview with Prime Minister Lee Hsien Loong at the National Centre for Infectious Diseases (NCID) </a></span>,\n",
       " <span style=\"font-family: Arial; font-size: 16px;\">31 Jan 2020</span>,\n",
       " <span style=\"font-family: Arial; font-size: 16px;\"> (revised 03 Feb)</span>,\n",
       " <span style=\"font-family: Arial; font-size: 16px;\">31 Jan 2020</span>,\n",
       " <span style=\"font-size: 16px;\"><a class=\"\" href=\"https://www.csa.gov.sg/singcert/alerts/malicious-cyber-activities-leveraging-wuhan-coronavirus-situation--\" target=\"_blank\" title=\"\"><span style=\"font-family: Arial;\">Malicious Cyber Activities Leveraging Wuhan Coronavirus Situation</span></a></span>,\n",
       " <span style=\"font-family: Arial;\">Malicious Cyber Activities Leveraging Wuhan Coronavirus Situation</span>,\n",
       " <span style=\"font-family: Arial; font-size: 16px;\">31 Jan 2020</span>,\n",
       " <span style=\"font-family: Arial; font-size: 16px;\">Update on Additional Measures by the Ministry of Manpower to Minimise the Risk of Community Spread of Wuhan Coronavirus</span>,\n",
       " <span style=\"font-family: Arial; font-size: 16px;\">31 Jan 2020</span>,\n",
       " <span style=\"font-family: Arial; font-size: 16px;\"><a class=\"\" href=\"https://www.moh.gov.sg/news-highlights/details/three-more-confirmed-imported-cases-of-wuhan-coronavirus-infection-in-singapore-31-jan\" target=\"_blank\" title=\"\">Three More Confirmed Imported Cases of Wuhan Coronavirus Infection in Singapore</a> <br/></span>,\n",
       " <span style=\"font-family: Arial; font-size: 16px;\">31 Jan 2020</span>,\n",
       " <span style=\"font-family: Arial; font-size: 16px;\"><a class=\"\" href=\"https://www.sgpc.gov.sg/media_releases/mnd/speech/S-20200131-2\" target=\"_blank\" title=\"\">Speech by Mr Lawrence Wong, Minister for National Development, at Press Conference on Wuhan Coronavirus (31 Jan 2020, 5pm)</a><br/></span>,\n",
       " <span style=\"font-family: Arial; font-size: 16px;\">31 Jan 2020</span>,\n",
       " <span style=\"font-family: Arial; font-size: 16px;\"><a class=\"\" href=\"https://www.moh.gov.sg/news-highlights/details/extension-of-precautionary-measures-to-minimise-risk-of-community-spread-in-singapore\" target=\"_blank\" title=\"\">Extension of Precautionary Measures to Minimise Risk of Community Spread in Singapore</a> </span>,\n",
       " <span style=\"font-family: Arial; font-size: 16px;\">31 Jan 2020<br/></span>,\n",
       " <span style=\"font-family: Arial; font-size: 16px;\"><a class=\"\" href=\"https://www.gov.sg/article/factually-clarifications-on-falsehoods-posted-by-abtc-city-news\" target=\"_blank\" title=\"\">Corrections and clarifications regarding falsehoods published by AB-TC City News' website</a></span>,\n",
       " <span style=\"font-family: Arial; font-size: 16px;\">31 Jan 2020</span>,\n",
       " <span style=\"font-family: Arial; font-size: 16px;\"><a class=\"\" href=\"https://www.gov.sg/article/factually-clarifications-on-falsehoods-posted-by-str-on-availability-of-face-masks\" target=\"_blank\" title=\"\">Corrections and clarifications regarding falsehoods published by States Times Review on availability of face masks</a></span>,\n",
       " <span style=\"font-family: Arial; font-size: 16px;\">30 Jan 2020</span>,\n",
       " <span style=\"font-family: Arial; font-size: 16px;\"><a class=\"\" href=\"https://www.moh.gov.sg/news-highlights/details/three-more-confirmed-imported-cases-of-wuhan-coronavirus-infection-in-singapore-30Jan\" target=\"_blank\" title=\"\">Three More Confirmed Imported Cases of Wuhan Coronavirus Infection in Singapore</a></span>,\n",
       " <span style=\"font-family: Arial; font-size: 16px;\">30 Jan 2020</span>,\n",
       " <span style=\"font-family: Arial; font-size: 16px;\"><a class=\"\" href=\"https://www.sgpc.gov.sg/media_releases/mti/press_release/P-20200130-5\" target=\"_blank\" title=\"\">Issuance of letters by the Price Controller to sellers that have received consumer complaints</a></span>,\n",
       " <span style=\"font-family: Arial; font-size: 16px;\">30 Jan 2020</span>,\n",
       " <span style=\"font-family: Arial; font-size: 16px;\"><a class=\"\" href=\"https://www.sgpc.gov.sg/media_releases/mpa/press_release/P-20200130-2\" target=\"_blank\" title=\"\">Advisory to Shipping Community on the Wuhan Coronavirus</a></span>,\n",
       " <span style=\"font-family: Arial; font-size: 16px;\">30 Jan 2020</span>,\n",
       " <span style=\"font-family: Arial; font-size: 16px;\"><a class=\"\" href=\"https://www.sgpc.gov.sg/media_releases/mti/press_release/P-20200130-3\" target=\"_blank\" title=\"\">Transcript: Remarks by Minister Chan Chun Sing at Media briefing on Wuhan Coronavirus</a><br/></span>,\n",
       " <span style=\"font-family: Arial; font-size: 16px;\">30 Jan 2020</span>,\n",
       " <span style=\"font-family: Arial; font-size: 16px;\"><span style=\"font-family: Arial;\"><a class=\"\" href=\"https://www.sgpc.gov.sg/media_releases/mnd/speech/S-20200130-1\" target=\"_blank\" title=\"\">Speech by Mr Lawrence Wong, Minister for National Development at Media Briefing on Wuhan Coronavirus, 30 Jan 2020, 12pm</a> </span><br/></span>,\n",
       " <span style=\"font-family: Arial;\"><a class=\"\" href=\"https://www.sgpc.gov.sg/media_releases/mnd/speech/S-20200130-1\" target=\"_blank\" title=\"\">Speech by Mr Lawrence Wong, Minister for National Development at Media Briefing on Wuhan Coronavirus, 30 Jan 2020, 12pm</a> </span>,\n",
       " <span style=\"font-family: Arial; font-size: 16px;\">29 Jan 2020</span>,\n",
       " <span style=\"font-family: Arial; font-size: 16px;\"><a class=\"\" href=\"https://www.moh.gov.sg/news-highlights/details/three-more-confirmed-imported-cases-of-wuhan-coronavirus-infection-in-singapore\" target=\"_blank\" title=\"\">Three More Confirmed Imported Cases of Wuhan Coronavirus Infection in Singapore</a></span>,\n",
       " <span style=\"font-family: Arial; font-size: 16px;\"></span>,\n",
       " <span style=\"font-family: Arial; font-size: 16px;\">29 Jan 2020</span>,\n",
       " <span style=\"font-family: Arial; font-size: 16px;\"><a href=\"/docs/librariesprovider5/default-document-library/quarantine-order-allowance-scheme-(for-web).pdf?sfvrsn=570fd993_0\" title=\"Quarantine Order Allowance Scheme\">Quarantine Order Allowance Scheme</a><br/></span>,\n",
       " <span style=\"font-family: Arial; font-size: 16px;\">29 Jan 2020</span>,\n",
       " <span style=\"font-family: Arial; font-size: 16px;\"><a class=\"\" href=\"https://www.sfa.gov.sg/docs/default-source/default-document-library/advisory-to-food-establishments_final.pdf\" target=\"_blank\" title=\"\">Sanitation and Hygiene Advisory for Food Establishments</a> - National Environment Agency (NEA) and Singapore Food Agency (SFA)</span>,\n",
       " <span style=\"font-family: Arial; font-size: 16px;\">29 Jan 2020</span>,\n",
       " <span style=\"font-family: Arial; font-size: 16px;\"><a class=\"\" href=\"https://www.enterprisesg.gov.sg/2019-ncov\" target=\"_blank\" title=\"\">Advisory on the Wuhan Coronavirus for Businesses</a> - Enterprise Singapore (ESG)<br/></span>,\n",
       " <span style=\"font-family: Arial; font-size: 16px;\">28 Jan 2020</span>,\n",
       " <span style=\"font-family: Arial; font-size: 16px;\"><span style=\"font-family: Arial;\"><a class=\"\" href=\"https://www.moh.gov.sg/2019-ncov-wuhan/advisories-for-various-sectors\" target=\"_blank\" title=\"\">Update to Sector Specific Advisories</a> - Building and Construction Authority (BCA) and National Environment Agency (NEA) </span><br/></span>,\n",
       " <span style=\"font-family: Arial;\"><a class=\"\" href=\"https://www.moh.gov.sg/2019-ncov-wuhan/advisories-for-various-sectors\" target=\"_blank\" title=\"\">Update to Sector Specific Advisories</a> - Building and Construction Authority (BCA) and National Environment Agency (NEA) </span>,\n",
       " <span style=\"font-family: Arial; font-size: 16px;\">28 Jan 2020</span>,\n",
       " <span style=\"font-family: Arial; font-size: 16px;\"><a class=\"\" href=\"https://www.moh.gov.sg/news-highlights/details/update-on-wuhan-coronavirus-infection-in-singapore-28Jan\" target=\"_blank\" title=\"\">Update on Wuhan Coronavirus Infection in Singapore</a> </span>,\n",
       " <span style=\"font-family: Arial; font-size: 16px;\">28 Jan 2020</span>,\n",
       " <span style=\"font-family: Arial; font-size: 16px;\"><span style=\"font-family: Arial;\"><a class=\"\" href=\"https://www.mot.gov.sg/news-centre/news/detail/corrections-and-clarifications-regarding-falsehoods-that-woodlands-mrt-closed-for-disinfection\" target=\"_blank\" title=\"\">Corrections and clarifications regarding falsehoods that Woodlands MRT closed for disinfection </a></span><br/></span>,\n",
       " <span style=\"font-family: Arial;\"><a class=\"\" href=\"https://www.mot.gov.sg/news-centre/news/detail/corrections-and-clarifications-regarding-falsehoods-that-woodlands-mrt-closed-for-disinfection\" target=\"_blank\" title=\"\">Corrections and clarifications regarding falsehoods that Woodlands MRT closed for disinfection </a></span>,\n",
       " <span style=\"font-family: Arial; font-size: 16px;\">28 Jan 2020</span>,\n",
       " <span style=\"font-family: Arial; font-size: 16px;\"><a class=\"\" href=\"https://www.mom.gov.sg/newsroom/press-releases/2020/0128-additional-measures-to-contain-spread-of-wuhan-virus\" target=\"_blank\" title=\"\">Additional Measures by Ministry of Manpower to Contain Spread of Wuhan Virus</a></span>,\n",
       " <span style=\"font-family: Arial; font-size: 16px;\">28 Jan 2020</span>,\n",
       " <span style=\"font-family: Arial; font-size: 16px;\"><a class=\"\" href=\"https://www.moh.gov.sg/news-highlights/details/additional-precautionary-measures-to-minimise-risk-of-community-spread-in-singapore\" target=\"_blank\" title=\"Additionary Precautionary Measures to Minimise Risk of Community Spread in Singapore\">Additionary Precautionary Measures to Minimise Risk of Community Spread in Singapore</a> </span>,\n",
       " <span style=\"font-family: Arial; font-size: 16px;\">28 Jan 2020</span>,\n",
       " <span style=\"font-family: Arial; font-size: 16px;\">Two More Confirmed Imported Cases of Wuhan Coronavirus Infection in Singapore</span>,\n",
       " <span style=\"font-family: Arial; font-size: 16px;\">27 Jan 2020</span>,\n",
       " <span style=\"font-family: Arial; font-size: 16px;\"><a class=\"\" href=\"https://www.moh.gov.sg/news-highlights/details/fifth-confirmed-imported-case-of-wuhan-coronavirus-infection-in-singapore-27Jan\" target=\"_blank\" title=\"\">Fifth Confirmed Imported Case of Wuhan Coronavirus Infection in Singapore</a></span>,\n",
       " <span style=\"font-family: Arial; font-size: 16px;\">27 Jan 2020</span>,\n",
       " <span style=\"font-family: Arial; font-size: 16px;\"><a href=\"/docs/librariesprovider5/default-document-library/moh-health-advisory-for-persons-placed-on-leave-of-absence---27-jan-20208e77497be7e64648824b108a5a797c3a.pdf?sfvrsn=a56ca620_0\"><span style=\"font-family: Arial; font-size: 16px;\">Health Advisory for Persons under Leave of Absence (LOA)</span></a></span>,\n",
       " <span style=\"font-family: Arial; font-size: 16px;\">Health Advisory for Persons under Leave of Absence (LOA)</span>,\n",
       " <span style=\"font-family: Arial; font-size: 16px;\">27 Jan 2020 </span>,\n",
       " <span style=\"font-family: Arial; font-size: 16px;\"><a class=\"\" href=\"https://www.sgpc.gov.sg/media_releases/ica/press_release/P-20200127-1\" target=\"_blank\" title=\"Referral of Chinese nationals with passports issued in Hubei province to health screening stations at airports\">Referral of Chinese Nationals with Passports Issued in Hubei Province to Health Screening Stations at Airports</a></span>,\n",
       " <span style=\"font-family: Arial; font-size: 16px;\">27 Jan 2020</span>,\n",
       " <span style=\"font-family: Arial; font-size: 16px;\"><a class=\"\" href=\"https://www.sgpc.gov.sg/media_releases/mti/press_release/P-20200127-2\" target=\"_blank\" title=\"\">Transcript of Minister Chan Chun Sing's remarks at Wuhan Virus Press Conference on 27 Jan </a></span>,\n",
       " <span style=\"font-family: Arial; font-size: 16px;\">27 Jan 2020</span>,\n",
       " <span style=\"font-family: Arial; font-size: 16px;\"><a class=\"\" href=\"https://www.sgpc.gov.sg/media_releases/moh/press_release/P-20200127-1\" target=\"_blank\" title=\"\">Minister Gan Kim Yong's remarks at Ministerial Press Conference on Wuhan Coronavirus</a> </span>,\n",
       " <span style=\"font-family: Arial; font-size: 16px;\">27 Jan 2020</span>,\n",
       " <span style=\"font-family: Arial; font-size: 16px;\"><a class=\"\" href=\"https://www.sgpc.gov.sg/media_releases/mnd/speech/S-20200127-1\" target=\"_blank\" title=\"\">Speech by Mr Lawrence Wong, Minister for National Development, at the Ministerial Press Conference on Wuhan Coronavirus</a> </span>,\n",
       " <span style=\"font-family: Arial; font-size: 16px;\">27 Jan 2020</span>,\n",
       " <span style=\"font-family: Arial; font-size: 16px;\"><a class=\"\" href=\"https://www.sgpc.gov.sg/media_releases/imda/press_release/P-20200127-1\" target=\"_blank\" title=\"\">Minister for Health Instructs POFMA Office to Issue General Correction Direction</a> </span>,\n",
       " <span style=\"font-family: Arial; font-size: 16px;\">27 Jan 2020</span>,\n",
       " <span style=\"font-family: Arial; font-size: 16px;\"><a class=\"\" href=\"https://www.moh.gov.sg/2019-ncov-wuhan/advisories-for-various-sectors\" target=\"_blank\" title=\"\">Update to Sector Specific Advisories </a></span>,\n",
       " <span style=\"font-family: Arial; font-size: 16px;\">27 Jan 2020</span>,\n",
       " <span style=\"font-family: Arial; font-size: 16px;\"><a href=\"/docs/librariesprovider5/default-document-library/multi-ministry-taskforce-on-wuhan-coronavirus-and-tor---final.pdf?sfvrsn=2f33bc1f_0\" title=\"Multi Ministry Taskforce on Wuhan Coronavirus - Terms of Reference and Composition\">Multi Ministry Taskforce on Wuhan Coronavirus - Terms of Reference and Composition</a></span>,\n",
       " <span style=\"font-family: Arial; font-size: 16px;\">27 Jan 2020</span>,\n",
       " <span style=\"font-family: Arial; font-size: 16px;\"><a class=\"\" href=\"https://www.ecda.gov.sg/PressReleases/Pages/Advisory-New-Precautionary-Measure-Leave-Of-Absence-for-Preschool-Staff-and-Children-Returning-From-China.aspx \" target=\"_blank\" title=\"\">New Precautionary Measure: Leave Of Absence for Preschool Staff and Children Returning From China</a></span>,\n",
       " <span style=\"font-family: Arial; font-size: 16px;\">26 Jan 2020</span>,\n",
       " <span style=\"font-family: Arial; font-size: 16px;\">Update on Wuhan Coronavirus Infection in Singapore</span>,\n",
       " <span style=\"font-family: Arial; font-size: 16px;\">26 Jan 2020</span>,\n",
       " <span style=\"font-family: Arial; font-size: 16px;\">Fourth Confirmed Imported Case of Wuhan Coronavirus Infection in Singapore</span>,\n",
       " <span style=\"font-family: Arial; font-size: 16px;\">25 Jan 2020</span>,\n",
       " <span style=\"font-family: Arial;\"><span style=\"font-size: 16px;\"><a class=\"\" href=\"https://www.moh.gov.sg/news-highlights/details/update-on-novel-coronavirus-infection-in-singapore\" target=\"_blank\" title=\"\">Update on Novel Coronavirus Infection in Singapore</a></span></span>,\n",
       " <span style=\"font-size: 16px;\"><a class=\"\" href=\"https://www.moh.gov.sg/news-highlights/details/update-on-novel-coronavirus-infection-in-singapore\" target=\"_blank\" title=\"\">Update on Novel Coronavirus Infection in Singapore</a></span>,\n",
       " <span style=\"font-family: Arial; font-size: 16px;\">24 Jan 2020</span>,\n",
       " <span style=\"font-family: Arial; font-size: 16px;\"><a class=\"\" href=\"https://www.moh.gov.sg/news-highlights/details/two-more-cases-of-confirmed-imported-case-of-novel-coronavirus-infection-in-singapore\" target=\"_blank\" title=\"\">Two More Cases of Confirmed imported Case of Novel Coronavirus Infection in Singapore</a></span>,\n",
       " <span style=\"font-family: Arial; font-size: 16px;\">24 Jan 2020</span>,\n",
       " <span style=\"font-family: Arial; font-size: 16px;\"><a class=\"\" href=\"https://www.sgpc.gov.sg/media_releases/ica/press_release/P-20200124-1\" target=\"_blank\" title=\"\">Temperature Screening To Be Implemented At The Land Checkpoints From 24 January 2020</a></span>,\n",
       " <span style=\"font-family: Arial; font-size: 16px;\">24 Jan 2020</span>,\n",
       " <span style=\"font-family: Arial; font-size: 16px;\">Temperature Screening at Sea Checkpoints</span>,\n",
       " <span style=\"font-family: Arial; font-size: 16px;\">24 Jan 2020</span>,\n",
       " <span style=\"font-family: Arial; font-size: 16px;\"><a class=\"\" href=\"https://www.ecda.gov.sg/PressReleases/Pages/Advisory-to-Preschools-Travel-Declaration-in-Response-to-Novel-Coronavirus-Situation-.aspx \" target=\"_blank\" title=\"\">Travel Declaration in Response to Novel Coronavirus Situation</a></span>,\n",
       " <span style=\"font-family: Arial; font-size: 16px;\">23 Jan 2020</span>,\n",
       " <span style=\"font-size: 16px;\"><span style=\"font-family: Arial;\"><a class=\"\" href=\"https://www.moh.gov.sg/news-highlights/details/confirmed-imported-case-of-novel-coronavirus-infection-in-singapore-multi-ministry-taskforce-ramps-up-precautionary-measures\" target=\"_blank\" title=\"\">Confirmed Imported Case of Novel Coronavirus Infection in Singapore; Multi-Ministry Taskforce Ramps Up Precautionary Measures</a></span></span>,\n",
       " <span style=\"font-family: Arial;\"><a class=\"\" href=\"https://www.moh.gov.sg/news-highlights/details/confirmed-imported-case-of-novel-coronavirus-infection-in-singapore-multi-ministry-taskforce-ramps-up-precautionary-measures\" target=\"_blank\" title=\"\">Confirmed Imported Case of Novel Coronavirus Infection in Singapore; Multi-Ministry Taskforce Ramps Up Precautionary Measures</a></span>,\n",
       " <span style=\"font-family: Arial; font-size: 16px;\">23 Jan 2020</span>,\n",
       " <span style=\"font-family: Arial; font-size: 16px;\"><a class=\"\" href=\"https://www.ecda.gov.sg/PressReleases/Pages/Advisory-to-Preschools-Novel-Coronavirus-in-China.aspx \" target=\"_blank\" title=\"\">Further Update to Preschools on Measures in Response to Novel Coronavirus Pneumonia in Wuhan</a></span>,\n",
       " <span style=\"font-family: Arial; font-size: 16px;\">23 Jan 2020</span>,\n",
       " <span style=\"font-family: Arial; font-size: 16px;\"><a class=\"\" href=\"https://www.moh.gov.sg/news-highlights/details/moh-updates-public-health-travel-advisory-in-response-to-cases-of-novel-coronavirus-in-china\" target=\"_blank\" title=\"\">MOH Updates Public Health Travel Advisory in Response to Cases of Novel Coronavirus in China</a></span>,\n",
       " <span style=\"font-family: Arial; font-size: 16px;\">22 Jan 2020</span>,\n",
       " <span style=\"font-family: Arial; font-size: 16px;\">22 Jan 2020</span>,\n",
       " <span style=\"font-family: Arial; font-size: 16px;\">21 Jan 2020</span>,\n",
       " <span style=\"font-family: Arial; font-size: 16px;\"><a class=\"\" href=\"https://www.moh.gov.sg/news-highlights/details/update-on-local-situation-regarding-severe-pneumonia-cluster-in-wuhan-21-jan\" target=\"_blank\" title=\"\">Update on Local Situation Regarding Severe Pneumonia Cluster in Wuhan</a></span>,\n",
       " <span style=\"font-family: Arial; font-size: 16px;\">21 Jan 2020</span>,\n",
       " <span style=\"font-family: Arial; font-size: 16px;\"><a class=\"\" href=\"https://www.moh.gov.sg/news-highlights/details/additional-precautionary-measures-in-response-to-novel-coronavirus-pneumonia-in-china\" target=\"_blank\" title=\"\">Additional Precautionary Measures in Response to Novel Coronavirus Pneumonia in China</a></span>,\n",
       " <span style=\"font-family: Arial; font-size: 16px;\">20 Jan 2020</span>,\n",
       " <span style=\"font-family: Arial; font-size: 16px;\"><a class=\"\" href=\"https://www.moh.gov.sg/news-highlights/details/update-on-local-situation-regarding-severe-pneumonia-cluster-in-wuhan-20-jan\" target=\"_blank\" title=\"\">Update on Local Situation Regarding Severe Pneumonia Cluster in Wuhan</a></span>,\n",
       " <span style=\"font-family: Arial; font-size: 16px;\">20 Jan 2020</span>,\n",
       " <span style=\"font-family: Arial; font-size: 16px;\"><a class=\"\" href=\"https://www.moh.gov.sg/news-highlights/details/moh-steps-up-precautionary-measures-in-response-to-increase-in-cases-of-novel-coronavirus-pneumonia-in-wuhan\" target=\"_blank\" title=\"\">MOH Steps Up Precautionary Measures in Response to Increase In Cases of Novel Coronavirus Pneumonia in Wuhan</a></span>,\n",
       " <span style=\"font-family: Arial; font-size: 16px;\">18 Jan 2020</span>,\n",
       " <span style=\"font-family: Arial; font-size: 16px;\"><a class=\"\" href=\"https://www.moh.gov.sg/news-highlights/details/update-on-local-situation-regarding-severe-pneumonia-cluster-in-wuhan-18-jan\" target=\"_blank\" title=\"\">Update on Local Situation Regarding Severe Pneumonia Cluster in Wuhan</a></span>,\n",
       " <span style=\"font-family: Arial; font-size: 16px;\">17 Jan 2020</span>,\n",
       " <span style=\"font-family: Arial; font-size: 16px;\"><a class=\"\" href=\"https://www.moh.gov.sg/news-highlights/details/update-on-local-situation-regarding-severe-pneumonia-cluster-in-wuhan-17-jan\" target=\"_blank\" title=\"\">Update on Local Situation Regarding Severe Pneumonia Cluster in Wuhan</a></span>,\n",
       " <span style=\"font-family: Arial; font-size: 16px;\">16 Jan 2020</span>,\n",
       " <span style=\"font-family: Arial; font-size: 16px;\"><a class=\"\" href=\"https://www.moh.gov.sg/news-highlights/details/update-on-local-situation-regarding-severe-pneumonia-cluster-in-wuhan-16-jan\" target=\"_blank\" title=\"\">Update on Local Situation Regarding Severe Pneumonia Cluster in Wuhan</a></span>,\n",
       " <span style=\"font-family: Arial; font-size: 16px;\">11 Jan 2020</span>,\n",
       " <span style=\"font-family: Arial; font-size: 16px;\"><a class=\"\" href=\"https://www.moh.gov.sg/news-highlights/details/update-on-local-situation-regarding-severe-pneumonia-cluster-in-wuhan-11-jan\" target=\"_blank\" title=\"\">Update on Local Situation Regarding Severe Pneumonia Cluster in Wuhan</a></span>,\n",
       " <span style=\"font-family: Arial; font-size: 16px;\">10 Jan 2020</span>,\n",
       " <span style=\"font-family: Arial; font-size: 16px;\"><a class=\"\" href=\"https://www.moh.gov.sg/news-highlights/details/update-on-local-situation-regarding-severe-pneumonia-cluster-in-wuhan-10-jan\" target=\"_blank\" title=\"\">Update on Local Situation Regarding Severe Pneumonia Cluster in Wuhan</a></span>,\n",
       " <span style=\"font-family: Arial; font-size: 16px;\">05 Jan 2020</span>,\n",
       " <span style=\"font-family: Arial; font-size: 16px;\"><a class=\"\" href=\"https://www.moh.gov.sg/news-highlights/details/update-on-local-situation-regarding-severe-pneumonia-cluster-in-wuhan-5-jan\" target=\"_blank\" title=\"\">Update on local situation regarding severe pneumonia cluster in Wuhan</a></span>,\n",
       " <span style=\"font-family: Arial; font-size: 16px;\">04 Jan 2020</span>,\n",
       " <span style=\"font-family: Arial; font-size: 16px;\"><a class=\"\" href=\"https://www.moh.gov.sg/news-highlights/details/update-on-local-situation-regarding-severe-pneumonia-cluster-in-wuhan\" target=\"_blank\" title=\"\">Update on local situation regarding severe pneumonia cluster in Wuhan</a></span>,\n",
       " <span style=\"font-family: Arial; font-size: 16px;\">02 Jan 2020</span>,\n",
       " <span style=\"font-family: Arial; font-size: 16px;\"><a class=\"\" href=\"https://www.moh.gov.sg/news-highlights/details/precautionary-measures-in-response-to-severe-pneumonia-cases-in-wuhan-china\" target=\"_blank\" title=\"\">Precautionary Measures in Response to Severe Pneumonia Cases in Wuhan, China</a></span>,\n",
       " <span style=\"color: rgb(0, 0, 238); text-decoration-line: underline;\"><br/></span>,\n",
       " <span style=\"color: rgb(0, 0, 238); text-decoration-line: underline;\"><br/></span>,\n",
       " <span style=\"color: rgb(0, 0, 238); text-decoration-line: underline;\"><br/></span>,\n",
       " <span style=\"display:none\">facebook</span>,\n",
       " <span style=\"display:none\">twitter</span>,\n",
       " <span style=\"display:none\">youtube</span>]"
      ]
     },
     "execution_count": 5,
     "metadata": {},
     "output_type": "execute_result"
    }
   ],
   "source": [
    "soup.find_all('span')"
   ]
  },
  {
   "cell_type": "code",
   "execution_count": 6,
   "metadata": {},
   "outputs": [
    {
     "data": {
      "text/plain": [
       "721"
      ]
     },
     "execution_count": 6,
     "metadata": {},
     "output_type": "execute_result"
    }
   ],
   "source": [
    "len(soup.find_all('span'))"
   ]
  },
  {
   "cell_type": "code",
   "execution_count": 7,
   "metadata": {},
   "outputs": [
    {
     "data": {
      "text/plain": [
       "<span style=\"font-family: Arial; font-size: 16px;\">25 Mar 2020</span>"
      ]
     },
     "execution_count": 7,
     "metadata": {},
     "output_type": "execute_result"
    }
   ],
   "source": [
    "soup.find_all('span')[16]"
   ]
  },
  {
   "cell_type": "code",
   "execution_count": 8,
   "metadata": {
    "scrolled": true
   },
   "outputs": [
    {
     "data": {
      "text/plain": [
       "<span style=\"font-family: Arial;\"><span style=\"font-size: 16px;\"><a class=\"\" href=\"https://www.ica.gov.sg/careers/news-and-publications/media-releases/media-release/travellers-arriving-in-singapore-will-receive-advance-notification-of-stay-home-notice-requirements\" target=\"_blank\" title=\"\">Travellers Arriving In Singapore Will Receive Advance Notification Of Stay-Home Notice Requirements</a> - Immigration &amp; Checkpoints Authority (ICA) </span></span>"
      ]
     },
     "execution_count": 8,
     "metadata": {},
     "output_type": "execute_result"
    }
   ],
   "source": [
    "soup.find_all('span')[17]"
   ]
  },
  {
   "cell_type": "code",
   "execution_count": 9,
   "metadata": {},
   "outputs": [
    {
     "data": {
      "text/plain": [
       "'Travellers Arriving In Singapore Will Receive Advance Notification Of Stay-Home Notice Requirements - Immigration & Checkpoints Authority (ICA)\\xa0'"
      ]
     },
     "execution_count": 9,
     "metadata": {},
     "output_type": "execute_result"
    }
   ],
   "source": [
    "soup.find_all('span')[18].get_text()"
   ]
  },
  {
   "cell_type": "code",
   "execution_count": 10,
   "metadata": {},
   "outputs": [
    {
     "data": {
      "text/plain": [
       "'25 Mar 2020'"
      ]
     },
     "execution_count": 10,
     "metadata": {},
     "output_type": "execute_result"
    }
   ],
   "source": [
    "soup.find_all('span')[19].get_text()"
   ]
  },
  {
   "cell_type": "code",
   "execution_count": 11,
   "metadata": {},
   "outputs": [
    {
     "data": {
      "text/plain": [
       "'25 Mar 2020'"
      ]
     },
     "execution_count": 11,
     "metadata": {},
     "output_type": "execute_result"
    }
   ],
   "source": [
    "soup.find_all('span')[21].get_text()"
   ]
  },
  {
   "cell_type": "code",
   "execution_count": 12,
   "metadata": {},
   "outputs": [
    {
     "data": {
      "text/plain": [
       "<span style=\"font-family: Arial; font-size: 16px;\"><a class=\"\" href=\"https://www.moh.gov.sg/news-highlights/details/update-on-local-situation-regarding-severe-pneumonia-cluster-in-wuhan-5-jan\" target=\"_blank\" title=\"\">Update on local situation regarding severe pneumonia cluster in Wuhan</a></span>"
      ]
     },
     "execution_count": 12,
     "metadata": {},
     "output_type": "execute_result"
    }
   ],
   "source": [
    "soup.find_all('span')[710]"
   ]
  },
  {
   "cell_type": "code",
   "execution_count": 13,
   "metadata": {
    "scrolled": true
   },
   "outputs": [
    {
     "data": {
      "text/plain": [
       "<span style=\"font-family: Arial; font-size: 16px;\">04 Jan 2020</span>"
      ]
     },
     "execution_count": 13,
     "metadata": {},
     "output_type": "execute_result"
    }
   ],
   "source": [
    "soup.find_all('span')[711]"
   ]
  },
  {
   "cell_type": "code",
   "execution_count": 14,
   "metadata": {},
   "outputs": [
    {
     "data": {
      "text/plain": [
       "<span style=\"font-family: Arial; font-size: 16px;\"><a class=\"\" href=\"https://www.moh.gov.sg/news-highlights/details/precautionary-measures-in-response-to-severe-pneumonia-cases-in-wuhan-china\" target=\"_blank\" title=\"\">Precautionary Measures in Response to Severe Pneumonia Cases in Wuhan, China</a></span>"
      ]
     },
     "execution_count": 14,
     "metadata": {},
     "output_type": "execute_result"
    }
   ],
   "source": [
    "soup.find_all('span')[714]"
   ]
  },
  {
   "cell_type": "code",
   "execution_count": 15,
   "metadata": {},
   "outputs": [],
   "source": [
    "chunk = []\n",
    "for i in range(0,715-16):\n",
    "    c = soup.find_all('span')[i+16].get_text().replace(u'\\xa0', u'')\n",
    "    chunk.append((c))"
   ]
  },
  {
   "cell_type": "code",
   "execution_count": 16,
   "metadata": {},
   "outputs": [
    {
     "data": {
      "text/plain": [
       "['25 Mar 2020',\n",
       " 'Travellers Arriving In Singapore Will Receive Advance Notification Of Stay-Home Notice Requirements - Immigration & Checkpoints Authority (ICA)',\n",
       " 'Travellers Arriving In Singapore Will Receive Advance Notification Of Stay-Home Notice Requirements - Immigration & Checkpoints Authority (ICA)',\n",
       " '25 Mar 2020',\n",
       " 'Five More Cases Discharged; 73 News Cases of COVID-19 Infection Confirmed',\n",
       " '25 Mar 2020',\n",
       " '[Updated] Health Advisory for Persons issued Stay-Home Notice (SHN)',\n",
       " '25 Mar 2020',\n",
       " '[Updated]Advisory for Individuals Sharing Residential Spaces with Persons issued Stay-Home Notice (SHN)(25 Mar 2020)',\n",
       " '[Updated]Advisory for Individuals Sharing Residential Spaces with Persons issued Stay-Home Notice (SHN)(25 Mar 2020)',\n",
       " '25 Mar 2020',\n",
       " 'Measures to Prevent Congregations of Foreign Workers and Foreign Domestic Workers - Ministry of Manpower (MOM)',\n",
       " '25 Mar 2020',\n",
       " 'Employers Advised To Plan For More Sustainable Housing Options For Their Workers Usually Housed In Malaysia - Ministry of Manpower (MOM)',\n",
       " '25 Mar 2020',\n",
       " 'Singapore Permanent Resident Failed To Declare Recent Travel History To Indonesia - Immigration & Checkpoints Authority (ICA)',\n",
       " '25 Mar 2020',\n",
       " 'Entry Approval and Stay-Home Notice Requirements for Work Pass Holders from Malaysia - Ministry of Manpower (MOM) - Ministry of Manpower (MOM)',\n",
       " 'Entry Approval and Stay-Home Notice Requirements for Work Pass Holders from Malaysia - Ministry of Manpower (MOM) - Ministry of Manpower (MOM)',\n",
       " '25 Mar 2020',\n",
       " 'Stepped Up Precautionary Measures against COVID-19 in Parliament- Parliament of Singapore',\n",
       " 'Stepped Up Precautionary Measures against COVID-19 in Parliament- Parliament of Singapore',\n",
       " '25 Mar 2020',\n",
       " 'Ministerial Statement by Minister Lawrence Wong on Update on Whole-of-Government Response to COVID-19',\n",
       " '25 Mar 2020',\n",
       " 'Statement by Mr Gan Kim Yong, Minister for Health, at Parliament, on the Update on Whole-of-Government Response to COVID-19',\n",
       " '25 Mar 2020',\n",
       " 'Second Meeting of the Singapore - Malaysia Joint Working Group for COVID-19',\n",
       " '25 Mar 2020',\n",
       " 'Joint ministerial statement by Australia, Brunei Darussalam, Canada, Chile, Myanmar, New Zealand and Singapore affirming commitment to ensuring supply chain connectivity amidst the COVID-19 situation- Ministry of Trade and Industry (MTI)',\n",
       " '25 Mar 2020',\n",
       " 'Joint statement by the Singapore Tourism Board, Enterprise Singapore and Singapore Police Force',\n",
       " '25 Mar 2020',\n",
       " 'MOM Mounts Enforcement Operation to Ensure Workplaces Comply with Safe Distancing Measures - Ministry of Manpower (MOM)',\n",
       " 'MOM Mounts Enforcement Operation to Ensure Workplaces Comply with Safe Distancing Measures - Ministry of Manpower (MOM)',\n",
       " '25 Mar 2020',\n",
       " 'Guidance on Safe Distancing Measures for Issuers when Conducting Meetings - Monetary Authority of Singapore (MAS)',\n",
       " 'Guidance on Safe Distancing Measures for Issuers when Conducting Meetings - Monetary Authority of Singapore (MAS)',\n",
       " '24 Mar 2020',\n",
       " 'Further Measures to Help Companies Cope with COVID-19 Situation - Ministry of Manpower (MOM)',\n",
       " 'Further Measures to Help Companies Cope with COVID-19 Situation',\n",
       " '24 Mar 2020',\n",
       " 'Three More Cases Discharged; 49 New Cases of COVID-19 Infection Confirmed',\n",
       " '24 Mar 2020',\n",
       " 'Joint MOE-MSF Statement on Additional Precautionary Measures - Ministry of Education (MOE)',\n",
       " 'Joint MOE-MSF Statement on Additional Precautionary Measures - Ministry of Education (MOE)',\n",
       " '24 Mar 2020',\n",
       " 'Mosque to Remain Closed Until Further Notice - Majlis Ugama Islam Singapura (MUIS)',\n",
       " '24 Mar 2020',\n",
       " 'Speech by Mr Lawrence Wong, Minister for National Development, at COVID-19 Press Conference, 24 Mar 2020',\n",
       " 'Speech by Mr Lawrence Wong, Minister for National Development, at COVID-19 Press Conference, 24 Mar 2020',\n",
       " '24 Mar 2020',\n",
       " 'Tighter Measures to Minimise Further Spread of COVID-19',\n",
       " '23 Mar 2020',\n",
       " 'MAS  Tells Financial Institutions to Adopt Safe Distancing Measures- Monetary Authority of Singapore (MAS)',\n",
       " '23 Mar 2020',\n",
       " 'Eight More Cases Discharged; 54 New Cases of COVID-19 Infection Confirmed',\n",
       " '23 Mar 2020',\n",
       " 'All Travellers Arriving In Singapore From 27 March 2020, 0900 Hours, Must Submit Health Declaration Via The SG Arrival Card E-Service- Immigration & Checkpoints Authority (ICA)',\n",
       " 'All Travellers Arriving In Singapore From 27 March 2020, 0900 Hours, Must Submit Health Declaration Via The SG Arrival Card E-Service- Immigration & Checkpoints Authority (ICA)',\n",
       " '22 Mar 2020',\n",
       " 'Remarks by Minister Lawrence Wong, Co-chair of the Multi-Ministry Taskforce on COVID-19, at Media Doorstop',\n",
       " '22 Mar 2020',\n",
       " 'Four More Cases Discharged; 23 New Cases of COVID-19 Infection Confirmed',\n",
       " '22 Mar 2020',\n",
       " 'Additional Border Control Measures to Reduce Further Importation of COVID-19 Cases',\n",
       " '21 Mar 2020',\n",
       " '89 Work Passes Revoked for Breach of Entry Approval and Stay-Home Notice Requirements - Ministry of Manpower (MOM)',\n",
       " '21 Mar 2020',\n",
       " 'Updated Advisory to Foreign Domestic Workers & Employers - FDWs Urged to Stay Home on Rest Days- Ministry of Manpower (MOM)',\n",
       " '21 Mar 2020',\n",
       " 'Nine More Cases Discharged; 47 New Cases of COVID-19 Infection Confirmed',\n",
       " '',\n",
       " 'Nine More Cases Discharged; 47 New Cases of COVID-19 Infection Confirmed',\n",
       " '',\n",
       " '21 Mar 2020',\n",
       " 'Public Sector Implements Safe Distancing Measures Across the Board to Prevent Further Spread of COVID-19 Cases- Public Service Division (PSD)',\n",
       " 'Public Sector Implements Safe Distancing Measures Across the Board to Prevent Further Spread of COVID-19 Cases- Public Service Division (PSD)',\n",
       " '21 Mar 2020',\n",
       " 'Passing of Two Patients with COVID-19 Infection',\n",
       " '20 Mar 2020',\n",
       " 'Extension of Precautionary Measures to Minimise Risk of Community Spread of the Coronavirus Disease 2019 (COVID-19) in Singapore- Maritime and Port Authority of Singapore (MPA)',\n",
       " '20 Mar 2020',\n",
       " 'Maritime Declaration of Health-Maritime and Port Authority of Singapore (MPA)',\n",
       " '20 Mar 2020',\n",
       " \"MUIS' response to MOH's Advisories on Safe Distancing Measures - Islamic Religious Council of Singapore (MUIS)\",\n",
       " \"MUIS' response to MOH's Advisories on Safe Distancing Measures - Islamic Religious Council of Singapore (MUIS)\",\n",
       " \"MUIS' response to MOH's Advisories on Safe Distancing Measures\",\n",
       " '20 Mar 2020',\n",
       " 'Advisories on Safe Distancing Measures (for Retail and F&B establishments) - Enterprise Singapore (ESG)',\n",
       " 'Advisories on Safe Distancing Measures (for Retail and F&B establishments) - Enterprise Singapore (ESG)',\n",
       " '20 Mar 2020',\n",
       " 'Joint Ministerial Statement by Singapore and New Zealand Affirming Commitment to Ensuring Supply Chain Connectivity Amidst the COVID-19 Situation- Ministry of Trade and Industry (MTI)',\n",
       " 'Joint Ministerial Statement by Singapore and New Zealand Affirming Commitment to Ensuring Supply Chain Connectivity Amidst the COVID-19 Situation- Ministry of Trade and Industry (MTI)',\n",
       " '20 Mar 2020',\n",
       " 'Seven More Cases Discharged; 40 New Cases of COVID-19 Infection Confirmed',\n",
       " 'Seven More Cases Discharged; 40 New Cases of COVID-19 Infection Confirmed',\n",
       " '20 Mar 2020',\n",
       " 'Advisory for Precautionary Measures for Seniors',\n",
       " '20 Mar 2020',\n",
       " 'Launch of New App for Contact Tracing',\n",
       " '20 Mar 2020',\n",
       " 'Speech by Mr Lawrence Wong, Minister for National Development, at COVID-19 Press Conference, 20 MAR 2020, 06.00 PM at National Press Centre',\n",
       " '20 Mar 2020',\n",
       " 'Stricter Safe Distancing Measures to Prevent Further Spread of COVID-19 Cases',\n",
       " '20 Mar 2020',\n",
       " 'Companies Encouraged to Impose Leave of Absence for Employees Returning Between 14 and 20 March 2020 - Ministry of Manpower (MOM)',\n",
       " '19 Mar 2020',\n",
       " 'HSA Took Down More Than 2,500 Listings of Adulterated Products or Products Making False or Misleading Claims from E-commerce Platforms During International Week of Action - Health Science Authority of Singapore (HSA)',\n",
       " 'HSA Took Down More Than 2,500 Listings of Adulterated Products or Products Making False or Misleading Claims from E-commerce Platforms During International Week of Action',\n",
       " '19 Mar 2020',\n",
       " 'Seven More Cases Discharged; 32 New Cases of COVID-19 Infection Confirmed',\n",
       " '19 Mar 2020',\n",
       " '[Updated]MUIS Advisory for General Muslim Public(list of mosques attended by confirmed cases updated as of 19 Mar 2020) - Islamic Religious Council of Singapore (MUIS)',\n",
       " '[Updated]MUIS Advisory for General Muslim Public(list of mosques attended by confirmed cases updated as of 19 Mar 2020) - Islamic Religious Council of Singapore (MUIS)',\n",
       " '19 Mar 2020',\n",
       " 'Advisory to Parents: Keeping Our Children in Preschools Safe Against COVID-19 [14-Day Leave of Absence for Preschool Staff and Children Returning from All Overseas Travel]- Early Childhood Development Agency (ECDA)',\n",
       " '19 Mar 2020',\n",
       " 'Schools and Kindergartens to Re-Open with Enhanced Precautionary Measures- Ministry of Education (MOE)',\n",
       " '19 Mar 2020',\n",
       " 'SGX RegCo Provides Guidance on Holding of General Meetings Amid COVID-19- Singapore Exchange (SGX)',\n",
       " '18 Mar 2020',\n",
       " 'Entry Approval and SHN Now Covers All New and Existing Work Pass Holders - Ministry of Manpower (MOM)',\n",
       " '18 Mar 2020',\n",
       " 'Remarks by Minister Lawrence Wong, Co-chair of the Multi-Ministry Taskforce on COVID-19, at Press Conference on COVID-19',\n",
       " '18 Mar 2020',\n",
       " 'Three More Cases Discharged; 47 New Cases of COVID-19 Infection Confirmed',\n",
       " '1',\n",
       " '8 Mar 2020',\n",
       " 'Additional Measures for Travellers to Reduce Further Importation of COVID-19 Cases',\n",
       " '18 Mar 2020',\n",
       " '[Updated]Health Advisory for Persons Issued Stay-Home Notice',\n",
       " '[Updated]Health Advisory for Persons Issued Stay-Home Notice',\n",
       " '17 Mar 2020',\n",
       " 'Five More Cases Discharged; 23 New Cases of COVID-19 Infection Confirmed',\n",
       " '17 Mar 2020',\n",
       " 'Speech by Mr Lawrence Wong, Minister for National Development, at COVID-19 Press Conference, 17 Mar 2020, 06.00 PM at National Press Centre',\n",
       " '17 Mar 2020',\n",
       " 'Advisory for Singaporean Students Studying Overseas- Ministry of Foreign Affairs (MFA) / Ministry of Education (MOE)',\n",
       " 'Advisory for Singaporean Students Studying Overseas- Ministry of Foreign Affairs (MFA) / Ministry of Education (MOE)',\n",
       " '17 Mar 2020',\n",
       " 'Accommodating Workers Affected by Lockdown in Malaysia- Ministry of Manpower (MOM)',\n",
       " '16 Mar 2020',\n",
       " 'Health Clearance Requirements for Entry to Singapore in view of COVID-19 Situation',\n",
       " '16 Mar 2020',\n",
       " '[Updated] Advisory for Employers on Employees’ Non-essential Travel in Response to Updated Travel Advisory (COVID-19) -Ministry of Manpower (MOM)',\n",
       " '16 Mar 2020',\n",
       " 'Four More Cases Discharged; Seventeen New Cases of COVID-19 Infection Confirmed',\n",
       " '16 Mar 2020',\n",
       " 'Media Statement on Extension of Temporary Closure of Mosques-Islamic Religious Council of Singapore (MUIS)',\n",
       " 'Media Statement on Extension of Temporary Closure of Mosques-Islamic Religious Council of Singapore (MUIS)',\n",
       " '16 Mar 2020',\n",
       " \"MFA's Spokesperson's Comments on Singapore's Cooperation with Indonesia on COVID-19- Ministry of Foreign Affairs\",\n",
       " \"MFA's Spokesperson's Comments on Singapore's Cooperation with Indonesia on COVID-19- Ministry of Foreign Affairs\",\n",
       " '16 Mar 2020',\n",
       " 'Temporary Closure of MY World Preschool Ltd (52 Lengkok Bahru) -Early Childhood Development Agency (ECDA)',\n",
       " '16 Mar 2020',\n",
       " 'Remarks by Mr Lawrence Wong, Minister for National Development, at Media Doorstop, 15 March 2020, 4.00pm at National Press Centre',\n",
       " '',\n",
       " '15 Mar 2020',\n",
       " 'Entry Approval and SHN Extended to ASEAN, Japan, Switzerland and the UK - Ministry of Mapower (MOM)',\n",
       " 'Entry Approval and SHN Extended to ASEAN, Japan, Switzerland and the UK',\n",
       " '15 Mar 2020',\n",
       " 'Considering its patrons’ safety and wellbeing, SportSG enhances precautionary measures - Sport Singapore (SportSG)',\n",
       " 'Considering its patrons’ safety and wellbeing, SportSG enhances precautionary measures - Sport Singapore (SportSG)',\n",
       " '',\n",
       " 'Considering its patrons’ safety and wellbeing, SportSG enhances precautionary measures - Sport Singapore',\n",
       " 'Considering its patrons’ safety and wellbeing, SportSG enhances precautionary measures - Sport Singapore',\n",
       " '15 Mar 2020',\n",
       " 'Fourteen New Cases of COVID-19 Infection Confirmed',\n",
       " '',\n",
       " 'Fourteen New Cases of COVID-19 Infection Confirmed',\n",
       " '15 Mar 2020',\n",
       " 'Institutes of Higher Learning to Suspend All Official Overseas Placements- Ministry of Education (MOE)',\n",
       " '15 Mar 2020',\n",
       " 'Entry Approval and Stay-Home Notice Requirements for all New and Returning Foreign Domestic Workers- Ministry of Manpower (MOM)',\n",
       " 'Entry Approval and Stay-Home Notice Requirements for all New and Returning Foreign Domestic Workers- Ministry of Manpower (MOM)',\n",
       " '15 Mar 2020',\n",
       " 'Additional Precautionary Measures to Prevent Further Importation of COVID-19 Cases',\n",
       " '15 Mar 2020',\n",
       " 'MUIS Advisory for General Muslim Public',\n",
       " '14 Mar 2020',\n",
       " 'Eight More Case Discharged; Twelve New Cases of COVID-19 Infection Confirmed',\n",
       " '',\n",
       " 'Eight More Case Discharged; Twelve New Cases of COVID-19 Infection Confirmed',\n",
       " '14 Mar 2020',\n",
       " 'Advisory on Social Distancing Measures at Workplace - Ministry of Manpower (MOM)',\n",
       " '13 Mar 2020',\n",
       " 'Advisory to Parents: Keeping Our Children in Preschools Safe Against COVID-19- Early Childhood Development Agency (ECDA)',\n",
       " 'Advisory to Parents: Keeping Our Children in Preschools Safe Against COVID-19- Early Childhood Development Agency (ECDA)',\n",
       " '13 Mar 2020',\n",
       " 'One More Case Discharged, Thirteen New Cases of COVID-19 Infection Confirmed',\n",
       " '13 Mar 2020',\n",
       " '[Updated]MOH Health Advisory for Persons Issued Stay-Home Notice',\n",
       " '[Updated]MOH Health Advisory for Persons Issued Stay-Home Notice',\n",
       " '13 Mar 2020',\n",
       " 'Extension of Precautionary Measures to Minimise Risk of Community Spread of the Coronavirus Disease 2019 (COVID-19) in Singapore- Maritime and Port Authority of Singapore (MPA)',\n",
       " '13 Mar 2020',\n",
       " 'Speech by Mr Lawrence Wong, Minister for National Development, at COVID-19 Press Conference, 13 Mar 2020, 11.00am at National Press Centre',\n",
       " '13 Mar 2020',\n",
       " 'Additional Precautionary Measures to Prevent Further Importation and Spread of COVID-19 Cases',\n",
       " '12 Mar 2020',\n",
       " \"PM Lee Hsien Loong's remarks in English, Chinese and Malay on the Coronavirus Disease 2019 (COVID-19) situation in Singapore, delivered on 12 March 2020\",\n",
       " '12 Mar 2020',\n",
       " 'Media Statement on Temporary Closure of Mosques and Suspension of Mosque Activities-',\n",
       " 'Masjid Ugama Islam Singapure (MUIS)',\n",
       " '12 Mar 2020',\n",
       " 'Nine More Cases of COVID-19 Infection Confirmed',\n",
       " '12 Mar 2020',\n",
       " 'SG Clean Quality Mark Extended to Tourism and Lifestyle Business as Part of Nationwide Efforts to Uplift Sanitation and Hygiene- Enterprise Singapore (ESG), Singapore Tourism Board (STB)',\n",
       " '12 Mar 2020',\n",
       " \"Minister for Foreign Affairs Dr Vivian Balakrishnan's Live Interview with CNBC Asia's Squawk Box Asia, 11 Mar 2020 - MFA\",\n",
       " \"Minister for Foreign Affairs Dr Vivian Balakrishnan's Live Interview with CNBC Asia's Squawk Box Asia, 11 Mar 2020 - MFA\",\n",
       " '11 Mar 2020',\n",
       " 'Tripartite Partners Update Advisory on Managing Excess Manpower and Responsible Retrenchment in View of COVID-19- Ministry of Manpower (MOM),National Trades Union Congress (NTUC), and the Singapore National Employers Federation (SNEF)',\n",
       " '11 Mar 2020',\n",
       " 'Update on COVID-19 – Case 165, 169, 173 and 175 - Ministry of Defence (MINDEF)',\n",
       " 'Update on COVID-19 – Case 165, 169, 173 and 175 - Ministry of Defence (MINDEF)',\n",
       " '11 Mar 2020',\n",
       " 'Three More Cases Discharged; Twelve More Cases of COVID-19 Infections Confirmed',\n",
       " '11 Mar 2020',\n",
       " '[Updated]Health Advisory for Persons Issued Stay-Home Notice',\n",
       " '[Updated]Advisoryfor Individuals Sharing Residential Spaces with Persons Issued Stay-Home Notice',\n",
       " '10 Mar 2020',\n",
       " 'Measures for Business Aviation Aircraft Entering Singapore under Current Context of COVID-19- Civil Aviation Authority of Singapore (CAAS)',\n",
       " '10 Mar 2020',\n",
       " '[Updated]Interim Guidelines for Environmental Cleaning and Disinfection of Areas Exposed to Confirmed Case(s) of COVID-19 in Non-Healthcare Premises- National Environment Agency (NEA)',\n",
       " '[Updated]Interim Guidelines for Environmental Cleaning and Disinfection of Areas Exposed to Confirmed Case(s) of COVID-19 in Non-Healthcare Premises- National Environment Agency (NEA)',\n",
       " '10 Mar 2020',\n",
       " \"Third Joint Statement by MOH, MPA and STB: Precautionary Measures Taken for Cruise Ship's Scheduled Call at Singapore\",\n",
       " '10 Mar 2020',\n",
       " 'Remarks by Minister Lawrence Wong, Co-chair of the Multi-Ministry Taskforce on COVID-19, at Press Conference at National Press Centre on 10 March 2020',\n",
       " '10 Mar 2020',\n",
       " 'SixNew Cases of COVID-19 Infection Confirmed',\n",
       " 'SixNew Cases of COVID-19 Infection Confirmed',\n",
       " '10 Mar 2020',\n",
       " \"Second Joint Statement by MOH, MPA and STB: Precautionary Measures Taken for Cruise Ship's Scheduled Call at Singapore\",\n",
       " '10 Mar 2020',\n",
       " 'Additional Precautionary Measures to Protect Our Seniors',\n",
       " '9 Mar 2020',\n",
       " \"Joint Statement by MOH, MPA and STB: Precautionary Measures Taken For Cruise Ship's Scheduled Call At Singapore\",\n",
       " \"Joint Statement by MOH, MPA and STB: Precautionary Measures Taken For Cruise Ship's Scheduled Call At Singapore\",\n",
       " '',\n",
       " '',\n",
       " '9 Mar 2020',\n",
       " 'Three More Cases Discharged; Ten New Cases of COVID-19 Infection Confirmed',\n",
       " 'Three More Cases Discharged; Ten New Cases of COVID-19 Infection Confirmed',\n",
       " '8 Mar 2020',\n",
       " 'Twelve New Cases of COVID-19 Infection Confirmed',\n",
       " '7 Mar 2020',\n",
       " 'Eight More Cases Discharged; Eight New Cases of COVID-19 Infection Confirmed',\n",
       " '6 Mar 2020',\n",
       " 'SG Clean Taskforce to Galvanise Collective Action to Raise Standards of Hygiene and Cleanliness in Singapore- Ministry of the Environment and Water Resources (MEWR)',\n",
       " 'SG Clean Taskforce to Galvanise Collective Action to Raise Standards of Hygiene and Cleanliness in Singapore- Ministry of the Environment and Water Resources (MEWR)',\n",
       " '6 Mar 2020',\n",
       " 'One More Case Discharged, Thirteen New Cases of COVID-19 Infection Confirmed',\n",
       " '6 Mar 2020',\n",
       " 'Remarks by Minister Lawrence Wong, Co-chair of the Multi-Ministry Taskforce on COVID-19, at Press Conference at National Press Centre on 6 March 2020',\n",
       " '5 Mar 2020',\n",
       " 'COVID-19 FAQs for the Food Industry - Singapore Food Agency (SFA)',\n",
       " 'COVID-19 FAQs for the Food Industry - Singapore Food Agency (SFA)',\n",
       " 'COVID-19 FAQs for the Food Industry',\n",
       " 'COVID-19 FAQs for the Food Industry',\n",
       " 'COVID-19 FAQs for the Food Industry',\n",
       " 'COVID-19 FAQs for the Food Industry',\n",
       " '5 Mar 2020',\n",
       " 'Two More Cases Discharged; Five New Cases of COVID-19 Infection Confirmed',\n",
       " 'Two More Cases Discharged; Five New Cases of COVID-19 Infection Confirmed',\n",
       " '4 Mar 2020',\n",
       " \"Temporary Closure Of Creative O Preschoolers' Bay- Early Childhood Development Agency (ECDA)\",\n",
       " \"Temporary Closure Of Creative O Preschoolers' Bay- Early Childhood Development Agency (ECDA)\",\n",
       " '4 Mar 2020',\n",
       " 'One More Case Discharged; Two New Cases of COVID-19 Infection Confirmed',\n",
       " '4 Mar 2020',\n",
       " 'Advisory for employers and employees travelling to and from affected areas in response to increase in cases of COVID-19- Ministry of Manpower (MOM, updated on 4 Mar)',\n",
       " 'Advisory for employers and employees travelling to and from affected areas in response to increase in cases of COVID-19- Ministry of Manpower (MOM, updated on 4 Mar)',\n",
       " '4 Mar 2020',\n",
       " \"Singapore's Assistance to Myanmar to Fight COVID-19 - Ministry of Foreign Affairs (MFA)\",\n",
       " \"Singapore's Assistance to Myanmar to Fight COVID-19 - Ministry of Foreign Affairs (MFA)\",\n",
       " \"Singapore's Assistance to Myanmar to Fight COVID-19\",\n",
       " '3 Mar 2020',\n",
       " 'Two New Cases of COVID-19 Infection Confirmed',\n",
       " '3 Mar 2020',\n",
       " 'MOM Entry Approval and Stay-Home Notice Extended to More Countries - Ministry of Manpower (MOM)',\n",
       " 'MOM Entry Approval and Stay-Home Notice Extended to More Countries - Ministry of Manpower (MOM)',\n",
       " '3 Mar 2020',\n",
       " 'Remarks by Minister Lawrence Wong, Co-chair of the Multi-Ministry Taskforce on Covid-19, at a Media Doorstop at National Press Centre on 3 Mar 2020',\n",
       " '3 Mar 2020',\n",
       " 'Additional Precautionary Measures in Response to Escalating Global Situation',\n",
       " '2 Mar 2020',\n",
       " 'Four More Cases Discharged, Two New Cases of COVID-19 Infection Confirmed',\n",
       " '1 Mar 2020',\n",
       " 'Two More Cases Discharged; Four New Cases of COVID-19 Infection Confirmed',\n",
       " '1 Mar 2020',\n",
       " '[Revised]Interim List of Household Products and Active Ingredients for Disinfection of the COVID-19 Virus- National Environment Agency (NEA)',\n",
       " '[Revised]Interim List of Household Products and Active Ingredients for Disinfection of the COVID-19 Virus- National Environment Agency (NEA)',\n",
       " 'Date',\n",
       " 'Title',\n",
       " '29 Feb 2020',\n",
       " 'Three More Cases Discharged; Four New Cases of COVID-19 Infection Confirmed',\n",
       " '29 Feb 2020',\n",
       " 'Ministry of Manpower (MOM)',\n",
       " '28 Feb 2020',\n",
       " 'Three More Cases Discharged; Two New Cases of COVID-19 Infection Confirmed',\n",
       " '28 Feb 2020',\n",
       " 'Investigations into Shincheonji Church of Jesus the Temple of the Tabernacle of the Testimony in Singapore- Ministry of Home Affairs (MHA)',\n",
       " 'Investigations into Shincheonji Church of Jesus the Temple of the Tabernacle of the Testimony in Singapore- Ministry of Home Affairs (MHA)',\n",
       " '28 Feb 2020',\n",
       " '',\n",
       " '- Ministry of Manpower (MOM)',\n",
       " '27 Feb 2020',\n",
       " 'Guidance on Use of Masks by the Food Industry - Singapore Food Agency (SFA)',\n",
       " 'Guidance on Use of Masks by the Food Industry - Singapore Food Agency (SFA)',\n",
       " '27 Feb 2020',\n",
       " 'General Advisory for Workplace Measures in Response to DORSCON Orange Situation in Singapore - Ministry of Manpower (MOM)',\n",
       " '27 Feb 2020',\n",
       " 'Advisory for Employers and Employees Travelling to and from Affected Areas in Response to Increase in Cases of COVID-19-Ministry of Manpower (MOM)',\n",
       " '27 Feb 2020',\n",
       " 'General Advisory for Workplaces and Frontline Workers in Response to Confirmed Cases of Local Transmission of Coronavirus Disease 2019 in Singapore- Ministry of Manpower (MOM)',\n",
       " 'General Advisory for Workplaces and Frontline Workers in Response to Confirmed Cases of Local Transmission of Coronavirus Disease 2019 in Singapore- Ministry of Manpower (MOM)',\n",
       " '27 Feb 2020',\n",
       " 'One-Day Suspension of Classes and Activities at Raffles Institution and MOE Language Centre (Bishan)- Ministry of Education (MOE)',\n",
       " 'One-Day Suspension of Classes and Activities at Raffles Institution and MOE Language Centre (Bishan)- Ministry of Education (MOE)',\n",
       " '27 Feb 2020',\n",
       " 'Four More Cases Discharged; Three New Confirmed Cases of COVID-19 Infection',\n",
       " 'Four More Cases Discharged; Three New Confirmed Cases of COVID-19 Infection',\n",
       " '26 Feb 2020',\n",
       " 'Four More Cases Discharged; Two New Confirmed Cases of COVID-19 Infection',\n",
       " 'Four More Cases Discharged; Two New Confirmed Cases of COVID-19 Infection',\n",
       " '26 Feb 2020',\n",
       " 'Singapore Permanent Resident Breached Stay-Home Notice Requirements; Loses Singapore Permanent Residence Status and Will Be Barred From Re-entering Singapore - Immigration & Checkpoints Authority (ICA)',\n",
       " '26 Feb 2020',\n",
       " 'Two charged under Infectious Disease Act for false information and obstruction of contact tracing',\n",
       " 'Two charged under Infectious Disease Act for false information and obstruction of contact tracing',\n",
       " '26 Feb 2020',\n",
       " 'First Meeting of the Singapore-Malaysia Joint Working Group for COVID-19',\n",
       " '25 Feb 2020',\n",
       " 'Five More Cases Discharged, One New Case of COVID-19 Infection Confirmed',\n",
       " '25 Feb 2020',\n",
       " 'Temporary Scheme to Help Manufacturing and Services Sectors Manage Manpower Needs- Ministry of Manpower (MOM)',\n",
       " 'Temporary Scheme to Help Manufacturing and Services Sectors Manage Manpower Needs- Ministry of Manpower (MOM)',\n",
       " '25 Feb 2020',\n",
       " 'Speech by Mr Lawrence Wong, Minister for National Development, at COVID-19 Press Conference, 25 Feb 2020, 06.00 PM at National Press Centre',\n",
       " '25 Feb 2020',\n",
       " 'Entry Approval Requirement for Employers with Work Pass Holders with Travel History to Daegu City and Cheongdo County',\n",
       " '25 Feb 2020',\n",
       " 'Additional Precautionary Measures in Response to Escalating Situation in Daegu and Cheongdo',\n",
       " '25 Feb 2020',\n",
       " 'Links Established between Church Clusters and Wuhan Travellers',\n",
       " '24 Feb 2020',\n",
       " '[Revised]Interim Guidelines for Environmental Cleaning and Disinfection in Residences That May Be Exposed to the COVID-19 Virus - National Environment Agency (NEA)',\n",
       " '[Revised]Interim Guidelines for Environmental Cleaning and Disinfection in Residences That May Be Exposed to the COVID-19 Virus - National Environment Agency (NEA)',\n",
       " '24 Feb 2020',\n",
       " 'Crew Member with COVID-19 (Coronavirus Disease 2019) Fully Recovers and Ship Resumes Normal Operations- Maritime and Port Authority of Singapore (MPA)',\n",
       " 'Crew Member with COVID-19 (Coronavirus Disease 2019) Fully Recovers and Ship Resumes Normal Operations- Maritime and Port Authority of Singapore (MPA)',\n",
       " '24 Feb 2020',\n",
       " 'Letters from Singapore Leaders on the Coronavirus Disease (COVID-19) Outbreak in China- Ministry of Foreign Affairs (MFA)',\n",
       " 'Letters from Singapore Leaders on the Coronavirus Disease (COVID-19) Outbreak in China- Ministry of Foreign Affairs (MFA)',\n",
       " '24 Feb 2020',\n",
       " 'More Workers and Employers Taken to Task for Breaching Leave of Absence Requirements-Ministry of Manpower (MOM)',\n",
       " 'More Workers and Employers Taken to Task for Breaching Leave of Absence Requirements-Ministry of Manpower (MOM)',\n",
       " '24 Feb 2020',\n",
       " 'Majority of Employers Compliant with Entry Approval Requirements for Work Pass Holders- Ministry of Manpower (MOM)',\n",
       " 'Majority of Employers Compliant with Entry Approval Requirements for Work Pass Holders- Ministry of Manpower (MOM)',\n",
       " '24 Feb 2020',\n",
       " 'Two More Cases Discharged; One New Confirmed Case of COVID-19 Infection',\n",
       " '23 Feb 2020',\n",
       " 'Two More Cases Discharged; No New Confirmed Case of COVID-19 Infection',\n",
       " '23 Feb 2020',\n",
       " 'Public Health Travel Advisory in Response to Cases of COVID-19 in Republic of Korea',\n",
       " 'Public Health Travel Advisory in Response to Cases of COVID-19 in Republic of Korea',\n",
       " '22 Feb 2020',\n",
       " 'Two More Cases Discharged; Three New Cases of COVID-19 Infection Confirmed',\n",
       " '21 Feb 2020',\n",
       " 'Ten More Cases Discharged; One New Case of COVID-19 Infection Confirmed',\n",
       " '20 Feb 2020',\n",
       " ' Three More Cases Discharged; One New Case of COVID-19 Infection Confirmed',\n",
       " '19 Feb 2020',\n",
       " 'Five More Cases Discharged; Three New Cases of COVID-19 Infection Confirmed',\n",
       " '18 Feb 2020',\n",
       " 'General advisory for employers if a confirmed or suspect case of COVID-19 is detected at the workplace - Ministry of Manpower (MOM, Updated as of 18 Feb)',\n",
       " '18 Feb 2020',\n",
       " 'Five More Cases Discharged; Four New Cases of COVID-19 Infection Confirmed',\n",
       " '18 Feb 2020',\n",
       " 'Advisory for Individuals sharing Residential Spaces with Persons issued Stay-Home Notice (SHN)',\n",
       " '18 Feb 2020',\n",
       " 'Health Advisory for Persons issued Stay-Home Notice (SHN)',\n",
       " '17 Feb 2020',\n",
       " 'Five More Cases Discharged; Two New Cases of COVID-19 Infection Confirmed',\n",
       " '17 Feb 2020',\n",
       " 'Leave of Absence Support Programme Extended to Those Serving Stay-Home Notice- Ministry of Manpower(MOM)',\n",
       " '17 Feb 2020',\n",
       " 'Mandatory Stay-Home Notice for Work Pass Holders with Travel History to Mainland China- Ministry of Manpower(MOM)',\n",
       " 'Mandatory Stay-Home Notice for Work Pass Holders with Travel History to Mainland China- Ministry of Manpower(MOM)',\n",
       " '17 Feb 2020',\n",
       " 'Implementation of New Stay-at-Home Notice',\n",
       " '17 Feb 2020',\n",
       " 'Meeting with Religious Leaders on COVID-19',\n",
       " 'Meeting with Religious Leaders on COVID-19',\n",
       " '17 Feb 2020',\n",
       " 'Import of Hand Sanitiser, Masks, Thermometers and Protective Gears - Health Science Authority (HSA, first published on 14 Feb 2020)',\n",
       " '16 Feb 2020',\n",
       " 'Updates on COVID-19, Case 73- Ministry of Defence (MINDEF)',\n",
       " 'Updates on COVID-19, Case 73- Ministry of Defence (MINDEF)',\n",
       " '16 Feb 2020',\n",
       " 'One More Case Discharged; Three New Cases of COVID-19 Infection Confirmed',\n",
       " '16 Feb 2020',\n",
       " '\"SG Clean\" Campaign Launched To Rally Public And Businesses To Work Together To Keep Singapore Clean',\n",
       " '\"SG Clean\" Campaign Launched To Rally Public And Businesses To Work Together To Keep Singapore Clean',\n",
       " '15 Feb 2020',\n",
       " 'One More Case Discharged; Five New Cases of COVID-19 Infection Confirmed',\n",
       " '15 Feb 2020',\n",
       " 'Advisory for Businesses on Large-scale Events amidst COVID-19 (Coronavirus Disease 2019) Situation- Ministry of Trade and Industry (MTI)',\n",
       " '15 Feb 2020',\n",
       " 'Speech by Mr Chan Chun Sing, Minister for Trade and Industry at the Total Defence Day Commemoration Event',\n",
       " '14 Feb 2020',\n",
       " '',\n",
       " 'MAS Welcomes Measures by Financial Institutions to Support Customers Facing the Impact of COVID-19',\n",
       " 'MAS Welcomes Measures by Financial Institutions to Support Customers Facing the',\n",
       " ' Impact of COVID-19',\n",
       " '14 Feb 2020',\n",
       " 'The COVID-19 Advisory Update - Meeting with Minister for Health Mr Gan Kim Yong - National Council of Churches Singapore (NCCS)',\n",
       " '14 Feb 2020',\n",
       " 'Minister for Health and Minister for Culture, Community & Youth Meet Church Leaders on COVID-19',\n",
       " '14 Feb 2020',\n",
       " 'Speech By Mr Lawrence Wong, Minister For National Development, At COVID-19 Press Conference',\n",
       " '14 Feb 2020',\n",
       " 'Two More Cases Discharged; Nine New Cases of COVID-19 Infection Confirmed',\n",
       " '14 Feb 2020',\n",
       " 'Additional Pre-emptive Measures To Reduce Risk Of Community Transmission',\n",
       " '14 Feb 2020',\n",
       " 'Corrections and clarifications regarding falsehoods published by States Times Review on COVID-19 situation',\n",
       " '14 Feb 2020',\n",
       " \"Transcript of Minister for Defence, Dr Ng Eng Hen's Total Defence Day 2020 Video Message - Ministry of Defence (MINDEF)\",\n",
       " '13 Feb 2020',\n",
       " 'Supporting Healthcare Workers Whose Leave and Holiday Plans Have Been Cancelled- Ministry of Manpower(MOM)',\n",
       " '13 Feb 2020',\n",
       " 'Two Work Passes Revoked for Re-Entry into Singapore Without Prior Approval- Ministry of Manpower(MOM)',\n",
       " 'Two Work Passes Revoked for Re-Entry into Singapore Without Prior Approval- Ministry of Manpower(MOM)',\n",
       " '13 Feb 2020',\n",
       " 'Eight More Confirmed Cases of COVID-19 Infection',\n",
       " '13 Feb 2020',\n",
       " '$77 Million Point-To-Point Support Package for Taxi and Private Hire Car Drivers Affected by the Coronavirus Disease 2019 Outbreak- Land Transport Authority (LTA)',\n",
       " '$77 Million Point-To-Point Support Package for Taxi and Private Hire Car Drivers Affected by the Coronavirus Disease 2019 Outbreak- Land Transport Authority (LTA)',\n",
       " '12 Feb 2020',\n",
       " 'Advisory to permit workers to enter their worksite - Ministry of Manpower (MOM)',\n",
       " 'Advisory to permit workers to enter their worksite - Ministry of Manpower (MOM)',\n",
       " '12 Feb 2020',\n",
       " 'Interim Guidelines for Environmental Cleaning and Disinfection of Premises With Transient Exposure to Confirmed Cases(s) of the COVID-19 - National Environment Agency (NEA)',\n",
       " 'Interim Guidelines for Environmental Cleaning and Disinfection of Premises With Transient Exposure to Confirmed Cases(s) of the COVID-19 - National Environment Agency (NEA)',\n",
       " '12 Feb 2020',\n",
       " 'Speech by Mr Lawrence Wong, Minister for National Development, at COVID-19 Press Conference',\n",
       " '12 Feb 2020',\n",
       " 'Six More Cases Discharged; Three New Cases of COVID-19 Infection Confirmed',\n",
       " '12 Feb 2020',\n",
       " 'Leave of Absence Support Programme (LOASP)- Ministry of Manpower(MOM)',\n",
       " '12 Feb 2020',\n",
       " 'Interim Guidelines for Environmental Cleaning and Disinfection of Premises With Transient Exposure to Confirmed Cases(s) of the Novel Coronavirus (COVID-19)- National Environment Agency (NEA)',\n",
       " 'Interim Guidelines for Environmental Cleaning and Disinfection of Premises With Transient Exposure to Confirmed Cases(s) of the Novel Coronavirus (COVID-19)- National Environment Agency (NEA)',\n",
       " '11 Feb 2020',\n",
       " \"Senior Minister of State for Defence Visits BMTC to Observe SAF's Enhanced Precautionary Measures for 2019 Novel Coronavirus- Ministry of Defence (MINDEF)\",\n",
       " '11 Feb 2020',\n",
       " 'STB rallies tourism sector to face biggest challenges since SARS- Singapore Tourism Board (STB)',\n",
       " 'STB rallies tourism sector to face biggest challenges since SARS- Singapore Tourism Board (STB)',\n",
       " '11 Feb 2020',\n",
       " 'Singapore and Malaysia to Establish A Joint Working Group for the 2019 Novel Coronavirus',\n",
       " '11 Feb 2020',\n",
       " 'Two More Cases Discharged; Two New Cases of Novel Coronavirus Infection Confirmed',\n",
       " '11 Feb 2020',\n",
       " 'Price Control Act Letter of Demand Issued to Retailer 3 Stars- Ministry of Trade and Industry (MTI)',\n",
       " 'Price Control Act Letter of Demand Issued to Retailer 3 Stars- Ministry of Trade and Industry (MTI)',\n",
       " '10 Feb 2020',\n",
       " 'Advisory to Foreign Domestic Workers (FDWs), Employers and Employment Agencies on COVID-19 Precautionary Measures - Ministry of Manpower (MOM)',\n",
       " 'Advisory to Foreign Domestic Workers (FDWs), Employers and Employment Agencies on COVID-19 Precautionary Measures - Ministry of Manpower (MOM)',\n",
       " '10 Feb 2020',\n",
       " 'One More Case Discharged; Two New Cases of Novel Coronavirus Infection Confirmed',\n",
       " '10 Feb 2020',\n",
       " 'Actions Taken By The Ministry of Manpower Following Confirmed 2019-nCoV Case of Work Permit Holder',\n",
       " '10 Feb 2020',\n",
       " 'MOM Issues Updated Advisory on Enhanced Precautionary Measures for Dormitories- Ministry of Manpower(MOM)',\n",
       " '10 Feb 2020',\n",
       " 'Safeguarding the Health of Taxi and Private Hire Car Drivers and Passengers - Land Transport Authority (LTA)',\n",
       " 'Safeguarding the Health of Taxi and Private Hire Car Drivers and Passengers - Land Transport Authority (LTA)',\n",
       " '09 Feb 2020',\n",
       " 'Four More Cases Discharged; Three New Confirmed Cases of Novel Coronavirus Infection ',\n",
       " '09 Feb 2020',\n",
       " 'Advisory to foreign domestic workers and employers in view of the 2019 Novel Coronavirus situation- Ministry of Manpower(MOM)',\n",
       " '09 Feb 2020',\n",
       " \"Work Passes Cancelled and Employers' Work Pass Privileges Revoked for Breaching Leave of Absence Requirements- Ministry of Manpower (MOM)\",\n",
       " '09 Feb 2020',\n",
       " 'MAS Advises Financial Institutions to Adopt Recommended Measures for DORSCON Orange',\n",
       " '09 Feb 2020',\n",
       " 'Return of Singaporeans from Wuhan, Hubei Province to Singapore on 9 February 2020 - Ministry of Foreign Affairs (MFA)',\n",
       " 'Return of Singaporeans from Wuhan, Hubei Province to Singapore on 9 February 2020 - Ministry of Foreign Affairs (MFA)',\n",
       " '09 Feb 2020',\n",
       " \"Transcript of Minister Chan Chun Sing's remarks at Ministerial Community Walkabout at Jurong Spring Division- Ministry of Trade and Industry (MTI)\",\n",
       " \"Transcript of Minister Chan Chun Sing's remarks at Ministerial Community Walkabout at Jurong Spring Division- Ministry of Trade and Industry (MTI)\",\n",
       " '08 Feb 2020',\n",
       " 'Advisory for Large-Scale Events Amidst the Novel Coronavirus Situation(Updated)',\n",
       " '08 Feb 2020',\n",
       " 'Seven More Confirmed Cases of Novel Coronavirus Infection in Singapore',\n",
       " '08 Feb 2020',\n",
       " 'Remarks by Prime Minister Lee Hsien Loong on the Novel Coronavirus (nCoV) Situation in Singapore ',\n",
       " '08 Feb 2020',\n",
       " 'Keeping Our Children in Preschools Safe Against the 2019 Novel Coronavirus (2019-nCoV)',\n",
       " '07 Feb 2020',\n",
       " 'Guide on Business Continuity Planning for COVID-19 (2nd Edition) - Enterprise Singapore (ESG)',\n",
       " 'Guide on Business Continuity Planning for COVID-19 (2nd Edition) - Enterprise Singapore (ESG)',\n",
       " '07 Feb 2020',\n",
       " \"HSA's Updates on the Precautionary Measures Taken to Safeguard Donors' Health and Well-being - Health Sciences Authority (HSA)\",\n",
       " \"HSA's Updates on the Precautionary Measures Taken to Safeguard Donors' Health and Well-being - Health Sciences Authority (HSA)\",\n",
       " '07 Feb 2020',\n",
       " 'Stepping Up Precautionary Measures in Schools- Ministry of Education (MOE)',\n",
       " 'Stepping Up Precautionary Measures in Schools',\n",
       " '07 Feb 2020',\n",
       " 'Risk assessment raised to DORSCON Orange',\n",
       " '07 Feb 2020',\n",
       " 'Three More Confirmed Cases of Novel Coronavirus Infection in Singapore',\n",
       " '06 Feb 2020',\n",
       " 'Two More Confirmed Cases of Novel Coronavirus Infection in Singapore',\n",
       " '05 Feb 2020',\n",
       " 'Four More Confirmed Cases of Novel Coronavirus Infection in Singapore',\n",
       " '05 Feb 2020',\n",
       " 'Advisory for employers and employees travelling to and from Mainland China in response to increase in cases of 2019 Novel Coronavirus (2019-nCoV)(Updated) - Ministry of Manpower (MOM)',\n",
       " 'Advisory for employers and employees travelling to and from Mainland China in response to increase in cases of 2019 Novel Coronavirus (2019-nCoV)(Updated) - Ministry of Manpower (MOM)',\n",
       " '04 Feb 2020',\n",
       " '04 Feb 2020',\n",
       " 'Advisory to Residential and Community-based Facilities on Additional Precautionary Measures- Ministry for Social and Family Development (MSF)',\n",
       " '04 Feb 2020',\n",
       " 'General advisory for workplaces and frontline workers in response to confirmed cases of local transmission of novel coronavirus in Singapore- MTI, MOM. NTUC, SNEF',\n",
       " 'General advisory for workplaces and frontline workers in response to confirmed cases of local transmission of novel coronavirus in Singapore- MTI, MOM. NTUC, SNEF',\n",
       " '04 Feb 2020',\n",
       " 'Advisory to Parents: Precautionary Measures in Preschools - 2019-nCoV- Early Childhood Development Agency (ECDA)',\n",
       " 'Advisory to Parents: Precautionary Measures in Preschools - 2019-nCoV- Early Childhood Development Agency (ECDA)',\n",
       " '04 Feb 2020',\n",
       " 'Additional Precautionary Measures against the 2019 Novel Coronavirus Infection- Ministry of Education (MOE) and Ministry of Social and Family Development (MSF)',\n",
       " 'Additional Precautionary Measures against the 2019 Novel Coronavirus Infection- Ministry of Education (MOE) and Ministry of Social and Family Development (MSF)',\n",
       " '04 Feb 2020',\n",
       " 'Update on Novel Coronavirus Infection in Singapore',\n",
       " '04 Feb 2020',\n",
       " 'Confirmed Cases of Local Transmission of Novel Coronavirus Infection in Singapore',\n",
       " '03 Feb 2020',\n",
       " 'Sanitation and Hygiene Advisory for Food Establishments - National Environment Agency (NEA) and Singapore Food Agency (SFA)',\n",
       " '03 Feb 2020',\n",
       " 'Joint Statement by Ministry of National Development, Ministry of Education, and Ministry of Manpower on Persons Placed on Home Quarantined Orders and Leave of Absence',\n",
       " '03 Feb 2020',\n",
       " 'No New Confirmed Cases of Novel Coronavirus Infection in Singapore',\n",
       " '03 Feb 2020',\n",
       " 'Ministerial Statement by Mr Lawrence Wong, Minister for National Development (MND) on Whole-of-Government Response to 2019 Novel Coronavirus (2019-nCoV)',\n",
       " '03 Feb 2020',\n",
       " 'Ministerial Statement by Mr Gan Kim Yong, Minister for Health (MOH), on Whole-of-Government Response to 2019 Novel Coronavirus (2019-nCoV)',\n",
       " '03 Feb 2020',\n",
       " 'Advisory to Parents: Precautionary Measures in Preschools - 2019-nCoV- Early Childhood Development Agency (ECDA)',\n",
       " 'Advisory to Parents: Precautionary Measures in Preschools - 2019-nCoV- Early Childhood Development Agency (ECDA)',\n",
       " '02 Feb 2020',\n",
       " 'No New Confirmed Cases of 2019 Novel Coronavirus Infection in Singapore',\n",
       " '02 Feb 2020',\n",
       " 'Advisory for Individuals Sharing Residential Spaces with Persons on Leave of Absence',\n",
       " '02 Feb 2020',\n",
       " 'Singapore Tourism Board (STB) unveils targeted measures to support tourism businesses affected by 2019-nCoV',\n",
       " '01 Feb 2020',\n",
       " 'Tripartite Care Package for Taxi and Private Hire Drivers placed on Quarantine due to Wuhan Coronavirus - National Trade Union Congress (NTUC)',\n",
       " 'Tripartite Care Package for Taxi and Private Hire Drivers placed on Quarantine due to Wuhan Coronavirus - National Trade Union Congress (NTUC)',\n",
       " '01 Feb 2020',\n",
       " 'Government support for firms and workers in response to the 2019 Novel Coronavirus outbreak - Ministry of Finance (MOF)and Ministry of Trade and Industry (MTI)',\n",
       " '01 Feb 2020',\n",
       " 'Two More Confirmed Imported Cases of Novel Coronavirus Infection in Singapore',\n",
       " '01 Feb 2020',\n",
       " 'Health Advisory for Persons Placed on Leave of Absence (LOA) - 01 Feb 2020- Updated ',\n",
       " '01 Feb 2020',\n",
       " 'Updated FAQs on Masks',\n",
       " '01 Feb 2020',\n",
       " \"Collection of Masks from 01 Feb to 09 Feb 2020 at Residents' Committee (RC) Centres and Community Clubs (CCs) - People's Association\",\n",
       " '01 Feb 2020',\n",
       " 'Advisory on 2019 Novel Coronavirus for Businesses- Ministry of Trade and Industry (MTI)',\n",
       " 'Date',\n",
       " 'Title ',\n",
       " '31 Jan 2020',\n",
       " 'Doorstop interview with Prime Minister Lee Hsien Loong at the National Centre for Infectious Diseases (NCID)',\n",
       " '31 Jan 2020',\n",
       " ' (revised 03 Feb)',\n",
       " '31 Jan 2020',\n",
       " 'Malicious Cyber Activities Leveraging Wuhan Coronavirus Situation',\n",
       " 'Malicious Cyber Activities Leveraging Wuhan Coronavirus Situation',\n",
       " '31 Jan 2020',\n",
       " 'Update on Additional Measures by the Ministry of Manpower to Minimise the Risk of Community Spread of Wuhan Coronavirus',\n",
       " '31 Jan 2020',\n",
       " 'Three More Confirmed Imported Cases of Wuhan Coronavirus Infection in Singapore',\n",
       " '31 Jan 2020',\n",
       " 'Speech by Mr Lawrence Wong, Minister for National Development, at Press Conference on Wuhan Coronavirus (31 Jan 2020, 5pm)',\n",
       " '31 Jan 2020',\n",
       " 'Extension of Precautionary Measures to Minimise Risk of Community Spread in Singapore',\n",
       " '31 Jan 2020',\n",
       " \"Corrections and clarifications regarding falsehoods published by AB-TC City News' website\",\n",
       " '31 Jan 2020',\n",
       " 'Corrections and clarifications regarding falsehoods published by States Times Review on availability of face masks',\n",
       " '30 Jan 2020',\n",
       " 'Three More Confirmed Imported Cases of Wuhan Coronavirus Infection in Singapore',\n",
       " '30 Jan 2020',\n",
       " 'Issuance of letters by the Price Controller to sellers that have received consumer complaints',\n",
       " '30 Jan 2020',\n",
       " 'Advisory to Shipping Community on the Wuhan Coronavirus',\n",
       " '30 Jan 2020',\n",
       " 'Transcript: Remarks by Minister Chan Chun Sing at Media briefing on Wuhan Coronavirus',\n",
       " '30 Jan 2020',\n",
       " 'Speech by Mr Lawrence Wong, Minister for National Development at Media Briefing on Wuhan Coronavirus, 30 Jan 2020, 12pm',\n",
       " 'Speech by Mr Lawrence Wong, Minister for National Development at Media Briefing on Wuhan Coronavirus, 30 Jan 2020, 12pm',\n",
       " '29 Jan 2020',\n",
       " 'Three More Confirmed Imported Cases of Wuhan Coronavirus Infection in Singapore',\n",
       " '',\n",
       " '29 Jan 2020',\n",
       " 'Quarantine Order Allowance Scheme',\n",
       " '29 Jan 2020',\n",
       " 'Sanitation and Hygiene Advisory for Food Establishments - National Environment Agency (NEA) and Singapore Food Agency (SFA)',\n",
       " '29 Jan 2020',\n",
       " 'Advisory on the Wuhan Coronavirus for Businesses- Enterprise Singapore (ESG)',\n",
       " '28 Jan 2020',\n",
       " 'Update to Sector Specific Advisories-Building and Construction Authority (BCA) and National Environment Agency (NEA) ',\n",
       " 'Update to Sector Specific Advisories-Building and Construction Authority (BCA) and National Environment Agency (NEA) ',\n",
       " '28 Jan 2020',\n",
       " 'Update on Wuhan Coronavirus Infection in Singapore',\n",
       " '28 Jan 2020',\n",
       " 'Corrections and clarifications regarding falsehoods that Woodlands MRT closed for disinfection',\n",
       " 'Corrections and clarifications regarding falsehoods that Woodlands MRT closed for disinfection',\n",
       " '28 Jan 2020',\n",
       " 'Additional Measures by Ministry of Manpower to Contain Spread of Wuhan Virus',\n",
       " '28 Jan 2020',\n",
       " 'Additionary Precautionary Measures to Minimise Risk of Community Spread in Singapore',\n",
       " '28 Jan 2020',\n",
       " 'Two More Confirmed Imported Cases of Wuhan Coronavirus Infection in Singapore',\n",
       " '27 Jan 2020',\n",
       " 'Fifth Confirmed Imported Case of Wuhan Coronavirus Infection in Singapore',\n",
       " '27 Jan 2020',\n",
       " 'Health Advisory for Persons under Leave of Absence (LOA)',\n",
       " 'Health Advisory for Persons under Leave of Absence (LOA)',\n",
       " '27 Jan 2020',\n",
       " 'Referral of Chinese Nationals with Passports Issued in Hubei Province to Health Screening Stations at Airports',\n",
       " '27 Jan 2020',\n",
       " \"Transcript of Minister Chan Chun Sing's remarks at Wuhan Virus Press Conference on 27 Jan\",\n",
       " '27 Jan 2020',\n",
       " \"Minister Gan Kim Yong's remarks at Ministerial Press Conference on Wuhan Coronavirus\",\n",
       " '27 Jan 2020',\n",
       " 'Speech by Mr Lawrence Wong, Minister for National Development, at the Ministerial Press Conference on Wuhan Coronavirus',\n",
       " '27 Jan 2020',\n",
       " 'Minister for Health Instructs POFMA Office to Issue General Correction Direction',\n",
       " '27 Jan 2020',\n",
       " 'Update to Sector Specific Advisories',\n",
       " '27 Jan 2020',\n",
       " 'Multi Ministry Taskforce on Wuhan Coronavirus - Terms of Reference and Composition',\n",
       " '27 Jan 2020',\n",
       " 'New Precautionary Measure: Leave Of Absence for Preschool Staff and Children Returning From China',\n",
       " '26 Jan 2020',\n",
       " 'Update on Wuhan Coronavirus Infection in Singapore',\n",
       " '26 Jan 2020',\n",
       " 'Fourth Confirmed Imported Case of Wuhan Coronavirus Infection in Singapore',\n",
       " '25 Jan 2020',\n",
       " 'Update on Novel Coronavirus Infection in Singapore',\n",
       " 'Update on Novel Coronavirus Infection in Singapore',\n",
       " '24 Jan 2020',\n",
       " 'Two More Cases of Confirmed imported Case of Novel Coronavirus Infection in Singapore',\n",
       " '24 Jan 2020',\n",
       " 'Temperature Screening To Be Implemented At The Land Checkpoints From 24 January 2020',\n",
       " '24 Jan 2020',\n",
       " 'Temperature Screening at Sea Checkpoints',\n",
       " '24 Jan 2020',\n",
       " 'Travel Declaration in Response to Novel Coronavirus Situation',\n",
       " '23 Jan 2020',\n",
       " 'Confirmed Imported Case of Novel Coronavirus Infection in Singapore; Multi-Ministry Taskforce Ramps Up Precautionary Measures',\n",
       " 'Confirmed Imported Case of Novel Coronavirus Infection in Singapore; Multi-Ministry Taskforce Ramps Up Precautionary Measures',\n",
       " '23 Jan 2020',\n",
       " 'Further Update to Preschools on Measures in Response to Novel Coronavirus Pneumonia in Wuhan',\n",
       " '23 Jan 2020',\n",
       " 'MOH Updates Public Health Travel Advisory in Response to Cases of Novel Coronavirus in China',\n",
       " '22 Jan 2020',\n",
       " '22 Jan 2020',\n",
       " '21 Jan 2020',\n",
       " 'Update on Local Situation Regarding Severe Pneumonia Cluster in Wuhan',\n",
       " '21 Jan 2020',\n",
       " 'Additional Precautionary Measures in Response to Novel Coronavirus Pneumonia in China',\n",
       " '20 Jan 2020',\n",
       " 'Update on Local Situation Regarding Severe Pneumonia Cluster in Wuhan',\n",
       " '20 Jan 2020',\n",
       " 'MOH Steps Up Precautionary Measures in Response to Increase In Cases of Novel Coronavirus Pneumonia in Wuhan',\n",
       " '18 Jan 2020',\n",
       " 'Update on Local Situation Regarding Severe Pneumonia Cluster in Wuhan',\n",
       " '17 Jan 2020',\n",
       " 'Update on Local Situation Regarding Severe Pneumonia Cluster in Wuhan',\n",
       " '16 Jan 2020',\n",
       " 'Update on Local Situation Regarding Severe Pneumonia Cluster in Wuhan',\n",
       " '11 Jan 2020',\n",
       " 'Update on Local Situation Regarding Severe Pneumonia Cluster in Wuhan',\n",
       " '10 Jan 2020',\n",
       " 'Update on Local Situation Regarding Severe Pneumonia Cluster in Wuhan',\n",
       " '05 Jan 2020',\n",
       " 'Update on local situation regarding severe pneumonia cluster in Wuhan',\n",
       " '04 Jan 2020',\n",
       " 'Update on local situation regarding severe pneumonia cluster in Wuhan',\n",
       " '02 Jan 2020',\n",
       " 'Precautionary Measures in Response to Severe Pneumonia Cases in Wuhan, China']"
      ]
     },
     "execution_count": 16,
     "metadata": {},
     "output_type": "execute_result"
    }
   ],
   "source": [
    "chunk"
   ]
  },
  {
   "cell_type": "code",
   "execution_count": 17,
   "metadata": {},
   "outputs": [],
   "source": [
    "df = pd.DataFrame(np.array(chunk))"
   ]
  },
  {
   "cell_type": "code",
   "execution_count": 18,
   "metadata": {},
   "outputs": [],
   "source": [
    "df.columns = ['text']"
   ]
  },
  {
   "cell_type": "code",
   "execution_count": 19,
   "metadata": {},
   "outputs": [
    {
     "data": {
      "text/html": [
       "<div>\n",
       "<style scoped>\n",
       "    .dataframe tbody tr th:only-of-type {\n",
       "        vertical-align: middle;\n",
       "    }\n",
       "\n",
       "    .dataframe tbody tr th {\n",
       "        vertical-align: top;\n",
       "    }\n",
       "\n",
       "    .dataframe thead th {\n",
       "        text-align: right;\n",
       "    }\n",
       "</style>\n",
       "<table border=\"1\" class=\"dataframe\">\n",
       "  <thead>\n",
       "    <tr style=\"text-align: right;\">\n",
       "      <th></th>\n",
       "      <th>text</th>\n",
       "    </tr>\n",
       "  </thead>\n",
       "  <tbody>\n",
       "    <tr>\n",
       "      <th>0</th>\n",
       "      <td>25 Mar 2020</td>\n",
       "    </tr>\n",
       "    <tr>\n",
       "      <th>1</th>\n",
       "      <td>Travellers Arriving In Singapore Will Receive ...</td>\n",
       "    </tr>\n",
       "    <tr>\n",
       "      <th>2</th>\n",
       "      <td>Travellers Arriving In Singapore Will Receive ...</td>\n",
       "    </tr>\n",
       "    <tr>\n",
       "      <th>3</th>\n",
       "      <td>25 Mar 2020</td>\n",
       "    </tr>\n",
       "    <tr>\n",
       "      <th>4</th>\n",
       "      <td>Five More Cases Discharged; 73 News Cases of C...</td>\n",
       "    </tr>\n",
       "    <tr>\n",
       "      <th>5</th>\n",
       "      <td>25 Mar 2020</td>\n",
       "    </tr>\n",
       "    <tr>\n",
       "      <th>6</th>\n",
       "      <td>[Updated] Health Advisory for Persons issued S...</td>\n",
       "    </tr>\n",
       "    <tr>\n",
       "      <th>7</th>\n",
       "      <td>25 Mar 2020</td>\n",
       "    </tr>\n",
       "    <tr>\n",
       "      <th>8</th>\n",
       "      <td>[Updated]Advisory for Individuals Sharing Resi...</td>\n",
       "    </tr>\n",
       "    <tr>\n",
       "      <th>9</th>\n",
       "      <td>[Updated]Advisory for Individuals Sharing Resi...</td>\n",
       "    </tr>\n",
       "    <tr>\n",
       "      <th>10</th>\n",
       "      <td>25 Mar 2020</td>\n",
       "    </tr>\n",
       "    <tr>\n",
       "      <th>11</th>\n",
       "      <td>Measures to Prevent Congregations of Foreign W...</td>\n",
       "    </tr>\n",
       "    <tr>\n",
       "      <th>12</th>\n",
       "      <td>25 Mar 2020</td>\n",
       "    </tr>\n",
       "    <tr>\n",
       "      <th>13</th>\n",
       "      <td>Employers Advised To Plan For More Sustainable...</td>\n",
       "    </tr>\n",
       "    <tr>\n",
       "      <th>14</th>\n",
       "      <td>25 Mar 2020</td>\n",
       "    </tr>\n",
       "    <tr>\n",
       "      <th>15</th>\n",
       "      <td>Singapore Permanent Resident Failed To Declare...</td>\n",
       "    </tr>\n",
       "    <tr>\n",
       "      <th>16</th>\n",
       "      <td>25 Mar 2020</td>\n",
       "    </tr>\n",
       "    <tr>\n",
       "      <th>17</th>\n",
       "      <td>Entry Approval and Stay-Home Notice Requiremen...</td>\n",
       "    </tr>\n",
       "    <tr>\n",
       "      <th>18</th>\n",
       "      <td>Entry Approval and Stay-Home Notice Requiremen...</td>\n",
       "    </tr>\n",
       "    <tr>\n",
       "      <th>19</th>\n",
       "      <td>25 Mar 2020</td>\n",
       "    </tr>\n",
       "    <tr>\n",
       "      <th>20</th>\n",
       "      <td>Stepped Up Precautionary Measures against COVI...</td>\n",
       "    </tr>\n",
       "    <tr>\n",
       "      <th>21</th>\n",
       "      <td>Stepped Up Precautionary Measures against COVI...</td>\n",
       "    </tr>\n",
       "    <tr>\n",
       "      <th>22</th>\n",
       "      <td>25 Mar 2020</td>\n",
       "    </tr>\n",
       "    <tr>\n",
       "      <th>23</th>\n",
       "      <td>Ministerial Statement by Minister Lawrence Won...</td>\n",
       "    </tr>\n",
       "    <tr>\n",
       "      <th>24</th>\n",
       "      <td>25 Mar 2020</td>\n",
       "    </tr>\n",
       "    <tr>\n",
       "      <th>25</th>\n",
       "      <td>Statement by Mr Gan Kim Yong, Minister for Hea...</td>\n",
       "    </tr>\n",
       "    <tr>\n",
       "      <th>26</th>\n",
       "      <td>25 Mar 2020</td>\n",
       "    </tr>\n",
       "    <tr>\n",
       "      <th>27</th>\n",
       "      <td>Second Meeting of the Singapore - Malaysia Joi...</td>\n",
       "    </tr>\n",
       "    <tr>\n",
       "      <th>28</th>\n",
       "      <td>25 Mar 2020</td>\n",
       "    </tr>\n",
       "    <tr>\n",
       "      <th>29</th>\n",
       "      <td>Joint ministerial statement by Australia, Brun...</td>\n",
       "    </tr>\n",
       "    <tr>\n",
       "      <th>...</th>\n",
       "      <td>...</td>\n",
       "    </tr>\n",
       "    <tr>\n",
       "      <th>669</th>\n",
       "      <td>23 Jan 2020</td>\n",
       "    </tr>\n",
       "    <tr>\n",
       "      <th>670</th>\n",
       "      <td>Further Update to Preschools on Measures in Re...</td>\n",
       "    </tr>\n",
       "    <tr>\n",
       "      <th>671</th>\n",
       "      <td>23 Jan 2020</td>\n",
       "    </tr>\n",
       "    <tr>\n",
       "      <th>672</th>\n",
       "      <td>MOH Updates Public Health Travel Advisory in R...</td>\n",
       "    </tr>\n",
       "    <tr>\n",
       "      <th>673</th>\n",
       "      <td>22 Jan 2020</td>\n",
       "    </tr>\n",
       "    <tr>\n",
       "      <th>674</th>\n",
       "      <td>22 Jan 2020</td>\n",
       "    </tr>\n",
       "    <tr>\n",
       "      <th>675</th>\n",
       "      <td>21 Jan 2020</td>\n",
       "    </tr>\n",
       "    <tr>\n",
       "      <th>676</th>\n",
       "      <td>Update on Local Situation Regarding Severe Pne...</td>\n",
       "    </tr>\n",
       "    <tr>\n",
       "      <th>677</th>\n",
       "      <td>21 Jan 2020</td>\n",
       "    </tr>\n",
       "    <tr>\n",
       "      <th>678</th>\n",
       "      <td>Additional Precautionary Measures in Response ...</td>\n",
       "    </tr>\n",
       "    <tr>\n",
       "      <th>679</th>\n",
       "      <td>20 Jan 2020</td>\n",
       "    </tr>\n",
       "    <tr>\n",
       "      <th>680</th>\n",
       "      <td>Update on Local Situation Regarding Severe Pne...</td>\n",
       "    </tr>\n",
       "    <tr>\n",
       "      <th>681</th>\n",
       "      <td>20 Jan 2020</td>\n",
       "    </tr>\n",
       "    <tr>\n",
       "      <th>682</th>\n",
       "      <td>MOH Steps Up Precautionary Measures in Respons...</td>\n",
       "    </tr>\n",
       "    <tr>\n",
       "      <th>683</th>\n",
       "      <td>18 Jan 2020</td>\n",
       "    </tr>\n",
       "    <tr>\n",
       "      <th>684</th>\n",
       "      <td>Update on Local Situation Regarding Severe Pne...</td>\n",
       "    </tr>\n",
       "    <tr>\n",
       "      <th>685</th>\n",
       "      <td>17 Jan 2020</td>\n",
       "    </tr>\n",
       "    <tr>\n",
       "      <th>686</th>\n",
       "      <td>Update on Local Situation Regarding Severe Pne...</td>\n",
       "    </tr>\n",
       "    <tr>\n",
       "      <th>687</th>\n",
       "      <td>16 Jan 2020</td>\n",
       "    </tr>\n",
       "    <tr>\n",
       "      <th>688</th>\n",
       "      <td>Update on Local Situation Regarding Severe Pne...</td>\n",
       "    </tr>\n",
       "    <tr>\n",
       "      <th>689</th>\n",
       "      <td>11 Jan 2020</td>\n",
       "    </tr>\n",
       "    <tr>\n",
       "      <th>690</th>\n",
       "      <td>Update on Local Situation Regarding Severe Pne...</td>\n",
       "    </tr>\n",
       "    <tr>\n",
       "      <th>691</th>\n",
       "      <td>10 Jan 2020</td>\n",
       "    </tr>\n",
       "    <tr>\n",
       "      <th>692</th>\n",
       "      <td>Update on Local Situation Regarding Severe Pne...</td>\n",
       "    </tr>\n",
       "    <tr>\n",
       "      <th>693</th>\n",
       "      <td>05 Jan 2020</td>\n",
       "    </tr>\n",
       "    <tr>\n",
       "      <th>694</th>\n",
       "      <td>Update on local situation regarding severe pne...</td>\n",
       "    </tr>\n",
       "    <tr>\n",
       "      <th>695</th>\n",
       "      <td>04 Jan 2020</td>\n",
       "    </tr>\n",
       "    <tr>\n",
       "      <th>696</th>\n",
       "      <td>Update on local situation regarding severe pne...</td>\n",
       "    </tr>\n",
       "    <tr>\n",
       "      <th>697</th>\n",
       "      <td>02 Jan 2020</td>\n",
       "    </tr>\n",
       "    <tr>\n",
       "      <th>698</th>\n",
       "      <td>Precautionary Measures in Response to Severe P...</td>\n",
       "    </tr>\n",
       "  </tbody>\n",
       "</table>\n",
       "<p>699 rows × 1 columns</p>\n",
       "</div>"
      ],
      "text/plain": [
       "                                                  text\n",
       "0                                          25 Mar 2020\n",
       "1    Travellers Arriving In Singapore Will Receive ...\n",
       "2    Travellers Arriving In Singapore Will Receive ...\n",
       "3                                          25 Mar 2020\n",
       "4    Five More Cases Discharged; 73 News Cases of C...\n",
       "5                                          25 Mar 2020\n",
       "6    [Updated] Health Advisory for Persons issued S...\n",
       "7                                          25 Mar 2020\n",
       "8    [Updated]Advisory for Individuals Sharing Resi...\n",
       "9    [Updated]Advisory for Individuals Sharing Resi...\n",
       "10                                         25 Mar 2020\n",
       "11   Measures to Prevent Congregations of Foreign W...\n",
       "12                                         25 Mar 2020\n",
       "13   Employers Advised To Plan For More Sustainable...\n",
       "14                                         25 Mar 2020\n",
       "15   Singapore Permanent Resident Failed To Declare...\n",
       "16                                         25 Mar 2020\n",
       "17   Entry Approval and Stay-Home Notice Requiremen...\n",
       "18   Entry Approval and Stay-Home Notice Requiremen...\n",
       "19                                         25 Mar 2020\n",
       "20   Stepped Up Precautionary Measures against COVI...\n",
       "21   Stepped Up Precautionary Measures against COVI...\n",
       "22                                         25 Mar 2020\n",
       "23   Ministerial Statement by Minister Lawrence Won...\n",
       "24                                         25 Mar 2020\n",
       "25   Statement by Mr Gan Kim Yong, Minister for Hea...\n",
       "26                                         25 Mar 2020\n",
       "27   Second Meeting of the Singapore - Malaysia Joi...\n",
       "28                                         25 Mar 2020\n",
       "29   Joint ministerial statement by Australia, Brun...\n",
       "..                                                 ...\n",
       "669                                        23 Jan 2020\n",
       "670  Further Update to Preschools on Measures in Re...\n",
       "671                                        23 Jan 2020\n",
       "672  MOH Updates Public Health Travel Advisory in R...\n",
       "673                                        22 Jan 2020\n",
       "674                                        22 Jan 2020\n",
       "675                                        21 Jan 2020\n",
       "676  Update on Local Situation Regarding Severe Pne...\n",
       "677                                        21 Jan 2020\n",
       "678  Additional Precautionary Measures in Response ...\n",
       "679                                        20 Jan 2020\n",
       "680  Update on Local Situation Regarding Severe Pne...\n",
       "681                                        20 Jan 2020\n",
       "682  MOH Steps Up Precautionary Measures in Respons...\n",
       "683                                        18 Jan 2020\n",
       "684  Update on Local Situation Regarding Severe Pne...\n",
       "685                                        17 Jan 2020\n",
       "686  Update on Local Situation Regarding Severe Pne...\n",
       "687                                        16 Jan 2020\n",
       "688  Update on Local Situation Regarding Severe Pne...\n",
       "689                                        11 Jan 2020\n",
       "690  Update on Local Situation Regarding Severe Pne...\n",
       "691                                        10 Jan 2020\n",
       "692  Update on Local Situation Regarding Severe Pne...\n",
       "693                                        05 Jan 2020\n",
       "694  Update on local situation regarding severe pne...\n",
       "695                                        04 Jan 2020\n",
       "696  Update on local situation regarding severe pne...\n",
       "697                                        02 Jan 2020\n",
       "698  Precautionary Measures in Response to Severe P...\n",
       "\n",
       "[699 rows x 1 columns]"
      ]
     },
     "execution_count": 19,
     "metadata": {},
     "output_type": "execute_result"
    }
   ],
   "source": [
    "df"
   ]
  },
  {
   "cell_type": "code",
   "execution_count": 20,
   "metadata": {},
   "outputs": [],
   "source": [
    "pd.set_option('display.max_rows', None)\n",
    "pd.set_option('display.max_colwidth', -1)"
   ]
  },
  {
   "cell_type": "code",
   "execution_count": 21,
   "metadata": {},
   "outputs": [
    {
     "data": {
      "text/html": [
       "<div>\n",
       "<style scoped>\n",
       "    .dataframe tbody tr th:only-of-type {\n",
       "        vertical-align: middle;\n",
       "    }\n",
       "\n",
       "    .dataframe tbody tr th {\n",
       "        vertical-align: top;\n",
       "    }\n",
       "\n",
       "    .dataframe thead th {\n",
       "        text-align: right;\n",
       "    }\n",
       "</style>\n",
       "<table border=\"1\" class=\"dataframe\">\n",
       "  <thead>\n",
       "    <tr style=\"text-align: right;\">\n",
       "      <th></th>\n",
       "      <th>text</th>\n",
       "    </tr>\n",
       "  </thead>\n",
       "  <tbody>\n",
       "    <tr>\n",
       "      <th>25 Mar 2020</th>\n",
       "      <td>16</td>\n",
       "    </tr>\n",
       "    <tr>\n",
       "      <th>20 Mar 2020</th>\n",
       "      <td>11</td>\n",
       "    </tr>\n",
       "    <tr>\n",
       "      <th>27 Jan 2020</th>\n",
       "      <td>10</td>\n",
       "    </tr>\n",
       "    <tr>\n",
       "      <th>31 Jan 2020</th>\n",
       "      <td>9</td>\n",
       "    </tr>\n",
       "    <tr>\n",
       "      <th>14 Feb 2020</th>\n",
       "      <td>8</td>\n",
       "    </tr>\n",
       "    <tr>\n",
       "      <th>15 Mar 2020</th>\n",
       "      <td>7</td>\n",
       "    </tr>\n",
       "    <tr>\n",
       "      <th>01 Feb 2020</th>\n",
       "      <td>7</td>\n",
       "    </tr>\n",
       "    <tr>\n",
       "      <th>16 Mar 2020</th>\n",
       "      <td>7</td>\n",
       "    </tr>\n",
       "    <tr>\n",
       "      <th>10 Mar 2020</th>\n",
       "      <td>7</td>\n",
       "    </tr>\n",
       "    <tr>\n",
       "      <th>04 Feb 2020</th>\n",
       "      <td>7</td>\n",
       "    </tr>\n",
       "    <tr>\n",
       "      <th>13 Mar 2020</th>\n",
       "      <td>6</td>\n",
       "    </tr>\n",
       "    <tr>\n",
       "      <th>19 Mar 2020</th>\n",
       "      <td>6</td>\n",
       "    </tr>\n",
       "    <tr>\n",
       "      <th>25 Feb 2020</th>\n",
       "      <td>6</td>\n",
       "    </tr>\n",
       "    <tr>\n",
       "      <th>09 Feb 2020</th>\n",
       "      <td>6</td>\n",
       "    </tr>\n",
       "    <tr>\n",
       "      <th>17 Feb 2020</th>\n",
       "      <td>6</td>\n",
       "    </tr>\n",
       "    <tr>\n",
       "      <th>28 Jan 2020</th>\n",
       "      <td>6</td>\n",
       "    </tr>\n",
       "    <tr>\n",
       "      <th>24 Mar 2020</th>\n",
       "      <td>6</td>\n",
       "    </tr>\n",
       "    <tr>\n",
       "      <th>03 Feb 2020</th>\n",
       "      <td>6</td>\n",
       "    </tr>\n",
       "    <tr>\n",
       "      <th>24 Feb 2020</th>\n",
       "      <td>6</td>\n",
       "    </tr>\n",
       "    <tr>\n",
       "      <th>27 Feb 2020</th>\n",
       "      <td>6</td>\n",
       "    </tr>\n",
       "    <tr>\n",
       "      <th>12 Feb 2020</th>\n",
       "      <td>6</td>\n",
       "    </tr>\n",
       "    <tr>\n",
       "      <th>07 Feb 2020</th>\n",
       "      <td>5</td>\n",
       "    </tr>\n",
       "    <tr>\n",
       "      <th>21 Mar 2020</th>\n",
       "      <td>5</td>\n",
       "    </tr>\n",
       "    <tr>\n",
       "      <th>11 Feb 2020</th>\n",
       "      <td>5</td>\n",
       "    </tr>\n",
       "    <tr>\n",
       "      <th>12 Mar 2020</th>\n",
       "      <td>5</td>\n",
       "    </tr>\n",
       "    <tr>\n",
       "      <th>30 Jan 2020</th>\n",
       "      <td>5</td>\n",
       "    </tr>\n",
       "    <tr>\n",
       "      <th>10 Feb 2020</th>\n",
       "      <td>5</td>\n",
       "    </tr>\n",
       "    <tr>\n",
       "      <th>13 Feb 2020</th>\n",
       "      <td>4</td>\n",
       "    </tr>\n",
       "    <tr>\n",
       "      <th>17 Mar 2020</th>\n",
       "      <td>4</td>\n",
       "    </tr>\n",
       "    <tr>\n",
       "      <th>08 Feb 2020</th>\n",
       "      <td>4</td>\n",
       "    </tr>\n",
       "    <tr>\n",
       "      <th>3 Mar 2020</th>\n",
       "      <td>4</td>\n",
       "    </tr>\n",
       "    <tr>\n",
       "      <th>29 Jan 2020</th>\n",
       "      <td>4</td>\n",
       "    </tr>\n",
       "    <tr>\n",
       "      <th>11 Mar 2020</th>\n",
       "      <td>4</td>\n",
       "    </tr>\n",
       "    <tr>\n",
       "      <th>18 Feb 2020</th>\n",
       "      <td>4</td>\n",
       "    </tr>\n",
       "    <tr>\n",
       "      <th>24 Jan 2020</th>\n",
       "      <td>4</td>\n",
       "    </tr>\n",
       "    <tr>\n",
       "      <th>4 Mar 2020</th>\n",
       "      <td>4</td>\n",
       "    </tr>\n",
       "    <tr>\n",
       "      <th>26 Feb 2020</th>\n",
       "      <td>4</td>\n",
       "    </tr>\n",
       "    <tr>\n",
       "      <th>18 Mar 2020</th>\n",
       "      <td>4</td>\n",
       "    </tr>\n",
       "    <tr>\n",
       "      <th>15 Feb 2020</th>\n",
       "      <td>3</td>\n",
       "    </tr>\n",
       "    <tr>\n",
       "      <th>02 Feb 2020</th>\n",
       "      <td>3</td>\n",
       "    </tr>\n",
       "    <tr>\n",
       "      <th>6 Mar 2020</th>\n",
       "      <td>3</td>\n",
       "    </tr>\n",
       "    <tr>\n",
       "      <th>28 Feb 2020</th>\n",
       "      <td>3</td>\n",
       "    </tr>\n",
       "    <tr>\n",
       "      <th>22 Mar 2020</th>\n",
       "      <td>3</td>\n",
       "    </tr>\n",
       "    <tr>\n",
       "      <th>16 Feb 2020</th>\n",
       "      <td>3</td>\n",
       "    </tr>\n",
       "    <tr>\n",
       "      <th>23 Mar 2020</th>\n",
       "      <td>3</td>\n",
       "    </tr>\n",
       "    <tr>\n",
       "      <th>23 Jan 2020</th>\n",
       "      <td>3</td>\n",
       "    </tr>\n",
       "    <tr>\n",
       "      <th>Return of Singaporeans from Wuhan, Hubei Province to Singapore on 9 February 2020 - Ministry of Foreign Affairs (MFA)</th>\n",
       "      <td>2</td>\n",
       "    </tr>\n",
       "    <tr>\n",
       "      <th>26 Jan 2020</th>\n",
       "      <td>2</td>\n",
       "    </tr>\n",
       "    <tr>\n",
       "      <th>All Travellers Arriving In Singapore From 27 March 2020, 0900 Hours, Must Submit Health Declaration Via The SG Arrival Card E-Service- Immigration &amp; Checkpoints Authority (ICA)</th>\n",
       "      <td>2</td>\n",
       "    </tr>\n",
       "    <tr>\n",
       "      <th>05 Feb 2020</th>\n",
       "      <td>2</td>\n",
       "    </tr>\n",
       "    <tr>\n",
       "      <th>14 Mar 2020</th>\n",
       "      <td>2</td>\n",
       "    </tr>\n",
       "    <tr>\n",
       "      <th>Minister for Foreign Affairs Dr Vivian Balakrishnan's Live Interview with CNBC Asia's Squawk Box Asia, 11 Mar 2020 - MFA</th>\n",
       "      <td>2</td>\n",
       "    </tr>\n",
       "    <tr>\n",
       "      <th>5 Mar 2020</th>\n",
       "      <td>2</td>\n",
       "    </tr>\n",
       "    <tr>\n",
       "      <th>23 Feb 2020</th>\n",
       "      <td>2</td>\n",
       "    </tr>\n",
       "    <tr>\n",
       "      <th>[Updated]MUIS Advisory for General Muslim Public(list of mosques attended by confirmed cases updated as of 19 Mar 2020) - Islamic Religious Council of Singapore (MUIS)</th>\n",
       "      <td>2</td>\n",
       "    </tr>\n",
       "    <tr>\n",
       "      <th>1 Mar 2020</th>\n",
       "      <td>2</td>\n",
       "    </tr>\n",
       "    <tr>\n",
       "      <th>22 Jan 2020</th>\n",
       "      <td>2</td>\n",
       "    </tr>\n",
       "    <tr>\n",
       "      <th>8 Mar 2020</th>\n",
       "      <td>2</td>\n",
       "    </tr>\n",
       "    <tr>\n",
       "      <th>20 Jan 2020</th>\n",
       "      <td>2</td>\n",
       "    </tr>\n",
       "    <tr>\n",
       "      <th>29 Feb 2020</th>\n",
       "      <td>2</td>\n",
       "    </tr>\n",
       "    <tr>\n",
       "      <th>Speech by Mr Lawrence Wong, Minister for National Development at Media Briefing on Wuhan Coronavirus, 30 Jan 2020, 12pm</th>\n",
       "      <td>2</td>\n",
       "    </tr>\n",
       "    <tr>\n",
       "      <th>Speech by Mr Lawrence Wong, Minister for National Development, at COVID-19 Press Conference, 24 Mar 2020</th>\n",
       "      <td>2</td>\n",
       "    </tr>\n",
       "    <tr>\n",
       "      <th>21 Jan 2020</th>\n",
       "      <td>2</td>\n",
       "    </tr>\n",
       "    <tr>\n",
       "      <th>9 Mar 2020</th>\n",
       "      <td>2</td>\n",
       "    </tr>\n",
       "    <tr>\n",
       "      <th>[Updated]Advisory for Individuals Sharing Residential Spaces with Persons issued Stay-Home Notice (SHN)(25 Mar 2020)</th>\n",
       "      <td>2</td>\n",
       "    </tr>\n",
       "    <tr>\n",
       "      <th>Transcript of Minister for Defence, Dr Ng Eng Hen's Total Defence Day 2020 Video Message - Ministry of Defence (MINDEF)</th>\n",
       "      <td>1</td>\n",
       "    </tr>\n",
       "    <tr>\n",
       "      <th>Speech by Mr Lawrence Wong, Minister for National Development, at COVID-19 Press Conference, 20 MAR 2020, 06.00 PM at National Press Centre</th>\n",
       "      <td>1</td>\n",
       "    </tr>\n",
       "    <tr>\n",
       "      <th>21 Feb 2020</th>\n",
       "      <td>1</td>\n",
       "    </tr>\n",
       "    <tr>\n",
       "      <th>7 Mar 2020</th>\n",
       "      <td>1</td>\n",
       "    </tr>\n",
       "    <tr>\n",
       "      <th>Remarks by Mr Lawrence Wong, Minister for National Development, at Media Doorstop, 15 March 2020, 4.00pm at National Press Centre</th>\n",
       "      <td>1</td>\n",
       "    </tr>\n",
       "    <tr>\n",
       "      <th>Collection of Masks from 01 Feb to 09 Feb 2020 at Residents' Committee (RC) Centres and Community Clubs (CCs) - People's Association</th>\n",
       "      <td>1</td>\n",
       "    </tr>\n",
       "    <tr>\n",
       "      <th>02 Jan 2020</th>\n",
       "      <td>1</td>\n",
       "    </tr>\n",
       "    <tr>\n",
       "      <th>Import of Hand Sanitiser, Masks, Thermometers and Protective Gears - Health Science Authority (HSA, first published on 14 Feb 2020)</th>\n",
       "      <td>1</td>\n",
       "    </tr>\n",
       "    <tr>\n",
       "      <th>16 Jan 2020</th>\n",
       "      <td>1</td>\n",
       "    </tr>\n",
       "    <tr>\n",
       "      <th>20 Feb 2020</th>\n",
       "      <td>1</td>\n",
       "    </tr>\n",
       "    <tr>\n",
       "      <th>06 Feb 2020</th>\n",
       "      <td>1</td>\n",
       "    </tr>\n",
       "    <tr>\n",
       "      <th>11 Jan 2020</th>\n",
       "      <td>1</td>\n",
       "    </tr>\n",
       "    <tr>\n",
       "      <th>2 Mar 2020</th>\n",
       "      <td>1</td>\n",
       "    </tr>\n",
       "    <tr>\n",
       "      <th>Remarks by Minister Lawrence Wong, Co-chair of the Multi-Ministry Taskforce on COVID-19, at Press Conference at National Press Centre on 10 March 2020</th>\n",
       "      <td>1</td>\n",
       "    </tr>\n",
       "    <tr>\n",
       "      <th>18 Jan 2020</th>\n",
       "      <td>1</td>\n",
       "    </tr>\n",
       "    <tr>\n",
       "      <th>25 Jan 2020</th>\n",
       "      <td>1</td>\n",
       "    </tr>\n",
       "    <tr>\n",
       "      <th>Temperature Screening To Be Implemented At The Land Checkpoints From 24 January 2020</th>\n",
       "      <td>1</td>\n",
       "    </tr>\n",
       "    <tr>\n",
       "      <th>PM Lee Hsien Loong's remarks in English, Chinese and Malay on the Coronavirus Disease 2019 (COVID-19) situation in Singapore, delivered on 12 March 2020</th>\n",
       "      <td>1</td>\n",
       "    </tr>\n",
       "    <tr>\n",
       "      <th>Remarks by Minister Lawrence Wong, Co-chair of the Multi-Ministry Taskforce on COVID-19, at Press Conference at National Press Centre on 6 March 2020</th>\n",
       "      <td>1</td>\n",
       "    </tr>\n",
       "    <tr>\n",
       "      <th>05 Jan 2020</th>\n",
       "      <td>1</td>\n",
       "    </tr>\n",
       "    <tr>\n",
       "      <th>Remarks by Minister Lawrence Wong, Co-chair of the Multi-Ministry Taskforce on Covid-19, at a Media Doorstop at National Press Centre on 3 Mar 2020</th>\n",
       "      <td>1</td>\n",
       "    </tr>\n",
       "    <tr>\n",
       "      <th>17 Jan 2020</th>\n",
       "      <td>1</td>\n",
       "    </tr>\n",
       "    <tr>\n",
       "      <th>22 Feb 2020</th>\n",
       "      <td>1</td>\n",
       "    </tr>\n",
       "    <tr>\n",
       "      <th>Speech by Mr Lawrence Wong, Minister for National Development, at Press Conference on Wuhan Coronavirus (31 Jan 2020, 5pm)</th>\n",
       "      <td>1</td>\n",
       "    </tr>\n",
       "    <tr>\n",
       "      <th>Speech by Mr Lawrence Wong, Minister for National Development, at COVID-19 Press Conference, 17 Mar 2020, 06.00 PM at National Press Centre</th>\n",
       "      <td>1</td>\n",
       "    </tr>\n",
       "    <tr>\n",
       "      <th>10 Jan 2020</th>\n",
       "      <td>1</td>\n",
       "    </tr>\n",
       "    <tr>\n",
       "      <th>Speech by Mr Lawrence Wong, Minister for National Development, at COVID-19 Press Conference, 25 Feb 2020, 06.00 PM at National Press Centre</th>\n",
       "      <td>1</td>\n",
       "    </tr>\n",
       "    <tr>\n",
       "      <th>Companies Encouraged to Impose Leave of Absence for Employees Returning Between 14 and 20 March 2020 - Ministry of Manpower (MOM)</th>\n",
       "      <td>1</td>\n",
       "    </tr>\n",
       "    <tr>\n",
       "      <th>Speech by Mr Lawrence Wong, Minister for National Development, at COVID-19 Press Conference, 13 Mar 2020, 11.00am at National Press Centre</th>\n",
       "      <td>1</td>\n",
       "    </tr>\n",
       "    <tr>\n",
       "      <th>Health Advisory for Persons Placed on Leave of Absence (LOA) - 01 Feb 2020- Updated</th>\n",
       "      <td>1</td>\n",
       "    </tr>\n",
       "    <tr>\n",
       "      <th>19 Feb 2020</th>\n",
       "      <td>1</td>\n",
       "    </tr>\n",
       "    <tr>\n",
       "      <th>04 Jan 2020</th>\n",
       "      <td>1</td>\n",
       "    </tr>\n",
       "  </tbody>\n",
       "</table>\n",
       "</div>"
      ],
      "text/plain": [
       "                                                                                                                                                                                  text\n",
       "25 Mar 2020                                                                                                                                                                       16  \n",
       "20 Mar 2020                                                                                                                                                                       11  \n",
       "27 Jan 2020                                                                                                                                                                       10  \n",
       "31 Jan 2020                                                                                                                                                                       9   \n",
       "14 Feb 2020                                                                                                                                                                       8   \n",
       "15 Mar 2020                                                                                                                                                                       7   \n",
       "01 Feb 2020                                                                                                                                                                       7   \n",
       "16 Mar 2020                                                                                                                                                                       7   \n",
       "10 Mar 2020                                                                                                                                                                       7   \n",
       "04 Feb 2020                                                                                                                                                                       7   \n",
       "13 Mar 2020                                                                                                                                                                       6   \n",
       "19 Mar 2020                                                                                                                                                                       6   \n",
       "25 Feb 2020                                                                                                                                                                       6   \n",
       "09 Feb 2020                                                                                                                                                                       6   \n",
       "17 Feb 2020                                                                                                                                                                       6   \n",
       "28 Jan 2020                                                                                                                                                                       6   \n",
       "24 Mar 2020                                                                                                                                                                       6   \n",
       "03 Feb 2020                                                                                                                                                                       6   \n",
       "24 Feb 2020                                                                                                                                                                       6   \n",
       "27 Feb 2020                                                                                                                                                                       6   \n",
       "12 Feb 2020                                                                                                                                                                       6   \n",
       "07 Feb 2020                                                                                                                                                                       5   \n",
       "21 Mar 2020                                                                                                                                                                       5   \n",
       "11 Feb 2020                                                                                                                                                                       5   \n",
       "12 Mar 2020                                                                                                                                                                       5   \n",
       "30 Jan 2020                                                                                                                                                                       5   \n",
       "10 Feb 2020                                                                                                                                                                       5   \n",
       "13 Feb 2020                                                                                                                                                                       4   \n",
       "17 Mar 2020                                                                                                                                                                       4   \n",
       "08 Feb 2020                                                                                                                                                                       4   \n",
       "3 Mar 2020                                                                                                                                                                        4   \n",
       "29 Jan 2020                                                                                                                                                                       4   \n",
       "11 Mar 2020                                                                                                                                                                       4   \n",
       "18 Feb 2020                                                                                                                                                                       4   \n",
       "24 Jan 2020                                                                                                                                                                       4   \n",
       "4 Mar 2020                                                                                                                                                                        4   \n",
       "26 Feb 2020                                                                                                                                                                       4   \n",
       "18 Mar 2020                                                                                                                                                                       4   \n",
       "15 Feb 2020                                                                                                                                                                       3   \n",
       "02 Feb 2020                                                                                                                                                                       3   \n",
       "6 Mar 2020                                                                                                                                                                        3   \n",
       "28 Feb 2020                                                                                                                                                                       3   \n",
       "22 Mar 2020                                                                                                                                                                       3   \n",
       "16 Feb 2020                                                                                                                                                                       3   \n",
       "23 Mar 2020                                                                                                                                                                       3   \n",
       "23 Jan 2020                                                                                                                                                                       3   \n",
       "Return of Singaporeans from Wuhan, Hubei Province to Singapore on 9 February 2020 - Ministry of Foreign Affairs (MFA)                                                             2   \n",
       "26 Jan 2020                                                                                                                                                                       2   \n",
       "All Travellers Arriving In Singapore From 27 March 2020, 0900 Hours, Must Submit Health Declaration Via The SG Arrival Card E-Service- Immigration & Checkpoints Authority (ICA)  2   \n",
       "05 Feb 2020                                                                                                                                                                       2   \n",
       "14 Mar 2020                                                                                                                                                                       2   \n",
       "Minister for Foreign Affairs Dr Vivian Balakrishnan's Live Interview with CNBC Asia's Squawk Box Asia, 11 Mar 2020 - MFA                                                          2   \n",
       "5 Mar 2020                                                                                                                                                                        2   \n",
       "23 Feb 2020                                                                                                                                                                       2   \n",
       "[Updated]MUIS Advisory for General Muslim Public(list of mosques attended by confirmed cases updated as of 19 Mar 2020) - Islamic Religious Council of Singapore (MUIS)           2   \n",
       "1 Mar 2020                                                                                                                                                                        2   \n",
       "22 Jan 2020                                                                                                                                                                       2   \n",
       "8 Mar 2020                                                                                                                                                                        2   \n",
       "20 Jan 2020                                                                                                                                                                       2   \n",
       "29 Feb 2020                                                                                                                                                                       2   \n",
       "Speech by Mr Lawrence Wong, Minister for National Development at Media Briefing on Wuhan Coronavirus, 30 Jan 2020, 12pm                                                           2   \n",
       "Speech by Mr Lawrence Wong, Minister for National Development, at COVID-19 Press Conference, 24 Mar 2020                                                                          2   \n",
       "21 Jan 2020                                                                                                                                                                       2   \n",
       "9 Mar 2020                                                                                                                                                                        2   \n",
       "[Updated]Advisory for Individuals Sharing Residential Spaces with Persons issued Stay-Home Notice (SHN)(25 Mar 2020)                                                              2   \n",
       "Transcript of Minister for Defence, Dr Ng Eng Hen's Total Defence Day 2020 Video Message - Ministry of Defence (MINDEF)                                                           1   \n",
       "Speech by Mr Lawrence Wong, Minister for National Development, at COVID-19 Press Conference, 20 MAR 2020, 06.00 PM at National Press Centre                                       1   \n",
       "21 Feb 2020                                                                                                                                                                       1   \n",
       "7 Mar 2020                                                                                                                                                                        1   \n",
       "Remarks by Mr Lawrence Wong, Minister for National Development, at Media Doorstop, 15 March 2020, 4.00pm at National Press Centre                                                 1   \n",
       "Collection of Masks from 01 Feb to 09 Feb 2020 at Residents' Committee (RC) Centres and Community Clubs (CCs) - People's Association                                              1   \n",
       "02 Jan 2020                                                                                                                                                                       1   \n",
       "Import of Hand Sanitiser, Masks, Thermometers and Protective Gears - Health Science Authority (HSA, first published on 14 Feb 2020)                                               1   \n",
       "16 Jan 2020                                                                                                                                                                       1   \n",
       "20 Feb 2020                                                                                                                                                                       1   \n",
       "06 Feb 2020                                                                                                                                                                       1   \n",
       "11 Jan 2020                                                                                                                                                                       1   \n",
       "2 Mar 2020                                                                                                                                                                        1   \n",
       "Remarks by Minister Lawrence Wong, Co-chair of the Multi-Ministry Taskforce on COVID-19, at Press Conference at National Press Centre on 10 March 2020                            1   \n",
       "18 Jan 2020                                                                                                                                                                       1   \n",
       "25 Jan 2020                                                                                                                                                                       1   \n",
       "Temperature Screening To Be Implemented At The Land Checkpoints From 24 January 2020                                                                                              1   \n",
       "PM Lee Hsien Loong's remarks in English, Chinese and Malay on the Coronavirus Disease 2019 (COVID-19) situation in Singapore, delivered on 12 March 2020                          1   \n",
       "Remarks by Minister Lawrence Wong, Co-chair of the Multi-Ministry Taskforce on COVID-19, at Press Conference at National Press Centre on 6 March 2020                             1   \n",
       "05 Jan 2020                                                                                                                                                                       1   \n",
       "Remarks by Minister Lawrence Wong, Co-chair of the Multi-Ministry Taskforce on Covid-19, at a Media Doorstop at National Press Centre on 3 Mar 2020                               1   \n",
       "17 Jan 2020                                                                                                                                                                       1   \n",
       "22 Feb 2020                                                                                                                                                                       1   \n",
       "Speech by Mr Lawrence Wong, Minister for National Development, at Press Conference on Wuhan Coronavirus (31 Jan 2020, 5pm)                                                        1   \n",
       "Speech by Mr Lawrence Wong, Minister for National Development, at COVID-19 Press Conference, 17 Mar 2020, 06.00 PM at National Press Centre                                       1   \n",
       "10 Jan 2020                                                                                                                                                                       1   \n",
       "Speech by Mr Lawrence Wong, Minister for National Development, at COVID-19 Press Conference, 25 Feb 2020, 06.00 PM at National Press Centre                                       1   \n",
       "Companies Encouraged to Impose Leave of Absence for Employees Returning Between 14 and 20 March 2020 - Ministry of Manpower (MOM)                                                 1   \n",
       "Speech by Mr Lawrence Wong, Minister for National Development, at COVID-19 Press Conference, 13 Mar 2020, 11.00am at National Press Centre                                        1   \n",
       "Health Advisory for Persons Placed on Leave of Absence (LOA) - 01 Feb 2020- Updated                                                                                               1   \n",
       "19 Feb 2020                                                                                                                                                                       1   \n",
       "04 Jan 2020                                                                                                                                                                       1   "
      ]
     },
     "execution_count": 21,
     "metadata": {},
     "output_type": "execute_result"
    }
   ],
   "source": [
    "pd.DataFrame(df[df['text'].str.contains(\"2020\")]['text'].value_counts())"
   ]
  },
  {
   "cell_type": "code",
   "execution_count": 22,
   "metadata": {},
   "outputs": [],
   "source": [
    "updates_count = pd.DataFrame(df[df['text'].str.contains(\"2020\")]['text'].value_counts())"
   ]
  },
  {
   "cell_type": "code",
   "execution_count": 23,
   "metadata": {},
   "outputs": [],
   "source": [
    "updates_count = updates_count.reset_index()"
   ]
  },
  {
   "cell_type": "code",
   "execution_count": 24,
   "metadata": {},
   "outputs": [],
   "source": [
    "updates_count['text_len'] = updates_count['index'].apply(len)"
   ]
  },
  {
   "cell_type": "code",
   "execution_count": 25,
   "metadata": {},
   "outputs": [
    {
     "data": {
      "text/html": [
       "<div>\n",
       "<style scoped>\n",
       "    .dataframe tbody tr th:only-of-type {\n",
       "        vertical-align: middle;\n",
       "    }\n",
       "\n",
       "    .dataframe tbody tr th {\n",
       "        vertical-align: top;\n",
       "    }\n",
       "\n",
       "    .dataframe thead th {\n",
       "        text-align: right;\n",
       "    }\n",
       "</style>\n",
       "<table border=\"1\" class=\"dataframe\">\n",
       "  <thead>\n",
       "    <tr style=\"text-align: right;\">\n",
       "      <th></th>\n",
       "      <th>index</th>\n",
       "      <th>text</th>\n",
       "      <th>text_len</th>\n",
       "    </tr>\n",
       "  </thead>\n",
       "  <tbody>\n",
       "    <tr>\n",
       "      <th>0</th>\n",
       "      <td>25 Mar 2020</td>\n",
       "      <td>16</td>\n",
       "      <td>11</td>\n",
       "    </tr>\n",
       "    <tr>\n",
       "      <th>1</th>\n",
       "      <td>20 Mar 2020</td>\n",
       "      <td>11</td>\n",
       "      <td>11</td>\n",
       "    </tr>\n",
       "    <tr>\n",
       "      <th>2</th>\n",
       "      <td>27 Jan 2020</td>\n",
       "      <td>10</td>\n",
       "      <td>11</td>\n",
       "    </tr>\n",
       "    <tr>\n",
       "      <th>3</th>\n",
       "      <td>31 Jan 2020</td>\n",
       "      <td>9</td>\n",
       "      <td>11</td>\n",
       "    </tr>\n",
       "    <tr>\n",
       "      <th>4</th>\n",
       "      <td>14 Feb 2020</td>\n",
       "      <td>8</td>\n",
       "      <td>11</td>\n",
       "    </tr>\n",
       "  </tbody>\n",
       "</table>\n",
       "</div>"
      ],
      "text/plain": [
       "         index  text  text_len\n",
       "0  25 Mar 2020  16    11      \n",
       "1  20 Mar 2020  11    11      \n",
       "2  27 Jan 2020  10    11      \n",
       "3  31 Jan 2020  9     11      \n",
       "4  14 Feb 2020  8     11      "
      ]
     },
     "execution_count": 25,
     "metadata": {},
     "output_type": "execute_result"
    }
   ],
   "source": [
    "updates_count.head()"
   ]
  },
  {
   "cell_type": "code",
   "execution_count": 26,
   "metadata": {},
   "outputs": [],
   "source": [
    "updates_count = updates_count[updates_count['text_len']<=11]"
   ]
  },
  {
   "cell_type": "code",
   "execution_count": 27,
   "metadata": {},
   "outputs": [
    {
     "data": {
      "text/html": [
       "<div>\n",
       "<style scoped>\n",
       "    .dataframe tbody tr th:only-of-type {\n",
       "        vertical-align: middle;\n",
       "    }\n",
       "\n",
       "    .dataframe tbody tr th {\n",
       "        vertical-align: top;\n",
       "    }\n",
       "\n",
       "    .dataframe thead th {\n",
       "        text-align: right;\n",
       "    }\n",
       "</style>\n",
       "<table border=\"1\" class=\"dataframe\">\n",
       "  <thead>\n",
       "    <tr style=\"text-align: right;\">\n",
       "      <th></th>\n",
       "      <th>index</th>\n",
       "      <th>text</th>\n",
       "      <th>text_len</th>\n",
       "    </tr>\n",
       "  </thead>\n",
       "  <tbody>\n",
       "    <tr>\n",
       "      <th>0</th>\n",
       "      <td>25 Mar 2020</td>\n",
       "      <td>16</td>\n",
       "      <td>11</td>\n",
       "    </tr>\n",
       "    <tr>\n",
       "      <th>1</th>\n",
       "      <td>20 Mar 2020</td>\n",
       "      <td>11</td>\n",
       "      <td>11</td>\n",
       "    </tr>\n",
       "    <tr>\n",
       "      <th>2</th>\n",
       "      <td>27 Jan 2020</td>\n",
       "      <td>10</td>\n",
       "      <td>11</td>\n",
       "    </tr>\n",
       "    <tr>\n",
       "      <th>3</th>\n",
       "      <td>31 Jan 2020</td>\n",
       "      <td>9</td>\n",
       "      <td>11</td>\n",
       "    </tr>\n",
       "    <tr>\n",
       "      <th>4</th>\n",
       "      <td>14 Feb 2020</td>\n",
       "      <td>8</td>\n",
       "      <td>11</td>\n",
       "    </tr>\n",
       "    <tr>\n",
       "      <th>5</th>\n",
       "      <td>15 Mar 2020</td>\n",
       "      <td>7</td>\n",
       "      <td>11</td>\n",
       "    </tr>\n",
       "    <tr>\n",
       "      <th>6</th>\n",
       "      <td>01 Feb 2020</td>\n",
       "      <td>7</td>\n",
       "      <td>11</td>\n",
       "    </tr>\n",
       "    <tr>\n",
       "      <th>7</th>\n",
       "      <td>16 Mar 2020</td>\n",
       "      <td>7</td>\n",
       "      <td>11</td>\n",
       "    </tr>\n",
       "    <tr>\n",
       "      <th>8</th>\n",
       "      <td>10 Mar 2020</td>\n",
       "      <td>7</td>\n",
       "      <td>11</td>\n",
       "    </tr>\n",
       "    <tr>\n",
       "      <th>9</th>\n",
       "      <td>04 Feb 2020</td>\n",
       "      <td>7</td>\n",
       "      <td>11</td>\n",
       "    </tr>\n",
       "    <tr>\n",
       "      <th>10</th>\n",
       "      <td>13 Mar 2020</td>\n",
       "      <td>6</td>\n",
       "      <td>11</td>\n",
       "    </tr>\n",
       "    <tr>\n",
       "      <th>11</th>\n",
       "      <td>19 Mar 2020</td>\n",
       "      <td>6</td>\n",
       "      <td>11</td>\n",
       "    </tr>\n",
       "    <tr>\n",
       "      <th>12</th>\n",
       "      <td>25 Feb 2020</td>\n",
       "      <td>6</td>\n",
       "      <td>11</td>\n",
       "    </tr>\n",
       "    <tr>\n",
       "      <th>13</th>\n",
       "      <td>09 Feb 2020</td>\n",
       "      <td>6</td>\n",
       "      <td>11</td>\n",
       "    </tr>\n",
       "    <tr>\n",
       "      <th>14</th>\n",
       "      <td>17 Feb 2020</td>\n",
       "      <td>6</td>\n",
       "      <td>11</td>\n",
       "    </tr>\n",
       "    <tr>\n",
       "      <th>15</th>\n",
       "      <td>28 Jan 2020</td>\n",
       "      <td>6</td>\n",
       "      <td>11</td>\n",
       "    </tr>\n",
       "    <tr>\n",
       "      <th>16</th>\n",
       "      <td>24 Mar 2020</td>\n",
       "      <td>6</td>\n",
       "      <td>11</td>\n",
       "    </tr>\n",
       "    <tr>\n",
       "      <th>17</th>\n",
       "      <td>03 Feb 2020</td>\n",
       "      <td>6</td>\n",
       "      <td>11</td>\n",
       "    </tr>\n",
       "    <tr>\n",
       "      <th>18</th>\n",
       "      <td>24 Feb 2020</td>\n",
       "      <td>6</td>\n",
       "      <td>11</td>\n",
       "    </tr>\n",
       "    <tr>\n",
       "      <th>19</th>\n",
       "      <td>27 Feb 2020</td>\n",
       "      <td>6</td>\n",
       "      <td>11</td>\n",
       "    </tr>\n",
       "    <tr>\n",
       "      <th>20</th>\n",
       "      <td>12 Feb 2020</td>\n",
       "      <td>6</td>\n",
       "      <td>11</td>\n",
       "    </tr>\n",
       "    <tr>\n",
       "      <th>21</th>\n",
       "      <td>07 Feb 2020</td>\n",
       "      <td>5</td>\n",
       "      <td>11</td>\n",
       "    </tr>\n",
       "    <tr>\n",
       "      <th>22</th>\n",
       "      <td>21 Mar 2020</td>\n",
       "      <td>5</td>\n",
       "      <td>11</td>\n",
       "    </tr>\n",
       "    <tr>\n",
       "      <th>23</th>\n",
       "      <td>11 Feb 2020</td>\n",
       "      <td>5</td>\n",
       "      <td>11</td>\n",
       "    </tr>\n",
       "    <tr>\n",
       "      <th>24</th>\n",
       "      <td>12 Mar 2020</td>\n",
       "      <td>5</td>\n",
       "      <td>11</td>\n",
       "    </tr>\n",
       "    <tr>\n",
       "      <th>25</th>\n",
       "      <td>30 Jan 2020</td>\n",
       "      <td>5</td>\n",
       "      <td>11</td>\n",
       "    </tr>\n",
       "    <tr>\n",
       "      <th>26</th>\n",
       "      <td>10 Feb 2020</td>\n",
       "      <td>5</td>\n",
       "      <td>11</td>\n",
       "    </tr>\n",
       "    <tr>\n",
       "      <th>27</th>\n",
       "      <td>13 Feb 2020</td>\n",
       "      <td>4</td>\n",
       "      <td>11</td>\n",
       "    </tr>\n",
       "    <tr>\n",
       "      <th>28</th>\n",
       "      <td>17 Mar 2020</td>\n",
       "      <td>4</td>\n",
       "      <td>11</td>\n",
       "    </tr>\n",
       "    <tr>\n",
       "      <th>29</th>\n",
       "      <td>08 Feb 2020</td>\n",
       "      <td>4</td>\n",
       "      <td>11</td>\n",
       "    </tr>\n",
       "    <tr>\n",
       "      <th>30</th>\n",
       "      <td>3 Mar 2020</td>\n",
       "      <td>4</td>\n",
       "      <td>10</td>\n",
       "    </tr>\n",
       "    <tr>\n",
       "      <th>31</th>\n",
       "      <td>29 Jan 2020</td>\n",
       "      <td>4</td>\n",
       "      <td>11</td>\n",
       "    </tr>\n",
       "    <tr>\n",
       "      <th>32</th>\n",
       "      <td>11 Mar 2020</td>\n",
       "      <td>4</td>\n",
       "      <td>11</td>\n",
       "    </tr>\n",
       "    <tr>\n",
       "      <th>33</th>\n",
       "      <td>18 Feb 2020</td>\n",
       "      <td>4</td>\n",
       "      <td>11</td>\n",
       "    </tr>\n",
       "    <tr>\n",
       "      <th>34</th>\n",
       "      <td>24 Jan 2020</td>\n",
       "      <td>4</td>\n",
       "      <td>11</td>\n",
       "    </tr>\n",
       "    <tr>\n",
       "      <th>35</th>\n",
       "      <td>4 Mar 2020</td>\n",
       "      <td>4</td>\n",
       "      <td>10</td>\n",
       "    </tr>\n",
       "    <tr>\n",
       "      <th>36</th>\n",
       "      <td>26 Feb 2020</td>\n",
       "      <td>4</td>\n",
       "      <td>11</td>\n",
       "    </tr>\n",
       "    <tr>\n",
       "      <th>37</th>\n",
       "      <td>18 Mar 2020</td>\n",
       "      <td>4</td>\n",
       "      <td>11</td>\n",
       "    </tr>\n",
       "    <tr>\n",
       "      <th>38</th>\n",
       "      <td>15 Feb 2020</td>\n",
       "      <td>3</td>\n",
       "      <td>11</td>\n",
       "    </tr>\n",
       "    <tr>\n",
       "      <th>39</th>\n",
       "      <td>02 Feb 2020</td>\n",
       "      <td>3</td>\n",
       "      <td>11</td>\n",
       "    </tr>\n",
       "    <tr>\n",
       "      <th>40</th>\n",
       "      <td>6 Mar 2020</td>\n",
       "      <td>3</td>\n",
       "      <td>10</td>\n",
       "    </tr>\n",
       "    <tr>\n",
       "      <th>41</th>\n",
       "      <td>28 Feb 2020</td>\n",
       "      <td>3</td>\n",
       "      <td>11</td>\n",
       "    </tr>\n",
       "    <tr>\n",
       "      <th>42</th>\n",
       "      <td>22 Mar 2020</td>\n",
       "      <td>3</td>\n",
       "      <td>11</td>\n",
       "    </tr>\n",
       "    <tr>\n",
       "      <th>43</th>\n",
       "      <td>16 Feb 2020</td>\n",
       "      <td>3</td>\n",
       "      <td>11</td>\n",
       "    </tr>\n",
       "    <tr>\n",
       "      <th>44</th>\n",
       "      <td>23 Mar 2020</td>\n",
       "      <td>3</td>\n",
       "      <td>11</td>\n",
       "    </tr>\n",
       "    <tr>\n",
       "      <th>45</th>\n",
       "      <td>23 Jan 2020</td>\n",
       "      <td>3</td>\n",
       "      <td>11</td>\n",
       "    </tr>\n",
       "    <tr>\n",
       "      <th>47</th>\n",
       "      <td>26 Jan 2020</td>\n",
       "      <td>2</td>\n",
       "      <td>11</td>\n",
       "    </tr>\n",
       "    <tr>\n",
       "      <th>49</th>\n",
       "      <td>05 Feb 2020</td>\n",
       "      <td>2</td>\n",
       "      <td>11</td>\n",
       "    </tr>\n",
       "    <tr>\n",
       "      <th>50</th>\n",
       "      <td>14 Mar 2020</td>\n",
       "      <td>2</td>\n",
       "      <td>11</td>\n",
       "    </tr>\n",
       "    <tr>\n",
       "      <th>52</th>\n",
       "      <td>5 Mar 2020</td>\n",
       "      <td>2</td>\n",
       "      <td>10</td>\n",
       "    </tr>\n",
       "    <tr>\n",
       "      <th>53</th>\n",
       "      <td>23 Feb 2020</td>\n",
       "      <td>2</td>\n",
       "      <td>11</td>\n",
       "    </tr>\n",
       "    <tr>\n",
       "      <th>55</th>\n",
       "      <td>1 Mar 2020</td>\n",
       "      <td>2</td>\n",
       "      <td>10</td>\n",
       "    </tr>\n",
       "    <tr>\n",
       "      <th>56</th>\n",
       "      <td>22 Jan 2020</td>\n",
       "      <td>2</td>\n",
       "      <td>11</td>\n",
       "    </tr>\n",
       "    <tr>\n",
       "      <th>57</th>\n",
       "      <td>8 Mar 2020</td>\n",
       "      <td>2</td>\n",
       "      <td>10</td>\n",
       "    </tr>\n",
       "    <tr>\n",
       "      <th>58</th>\n",
       "      <td>20 Jan 2020</td>\n",
       "      <td>2</td>\n",
       "      <td>11</td>\n",
       "    </tr>\n",
       "    <tr>\n",
       "      <th>59</th>\n",
       "      <td>29 Feb 2020</td>\n",
       "      <td>2</td>\n",
       "      <td>11</td>\n",
       "    </tr>\n",
       "    <tr>\n",
       "      <th>62</th>\n",
       "      <td>21 Jan 2020</td>\n",
       "      <td>2</td>\n",
       "      <td>11</td>\n",
       "    </tr>\n",
       "    <tr>\n",
       "      <th>63</th>\n",
       "      <td>9 Mar 2020</td>\n",
       "      <td>2</td>\n",
       "      <td>10</td>\n",
       "    </tr>\n",
       "    <tr>\n",
       "      <th>67</th>\n",
       "      <td>21 Feb 2020</td>\n",
       "      <td>1</td>\n",
       "      <td>11</td>\n",
       "    </tr>\n",
       "    <tr>\n",
       "      <th>68</th>\n",
       "      <td>7 Mar 2020</td>\n",
       "      <td>1</td>\n",
       "      <td>10</td>\n",
       "    </tr>\n",
       "    <tr>\n",
       "      <th>71</th>\n",
       "      <td>02 Jan 2020</td>\n",
       "      <td>1</td>\n",
       "      <td>11</td>\n",
       "    </tr>\n",
       "    <tr>\n",
       "      <th>73</th>\n",
       "      <td>16 Jan 2020</td>\n",
       "      <td>1</td>\n",
       "      <td>11</td>\n",
       "    </tr>\n",
       "    <tr>\n",
       "      <th>74</th>\n",
       "      <td>20 Feb 2020</td>\n",
       "      <td>1</td>\n",
       "      <td>11</td>\n",
       "    </tr>\n",
       "    <tr>\n",
       "      <th>75</th>\n",
       "      <td>06 Feb 2020</td>\n",
       "      <td>1</td>\n",
       "      <td>11</td>\n",
       "    </tr>\n",
       "    <tr>\n",
       "      <th>76</th>\n",
       "      <td>11 Jan 2020</td>\n",
       "      <td>1</td>\n",
       "      <td>11</td>\n",
       "    </tr>\n",
       "    <tr>\n",
       "      <th>77</th>\n",
       "      <td>2 Mar 2020</td>\n",
       "      <td>1</td>\n",
       "      <td>10</td>\n",
       "    </tr>\n",
       "    <tr>\n",
       "      <th>79</th>\n",
       "      <td>18 Jan 2020</td>\n",
       "      <td>1</td>\n",
       "      <td>11</td>\n",
       "    </tr>\n",
       "    <tr>\n",
       "      <th>80</th>\n",
       "      <td>25 Jan 2020</td>\n",
       "      <td>1</td>\n",
       "      <td>11</td>\n",
       "    </tr>\n",
       "    <tr>\n",
       "      <th>84</th>\n",
       "      <td>05 Jan 2020</td>\n",
       "      <td>1</td>\n",
       "      <td>11</td>\n",
       "    </tr>\n",
       "    <tr>\n",
       "      <th>86</th>\n",
       "      <td>17 Jan 2020</td>\n",
       "      <td>1</td>\n",
       "      <td>11</td>\n",
       "    </tr>\n",
       "    <tr>\n",
       "      <th>87</th>\n",
       "      <td>22 Feb 2020</td>\n",
       "      <td>1</td>\n",
       "      <td>11</td>\n",
       "    </tr>\n",
       "    <tr>\n",
       "      <th>90</th>\n",
       "      <td>10 Jan 2020</td>\n",
       "      <td>1</td>\n",
       "      <td>11</td>\n",
       "    </tr>\n",
       "    <tr>\n",
       "      <th>95</th>\n",
       "      <td>19 Feb 2020</td>\n",
       "      <td>1</td>\n",
       "      <td>11</td>\n",
       "    </tr>\n",
       "    <tr>\n",
       "      <th>96</th>\n",
       "      <td>04 Jan 2020</td>\n",
       "      <td>1</td>\n",
       "      <td>11</td>\n",
       "    </tr>\n",
       "  </tbody>\n",
       "</table>\n",
       "</div>"
      ],
      "text/plain": [
       "          index  text  text_len\n",
       "0   25 Mar 2020  16    11      \n",
       "1   20 Mar 2020  11    11      \n",
       "2   27 Jan 2020  10    11      \n",
       "3   31 Jan 2020  9     11      \n",
       "4   14 Feb 2020  8     11      \n",
       "5   15 Mar 2020  7     11      \n",
       "6   01 Feb 2020  7     11      \n",
       "7   16 Mar 2020  7     11      \n",
       "8   10 Mar 2020  7     11      \n",
       "9   04 Feb 2020  7     11      \n",
       "10  13 Mar 2020  6     11      \n",
       "11  19 Mar 2020  6     11      \n",
       "12  25 Feb 2020  6     11      \n",
       "13  09 Feb 2020  6     11      \n",
       "14  17 Feb 2020  6     11      \n",
       "15  28 Jan 2020  6     11      \n",
       "16  24 Mar 2020  6     11      \n",
       "17  03 Feb 2020  6     11      \n",
       "18  24 Feb 2020  6     11      \n",
       "19  27 Feb 2020  6     11      \n",
       "20  12 Feb 2020  6     11      \n",
       "21  07 Feb 2020  5     11      \n",
       "22  21 Mar 2020  5     11      \n",
       "23  11 Feb 2020  5     11      \n",
       "24  12 Mar 2020  5     11      \n",
       "25  30 Jan 2020  5     11      \n",
       "26  10 Feb 2020  5     11      \n",
       "27  13 Feb 2020  4     11      \n",
       "28  17 Mar 2020  4     11      \n",
       "29  08 Feb 2020  4     11      \n",
       "30  3 Mar 2020   4     10      \n",
       "31  29 Jan 2020  4     11      \n",
       "32  11 Mar 2020  4     11      \n",
       "33  18 Feb 2020  4     11      \n",
       "34  24 Jan 2020  4     11      \n",
       "35  4 Mar 2020   4     10      \n",
       "36  26 Feb 2020  4     11      \n",
       "37  18 Mar 2020  4     11      \n",
       "38  15 Feb 2020  3     11      \n",
       "39  02 Feb 2020  3     11      \n",
       "40  6 Mar 2020   3     10      \n",
       "41  28 Feb 2020  3     11      \n",
       "42  22 Mar 2020  3     11      \n",
       "43  16 Feb 2020  3     11      \n",
       "44  23 Mar 2020  3     11      \n",
       "45  23 Jan 2020  3     11      \n",
       "47  26 Jan 2020  2     11      \n",
       "49  05 Feb 2020  2     11      \n",
       "50  14 Mar 2020  2     11      \n",
       "52  5 Mar 2020   2     10      \n",
       "53  23 Feb 2020  2     11      \n",
       "55  1 Mar 2020   2     10      \n",
       "56  22 Jan 2020  2     11      \n",
       "57  8 Mar 2020   2     10      \n",
       "58  20 Jan 2020  2     11      \n",
       "59  29 Feb 2020  2     11      \n",
       "62  21 Jan 2020  2     11      \n",
       "63  9 Mar 2020   2     10      \n",
       "67  21 Feb 2020  1     11      \n",
       "68  7 Mar 2020   1     10      \n",
       "71  02 Jan 2020  1     11      \n",
       "73  16 Jan 2020  1     11      \n",
       "74  20 Feb 2020  1     11      \n",
       "75  06 Feb 2020  1     11      \n",
       "76  11 Jan 2020  1     11      \n",
       "77  2 Mar 2020   1     10      \n",
       "79  18 Jan 2020  1     11      \n",
       "80  25 Jan 2020  1     11      \n",
       "84  05 Jan 2020  1     11      \n",
       "86  17 Jan 2020  1     11      \n",
       "87  22 Feb 2020  1     11      \n",
       "90  10 Jan 2020  1     11      \n",
       "95  19 Feb 2020  1     11      \n",
       "96  04 Jan 2020  1     11      "
      ]
     },
     "execution_count": 27,
     "metadata": {},
     "output_type": "execute_result"
    }
   ],
   "source": [
    "updates_count"
   ]
  },
  {
   "cell_type": "code",
   "execution_count": 28,
   "metadata": {},
   "outputs": [],
   "source": [
    "updates_count['date'] = pd.to_datetime(updates_count['index'])"
   ]
  },
  {
   "cell_type": "code",
   "execution_count": 29,
   "metadata": {},
   "outputs": [
    {
     "data": {
      "text/html": [
       "<div>\n",
       "<style scoped>\n",
       "    .dataframe tbody tr th:only-of-type {\n",
       "        vertical-align: middle;\n",
       "    }\n",
       "\n",
       "    .dataframe tbody tr th {\n",
       "        vertical-align: top;\n",
       "    }\n",
       "\n",
       "    .dataframe thead th {\n",
       "        text-align: right;\n",
       "    }\n",
       "</style>\n",
       "<table border=\"1\" class=\"dataframe\">\n",
       "  <thead>\n",
       "    <tr style=\"text-align: right;\">\n",
       "      <th></th>\n",
       "      <th>index</th>\n",
       "      <th>text</th>\n",
       "      <th>text_len</th>\n",
       "      <th>date</th>\n",
       "    </tr>\n",
       "  </thead>\n",
       "  <tbody>\n",
       "    <tr>\n",
       "      <th>0</th>\n",
       "      <td>25 Mar 2020</td>\n",
       "      <td>16</td>\n",
       "      <td>11</td>\n",
       "      <td>2020-03-25</td>\n",
       "    </tr>\n",
       "    <tr>\n",
       "      <th>1</th>\n",
       "      <td>20 Mar 2020</td>\n",
       "      <td>11</td>\n",
       "      <td>11</td>\n",
       "      <td>2020-03-20</td>\n",
       "    </tr>\n",
       "    <tr>\n",
       "      <th>2</th>\n",
       "      <td>27 Jan 2020</td>\n",
       "      <td>10</td>\n",
       "      <td>11</td>\n",
       "      <td>2020-01-27</td>\n",
       "    </tr>\n",
       "    <tr>\n",
       "      <th>3</th>\n",
       "      <td>31 Jan 2020</td>\n",
       "      <td>9</td>\n",
       "      <td>11</td>\n",
       "      <td>2020-01-31</td>\n",
       "    </tr>\n",
       "    <tr>\n",
       "      <th>4</th>\n",
       "      <td>14 Feb 2020</td>\n",
       "      <td>8</td>\n",
       "      <td>11</td>\n",
       "      <td>2020-02-14</td>\n",
       "    </tr>\n",
       "  </tbody>\n",
       "</table>\n",
       "</div>"
      ],
      "text/plain": [
       "         index  text  text_len       date\n",
       "0  25 Mar 2020  16    11       2020-03-25\n",
       "1  20 Mar 2020  11    11       2020-03-20\n",
       "2  27 Jan 2020  10    11       2020-01-27\n",
       "3  31 Jan 2020  9     11       2020-01-31\n",
       "4  14 Feb 2020  8     11       2020-02-14"
      ]
     },
     "execution_count": 29,
     "metadata": {},
     "output_type": "execute_result"
    }
   ],
   "source": [
    "updates_count.head()"
   ]
  },
  {
   "cell_type": "code",
   "execution_count": 30,
   "metadata": {},
   "outputs": [
    {
     "data": {
      "text/plain": [
       "index       object        \n",
       "text        int64         \n",
       "text_len    int64         \n",
       "date        datetime64[ns]\n",
       "dtype: object"
      ]
     },
     "execution_count": 30,
     "metadata": {},
     "output_type": "execute_result"
    }
   ],
   "source": [
    "updates_count.dtypes"
   ]
  },
  {
   "cell_type": "code",
   "execution_count": 31,
   "metadata": {},
   "outputs": [],
   "source": [
    "date_list = pd.DataFrame({'date': pd.date_range(start='2020-01-02', end='2020-03-25', freq='D')})"
   ]
  },
  {
   "cell_type": "code",
   "execution_count": 32,
   "metadata": {},
   "outputs": [
    {
     "data": {
      "text/plain": [
       "date    datetime64[ns]\n",
       "dtype: object"
      ]
     },
     "execution_count": 32,
     "metadata": {},
     "output_type": "execute_result"
    }
   ],
   "source": [
    "date_list.dtypes"
   ]
  },
  {
   "cell_type": "code",
   "execution_count": 33,
   "metadata": {},
   "outputs": [],
   "source": [
    "updates_daily = pd.merge(date_list,updates_count,on='date',how='left')"
   ]
  },
  {
   "cell_type": "code",
   "execution_count": 34,
   "metadata": {},
   "outputs": [],
   "source": [
    "updates_daily = updates_daily.fillna(0)"
   ]
  },
  {
   "cell_type": "code",
   "execution_count": 35,
   "metadata": {},
   "outputs": [
    {
     "data": {
      "text/html": [
       "<div>\n",
       "<style scoped>\n",
       "    .dataframe tbody tr th:only-of-type {\n",
       "        vertical-align: middle;\n",
       "    }\n",
       "\n",
       "    .dataframe tbody tr th {\n",
       "        vertical-align: top;\n",
       "    }\n",
       "\n",
       "    .dataframe thead th {\n",
       "        text-align: right;\n",
       "    }\n",
       "</style>\n",
       "<table border=\"1\" class=\"dataframe\">\n",
       "  <thead>\n",
       "    <tr style=\"text-align: right;\">\n",
       "      <th></th>\n",
       "      <th>date</th>\n",
       "      <th>index</th>\n",
       "      <th>text</th>\n",
       "      <th>text_len</th>\n",
       "    </tr>\n",
       "  </thead>\n",
       "  <tbody>\n",
       "    <tr>\n",
       "      <th>0</th>\n",
       "      <td>2020-01-02</td>\n",
       "      <td>02 Jan 2020</td>\n",
       "      <td>1.0</td>\n",
       "      <td>11.0</td>\n",
       "    </tr>\n",
       "    <tr>\n",
       "      <th>1</th>\n",
       "      <td>2020-01-03</td>\n",
       "      <td>0</td>\n",
       "      <td>0.0</td>\n",
       "      <td>0.0</td>\n",
       "    </tr>\n",
       "    <tr>\n",
       "      <th>2</th>\n",
       "      <td>2020-01-04</td>\n",
       "      <td>04 Jan 2020</td>\n",
       "      <td>1.0</td>\n",
       "      <td>11.0</td>\n",
       "    </tr>\n",
       "    <tr>\n",
       "      <th>3</th>\n",
       "      <td>2020-01-05</td>\n",
       "      <td>05 Jan 2020</td>\n",
       "      <td>1.0</td>\n",
       "      <td>11.0</td>\n",
       "    </tr>\n",
       "    <tr>\n",
       "      <th>4</th>\n",
       "      <td>2020-01-06</td>\n",
       "      <td>0</td>\n",
       "      <td>0.0</td>\n",
       "      <td>0.0</td>\n",
       "    </tr>\n",
       "  </tbody>\n",
       "</table>\n",
       "</div>"
      ],
      "text/plain": [
       "        date        index  text  text_len\n",
       "0 2020-01-02  02 Jan 2020  1.0   11.0    \n",
       "1 2020-01-03  0            0.0   0.0     \n",
       "2 2020-01-04  04 Jan 2020  1.0   11.0    \n",
       "3 2020-01-05  05 Jan 2020  1.0   11.0    \n",
       "4 2020-01-06  0            0.0   0.0     "
      ]
     },
     "execution_count": 35,
     "metadata": {},
     "output_type": "execute_result"
    }
   ],
   "source": [
    "updates_daily.head()"
   ]
  },
  {
   "cell_type": "markdown",
   "metadata": {},
   "source": [
    "### Interactive chart "
   ]
  },
  {
   "cell_type": "code",
   "execution_count": 36,
   "metadata": {},
   "outputs": [],
   "source": [
    "import matplotlib.pyplot as plt\n",
    "import seaborn as sns"
   ]
  },
  {
   "cell_type": "code",
   "execution_count": 39,
   "metadata": {},
   "outputs": [],
   "source": [
    "import plotly.graph_objects as go"
   ]
  },
  {
   "cell_type": "code",
   "execution_count": 42,
   "metadata": {},
   "outputs": [
    {
     "data": {
      "application/vnd.plotly.v1+json": {
       "config": {
        "plotlyServerURL": "https://plot.ly"
       },
       "data": [
        {
         "hoverinfo": "x+y+text",
         "hovertext": [
          [
           "2020-01-02T00:00:00",
           1
          ],
          [
           "2020-01-03T00:00:00",
           0
          ],
          [
           "2020-01-04T00:00:00",
           1
          ],
          [
           "2020-01-05T00:00:00",
           1
          ],
          [
           "2020-01-06T00:00:00",
           0
          ],
          [
           "2020-01-07T00:00:00",
           0
          ],
          [
           "2020-01-08T00:00:00",
           0
          ],
          [
           "2020-01-09T00:00:00",
           0
          ],
          [
           "2020-01-10T00:00:00",
           1
          ],
          [
           "2020-01-11T00:00:00",
           1
          ],
          [
           "2020-01-12T00:00:00",
           0
          ],
          [
           "2020-01-13T00:00:00",
           0
          ],
          [
           "2020-01-14T00:00:00",
           0
          ],
          [
           "2020-01-15T00:00:00",
           0
          ],
          [
           "2020-01-16T00:00:00",
           1
          ],
          [
           "2020-01-17T00:00:00",
           1
          ],
          [
           "2020-01-18T00:00:00",
           1
          ],
          [
           "2020-01-19T00:00:00",
           0
          ],
          [
           "2020-01-20T00:00:00",
           2
          ],
          [
           "2020-01-21T00:00:00",
           2
          ],
          [
           "2020-01-22T00:00:00",
           2
          ],
          [
           "2020-01-23T00:00:00",
           3
          ],
          [
           "2020-01-24T00:00:00",
           4
          ],
          [
           "2020-01-25T00:00:00",
           1
          ],
          [
           "2020-01-26T00:00:00",
           2
          ],
          [
           "2020-01-27T00:00:00",
           10
          ],
          [
           "2020-01-28T00:00:00",
           6
          ],
          [
           "2020-01-29T00:00:00",
           4
          ],
          [
           "2020-01-30T00:00:00",
           5
          ],
          [
           "2020-01-31T00:00:00",
           9
          ],
          [
           "2020-02-01T00:00:00",
           7
          ],
          [
           "2020-02-02T00:00:00",
           3
          ],
          [
           "2020-02-03T00:00:00",
           6
          ],
          [
           "2020-02-04T00:00:00",
           7
          ],
          [
           "2020-02-05T00:00:00",
           2
          ],
          [
           "2020-02-06T00:00:00",
           1
          ],
          [
           "2020-02-07T00:00:00",
           5
          ],
          [
           "2020-02-08T00:00:00",
           4
          ],
          [
           "2020-02-09T00:00:00",
           6
          ],
          [
           "2020-02-10T00:00:00",
           5
          ],
          [
           "2020-02-11T00:00:00",
           5
          ],
          [
           "2020-02-12T00:00:00",
           6
          ],
          [
           "2020-02-13T00:00:00",
           4
          ],
          [
           "2020-02-14T00:00:00",
           8
          ],
          [
           "2020-02-15T00:00:00",
           3
          ],
          [
           "2020-02-16T00:00:00",
           3
          ],
          [
           "2020-02-17T00:00:00",
           6
          ],
          [
           "2020-02-18T00:00:00",
           4
          ],
          [
           "2020-02-19T00:00:00",
           1
          ],
          [
           "2020-02-20T00:00:00",
           1
          ],
          [
           "2020-02-21T00:00:00",
           1
          ],
          [
           "2020-02-22T00:00:00",
           1
          ],
          [
           "2020-02-23T00:00:00",
           2
          ],
          [
           "2020-02-24T00:00:00",
           6
          ],
          [
           "2020-02-25T00:00:00",
           6
          ],
          [
           "2020-02-26T00:00:00",
           4
          ],
          [
           "2020-02-27T00:00:00",
           6
          ],
          [
           "2020-02-28T00:00:00",
           3
          ],
          [
           "2020-02-29T00:00:00",
           2
          ],
          [
           "2020-03-01T00:00:00",
           2
          ],
          [
           "2020-03-02T00:00:00",
           1
          ],
          [
           "2020-03-03T00:00:00",
           4
          ],
          [
           "2020-03-04T00:00:00",
           4
          ],
          [
           "2020-03-05T00:00:00",
           2
          ],
          [
           "2020-03-06T00:00:00",
           3
          ],
          [
           "2020-03-07T00:00:00",
           1
          ],
          [
           "2020-03-08T00:00:00",
           2
          ],
          [
           "2020-03-09T00:00:00",
           2
          ],
          [
           "2020-03-10T00:00:00",
           7
          ],
          [
           "2020-03-11T00:00:00",
           4
          ],
          [
           "2020-03-12T00:00:00",
           5
          ],
          [
           "2020-03-13T00:00:00",
           6
          ],
          [
           "2020-03-14T00:00:00",
           2
          ],
          [
           "2020-03-15T00:00:00",
           7
          ],
          [
           "2020-03-16T00:00:00",
           7
          ],
          [
           "2020-03-17T00:00:00",
           4
          ],
          [
           "2020-03-18T00:00:00",
           4
          ],
          [
           "2020-03-19T00:00:00",
           6
          ],
          [
           "2020-03-20T00:00:00",
           11
          ],
          [
           "2020-03-21T00:00:00",
           5
          ],
          [
           "2020-03-22T00:00:00",
           3
          ],
          [
           "2020-03-23T00:00:00",
           3
          ],
          [
           "2020-03-24T00:00:00",
           6
          ],
          [
           "2020-03-25T00:00:00",
           16
          ]
         ],
         "marker": {
          "color": "green"
         },
         "showlegend": false,
         "type": "scatter",
         "x": [
          "2020-01-02T00:00:00",
          "2020-01-03T00:00:00",
          "2020-01-04T00:00:00",
          "2020-01-05T00:00:00",
          "2020-01-06T00:00:00",
          "2020-01-07T00:00:00",
          "2020-01-08T00:00:00",
          "2020-01-09T00:00:00",
          "2020-01-10T00:00:00",
          "2020-01-11T00:00:00",
          "2020-01-12T00:00:00",
          "2020-01-13T00:00:00",
          "2020-01-14T00:00:00",
          "2020-01-15T00:00:00",
          "2020-01-16T00:00:00",
          "2020-01-17T00:00:00",
          "2020-01-18T00:00:00",
          "2020-01-19T00:00:00",
          "2020-01-20T00:00:00",
          "2020-01-21T00:00:00",
          "2020-01-22T00:00:00",
          "2020-01-23T00:00:00",
          "2020-01-24T00:00:00",
          "2020-01-25T00:00:00",
          "2020-01-26T00:00:00",
          "2020-01-27T00:00:00",
          "2020-01-28T00:00:00",
          "2020-01-29T00:00:00",
          "2020-01-30T00:00:00",
          "2020-01-31T00:00:00",
          "2020-02-01T00:00:00",
          "2020-02-02T00:00:00",
          "2020-02-03T00:00:00",
          "2020-02-04T00:00:00",
          "2020-02-05T00:00:00",
          "2020-02-06T00:00:00",
          "2020-02-07T00:00:00",
          "2020-02-08T00:00:00",
          "2020-02-09T00:00:00",
          "2020-02-10T00:00:00",
          "2020-02-11T00:00:00",
          "2020-02-12T00:00:00",
          "2020-02-13T00:00:00",
          "2020-02-14T00:00:00",
          "2020-02-15T00:00:00",
          "2020-02-16T00:00:00",
          "2020-02-17T00:00:00",
          "2020-02-18T00:00:00",
          "2020-02-19T00:00:00",
          "2020-02-20T00:00:00",
          "2020-02-21T00:00:00",
          "2020-02-22T00:00:00",
          "2020-02-23T00:00:00",
          "2020-02-24T00:00:00",
          "2020-02-25T00:00:00",
          "2020-02-26T00:00:00",
          "2020-02-27T00:00:00",
          "2020-02-28T00:00:00",
          "2020-02-29T00:00:00",
          "2020-03-01T00:00:00",
          "2020-03-02T00:00:00",
          "2020-03-03T00:00:00",
          "2020-03-04T00:00:00",
          "2020-03-05T00:00:00",
          "2020-03-06T00:00:00",
          "2020-03-07T00:00:00",
          "2020-03-08T00:00:00",
          "2020-03-09T00:00:00",
          "2020-03-10T00:00:00",
          "2020-03-11T00:00:00",
          "2020-03-12T00:00:00",
          "2020-03-13T00:00:00",
          "2020-03-14T00:00:00",
          "2020-03-15T00:00:00",
          "2020-03-16T00:00:00",
          "2020-03-17T00:00:00",
          "2020-03-18T00:00:00",
          "2020-03-19T00:00:00",
          "2020-03-20T00:00:00",
          "2020-03-21T00:00:00",
          "2020-03-22T00:00:00",
          "2020-03-23T00:00:00",
          "2020-03-24T00:00:00",
          "2020-03-25T00:00:00"
         ],
         "y": [
          1,
          0,
          1,
          1,
          0,
          0,
          0,
          0,
          1,
          1,
          0,
          0,
          0,
          0,
          1,
          1,
          1,
          0,
          2,
          2,
          2,
          3,
          4,
          1,
          2,
          10,
          6,
          4,
          5,
          9,
          7,
          3,
          6,
          7,
          2,
          1,
          5,
          4,
          6,
          5,
          5,
          6,
          4,
          8,
          3,
          3,
          6,
          4,
          1,
          1,
          1,
          1,
          2,
          6,
          6,
          4,
          6,
          3,
          2,
          2,
          1,
          4,
          4,
          2,
          3,
          1,
          2,
          2,
          7,
          4,
          5,
          6,
          2,
          7,
          7,
          4,
          4,
          6,
          11,
          5,
          3,
          3,
          6,
          16
         ]
        }
       ],
       "layout": {
        "template": {
         "data": {
          "bar": [
           {
            "error_x": {
             "color": "#2a3f5f"
            },
            "error_y": {
             "color": "#2a3f5f"
            },
            "marker": {
             "line": {
              "color": "#E5ECF6",
              "width": 0.5
             }
            },
            "type": "bar"
           }
          ],
          "barpolar": [
           {
            "marker": {
             "line": {
              "color": "#E5ECF6",
              "width": 0.5
             }
            },
            "type": "barpolar"
           }
          ],
          "carpet": [
           {
            "aaxis": {
             "endlinecolor": "#2a3f5f",
             "gridcolor": "white",
             "linecolor": "white",
             "minorgridcolor": "white",
             "startlinecolor": "#2a3f5f"
            },
            "baxis": {
             "endlinecolor": "#2a3f5f",
             "gridcolor": "white",
             "linecolor": "white",
             "minorgridcolor": "white",
             "startlinecolor": "#2a3f5f"
            },
            "type": "carpet"
           }
          ],
          "choropleth": [
           {
            "colorbar": {
             "outlinewidth": 0,
             "ticks": ""
            },
            "type": "choropleth"
           }
          ],
          "contour": [
           {
            "colorbar": {
             "outlinewidth": 0,
             "ticks": ""
            },
            "colorscale": [
             [
              0,
              "#0d0887"
             ],
             [
              0.1111111111111111,
              "#46039f"
             ],
             [
              0.2222222222222222,
              "#7201a8"
             ],
             [
              0.3333333333333333,
              "#9c179e"
             ],
             [
              0.4444444444444444,
              "#bd3786"
             ],
             [
              0.5555555555555556,
              "#d8576b"
             ],
             [
              0.6666666666666666,
              "#ed7953"
             ],
             [
              0.7777777777777778,
              "#fb9f3a"
             ],
             [
              0.8888888888888888,
              "#fdca26"
             ],
             [
              1,
              "#f0f921"
             ]
            ],
            "type": "contour"
           }
          ],
          "contourcarpet": [
           {
            "colorbar": {
             "outlinewidth": 0,
             "ticks": ""
            },
            "type": "contourcarpet"
           }
          ],
          "heatmap": [
           {
            "colorbar": {
             "outlinewidth": 0,
             "ticks": ""
            },
            "colorscale": [
             [
              0,
              "#0d0887"
             ],
             [
              0.1111111111111111,
              "#46039f"
             ],
             [
              0.2222222222222222,
              "#7201a8"
             ],
             [
              0.3333333333333333,
              "#9c179e"
             ],
             [
              0.4444444444444444,
              "#bd3786"
             ],
             [
              0.5555555555555556,
              "#d8576b"
             ],
             [
              0.6666666666666666,
              "#ed7953"
             ],
             [
              0.7777777777777778,
              "#fb9f3a"
             ],
             [
              0.8888888888888888,
              "#fdca26"
             ],
             [
              1,
              "#f0f921"
             ]
            ],
            "type": "heatmap"
           }
          ],
          "heatmapgl": [
           {
            "colorbar": {
             "outlinewidth": 0,
             "ticks": ""
            },
            "colorscale": [
             [
              0,
              "#0d0887"
             ],
             [
              0.1111111111111111,
              "#46039f"
             ],
             [
              0.2222222222222222,
              "#7201a8"
             ],
             [
              0.3333333333333333,
              "#9c179e"
             ],
             [
              0.4444444444444444,
              "#bd3786"
             ],
             [
              0.5555555555555556,
              "#d8576b"
             ],
             [
              0.6666666666666666,
              "#ed7953"
             ],
             [
              0.7777777777777778,
              "#fb9f3a"
             ],
             [
              0.8888888888888888,
              "#fdca26"
             ],
             [
              1,
              "#f0f921"
             ]
            ],
            "type": "heatmapgl"
           }
          ],
          "histogram": [
           {
            "marker": {
             "colorbar": {
              "outlinewidth": 0,
              "ticks": ""
             }
            },
            "type": "histogram"
           }
          ],
          "histogram2d": [
           {
            "colorbar": {
             "outlinewidth": 0,
             "ticks": ""
            },
            "colorscale": [
             [
              0,
              "#0d0887"
             ],
             [
              0.1111111111111111,
              "#46039f"
             ],
             [
              0.2222222222222222,
              "#7201a8"
             ],
             [
              0.3333333333333333,
              "#9c179e"
             ],
             [
              0.4444444444444444,
              "#bd3786"
             ],
             [
              0.5555555555555556,
              "#d8576b"
             ],
             [
              0.6666666666666666,
              "#ed7953"
             ],
             [
              0.7777777777777778,
              "#fb9f3a"
             ],
             [
              0.8888888888888888,
              "#fdca26"
             ],
             [
              1,
              "#f0f921"
             ]
            ],
            "type": "histogram2d"
           }
          ],
          "histogram2dcontour": [
           {
            "colorbar": {
             "outlinewidth": 0,
             "ticks": ""
            },
            "colorscale": [
             [
              0,
              "#0d0887"
             ],
             [
              0.1111111111111111,
              "#46039f"
             ],
             [
              0.2222222222222222,
              "#7201a8"
             ],
             [
              0.3333333333333333,
              "#9c179e"
             ],
             [
              0.4444444444444444,
              "#bd3786"
             ],
             [
              0.5555555555555556,
              "#d8576b"
             ],
             [
              0.6666666666666666,
              "#ed7953"
             ],
             [
              0.7777777777777778,
              "#fb9f3a"
             ],
             [
              0.8888888888888888,
              "#fdca26"
             ],
             [
              1,
              "#f0f921"
             ]
            ],
            "type": "histogram2dcontour"
           }
          ],
          "mesh3d": [
           {
            "colorbar": {
             "outlinewidth": 0,
             "ticks": ""
            },
            "type": "mesh3d"
           }
          ],
          "parcoords": [
           {
            "line": {
             "colorbar": {
              "outlinewidth": 0,
              "ticks": ""
             }
            },
            "type": "parcoords"
           }
          ],
          "pie": [
           {
            "automargin": true,
            "type": "pie"
           }
          ],
          "scatter": [
           {
            "marker": {
             "colorbar": {
              "outlinewidth": 0,
              "ticks": ""
             }
            },
            "type": "scatter"
           }
          ],
          "scatter3d": [
           {
            "line": {
             "colorbar": {
              "outlinewidth": 0,
              "ticks": ""
             }
            },
            "marker": {
             "colorbar": {
              "outlinewidth": 0,
              "ticks": ""
             }
            },
            "type": "scatter3d"
           }
          ],
          "scattercarpet": [
           {
            "marker": {
             "colorbar": {
              "outlinewidth": 0,
              "ticks": ""
             }
            },
            "type": "scattercarpet"
           }
          ],
          "scattergeo": [
           {
            "marker": {
             "colorbar": {
              "outlinewidth": 0,
              "ticks": ""
             }
            },
            "type": "scattergeo"
           }
          ],
          "scattergl": [
           {
            "marker": {
             "colorbar": {
              "outlinewidth": 0,
              "ticks": ""
             }
            },
            "type": "scattergl"
           }
          ],
          "scattermapbox": [
           {
            "marker": {
             "colorbar": {
              "outlinewidth": 0,
              "ticks": ""
             }
            },
            "type": "scattermapbox"
           }
          ],
          "scatterpolar": [
           {
            "marker": {
             "colorbar": {
              "outlinewidth": 0,
              "ticks": ""
             }
            },
            "type": "scatterpolar"
           }
          ],
          "scatterpolargl": [
           {
            "marker": {
             "colorbar": {
              "outlinewidth": 0,
              "ticks": ""
             }
            },
            "type": "scatterpolargl"
           }
          ],
          "scatterternary": [
           {
            "marker": {
             "colorbar": {
              "outlinewidth": 0,
              "ticks": ""
             }
            },
            "type": "scatterternary"
           }
          ],
          "surface": [
           {
            "colorbar": {
             "outlinewidth": 0,
             "ticks": ""
            },
            "colorscale": [
             [
              0,
              "#0d0887"
             ],
             [
              0.1111111111111111,
              "#46039f"
             ],
             [
              0.2222222222222222,
              "#7201a8"
             ],
             [
              0.3333333333333333,
              "#9c179e"
             ],
             [
              0.4444444444444444,
              "#bd3786"
             ],
             [
              0.5555555555555556,
              "#d8576b"
             ],
             [
              0.6666666666666666,
              "#ed7953"
             ],
             [
              0.7777777777777778,
              "#fb9f3a"
             ],
             [
              0.8888888888888888,
              "#fdca26"
             ],
             [
              1,
              "#f0f921"
             ]
            ],
            "type": "surface"
           }
          ],
          "table": [
           {
            "cells": {
             "fill": {
              "color": "#EBF0F8"
             },
             "line": {
              "color": "white"
             }
            },
            "header": {
             "fill": {
              "color": "#C8D4E3"
             },
             "line": {
              "color": "white"
             }
            },
            "type": "table"
           }
          ]
         },
         "layout": {
          "annotationdefaults": {
           "arrowcolor": "#2a3f5f",
           "arrowhead": 0,
           "arrowwidth": 1
          },
          "coloraxis": {
           "colorbar": {
            "outlinewidth": 0,
            "ticks": ""
           }
          },
          "colorscale": {
           "diverging": [
            [
             0,
             "#8e0152"
            ],
            [
             0.1,
             "#c51b7d"
            ],
            [
             0.2,
             "#de77ae"
            ],
            [
             0.3,
             "#f1b6da"
            ],
            [
             0.4,
             "#fde0ef"
            ],
            [
             0.5,
             "#f7f7f7"
            ],
            [
             0.6,
             "#e6f5d0"
            ],
            [
             0.7,
             "#b8e186"
            ],
            [
             0.8,
             "#7fbc41"
            ],
            [
             0.9,
             "#4d9221"
            ],
            [
             1,
             "#276419"
            ]
           ],
           "sequential": [
            [
             0,
             "#0d0887"
            ],
            [
             0.1111111111111111,
             "#46039f"
            ],
            [
             0.2222222222222222,
             "#7201a8"
            ],
            [
             0.3333333333333333,
             "#9c179e"
            ],
            [
             0.4444444444444444,
             "#bd3786"
            ],
            [
             0.5555555555555556,
             "#d8576b"
            ],
            [
             0.6666666666666666,
             "#ed7953"
            ],
            [
             0.7777777777777778,
             "#fb9f3a"
            ],
            [
             0.8888888888888888,
             "#fdca26"
            ],
            [
             1,
             "#f0f921"
            ]
           ],
           "sequentialminus": [
            [
             0,
             "#0d0887"
            ],
            [
             0.1111111111111111,
             "#46039f"
            ],
            [
             0.2222222222222222,
             "#7201a8"
            ],
            [
             0.3333333333333333,
             "#9c179e"
            ],
            [
             0.4444444444444444,
             "#bd3786"
            ],
            [
             0.5555555555555556,
             "#d8576b"
            ],
            [
             0.6666666666666666,
             "#ed7953"
            ],
            [
             0.7777777777777778,
             "#fb9f3a"
            ],
            [
             0.8888888888888888,
             "#fdca26"
            ],
            [
             1,
             "#f0f921"
            ]
           ]
          },
          "colorway": [
           "#636efa",
           "#EF553B",
           "#00cc96",
           "#ab63fa",
           "#FFA15A",
           "#19d3f3",
           "#FF6692",
           "#B6E880",
           "#FF97FF",
           "#FECB52"
          ],
          "font": {
           "color": "#2a3f5f"
          },
          "geo": {
           "bgcolor": "white",
           "lakecolor": "white",
           "landcolor": "#E5ECF6",
           "showlakes": true,
           "showland": true,
           "subunitcolor": "white"
          },
          "hoverlabel": {
           "align": "left"
          },
          "hovermode": "closest",
          "mapbox": {
           "style": "light"
          },
          "paper_bgcolor": "white",
          "plot_bgcolor": "#E5ECF6",
          "polar": {
           "angularaxis": {
            "gridcolor": "white",
            "linecolor": "white",
            "ticks": ""
           },
           "bgcolor": "#E5ECF6",
           "radialaxis": {
            "gridcolor": "white",
            "linecolor": "white",
            "ticks": ""
           }
          },
          "scene": {
           "xaxis": {
            "backgroundcolor": "#E5ECF6",
            "gridcolor": "white",
            "gridwidth": 2,
            "linecolor": "white",
            "showbackground": true,
            "ticks": "",
            "zerolinecolor": "white"
           },
           "yaxis": {
            "backgroundcolor": "#E5ECF6",
            "gridcolor": "white",
            "gridwidth": 2,
            "linecolor": "white",
            "showbackground": true,
            "ticks": "",
            "zerolinecolor": "white"
           },
           "zaxis": {
            "backgroundcolor": "#E5ECF6",
            "gridcolor": "white",
            "gridwidth": 2,
            "linecolor": "white",
            "showbackground": true,
            "ticks": "",
            "zerolinecolor": "white"
           }
          },
          "shapedefaults": {
           "line": {
            "color": "#2a3f5f"
           }
          },
          "ternary": {
           "aaxis": {
            "gridcolor": "white",
            "linecolor": "white",
            "ticks": ""
           },
           "baxis": {
            "gridcolor": "white",
            "linecolor": "white",
            "ticks": ""
           },
           "bgcolor": "#E5ECF6",
           "caxis": {
            "gridcolor": "white",
            "linecolor": "white",
            "ticks": ""
           }
          },
          "title": {
           "x": 0.05
          },
          "xaxis": {
           "automargin": true,
           "gridcolor": "white",
           "linecolor": "white",
           "ticks": "",
           "title": {
            "standoff": 15
           },
           "zerolinecolor": "white",
           "zerolinewidth": 2
          },
          "yaxis": {
           "automargin": true,
           "gridcolor": "white",
           "linecolor": "white",
           "ticks": "",
           "title": {
            "standoff": 15
           },
           "zerolinecolor": "white",
           "zerolinewidth": 2
          }
         }
        },
        "title": {
         "text": "Number of updates on COVID-19 local situation on Ministry of Health's website"
        }
       }
      },
      "text/html": [
       "<div>\n",
       "        \n",
       "        \n",
       "            <div id=\"37c8ebd5-5ae9-48af-a920-c793f9640173\" class=\"plotly-graph-div\" style=\"height:525px; width:100%;\"></div>\n",
       "            <script type=\"text/javascript\">\n",
       "                require([\"plotly\"], function(Plotly) {\n",
       "                    window.PLOTLYENV=window.PLOTLYENV || {};\n",
       "                    \n",
       "                if (document.getElementById(\"37c8ebd5-5ae9-48af-a920-c793f9640173\")) {\n",
       "                    Plotly.newPlot(\n",
       "                        '37c8ebd5-5ae9-48af-a920-c793f9640173',\n",
       "                        [{\"hoverinfo\": \"x+y+text\", \"hovertext\": [[\"2020-01-02T00:00:00\", 1.0], [\"2020-01-03T00:00:00\", 0.0], [\"2020-01-04T00:00:00\", 1.0], [\"2020-01-05T00:00:00\", 1.0], [\"2020-01-06T00:00:00\", 0.0], [\"2020-01-07T00:00:00\", 0.0], [\"2020-01-08T00:00:00\", 0.0], [\"2020-01-09T00:00:00\", 0.0], [\"2020-01-10T00:00:00\", 1.0], [\"2020-01-11T00:00:00\", 1.0], [\"2020-01-12T00:00:00\", 0.0], [\"2020-01-13T00:00:00\", 0.0], [\"2020-01-14T00:00:00\", 0.0], [\"2020-01-15T00:00:00\", 0.0], [\"2020-01-16T00:00:00\", 1.0], [\"2020-01-17T00:00:00\", 1.0], [\"2020-01-18T00:00:00\", 1.0], [\"2020-01-19T00:00:00\", 0.0], [\"2020-01-20T00:00:00\", 2.0], [\"2020-01-21T00:00:00\", 2.0], [\"2020-01-22T00:00:00\", 2.0], [\"2020-01-23T00:00:00\", 3.0], [\"2020-01-24T00:00:00\", 4.0], [\"2020-01-25T00:00:00\", 1.0], [\"2020-01-26T00:00:00\", 2.0], [\"2020-01-27T00:00:00\", 10.0], [\"2020-01-28T00:00:00\", 6.0], [\"2020-01-29T00:00:00\", 4.0], [\"2020-01-30T00:00:00\", 5.0], [\"2020-01-31T00:00:00\", 9.0], [\"2020-02-01T00:00:00\", 7.0], [\"2020-02-02T00:00:00\", 3.0], [\"2020-02-03T00:00:00\", 6.0], [\"2020-02-04T00:00:00\", 7.0], [\"2020-02-05T00:00:00\", 2.0], [\"2020-02-06T00:00:00\", 1.0], [\"2020-02-07T00:00:00\", 5.0], [\"2020-02-08T00:00:00\", 4.0], [\"2020-02-09T00:00:00\", 6.0], [\"2020-02-10T00:00:00\", 5.0], [\"2020-02-11T00:00:00\", 5.0], [\"2020-02-12T00:00:00\", 6.0], [\"2020-02-13T00:00:00\", 4.0], [\"2020-02-14T00:00:00\", 8.0], [\"2020-02-15T00:00:00\", 3.0], [\"2020-02-16T00:00:00\", 3.0], [\"2020-02-17T00:00:00\", 6.0], [\"2020-02-18T00:00:00\", 4.0], [\"2020-02-19T00:00:00\", 1.0], [\"2020-02-20T00:00:00\", 1.0], [\"2020-02-21T00:00:00\", 1.0], [\"2020-02-22T00:00:00\", 1.0], [\"2020-02-23T00:00:00\", 2.0], [\"2020-02-24T00:00:00\", 6.0], [\"2020-02-25T00:00:00\", 6.0], [\"2020-02-26T00:00:00\", 4.0], [\"2020-02-27T00:00:00\", 6.0], [\"2020-02-28T00:00:00\", 3.0], [\"2020-02-29T00:00:00\", 2.0], [\"2020-03-01T00:00:00\", 2.0], [\"2020-03-02T00:00:00\", 1.0], [\"2020-03-03T00:00:00\", 4.0], [\"2020-03-04T00:00:00\", 4.0], [\"2020-03-05T00:00:00\", 2.0], [\"2020-03-06T00:00:00\", 3.0], [\"2020-03-07T00:00:00\", 1.0], [\"2020-03-08T00:00:00\", 2.0], [\"2020-03-09T00:00:00\", 2.0], [\"2020-03-10T00:00:00\", 7.0], [\"2020-03-11T00:00:00\", 4.0], [\"2020-03-12T00:00:00\", 5.0], [\"2020-03-13T00:00:00\", 6.0], [\"2020-03-14T00:00:00\", 2.0], [\"2020-03-15T00:00:00\", 7.0], [\"2020-03-16T00:00:00\", 7.0], [\"2020-03-17T00:00:00\", 4.0], [\"2020-03-18T00:00:00\", 4.0], [\"2020-03-19T00:00:00\", 6.0], [\"2020-03-20T00:00:00\", 11.0], [\"2020-03-21T00:00:00\", 5.0], [\"2020-03-22T00:00:00\", 3.0], [\"2020-03-23T00:00:00\", 3.0], [\"2020-03-24T00:00:00\", 6.0], [\"2020-03-25T00:00:00\", 16.0]], \"marker\": {\"color\": \"green\"}, \"showlegend\": false, \"type\": \"scatter\", \"x\": [\"2020-01-02T00:00:00\", \"2020-01-03T00:00:00\", \"2020-01-04T00:00:00\", \"2020-01-05T00:00:00\", \"2020-01-06T00:00:00\", \"2020-01-07T00:00:00\", \"2020-01-08T00:00:00\", \"2020-01-09T00:00:00\", \"2020-01-10T00:00:00\", \"2020-01-11T00:00:00\", \"2020-01-12T00:00:00\", \"2020-01-13T00:00:00\", \"2020-01-14T00:00:00\", \"2020-01-15T00:00:00\", \"2020-01-16T00:00:00\", \"2020-01-17T00:00:00\", \"2020-01-18T00:00:00\", \"2020-01-19T00:00:00\", \"2020-01-20T00:00:00\", \"2020-01-21T00:00:00\", \"2020-01-22T00:00:00\", \"2020-01-23T00:00:00\", \"2020-01-24T00:00:00\", \"2020-01-25T00:00:00\", \"2020-01-26T00:00:00\", \"2020-01-27T00:00:00\", \"2020-01-28T00:00:00\", \"2020-01-29T00:00:00\", \"2020-01-30T00:00:00\", \"2020-01-31T00:00:00\", \"2020-02-01T00:00:00\", \"2020-02-02T00:00:00\", \"2020-02-03T00:00:00\", \"2020-02-04T00:00:00\", \"2020-02-05T00:00:00\", \"2020-02-06T00:00:00\", \"2020-02-07T00:00:00\", \"2020-02-08T00:00:00\", \"2020-02-09T00:00:00\", \"2020-02-10T00:00:00\", \"2020-02-11T00:00:00\", \"2020-02-12T00:00:00\", \"2020-02-13T00:00:00\", \"2020-02-14T00:00:00\", \"2020-02-15T00:00:00\", \"2020-02-16T00:00:00\", \"2020-02-17T00:00:00\", \"2020-02-18T00:00:00\", \"2020-02-19T00:00:00\", \"2020-02-20T00:00:00\", \"2020-02-21T00:00:00\", \"2020-02-22T00:00:00\", \"2020-02-23T00:00:00\", \"2020-02-24T00:00:00\", \"2020-02-25T00:00:00\", \"2020-02-26T00:00:00\", \"2020-02-27T00:00:00\", \"2020-02-28T00:00:00\", \"2020-02-29T00:00:00\", \"2020-03-01T00:00:00\", \"2020-03-02T00:00:00\", \"2020-03-03T00:00:00\", \"2020-03-04T00:00:00\", \"2020-03-05T00:00:00\", \"2020-03-06T00:00:00\", \"2020-03-07T00:00:00\", \"2020-03-08T00:00:00\", \"2020-03-09T00:00:00\", \"2020-03-10T00:00:00\", \"2020-03-11T00:00:00\", \"2020-03-12T00:00:00\", \"2020-03-13T00:00:00\", \"2020-03-14T00:00:00\", \"2020-03-15T00:00:00\", \"2020-03-16T00:00:00\", \"2020-03-17T00:00:00\", \"2020-03-18T00:00:00\", \"2020-03-19T00:00:00\", \"2020-03-20T00:00:00\", \"2020-03-21T00:00:00\", \"2020-03-22T00:00:00\", \"2020-03-23T00:00:00\", \"2020-03-24T00:00:00\", \"2020-03-25T00:00:00\"], \"y\": [1.0, 0.0, 1.0, 1.0, 0.0, 0.0, 0.0, 0.0, 1.0, 1.0, 0.0, 0.0, 0.0, 0.0, 1.0, 1.0, 1.0, 0.0, 2.0, 2.0, 2.0, 3.0, 4.0, 1.0, 2.0, 10.0, 6.0, 4.0, 5.0, 9.0, 7.0, 3.0, 6.0, 7.0, 2.0, 1.0, 5.0, 4.0, 6.0, 5.0, 5.0, 6.0, 4.0, 8.0, 3.0, 3.0, 6.0, 4.0, 1.0, 1.0, 1.0, 1.0, 2.0, 6.0, 6.0, 4.0, 6.0, 3.0, 2.0, 2.0, 1.0, 4.0, 4.0, 2.0, 3.0, 1.0, 2.0, 2.0, 7.0, 4.0, 5.0, 6.0, 2.0, 7.0, 7.0, 4.0, 4.0, 6.0, 11.0, 5.0, 3.0, 3.0, 6.0, 16.0]}],\n",
       "                        {\"template\": {\"data\": {\"bar\": [{\"error_x\": {\"color\": \"#2a3f5f\"}, \"error_y\": {\"color\": \"#2a3f5f\"}, \"marker\": {\"line\": {\"color\": \"#E5ECF6\", \"width\": 0.5}}, \"type\": \"bar\"}], \"barpolar\": [{\"marker\": {\"line\": {\"color\": \"#E5ECF6\", \"width\": 0.5}}, \"type\": \"barpolar\"}], \"carpet\": [{\"aaxis\": {\"endlinecolor\": \"#2a3f5f\", \"gridcolor\": \"white\", \"linecolor\": \"white\", \"minorgridcolor\": \"white\", \"startlinecolor\": \"#2a3f5f\"}, \"baxis\": {\"endlinecolor\": \"#2a3f5f\", \"gridcolor\": \"white\", \"linecolor\": \"white\", \"minorgridcolor\": \"white\", \"startlinecolor\": \"#2a3f5f\"}, \"type\": \"carpet\"}], \"choropleth\": [{\"colorbar\": {\"outlinewidth\": 0, \"ticks\": \"\"}, \"type\": \"choropleth\"}], \"contour\": [{\"colorbar\": {\"outlinewidth\": 0, \"ticks\": \"\"}, \"colorscale\": [[0.0, \"#0d0887\"], [0.1111111111111111, \"#46039f\"], [0.2222222222222222, \"#7201a8\"], [0.3333333333333333, \"#9c179e\"], [0.4444444444444444, \"#bd3786\"], [0.5555555555555556, \"#d8576b\"], [0.6666666666666666, \"#ed7953\"], [0.7777777777777778, \"#fb9f3a\"], [0.8888888888888888, \"#fdca26\"], [1.0, \"#f0f921\"]], \"type\": \"contour\"}], \"contourcarpet\": [{\"colorbar\": {\"outlinewidth\": 0, \"ticks\": \"\"}, \"type\": \"contourcarpet\"}], \"heatmap\": [{\"colorbar\": {\"outlinewidth\": 0, \"ticks\": \"\"}, \"colorscale\": [[0.0, \"#0d0887\"], [0.1111111111111111, \"#46039f\"], [0.2222222222222222, \"#7201a8\"], [0.3333333333333333, \"#9c179e\"], [0.4444444444444444, \"#bd3786\"], [0.5555555555555556, \"#d8576b\"], [0.6666666666666666, \"#ed7953\"], [0.7777777777777778, \"#fb9f3a\"], [0.8888888888888888, \"#fdca26\"], [1.0, \"#f0f921\"]], \"type\": \"heatmap\"}], \"heatmapgl\": [{\"colorbar\": {\"outlinewidth\": 0, \"ticks\": \"\"}, \"colorscale\": [[0.0, \"#0d0887\"], [0.1111111111111111, \"#46039f\"], [0.2222222222222222, \"#7201a8\"], [0.3333333333333333, \"#9c179e\"], [0.4444444444444444, \"#bd3786\"], [0.5555555555555556, \"#d8576b\"], [0.6666666666666666, \"#ed7953\"], [0.7777777777777778, \"#fb9f3a\"], [0.8888888888888888, \"#fdca26\"], [1.0, \"#f0f921\"]], \"type\": \"heatmapgl\"}], \"histogram\": [{\"marker\": {\"colorbar\": {\"outlinewidth\": 0, \"ticks\": \"\"}}, \"type\": \"histogram\"}], \"histogram2d\": [{\"colorbar\": {\"outlinewidth\": 0, \"ticks\": \"\"}, \"colorscale\": [[0.0, \"#0d0887\"], [0.1111111111111111, \"#46039f\"], [0.2222222222222222, \"#7201a8\"], [0.3333333333333333, \"#9c179e\"], [0.4444444444444444, \"#bd3786\"], [0.5555555555555556, \"#d8576b\"], [0.6666666666666666, \"#ed7953\"], [0.7777777777777778, \"#fb9f3a\"], [0.8888888888888888, \"#fdca26\"], [1.0, \"#f0f921\"]], \"type\": \"histogram2d\"}], \"histogram2dcontour\": [{\"colorbar\": {\"outlinewidth\": 0, \"ticks\": \"\"}, \"colorscale\": [[0.0, \"#0d0887\"], [0.1111111111111111, \"#46039f\"], [0.2222222222222222, \"#7201a8\"], [0.3333333333333333, \"#9c179e\"], [0.4444444444444444, \"#bd3786\"], [0.5555555555555556, \"#d8576b\"], [0.6666666666666666, \"#ed7953\"], [0.7777777777777778, \"#fb9f3a\"], [0.8888888888888888, \"#fdca26\"], [1.0, \"#f0f921\"]], \"type\": \"histogram2dcontour\"}], \"mesh3d\": [{\"colorbar\": {\"outlinewidth\": 0, \"ticks\": \"\"}, \"type\": \"mesh3d\"}], \"parcoords\": [{\"line\": {\"colorbar\": {\"outlinewidth\": 0, \"ticks\": \"\"}}, \"type\": \"parcoords\"}], \"pie\": [{\"automargin\": true, \"type\": \"pie\"}], \"scatter\": [{\"marker\": {\"colorbar\": {\"outlinewidth\": 0, \"ticks\": \"\"}}, \"type\": \"scatter\"}], \"scatter3d\": [{\"line\": {\"colorbar\": {\"outlinewidth\": 0, \"ticks\": \"\"}}, \"marker\": {\"colorbar\": {\"outlinewidth\": 0, \"ticks\": \"\"}}, \"type\": \"scatter3d\"}], \"scattercarpet\": [{\"marker\": {\"colorbar\": {\"outlinewidth\": 0, \"ticks\": \"\"}}, \"type\": \"scattercarpet\"}], \"scattergeo\": [{\"marker\": {\"colorbar\": {\"outlinewidth\": 0, \"ticks\": \"\"}}, \"type\": \"scattergeo\"}], \"scattergl\": [{\"marker\": {\"colorbar\": {\"outlinewidth\": 0, \"ticks\": \"\"}}, \"type\": \"scattergl\"}], \"scattermapbox\": [{\"marker\": {\"colorbar\": {\"outlinewidth\": 0, \"ticks\": \"\"}}, \"type\": \"scattermapbox\"}], \"scatterpolar\": [{\"marker\": {\"colorbar\": {\"outlinewidth\": 0, \"ticks\": \"\"}}, \"type\": \"scatterpolar\"}], \"scatterpolargl\": [{\"marker\": {\"colorbar\": {\"outlinewidth\": 0, \"ticks\": \"\"}}, \"type\": \"scatterpolargl\"}], \"scatterternary\": [{\"marker\": {\"colorbar\": {\"outlinewidth\": 0, \"ticks\": \"\"}}, \"type\": \"scatterternary\"}], \"surface\": [{\"colorbar\": {\"outlinewidth\": 0, \"ticks\": \"\"}, \"colorscale\": [[0.0, \"#0d0887\"], [0.1111111111111111, \"#46039f\"], [0.2222222222222222, \"#7201a8\"], [0.3333333333333333, \"#9c179e\"], [0.4444444444444444, \"#bd3786\"], [0.5555555555555556, \"#d8576b\"], [0.6666666666666666, \"#ed7953\"], [0.7777777777777778, \"#fb9f3a\"], [0.8888888888888888, \"#fdca26\"], [1.0, \"#f0f921\"]], \"type\": \"surface\"}], \"table\": [{\"cells\": {\"fill\": {\"color\": \"#EBF0F8\"}, \"line\": {\"color\": \"white\"}}, \"header\": {\"fill\": {\"color\": \"#C8D4E3\"}, \"line\": {\"color\": \"white\"}}, \"type\": \"table\"}]}, \"layout\": {\"annotationdefaults\": {\"arrowcolor\": \"#2a3f5f\", \"arrowhead\": 0, \"arrowwidth\": 1}, \"coloraxis\": {\"colorbar\": {\"outlinewidth\": 0, \"ticks\": \"\"}}, \"colorscale\": {\"diverging\": [[0, \"#8e0152\"], [0.1, \"#c51b7d\"], [0.2, \"#de77ae\"], [0.3, \"#f1b6da\"], [0.4, \"#fde0ef\"], [0.5, \"#f7f7f7\"], [0.6, \"#e6f5d0\"], [0.7, \"#b8e186\"], [0.8, \"#7fbc41\"], [0.9, \"#4d9221\"], [1, \"#276419\"]], \"sequential\": [[0.0, \"#0d0887\"], [0.1111111111111111, \"#46039f\"], [0.2222222222222222, \"#7201a8\"], [0.3333333333333333, \"#9c179e\"], [0.4444444444444444, \"#bd3786\"], [0.5555555555555556, \"#d8576b\"], [0.6666666666666666, \"#ed7953\"], [0.7777777777777778, \"#fb9f3a\"], [0.8888888888888888, \"#fdca26\"], [1.0, \"#f0f921\"]], \"sequentialminus\": [[0.0, \"#0d0887\"], [0.1111111111111111, \"#46039f\"], [0.2222222222222222, \"#7201a8\"], [0.3333333333333333, \"#9c179e\"], [0.4444444444444444, \"#bd3786\"], [0.5555555555555556, \"#d8576b\"], [0.6666666666666666, \"#ed7953\"], [0.7777777777777778, \"#fb9f3a\"], [0.8888888888888888, \"#fdca26\"], [1.0, \"#f0f921\"]]}, \"colorway\": [\"#636efa\", \"#EF553B\", \"#00cc96\", \"#ab63fa\", \"#FFA15A\", \"#19d3f3\", \"#FF6692\", \"#B6E880\", \"#FF97FF\", \"#FECB52\"], \"font\": {\"color\": \"#2a3f5f\"}, \"geo\": {\"bgcolor\": \"white\", \"lakecolor\": \"white\", \"landcolor\": \"#E5ECF6\", \"showlakes\": true, \"showland\": true, \"subunitcolor\": \"white\"}, \"hoverlabel\": {\"align\": \"left\"}, \"hovermode\": \"closest\", \"mapbox\": {\"style\": \"light\"}, \"paper_bgcolor\": \"white\", \"plot_bgcolor\": \"#E5ECF6\", \"polar\": {\"angularaxis\": {\"gridcolor\": \"white\", \"linecolor\": \"white\", \"ticks\": \"\"}, \"bgcolor\": \"#E5ECF6\", \"radialaxis\": {\"gridcolor\": \"white\", \"linecolor\": \"white\", \"ticks\": \"\"}}, \"scene\": {\"xaxis\": {\"backgroundcolor\": \"#E5ECF6\", \"gridcolor\": \"white\", \"gridwidth\": 2, \"linecolor\": \"white\", \"showbackground\": true, \"ticks\": \"\", \"zerolinecolor\": \"white\"}, \"yaxis\": {\"backgroundcolor\": \"#E5ECF6\", \"gridcolor\": \"white\", \"gridwidth\": 2, \"linecolor\": \"white\", \"showbackground\": true, \"ticks\": \"\", \"zerolinecolor\": \"white\"}, \"zaxis\": {\"backgroundcolor\": \"#E5ECF6\", \"gridcolor\": \"white\", \"gridwidth\": 2, \"linecolor\": \"white\", \"showbackground\": true, \"ticks\": \"\", \"zerolinecolor\": \"white\"}}, \"shapedefaults\": {\"line\": {\"color\": \"#2a3f5f\"}}, \"ternary\": {\"aaxis\": {\"gridcolor\": \"white\", \"linecolor\": \"white\", \"ticks\": \"\"}, \"baxis\": {\"gridcolor\": \"white\", \"linecolor\": \"white\", \"ticks\": \"\"}, \"bgcolor\": \"#E5ECF6\", \"caxis\": {\"gridcolor\": \"white\", \"linecolor\": \"white\", \"ticks\": \"\"}}, \"title\": {\"x\": 0.05}, \"xaxis\": {\"automargin\": true, \"gridcolor\": \"white\", \"linecolor\": \"white\", \"ticks\": \"\", \"title\": {\"standoff\": 15}, \"zerolinecolor\": \"white\", \"zerolinewidth\": 2}, \"yaxis\": {\"automargin\": true, \"gridcolor\": \"white\", \"linecolor\": \"white\", \"ticks\": \"\", \"title\": {\"standoff\": 15}, \"zerolinecolor\": \"white\", \"zerolinewidth\": 2}}}, \"title\": {\"text\": \"Number of updates on COVID-19 local situation on Ministry of Health's website\"}},\n",
       "                        {\"responsive\": true}\n",
       "                    ).then(function(){\n",
       "                            \n",
       "var gd = document.getElementById('37c8ebd5-5ae9-48af-a920-c793f9640173');\n",
       "var x = new MutationObserver(function (mutations, observer) {{\n",
       "        var display = window.getComputedStyle(gd).display;\n",
       "        if (!display || display === 'none') {{\n",
       "            console.log([gd, 'removed!']);\n",
       "            Plotly.purge(gd);\n",
       "            observer.disconnect();\n",
       "        }}\n",
       "}});\n",
       "\n",
       "// Listen for the removal of the full notebook cells\n",
       "var notebookContainer = gd.closest('#notebook-container');\n",
       "if (notebookContainer) {{\n",
       "    x.observe(notebookContainer, {childList: true});\n",
       "}}\n",
       "\n",
       "// Listen for the clearing of the current output cell\n",
       "var outputEl = gd.closest('.output');\n",
       "if (outputEl) {{\n",
       "    x.observe(outputEl, {childList: true});\n",
       "}}\n",
       "\n",
       "                        })\n",
       "                };\n",
       "                });\n",
       "            </script>\n",
       "        </div>"
      ]
     },
     "metadata": {},
     "output_type": "display_data"
    }
   ],
   "source": [
    "fig = go.Figure()\n",
    "\n",
    "fig.add_trace(go.Scatter(\n",
    "    x=updates_daily['date'],\n",
    "    y=updates_daily['text'],\n",
    "    hovertext=updates_daily[['date','text']].values,\n",
    "    hoverinfo=\"x+y+text\",\n",
    "    marker=dict(\n",
    "        color=\"green\"\n",
    "    ),\n",
    "    showlegend=False\n",
    "))\n",
    "\n",
    "fig.update_layout(\n",
    "    title=\"Number of updates on COVID-19 local situation on Ministry of Health's website\"#,\n",
    "    #xaxis_title=\"x Axis Title\",\n",
    "    #yaxis_title=\"y Axis Title\",\n",
    "    #font=dict(\n",
    "    #    family=\"Courier New, monospace\",\n",
    "    #    size=18,\n",
    "    #    color=\"#7f7f7f\"\n",
    "    )\n",
    "\n",
    "fig.show()"
   ]
  },
  {
   "cell_type": "markdown",
   "metadata": {},
   "source": [
    "### Static charts"
   ]
  },
  {
   "cell_type": "code",
   "execution_count": 37,
   "metadata": {},
   "outputs": [
    {
     "name": "stderr",
     "output_type": "stream",
     "text": [
      "C:\\Users\\chua1\\Anaconda3\\lib\\site-packages\\pandas\\plotting\\_converter.py:129: FutureWarning: Using an implicitly registered datetime converter for a matplotlib plotting method. The converter was registered by pandas on import. Future versions of pandas will require you to explicitly register matplotlib converters.\n",
      "\n",
      "To register the converters:\n",
      "\t>>> from pandas.plotting import register_matplotlib_converters\n",
      "\t>>> register_matplotlib_converters()\n",
      "  warnings.warn(msg, FutureWarning)\n"
     ]
    },
    {
     "data": {
      "text/plain": [
       "[Text(0, 0.5, 'Number of news updates'), Text(0.5, 0, 'Date')]"
      ]
     },
     "execution_count": 37,
     "metadata": {},
     "output_type": "execute_result"
    },
    {
     "data": {
      "image/png": "[encoded data removed]",
      "text/plain": [
       "<Figure size 1080x432 with 1 Axes>"
      ]
     },
     "metadata": {
      "needs_background": "light"
     },
     "output_type": "display_data"
    }
   ],
   "source": [
    "f, ax = plt.subplots(figsize = (15,6))\n",
    "sns.lineplot(x='date', y='text', data=updates_daily)\n",
    "ax.set(xlabel='Date', ylabel='Number of news updates')"
   ]
  },
  {
   "cell_type": "code",
   "execution_count": 43,
   "metadata": {
    "scrolled": true
   },
   "outputs": [
    {
     "data": {
      "image/png": "[encoded data removed]",
      "text/plain": [
       "<Figure size 432x1080 with 1 Axes>"
      ]
     },
     "metadata": {
      "needs_background": "light"
     },
     "output_type": "display_data"
    }
   ],
   "source": [
    "f, ax = plt.subplots(figsize = (6,15))\n",
    "sns.set_color_codes('muted')\n",
    "sns.barplot(x = 'text', y = 'index', data = updates_count[updates_count['text']>=3], color = 'b')\n",
    "plt.title(\"Number of updates on COVID-19 local situation on Ministry of Health's website\")\n",
    "ax.set(ylabel='Date', xlabel='Number of news updates')\n",
    "plt.show()"
   ]
  }
 ],
 "metadata": {
  "kernelspec": {
   "display_name": "Python 3",
   "language": "python",
   "name": "python3"
  },
  "language_info": {
   "codemirror_mode": {
    "name": "ipython",
    "version": 3
   },
   "file_extension": ".py",
   "mimetype": "text/x-python",
   "name": "python",
   "nbconvert_exporter": "python",
   "pygments_lexer": "ipython3",
   "version": "3.7.3"
  }
 },
 "nbformat": 4,
 "nbformat_minor": 2
}
