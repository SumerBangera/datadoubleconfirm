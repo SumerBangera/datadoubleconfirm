{
 "cells": [
  {
   "cell_type": "markdown",
   "metadata": {},
   "source": [
    "### This notebook outlines the steps involved to scrape the list of emojis and their associated terms/ descriptions from the emoji cheat sheet into a csv dataset."
   ]
  },
  {
   "cell_type": "code",
   "execution_count": 2,
   "metadata": {},
   "outputs": [],
   "source": [
    "from urllib.request import Request, urlopen\n",
    "import requests\n",
    "from bs4 import BeautifulSoup\n",
    "import csv\n",
    "import pandas as pd\n",
    "import numpy as np\n",
    "import time"
   ]
  },
  {
   "cell_type": "code",
   "execution_count": 3,
   "metadata": {},
   "outputs": [],
   "source": [
    "site = \"https://www.webfx.com/tools/emoji-cheat-sheet/\"\n",
    "hdr = {'User-Agent': 'Mozilla/5.0'}\n",
    "bookpage = requests.get(site)\n",
    "soup = BeautifulSoup(bookpage.text, \"html.parser\")\n",
    "#print(soup.prettify())"
   ]
  },
  {
   "cell_type": "code",
   "execution_count": 4,
   "metadata": {},
   "outputs": [
    {
     "data": {
      "text/plain": [
       "[<span class=\"name\" data-alternative-name=\"classy, bow, face, formal, fashion, suit, magic, circus\">bowtie</span>,\n",
       " <span class=\"name\" data-alternative-name=\"happy, cheerful, face, joy, funny, haha, laugh, like\">smile</span>,\n",
       " <span class=\"name\" data-alternative-name=\"smile, guy, happy, cheerful, smiling\">simple_smile</span>,\n",
       " <span class=\"name\" data-alternative-name=\"lol, funny, happy, joy, satisfied, haha, face, glad\">laughing</span>,\n",
       " <span class=\"name\" data-alternative-name=\"face, smile, happy, flushed, crush, embarrassed, shy, joy\">blush</span>,\n",
       " <span class=\"name\" data-alternative-name=\"funny, face, happy, joy, haha\">smiley</span>,\n",
       " <span class=\"name\" data-alternative-name=\"face, blush, massage, happiness\">relaxed</span>,\n",
       " <span class=\"name\" data-alternative-name=\"face, smile, mean, prank, smug, sarcasm\">smirk</span>,\n",
       " <span class=\"name\" data-alternative-name=\"heart, love, face, like, affection, valentines, infatuation, crush\">heart_eyes</span>,\n",
       " <span class=\"name\" data-alternative-name=\"heart, kiss, face, love, like, affection, valentines, infatuation\">kissing_heart</span>,\n",
       " <span class=\"name\" data-alternative-name=\"face, love, like, affection, valentines, infatuation\">kissing_closed_eyes</span>,\n",
       " <span class=\"name\" data-alternative-name=\"flustered, embarassed, face, blush, shy, flattered\">flushed</span>,\n",
       " <span class=\"name\" data-alternative-name=\"face, relaxed, phew, massage, happiness\">relieved</span>,\n",
       " <span class=\"name\" data-alternative-name=\"contented\">satisfied</span>,\n",
       " <span class=\"name\" data-alternative-name=\"happy, smile, face, joy\">grin</span>,\n",
       " <span class=\"name\" data-alternative-name=\"flirt, face, happy, mischievous, secret\">wink</span>,\n",
       " <span class=\"name\" data-alternative-name=\"face, prank, childish, playful, mischievous, smile\">stuck_out_tongue_winking_eye</span>,\n",
       " <span class=\"name\" data-alternative-name=\"face, prank, playful, mischievous, smile\">stuck_out_tongue_closed_eyes</span>,\n",
       " <span class=\"name\" data-alternative-name=\"smiling, face, smile, happy, joy\">grinning</span>,\n",
       " <span class=\"name\" data-alternative-name=\"love, like, face, 3, valentines, infatuation\">kissing</span>,\n",
       " <span class=\"name\" data-alternative-name=\"smooch, face, affection, valentines, infatuation\">kissing_smiling_eyes</span>,\n",
       " <span class=\"name\" data-alternative-name=\"face, prank, childish, playful, mischievous, smile\">stuck_out_tongue</span>,\n",
       " <span class=\"name\" data-alternative-name=\"asleep, face, tired, sleepy, night, zzz\">sleeping</span>,\n",
       " <span class=\"name\" data-alternative-name=\"frustrated, scared, face, concern, nervous\">worried</span>,\n",
       " <span class=\"name\" data-alternative-name=\"face, aw, what\">frowning</span>,\n",
       " <span class=\"name\" data-alternative-name=\"face, stunned, nervous\">anguished</span>,\n",
       " <span class=\"name\" data-alternative-name=\"face, surprise, impressed, wow\">open_mouth</span>,\n",
       " <span class=\"name\" data-alternative-name=\"face, grimace, teeth\">grimacing</span>,\n",
       " <span class=\"name\" data-alternative-name=\"baffled, puzzled, face, indifference, huh, weird, hmmm\">confused</span>,\n",
       " <span class=\"name\" data-alternative-name=\"face, woo, shh,conceal,hide\">hushed</span>,\n",
       " <span class=\"name\" data-alternative-name=\"deadpan, face, indifferent, -_-, meh\">expressionless</span>,\n",
       " <span class=\"name\" data-alternative-name=\"sarcasm, indifference, bored, straight face, serious\">unamused</span>,\n",
       " <span class=\"name\" data-alternative-name=\"happy, relief, face, hot, laugh\">sweat_smile</span>,\n",
       " <span class=\"name\" data-alternative-name=\"worried, stressed, face, hot, sad, tired, exercise\">sweat</span>,\n",
       " <span class=\"name\" data-alternative-name=\"face, phew, sweat, nervous\">disappointed_relieved</span>,\n",
       " <span class=\"name\" data-alternative-name=\"tired, face, sleepy, sad, frustrated, upset\">weary</span>,\n",
       " <span class=\"name\" data-alternative-name=\"face, sad, depressed, okay, upset\">pensive</span>,\n",
       " <span class=\"name\" data-alternative-name=\"sad, lonely, face, upset, depressed\">disappointed</span>,\n",
       " <span class=\"name\" data-alternative-name=\"face, confused, sick, unwell, oops\">confounded</span>,\n",
       " <span class=\"name\" data-alternative-name=\"scared, afraid, nervous, scared, face, terrified, oops, huh\">fearful</span>,\n",
       " <span class=\"name\" data-alternative-name=\"scared, frightened, nervous, scared, face\">cold_sweat</span>,\n",
       " <span class=\"name\" data-alternative-name=\"face, sick, no, upset, oops\">persevere</span>,\n",
       " <span class=\"name\" data-alternative-name=\"sad, unhappy, tear, face, tears, depressed, upset\">cry</span>,\n",
       " <span class=\"name\" data-alternative-name=\"sad, unhappy, face, cry, tears, upset, depressed\">sob</span>,\n",
       " <span class=\"name\" data-alternative-name=\"happy, happytears, face, cry, tears, weep, haha\">joy</span>,\n",
       " <span class=\"name\" data-alternative-name=\"face, xox, surprised, poisoned\">astonished</span>,\n",
       " <span class=\"name\" data-alternative-name=\"halloween, scary, scared, terrified, face, munch, omg\">scream</span>,\n",
       " <span class=\"name\" data-alternative-name=\"nerd, geek, nerdy, face, custom_\">neckbeard</span>,\n",
       " <span class=\"name\" data-alternative-name=\"sick, whine, upset, frustrated\">tired_face</span>,\n",
       " <span class=\"name\" data-alternative-name=\"mad, face, annoyed, frustrated\">angry</span>,\n",
       " <span class=\"name\" data-alternative-name=\"furious, angry, mad, hate, despise\">rage</span>,\n",
       " <span class=\"name\" data-alternative-name=\"face, gas, phew, proud, pride\">triumph</span>,\n",
       " <span class=\"name\" data-alternative-name=\"tired, zzz, face, rest, nap\">sleepy</span>,\n",
       " <span class=\"name\" data-alternative-name=\"delicious, happy, joy, tongue, smile, face, silly, yummy\">yum</span>,\n",
       " <span class=\"name\" data-alternative-name=\"face, sick, ill, disease\">mask</span>,\n",
       " <span class=\"name\" data-alternative-name=\"shades, face, cool, smile, summer, beach\">sunglasses</span>,\n",
       " <span class=\"name\" data-alternative-name=\"ko, spent, unconscious, xox\">dizzy_face</span>,\n",
       " <span class=\"name\" data-alternative-name=\"devil, angry, horns\">imp</span>,\n",
       " <span class=\"name\" data-alternative-name=\"devil, horns\">smiling_imp</span>,\n",
       " <span class=\"name\" data-alternative-name=\"indifference, meh\">neutral_face</span>,\n",
       " <span class=\"name\" data-alternative-name=\"face, hellokitty,silent\">no_mouth</span>,\n",
       " <span class=\"name\" data-alternative-name=\"angel, face, heaven, halo\">innocent</span>,\n",
       " <span class=\"name\" data-alternative-name=\"extraterrestrial, UFO, paul, weird, outer_space\">alien</span>,\n",
       " <span class=\"name\" data-alternative-name=\"heart, love, like, affection, valentines\">yellow_heart</span>,\n",
       " <span class=\"name\" data-alternative-name=\"heart, love, like, affection, valentines\">blue_heart</span>,\n",
       " <span class=\"name\" data-alternative-name=\"heart, love, like, affection, valentines\">purple_heart</span>,\n",
       " <span class=\"name\" data-alternative-name=\"heart, love, like, valentines\">heart</span>,\n",
       " <span class=\"name\" data-alternative-name=\"heart, love, like, affection, valentines\">green_heart</span>,\n",
       " <span class=\"name\" data-alternative-name=\"heart, heartbreak, sad, sorry, break\">broken_heart</span>,\n",
       " <span class=\"name\" data-alternative-name=\"heart, love, like, affection, valentines, pink\">heartbeat</span>,\n",
       " <span class=\"name\" data-alternative-name=\"heart, like, love, affection, valentines, pink\">heartpulse</span>,\n",
       " <span class=\"name\" data-alternative-name=\"heart, love, like, affection, valentines\">two_hearts</span>,\n",
       " <span class=\"name\" data-alternative-name=\"heart, love, like, affection, valentines\">revolving_hearts</span>,\n",
       " <span class=\"name\" data-alternative-name=\"love, like, heart, affection, valentines\">cupid</span>,\n",
       " <span class=\"name\" data-alternative-name=\"heart, love, like, affection, valentines\">sparkling_heart</span>,\n",
       " <span class=\"name\" data-alternative-name=\"stars, shine, shiny, cool, awesome, good, magic\">sparkles</span>,\n",
       " <span class=\"name\" data-alternative-name=\"night, yellow\">star</span>,\n",
       " <span class=\"name\" data-alternative-name=\"night, sparkle, awesome, good, magic\">star2</span>,\n",
       " <span class=\"name\" data-alternative-name=\"star, sparkle, shoot, magic\">dizzy</span>,\n",
       " <span class=\"name\" data-alternative-name=\"explosion, bomb, explode, collision, blown\">boom</span>,\n",
       " <span class=\"name\" data-alternative-name=\"accident,fight,boom\">collision</span>,\n",
       " <span class=\"name\" data-alternative-name=\"angry, mad\">anger</span>,\n",
       " <span class=\"name\" data-alternative-name=\"heavy_exclamation_mark, danger, surprise, punctuation, wow, warning\">exclamation</span>,\n",
       " <span class=\"name\" data-alternative-name=\"doubt, confused\">question</span>,\n",
       " <span class=\"name\" data-alternative-name=\"surprise, punctuation, gray, wow, warning\">grey_exclamation</span>,\n",
       " <span class=\"name\" data-alternative-name=\"doubts, gray, huh\">grey_question</span>,\n",
       " <span class=\"name\" data-alternative-name=\"sleep, bored, sleepy, tired\">zzz</span>,\n",
       " <span class=\"name\" data-alternative-name=\"wind, air, fast, shoo, fart, smoke, puff\">dash</span>,\n",
       " <span class=\"name\" data-alternative-name=\"water, drip, oops\">sweat_drops</span>,\n",
       " <span class=\"name data-alternative-name=\" data-alternative-name=\"music, score\" music=\"\">notes</span>,\n",
       " <span class=\"name\" data-alternative-name=\"music, score, tone, sound\">musical_note</span>,\n",
       " <span class=\"name\" data-alternative-name=\"hot, cook, flame\">fire</span>,\n",
       " <span class=\"name\" data-alternative-name=\"poop, shitface, fail, turd\">hankey</span>,\n",
       " <span class=\"name\" data-alternative-name=\"shit, turd\">poop</span>,\n",
       " <span class=\"name\" data-alternative-name=\"poop\">shit</span>,\n",
       " <span class=\"name\" data-alternative-name=\"thumbsup, yes, awesome, good, agree, accept, cool, hand, like\">+1</span>,\n",
       " <span class=\"name\" data-alternative-name=\"like\">thumbsup</span>,\n",
       " <span class=\"name\" data-alternative-name=\"thumbsdown, no, dislike, hand\">-1</span>,\n",
       " <span class=\"name\" data-alternative-name=\"dislike\">thumbsdown</span>,\n",
       " <span class=\"name\" data-alternative-name=\"fingers, limbs, perfect\">ok_hand</span>,\n",
       " <span class=\"name\" data-alternative-name=\"pound\">punch</span>,\n",
       " <span class=\"name\" data-alternative-name=\"angry, violence, fist, hit, attack, hand\">facepunch</span>,\n",
       " <span class=\"name\" data-alternative-name=\"fingers, hand, grasp\">fist</span>,\n",
       " <span class=\"name\" data-alternative-name=\"peace, deuces, fingers, ohyeah, hand, victory, two\">v</span>,\n",
       " <span class=\"name\" data-alternative-name=\"hi, hello, bye, hands, gesture, goodbye, solong, farewell, palm\">wave</span>,\n",
       " <span class=\"name\" data-alternative-name=\"stop, fingers, highfive, palm, ban, raised_hand\">hand</span>,\n",
       " <span class=\"name\" data-alternative-name=\"stop\">raised_hand</span>,\n",
       " <span class=\"name\" data-alternative-name=\"fingers, butterfly\">open_hands</span>,\n",
       " <span class=\"name\" data-alternative-name=\"hand, fingers, direction\">point_up</span>,\n",
       " <span class=\"name\" data-alternative-name=\"fingers, hand, direction\">point_down</span>,\n",
       " <span class=\"name\" data-alternative-name=\"direction, fingers, hand\">point_left</span>,\n",
       " <span class=\"name\" data-alternative-name=\"fingers, hand, direction\">point_right</span>,\n",
       " <span class=\"name\" data-alternative-name=\"gesture, hooray, yea, celebration\">raised_hands</span>,\n",
       " <span class=\"name\" data-alternative-name=\"please, hope, wish, namaste, highfive\">pray</span>,\n",
       " <span class=\"name\" data-alternative-name=\"fingers, hand, direction\">point_up_2</span>,\n",
       " <span class=\"name\" data-alternative-name=\"hands, praise, applause, congrats, yay\">clap</span>,\n",
       " <span class=\"name\" data-alternative-name=\"arm, flex, hand, summer, strong\">muscle</span>,\n",
       " <span class=\"name\" data-alternative-name=\"fingers, rocknroll, concert, band, custom_\">metal</span>,\n",
       " <span class=\"name\" data-alternative-name=\"fuck, finger, dislike, thumbsdown, disapprove, no, custom_\">fu</span>,\n",
       " <span class=\"name\" data-alternative-name=\"sport, man, walking, exercise, race, running\">runner</span>,\n",
       " <span class=\"name\" data-alternative-name=\"sport\">running</span>,\n",
       " <span class=\"name\" data-alternative-name=\"pair, people, human, love, date, dating, like, affection, valentines, marriage\">couple</span>,\n",
       " <span class=\"name\" data-alternative-name=\"home, parents, child, mom, dad, father, mother, people, human\">family</span>,\n",
       " <span class=\"name\" data-alternative-name=\"gay, pair, couple, love, like, bromance, friendship, people, human\">two_men_holding_hands</span>,\n",
       " <span class=\"name\" data-alternative-name=\"gay, pair, friendship, couple, love, like, female, people, human, lesbian\">two_women_holding_hands</span>,\n",
       " <span class=\"name\" data-alternative-name=\"party, female, girl, woman, fun\">dancer</span>,\n",
       " <span class=\"name\" data-alternative-name=\"party, female, bunny, women, girls\">dancers</span>,\n",
       " <span class=\"name\" data-alternative-name=\"women, girl, female, pink, human\">ok_woman</span>,\n",
       " <span class=\"name\" data-alternative-name=\"female, girl, woman, nope\">no_good</span>,\n",
       " <span class=\"name\" data-alternative-name=\"female, girl, woman, human\">information_desk_person</span>,\n",
       " <span class=\"name\" data-alternative-name=\"female, girl, woman\">raising_hand</span>,\n",
       " <span class=\"name\" data-alternative-name=\"couple, marriage, wedding\">bride_with_veil</span>,\n",
       " <span class=\"name\" data-alternative-name=\"female, girl, woman\">person_with_pouting_face</span>,\n",
       " <span class=\"name\" data-alternative-name=\"female, girl, woman, sad, depressed, discouraged, unhappy\">person_frowning</span>,\n",
       " <span class=\"name\" data-alternative-name=\"man, male, boy\">bow</span>,\n",
       " <span class=\"name\" data-alternative-name=\"pair, valentines, love, like, dating, marriage\">couplekiss</span>,\n",
       " <span class=\"name\" data-alternative-name=\"heart, pair, love, like, affection, human, dating, valentines, marriage\">couple_with_heart</span>,\n",
       " <span class=\"name\" data-alternative-name=\"female, girl, woman, head\">massage</span>,\n",
       " <span class=\"name\" data-alternative-name=\"female, girl, woman\">haircut</span>,\n",
       " <span class=\"name\" data-alternative-name=\"manicure, beauty, finger, fashion\">nail_care</span>,\n",
       " <span class=\"name\" data-alternative-name=\"man, male, guy, teenager\">boy</span>,\n",
       " <span class=\"name\" data-alternative-name=\"female, woman, teenager\">girl</span>,\n",
       " <span class=\"name\" data-alternative-name=\"female, girls, lady\">woman</span>,\n",
       " <span class=\"name\" data-alternative-name=\"guy, mustache, father, dad, classy, sir, moustache\">man</span>,\n",
       " <span class=\"name\" data-alternative-name=\"infant, child, boy, girl, toddler\">baby</span>,\n",
       " <span class=\"name\" data-alternative-name=\"grandma, granny, female, women, girl, lady\">older_woman</span>,\n",
       " <span class=\"name\" data-alternative-name=\"grandpa, grandad, human, male, men\">older_man</span>,\n",
       " <span class=\"name\" data-alternative-name=\"man, male, boy, blonde, guy\">person_with_blond_hair</span>,\n",
       " <span class=\"name\" data-alternative-name=\"male, boy\">man_with_gua_pi_mao</span>,\n",
       " <span class=\"name\" data-alternative-name=\"male, indian, hinduism, arabs\">man_with_turban</span>,\n",
       " <span class=\"name\" data-alternative-name=\"male, human, wip, guy, build\">construction_worker</span>,\n",
       " <span class=\"name\" data-alternative-name=\"police, policeman, man, law, legal, enforcement, arrest, 911\">cop</span>,\n",
       " <span class=\"name\" data-alternative-name=\"heaven, wings, halo\">angel</span>,\n",
       " <span class=\"name\" data-alternative-name=\"girl, woman, female, blond, crown, royal, queen\">princess</span>,\n",
       " <span class=\"name\" data-alternative-name=\"animal, happy, cats\">smiley_cat</span>,\n",
       " <span class=\"name\" data-alternative-name=\"animal, happy, cats\">smile_cat</span>,\n",
       " <span class=\"name\" data-alternative-name=\"heart, animal, love, like, affection, cats, valentines\">heart_eyes_cat</span>,\n",
       " <span class=\"name\" data-alternative-name=\"animal, love, cats\">kissing_cat</span>,\n",
       " <span class=\"name\" data-alternative-name=\"animal, cats\">smirk_cat</span>,\n",
       " <span class=\"name\" data-alternative-name=\"animal, cats, munch, scared\">scream_cat</span>,\n",
       " <span class=\"name\" data-alternative-name=\"animal, sad, tears, weep, cats, upset\">crying_cat_face</span>,\n",
       " <span class=\"name\" data-alternative-name=\"animal, happy, cats, haha, tears\">joy_cat</span>,\n",
       " <span class=\"name\" data-alternative-name=\"animal, sad, unhappy, angry, cats\">pouting_cat</span>,\n",
       " <span class=\"name\" data-alternative-name=\"namahage, monster, red, mask, halloween, scary, creepy, devil, demon\">japanese_ogre</span>,\n",
       " <span class=\"name\" data-alternative-name=\"tengu, red, evil, mask, monster, scary, creepy\">japanese_goblin</span>,\n",
       " <span class=\"name\" data-alternative-name=\"monkey, animal, nature, haha\">see_no_evil</span>,\n",
       " <span class=\"name\" data-alternative-name=\"animal, monkey, nature\">hear_no_evil</span>,\n",
       " <span class=\"name\" data-alternative-name=\"monkey, animal, nature, omg\">speak_no_evil</span>,\n",
       " <span class=\"name\" data-alternative-name=\"uk, gb, british, male, guy, royal\">guardsman</span>,\n",
       " <span class=\"name\" data-alternative-name=\"scary, halloween, dead, skeleton, creepy\">skull</span>,\n",
       " <span class=\"name\" data-alternative-name=\"animal, tracking, footprints, dog, cat, pet, paw_prints\">feet</span>,\n",
       " <span class=\"name\" data-alternative-name=\"mouth, kiss\">lips</span>,\n",
       " <span class=\"name\" data-alternative-name=\"face, lips, love, like, affection, valentines\">kiss</span>,\n",
       " <span class=\"name\" data-alternative-name=\"water, drip, faucet, spring\">droplet</span>,\n",
       " <span class=\"name\" data-alternative-name=\"face, hear, sound, listen\">ear</span>,\n",
       " <span class=\"name\" data-alternative-name=\"eye-rolling, look, watch, stalk, peek, see\">eyes</span>,\n",
       " <span class=\"name\" data-alternative-name=\"smell, sniff\">nose</span>,\n",
       " <span class=\"name\" data-alternative-name=\"mouth, playful\">tongue</span>,\n",
       " <span class=\"name\" data-alternative-name=\"email, like, affection, envelope, valentines\">love_letter</span>,\n",
       " <span class=\"name\" data-alternative-name=\"user, person, human\">bust_in_silhouette</span>,\n",
       " <span class=\"name\" data-alternative-name=\"user, person, human, group, team\">busts_in_silhouette</span>,\n",
       " <span class=\"name\" data-alternative-name=\"bubble, words, message, talk, chatting\">speech_balloon</span>,\n",
       " <span class=\"name\" data-alternative-name=\"bubble, cloud, speech, thinking\">thought_balloon</span>,\n",
       " <span class=\"name\" data-alternative-name=\"doom, oldschool\">feelsgood</span>,\n",
       " <span class=\"name\" data-alternative-name=\"doom, oldschool\">finnadie</span>,\n",
       " <span class=\"name\" data-alternative-name=\"doom, rage, bloody, hurt\">goberserk</span>,\n",
       " <span class=\"name\" data-alternative-name=\"doom, oldschool\">godmode</span>,\n",
       " <span class=\"name\" data-alternative-name=\"mad, injured, doom, oldschool, custom_\">hurtrealbad</span>,\n",
       " <span class=\"name\" data-alternative-name=\"angry, mad, hate, despise\">rage1</span>,\n",
       " <span class=\"name\" data-alternative-name=\"angry, mad, hate, despise\">rage2</span>,\n",
       " <span class=\"name\" data-alternative-name=\"angry, mad, hate, despise\">rage3</span>,\n",
       " <span class=\"name\" data-alternative-name=\"angry, mad, hate, despise\">rage4</span>,\n",
       " <span class=\"name\" data-alternative-name=\"mad, custom_\">suspect</span>,\n",
       " <span class=\"name\" data-alternative-name=\"internet, meme, custom_\">trollface</span>,\n",
       " <span class=\"name\" data-alternative-name=\"weather, sun, nature, brightness, summer, beach, spring\">sunny</span>,\n",
       " <span class=\"name\" data-alternative-name=\"water, rain, rainy, weather, spring\">umbrella</span>,\n",
       " <span class=\"name\" data-alternative-name=\"weather, sky\">cloud</span>,\n",
       " <span class=\"name\" data-alternative-name=\"winter, season, cold, weather, christmas, xmas\">snowflake</span>,\n",
       " <span class=\"name\" data-alternative-name=\"winter, season, cold, weather, christmas, xmas, frozen\">snowman</span>,\n",
       " <span class=\"name\" data-alternative-name=\"weather, lightning, thunder, lightning bolt, fast\">zap</span>,\n",
       " <span class=\"name\" data-alternative-name=\"weather, swirl, blue, cloud\">cyclone</span>,\n",
       " <span class=\"name\" data-alternative-name=\"weather, fog, photo, mountain\">foggy</span>,\n",
       " <span class=\"name\" data-alternative-name=\"waves, sea, water, wave, nature, tsunami, disaster\">ocean</span>,\n",
       " <span class=\"name\" data-alternative-name=\"animal, meow, nature, pet\">cat</span>,\n",
       " <span class=\"name\" data-alternative-name=\"animal, friend, nature, woof, puppy, pet, faithful\">dog</span>,\n",
       " <span class=\"name\" data-alternative-name=\"animal, nature, cheese\">mouse</span>,\n",
       " <span class=\"name\" data-alternative-name=\"animal, nature\">hamster</span>,\n",
       " <span class=\"name\" data-alternative-name=\"animal, nature, pet, spring, magic\">rabbit</span>,\n",
       " <span class=\"name\" data-alternative-name=\"animal,dog, animal, nature, wild, audrey, lulu, audrey and lulu\">wolf</span>,\n",
       " <span class=\"name\" data-alternative-name=\"animal, nature, croak\">frog</span>,\n",
       " <span class=\"name\" data-alternative-name=\"animal, cat, danger, wild, nature, roar\">tiger</span>,\n",
       " <span class=\"name\" data-alternative-name=\"animal, nature\">koala</span>,\n",
       " <span class=\"name\" data-alternative-name=\"animal, nature, wild\">bear</span>,\n",
       " <span class=\"name\" data-alternative-name=\"animal, oink, nature\">pig</span>,\n",
       " <span class=\"name\" data-alternative-name=\"animal, oink\">pig_nose</span>,\n",
       " <span class=\"name\" data-alternative-name=\"animal, beef, ox, nature, moo, milk\">cow</span>,\n",
       " <span class=\"name\" data-alternative-name=\"animal, nature\">boar</span>,\n",
       " <span class=\"name\" data-alternative-name=\"animal, nature, circus, ape\">monkey_face</span>,\n",
       " <span class=\"name\" data-alternative-name=\"animal, nature, banana, circus, ape\">monkey</span>,\n",
       " <span class=\"name\" data-alternative-name=\"animal, brown, nature, unicorn\">horse</span>,\n",
       " <span class=\"name\" data-alternative-name=\"animal, gamble, luck\">racehorse</span>,\n",
       " <span class=\"name\" data-alternative-name=\"animal, nature, hot, desert, hump\">camel</span>,\n",
       " <span class=\"name\" data-alternative-name=\"animal, nature, wool, shipit\">sheep</span>,\n",
       " <span class=\"name\" data-alternative-name=\"animal, nature, nose, thailand, circus\">elephant</span>,\n",
       " <span class=\"name\" data-alternative-name=\"animal, nature\">panda_face</span>,\n",
       " <span class=\"name\" data-alternative-name=\"animal,serpent, animal, evil, nature, hiss\">snake</span>,\n",
       " <span class=\"name\" data-alternative-name=\"animal, nature, fly, tweet, spring\">bird</span>,\n",
       " <span class=\"name\" data-alternative-name=\"animal, bird, chicken\">baby_chick</span>,\n",
       " <span class=\"name\" data-alternative-name=\"animal, bird, chicken, baby\">hatched_chick</span>,\n",
       " <span class=\"name\" data-alternative-name=\"animal, bird,egg, chicken, egg, born, baby, bird\">hatching_chick</span>,\n",
       " <span class=\"name\" data-alternative-name=\"animal, bird, cluck, nature\">chicken</span>,\n",
       " <span class=\"name\" data-alternative-name=\"animal, bird, nature\">penguin</span>,\n",
       " <span class=\"name\" data-alternative-name=\"animal, tortoise, slow, nature\">turtle</span>,\n",
       " <span class=\"name\" data-alternative-name=\"animal, insect, nature, worm\">bug</span>,\n",
       " <span class=\"name\" data-alternative-name=\"animal\">honeybee</span>,\n",
       " <span class=\"name\" data-alternative-name=\"animal, insect, nature, bug\">ant</span>,\n",
       " <span class=\"name\" data-alternative-name=\"animal, insect, nature, bug\">beetle</span>,\n",
       " <span class=\"name\" data-alternative-name=\"animal, slow, shell\">snail</span>,\n",
       " <span class=\"name\" data-alternative-name=\"animal, creature, ocean, sea, nature, beach\">octopus</span>,\n",
       " <span class=\"name\" data-alternative-name=\"animal, swim, ocean, beach, nemo\">tropical_fish</span>,\n",
       " <span class=\"name\" data-alternative-name=\"animal, food, nature\">fish</span>,\n",
       " <span class=\"name\" data-alternative-name=\"animal, nature, sea, ocean\">whale</span>,\n",
       " <span class=\"name\" data-alternative-name=\"animal, nature, sea, ocean\">whale2</span>,\n",
       " <span class=\"name\" data-alternative-name=\"animal, nature, fish, sea, ocean, flipper, fins, beach\">dolphin</span>,\n",
       " <span class=\"name\" data-alternative-name=\"animal, beef, ox, nature, moo, milk\">cow2</span>,\n",
       " <span class=\"name\" data-alternative-name=\"animal, sheep, nature\">ram</span>,\n",
       " <span class=\"name\" data-alternative-name=\"animal, mouse, rodent\">rat</span>,\n",
       " <span class=\"name\" data-alternative-name=\"animal, nature, ox, cow\">water_buffalo</span>,\n",
       " <span class=\"name\" data-alternative-name=\"animal, nature, roar\">tiger2</span>,\n",
       " <span class=\"name\" data-alternative-name=\"animal, bunny, nature, pet, magic, spring\">rabbit2</span>,\n",
       " <span class=\"name\" data-alternative-name=\"animal, myth, nature, chinese, green\">dragon</span>,\n",
       " <span class=\"name\" data-alternative-name=\"animal, nature\">goat</span>,\n",
       " <span class=\"name\" data-alternative-name=\"animal, chicken, nature\">rooster</span>,\n",
       " <span class=\"name\" data-alternative-name=\"animal, nature, friend, doge, pet, faithful\">dog2</span>,\n",
       " <span class=\"name\" data-alternative-name=\"animal, nature\">pig2</span>,\n",
       " <span class=\"name\" data-alternative-name=\"animal, nature, rodent\">mouse2</span>,\n",
       " <span class=\"name\" data-alternative-name=\"animal, cow, beef\">ox</span>,\n",
       " <span class=\"name\" data-alternative-name=\"animal, myth, nature, chinese, green\">dragon_face</span>,\n",
       " <span class=\"name\" data-alternative-name=\"animal, nature, food, sea, ocean\">blowfish</span>,\n",
       " <span class=\"name\" data-alternative-name=\"animal, alligator, nature, reptile\">crocodile</span>,\n",
       " <span class=\"name\" data-alternative-name=\"animal, hot, desert, hump\">dromedary_camel</span>,\n",
       " <span class=\"name\" data-alternative-name=\"animal, nature\">leopard</span>,\n",
       " <span class=\"name\" data-alternative-name=\"animal, kitty, kitten, meow, pet, cats\">cat2</span>,\n",
       " <span class=\"name\" data-alternative-name=\"animal, dog, 101, nature, pet\">poodle</span>,\n",
       " <span class=\"name\" data-alternative-name=\"animal\">paw_prints</span>,\n",
       " <span class=\"name\" data-alternative-name=\"flowers, nature, spring\">bouquet</span>,\n",
       " <span class=\"name\" data-alternative-name=\"floral, nature, plant, spring, flower\">cherry_blossom</span>,\n",
       " <span class=\"name\" data-alternative-name=\"floral, flowers, plant, nature, summer, spring\">tulip</span>,\n",
       " <span class=\"name\" data-alternative-name=\"vegetable, plant, nature, lucky\">four_leaf_clover</span>,\n",
       " <span class=\"name\" data-alternative-name=\"floral, flowers, valentines, love, spring\">rose</span>,\n",
       " <span class=\"name\" data-alternative-name=\"floral, nature, plant, fall\">sunflower</span>,\n",
       " <span class=\"name\" data-alternative-name=\"floral, plant, vegetable, flowers, beach\">hibiscus</span>,\n",
       " <span class=\"name\" data-alternative-name=\"nature, plant, vegetable, canada, fall\">maple_leaf</span>,\n",
       " <span class=\"name\" data-alternative-name=\"nature, plant, tree, vegetable, grass, lawn, spring\">leaves</span>,\n",
       " <span class=\"name\" data-alternative-name=\"nature, plant, vegetable, leaves\">fallen_leaf</span>,\n",
       " <span class=\"name\" data-alternative-name=\"vegetable, plant, medicine, weed, grass, lawn\">herb</span>,\n",
       " <span class=\"name\" data-alternative-name=\"plant, vegetable\">mushroom</span>,\n",
       " <span class=\"name\" data-alternative-name=\"vegetable, plant, nature\">cactus</span>,\n",
       " <span class=\"name\" data-alternative-name=\"plant, vegetable, nature, summer, beach\">palm_tree</span>,\n",
       " <span class=\"name\" data-alternative-name=\"plant, nature\">evergreen_tree</span>,\n",
       " <span class=\"name\" data-alternative-name=\"plant, nature\">deciduous_tree</span>,\n",
       " <span class=\"name\" data-alternative-name=\"food, squirrel\">chestnut</span>,\n",
       " <span class=\"name\" data-alternative-name=\"plant, nature, grass, lawn, spring\">seedling</span>,\n",
       " <span class=\"name\" data-alternative-name=\"nature, flowers, yellow\">blossom</span>,\n",
       " <span class=\"name\" data-alternative-name=\"nature, plant\">ear_of_rice</span>,\n",
       " <span class=\"name\" data-alternative-name=\"nature, sea, beach\">shell</span>,\n",
       " <span class=\"name\" data-alternative-name=\"earth, international, world, internet, interweb, i18n\">globe_with_meridians</span>,\n",
       " <span class=\"name\" data-alternative-name=\"nature, morning, sky\">sun_with_face</span>,\n",
       " <span class=\"name\" data-alternative-name=\"nature, twilight, planet, space, night, evening, sleep\">full_moon_with_face</span>,\n",
       " <span class=\"name\" data-alternative-name=\"nature, twilight, planet, space, night, evening, sleep\">new_moon_with_face</span>,\n",
       " <span class=\"name\" data-alternative-name=\"nature, twilight, planet, space, night, evening, sleep\">new_moon</span>,\n",
       " <span class=\"name\" data-alternative-name=\"nature, twilight, planet, space, night, evening, sleep\">waxing_crescent_moon</span>,\n",
       " <span class=\"name\" data-alternative-name=\"nature, twilight, planet, space, night, evening, sleep\">first_quarter_moon</span>,\n",
       " <span class=\"name\">waxing_gibbous_moon</span>,\n",
       " <span class=\"name\" data-alternative-name=\"nature, yellow, twilight, planet, space, night, evening, sleep\">full_moon</span>,\n",
       " <span class=\"name\" data-alternative-name=\"nature, twilight, planet, space, night, evening, sleep, waxing_gibbous_moon\">waning_gibbous_moon</span>,\n",
       " <span class=\"name\" data-alternative-name=\"nature, twilight, planet, space, night, evening, sleep\">last_quarter_moon</span>,\n",
       " <span class=\"name\" data-alternative-name=\"nature, twilight, planet, space, night, evening, sleep\">waning_crescent_moon</span>,\n",
       " <span class=\"name\" data-alternative-name=\"nature, twilight, planet, space, night, evening, sleep\">last_quarter_moon_with_face</span>,\n",
       " <span class=\"name\" data-alternative-name=\"nature, twilight, planet, space, night, evening, sleep\">first_quarter_moon_with_face</span>,\n",
       " <span class=\"name\" data-alternative-name=\"night, sleep, sky, evening, magic\">crescent_moon</span>,\n",
       " <span class=\"name\" data-alternative-name=\"europe, emea, globe, world, international\">earth_africa</span>,\n",
       " <span class=\"name\" data-alternative-name=\"globe, world, USA, international\">earth_americas</span>,\n",
       " <span class=\"name\" data-alternative-name=\"globe, world, east, international\">earth_asia</span>,\n",
       " <span class=\"name\" data-alternative-name=\"photo, nature, disaster\">volcano</span>,\n",
       " <span class=\"name\" data-alternative-name=\"photo, space, stars\">milky_way</span>,\n",
       " <span class=\"name\" data-alternative-name=\"weather, nature, cloudy, morning, fall, spring\">partly_sunny</span>,\n",
       " <span class=\"name\" data-alternative-name=\"github, animal, octopus, custom_\">octocat</span>,\n",
       " <span class=\"name\" data-alternative-name=\"animal\">squirrel</span>,\n",
       " <span class=\"name\" data-alternative-name=\"plant, nature, vegetable, panda\">bamboo</span>,\n",
       " <span class=\"name\" data-alternative-name=\"heart, love, valentines\">gift_heart</span>,\n",
       " <span class=\"name\" data-alternative-name=\"japanese, toy, kimono\">dolls</span>,\n",
       " <span class=\"name\" data-alternative-name=\"student, education, bag\">school_satchel</span>,\n",
       " <span class=\"name\" data-alternative-name=\"edu, university, school, college, degree, graduation, cap, hat, legal, learn, education\">mortar_board</span>,\n",
       " <span class=\"name\" data-alternative-name=\"fish, japanese, koinobori, carp, banner\">flags</span>,\n",
       " <span class=\"name\" data-alternative-name=\"photo, festival, carnival, congratulations\">fireworks</span>,\n",
       " <span class=\"name\" data-alternative-name=\"stars, night, shine\">sparkler</span>,\n",
       " <span class=\"name\" data-alternative-name=\"nature, ding, spring, bell\">wind_chime</span>,\n",
       " <span class=\"name\" data-alternative-name=\"photo, japan, asia, tsukimi\">rice_scene</span>,\n",
       " <span class=\"name\" data-alternative-name=\"halloween, light, pumpkin, creepy, fall\">jack_o_lantern</span>,\n",
       " <span class=\"name\" data-alternative-name=\"boom, halloween, spooky, scary\">ghost</span>,\n",
       " <span class=\"name\" data-alternative-name=\"christmas, festival, man, male, xmas, father christmas\">santa</span>,\n",
       " <span class=\"name\" data-alternative-name=\"festival, vacation, december, xmas, celebration\">christmas_tree</span>,\n",
       " <span class=\"name\" data-alternative-name=\"present, birthday, christmas, xmas\">gift</span>,\n",
       " <span class=\"name\" data-alternative-name=\"sound, notification, christmas, xmas, chime\">bell</span>,\n",
       " <span class=\"name\" data-alternative-name=\"sound, volume, mute, quiet, silent\">no_bell</span>,\n",
       " <span class=\"name\" data-alternative-name=\"plant, nature, branch, summer\">tanabata_tree</span>,\n",
       " <span class=\"name\" data-alternative-name=\"party, contulations, birthday, magic, circus\">tada</span>,\n",
       " <span class=\"name\" data-alternative-name=\"celebration, festival, party, birthday, circus\">confetti_ball</span>,\n",
       " <span class=\"name\" data-alternative-name=\"party, celebration, birthday, circus\">balloon</span>,\n",
       " <span class=\"name\" data-alternative-name=\"disco, party, magic, circus, fortune_teller\">crystal_ball</span>,\n",
       " <span class=\"name\" data-alternative-name=\"technology, dvd, disk, disc, 90s\">cd</span>,\n",
       " <span class=\"name\" data-alternative-name=\"cd, disk, disc\">dvd</span>,\n",
       " <span class=\"name\" data-alternative-name=\"oldschool, technology, save, 90s, 80s\">floppy_disk</span>,\n",
       " <span class=\"name\" data-alternative-name=\"gadgets, photo\">camera</span>,\n",
       " <span class=\"name\" data-alternative-name=\"film, record\">video_camera</span>,\n",
       " <span class=\"name\" data-alternative-name=\"film, record\">movie_camera</span>,\n",
       " <span class=\"name\" data-alternative-name=\"tech, laptop, screen, display, monitor\">computer</span>,\n",
       " <span class=\"name\" data-alternative-name=\"television, technology, program, oldschool, show\">tv</span>,\n",
       " <span class=\"name\" data-alternative-name=\"technology, apple, gadgets, dial\">iphone</span>,\n",
       " <span class=\"name\" data-alternative-name=\"technology, communication, dial, telephone\">phone</span>,\n",
       " <span class=\"name\" data-alternative-name=\"calling\">telephone</span>,\n",
       " <span class=\"name\" data-alternative-name=\"technology, communication, dial\">telephone_receiver</span>,\n",
       " <span class=\"name\" data-alternative-name=\"bbcall, oldschool, 90s\">pager</span>,\n",
       " <span class=\"name\" data-alternative-name=\"communication, technology\">fax</span>,\n",
       " <span class=\"name\" data-alternative-name=\"technology, record, data, disk, 90s\">minidisc</span>,\n",
       " <span class=\"name\" data-alternative-name=\"record, video, oldschool, 90s, 80s\">vhs</span>,\n",
       " <span class=\"name\" data-alternative-name=\"loud, noise, volume, speaker, broadcast\">sound</span>,\n",
       " <span class=\"name\" data-alternative-name=\"sound, volume, silence, broadcast\">speaker</span>,\n",
       " <span class=\"name\" data-alternative-name=\"sound, volume, silence, quiet\">mute</span>,\n",
       " <span class=\"name\" data-alternative-name=\"volume, sound\">loudspeaker</span>,\n",
       " <span class=\"name\" data-alternative-name=\"sound, speaker, volume\">mega</span>,\n",
       " <span class=\"name\" data-alternative-name=\"time, clock, oldschool, limit, exam, quiz, test\">hourglass</span>,\n",
       " <span class=\"name\" data-alternative-name=\"oldschool, time, countdown\">hourglass_flowing_sand</span>,\n",
       " <span class=\"name\" data-alternative-name=\"time, wake\">alarm_clock</span>,\n",
       " <span class=\"name\" data-alternative-name=\"clock, time, accessories\">watch</span>,\n",
       " <span class=\"name\" data-alternative-name=\"communication, music, podcast, program\">radio</span>,\n",
       " <span class=\"name\" data-alternative-name=\"communication, future, radio, space\">satellite</span>,\n",
       " <span class=\"name\" data-alternative-name=\"tape, cassette\">loop</span>,\n",
       " <span class=\"name\" data-alternative-name=\"magnifying, glass, search, zoom, find, detective\">mag</span>,\n",
       " <span class=\"name\" data-alternative-name=\"magnifying, glass, search, zoom, find, detective\">mag_right</span>,\n",
       " <span class=\"name\" data-alternative-name=\"privacy, security\">unlock</span>,\n",
       " <span class=\"name\" data-alternative-name=\"security, password, padlock\">lock</span>,\n",
       " <span class=\"name\" data-alternative-name=\"security, secret\">lock_with_ink_pen</span>,\n",
       " <span class=\"name\" data-alternative-name=\"security, privacy\">closed_lock_with_key</span>,\n",
       " <span class=\"name\" data-alternative-name=\"lock, door, password\">key</span>,\n",
       " <span class=\"name\" data-alternative-name=\"light, electricity, idea\">bulb</span>,\n",
       " <span class=\"name\" data-alternative-name=\"dark, camping, sight, night\">flashlight</span>,\n",
       " <span class=\"name\" data-alternative-name=\"sun, light\">high_brightness</span>,\n",
       " <span class=\"name\" data-alternative-name=\"sun, afternoon, warm, summer\">low_brightness</span>,\n",
       " <span class=\"name\" data-alternative-name=\"charger, power\">electric_plug</span>,\n",
       " <span class=\"name\" data-alternative-name=\"power, energy, sustain\">battery</span>,\n",
       " <span class=\"name\" data-alternative-name=\"iphone, incoming\">calling</span>,\n",
       " <span class=\"name\" data-alternative-name=\"envelope, letter, postal, inbox, communication\">email</span>,\n",
       " <span class=\"name\" data-alternative-name=\"email, inbox, communication\">mailbox</span>,\n",
       " <span class=\"name\" data-alternative-name=\"email, letter, envelope\">postbox</span>,\n",
       " <span class=\"name\" data-alternative-name=\"clean, shower, bathroom\">bath</span>,\n",
       " <span class=\"name\" data-alternative-name=\"clean, shower, bathroom\">bathtub</span>,\n",
       " <span class=\"name\" data-alternative-name=\"water, clean, bathroom\">shower</span>,\n",
       " <span class=\"name\" data-alternative-name=\"restroom, wc, washroom, bathroom, potty\">toilet</span>,\n",
       " <span class=\"name\" data-alternative-name=\"tools, diy, ikea, fix, maintainer\">wrench</span>,\n",
       " <span class=\"name\" data-alternative-name=\"tools, handy, fix\">nut_and_bolt</span>,\n",
       " <span class=\"name\" data-alternative-name=\"tools, verdict, judge, done, law, legal, ruling, gavel\">hammer</span>,\n",
       " <span class=\"name\" data-alternative-name=\"sit, airplane, transport, bus, flight, fly\">seat</span>,\n",
       " <span class=\"name\" data-alternative-name=\"dollar, payment, coins, sale\">moneybag</span>,\n",
       " <span class=\"name\" data-alternative-name=\"bill cash currency money, money, sales, japanese, dollar, currency\">yen</span>,\n",
       " <span class=\"name\" data-alternative-name=\"bill cash currency money, money, sales, bill, currency\">dollar</span>,\n",
       " <span class=\"name\" data-alternative-name=\"bill cash currency money, british, sterling, money, sales, bills, uk, england, currency\">pound</span>,\n",
       " <span class=\"name\" data-alternative-name=\"bill cash currency money, money, sales, dollar, currency\">euro</span>,\n",
       " <span class=\"name\" data-alternative-name=\"money, sales, dollar, bill, payment, shopping\">credit_card</span>,\n",
       " <span class=\"name\" data-alternative-name=\"money, dollar, bills, payment, sale\">money_with_wings</span>,\n",
       " <span class=\"name\" data-alternative-name=\"mail, send, communication, inbox, email\">e-mail</span>,\n",
       " <span class=\"name\" data-alternative-name=\"email, documents\">inbox_tray</span>,\n",
       " <span class=\"name\" data-alternative-name=\"inbox, email\">outbox_tray</span>,\n",
       " <span class=\"name\" data-alternative-name=\"message\">envelope</span>,\n",
       " <span class=\"name\" data-alternative-name=\"email, inbox\">incoming_envelope</span>,\n",
       " <span class=\"name\" data-alternative-name=\"instrument, music\">postal_horn</span>,\n",
       " <span class=\"name\" data-alternative-name=\"email, communication, inbox\">mailbox_closed</span>,\n",
       " <span class=\"name\" data-alternative-name=\"email, inbox, communication\">mailbox_with_mail</span>,\n",
       " <span class=\"name\" data-alternative-name=\"email, inbox\">mailbox_with_no_mail</span>,\n",
       " <span class=\"name\" data-alternative-name=\"box, mail, gift, cardboard, moving\">package</span>,\n",
       " <span class=\"name\" data-alternative-name=\"house, entry, exit\">door</span>,\n",
       " <span class=\"name\" data-alternative-name=\"smoke, kills, tobacco, cigarette, joint\">smoking</span>,\n",
       " <span class=\"name\" data-alternative-name=\"boom, explode, explosion, terrorism\">bomb</span>,\n",
       " <span class=\"name\" data-alternative-name=\"violence, weapon, pistol, revolver\">gun</span>,\n",
       " <span class=\"name\" data-alternative-name=\"knife, blade, cutlery, kitchen, weapon\">hocho</span>,\n",
       " <span class=\"name\" data-alternative-name=\"health, medicine, doctor, pharmacy, drug\">pill</span>,\n",
       " <span class=\"name\" data-alternative-name=\"health, hospital, drugs, blood, medicine, needle, doctor, nurse\">syringe</span>,\n",
       " <span class=\"name\" data-alternative-name=\"documents, office, paper, information\">page_facing_up</span>,\n",
       " <span class=\"name\" data-alternative-name=\"documents, office, paper\">page_with_curl</span>,\n",
       " <span class=\"name\" data-alternative-name=\"favorite, save, order, tidy\">bookmark_tabs</span>,\n",
       " <span class=\"name\" data-alternative-name=\"graph, presentation, stats\">bar_chart</span>,\n",
       " <span class=\"name\" data-alternative-name=\"graph, presenetation, stats, recovery, business, economics, money, sales, good, success\">chart_with_upwards_trend</span>,\n",
       " <span class=\"name\" data-alternative-name=\"graph, presentation, stats, recession, business, economics, money, sales, bad, failure\">chart_with_downwards_trend</span>,\n",
       " <span class=\"name\" data-alternative-name=\"documents, ancient, history, paper\">scroll</span>,\n",
       " <span class=\"name\" data-alternative-name=\"stationery, documents\">clipboard</span>,\n",
       " <span class=\"name\" data-alternative-name=\"schedule, date, planning\">calendar</span>,\n",
       " <span class=\"name\" data-alternative-name=\"calendar, schedule\">date</span>,\n",
       " <span class=\"name\" data-alternative-name=\"business, stationery\">card_index</span>,\n",
       " <span class=\"name\" data-alternative-name=\"documents, business, office\">file_folder</span>,\n",
       " <span class=\"name\" data-alternative-name=\"documents, load\">open_file_folder</span>,\n",
       " <span class=\"name\" data-alternative-name=\"stationery, cut\">scissors</span>,\n",
       " <span class=\"name\" data-alternative-name=\"stationery, mark, here\">pushpin</span>,\n",
       " <span class=\"name\" data-alternative-name=\"documents, stationery\">paperclip</span>,\n",
       " <span class=\"name\" data-alternative-name=\"pen, stationery, writing, write\">black_nib</span>,\n",
       " <span class=\"name\" data-alternative-name=\"stationery, write, paper, writing, school, study\">pencil2</span>,\n",
       " <span class=\"name\" data-alternative-name=\"stationery, calculate, length, math, school, drawing, architect, sketch\">straight_ruler</span>,\n",
       " <span class=\"name\" data-alternative-name=\"stationery, math, architect, sketch\">triangular_ruler</span>,\n",
       " <span class=\"name\" data-alternative-name=\"read, library, knowledge, textbook, learn\">closed_book</span>,\n",
       " <span class=\"name\" data-alternative-name=\"read, library, knowledge, study\">green_book</span>,\n",
       " <span class=\"name\" data-alternative-name=\"read, library, knowledge, learn, study\">blue_book</span>,\n",
       " <span class=\"name\" data-alternative-name=\"read, library, knowledge, textbook, study\">orange_book</span>,\n",
       " <span class=\"name\" data-alternative-name=\"stationery, record, notes, paper, study\">notebook</span>,\n",
       " <span class=\"name\" data-alternative-name=\"classroom, notes, record, paper, study\">notebook_with_decorative_cover</span>,\n",
       " <span class=\"name\" data-alternative-name=\"notes, paper\">ledger</span>,\n",
       " <span class=\"name\" data-alternative-name=\"literature, library, study\">books</span>,\n",
       " <span class=\"name\" data-alternative-name=\"favorite, label, save\">bookmark</span>,\n",
       " <span class=\"name\" data-alternative-name=\"fire, forbid\">name_badge</span>,\n",
       " <span class=\"name\" data-alternative-name=\"laboratory, experiment, zoomin, science, study\">microscope</span>,\n",
       " <span class=\"name\" data-alternative-name=\"stars, space, zoom\">telescope</span>,\n",
       " <span class=\"name\" data-alternative-name=\"press, headline\">newspaper</span>,\n",
       " <span class=\"name\" data-alternative-name=\"sport, sports, balls, NFL\">football</span>,\n",
       " <span class=\"name\" data-alternative-name=\"sport, sports, balls, NBA\">basketball</span>,\n",
       " <span class=\"name\" data-alternative-name=\"sport, sports, balls, football, fifa\">soccer</span>,\n",
       " <span class=\"name\" data-alternative-name=\"sport, sports, balls, MLB\">baseball</span>,\n",
       " <span class=\"name\" data-alternative-name=\"sport, sports, balls, green\">tennis</span>,\n",
       " <span class=\"name\" data-alternative-name=\"magic_ball, pool, hobby, game, luck, magic\">8ball</span>,\n",
       " <span class=\"name\" data-alternative-name=\"sport, sports, team\">rugby_football</span>,\n",
       " <span class=\"name\" data-alternative-name=\"sport, sports, fun, play\">bowling</span>,\n",
       " <span class=\"name\" data-alternative-name=\"sport, sports, business, flag, hole, summer\">golf</span>,\n",
       " <span class=\"name\" data-alternative-name=\"sport, vehicle, transportation, sports, human, race, bike\">mountain_bicyclist</span>,\n",
       " <span class=\"name\" data-alternative-name=\"sport, vehicle, sports, bike, exercise, hipster\">bicyclist</span>,\n",
       " <span class=\"name\" data-alternative-name=\"sport, animal, betting, competition, gambling, luck\">horse_racing</span>,\n",
       " <span class=\"name\" data-alternative-name=\"sport, sports, winter\">snowboarder</span>,\n",
       " <span class=\"name\" data-alternative-name=\"sport, sports, exercise, human, athlete, water, summer\">swimmer</span>,\n",
       " <span class=\"name\" data-alternative-name=\"sport, sports, ocean, sea, summer, beach\">surfer</span>,\n",
       " <span class=\"name\" data-alternative-name=\"sport, sports, winter, cold, snow\">ski</span>,\n",
       " <span class=\"name\" data-alternative-name=\"cards, suit, poker, suits, magic\">spades</span>,\n",
       " <span class=\"name\" data-alternative-name=\"heart, cards, suit, poker, magic, suits\">hearts</span>,\n",
       " <span class=\"name\" data-alternative-name=\"cards, suit, poker, magic, suits\">clubs</span>,\n",
       " <span class=\"name\" data-alternative-name=\"cards, suit, poker, magic, suits\">diamonds</span>,\n",
       " <span class=\"name\" data-alternative-name=\"jewelery, blue, ruby, diamond, jewelry\">gem</span>,\n",
       " <span class=\"name\" data-alternative-name=\"jewelery, wedding, propose, marriage, valentines, diamond, fashion, jewelry, gem\">ring</span>,\n",
       " <span class=\"name\" data-alternative-name=\"win, award, contest, place, ftw, ceremony\">trophy</span>,\n",
       " <span class=\"name\" data-alternative-name=\"treble, clef\">musical_score</span>,\n",
       " <span class=\"name\" data-alternative-name=\"piano, instrument\">musical_keyboard</span>,\n",
       " <span class=\"name\" data-alternative-name=\"music, instrument, orchestra, symphony\">violin</span>,\n",
       " <span class=\"name\" data-alternative-name=\"game, arcade, play\">space_invader</span>,\n",
       " <span class=\"name\" data-alternative-name=\"controller, play, console, PS4\">video_game</span>,\n",
       " <span class=\"name\" data-alternative-name=\"poker, cards, game, play, magic\">black_joker</span>,\n",
       " <span class=\"name\" data-alternative-name=\"floral, game, sunset, red\">flower_playing_cards</span>,\n",
       " <span class=\"name\" data-alternative-name=\"dice, random, tabbletop, play, luck\">game_die</span>,\n",
       " <span class=\"name\" data-alternative-name=\"game, play, bar\">dart</span>,\n",
       " <span class=\"name\" data-alternative-name=\"game, play, chinese, kanji\">mahjong</span>,\n",
       " <span class=\"name\" data-alternative-name=\"movie, film, record\">clapper</span>,\n",
       " <span class=\"name\" data-alternative-name=\"write, documents, stationery, pencil, paper, writing, legal, exam, quiz, test, study\">memo</span>,\n",
       " <span class=\"name\" data-alternative-name=\"write\">pencil</span>,\n",
       " <span class=\"name\" data-alternative-name=\"open_book, read, library, knowledge, literature, learn, study\">book</span>,\n",
       " <span class=\"name\" data-alternative-name=\"design, paint, draw\">art</span>,\n",
       " <span class=\"name\" data-alternative-name=\"sound, music, PA\">microphone</span>,\n",
       " <span class=\"name\" data-alternative-name=\"music, score, gadgets\">headphones</span>,\n",
       " <span class=\"name\" data-alternative-name=\"music, brass\">trumpet</span>,\n",
       " <span class=\"name\" data-alternative-name=\"music, instrument, jazz, blues\">saxophone</span>,\n",
       " <span class=\"name\" data-alternative-name=\"music, instrument\">guitar</span>,\n",
       " <span class=\"name\">shoe</span>,\n",
       " <span class=\"name\" data-alternative-name=\"shoes, fashion, flip flops\">sandal</span>,\n",
       " <span class=\"name\" data-alternative-name=\"fashion, shoes, female, pumps, stiletto\">high_heel</span>,\n",
       " <span class=\"name\" data-alternative-name=\"female, girl, fashion, woman\">lipstick</span>,\n",
       " <span class=\"name\" data-alternative-name=\"shoes, fashion\">boot</span>,\n",
       " <span class=\"name\" data-alternative-name=\"fashion, cloth,formal\">shirt</span>,\n",
       " <span class=\"name\" data-alternative-name=\"fashion, cloth, casual,tee\">tshirt</span>,\n",
       " <span class=\"name\" data-alternative-name=\"shirt, suitup, formal, fashion, cloth, business\">necktie</span>,\n",
       " <span class=\"name\" data-alternative-name=\"fashion, shopping, female\">womans_clothes</span>,\n",
       " <span class=\"name\" data-alternative-name=\"clothes, fashion, shopping\">dress</span>,\n",
       " <span class=\"name\" data-alternative-name=\"play, pageant\">running_shirt_with_sash</span>,\n",
       " <span class=\"name\" data-alternative-name=\"fashion, shopping\">jeans</span>,\n",
       " <span class=\"name\" data-alternative-name=\"dress, fashion, women, female, japanese\">kimono</span>,\n",
       " <span class=\"name\" data-alternative-name=\"swimming, female, woman, girl, fashion, beach, summer\">bikini</span>,\n",
       " <span class=\"name\" data-alternative-name=\"decoration, pink, girl, bowtie\">ribbon</span>,\n",
       " <span class=\"name\" data-alternative-name=\"magic, gentleman, classy, circus\">tophat</span>,\n",
       " <span class=\"name\" data-alternative-name=\"king, kod, leader, royalty, lord\">crown</span>,\n",
       " <span class=\"name\" data-alternative-name=\"fashion, accessories, female, lady, spring\">womans_hat</span>,\n",
       " <span class=\"name\" data-alternative-name=\"fashion, male\">mans_shoe</span>,\n",
       " <span class=\"name\" data-alternative-name=\"weather, rain, drizzle\">closed_umbrella</span>,\n",
       " <span class=\"name\" data-alternative-name=\"business, documents, work, law, legal\">briefcase</span>,\n",
       " <span class=\"name\" data-alternative-name=\"fashion, accessory, accessories, shopping\">handbag</span>,\n",
       " <span class=\"name\" data-alternative-name=\"bag, accessories, shopping\">pouch</span>,\n",
       " <span class=\"name\" data-alternative-name=\"pocketbook, fashion, accessories, money, sales, shopping\">purse</span>,\n",
       " <span class=\"name\" data-alternative-name=\"fashion, accessories, eyesight, nerd, dork, geek\">eyeglasses</span>,\n",
       " <span class=\"name\" data-alternative-name=\"food, hobby, summer\">fishing_pole_and_fish</span>,\n",
       " <span class=\"name\" data-alternative-name=\"drink, beverage, cafe, espresso\">coffee</span>,\n",
       " <span class=\"name\" data-alternative-name=\"drink, bowl, breakfast, green, british\">tea</span>,\n",
       " <span class=\"name\" data-alternative-name=\"drink alcohol, wine, drink, drunk, beverage, japanese, alcohol, booze\">sake</span>,\n",
       " <span class=\"name\" data-alternative-name=\"food, container, milk\">baby_bottle</span>,\n",
       " <span class=\"name\" data-alternative-name=\"drink alcohol, relax, beverage, drink, drunk, party, pub, summer, alcohol, booze\">beer</span>,\n",
       " <span class=\"name\" data-alternative-name=\"drink alcohol, relax, beverage, drink, drunk, party, pub, summer, alcohol, booze\">beers</span>,\n",
       " <span class=\"name\" data-alternative-name=\"drink alcohol, drink, drunk, alcohol, beverage, booze\">cocktail</span>,\n",
       " <span class=\"name\" data-alternative-name=\"beverage, cocktail, summer, beach, alcohol, booze\">tropical_drink</span>,\n",
       " <span class=\"name\" data-alternative-name=\"drink alcohol, drink, beverage, drunk, alcohol, booze\">wine_glass</span>,\n",
       " <span class=\"name\" data-alternative-name=\"cutlery, kitchen\">fork_and_knife</span>,\n",
       " <span class=\"name\" data-alternative-name=\"food, italian dairy, party\">pizza</span>,\n",
       " <span class=\"name\" data-alternative-name=\"food, american meat, meat, fast food, beef, cheeseburger, mcdonalds, burger king\">hamburger</span>,\n",
       " <span class=\"name\" data-alternative-name=\"food, american, chips, snack, fast food\">fries</span>,\n",
       " <span class=\"name\" data-alternative-name=\"food, meat, drumstick, bird, chicken, turkey\">poultry_leg</span>,\n",
       " <span class=\"name\" data-alternative-name=\"food, meat, good, drumstick\">meat_on_bone</span>,\n",
       " <span class=\"name\" data-alternative-name=\"food, italian noodles, italian, noodle\">spaghetti</span>,\n",
       " <span class=\"name\" data-alternative-name=\"food, indian, spicy, hot\">curry</span>,\n",
       " <span class=\"name\" data-alternative-name=\"food, seafood, animal, appetizer, summer\">fried_shrimp</span>,\n",
       " <span class=\"name\" data-alternative-name=\"food, japanese, box\">bento</span>,\n",
       " <span class=\"name\" data-alternative-name=\"food, japanese, fish, rice\">sushi</span>,\n",
       " <span class=\"name\" data-alternative-name=\"food, japanese seafood, naruto, japan, sea, beach\">fish_cake</span>,\n",
       " <span class=\"name\" data-alternative-name=\"food, japanese\">rice_ball</span>,\n",
       " <span class=\"name\" data-alternative-name=\"food, japanese\">rice_cracker</span>,\n",
       " <span class=\"name\" data-alternative-name=\"food, china, asian\">rice</span>,\n",
       " <span class=\"name\" data-alternative-name=\"food noodles, food, japanese, noodle, chipsticks\">ramen</span>,\n",
       " <span class=\"name\" data-alternative-name=\"food, meat, soup\">stew</span>,\n",
       " <span class=\"name\" data-alternative-name=\"food, japanese\">oden</span>,\n",
       " <span class=\"name\" data-alternative-name=\"food, japanese, barbecue, meat\">dango</span>,\n",
       " <span class=\"name\" data-alternative-name=\"food,, food, breakfast, kitchen\">egg</span>,\n",
       " <span class=\"name\" data-alternative-name=\"food,, food, wheat, breakfast, toast\">bread</span>,\n",
       " <span class=\"name\" data-alternative-name=\"food, dessert, snack, sweet, donut\">doughnut</span>,\n",
       " <span class=\"name\" data-alternative-name=\"food, dessert\">custard</span>,\n",
       " <span class=\"name\" data-alternative-name=\"food, dessert, hot, summer\">icecream</span>,\n",
       " <span class=\"name\" data-alternative-name=\"food, dessert, hot\">ice_cream</span>,\n",
       " <span class=\"name\" data-alternative-name=\"food, dessert, hot, summer\">shaved_ice</span>,\n",
       " <span class=\"name\" data-alternative-name=\"party, cake, celebration\">birthday</span>,\n",
       " <span class=\"name\" data-alternative-name=\"food, dessert\">cake</span>,\n",
       " <span class=\"name\" data-alternative-name=\"food, dessert, snack, oreo, chocolate, sweet\">cookie</span>,\n",
       " <span class=\"name\" data-alternative-name=\"food, dessert, snack, sweet\">chocolate_bar</span>,\n",
       " <span class=\"name\" data-alternative-name=\"food, dessert, snack, sweet\">candy</span>,\n",
       " <span class=\"name\" data-alternative-name=\"food, dessert, snack, candy, sweet\">lollipop</span>,\n",
       " <span class=\"name\" data-alternative-name=\"food, dessert, bees, sweet, kitchen\">honey_pot</span>,\n",
       " <span class=\"name\" data-alternative-name=\"food, fruit, mac, school\">apple</span>,\n",
       " <span class=\"name\" data-alternative-name=\"food, fruit, nature\">green_apple</span>,\n",
       " <span class=\"name\" data-alternative-name=\"food, fruit, nature\">tangerine</span>,\n",
       " <span class=\"name\" data-alternative-name=\"food, fruit, nature\">lemon</span>,\n",
       " <span class=\"name\" data-alternative-name=\"food, fruit\">cherries</span>,\n",
       " <span class=\"name\" data-alternative-name=\"food, fruit, wine\">grapes</span>,\n",
       " <span class=\"name\" data-alternative-name=\"food, fruit, picnic, summer\">watermelon</span>,\n",
       " <span class=\"name\" data-alternative-name=\"food, fruit, nature\">strawberry</span>,\n",
       " <span class=\"name\" data-alternative-name=\"food, fruit, nature\">peach</span>,\n",
       " <span class=\"name\" data-alternative-name=\"food, fruit, nature\">melon</span>,\n",
       " <span class=\"name\" data-alternative-name=\"food, fruit, monkey\">banana</span>,\n",
       " <span class=\"name\" data-alternative-name=\"food, fruit, nature\">pear</span>,\n",
       " <span class=\"name\" data-alternative-name=\"food, fruit, nature\">pineapple</span>,\n",
       " <span class=\"name\" data-alternative-name=\"food, vegetable, nature\">sweet_potato</span>,\n",
       " <span class=\"name\" data-alternative-name=\"food, vegetable, nature, aubergine\">eggplant</span>,\n",
       " <span class=\"name\" data-alternative-name=\"food, fruit, vegetable, nature\">tomato</span>,\n",
       " <span class=\"name\" data-alternative-name=\"food, vegetable, plant\">corn</span>,\n",
       " <span class=\"name\" data-alternative-name=\"building, home\">house</span>,\n",
       " <span class=\"name\" data-alternative-name=\"building, home, plant, nature\">house_with_garden</span>,\n",
       " <span class=\"name\" data-alternative-name=\"building, student, education, learn, teach\">school</span>,\n",
       " <span class=\"name\" data-alternative-name=\"building, unit, bureau, work\">office</span>,\n",
       " <span class=\"name\" data-alternative-name=\"building, email, communication\">post_office</span>,\n",
       " <span class=\"name\" data-alternative-name=\"building, health, surgery, doctor\">hospital</span>,\n",
       " <span class=\"name\" data-alternative-name=\"building, money, sales, cash, business, enterprise\">bank</span>,\n",
       " <span class=\"name\" data-alternative-name=\"building, shopping, groceries\">convenience_store</span>,\n",
       " <span class=\"name\" data-alternative-name=\"building, like, affection, dating\">love_hotel</span>,\n",
       " <span class=\"name\" data-alternative-name=\"building, whotel, accomodation, checkin\">hotel</span>,\n",
       " <span class=\"name\" data-alternative-name=\"building, love, like, affection, couple, marriage, bride, groom, church, heart\">wedding</span>,\n",
       " <span class=\"name\" data-alternative-name=\"building, religion, christ\">church</span>,\n",
       " <span class=\"name\" data-alternative-name=\"building, shopping, mall\">department_store</span>,\n",
       " <span class=\"name\" data-alternative-name=\"building, email\">european_post_office</span>,\n",
       " <span class=\"name\" data-alternative-name=\"photo, good morning, dawn\">city_sunrise</span>,\n",
       " <span class=\"name\" data-alternative-name=\"photo, evening, sky, buildings\">city_sunset</span>,\n",
       " <span class=\"name\" data-alternative-name=\"photo, building, asia\">japanese_castle</span>,\n",
       " <span class=\"name\" data-alternative-name=\"building, royalty, history\">european_castle</span>,\n",
       " <span class=\"name\" data-alternative-name=\"camping, photo, camp, outdoors\">tent</span>,\n",
       " <span class=\"name\" data-alternative-name=\"building, industry, pollution, smoke\">factory</span>,\n",
       " <span class=\"name\" data-alternative-name=\"photo, japanese, asia\">tokyo_tower</span>,\n",
       " <span class=\"name\" data-alternative-name=\"nation, country, japanese, asia, island\">japan</span>,\n",
       " <span class=\"name\" data-alternative-name=\"photo, mountain, nature, japanese\">mount_fuji</span>,\n",
       " <span class=\"name\" data-alternative-name=\"view, vacation, photo\">sunrise_over_mountains</span>,\n",
       " <span class=\"name\" data-alternative-name=\"morning, view, vacation, photo\">sunrise</span>,\n",
       " <span class=\"name\" data-alternative-name=\"night, photo, falling, sky, bright\">stars</span>,\n",
       " <span class=\"name\" data-alternative-name=\"american, newyork, monument, head\">statue_of_liberty</span>,\n",
       " <span class=\"name\" data-alternative-name=\"photo, sanfrancisco\">bridge_at_night</span>,\n",
       " <span class=\"name\" data-alternative-name=\"photo, carnival, ride\">carousel_horse</span>,\n",
       " <span class=\"name\" data-alternative-name=\"nature, happy, unicorn, photo, sky, spring, color\">rainbow</span>,\n",
       " <span class=\"name\" data-alternative-name=\"photo, carnival, londoneye\">ferris_wheel</span>,\n",
       " <span class=\"name\" data-alternative-name=\"photo, summer, water, fresh\">fountain</span>,\n",
       " <span class=\"name\" data-alternative-name=\"carnival, playground, photo, ride, fun\">roller_coaster</span>,\n",
       " <span class=\"name\" data-alternative-name=\"vehicle, transportation, titanic, deploy, cruise\">ship</span>,\n",
       " <span class=\"name\" data-alternative-name=\"vehicle, ship, transportation, summer\">speedboat</span>,\n",
       " <span class=\"name\" data-alternative-name=\"vehicle, ship, summer, transportation, water, sailing, sailboat\">boat</span>,\n",
       " <span class=\"name\" data-alternative-name=\"vehicle\">sailboat</span>,\n",
       " <span class=\"name\" data-alternative-name=\"vehicle, sports, hobby, water, ship\">rowboat</span>,\n",
       " <span class=\"name\" data-alternative-name=\"ship, ferry, sea, boat\">anchor</span>,\n",
       " <span class=\"name\" data-alternative-name=\"launch, ship, staffmode, NASA, outer space, outer_space, fly\">rocket</span>,\n",
       " <span class=\"name\" data-alternative-name=\"vehicle, transportation, flight, fly\">airplane</span>,\n",
       " <span class=\"name\" data-alternative-name=\"vehicle, transportation, fly\">helicopter</span>,\n",
       " <span class=\"name\" data-alternative-name=\"vehicle, transportation, train\">steam_locomotive</span>,\n",
       " <span class=\"name\" data-alternative-name=\"vehicle, transportation\">tram</span>,\n",
       " <span class=\"name\" data-alternative-name=\"vehicle, transportation\">mountain_railway</span>,\n",
       " <span class=\"name\" data-alternative-name=\"vehicle, sports, bicycle, exercise, hipster\">bike</span>,\n",
       " <span class=\"name\" data-alternative-name=\"vehicle, transportation, ski\">aerial_tramway</span>,\n",
       " <span class=\"name\" data-alternative-name=\"vehicle, transportation\">suspension_railway</span>,\n",
       " <span class=\"name\" data-alternative-name=\"vehicle, transportation, ski\">mountain_cableway</span>,\n",
       " <span class=\"name\" data-alternative-name=\"vehicle, car, farming, agriculture\">tractor</span>,\n",
       " <span class=\"name\" data-alternative-name=\"vehicle, transportation\">blue_car</span>,\n",
       " <span class=\"name\" data-alternative-name=\"vehicle, car, transportation\">oncoming_automobile</span>,\n",
       " <span class=\"name\" data-alternative-name=\"vehicle, car, red, transportation\">car</span>,\n",
       " <span class=\"name\" data-alternative-name=\"vehicle\">red_car</span>,\n",
       " <span class=\"name\" data-alternative-name=\"vehicle, car, uber, cars, transportation\">taxi</span>,\n",
       " <span class=\"name\" data-alternative-name=\"vehicle, car, cars, uber\">oncoming_taxi</span>,\n",
       " <span class=\"name\" data-alternative-name=\"vehicle, cars, transportation, express\">articulated_lorry</span>,\n",
       " <span class=\"name\" data-alternative-name=\"vehicle, car, transportation\">bus</span>,\n",
       " <span class=\"name\" data-alternative-name=\"vehicle, transportation\">oncoming_bus</span>,\n",
       " <span class=\"name\" data-alternative-name=\"police, ambulance, 911, emergency, alert, error, pinged, law, legal\">rotating_light</span>,\n",
       " <span class=\"name\" data-alternative-name=\"vehicle, cars, transportation, law, legal, enforcement\">police_car</span>,\n",
       " <span class=\"name\" data-alternative-name=\"vehicle, law, legal, enforcement, 911\">oncoming_police_car</span>,\n",
       " <span class=\"name\" data-alternative-name=\"vehicle, transportation, cars\">fire_engine</span>,\n",
       " <span class=\"name\" data-alternative-name=\"vehicle, health, 911, hospital\">ambulance</span>,\n",
       " <span class=\"name\" data-alternative-name=\"vehicle, car, transportation\">minibus</span>,\n",
       " <span class=\"name\" data-alternative-name=\"vehicle, cars, transportation\">truck</span>,\n",
       " <span class=\"name\" data-alternative-name=\"vehicle, transportation, carriage, public, travel\">train</span>,\n",
       " <span class=\"name\" data-alternative-name=\"transportation, vehicle, public\">station</span>,\n",
       " <span class=\"name\" data-alternative-name=\"vehicle, transportation\">train2</span>,\n",
       " <span class=\"name\" data-alternative-name=\"vehicle, transportation, speed, fast, public, travel\">bullettrain_front</span>,\n",
       " <span class=\"name\" data-alternative-name=\"vehicle, transportation\">bullettrain_side</span>,\n",
       " <span class=\"name\" data-alternative-name=\"vehicle, transportation\">light_rail</span>,\n",
       " <span class=\"name\" data-alternative-name=\"vehicle, transportation\">monorail</span>,\n",
       " <span class=\"name\" data-alternative-name=\"vehicle, transportation\">railway_car</span>,\n",
       " <span class=\"name\" data-alternative-name=\"vehicle, bart, transportation\">trolleybus</span>,\n",
       " <span class=\"name\" data-alternative-name=\"event, concert, pass\">ticket</span>,\n",
       " <span class=\"name\" data-alternative-name=\"gas station, petroleum\">fuelpump</span>,\n",
       " <span class=\"name\" data-alternative-name=\"transportation, driving\">vertical_traffic_light</span>,\n",
       " <span class=\"name\" data-alternative-name=\"stoplight, transportation, signal\">traffic_light</span>,\n",
       " <span class=\"name\" data-alternative-name=\"exclamation, wip, alert, error, problem, issue\">warning</span>,\n",
       " <span class=\"name\" data-alternative-name=\"wip, progress, caution, warning\">construction</span>,\n",
       " <span class=\"name\" data-alternative-name=\"badge, shield\">beginner</span>,\n",
       " <span class=\"name\" data-alternative-name=\"money, sales, cash, blue-square, payment, bank\">atm</span>,\n",
       " <span class=\"name\" data-alternative-name=\"bet, gamble, vegas, fruit machine, luck, casino\">slot_machine</span>,\n",
       " <span class=\"name\" data-alternative-name=\"transportation, wait\">busstop</span>,\n",
       " <span class=\"name\" data-alternative-name=\"hair, salon, style\">barber</span>,\n",
       " <span class=\"name\" data-alternative-name=\"bath, warm, relax\">hotsprings</span>,\n",
       " <span class=\"name\" data-alternative-name=\"contest, finishline, rase, gokart\">checkered_flag</span>,\n",
       " <span class=\"name\" data-alternative-name=\"japanese, nation, country, border\">crossed_flags</span>,\n",
       " <span class=\"name\" data-alternative-name=\"light, paper, halloween, spooky\">izakaya_lantern</span>,\n",
       " <span class=\"name\" data-alternative-name=\"stone, easter island, beach, statue\">moyai</span>,\n",
       " <span class=\"name\" data-alternative-name=\"festival, carnival, party\">circus_tent</span>,\n",
       " <span class=\"name\" data-alternative-name=\"acting, theater, drama\">performing_arts</span>,\n",
       " <span class=\"name\" data-alternative-name=\"stationery, location, map, here\">round_pushpin</span>,\n",
       " <span class=\"name\" data-alternative-name=\"mark, milestone, place\">triangular_flag_on_post</span>,\n",
       " <span class=\"name\" data-alternative-name=\"japan, nippon, nihon, japanese, nation, flag, country, banner\">jp</span>,\n",
       " <span class=\"name\" data-alternative-name=\"korea, hanguk, nation, flag, country, banner\">kr</span>,\n",
       " <span class=\"name\" data-alternative-name=\"china, prc, chinese, flag, country, nation, banner\">cn</span>,\n",
       " <span class=\"name\" data-alternative-name=\"usa, america, united states, nation, flag, american, country, banner\">us</span>,\n",
       " <span class=\"name\" data-alternative-name=\"france, banner, flag, nation, french, country\">fr</span>,\n",
       " <span class=\"name\" data-alternative-name=\"spain, espana, flag, nation, country, banner\">es</span>,\n",
       " <span class=\"name\" data-alternative-name=\"italy, italia, flag, nation, country, banner\">it</span>,\n",
       " <span class=\"name\" data-alternative-name=\"russia, russian, nation, flag, country, banner\">ru</span>,\n",
       " <span class=\"name\" data-alternative-name=\"great britain, united kingdom, banner, nation, flag, british, UK, country, english, england, union jack\">gb</span>,\n",
       " <span class=\"name\" data-alternative-name=\"great britain, united kingdom\">uk</span>,\n",
       " <span class=\"name\" data-alternative-name=\"germany, deutschland, german, nation, flag, country, banner\">de</span>,\n",
       " <span class=\"name\" data-alternative-name=\"1, blue-square, numbers\">one</span>,\n",
       " <span class=\"name\" data-alternative-name=\"2, numbers, prime, blue-square\">two</span>,\n",
       " <span class=\"name\" data-alternative-name=\"3, numbers, prime, blue-square\">three</span>,\n",
       " <span class=\"name\" data-alternative-name=\"4, numbers, blue-square\">four</span>,\n",
       " <span class=\"name\" data-alternative-name=\"5, numbers, blue-square, prime\">five</span>,\n",
       " <span class=\"name\" data-alternative-name=\"6, numbers, blue-square\">six</span>,\n",
       " <span class=\"name\" data-alternative-name=\"7, numbers, blue-square, prime\">seven</span>,\n",
       " <span class=\"name\" data-alternative-name=\"8, blue-square, numbers\">eight</span>,\n",
       " <span class=\"name\" data-alternative-name=\"9, blue-square, numbers\">nine</span>,\n",
       " <span class=\"name\" data-alternative-name=\"10, numbers, blue-square\">keycap_ten</span>,\n",
       " <span class=\"name\" data-alternative-name=\"numbers, blue-square\">1234</span>,\n",
       " <span class=\"name\" data-alternative-name=\"0, numbers, blue-square, null\">zero</span>,\n",
       " <span class=\"name\" data-alternative-name=\"symbol, blue-square, twitter\">hash</span>,\n",
       " <span class=\"name\" data-alternative-name=\"blue-square, music, note, ampersand, percent, glyphs, characters\">symbols</span>,\n",
       " <span class=\"name\" data-alternative-name=\"left, blue-square, direction\">arrow_backward</span>,\n",
       " <span class=\"name\" data-alternative-name=\"blue-square, direction, bottom\">arrow_down</span>,\n",
       " <span class=\"name\" data-alternative-name=\"right, blue-square, direction\">arrow_forward</span>,\n",
       " <span class=\"name\" data-alternative-name=\"blue-square, previous, back\">arrow_left</span>,\n",
       " <span class=\"name\" data-alternative-name=\"alphabet, words, blue-square\">capital_abcd</span>,\n",
       " <span class=\"name\" data-alternative-name=\"blue-square, alphabet\">abcd</span>,\n",
       " <span class=\"name\" data-alternative-name=\"blue-square, alphabet\">abc</span>,\n",
       " <span class=\"name\" data-alternative-name=\"blue-square, direction\">arrow_lower_left</span>,\n",
       " <span class=\"name\" data-alternative-name=\"blue-square, direction\">arrow_lower_right</span>,\n",
       " <span class=\"name\" data-alternative-name=\"blue-square, next\">arrow_right</span>,\n",
       " <span class=\"name\" data-alternative-name=\"blue-square, continue, top, direction\">arrow_up</span>,\n",
       " <span class=\"name\" data-alternative-name=\"blue-square, point, direction\">arrow_upper_left</span>,\n",
       " <span class=\"name\" data-alternative-name=\"blue-square, point, direction\">arrow_upper_right</span>,\n",
       " <span class=\"name\" data-alternative-name=\"blue-square, direction, bottom\">arrow_double_down</span>,\n",
       " <span class=\"name\" data-alternative-name=\"blue-square, direction, top\">arrow_double_up</span>,\n",
       " <span class=\"name\" data-alternative-name=\"blue-square, direction, bottom\">arrow_down_small</span>,\n",
       " <span class=\"name\" data-alternative-name=\"blue-square, direction, bottom\">arrow_heading_down</span>,\n",
       " <span class=\"name\" data-alternative-name=\"blue-square, direction, top\">arrow_heading_up</span>,\n",
       " <span class=\"name\" data-alternative-name=\"back, return, blue-square, undo\">leftwards_arrow_with_hook</span>,\n",
       " <span class=\"name\" data-alternative-name=\"blue-square, return, rotade, direction\">arrow_right_hook</span>,\n",
       " <span class=\"name\" data-alternative-name=\"shape, direction\">left_right_arrow</span>,\n",
       " <span class=\"name\" data-alternative-name=\"blue-square, direction, way\">arrow_up_down</span>,\n",
       " <span class=\"name\" data-alternative-name=\"blue-square, triangle, direction, point, forward, top\">arrow_up_small</span>,\n",
       " <span class=\"name\" data-alternative-name=\"sync, cycle, round, repeat\">arrows_clockwise</span>,\n",
       " <span class=\"name\" data-alternative-name=\"blue-square, sync, cycle\">arrows_counterclockwise</span>,\n",
       " <span class=\"name\" data-alternative-name=\"play, blue-square\">rewind</span>,\n",
       " <span class=\"name\" data-alternative-name=\"blue-square, play, speed, continue\">fast_forward</span>,\n",
       " <span class=\"name\" data-alternative-name=\"blue-square, alphabet, letter\">information_source</span>,\n",
       " <span class=\"name\" data-alternative-name=\"good, agree, yes, blue-square\">ok</span>,\n",
       " <span class=\"name\" data-alternative-name=\"blue-square, shuffle, music, random\">twisted_rightwards_arrows</span>,\n",
       " <span class=\"name\" data-alternative-name=\"loop, record\">repeat</span>,\n",
       " <span class=\"name\" data-alternative-name=\"blue-square, loop\">repeat_one</span>,\n",
       " <span class=\"name\" data-alternative-name=\"blue-square, words, start\">new</span>,\n",
       " <span class=\"name\" data-alternative-name=\"words, blue-square\">top</span>,\n",
       " <span class=\"name\" data-alternative-name=\"blue-square, above, high\">up</span>,\n",
       " <span class=\"name\" data-alternative-name=\"words, blue-square\">cool</span>,\n",
       " <span class=\"name\" data-alternative-name=\"blue-square, words\">free</span>,\n",
       " <span class=\"name\" data-alternative-name=\"blue-square, words, shape, icon\">ng</span>,\n",
       " <span class=\"name\" data-alternative-name=\"movie, blue-square, record, film\">cinema</span>,\n",
       " <span class=\"name\" data-alternative-name=\"blue-square, here, katakana, japanese, destination\">koko</span>,\n",
       " <span class=\"name\" data-alternative-name=\"blue-square, reception, phone, internet, connection, wifi, bluetooth\">signal_strength</span>,\n",
       " <span class=\"name\" data-alternative-name=\"wari, cut, divide, chinese, kanji, pink-square\">u5272</span>,\n",
       " <span class=\"name\" data-alternative-name=\"japanese, chinese, join, kanji, red-square\">u5408</span>,\n",
       " <span class=\"name\" data-alternative-name=\"ying, japanese, opening hours, orange-square\">u55b6</span>,\n",
       " <span class=\"name\" data-alternative-name=\"zhǐ, zhi, chinese, point, green-square, kanji\">u6307</span>,\n",
       " <span class=\"name\" data-alternative-name=\"yuè, yue, chinese, month, moon, japanese, orange-square, kanji\">u6708</span>,\n",
       " <span class=\"name\" data-alternative-name=\"yǒu, you, orange-square, chinese, have, kanji\">u6709</span>,\n",
       " <span class=\"name\" data-alternative-name=\"mitsuru, full, chinese, japanese, red-square, kanji\">u6e80</span>,\n",
       " <span class=\"name\" data-alternative-name=\"wú, wu, nothing, chinese, kanji, japanese, orange-square\">u7121</span>,\n",
       " <span class=\"name\" data-alternative-name=\"shēn, shen, chinese, japanese, kanji, orange-square\">u7533</span>,\n",
       " <span class=\"name\" data-alternative-name=\"kōng, kong, kanji, japanese, chinese, empty, sky, blue-square\">u7a7a</span>,\n",
       " <span class=\"name\" data-alternative-name=\"jìn, jin, kanji, japanese, chinese, forbidden, limit, restricted, red-square\">u7981</span>,\n",
       " <span class=\"name\" data-alternative-name=\"japanese, blue-square, katakana\">sa</span>,\n",
       " <span class=\"name\" data-alternative-name=\"blue-square, toilet, refresh, wc, gender\">restroom</span>,\n",
       " <span class=\"name\" data-alternative-name=\"toilet, restroom, wc, blue-square, gender, male\">mens</span>,\n",
       " <span class=\"name\" data-alternative-name=\"purple-square, woman, female, toilet, loo, restroom, gender\">womens</span>,\n",
       " <span class=\"name\" data-alternative-name=\"orange-square, child\">baby_symbol</span>,\n",
       " <span class=\"name\" data-alternative-name=\"cigarette, blue-square, smell, smoke\">no_smoking</span>,\n",
       " <span class=\"name\" data-alternative-name=\"cars, blue-square, alphabet, letter\">parking</span>,\n",
       " <span class=\"name\" data-alternative-name=\"blue-square, disabled, a11y, accessibility\">wheelchair</span>,\n",
       " <span class=\"name\" data-alternative-name=\"transportation, blue-square, mrt, underground, tube\">metro</span>,\n",
       " <span class=\"name\" data-alternative-name=\"blue-square, airport, transport\">baggage_claim</span>,\n",
       " <span class=\"name\" data-alternative-name=\"ok, good, chinese, kanji, agree, yes, orange-circle\">accept</span>,\n",
       " <span class=\"name\" data-alternative-name=\"toilet, restroom, blue-square\">wc</span>,\n",
       " <span class=\"name\" data-alternative-name=\"blue-square, liquid, restroom, cleaning, faucet\">potable_water</span>,\n",
       " <span class=\"name\" data-alternative-name=\"blue-square, sign, human, info\">put_litter_in_its_place</span>,\n",
       " <span class=\"name\" data-alternative-name=\"privacy, chinese, sshh, kanji, red-circle\">secret</span>,\n",
       " <span class=\"name\" data-alternative-name=\"chinese, kanji, japanese, red-circle\">congratulations</span>,\n",
       " <span class=\"name\" data-alternative-name=\"alphabet, blue-circle, letter\">m</span>,\n",
       " <span class=\"name\" data-alternative-name=\"custom, blue-square\">passport_control</span>,\n",
       " <span class=\"name\" data-alternative-name=\"blue-square, travel\">left_luggage</span>,\n",
       " <span class=\"name\" data-alternative-name=\"passport, border, blue-square\">customs</span>,\n",
       " <span class=\"name\" data-alternative-name=\"chinese, kanji, obtain, get, circle\">ideograph_advantage</span>,\n",
       " <span class=\"name\" data-alternative-name=\"alphabet, words, red-square\">cl</span>,\n",
       " <span class=\"name\" data-alternative-name=\"help, red-square, words, emergency, 911\">sos</span>,\n",
       " <span class=\"name\" data-alternative-name=\"purple-square, words\">id</span>,\n",
       " <span class=\"name\" data-alternative-name=\"forbid, stop, limit, denied, disallow, circle\">no_entry_sign</span>,\n",
       " <span class=\"name\" data-alternative-name=\"18, drink, pub, night, minor, circle\">underage</span>,\n",
       " <span class=\"name\" data-alternative-name=\"iphone, mute, circle\">no_mobile_phones</span>,\n",
       " <span class=\"name\" data-alternative-name=\"trash, bin, garbage, circle\">do_not_litter</span>,\n",
       " <span class=\"name\" data-alternative-name=\"drink, faucet, tap, circle\">non-potable_water</span>,\n",
       " <span class=\"name\" data-alternative-name=\"cyclist, prohibited, circle\">no_bicycles</span>,\n",
       " <span class=\"name\" data-alternative-name=\"rules, crossing, walking, circle\">no_pedestrians</span>,\n",
       " <span class=\"name\" data-alternative-name=\"school, warning, danger, sign, driving, yellow-diamond\">children_crossing</span>,\n",
       " <span class=\"name\" data-alternative-name=\"limit, security, privacy, bad, denied, stop, circle\">no_entry</span>,\n",
       " <span class=\"name\" data-alternative-name=\"star, sparkle, green-square\">eight_spoked_asterisk</span>,\n",
       " <span class=\"name\" data-alternative-name=\"stars, green-square, awesome, good, fireworks\">sparkle</span>,\n",
       " <span class=\"name\" data-alternative-name=\"orange-square, shape, polygon\">eight_pointed_black_star</span>,\n",
       " <span class=\"name\" data-alternative-name=\"heart, purple-square, love, like\">heart_decoration</span>,\n",
       " <span class=\"name\" data-alternative-name=\"words, orange-square\">vs</span>,\n",
       " <span class=\"name\" data-alternative-name=\"orange-square, phone\">vibration_mode</span>,\n",
       " <span class=\"name\" data-alternative-name=\"mute, orange-square, silence, quiet\">mobile_phone_off</span>,\n",
       " <span class=\"name\" data-alternative-name=\"yen, green-square, graph, presentation, stats\">chart</span>,\n",
       " <span class=\"name\" data-alternative-name=\"money, sales, dollar, travel\">currency_exchange</span>,\n",
       " <span class=\"name\" data-alternative-name=\"zodiac, sign, purple-square, astrology\">aries</span>,\n",
       " <span class=\"name\" data-alternative-name=\"zodiac, purple-square, sign, astrology\">taurus</span>,\n",
       " <span class=\"name\" data-alternative-name=\"zodiac, sign, purple-square, astrology\">gemini</span>,\n",
       " <span class=\"name\" data-alternative-name=\"zodiac, sign, purple-square, astrology\">cancer</span>,\n",
       " <span class=\"name\" data-alternative-name=\"zodiac, sign, purple-square, astrology\">leo</span>,\n",
       " <span class=\"name\" data-alternative-name=\"zodiac, sign, purple-square, astrology\">virgo</span>,\n",
       " <span class=\"name\" data-alternative-name=\"zodiac, sign, purple-square, astrology\">libra</span>,\n",
       " <span class=\"name\" data-alternative-name=\"zodiac, sign, purple-square, astrology, scorpio\">scorpius</span>,\n",
       " <span class=\"name\" data-alternative-name=\"zodiac, sign, purple-square, astrology\">sagittarius</span>,\n",
       " <span class=\"name\" data-alternative-name=\"zodiac, sign, purple-square, astrology\">capricorn</span>,\n",
       " <span class=\"name\" data-alternative-name=\"zodiac, sign, purple-square, astrology\">aquarius</span>,\n",
       " <span class=\"name\" data-alternative-name=\"zodiac, purple-square, sign, astrology\">pisces</span>,\n",
       " <span class=\"name\" data-alternative-name=\"zodiac, sign, purple-square, constellation, astrology\">ophiuchus</span>,\n",
       " <span class=\"name\" data-alternative-name=\"purple-square, religion, jewish, hexagram\">six_pointed_star</span>,\n",
       " <span class=\"name\" data-alternative-name=\"x, green-square, no, deny\">negative_squared_cross_mark</span>,\n",
       " <span class=\"name\" data-alternative-name=\"red-square, alphabet, letter\">a</span>,\n",
       " <span class=\"name\" data-alternative-name=\"red-square, alphabet, letter\">b</span>,\n",
       " <span class=\"name\" data-alternative-name=\"red-square, alphabet\">ab</span>,\n",
       " <span class=\"name\" data-alternative-name=\"alphabet, red-square, letter\">o2</span>,\n",
       " <span class=\"name\" data-alternative-name=\"jewel, blue, gem, crystal, fancy\">diamond_shape_with_a_dot_inside</span>,\n",
       " <span class=\"name\" data-alternative-name=\"arrow, environment, garbage, trash\">recycle</span>,\n",
       " <span class=\"name\" data-alternative-name=\"words, arrow\">end</span>,\n",
       " <span class=\"name\" data-alternative-name=\"arrow, words, return\">back</span>,\n",
       " <span class=\"name\" data-alternative-name=\"arrow, words\">on</span>,\n",
       " <span class=\"name\" data-alternative-name=\"arrow, words\">soon</span>,\n",
       " <span class=\"name\" data-alternative-name=\"time, late, early, schedule\">clock1</span>,\n",
       " <span class=\"name\" data-alternative-name=\"time, late, early, schedule\">clock130</span>,\n",
       " <span class=\"name\" data-alternative-name=\"time, late, early, schedule\">clock10</span>,\n",
       " <span class=\"name\" data-alternative-name=\"time, late, early, schedule\">clock1030</span>,\n",
       " <span class=\"name\" data-alternative-name=\"time, late, early, schedule\">clock11</span>,\n",
       " <span class=\"name\" data-alternative-name=\"time, late, early, schedule\">clock1130</span>,\n",
       " <span class=\"name\" data-alternative-name=\"midnight, noon, time, late, early, schedule\">clock12</span>,\n",
       " <span class=\"name\" data-alternative-name=\"time, late, early, schedule\">clock1230</span>,\n",
       " <span class=\"name\" data-alternative-name=\"time, late, early, schedule\">clock2</span>,\n",
       " <span class=\"name\" data-alternative-name=\"time, late, early, schedule\">clock230</span>,\n",
       " <span class=\"name\" data-alternative-name=\"time, late, early, schedule\">clock3</span>,\n",
       " <span class=\"name\" data-alternative-name=\"time, late, early, schedule\">clock330</span>,\n",
       " <span class=\"name\" data-alternative-name=\"time, late, early, schedule\">clock4</span>,\n",
       " <span class=\"name\" data-alternative-name=\"time, late, early, schedule\">clock430</span>,\n",
       " <span class=\"name\" data-alternative-name=\"time, late, early, schedule\">clock5</span>,\n",
       " <span class=\"name\" data-alternative-name=\"time, late, early, schedule\">clock530</span>,\n",
       " <span class=\"name\" data-alternative-name=\"time, late, early, schedule, dawn, dusk\">clock6</span>,\n",
       " <span class=\"name\" data-alternative-name=\"time, late, early, schedule\">clock630</span>,\n",
       " <span class=\"name\" data-alternative-name=\"time, late, early, schedule\">clock7</span>,\n",
       " <span class=\"name\" data-alternative-name=\"time, late, early, schedule\">clock730</span>,\n",
       " <span class=\"name\" data-alternative-name=\"time, late, early, schedule\">clock8</span>,\n",
       " <span class=\"name\" data-alternative-name=\"time, late, early, schedule\">clock830</span>,\n",
       " <span class=\"name\" data-alternative-name=\"time, late, early, schedule\">clock9</span>,\n",
       " <span class=\"name\" data-alternative-name=\"time, late, early, schedule\">clock930</span>,\n",
       " <span class=\"name\" data-alternative-name=\"money, sales, payment, currency\">heavy_dollar_sign</span>,\n",
       " <span class=\"name\" data-alternative-name=\"ip, license, circle, law, legal\">copyright</span>,\n",
       " <span class=\"name\" data-alternative-name=\"alphabet, circle\">registered</span>,\n",
       " <span class=\"name\" data-alternative-name=\"trademark, brand, law, legal\">tm</span>,\n",
       " <span class=\"name\" data-alternative-name=\"no, delete, remove\">x</span>,\n",
       " <span class=\"name\" data-alternative-name=\"shocked, surprised\">heavy_exclamation_mark</span>,\n",
       " <span class=\"name\" data-alternative-name=\"exclamation, surprise\">bangbang</span>,\n",
       " <span class=\"name\" data-alternative-name=\"wat, punctuation, surprise\">interrobang</span>,\n",
       " <span class=\"name\" data-alternative-name=\"circle, round\">o</span>,\n",
       " <span class=\"name\" data-alternative-name=\"math, calculation\">heavy_multiplication_x</span>,\n",
       " <span class=\"name\" data-alternative-name=\"math, calculation, addition, more, increase\">heavy_plus_sign</span>,\n",
       " <span class=\"name\" data-alternative-name=\"math, calculation, subtract, less\">heavy_minus_sign</span>,\n",
       " <span class=\"name\" data-alternative-name=\"divide, math, calculation\">heavy_division_sign</span>,\n",
       " <span class=\"name\" data-alternative-name=\"floral, japanese, spring\">white_flower</span>,\n",
       " <span class=\"name\" data-alternative-name=\"score, perfect, numbers, century, exam, quiz, test, pass, hundred\">100</span>,\n",
       " <span class=\"name\" data-alternative-name=\"ok, nike\">heavy_check_mark</span>,\n",
       " <span class=\"name\" data-alternative-name=\"ok, agree, confirm, black-square, vote, election\">ballot_box_with_check</span>,\n",
       " <span class=\"name\" data-alternative-name=\"input, old, music, circle\">radio_button</span>,\n",
       " <span class=\"name\" data-alternative-name=\"rings, url\">link</span>,\n",
       " <span class=\"name\" data-alternative-name=\"scribble, draw, shape, squiggle\">curly_loop</span>,\n",
       " <span class=\"name\" data-alternative-name=\"draw, line, moustache, mustache, squiggle, scribble\">wavy_dash</span>,\n",
       " <span class=\"name\" data-alternative-name=\"graph, presentation, stats, business, economics, bad\">part_alternation_mark</span>,\n",
       " <span class=\"name\" data-alternative-name=\"weapon, spear\">trident</span>,\n",
       " <span class=\"name\" data-alternative-name=\"shape, icon\">black_small_square</span>,\n",
       " <span class=\"name\" data-alternative-name=\"shape, icon\">white_small_square</span>,\n",
       " <span class=\"name\" data-alternative-name=\"icon, shape, button\">black_medium_small_square</span>,\n",
       " <span class=\"name\" data-alternative-name=\"shape, stone, icon, button\">white_medium_small_square</span>,\n",
       " <span class=\"name\" data-alternative-name=\"shape, button, icon\">black_medium_square</span>,\n",
       " <span class=\"name\" data-alternative-name=\"shape, stone, icon\">white_medium_square</span>,\n",
       " <span class=\"name\" data-alternative-name=\"shape, icon, button\">black_large_square</span>,\n",
       " <span class=\"name\" data-alternative-name=\"shape, icon, stone, button\">white_large_square</span>,\n",
       " <span class=\"name\" data-alternative-name=\"green-square, ok, agree, vote, election\">white_check_mark</span>,\n",
       " <span class=\"name\" data-alternative-name=\"shape, input, frame\">black_square_button</span>,\n",
       " <span class=\"name\" data-alternative-name=\"shape, input\">white_square_button</span>,\n",
       " <span class=\"name\" data-alternative-name=\"shape, button, round\">black_circle</span>,\n",
       " <span class=\"name\" data-alternative-name=\"shape, round\">white_circle</span>,\n",
       " <span class=\"name\" data-alternative-name=\"shape, error, danger\">red_circle</span>,\n",
       " <span class=\"name\" data-alternative-name=\"shape, icon, button\">large_blue_circle</span>,\n",
       " <span class=\"name\" data-alternative-name=\"shape, jewel, gem\">large_blue_diamond</span>,\n",
       " <span class=\"name\" data-alternative-name=\"shape, jewel, gem\">large_orange_diamond</span>,\n",
       " <span class=\"name\" data-alternative-name=\"shape, jewel, gem\">small_blue_diamond</span>,\n",
       " <span class=\"name\" data-alternative-name=\"shape, jewel, gem\">small_orange_diamond</span>,\n",
       " <span class=\"name\" data-alternative-name=\"shape, direction, up, top\">small_red_triangle</span>,\n",
       " <span class=\"name\" data-alternative-name=\"shape, direction, bottom\">small_red_triangle_down</span>,\n",
       " <span class=\"name\" data-alternative-name=\"squirrel, detective, animal, sherlock, inspector, custom_\">shipit</span>]"
      ]
     },
     "execution_count": 4,
     "metadata": {},
     "output_type": "execute_result"
    }
   ],
   "source": [
    "soup.find_all('span', class_ ='name')"
   ]
  },
  {
   "cell_type": "code",
   "execution_count": 5,
   "metadata": {},
   "outputs": [],
   "source": [
    "names = soup.find_all('span', class_ ='name')"
   ]
  },
  {
   "cell_type": "code",
   "execution_count": 6,
   "metadata": {},
   "outputs": [
    {
     "data": {
      "text/plain": [
       "877"
      ]
     },
     "execution_count": 6,
     "metadata": {},
     "output_type": "execute_result"
    }
   ],
   "source": [
    "# total number of emojis in the cheat sheet\n",
    "len(names)"
   ]
  },
  {
   "cell_type": "code",
   "execution_count": 7,
   "metadata": {},
   "outputs": [
    {
     "data": {
      "text/plain": [
       "'bowtie'"
      ]
     },
     "execution_count": 7,
     "metadata": {},
     "output_type": "execute_result"
    }
   ],
   "source": [
    "names[0].get_text()"
   ]
  },
  {
   "cell_type": "code",
   "execution_count": 30,
   "metadata": {},
   "outputs": [
    {
     "data": {
      "text/plain": [
       "<span class=\"name\">waxing_gibbous_moon</span>"
      ]
     },
     "execution_count": 30,
     "metadata": {},
     "output_type": "execute_result"
    }
   ],
   "source": [
    "names[293]"
   ]
  },
  {
   "cell_type": "code",
   "execution_count": 25,
   "metadata": {},
   "outputs": [
    {
     "data": {
      "text/plain": [
       "'shipit'"
      ]
     },
     "execution_count": 25,
     "metadata": {},
     "output_type": "execute_result"
    }
   ],
   "source": [
    "names[876].get_text()"
   ]
  },
  {
   "cell_type": "code",
   "execution_count": 8,
   "metadata": {},
   "outputs": [],
   "source": [
    "# https://pypi.org/project/emoji/\n",
    "import emoji"
   ]
  },
  {
   "cell_type": "code",
   "execution_count": 9,
   "metadata": {},
   "outputs": [
    {
     "name": "stdout",
     "output_type": "stream",
     "text": [
      "Python is 👍\n"
     ]
    }
   ],
   "source": [
    "#syntax to print emojis\n",
    "print(emoji.emojize('Python is :thumbs_up:'))"
   ]
  },
  {
   "cell_type": "code",
   "execution_count": 10,
   "metadata": {},
   "outputs": [],
   "source": [
    "text = \"Python is \"+ \":\"+ \"thumbs_up\"+ \":\""
   ]
  },
  {
   "cell_type": "code",
   "execution_count": 11,
   "metadata": {},
   "outputs": [
    {
     "data": {
      "text/plain": [
       "'Python is :thumbs_up:'"
      ]
     },
     "execution_count": 11,
     "metadata": {},
     "output_type": "execute_result"
    }
   ],
   "source": [
    "text"
   ]
  },
  {
   "cell_type": "code",
   "execution_count": 12,
   "metadata": {},
   "outputs": [
    {
     "name": "stdout",
     "output_type": "stream",
     "text": [
      "Python is 👍\n"
     ]
    }
   ],
   "source": [
    "print(emoji.emojize(text))"
   ]
  },
  {
   "cell_type": "code",
   "execution_count": 13,
   "metadata": {},
   "outputs": [
    {
     "data": {
      "text/plain": [
       "'classy, bow, face, formal, fashion, suit, magic, circus'"
      ]
     },
     "execution_count": 13,
     "metadata": {},
     "output_type": "execute_result"
    }
   ],
   "source": [
    "# terms associated with the first emoji in the cheat sheet\n",
    "soup.find('span', class_='name')['data-alternative-name']"
   ]
  },
  {
   "cell_type": "code",
   "execution_count": 14,
   "metadata": {},
   "outputs": [],
   "source": [
    "desc = soup.find('span', class_='name')['data-alternative-name']"
   ]
  },
  {
   "cell_type": "code",
   "execution_count": 15,
   "metadata": {},
   "outputs": [],
   "source": [
    "#split the string of words into a list of words\n",
    "words = [x.strip() for x in desc.split(',')]"
   ]
  },
  {
   "cell_type": "code",
   "execution_count": 16,
   "metadata": {},
   "outputs": [
    {
     "data": {
      "text/plain": [
       "['classy', 'bow', 'face', 'formal', 'fashion', 'suit', 'magic', 'circus']"
      ]
     },
     "execution_count": 16,
     "metadata": {},
     "output_type": "execute_result"
    }
   ],
   "source": [
    "words"
   ]
  },
  {
   "cell_type": "code",
   "execution_count": 17,
   "metadata": {},
   "outputs": [
    {
     "data": {
      "text/plain": [
       "8"
      ]
     },
     "execution_count": 17,
     "metadata": {},
     "output_type": "execute_result"
    }
   ],
   "source": [
    "len(words)"
   ]
  },
  {
   "cell_type": "code",
   "execution_count": 18,
   "metadata": {},
   "outputs": [
    {
     "data": {
      "text/plain": [
       "'happy, cheerful, face, joy, funny, haha, laugh, like'"
      ]
     },
     "execution_count": 18,
     "metadata": {},
     "output_type": "execute_result"
    }
   ],
   "source": [
    "# terms associated with the second emoji in the cheat sheet\n",
    "soup.find_all('span', class_='name')[1]['data-alternative-name']"
   ]
  },
  {
   "cell_type": "code",
   "execution_count": 40,
   "metadata": {},
   "outputs": [
    {
     "name": "stdout",
     "output_type": "stream",
     "text": [
      "Elapsed Time (in seconds) = 115.70929074287415\n"
     ]
    }
   ],
   "source": [
    "#running a loop to scrape the list of emojis and their associated terms/ descriptions into a dataset\n",
    "emojis = []\n",
    "k = 0\n",
    "startTime = time.time()\n",
    "for j in range(0,len(names)):\n",
    "    try:\n",
    "        desc = soup.find_all('span', class_='name')[j]['data-alternative-name']\n",
    "        words = [x.strip() for x in desc.split(',')]\n",
    "    except:\n",
    "        words = ['N.A']\n",
    "    for i in range(0,len(words)):\n",
    "        uid = j\n",
    "        index = k\n",
    "        name = names[j].get_text()\n",
    "        wd = words[i]\n",
    "        k = k+1\n",
    "        emojis.append((uid,index,name,wd))\n",
    "    time.sleep(0.1)\n",
    "    #print(j)\n",
    "endTime = time.time()\n",
    "elapsedTime = endTime - startTime\n",
    "print(\"Elapsed Time (in seconds) = %s\" % elapsedTime)"
   ]
  },
  {
   "cell_type": "code",
   "execution_count": 34,
   "metadata": {},
   "outputs": [
    {
     "data": {
      "text/plain": [
       "3673"
      ]
     },
     "execution_count": 34,
     "metadata": {},
     "output_type": "execute_result"
    }
   ],
   "source": [
    "len(emojis)"
   ]
  },
  {
   "cell_type": "code",
   "execution_count": 41,
   "metadata": {},
   "outputs": [],
   "source": [
    "df = pd.DataFrame(np.array(emojis))"
   ]
  },
  {
   "cell_type": "code",
   "execution_count": 42,
   "metadata": {},
   "outputs": [],
   "source": [
    "df.columns = ['id','index','name','desc']"
   ]
  },
  {
   "cell_type": "code",
   "execution_count": 43,
   "metadata": {},
   "outputs": [
    {
     "data": {
      "text/html": [
       "<div>\n",
       "<style scoped>\n",
       "    .dataframe tbody tr th:only-of-type {\n",
       "        vertical-align: middle;\n",
       "    }\n",
       "\n",
       "    .dataframe tbody tr th {\n",
       "        vertical-align: top;\n",
       "    }\n",
       "\n",
       "    .dataframe thead th {\n",
       "        text-align: right;\n",
       "    }\n",
       "</style>\n",
       "<table border=\"1\" class=\"dataframe\">\n",
       "  <thead>\n",
       "    <tr style=\"text-align: right;\">\n",
       "      <th></th>\n",
       "      <th>id</th>\n",
       "      <th>index</th>\n",
       "      <th>name</th>\n",
       "      <th>desc</th>\n",
       "    </tr>\n",
       "  </thead>\n",
       "  <tbody>\n",
       "    <tr>\n",
       "      <th>0</th>\n",
       "      <td>0</td>\n",
       "      <td>0</td>\n",
       "      <td>bowtie</td>\n",
       "      <td>classy</td>\n",
       "    </tr>\n",
       "    <tr>\n",
       "      <th>1</th>\n",
       "      <td>0</td>\n",
       "      <td>1</td>\n",
       "      <td>bowtie</td>\n",
       "      <td>bow</td>\n",
       "    </tr>\n",
       "    <tr>\n",
       "      <th>2</th>\n",
       "      <td>0</td>\n",
       "      <td>2</td>\n",
       "      <td>bowtie</td>\n",
       "      <td>face</td>\n",
       "    </tr>\n",
       "    <tr>\n",
       "      <th>3</th>\n",
       "      <td>0</td>\n",
       "      <td>3</td>\n",
       "      <td>bowtie</td>\n",
       "      <td>formal</td>\n",
       "    </tr>\n",
       "    <tr>\n",
       "      <th>4</th>\n",
       "      <td>0</td>\n",
       "      <td>4</td>\n",
       "      <td>bowtie</td>\n",
       "      <td>fashion</td>\n",
       "    </tr>\n",
       "  </tbody>\n",
       "</table>\n",
       "</div>"
      ],
      "text/plain": [
       "  id index    name     desc\n",
       "0  0     0  bowtie   classy\n",
       "1  0     1  bowtie      bow\n",
       "2  0     2  bowtie     face\n",
       "3  0     3  bowtie   formal\n",
       "4  0     4  bowtie  fashion"
      ]
     },
     "execution_count": 43,
     "metadata": {},
     "output_type": "execute_result"
    }
   ],
   "source": [
    "df.head()"
   ]
  },
  {
   "cell_type": "code",
   "execution_count": 51,
   "metadata": {},
   "outputs": [
    {
     "data": {
      "text/html": [
       "<div>\n",
       "<style scoped>\n",
       "    .dataframe tbody tr th:only-of-type {\n",
       "        vertical-align: middle;\n",
       "    }\n",
       "\n",
       "    .dataframe tbody tr th {\n",
       "        vertical-align: top;\n",
       "    }\n",
       "\n",
       "    .dataframe thead th {\n",
       "        text-align: right;\n",
       "    }\n",
       "</style>\n",
       "<table border=\"1\" class=\"dataframe\">\n",
       "  <thead>\n",
       "    <tr style=\"text-align: right;\">\n",
       "      <th></th>\n",
       "      <th>id</th>\n",
       "      <th>index</th>\n",
       "      <th>name</th>\n",
       "      <th>desc</th>\n",
       "    </tr>\n",
       "  </thead>\n",
       "  <tbody>\n",
       "    <tr>\n",
       "      <th>count</th>\n",
       "      <td>3673</td>\n",
       "      <td>3673</td>\n",
       "      <td>3673</td>\n",
       "      <td>3673</td>\n",
       "    </tr>\n",
       "    <tr>\n",
       "      <th>unique</th>\n",
       "      <td>877</td>\n",
       "      <td>3673</td>\n",
       "      <td>877</td>\n",
       "      <td>1214</td>\n",
       "    </tr>\n",
       "    <tr>\n",
       "      <th>top</th>\n",
       "      <td>475</td>\n",
       "      <td>2234</td>\n",
       "      <td>mortar_board</td>\n",
       "      <td>nature</td>\n",
       "    </tr>\n",
       "    <tr>\n",
       "      <th>freq</th>\n",
       "      <td>11</td>\n",
       "      <td>1</td>\n",
       "      <td>11</td>\n",
       "      <td>101</td>\n",
       "    </tr>\n",
       "  </tbody>\n",
       "</table>\n",
       "</div>"
      ],
      "text/plain": [
       "          id index          name    desc\n",
       "count   3673  3673          3673    3673\n",
       "unique   877  3673           877    1214\n",
       "top      475  2234  mortar_board  nature\n",
       "freq      11     1            11     101"
      ]
     },
     "execution_count": 51,
     "metadata": {},
     "output_type": "execute_result"
    }
   ],
   "source": [
    "df.describe()"
   ]
  },
  {
   "cell_type": "code",
   "execution_count": 87,
   "metadata": {},
   "outputs": [],
   "source": [
    "#saving the data to a csv file\n",
    "df.to_csv('emojis.csv')"
   ]
  },
  {
   "cell_type": "markdown",
   "metadata": {},
   "source": [
    "### Generating a random emoji"
   ]
  },
  {
   "cell_type": "code",
   "execution_count": 39,
   "metadata": {},
   "outputs": [],
   "source": [
    "import random\n",
    "random.seed(123)"
   ]
  },
  {
   "cell_type": "code",
   "execution_count": 83,
   "metadata": {},
   "outputs": [],
   "source": [
    "#generate a random number between 0 and 876\n",
    "rn = int(random.uniform(0,876))"
   ]
  },
  {
   "cell_type": "code",
   "execution_count": 84,
   "metadata": {},
   "outputs": [],
   "source": [
    "#read in the scraped dataset hosted on github\n",
    "url = 'https://raw.githubusercontent.com/hxchua/datadoubleconfirm/master/datasets/emojis.csv'\n",
    "df = pd.read_csv(url, error_bad_lines=False)\n",
    "a = list(df[df['id']==rn]['name'].drop_duplicates())\n",
    "##a = list(df[df['id']==str(rn)]['name'].drop_duplicates())"
   ]
  },
  {
   "cell_type": "code",
   "execution_count": 85,
   "metadata": {},
   "outputs": [
    {
     "data": {
      "text/plain": [
       "'radio'"
      ]
     },
     "execution_count": 85,
     "metadata": {},
     "output_type": "execute_result"
    }
   ],
   "source": [
    "a[0]"
   ]
  },
  {
   "cell_type": "code",
   "execution_count": 86,
   "metadata": {},
   "outputs": [
    {
     "name": "stdout",
     "output_type": "stream",
     "text": [
      "Python is 📻\n"
     ]
    }
   ],
   "source": [
    "text = \"Python is \"+ \":\"+ a[0] + \":\"\n",
    "text\n",
    "print(emoji.emojize((text), use_aliases=True))"
   ]
  },
  {
   "cell_type": "code",
   "execution_count": 77,
   "metadata": {},
   "outputs": [
    {
     "name": "stdout",
     "output_type": "stream",
     "text": [
      "Python is 😲\n"
     ]
    }
   ],
   "source": [
    "print(emoji.emojize('Python is :astonished:', use_aliases=True))"
   ]
  },
  {
   "cell_type": "code",
   "execution_count": 75,
   "metadata": {},
   "outputs": [
    {
     "name": "stdout",
     "output_type": "stream",
     "text": [
      "Python is 👍\n"
     ]
    }
   ],
   "source": [
    "print(emoji.emojize('Python is :thumbsup:', use_aliases=True))"
   ]
  },
  {
   "cell_type": "code",
   "execution_count": 89,
   "metadata": {},
   "outputs": [
    {
     "name": "stdout",
     "output_type": "stream",
     "text": [
      "Python is 🆒\n"
     ]
    }
   ],
   "source": [
    "print(emoji.emojize('Python is :cool:', use_aliases=True))"
   ]
  },
  {
   "cell_type": "code",
   "execution_count": 96,
   "metadata": {},
   "outputs": [
    {
     "data": {
      "text/plain": [
       "'📻'"
      ]
     },
     "execution_count": 96,
     "metadata": {},
     "output_type": "execute_result"
    }
   ],
   "source": [
    "emoji.emojize((\":\"+a[0]+\":\"), use_aliases=True)"
   ]
  },
  {
   "cell_type": "markdown",
   "metadata": {},
   "source": [
    "### Exploratory data analysis"
   ]
  },
  {
   "cell_type": "code",
   "execution_count": 99,
   "metadata": {
    "scrolled": true
   },
   "outputs": [
    {
     "data": {
      "text/plain": [
       "nature            101\n",
       "animal             82\n",
       "blue-square        68\n",
       "food               55\n",
       "face               55\n",
       "vehicle            41\n",
       "transportation     36\n",
       "japanese           29\n",
       "like               29\n",
       "time               28\n",
       "Name: desc, dtype: int64"
      ]
     },
     "execution_count": 99,
     "metadata": {},
     "output_type": "execute_result"
    }
   ],
   "source": [
    "# most common description word in descending order\n",
    "df['desc'].value_counts().head(10)"
   ]
  },
  {
   "cell_type": "code",
   "execution_count": 104,
   "metadata": {},
   "outputs": [
    {
     "data": {
      "text/plain": [
       "['corn',\n",
       " 'ice_cream',\n",
       " 'blowfish',\n",
       " 'custard',\n",
       " 'grapes',\n",
       " 'chestnut',\n",
       " 'strawberry',\n",
       " 'icecream',\n",
       " 'doughnut',\n",
       " 'watermelon',\n",
       " 'peach',\n",
       " 'lemon',\n",
       " 'cherries',\n",
       " 'pineapple',\n",
       " 'tangerine',\n",
       " 'banana',\n",
       " 'bread',\n",
       " 'lollipop',\n",
       " 'sweet_potato',\n",
       " 'pear',\n",
       " 'candy',\n",
       " 'chocolate_bar',\n",
       " 'eggplant',\n",
       " 'honey_pot',\n",
       " 'cookie',\n",
       " 'cake',\n",
       " 'apple',\n",
       " 'green_apple',\n",
       " 'shaved_ice',\n",
       " 'tomato',\n",
       " 'bread',\n",
       " 'melon',\n",
       " 'rice_cracker',\n",
       " 'ramen',\n",
       " 'sushi',\n",
       " 'fish_cake',\n",
       " 'hamburger',\n",
       " 'bento',\n",
       " 'fries',\n",
       " 'meat_on_bone',\n",
       " 'fried_shrimp',\n",
       " 'rice_ball',\n",
       " 'curry',\n",
       " 'rice',\n",
       " 'fish',\n",
       " 'pizza',\n",
       " 'dango',\n",
       " 'stew',\n",
       " 'baby_bottle',\n",
       " 'egg',\n",
       " 'fishing_pole_and_fish',\n",
       " 'oden',\n",
       " 'egg',\n",
       " 'poultry_leg',\n",
       " 'spaghetti']"
      ]
     },
     "execution_count": 104,
     "metadata": {},
     "output_type": "execute_result"
    }
   ],
   "source": [
    "# list of emojis associated with food\n",
    "list(df[df['desc']=='food']['name'])"
   ]
  },
  {
   "cell_type": "code",
   "execution_count": 108,
   "metadata": {},
   "outputs": [
    {
     "name": "stdout",
     "output_type": "stream",
     "text": [
      "🌽🍨🐡🍮🍇🌰🍓🍦🍩🍉🍑🍋🍒🍍🍊🍌🍞🍭🍠🍐🍬🍫🍆🍯🍪🍰🍎🍏🍧🍅🍞🍈🍘🍜🍣🍥🍔🍱🍟🍖🍤🍙🍛🍚🐟🍕🍡🍲🍼🍳🎣🍢🍳🍗🍝"
     ]
    }
   ],
   "source": [
    "# print list of emojis associated with food\n",
    "food = list(df[df['desc']=='food']['name'])\n",
    "for i in range(0,len(food)):\n",
    "    print(emoji.emojize((\":\"+food[i]+\":\"), use_aliases=True),end=\"\")"
   ]
  },
  {
   "cell_type": "code",
   "execution_count": 110,
   "metadata": {},
   "outputs": [
    {
     "name": "stdout",
     "output_type": "stream",
     "text": [
      "👸💇🙆👵💆💄💁🙋👙🙎💃🙅🎀👶🙍"
     ]
    }
   ],
   "source": [
    "# print list of emojis associated with girl\n",
    "girl = list(df[df['desc']=='girl']['name'])\n",
    "for i in range(0,len(girl)):\n",
    "    print(emoji.emojize((\":\"+girl[i]+\":\"), use_aliases=True),end=\"\")"
   ]
  },
  {
   "cell_type": "code",
   "execution_count": 111,
   "metadata": {},
   "outputs": [
    {
     "name": "stdout",
     "output_type": "stream",
     "text": [
      "👶🙇👱👲"
     ]
    }
   ],
   "source": [
    "# print list of emojis associated with boy\n",
    "boy = list(df[df['desc']=='boy']['name'])\n",
    "for i in range(0,len(boy)):\n",
    "    print(emoji.emojize((\":\"+boy[i]+\":\"), use_aliases=True),end=\"\")"
   ]
  },
  {
   "cell_type": "code",
   "execution_count": 115,
   "metadata": {
    "scrolled": true
   },
   "outputs": [
    {
     "data": {
      "text/html": [
       "<div>\n",
       "<style scoped>\n",
       "    .dataframe tbody tr th:only-of-type {\n",
       "        vertical-align: middle;\n",
       "    }\n",
       "\n",
       "    .dataframe tbody tr th {\n",
       "        vertical-align: top;\n",
       "    }\n",
       "\n",
       "    .dataframe thead th {\n",
       "        text-align: right;\n",
       "    }\n",
       "</style>\n",
       "<table border=\"1\" class=\"dataframe\">\n",
       "  <thead>\n",
       "    <tr style=\"text-align: right;\">\n",
       "      <th></th>\n",
       "      <th>id</th>\n",
       "      <th>index</th>\n",
       "      <th>name</th>\n",
       "      <th>desc</th>\n",
       "    </tr>\n",
       "  </thead>\n",
       "  <tbody>\n",
       "    <tr>\n",
       "      <th>672</th>\n",
       "      <td>138</td>\n",
       "      <td>672</td>\n",
       "      <td>haircut</td>\n",
       "      <td>woman</td>\n",
       "    </tr>\n",
       "    <tr>\n",
       "      <th>682</th>\n",
       "      <td>141</td>\n",
       "      <td>682</td>\n",
       "      <td>girl</td>\n",
       "      <td>woman</td>\n",
       "    </tr>\n",
       "    <tr>\n",
       "      <th>626</th>\n",
       "      <td>128</td>\n",
       "      <td>626</td>\n",
       "      <td>no_good</td>\n",
       "      <td>woman</td>\n",
       "    </tr>\n",
       "    <tr>\n",
       "      <th>2147</th>\n",
       "      <td>487</td>\n",
       "      <td>2147</td>\n",
       "      <td>lipstick</td>\n",
       "      <td>woman</td>\n",
       "    </tr>\n",
       "    <tr>\n",
       "      <th>630</th>\n",
       "      <td>129</td>\n",
       "      <td>630</td>\n",
       "      <td>information_desk_person</td>\n",
       "      <td>woman</td>\n",
       "    </tr>\n",
       "    <tr>\n",
       "      <th>2180</th>\n",
       "      <td>497</td>\n",
       "      <td>2180</td>\n",
       "      <td>bikini</td>\n",
       "      <td>woman</td>\n",
       "    </tr>\n",
       "    <tr>\n",
       "      <th>643</th>\n",
       "      <td>133</td>\n",
       "      <td>643</td>\n",
       "      <td>person_frowning</td>\n",
       "      <td>woman</td>\n",
       "    </tr>\n",
       "    <tr>\n",
       "      <th>668</th>\n",
       "      <td>137</td>\n",
       "      <td>668</td>\n",
       "      <td>massage</td>\n",
       "      <td>woman</td>\n",
       "    </tr>\n",
       "    <tr>\n",
       "      <th>612</th>\n",
       "      <td>125</td>\n",
       "      <td>612</td>\n",
       "      <td>dancer</td>\n",
       "      <td>woman</td>\n",
       "    </tr>\n",
       "    <tr>\n",
       "      <th>640</th>\n",
       "      <td>132</td>\n",
       "      <td>640</td>\n",
       "      <td>person_with_pouting_face</td>\n",
       "      <td>woman</td>\n",
       "    </tr>\n",
       "    <tr>\n",
       "      <th>634</th>\n",
       "      <td>130</td>\n",
       "      <td>634</td>\n",
       "      <td>raising_hand</td>\n",
       "      <td>woman</td>\n",
       "    </tr>\n",
       "    <tr>\n",
       "      <th>738</th>\n",
       "      <td>153</td>\n",
       "      <td>738</td>\n",
       "      <td>princess</td>\n",
       "      <td>woman</td>\n",
       "    </tr>\n",
       "    <tr>\n",
       "      <th>3171</th>\n",
       "      <td>744</td>\n",
       "      <td>3171</td>\n",
       "      <td>womens</td>\n",
       "      <td>woman</td>\n",
       "    </tr>\n",
       "  </tbody>\n",
       "</table>\n",
       "</div>"
      ],
      "text/plain": [
       "       id index                      name   desc\n",
       "672   138   672                   haircut  woman\n",
       "682   141   682                      girl  woman\n",
       "626   128   626                   no_good  woman\n",
       "2147  487  2147                  lipstick  woman\n",
       "630   129   630   information_desk_person  woman\n",
       "2180  497  2180                    bikini  woman\n",
       "643   133   643           person_frowning  woman\n",
       "668   137   668                   massage  woman\n",
       "612   125   612                    dancer  woman\n",
       "640   132   640  person_with_pouting_face  woman\n",
       "634   130   634              raising_hand  woman\n",
       "738   153   738                  princess  woman\n",
       "3171  744  3171                    womens  woman"
      ]
     },
     "execution_count": 115,
     "metadata": {},
     "output_type": "execute_result"
    }
   ],
   "source": [
    "# list of emojis associated with woman\n",
    "df[df['desc']=='woman']"
   ]
  },
  {
   "cell_type": "code",
   "execution_count": 114,
   "metadata": {},
   "outputs": [
    {
     "data": {
      "text/html": [
       "<div>\n",
       "<style scoped>\n",
       "    .dataframe tbody tr th:only-of-type {\n",
       "        vertical-align: middle;\n",
       "    }\n",
       "\n",
       "    .dataframe tbody tr th {\n",
       "        vertical-align: top;\n",
       "    }\n",
       "\n",
       "    .dataframe thead th {\n",
       "        text-align: right;\n",
       "    }\n",
       "</style>\n",
       "<table border=\"1\" class=\"dataframe\">\n",
       "  <thead>\n",
       "    <tr style=\"text-align: right;\">\n",
       "      <th></th>\n",
       "      <th>id</th>\n",
       "      <th>index</th>\n",
       "      <th>name</th>\n",
       "      <th>desc</th>\n",
       "    </tr>\n",
       "  </thead>\n",
       "  <tbody>\n",
       "    <tr>\n",
       "      <th>1472</th>\n",
       "      <td>321</td>\n",
       "      <td>1472</td>\n",
       "      <td>santa</td>\n",
       "      <td>man</td>\n",
       "    </tr>\n",
       "    <tr>\n",
       "      <th>710</th>\n",
       "      <td>147</td>\n",
       "      <td>710</td>\n",
       "      <td>person_with_blond_hair</td>\n",
       "      <td>man</td>\n",
       "    </tr>\n",
       "    <tr>\n",
       "      <th>648</th>\n",
       "      <td>134</td>\n",
       "      <td>648</td>\n",
       "      <td>bow</td>\n",
       "      <td>man</td>\n",
       "    </tr>\n",
       "    <tr>\n",
       "      <th>728</th>\n",
       "      <td>151</td>\n",
       "      <td>728</td>\n",
       "      <td>cop</td>\n",
       "      <td>man</td>\n",
       "    </tr>\n",
       "    <tr>\n",
       "      <th>565</th>\n",
       "      <td>119</td>\n",
       "      <td>565</td>\n",
       "      <td>runner</td>\n",
       "      <td>man</td>\n",
       "    </tr>\n",
       "    <tr>\n",
       "      <th>677</th>\n",
       "      <td>140</td>\n",
       "      <td>677</td>\n",
       "      <td>boy</td>\n",
       "      <td>man</td>\n",
       "    </tr>\n",
       "  </tbody>\n",
       "</table>\n",
       "</div>"
      ],
      "text/plain": [
       "       id index                    name desc\n",
       "1472  321  1472                   santa  man\n",
       "710   147   710  person_with_blond_hair  man\n",
       "648   134   648                     bow  man\n",
       "728   151   728                     cop  man\n",
       "565   119   565                  runner  man\n",
       "677   140   677                     boy  man"
      ]
     },
     "execution_count": 114,
     "metadata": {},
     "output_type": "execute_result"
    }
   ],
   "source": [
    "# list of emojis associated with woman\n",
    "df[df['desc']=='man']"
   ]
  },
  {
   "cell_type": "code",
   "execution_count": 116,
   "metadata": {},
   "outputs": [
    {
     "name": "stdout",
     "output_type": "stream",
     "text": [
      "💇👧🙅💄💁👙🙍💆💃🙎🙋👸🚺"
     ]
    }
   ],
   "source": [
    "girl = list(df[df['desc']=='woman']['name'])\n",
    "for i in range(0,len(girl)):\n",
    "    print(emoji.emojize((\":\"+girl[i]+\":\"), use_aliases=True),end=\"\")"
   ]
  },
  {
   "cell_type": "code",
   "execution_count": 117,
   "metadata": {},
   "outputs": [
    {
     "name": "stdout",
     "output_type": "stream",
     "text": [
      "🎅👱🙇👮🏃👦"
     ]
    }
   ],
   "source": [
    "boy = list(df[df['desc']=='man']['name'])\n",
    "for i in range(0,len(boy)):\n",
    "    print(emoji.emojize((\":\"+boy[i]+\":\"), use_aliases=True),end=\"\")"
   ]
  },
  {
   "cell_type": "code",
   "execution_count": 121,
   "metadata": {},
   "outputs": [
    {
     "name": "stdout",
     "output_type": "stream",
     "text": [
      "👶🙇👱👲\n",
      "👸💇🙆👵💆💄💁🙋👙🙎💃🙅🎀👶🙍\n",
      "🎅👱🙇👮🏃👦\n",
      "💇👧🙅💄💁👙🙍💆💃🙎🙋👸🚺\n",
      "👴\n",
      "👵👘👯🙆\n"
     ]
    }
   ],
   "source": [
    "# print list of emojis associated with a list of terms\n",
    "desclist = ['boy','girl','man','woman','men','women']\n",
    "for i in desclist:\n",
    "    cc = list(df[df['desc']==i]['name'])\n",
    "    for j in range(0,len(cc)):\n",
    "        print(emoji.emojize((\":\"+cc[j]+\":\"), use_aliases=True),end=\"\")\n",
    "    print()"
   ]
  }
 ],
 "metadata": {
  "kernelspec": {
   "display_name": "Python 3",
   "language": "python",
   "name": "python3"
  },
  "language_info": {
   "codemirror_mode": {
    "name": "ipython",
    "version": 3
   },
   "file_extension": ".py",
   "mimetype": "text/x-python",
   "name": "python",
   "nbconvert_exporter": "python",
   "pygments_lexer": "ipython3",
   "version": "3.7.3"
  }
 },
 "nbformat": 4,
 "nbformat_minor": 2
}
