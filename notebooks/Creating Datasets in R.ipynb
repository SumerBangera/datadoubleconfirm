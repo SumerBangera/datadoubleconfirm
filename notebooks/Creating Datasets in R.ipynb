{
 "cells": [
  {
   "cell_type": "markdown",
   "metadata": {},
   "source": [
    "#### Over here I'm creating a dataset with five columns, namely id, gender of students, and scores of test 1, 2 and 3. There are a total of 50 male and 50 female students. Each test score follows its own normal distribution. "
   ]
  },
  {
   "cell_type": "code",
   "execution_count": 1,
   "metadata": {
    "collapsed": true
   },
   "outputs": [],
   "source": [
    "data<-matrix(,100,5)"
   ]
  },
  {
   "cell_type": "code",
   "execution_count": 2,
   "metadata": {
    "collapsed": true
   },
   "outputs": [],
   "source": [
    "set.seed(1)"
   ]
  },
  {
   "cell_type": "code",
   "execution_count": 3,
   "metadata": {
    "collapsed": true
   },
   "outputs": [],
   "source": [
    "for(i in 1:100){\n",
    "    data[i,1]<-i\n",
    "    data[i,3]<-round(rnorm(1, 50, 10))\n",
    "    data[i,4]<-round(rnorm(1, 55, 8))\n",
    "    data[i,5]<-round(rnorm(1, 58, 9))\n",
    "}"
   ]
  },
  {
   "cell_type": "code",
   "execution_count": 4,
   "metadata": {
    "collapsed": true
   },
   "outputs": [],
   "source": [
    "for(i in 1:50){\n",
    "    data[i,2]<-\"Male\"\n",
    "}\n",
    "\n",
    "for(i in 51:100){\n",
    "    data[i,2]<-\"Female\"\n",
    "}"
   ]
  },
  {
   "cell_type": "code",
   "execution_count": 5,
   "metadata": {
    "collapsed": true
   },
   "outputs": [],
   "source": [
    "data<-data.frame(data)"
   ]
  },
  {
   "cell_type": "code",
   "execution_count": 6,
   "metadata": {
    "collapsed": true
   },
   "outputs": [],
   "source": [
    "colnames(data)<-c(\"id\",\"gender\",\"test1\",\"test2\",\"test3\")"
   ]
  },
  {
   "cell_type": "code",
   "execution_count": 7,
   "metadata": {
    "scrolled": true
   },
   "outputs": [
    {
     "data": {
      "text/html": [
       "<table>\n",
       "<thead><tr><th scope=col>id</th><th scope=col>gender</th><th scope=col>test1</th><th scope=col>test2</th><th scope=col>test3</th></tr></thead>\n",
       "<tbody>\n",
       "\t<tr><td>1   </td><td>Male</td><td>44  </td><td>56  </td><td>50  </td></tr>\n",
       "\t<tr><td>2   </td><td>Male</td><td>66  </td><td>58  </td><td>51  </td></tr>\n",
       "\t<tr><td>3   </td><td>Male</td><td>55  </td><td>61  </td><td>63  </td></tr>\n",
       "\t<tr><td>4   </td><td>Male</td><td>47  </td><td>67  </td><td>62  </td></tr>\n",
       "\t<tr><td>5   </td><td>Male</td><td>44  </td><td>37  </td><td>68  </td></tr>\n",
       "\t<tr><td>6   </td><td>Male</td><td>50  </td><td>55  </td><td>66  </td></tr>\n",
       "</tbody>\n",
       "</table>\n"
      ],
      "text/latex": [
       "\\begin{tabular}{r|lllll}\n",
       " id & gender & test1 & test2 & test3\\\\\n",
       "\\hline\n",
       "\t 1    & Male & 44   & 56   & 50  \\\\\n",
       "\t 2    & Male & 66   & 58   & 51  \\\\\n",
       "\t 3    & Male & 55   & 61   & 63  \\\\\n",
       "\t 4    & Male & 47   & 67   & 62  \\\\\n",
       "\t 5    & Male & 44   & 37   & 68  \\\\\n",
       "\t 6    & Male & 50   & 55   & 66  \\\\\n",
       "\\end{tabular}\n"
      ],
      "text/markdown": [
       "\n",
       "id | gender | test1 | test2 | test3 | \n",
       "|---|---|---|---|---|---|\n",
       "| 1    | Male | 44   | 56   | 50   | \n",
       "| 2    | Male | 66   | 58   | 51   | \n",
       "| 3    | Male | 55   | 61   | 63   | \n",
       "| 4    | Male | 47   | 67   | 62   | \n",
       "| 5    | Male | 44   | 37   | 68   | \n",
       "| 6    | Male | 50   | 55   | 66   | \n",
       "\n",
       "\n"
      ],
      "text/plain": [
       "  id gender test1 test2 test3\n",
       "1 1  Male   44    56    50   \n",
       "2 2  Male   66    58    51   \n",
       "3 3  Male   55    61    63   \n",
       "4 4  Male   47    67    62   \n",
       "5 5  Male   44    37    68   \n",
       "6 6  Male   50    55    66   "
      ]
     },
     "metadata": {},
     "output_type": "display_data"
    }
   ],
   "source": [
    "head(data)"
   ]
  },
  {
   "cell_type": "markdown",
   "metadata": {},
   "source": [
    "#### The datasets created are complete and usually this is not the case in real world. So I'm making some scores for test 1, 2 and 3 to be missing. "
   ]
  },
  {
   "cell_type": "code",
   "execution_count": 8,
   "metadata": {},
   "outputs": [],
   "source": [
    "for (i in 1:10){\n",
    "    data[5*i,3]<-NA\n",
    "    data[6*i,4]<-NA\n",
    "    }\n",
    "data$test1<-as.numeric(data$test1)"
   ]
  },
  {
   "cell_type": "code",
   "execution_count": 9,
   "metadata": {
    "scrolled": true
   },
   "outputs": [
    {
     "data": {
      "text/html": [
       "<table>\n",
       "<thead><tr><th scope=col>id</th><th scope=col>gender</th><th scope=col>test1</th><th scope=col>test2</th><th scope=col>test3</th></tr></thead>\n",
       "<tbody>\n",
       "\t<tr><td>1   </td><td>Male</td><td>12  </td><td>56  </td><td>50  </td></tr>\n",
       "\t<tr><td>2   </td><td>Male</td><td>34  </td><td>58  </td><td>51  </td></tr>\n",
       "\t<tr><td>3   </td><td>Male</td><td>23  </td><td>61  </td><td>63  </td></tr>\n",
       "\t<tr><td>4   </td><td>Male</td><td>15  </td><td>67  </td><td>62  </td></tr>\n",
       "\t<tr><td>5   </td><td>Male</td><td>NA  </td><td>37  </td><td>68  </td></tr>\n",
       "\t<tr><td>6   </td><td>Male</td><td>18  </td><td>NA  </td><td>66  </td></tr>\n",
       "</tbody>\n",
       "</table>\n"
      ],
      "text/latex": [
       "\\begin{tabular}{r|lllll}\n",
       " id & gender & test1 & test2 & test3\\\\\n",
       "\\hline\n",
       "\t 1    & Male & 12   & 56   & 50  \\\\\n",
       "\t 2    & Male & 34   & 58   & 51  \\\\\n",
       "\t 3    & Male & 23   & 61   & 63  \\\\\n",
       "\t 4    & Male & 15   & 67   & 62  \\\\\n",
       "\t 5    & Male & NA   & 37   & 68  \\\\\n",
       "\t 6    & Male & 18   & NA   & 66  \\\\\n",
       "\\end{tabular}\n"
      ],
      "text/markdown": [
       "\n",
       "id | gender | test1 | test2 | test3 | \n",
       "|---|---|---|---|---|---|\n",
       "| 1    | Male | 12   | 56   | 50   | \n",
       "| 2    | Male | 34   | 58   | 51   | \n",
       "| 3    | Male | 23   | 61   | 63   | \n",
       "| 4    | Male | 15   | 67   | 62   | \n",
       "| 5    | Male | NA   | 37   | 68   | \n",
       "| 6    | Male | 18   | NA   | 66   | \n",
       "\n",
       "\n"
      ],
      "text/plain": [
       "  id gender test1 test2 test3\n",
       "1 1  Male   12    56    50   \n",
       "2 2  Male   34    58    51   \n",
       "3 3  Male   23    61    63   \n",
       "4 4  Male   15    67    62   \n",
       "5 5  Male   NA    37    68   \n",
       "6 6  Male   18    NA    66   "
      ]
     },
     "metadata": {},
     "output_type": "display_data"
    }
   ],
   "source": [
    "head(data)"
   ]
  },
  {
   "cell_type": "markdown",
   "metadata": {},
   "source": [
    "#### You can choose to save the dataset as a csv file."
   ]
  },
  {
   "cell_type": "code",
   "execution_count": 10,
   "metadata": {
    "collapsed": true
   },
   "outputs": [],
   "source": [
    "write.csv(data, file = \"Class1.csv\", row.names=FALSE)"
   ]
  },
  {
   "cell_type": "code",
   "execution_count": 11,
   "metadata": {
    "scrolled": true
   },
   "outputs": [
    {
     "data": {
      "text/html": [
       "<table>\n",
       "<thead><tr><th scope=col>id</th><th scope=col>gender</th><th scope=col>test1</th><th scope=col>test2</th><th scope=col>test3</th></tr></thead>\n",
       "<tbody>\n",
       "\t<tr><td> 1  </td><td>Male</td><td>12  </td><td>56  </td><td>50  </td></tr>\n",
       "\t<tr><td> 2  </td><td>Male</td><td>34  </td><td>58  </td><td>51  </td></tr>\n",
       "\t<tr><td> 3  </td><td>Male</td><td>23  </td><td>61  </td><td>63  </td></tr>\n",
       "\t<tr><td> 4  </td><td>Male</td><td>15  </td><td>67  </td><td>62  </td></tr>\n",
       "\t<tr><td> 5  </td><td>Male</td><td>NA  </td><td>37  </td><td>68  </td></tr>\n",
       "\t<tr><td> 6  </td><td>Male</td><td>18  </td><td>NA  </td><td>66  </td></tr>\n",
       "\t<tr><td> 7  </td><td>Male</td><td>26  </td><td>60  </td><td>66  </td></tr>\n",
       "\t<tr><td> 8  </td><td>Male</td><td>26  </td><td>56  </td><td>40  </td></tr>\n",
       "\t<tr><td> 9  </td><td>Male</td><td>24  </td><td>55  </td><td>57  </td></tr>\n",
       "\t<tr><td>10  </td><td>Male</td><td>NA  </td><td>51  </td><td>62  </td></tr>\n",
       "\t<tr><td>11  </td><td>Male</td><td>32  </td><td>54  </td><td>61  </td></tr>\n",
       "\t<tr><td>12  </td><td>Male</td><td>17  </td><td>NA  </td><td>54  </td></tr>\n",
       "\t<tr><td>13  </td><td>Male</td><td>14  </td><td>55  </td><td>68  </td></tr>\n",
       "\t<tr><td>14  </td><td>Male</td><td>26  </td><td>54  </td><td>56  </td></tr>\n",
       "\t<tr><td>15  </td><td>Male</td><td>NA  </td><td>59  </td><td>52  </td></tr>\n",
       "\t<tr><td>16  </td><td>Male</td><td>11  </td><td>58  </td><td>65  </td></tr>\n",
       "\t<tr><td>17  </td><td>Male</td><td>17  </td><td>62  </td><td>62  </td></tr>\n",
       "\t<tr><td>18  </td><td>Male</td><td>12  </td><td>NA  </td><td>48  </td></tr>\n",
       "\t<tr><td>19  </td><td>Male</td><td>32  </td><td>71  </td><td>55  </td></tr>\n",
       "\t<tr><td>20  </td><td>Male</td><td>NA  </td><td>60  </td><td>57  </td></tr>\n",
       "\t<tr><td>21  </td><td>Male</td><td>40  </td><td>55  </td><td>64  </td></tr>\n",
       "\t<tr><td>22  </td><td>Male</td><td>18  </td><td>49  </td><td>60  </td></tr>\n",
       "\t<tr><td>23  </td><td>Male</td><td> 3  </td><td>67  </td><td>59  </td></tr>\n",
       "\t<tr><td>24  </td><td>Male</td><td>39  </td><td>NA  </td><td>52  </td></tr>\n",
       "\t<tr><td>25  </td><td>Male</td><td>NA  </td><td>48  </td><td>47  </td></tr>\n",
       "\t<tr><td>26  </td><td>Male</td><td>21  </td><td>51  </td><td>58  </td></tr>\n",
       "\t<tr><td>27  </td><td>Male</td><td>19  </td><td>50  </td><td>53  </td></tr>\n",
       "\t<tr><td>28  </td><td>Male</td><td>17  </td><td>64  </td><td>44  </td></tr>\n",
       "\t<tr><td>29  </td><td>Male</td><td>24  </td><td>58  </td><td>68  </td></tr>\n",
       "\t<tr><td>30  </td><td>Male</td><td>NA  </td><td>NA  </td><td>60  </td></tr>\n",
       "\t<tr><td>...</td><td>...</td><td>...</td><td>...</td><td>...</td></tr>\n",
       "\t<tr><td> 71   </td><td>Female</td><td>16    </td><td>58    </td><td>54    </td></tr>\n",
       "\t<tr><td> 72   </td><td>Female</td><td> 5    </td><td>63    </td><td>72    </td></tr>\n",
       "\t<tr><td> 73   </td><td>Female</td><td>15    </td><td>45    </td><td>64    </td></tr>\n",
       "\t<tr><td> 74   </td><td>Female</td><td>18    </td><td>41    </td><td>58    </td></tr>\n",
       "\t<tr><td> 75   </td><td>Female</td><td>12    </td><td>52    </td><td>48    </td></tr>\n",
       "\t<tr><td> 76   </td><td>Female</td><td>36    </td><td>52    </td><td>44    </td></tr>\n",
       "\t<tr><td> 77   </td><td>Female</td><td>20    </td><td>57    </td><td>49    </td></tr>\n",
       "\t<tr><td> 78   </td><td>Female</td><td> 1    </td><td>50    </td><td>63    </td></tr>\n",
       "\t<tr><td> 79   </td><td>Female</td><td>17    </td><td>54    </td><td>63    </td></tr>\n",
       "\t<tr><td> 80   </td><td>Female</td><td> 7    </td><td>64    </td><td>58    </td></tr>\n",
       "\t<tr><td> 81   </td><td>Female</td><td>25    </td><td>63    </td><td>60    </td></tr>\n",
       "\t<tr><td> 82   </td><td>Female</td><td>10    </td><td>64    </td><td>40    </td></tr>\n",
       "\t<tr><td> 83   </td><td>Female</td><td>13    </td><td>53    </td><td>57    </td></tr>\n",
       "\t<tr><td> 84   </td><td>Female</td><td>28    </td><td>56    </td><td>62    </td></tr>\n",
       "\t<tr><td> 85   </td><td>Female</td><td>17    </td><td>53    </td><td>64    </td></tr>\n",
       "\t<tr><td> 86   </td><td>Female</td><td>29    </td><td>36    </td><td>63    </td></tr>\n",
       "\t<tr><td> 87   </td><td>Female</td><td>22    </td><td>52    </td><td>67    </td></tr>\n",
       "\t<tr><td> 88   </td><td>Female</td><td>14    </td><td>53    </td><td>66    </td></tr>\n",
       "\t<tr><td> 89   </td><td>Female</td><td>35    </td><td>57    </td><td>54    </td></tr>\n",
       "\t<tr><td> 90   </td><td>Female</td><td> 7    </td><td>52    </td><td>50    </td></tr>\n",
       "\t<tr><td> 91   </td><td>Female</td><td>15    </td><td>58    </td><td>50    </td></tr>\n",
       "\t<tr><td> 92   </td><td>Female</td><td>41    </td><td>56    </td><td>68    </td></tr>\n",
       "\t<tr><td> 93   </td><td>Female</td><td> 2    </td><td>61    </td><td>46    </td></tr>\n",
       "\t<tr><td> 94   </td><td>Female</td><td>27    </td><td>58    </td><td>54    </td></tr>\n",
       "\t<tr><td> 95   </td><td>Female</td><td>31    </td><td>49    </td><td>53    </td></tr>\n",
       "\t<tr><td> 96   </td><td>Female</td><td> 9    </td><td>50    </td><td>67    </td></tr>\n",
       "\t<tr><td> 97   </td><td>Female</td><td>22    </td><td>63    </td><td>54    </td></tr>\n",
       "\t<tr><td> 98   </td><td>Female</td><td>22    </td><td>57    </td><td>45    </td></tr>\n",
       "\t<tr><td> 99   </td><td>Female</td><td>36    </td><td>56    </td><td>65    </td></tr>\n",
       "\t<tr><td>100   </td><td>Female</td><td>28    </td><td>55    </td><td>55    </td></tr>\n",
       "</tbody>\n",
       "</table>\n"
      ],
      "text/latex": [
       "\\begin{tabular}{r|lllll}\n",
       " id & gender & test1 & test2 & test3\\\\\n",
       "\\hline\n",
       "\t  1   & Male & 12   & 56   & 50  \\\\\n",
       "\t  2   & Male & 34   & 58   & 51  \\\\\n",
       "\t  3   & Male & 23   & 61   & 63  \\\\\n",
       "\t  4   & Male & 15   & 67   & 62  \\\\\n",
       "\t  5   & Male & NA   & 37   & 68  \\\\\n",
       "\t  6   & Male & 18   & NA   & 66  \\\\\n",
       "\t  7   & Male & 26   & 60   & 66  \\\\\n",
       "\t  8   & Male & 26   & 56   & 40  \\\\\n",
       "\t  9   & Male & 24   & 55   & 57  \\\\\n",
       "\t 10   & Male & NA   & 51   & 62  \\\\\n",
       "\t 11   & Male & 32   & 54   & 61  \\\\\n",
       "\t 12   & Male & 17   & NA   & 54  \\\\\n",
       "\t 13   & Male & 14   & 55   & 68  \\\\\n",
       "\t 14   & Male & 26   & 54   & 56  \\\\\n",
       "\t 15   & Male & NA   & 59   & 52  \\\\\n",
       "\t 16   & Male & 11   & 58   & 65  \\\\\n",
       "\t 17   & Male & 17   & 62   & 62  \\\\\n",
       "\t 18   & Male & 12   & NA   & 48  \\\\\n",
       "\t 19   & Male & 32   & 71   & 55  \\\\\n",
       "\t 20   & Male & NA   & 60   & 57  \\\\\n",
       "\t 21   & Male & 40   & 55   & 64  \\\\\n",
       "\t 22   & Male & 18   & 49   & 60  \\\\\n",
       "\t 23   & Male &  3   & 67   & 59  \\\\\n",
       "\t 24   & Male & 39   & NA   & 52  \\\\\n",
       "\t 25   & Male & NA   & 48   & 47  \\\\\n",
       "\t 26   & Male & 21   & 51   & 58  \\\\\n",
       "\t 27   & Male & 19   & 50   & 53  \\\\\n",
       "\t 28   & Male & 17   & 64   & 44  \\\\\n",
       "\t 29   & Male & 24   & 58   & 68  \\\\\n",
       "\t 30   & Male & NA   & NA   & 60  \\\\\n",
       "\t ... & ... & ... & ... & ...\\\\\n",
       "\t  71    & Female & 16     & 58     & 54    \\\\\n",
       "\t  72    & Female &  5     & 63     & 72    \\\\\n",
       "\t  73    & Female & 15     & 45     & 64    \\\\\n",
       "\t  74    & Female & 18     & 41     & 58    \\\\\n",
       "\t  75    & Female & 12     & 52     & 48    \\\\\n",
       "\t  76    & Female & 36     & 52     & 44    \\\\\n",
       "\t  77    & Female & 20     & 57     & 49    \\\\\n",
       "\t  78    & Female &  1     & 50     & 63    \\\\\n",
       "\t  79    & Female & 17     & 54     & 63    \\\\\n",
       "\t  80    & Female &  7     & 64     & 58    \\\\\n",
       "\t  81    & Female & 25     & 63     & 60    \\\\\n",
       "\t  82    & Female & 10     & 64     & 40    \\\\\n",
       "\t  83    & Female & 13     & 53     & 57    \\\\\n",
       "\t  84    & Female & 28     & 56     & 62    \\\\\n",
       "\t  85    & Female & 17     & 53     & 64    \\\\\n",
       "\t  86    & Female & 29     & 36     & 63    \\\\\n",
       "\t  87    & Female & 22     & 52     & 67    \\\\\n",
       "\t  88    & Female & 14     & 53     & 66    \\\\\n",
       "\t  89    & Female & 35     & 57     & 54    \\\\\n",
       "\t  90    & Female &  7     & 52     & 50    \\\\\n",
       "\t  91    & Female & 15     & 58     & 50    \\\\\n",
       "\t  92    & Female & 41     & 56     & 68    \\\\\n",
       "\t  93    & Female &  2     & 61     & 46    \\\\\n",
       "\t  94    & Female & 27     & 58     & 54    \\\\\n",
       "\t  95    & Female & 31     & 49     & 53    \\\\\n",
       "\t  96    & Female &  9     & 50     & 67    \\\\\n",
       "\t  97    & Female & 22     & 63     & 54    \\\\\n",
       "\t  98    & Female & 22     & 57     & 45    \\\\\n",
       "\t  99    & Female & 36     & 56     & 65    \\\\\n",
       "\t 100    & Female & 28     & 55     & 55    \\\\\n",
       "\\end{tabular}\n"
      ],
      "text/markdown": [
       "\n",
       "id | gender | test1 | test2 | test3 | \n",
       "|---|---|---|---|---|---|---|---|---|---|---|---|---|---|---|---|---|---|---|---|---|---|---|---|---|---|---|---|---|---|---|---|---|---|---|---|---|---|---|---|---|---|---|---|---|---|---|---|---|---|---|---|---|---|---|---|---|---|---|---|---|\n",
       "|  1   | Male | 12   | 56   | 50   | \n",
       "|  2   | Male | 34   | 58   | 51   | \n",
       "|  3   | Male | 23   | 61   | 63   | \n",
       "|  4   | Male | 15   | 67   | 62   | \n",
       "|  5   | Male | NA   | 37   | 68   | \n",
       "|  6   | Male | 18   | NA   | 66   | \n",
       "|  7   | Male | 26   | 60   | 66   | \n",
       "|  8   | Male | 26   | 56   | 40   | \n",
       "|  9   | Male | 24   | 55   | 57   | \n",
       "| 10   | Male | NA   | 51   | 62   | \n",
       "| 11   | Male | 32   | 54   | 61   | \n",
       "| 12   | Male | 17   | NA   | 54   | \n",
       "| 13   | Male | 14   | 55   | 68   | \n",
       "| 14   | Male | 26   | 54   | 56   | \n",
       "| 15   | Male | NA   | 59   | 52   | \n",
       "| 16   | Male | 11   | 58   | 65   | \n",
       "| 17   | Male | 17   | 62   | 62   | \n",
       "| 18   | Male | 12   | NA   | 48   | \n",
       "| 19   | Male | 32   | 71   | 55   | \n",
       "| 20   | Male | NA   | 60   | 57   | \n",
       "| 21   | Male | 40   | 55   | 64   | \n",
       "| 22   | Male | 18   | 49   | 60   | \n",
       "| 23   | Male |  3   | 67   | 59   | \n",
       "| 24   | Male | 39   | NA   | 52   | \n",
       "| 25   | Male | NA   | 48   | 47   | \n",
       "| 26   | Male | 21   | 51   | 58   | \n",
       "| 27   | Male | 19   | 50   | 53   | \n",
       "| 28   | Male | 17   | 64   | 44   | \n",
       "| 29   | Male | 24   | 58   | 68   | \n",
       "| 30   | Male | NA   | NA   | 60   | \n",
       "| ... | ... | ... | ... | ... | \n",
       "|  71    | Female | 16     | 58     | 54     | \n",
       "|  72    | Female |  5     | 63     | 72     | \n",
       "|  73    | Female | 15     | 45     | 64     | \n",
       "|  74    | Female | 18     | 41     | 58     | \n",
       "|  75    | Female | 12     | 52     | 48     | \n",
       "|  76    | Female | 36     | 52     | 44     | \n",
       "|  77    | Female | 20     | 57     | 49     | \n",
       "|  78    | Female |  1     | 50     | 63     | \n",
       "|  79    | Female | 17     | 54     | 63     | \n",
       "|  80    | Female |  7     | 64     | 58     | \n",
       "|  81    | Female | 25     | 63     | 60     | \n",
       "|  82    | Female | 10     | 64     | 40     | \n",
       "|  83    | Female | 13     | 53     | 57     | \n",
       "|  84    | Female | 28     | 56     | 62     | \n",
       "|  85    | Female | 17     | 53     | 64     | \n",
       "|  86    | Female | 29     | 36     | 63     | \n",
       "|  87    | Female | 22     | 52     | 67     | \n",
       "|  88    | Female | 14     | 53     | 66     | \n",
       "|  89    | Female | 35     | 57     | 54     | \n",
       "|  90    | Female |  7     | 52     | 50     | \n",
       "|  91    | Female | 15     | 58     | 50     | \n",
       "|  92    | Female | 41     | 56     | 68     | \n",
       "|  93    | Female |  2     | 61     | 46     | \n",
       "|  94    | Female | 27     | 58     | 54     | \n",
       "|  95    | Female | 31     | 49     | 53     | \n",
       "|  96    | Female |  9     | 50     | 67     | \n",
       "|  97    | Female | 22     | 63     | 54     | \n",
       "|  98    | Female | 22     | 57     | 45     | \n",
       "|  99    | Female | 36     | 56     | 65     | \n",
       "| 100    | Female | 28     | 55     | 55     | \n",
       "\n",
       "\n"
      ],
      "text/plain": [
       "    id  gender test1 test2 test3\n",
       "1    1  Male   12    56    50   \n",
       "2    2  Male   34    58    51   \n",
       "3    3  Male   23    61    63   \n",
       "4    4  Male   15    67    62   \n",
       "5    5  Male   NA    37    68   \n",
       "6    6  Male   18    NA    66   \n",
       "7    7  Male   26    60    66   \n",
       "8    8  Male   26    56    40   \n",
       "9    9  Male   24    55    57   \n",
       "10  10  Male   NA    51    62   \n",
       "11  11  Male   32    54    61   \n",
       "12  12  Male   17    NA    54   \n",
       "13  13  Male   14    55    68   \n",
       "14  14  Male   26    54    56   \n",
       "15  15  Male   NA    59    52   \n",
       "16  16  Male   11    58    65   \n",
       "17  17  Male   17    62    62   \n",
       "18  18  Male   12    NA    48   \n",
       "19  19  Male   32    71    55   \n",
       "20  20  Male   NA    60    57   \n",
       "21  21  Male   40    55    64   \n",
       "22  22  Male   18    49    60   \n",
       "23  23  Male    3    67    59   \n",
       "24  24  Male   39    NA    52   \n",
       "25  25  Male   NA    48    47   \n",
       "26  26  Male   21    51    58   \n",
       "27  27  Male   19    50    53   \n",
       "28  28  Male   17    64    44   \n",
       "29  29  Male   24    58    68   \n",
       "30  30  Male   NA    NA    60   \n",
       "... ... ...    ...   ...   ...  \n",
       "71   71 Female 16    58    54   \n",
       "72   72 Female  5    63    72   \n",
       "73   73 Female 15    45    64   \n",
       "74   74 Female 18    41    58   \n",
       "75   75 Female 12    52    48   \n",
       "76   76 Female 36    52    44   \n",
       "77   77 Female 20    57    49   \n",
       "78   78 Female  1    50    63   \n",
       "79   79 Female 17    54    63   \n",
       "80   80 Female  7    64    58   \n",
       "81   81 Female 25    63    60   \n",
       "82   82 Female 10    64    40   \n",
       "83   83 Female 13    53    57   \n",
       "84   84 Female 28    56    62   \n",
       "85   85 Female 17    53    64   \n",
       "86   86 Female 29    36    63   \n",
       "87   87 Female 22    52    67   \n",
       "88   88 Female 14    53    66   \n",
       "89   89 Female 35    57    54   \n",
       "90   90 Female  7    52    50   \n",
       "91   91 Female 15    58    50   \n",
       "92   92 Female 41    56    68   \n",
       "93   93 Female  2    61    46   \n",
       "94   94 Female 27    58    54   \n",
       "95   95 Female 31    49    53   \n",
       "96   96 Female  9    50    67   \n",
       "97   97 Female 22    63    54   \n",
       "98   98 Female 22    57    45   \n",
       "99   99 Female 36    56    65   \n",
       "100 100 Female 28    55    55   "
      ]
     },
     "metadata": {},
     "output_type": "display_data"
    }
   ],
   "source": [
    "read.csv(\"Class1.csv\")"
   ]
  }
 ],
 "metadata": {
  "kernelspec": {
   "display_name": "R 3.3",
   "language": "R",
   "name": "ir33"
  },
  "language_info": {
   "codemirror_mode": "r",
   "file_extension": ".r",
   "mimetype": "text/x-r-source",
   "name": "R",
   "pygments_lexer": "r",
   "version": "3.3.1"
  }
 },
 "nbformat": 4,
 "nbformat_minor": 2
}
