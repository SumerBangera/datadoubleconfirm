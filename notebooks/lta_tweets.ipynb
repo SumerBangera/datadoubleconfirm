{
 "cells": [
  {
   "cell_type": "markdown",
   "metadata": {},
   "source": [
    "Tweets from [LTATrafficNews](https://twitter.com/ltatrafficnews?lang=en) were scrapped using [twitterscraper](https://github.com/taspinar/twitterscraper). Currently limited to approx. 800 tweets which is the limit for the number of tweets shown on the page. Note that the data collected is between 2019-12-12 10:24:15 GMT and 2019-12-29 03:07:00 GMT.\n",
    "\n",
    "In this exercise, we try to extract information from text and time data to understand possible patterns. "
   ]
  },
  {
   "cell_type": "code",
   "execution_count": 1,
   "metadata": {},
   "outputs": [],
   "source": [
    "import pandas as pd"
   ]
  },
  {
   "cell_type": "code",
   "execution_count": 2,
   "metadata": {},
   "outputs": [],
   "source": [
    "df = pd.read_json('tweets_lta.json', encoding='utf-8')"
   ]
  },
  {
   "cell_type": "code",
   "execution_count": 3,
   "metadata": {},
   "outputs": [
    {
     "data": {
      "text/html": [
       "<div>\n",
       "<style scoped>\n",
       "    .dataframe tbody tr th:only-of-type {\n",
       "        vertical-align: middle;\n",
       "    }\n",
       "\n",
       "    .dataframe tbody tr th {\n",
       "        vertical-align: top;\n",
       "    }\n",
       "\n",
       "    .dataframe thead th {\n",
       "        text-align: right;\n",
       "    }\n",
       "</style>\n",
       "<table border=\"1\" class=\"dataframe\">\n",
       "  <thead>\n",
       "    <tr style=\"text-align: right;\">\n",
       "      <th></th>\n",
       "      <th>has_media</th>\n",
       "      <th>hashtags</th>\n",
       "      <th>img_urls</th>\n",
       "      <th>is_replied</th>\n",
       "      <th>is_reply_to</th>\n",
       "      <th>likes</th>\n",
       "      <th>links</th>\n",
       "      <th>parent_tweet_id</th>\n",
       "      <th>replies</th>\n",
       "      <th>reply_to_users</th>\n",
       "      <th>...</th>\n",
       "      <th>screen_name</th>\n",
       "      <th>text</th>\n",
       "      <th>text_html</th>\n",
       "      <th>timestamp</th>\n",
       "      <th>timestamp_epochs</th>\n",
       "      <th>tweet_id</th>\n",
       "      <th>tweet_url</th>\n",
       "      <th>user_id</th>\n",
       "      <th>username</th>\n",
       "      <th>video_url</th>\n",
       "    </tr>\n",
       "  </thead>\n",
       "  <tbody>\n",
       "    <tr>\n",
       "      <th>0</th>\n",
       "      <td>False</td>\n",
       "      <td>[]</td>\n",
       "      <td>[]</td>\n",
       "      <td>False</td>\n",
       "      <td>False</td>\n",
       "      <td>0</td>\n",
       "      <td>[]</td>\n",
       "      <td></td>\n",
       "      <td>0</td>\n",
       "      <td>[]</td>\n",
       "      <td>...</td>\n",
       "      <td>LTAtrafficnews</td>\n",
       "      <td>Accident on PIE (towards Tuas) after KPE Exit ...</td>\n",
       "      <td>&lt;p class=\"TweetTextSize TweetTextSize--normal ...</td>\n",
       "      <td>2019-12-29 03:07:00</td>\n",
       "      <td>2019-12-29 03:07:00</td>\n",
       "      <td>1211121410766016512</td>\n",
       "      <td>/LTAtrafficnews/status/1211121410766016518</td>\n",
       "      <td>4291685673</td>\n",
       "      <td>LTATrafficNews</td>\n",
       "      <td></td>\n",
       "    </tr>\n",
       "    <tr>\n",
       "      <th>1</th>\n",
       "      <td>False</td>\n",
       "      <td>[]</td>\n",
       "      <td>[]</td>\n",
       "      <td>False</td>\n",
       "      <td>False</td>\n",
       "      <td>0</td>\n",
       "      <td>[]</td>\n",
       "      <td></td>\n",
       "      <td>0</td>\n",
       "      <td>[]</td>\n",
       "      <td>...</td>\n",
       "      <td>LTAtrafficnews</td>\n",
       "      <td>Accident on PIE (towards Tuas) after KPE Exit....</td>\n",
       "      <td>&lt;p class=\"TweetTextSize TweetTextSize--normal ...</td>\n",
       "      <td>2019-12-29 02:51:09</td>\n",
       "      <td>2019-12-29 02:51:09</td>\n",
       "      <td>1211117421861298176</td>\n",
       "      <td>/LTAtrafficnews/status/1211117421861298180</td>\n",
       "      <td>4291685673</td>\n",
       "      <td>LTATrafficNews</td>\n",
       "      <td></td>\n",
       "    </tr>\n",
       "    <tr>\n",
       "      <th>2</th>\n",
       "      <td>False</td>\n",
       "      <td>[]</td>\n",
       "      <td>[]</td>\n",
       "      <td>False</td>\n",
       "      <td>False</td>\n",
       "      <td>0</td>\n",
       "      <td>[]</td>\n",
       "      <td></td>\n",
       "      <td>0</td>\n",
       "      <td>[]</td>\n",
       "      <td>...</td>\n",
       "      <td>LTAtrafficnews</td>\n",
       "      <td>Accident on MCE (towards ECP) before ECP (Chan...</td>\n",
       "      <td>&lt;p class=\"TweetTextSize TweetTextSize--normal ...</td>\n",
       "      <td>2019-12-29 01:32:59</td>\n",
       "      <td>2019-12-29 01:32:59</td>\n",
       "      <td>1211097750319714304</td>\n",
       "      <td>/LTAtrafficnews/status/1211097750319714306</td>\n",
       "      <td>4291685673</td>\n",
       "      <td>LTATrafficNews</td>\n",
       "      <td></td>\n",
       "    </tr>\n",
       "    <tr>\n",
       "      <th>3</th>\n",
       "      <td>False</td>\n",
       "      <td>[]</td>\n",
       "      <td>[]</td>\n",
       "      <td>False</td>\n",
       "      <td>False</td>\n",
       "      <td>0</td>\n",
       "      <td>[]</td>\n",
       "      <td></td>\n",
       "      <td>0</td>\n",
       "      <td>[]</td>\n",
       "      <td>...</td>\n",
       "      <td>LTAtrafficnews</td>\n",
       "      <td>Accident on MCE (towards ECP) before ECP (Chan...</td>\n",
       "      <td>&lt;p class=\"TweetTextSize TweetTextSize--normal ...</td>\n",
       "      <td>2019-12-29 01:13:26</td>\n",
       "      <td>2019-12-29 01:13:26</td>\n",
       "      <td>1211092828618555392</td>\n",
       "      <td>/LTAtrafficnews/status/1211092828618555392</td>\n",
       "      <td>4291685673</td>\n",
       "      <td>LTATrafficNews</td>\n",
       "      <td></td>\n",
       "    </tr>\n",
       "    <tr>\n",
       "      <th>4</th>\n",
       "      <td>False</td>\n",
       "      <td>[]</td>\n",
       "      <td>[]</td>\n",
       "      <td>False</td>\n",
       "      <td>False</td>\n",
       "      <td>0</td>\n",
       "      <td>[]</td>\n",
       "      <td></td>\n",
       "      <td>0</td>\n",
       "      <td>[]</td>\n",
       "      <td>...</td>\n",
       "      <td>LTAtrafficnews</td>\n",
       "      <td>Accident on West Coast Highway (towards City) ...</td>\n",
       "      <td>&lt;p class=\"TweetTextSize TweetTextSize--normal ...</td>\n",
       "      <td>2019-12-29 00:28:50</td>\n",
       "      <td>2019-12-29 00:28:50</td>\n",
       "      <td>1211081606993080320</td>\n",
       "      <td>/LTAtrafficnews/status/1211081606993080320</td>\n",
       "      <td>4291685673</td>\n",
       "      <td>LTATrafficNews</td>\n",
       "      <td></td>\n",
       "    </tr>\n",
       "  </tbody>\n",
       "</table>\n",
       "<p>5 rows × 21 columns</p>\n",
       "</div>"
      ],
      "text/plain": [
       "   has_media hashtags img_urls  is_replied  is_reply_to  likes links  \\\n",
       "0      False       []       []       False        False      0    []   \n",
       "1      False       []       []       False        False      0    []   \n",
       "2      False       []       []       False        False      0    []   \n",
       "3      False       []       []       False        False      0    []   \n",
       "4      False       []       []       False        False      0    []   \n",
       "\n",
       "  parent_tweet_id  replies reply_to_users  ...     screen_name  \\\n",
       "0                        0             []  ...  LTAtrafficnews   \n",
       "1                        0             []  ...  LTAtrafficnews   \n",
       "2                        0             []  ...  LTAtrafficnews   \n",
       "3                        0             []  ...  LTAtrafficnews   \n",
       "4                        0             []  ...  LTAtrafficnews   \n",
       "\n",
       "                                                text  \\\n",
       "0  Accident on PIE (towards Tuas) after KPE Exit ...   \n",
       "1  Accident on PIE (towards Tuas) after KPE Exit....   \n",
       "2  Accident on MCE (towards ECP) before ECP (Chan...   \n",
       "3  Accident on MCE (towards ECP) before ECP (Chan...   \n",
       "4  Accident on West Coast Highway (towards City) ...   \n",
       "\n",
       "                                           text_html           timestamp  \\\n",
       "0  <p class=\"TweetTextSize TweetTextSize--normal ... 2019-12-29 03:07:00   \n",
       "1  <p class=\"TweetTextSize TweetTextSize--normal ... 2019-12-29 02:51:09   \n",
       "2  <p class=\"TweetTextSize TweetTextSize--normal ... 2019-12-29 01:32:59   \n",
       "3  <p class=\"TweetTextSize TweetTextSize--normal ... 2019-12-29 01:13:26   \n",
       "4  <p class=\"TweetTextSize TweetTextSize--normal ... 2019-12-29 00:28:50   \n",
       "\n",
       "     timestamp_epochs             tweet_id  \\\n",
       "0 2019-12-29 03:07:00  1211121410766016512   \n",
       "1 2019-12-29 02:51:09  1211117421861298176   \n",
       "2 2019-12-29 01:32:59  1211097750319714304   \n",
       "3 2019-12-29 01:13:26  1211092828618555392   \n",
       "4 2019-12-29 00:28:50  1211081606993080320   \n",
       "\n",
       "                                    tweet_url     user_id        username  \\\n",
       "0  /LTAtrafficnews/status/1211121410766016518  4291685673  LTATrafficNews   \n",
       "1  /LTAtrafficnews/status/1211117421861298180  4291685673  LTATrafficNews   \n",
       "2  /LTAtrafficnews/status/1211097750319714306  4291685673  LTATrafficNews   \n",
       "3  /LTAtrafficnews/status/1211092828618555392  4291685673  LTATrafficNews   \n",
       "4  /LTAtrafficnews/status/1211081606993080320  4291685673  LTATrafficNews   \n",
       "\n",
       "  video_url  \n",
       "0            \n",
       "1            \n",
       "2            \n",
       "3            \n",
       "4            \n",
       "\n",
       "[5 rows x 21 columns]"
      ]
     },
     "execution_count": 3,
     "metadata": {},
     "output_type": "execute_result"
    }
   ],
   "source": [
    "df.head()"
   ]
  },
  {
   "cell_type": "code",
   "execution_count": 4,
   "metadata": {},
   "outputs": [
    {
     "data": {
      "text/plain": [
       "has_media                     bool\n",
       "hashtags                    object\n",
       "img_urls                    object\n",
       "is_replied                    bool\n",
       "is_reply_to                   bool\n",
       "likes                        int64\n",
       "links                       object\n",
       "parent_tweet_id             object\n",
       "replies                      int64\n",
       "reply_to_users              object\n",
       "retweets                     int64\n",
       "screen_name                 object\n",
       "text                        object\n",
       "text_html                   object\n",
       "timestamp           datetime64[ns]\n",
       "timestamp_epochs    datetime64[ns]\n",
       "tweet_id                     int64\n",
       "tweet_url                   object\n",
       "user_id                      int64\n",
       "username                    object\n",
       "video_url                   object\n",
       "dtype: object"
      ]
     },
     "execution_count": 4,
     "metadata": {},
     "output_type": "execute_result"
    }
   ],
   "source": [
    "df.dtypes"
   ]
  },
  {
   "cell_type": "code",
   "execution_count": 5,
   "metadata": {},
   "outputs": [
    {
     "data": {
      "text/plain": [
       "Timestamp('2019-12-12 10:24:15')"
      ]
     },
     "execution_count": 5,
     "metadata": {},
     "output_type": "execute_result"
    }
   ],
   "source": [
    "df.timestamp.min()"
   ]
  },
  {
   "cell_type": "code",
   "execution_count": 6,
   "metadata": {},
   "outputs": [
    {
     "data": {
      "text/plain": [
       "Timestamp('2019-12-29 03:07:00')"
      ]
     },
     "execution_count": 6,
     "metadata": {},
     "output_type": "execute_result"
    }
   ],
   "source": [
    "df.timestamp.max()"
   ]
  },
  {
   "cell_type": "code",
   "execution_count": 7,
   "metadata": {},
   "outputs": [
    {
     "data": {
      "text/plain": [
       "array([False])"
      ]
     },
     "execution_count": 7,
     "metadata": {},
     "output_type": "execute_result"
    }
   ],
   "source": [
    "df.has_media.unique()"
   ]
  },
  {
   "cell_type": "code",
   "execution_count": 8,
   "metadata": {},
   "outputs": [
    {
     "data": {
      "text/plain": [
       "(820, 21)"
      ]
     },
     "execution_count": 8,
     "metadata": {},
     "output_type": "execute_result"
    }
   ],
   "source": [
    "df.shape"
   ]
  },
  {
   "cell_type": "code",
   "execution_count": 9,
   "metadata": {},
   "outputs": [
    {
     "data": {
      "text/plain": [
       "11"
      ]
     },
     "execution_count": 9,
     "metadata": {},
     "output_type": "execute_result"
    }
   ],
   "source": [
    "df.likes.max()"
   ]
  },
  {
   "cell_type": "code",
   "execution_count": 10,
   "metadata": {},
   "outputs": [
    {
     "data": {
      "text/plain": [
       "0      Accident on PIE (towards Tuas) after KPE Exit ...\n",
       "1      Accident on PIE (towards Tuas) after KPE Exit....\n",
       "2      Accident on MCE (towards ECP) before ECP (Chan...\n",
       "3      Accident on MCE (towards ECP) before ECP (Chan...\n",
       "4      Accident on West Coast Highway (towards City) ...\n",
       "5      Accident on MCE (towards ECP) before ECP (Chan...\n",
       "6      Accident on MCE (towards ECP) before ECP (Chan...\n",
       "7      Fire on MCE (towards ECP) before ECP (Changi) ...\n",
       "8      Accident on PIE (towards Changi Airport) after...\n",
       "9           Accident at Jalan Eunos/Sims Avenue Junction\n",
       "10     Accident on SLE (towards BKE) before Mandai Rd...\n",
       "11     Accident on SLE (towards BKE) before Mandai Rd...\n",
       "12     Accident on SLE (towards BKE) before Mandai Rd...\n",
       "13     Accident on CTE (towards SLE) after Braddell R...\n",
       "14     Accident on KPE (towards TPE) before Tampines ...\n",
       "15     Accident on KPE (towards TPE) before Tampines ...\n",
       "16     Accident on Eng Neo Avenue (towards Fairways D...\n",
       "17     Accident on PIE (towards Changi Airport) at En...\n",
       "18     Accident on Eng Neo Avenue (towards Fairways D...\n",
       "19     Accident on PIE (towards Tuas) at Eng Neo Rd E...\n",
       "20     Accident on PIE (towards Tuas) at Eng Neo Rd Exit\n",
       "21         Accident on KPE (towards ECP) at PIE Entrance\n",
       "22     Accident on Marine Parade Road (towards Telok ...\n",
       "23     Accident on PIE (towards Tuas) at Bukit Batok ...\n",
       "24     Obstacle on PIE (towards Changi Airport) befor...\n",
       "25     Obstacle on ECP (towards City) after Rochor Rd...\n",
       "26     Obstacle on PIE (towards Changi Airport) befor...\n",
       "27     Accident on PIE (towards Tuas) at Jurong Town ...\n",
       "28     Accident on PIE (towards Changi Airport) after...\n",
       "29     Accident on PIE (towards Changi Airport) after...\n",
       "                             ...                        \n",
       "790    Accident on PIE (towards Changi Airport) after...\n",
       "791    Accident on Nicoll Highway (towards Guillemard...\n",
       "792    Accident in CTE Tunnel (towards SLE) after Out...\n",
       "793    Accident on PIE (towards Changi Airport) after...\n",
       "794    Accident on PIE (towards Tuas) at Tampines Ave...\n",
       "795    Accident on AYE (towards Tuas) after Clementi ...\n",
       "796    Accident on AYE (towards Tuas) after Clementi ...\n",
       "797    Accident on PIE (towards Tuas) at Tampines Ave...\n",
       "798    Accident on Eu Tong Sen Street (towards Mercha...\n",
       "799    Accident on KJE (towards BKE) after Woodlands ...\n",
       "800    Obstacle on CTE (towards AYE) after Balestier ...\n",
       "801    Accident on PIE (towards Changi Airport) befor...\n",
       "802    Accident on AYE (towards MCE) before Alexandra...\n",
       "803    Heavy Traffic on Whitley Slip Road near Dunear...\n",
       "804    Accident on Whitley Slip Road near Dunearn Roa...\n",
       "805    Accident in CTE Tunnel (towards SLE) after Cai...\n",
       "806    Obstacle on AYE (towards Tuas) before Buona Vi...\n",
       "807    Accident on Whitley Slip Road near Dunearn Roa...\n",
       "808         Accident on BKE (towards PIE) after KJE Exit\n",
       "809    Obstacle on PIE (towards Changi Airport) at Cl...\n",
       "810    Accident on BKE (towards PIE) after KJE Exit. ...\n",
       "811    Accident on BKE (towards PIE) after KJE Exit. ...\n",
       "812        Accident on MCE (towards ECP) at Fort Rd Exit\n",
       "813    Accident on ECP (towards Changi Airport) at Fo...\n",
       "814    Obstacle on KPE (towards TPE) before Upper Pay...\n",
       "815    Accident on Moulmein Road near Jalan Tan Tock ...\n",
       "816    Accident on PIE (towards Changi Airport) at Ja...\n",
       "817    Accident on Mountbatten Road (towards Changi) ...\n",
       "818    Obstacle on TPE (towards PIE) before Pasir Ris...\n",
       "819       Accident on AYE (towards MCE) after Yuan Ching\n",
       "Name: text, Length: 820, dtype: object"
      ]
     },
     "execution_count": 10,
     "metadata": {},
     "output_type": "execute_result"
    }
   ],
   "source": [
    "df.text"
   ]
  },
  {
   "cell_type": "markdown",
   "metadata": {},
   "source": [
    "### Getting type of incidents\n",
    "#### Method 1:  Extract first few letters of text"
   ]
  },
  {
   "cell_type": "code",
   "execution_count": 11,
   "metadata": {},
   "outputs": [],
   "source": [
    "df['first_word'] = df['text'].str[:9]"
   ]
  },
  {
   "cell_type": "markdown",
   "metadata": {},
   "source": [
    "#### Type of incidents"
   ]
  },
  {
   "cell_type": "code",
   "execution_count": 12,
   "metadata": {},
   "outputs": [
    {
     "data": {
      "text/plain": [
       "array(['Accident ', 'Fire on M', 'Obstacle ', 'Heavy Tra', 'Road Clos',\n",
       "       '[NSL] UPD'], dtype=object)"
      ]
     },
     "execution_count": 12,
     "metadata": {},
     "output_type": "execute_result"
    }
   ],
   "source": [
    "df.first_word.unique()"
   ]
  },
  {
   "cell_type": "markdown",
   "metadata": {},
   "source": [
    "#### Method 2: Extract text before certain words eg. on, at, in"
   ]
  },
  {
   "cell_type": "code",
   "execution_count": 13,
   "metadata": {},
   "outputs": [],
   "source": [
    "df['road'] = df['text'].str.split('on|at|in', 1).str[0].str.strip()"
   ]
  },
  {
   "cell_type": "code",
   "execution_count": 14,
   "metadata": {},
   "outputs": [
    {
     "data": {
      "text/plain": [
       "0           Accident\n",
       "1           Accident\n",
       "2           Accident\n",
       "3           Accident\n",
       "4           Accident\n",
       "5           Accident\n",
       "6           Accident\n",
       "7               Fire\n",
       "8           Accident\n",
       "9           Accident\n",
       "10          Accident\n",
       "11          Accident\n",
       "12          Accident\n",
       "13          Accident\n",
       "14          Accident\n",
       "15          Accident\n",
       "16          Accident\n",
       "17          Accident\n",
       "18          Accident\n",
       "19          Accident\n",
       "20          Accident\n",
       "21          Accident\n",
       "22          Accident\n",
       "23          Accident\n",
       "24          Obstacle\n",
       "25          Obstacle\n",
       "26          Obstacle\n",
       "27          Accident\n",
       "28          Accident\n",
       "29          Accident\n",
       "           ...      \n",
       "790         Accident\n",
       "791         Accident\n",
       "792         Accident\n",
       "793         Accident\n",
       "794         Accident\n",
       "795         Accident\n",
       "796         Accident\n",
       "797         Accident\n",
       "798         Accident\n",
       "799         Accident\n",
       "800         Obstacle\n",
       "801         Accident\n",
       "802         Accident\n",
       "803    Heavy Traffic\n",
       "804         Accident\n",
       "805         Accident\n",
       "806         Obstacle\n",
       "807         Accident\n",
       "808         Accident\n",
       "809         Obstacle\n",
       "810         Accident\n",
       "811         Accident\n",
       "812         Accident\n",
       "813         Accident\n",
       "814         Obstacle\n",
       "815         Accident\n",
       "816         Accident\n",
       "817         Accident\n",
       "818         Obstacle\n",
       "819         Accident\n",
       "Name: road, Length: 820, dtype: object"
      ]
     },
     "execution_count": 14,
     "metadata": {},
     "output_type": "execute_result"
    }
   ],
   "source": [
    "df.road"
   ]
  },
  {
   "cell_type": "markdown",
   "metadata": {},
   "source": [
    "#### Type of incidents"
   ]
  },
  {
   "cell_type": "code",
   "execution_count": 15,
   "metadata": {
    "scrolled": true
   },
   "outputs": [
    {
     "data": {
      "text/plain": [
       "array(['Accident', 'Fire', 'Obstacle', 'Heavy Traffic', 'Road Closure',\n",
       "       '[NSL] UPDATE: Due to a signall'], dtype=object)"
      ]
     },
     "execution_count": 15,
     "metadata": {},
     "output_type": "execute_result"
    }
   ],
   "source": [
    "df.road.unique()"
   ]
  },
  {
   "cell_type": "markdown",
   "metadata": {},
   "source": [
    "#### Breakdown of number of tweets by type of incidents"
   ]
  },
  {
   "cell_type": "code",
   "execution_count": 16,
   "metadata": {
    "scrolled": true
   },
   "outputs": [
    {
     "data": {
      "text/plain": [
       "Accident                          657\n",
       "Obstacle                          106\n",
       "Heavy Traffic                      42\n",
       "Road Closure                       13\n",
       "Fire                                1\n",
       "[NSL] UPDATE: Due to a signall      1\n",
       "Name: road, dtype: int64"
      ]
     },
     "execution_count": 16,
     "metadata": {},
     "output_type": "execute_result"
    }
   ],
   "source": [
    "df.road.value_counts()"
   ]
  },
  {
   "cell_type": "markdown",
   "metadata": {},
   "source": [
    "### Getting count by date/ day"
   ]
  },
  {
   "cell_type": "code",
   "execution_count": 17,
   "metadata": {},
   "outputs": [],
   "source": [
    "import datetime"
   ]
  },
  {
   "cell_type": "code",
   "execution_count": 18,
   "metadata": {},
   "outputs": [],
   "source": [
    "df['Date'] = [datetime.datetime.date(d) for d in df['timestamp']] "
   ]
  },
  {
   "cell_type": "markdown",
   "metadata": {},
   "source": [
    "#### Breakdown of number of tweets by Date"
   ]
  },
  {
   "cell_type": "code",
   "execution_count": 19,
   "metadata": {},
   "outputs": [
    {
     "data": {
      "text/plain": [
       "2019-12-14    80\n",
       "2019-12-17    71\n",
       "2019-12-15    61\n",
       "2019-12-20    60\n",
       "2019-12-21    58\n",
       "2019-12-13    56\n",
       "2019-12-23    56\n",
       "2019-12-16    54\n",
       "2019-12-27    52\n",
       "2019-12-28    49\n",
       "2019-12-26    44\n",
       "2019-12-19    41\n",
       "2019-12-24    40\n",
       "2019-12-18    36\n",
       "2019-12-25    25\n",
       "2019-12-12    17\n",
       "2019-12-22    15\n",
       "2019-12-29     5\n",
       "Name: Date, dtype: int64"
      ]
     },
     "execution_count": 19,
     "metadata": {},
     "output_type": "execute_result"
    }
   ],
   "source": [
    "df['Date'].value_counts()"
   ]
  },
  {
   "cell_type": "code",
   "execution_count": 20,
   "metadata": {},
   "outputs": [],
   "source": [
    "df['Date'] = pd.to_datetime(df['Date'])\n",
    "df['day_of_week'] = df['Date'].dt.day_name()"
   ]
  },
  {
   "cell_type": "markdown",
   "metadata": {},
   "source": [
    "#### Breakdown of number of tweets by day of the week"
   ]
  },
  {
   "cell_type": "code",
   "execution_count": 21,
   "metadata": {},
   "outputs": [
    {
     "data": {
      "text/plain": [
       "Saturday     187\n",
       "Friday       168\n",
       "Tuesday      111\n",
       "Monday       110\n",
       "Thursday     102\n",
       "Sunday        81\n",
       "Wednesday     61\n",
       "Name: day_of_week, dtype: int64"
      ]
     },
     "execution_count": 21,
     "metadata": {},
     "output_type": "execute_result"
    }
   ],
   "source": [
    "df.day_of_week.value_counts()"
   ]
  },
  {
   "cell_type": "markdown",
   "metadata": {},
   "source": [
    "#### However note that the data might not contain the same number of days for each day of the week. So we look at total number of tweets by each day."
   ]
  },
  {
   "cell_type": "code",
   "execution_count": 22,
   "metadata": {},
   "outputs": [
    {
     "data": {
      "text/plain": [
       "Date        day_of_week\n",
       "2019-12-12  Thursday       17\n",
       "2019-12-13  Friday         56\n",
       "2019-12-14  Saturday       80\n",
       "2019-12-15  Sunday         61\n",
       "2019-12-16  Monday         54\n",
       "2019-12-17  Tuesday        71\n",
       "2019-12-18  Wednesday      36\n",
       "2019-12-19  Thursday       41\n",
       "2019-12-20  Friday         60\n",
       "2019-12-21  Saturday       58\n",
       "2019-12-22  Sunday         15\n",
       "2019-12-23  Monday         56\n",
       "2019-12-24  Tuesday        40\n",
       "2019-12-25  Wednesday      25\n",
       "2019-12-26  Thursday       44\n",
       "2019-12-27  Friday         52\n",
       "2019-12-28  Saturday       49\n",
       "2019-12-29  Sunday          5\n",
       "Name: tweet_id, dtype: int64"
      ]
     },
     "execution_count": 22,
     "metadata": {},
     "output_type": "execute_result"
    }
   ],
   "source": [
    "df.groupby(['Date','day_of_week'])['tweet_id'].count()"
   ]
  },
  {
   "cell_type": "markdown",
   "metadata": {},
   "source": [
    "#### Let's plot a graph to visualize better."
   ]
  },
  {
   "cell_type": "code",
   "execution_count": 23,
   "metadata": {},
   "outputs": [],
   "source": [
    "import matplotlib"
   ]
  },
  {
   "cell_type": "code",
   "execution_count": 24,
   "metadata": {},
   "outputs": [],
   "source": [
    "import matplotlib.pyplot as plt"
   ]
  },
  {
   "cell_type": "code",
   "execution_count": 25,
   "metadata": {},
   "outputs": [],
   "source": [
    "count_df = df.groupby(['Date','day_of_week'])['tweet_id'].count()\n",
    "count_df = count_df.reset_index()"
   ]
  },
  {
   "cell_type": "code",
   "execution_count": 26,
   "metadata": {},
   "outputs": [],
   "source": [
    "count_df.rename(columns = {'tweet_id':'tweet_count'}, inplace = True)"
   ]
  },
  {
   "cell_type": "code",
   "execution_count": 27,
   "metadata": {},
   "outputs": [
    {
     "data": {
      "text/html": [
       "<div>\n",
       "<style scoped>\n",
       "    .dataframe tbody tr th:only-of-type {\n",
       "        vertical-align: middle;\n",
       "    }\n",
       "\n",
       "    .dataframe tbody tr th {\n",
       "        vertical-align: top;\n",
       "    }\n",
       "\n",
       "    .dataframe thead th {\n",
       "        text-align: right;\n",
       "    }\n",
       "</style>\n",
       "<table border=\"1\" class=\"dataframe\">\n",
       "  <thead>\n",
       "    <tr style=\"text-align: right;\">\n",
       "      <th></th>\n",
       "      <th>Date</th>\n",
       "      <th>day_of_week</th>\n",
       "      <th>tweet_count</th>\n",
       "    </tr>\n",
       "  </thead>\n",
       "  <tbody>\n",
       "    <tr>\n",
       "      <th>0</th>\n",
       "      <td>2019-12-12</td>\n",
       "      <td>Thursday</td>\n",
       "      <td>17</td>\n",
       "    </tr>\n",
       "    <tr>\n",
       "      <th>1</th>\n",
       "      <td>2019-12-13</td>\n",
       "      <td>Friday</td>\n",
       "      <td>56</td>\n",
       "    </tr>\n",
       "    <tr>\n",
       "      <th>2</th>\n",
       "      <td>2019-12-14</td>\n",
       "      <td>Saturday</td>\n",
       "      <td>80</td>\n",
       "    </tr>\n",
       "    <tr>\n",
       "      <th>3</th>\n",
       "      <td>2019-12-15</td>\n",
       "      <td>Sunday</td>\n",
       "      <td>61</td>\n",
       "    </tr>\n",
       "    <tr>\n",
       "      <th>4</th>\n",
       "      <td>2019-12-16</td>\n",
       "      <td>Monday</td>\n",
       "      <td>54</td>\n",
       "    </tr>\n",
       "  </tbody>\n",
       "</table>\n",
       "</div>"
      ],
      "text/plain": [
       "        Date day_of_week  tweet_count\n",
       "0 2019-12-12    Thursday           17\n",
       "1 2019-12-13      Friday           56\n",
       "2 2019-12-14    Saturday           80\n",
       "3 2019-12-15      Sunday           61\n",
       "4 2019-12-16      Monday           54"
      ]
     },
     "execution_count": 27,
     "metadata": {},
     "output_type": "execute_result"
    }
   ],
   "source": [
    "count_df.head()"
   ]
  },
  {
   "cell_type": "code",
   "execution_count": 28,
   "metadata": {
    "scrolled": true
   },
   "outputs": [
    {
     "name": "stderr",
     "output_type": "stream",
     "text": [
      "C:\\Users\\huixiang.chua\\AppData\\Local\\Continuum\\anaconda3\\lib\\site-packages\\ipykernel_launcher.py:1: UserWarning: Pandas doesn't allow columns to be created via a new attribute name - see https://pandas.pydata.org/pandas-docs/stable/indexing.html#attribute-access\n",
      "  \"\"\"Entry point for launching an IPython kernel.\n"
     ]
    }
   ],
   "source": [
    "count_df.dates = matplotlib.dates.date2num(count_df.Date)"
   ]
  },
  {
   "cell_type": "code",
   "execution_count": 29,
   "metadata": {},
   "outputs": [],
   "source": [
    "x = count_df.dates\n",
    "y = count_df.tweet_count"
   ]
  },
  {
   "cell_type": "code",
   "execution_count": 30,
   "metadata": {
    "scrolled": true
   },
   "outputs": [
    {
     "data": {
      "text/plain": [
       "array([737405., 737406., 737407., 737408., 737409., 737410., 737411.,\n",
       "       737412., 737413., 737414., 737415., 737416., 737417., 737418.,\n",
       "       737419., 737420., 737421., 737422.])"
      ]
     },
     "execution_count": 30,
     "metadata": {},
     "output_type": "execute_result"
    }
   ],
   "source": [
    "x"
   ]
  },
  {
   "cell_type": "code",
   "execution_count": 31,
   "metadata": {},
   "outputs": [
    {
     "data": {
      "text/plain": [
       "0     17\n",
       "1     56\n",
       "2     80\n",
       "3     61\n",
       "4     54\n",
       "5     71\n",
       "6     36\n",
       "7     41\n",
       "8     60\n",
       "9     58\n",
       "10    15\n",
       "11    56\n",
       "12    40\n",
       "13    25\n",
       "14    44\n",
       "15    52\n",
       "16    49\n",
       "17     5\n",
       "Name: tweet_count, dtype: int64"
      ]
     },
     "execution_count": 31,
     "metadata": {},
     "output_type": "execute_result"
    }
   ],
   "source": [
    "y"
   ]
  },
  {
   "cell_type": "code",
   "execution_count": 32,
   "metadata": {},
   "outputs": [
    {
     "name": "stderr",
     "output_type": "stream",
     "text": [
      "C:\\Users\\huixiang.chua\\AppData\\Local\\Continuum\\anaconda3\\lib\\site-packages\\pandas\\plotting\\_converter.py:129: FutureWarning: Using an implicitly registered datetime converter for a matplotlib plotting method. The converter was registered by pandas on import. Future versions of pandas will require you to explicitly register matplotlib converters.\n",
      "\n",
      "To register the converters:\n",
      "\t>>> from pandas.plotting import register_matplotlib_converters\n",
      "\t>>> register_matplotlib_converters()\n",
      "  warnings.warn(msg, FutureWarning)\n"
     ]
    },
    {
     "data": {
      "image/png": "[encoded data removed]",
      "text/plain": [
       "<Figure size 864x576 with 1 Axes>"
      ]
     },
     "metadata": {
      "needs_background": "light"
     },
     "output_type": "display_data"
    }
   ],
   "source": [
    "fig, ax = plt.subplots(figsize=(12, 8))\n",
    "plt.plot_date(x,y,'-o')\n",
    "ax.set(xlabel=\"Date\", ylabel=\"Count\",\n",
    "       title=\"Number of tweets\")\n",
    "\n",
    "plt.axvline(datetime.datetime(2019, 12, 15),color='black',ls='dotted')\n",
    "plt.axvline(datetime.datetime(2019, 12, 22),color='black',ls='dotted')\n",
    "plt.axvline(datetime.datetime(2019, 12, 29),color='black',ls='dotted')\n",
    "plt.gcf().autofmt_xdate()"
   ]
  },
  {
   "cell_type": "markdown",
   "metadata": {},
   "source": [
    "Sundays are marked by the dotted lines."
   ]
  },
  {
   "cell_type": "code",
   "execution_count": 33,
   "metadata": {},
   "outputs": [
    {
     "data": {
      "image/png": "[encoded data removed]",
      "text/plain": [
       "<Figure size 864x576 with 1 Axes>"
      ]
     },
     "metadata": {},
     "output_type": "display_data"
    }
   ],
   "source": [
    "plt.style.use('ggplot')  #using ggplot style\n",
    "fig, ax = plt.subplots(figsize=(12, 8))\n",
    "plt.plot_date(x,y,'-o')\n",
    "ax.set(xlabel=\"Date\", ylabel=\"Count\",\n",
    "       title=\"Number of tweets\")\n",
    "\n",
    "plt.axvline(datetime.datetime(2019, 12, 15),color='black',ls='dotted')\n",
    "plt.axvline(datetime.datetime(2019, 12, 22),color='black',ls='dotted')\n",
    "plt.axvline(datetime.datetime(2019, 12, 29),color='black',ls='dotted')\n",
    "plt.gcf().autofmt_xdate()"
   ]
  },
  {
   "cell_type": "markdown",
   "metadata": {},
   "source": [
    "#### Conclusion: Based on a two-week period, not much consistencies in incident count across the week. Also, it seems like Christmas doesn't have a lot of incidents."
   ]
  }
 ],
 "metadata": {
  "kernelspec": {
   "display_name": "Python 3",
   "language": "python",
   "name": "python3"
  },
  "language_info": {
   "codemirror_mode": {
    "name": "ipython",
    "version": 3
   },
   "file_extension": ".py",
   "mimetype": "text/x-python",
   "name": "python",
   "nbconvert_exporter": "python",
   "pygments_lexer": "ipython3",
   "version": "3.7.3"
  }
 },
 "nbformat": 4,
 "nbformat_minor": 2
}
