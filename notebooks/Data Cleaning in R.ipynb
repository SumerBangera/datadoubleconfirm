{
 "cells": [
  {
   "cell_type": "markdown",
   "metadata": {},
   "source": [
    "#### In this exercise, we will perform some data cleaning tasks: \n",
    "(i) checkness for completeness, (ii) merging/ appending, (iii) checking of values to ensure validity, (iv) de-duplication, (v) recoding."
   ]
  },
  {
   "cell_type": "code",
   "execution_count": 1,
   "metadata": {
    "collapsed": true
   },
   "outputs": [],
   "source": [
    "# The dataset Class1.csv can be found here: \n",
    "# https://github.com/hxchua/datadoubleconfirm/tree/master/notebooks \n",
    "data1<-read.csv(\"Class1.csv\",header=T)"
   ]
  },
  {
   "cell_type": "code",
   "execution_count": 2,
   "metadata": {},
   "outputs": [
    {
     "data": {
      "text/html": [
       "100"
      ],
      "text/latex": [
       "100"
      ],
      "text/markdown": [
       "100"
      ],
      "text/plain": [
       "[1] 100"
      ]
     },
     "metadata": {},
     "output_type": "display_data"
    }
   ],
   "source": [
    "# checking if the number of rows in the dataset was as expected\n",
    "nrow(data1)"
   ]
  },
  {
   "cell_type": "code",
   "execution_count": 3,
   "metadata": {},
   "outputs": [
    {
     "data": {
      "text/html": [
       "5"
      ],
      "text/latex": [
       "5"
      ],
      "text/markdown": [
       "5"
      ],
      "text/plain": [
       "[1] 5"
      ]
     },
     "metadata": {},
     "output_type": "display_data"
    }
   ],
   "source": [
    "# checking if the number of columns in the dataset was as expected\n",
    "ncol(data1)"
   ]
  },
  {
   "cell_type": "code",
   "execution_count": 4,
   "metadata": {},
   "outputs": [
    {
     "data": {
      "text/html": [
       "<ol class=list-inline>\n",
       "\t<li>'id'</li>\n",
       "\t<li>'gender'</li>\n",
       "\t<li>'test1'</li>\n",
       "\t<li>'test2'</li>\n",
       "\t<li>'test3'</li>\n",
       "</ol>\n"
      ],
      "text/latex": [
       "\\begin{enumerate*}\n",
       "\\item 'id'\n",
       "\\item 'gender'\n",
       "\\item 'test1'\n",
       "\\item 'test2'\n",
       "\\item 'test3'\n",
       "\\end{enumerate*}\n"
      ],
      "text/markdown": [
       "1. 'id'\n",
       "2. 'gender'\n",
       "3. 'test1'\n",
       "4. 'test2'\n",
       "5. 'test3'\n",
       "\n",
       "\n"
      ],
      "text/plain": [
       "[1] \"id\"     \"gender\" \"test1\"  \"test2\"  \"test3\" "
      ]
     },
     "metadata": {},
     "output_type": "display_data"
    }
   ],
   "source": [
    "# finding out the variable names of each column\n",
    "colnames(data1)"
   ]
  },
  {
   "cell_type": "code",
   "execution_count": 5,
   "metadata": {},
   "outputs": [
    {
     "data": {
      "text/plain": [
       "       id            gender       test1           test2           test3      \n",
       " Min.   :  1.00   Female:50   Min.   : 1.00   Min.   :36.00   Min.   :40.00  \n",
       " 1st Qu.: 25.75   Male  :50   1st Qu.:12.25   1st Qu.:52.00   1st Qu.:52.00  \n",
       " Median : 50.50               Median :17.50   Median :55.50   Median :57.00  \n",
       " Mean   : 50.50               Mean   :19.66   Mean   :56.08   Mean   :57.09  \n",
       " 3rd Qu.: 75.25               3rd Qu.:26.75   3rd Qu.:60.75   3rd Qu.:63.00  \n",
       " Max.   :100.00               Max.   :41.00   Max.   :75.00   Max.   :79.00  \n",
       "                              NA's   :10      NA's   :10                     "
      ]
     },
     "metadata": {},
     "output_type": "display_data"
    }
   ],
   "source": [
    "# finding out the ranges of values for each variable to check validity\n",
    "summary(data1)"
   ]
  },
  {
   "cell_type": "code",
   "execution_count": 6,
   "metadata": {},
   "outputs": [
    {
     "data": {
      "text/html": [
       "<table>\n",
       "<thead><tr><th></th><th scope=col>id</th><th scope=col>gender</th><th scope=col>test1</th><th scope=col>test2</th><th scope=col>test3</th></tr></thead>\n",
       "<tbody>\n",
       "\t<tr><th scope=row>5</th><td> 5    </td><td>Male  </td><td>NA    </td><td>37    </td><td>68    </td></tr>\n",
       "\t<tr><th scope=row>6</th><td> 6    </td><td>Male  </td><td>18    </td><td>NA    </td><td>66    </td></tr>\n",
       "\t<tr><th scope=row>10</th><td>10    </td><td>Male  </td><td>NA    </td><td>51    </td><td>62    </td></tr>\n",
       "\t<tr><th scope=row>12</th><td>12    </td><td>Male  </td><td>17    </td><td>NA    </td><td>54    </td></tr>\n",
       "\t<tr><th scope=row>15</th><td>15    </td><td>Male  </td><td>NA    </td><td>59    </td><td>52    </td></tr>\n",
       "\t<tr><th scope=row>18</th><td>18    </td><td>Male  </td><td>12    </td><td>NA    </td><td>48    </td></tr>\n",
       "\t<tr><th scope=row>20</th><td>20    </td><td>Male  </td><td>NA    </td><td>60    </td><td>57    </td></tr>\n",
       "\t<tr><th scope=row>24</th><td>24    </td><td>Male  </td><td>39    </td><td>NA    </td><td>52    </td></tr>\n",
       "\t<tr><th scope=row>25</th><td>25    </td><td>Male  </td><td>NA    </td><td>48    </td><td>47    </td></tr>\n",
       "\t<tr><th scope=row>30</th><td>30    </td><td>Male  </td><td>NA    </td><td>NA    </td><td>60    </td></tr>\n",
       "\t<tr><th scope=row>35</th><td>35    </td><td>Male  </td><td>NA    </td><td>56    </td><td>52    </td></tr>\n",
       "\t<tr><th scope=row>36</th><td>36    </td><td>Male  </td><td>36    </td><td>NA    </td><td>66    </td></tr>\n",
       "\t<tr><th scope=row>40</th><td>40    </td><td>Male  </td><td>NA    </td><td>59    </td><td>56    </td></tr>\n",
       "\t<tr><th scope=row>42</th><td>42    </td><td>Male  </td><td>16    </td><td>NA    </td><td>64    </td></tr>\n",
       "\t<tr><th scope=row>45</th><td>45    </td><td>Male  </td><td>NA    </td><td>43    </td><td>61    </td></tr>\n",
       "\t<tr><th scope=row>48</th><td>48    </td><td>Male  </td><td>30    </td><td>NA    </td><td>54    </td></tr>\n",
       "\t<tr><th scope=row>50</th><td>50    </td><td>Male  </td><td>NA    </td><td>45    </td><td>43    </td></tr>\n",
       "\t<tr><th scope=row>54</th><td>54    </td><td>Female</td><td>37    </td><td>NA    </td><td>56    </td></tr>\n",
       "\t<tr><th scope=row>60</th><td>60    </td><td>Female</td><td>38    </td><td>NA    </td><td>69    </td></tr>\n",
       "</tbody>\n",
       "</table>\n"
      ],
      "text/latex": [
       "\\begin{tabular}{r|lllll}\n",
       "  & id & gender & test1 & test2 & test3\\\\\n",
       "\\hline\n",
       "\t5 &  5     & Male   & NA     & 37     & 68    \\\\\n",
       "\t6 &  6     & Male   & 18     & NA     & 66    \\\\\n",
       "\t10 & 10     & Male   & NA     & 51     & 62    \\\\\n",
       "\t12 & 12     & Male   & 17     & NA     & 54    \\\\\n",
       "\t15 & 15     & Male   & NA     & 59     & 52    \\\\\n",
       "\t18 & 18     & Male   & 12     & NA     & 48    \\\\\n",
       "\t20 & 20     & Male   & NA     & 60     & 57    \\\\\n",
       "\t24 & 24     & Male   & 39     & NA     & 52    \\\\\n",
       "\t25 & 25     & Male   & NA     & 48     & 47    \\\\\n",
       "\t30 & 30     & Male   & NA     & NA     & 60    \\\\\n",
       "\t35 & 35     & Male   & NA     & 56     & 52    \\\\\n",
       "\t36 & 36     & Male   & 36     & NA     & 66    \\\\\n",
       "\t40 & 40     & Male   & NA     & 59     & 56    \\\\\n",
       "\t42 & 42     & Male   & 16     & NA     & 64    \\\\\n",
       "\t45 & 45     & Male   & NA     & 43     & 61    \\\\\n",
       "\t48 & 48     & Male   & 30     & NA     & 54    \\\\\n",
       "\t50 & 50     & Male   & NA     & 45     & 43    \\\\\n",
       "\t54 & 54     & Female & 37     & NA     & 56    \\\\\n",
       "\t60 & 60     & Female & 38     & NA     & 69    \\\\\n",
       "\\end{tabular}\n"
      ],
      "text/markdown": [
       "\n",
       "| <!--/--> | id | gender | test1 | test2 | test3 | \n",
       "|---|---|---|---|---|---|---|---|---|---|---|---|---|---|---|---|---|---|---|\n",
       "| 5 |  5     | Male   | NA     | 37     | 68     | \n",
       "| 6 |  6     | Male   | 18     | NA     | 66     | \n",
       "| 10 | 10     | Male   | NA     | 51     | 62     | \n",
       "| 12 | 12     | Male   | 17     | NA     | 54     | \n",
       "| 15 | 15     | Male   | NA     | 59     | 52     | \n",
       "| 18 | 18     | Male   | 12     | NA     | 48     | \n",
       "| 20 | 20     | Male   | NA     | 60     | 57     | \n",
       "| 24 | 24     | Male   | 39     | NA     | 52     | \n",
       "| 25 | 25     | Male   | NA     | 48     | 47     | \n",
       "| 30 | 30     | Male   | NA     | NA     | 60     | \n",
       "| 35 | 35     | Male   | NA     | 56     | 52     | \n",
       "| 36 | 36     | Male   | 36     | NA     | 66     | \n",
       "| 40 | 40     | Male   | NA     | 59     | 56     | \n",
       "| 42 | 42     | Male   | 16     | NA     | 64     | \n",
       "| 45 | 45     | Male   | NA     | 43     | 61     | \n",
       "| 48 | 48     | Male   | 30     | NA     | 54     | \n",
       "| 50 | 50     | Male   | NA     | 45     | 43     | \n",
       "| 54 | 54     | Female | 37     | NA     | 56     | \n",
       "| 60 | 60     | Female | 38     | NA     | 69     | \n",
       "\n",
       "\n"
      ],
      "text/plain": [
       "   id gender test1 test2 test3\n",
       "5   5 Male   NA    37    68   \n",
       "6   6 Male   18    NA    66   \n",
       "10 10 Male   NA    51    62   \n",
       "12 12 Male   17    NA    54   \n",
       "15 15 Male   NA    59    52   \n",
       "18 18 Male   12    NA    48   \n",
       "20 20 Male   NA    60    57   \n",
       "24 24 Male   39    NA    52   \n",
       "25 25 Male   NA    48    47   \n",
       "30 30 Male   NA    NA    60   \n",
       "35 35 Male   NA    56    52   \n",
       "36 36 Male   36    NA    66   \n",
       "40 40 Male   NA    59    56   \n",
       "42 42 Male   16    NA    64   \n",
       "45 45 Male   NA    43    61   \n",
       "48 48 Male   30    NA    54   \n",
       "50 50 Male   NA    45    43   \n",
       "54 54 Female 37    NA    56   \n",
       "60 60 Female 38    NA    69   "
      ]
     },
     "metadata": {},
     "output_type": "display_data"
    }
   ],
   "source": [
    "# finding out rows with missing data\n",
    "data1[rowSums(is.na(data1)) > 0,]"
   ]
  },
  {
   "cell_type": "markdown",
   "metadata": {},
   "source": [
    "#### Say, I have a new dataset on scores of test 4. "
   ]
  },
  {
   "cell_type": "code",
   "execution_count": 7,
   "metadata": {
    "collapsed": true
   },
   "outputs": [],
   "source": [
    "set.seed(1)\n",
    "test<-matrix(,100,2)\n",
    "for (i in 1:100){\n",
    "    test[i,1]<-i\n",
    "    test[i,2]<-round(rnorm(1,62,7))\n",
    "}"
   ]
  },
  {
   "cell_type": "code",
   "execution_count": 8,
   "metadata": {
    "collapsed": true
   },
   "outputs": [],
   "source": [
    "colnames(test)<-c(\"id\",\"test4\")"
   ]
  },
  {
   "cell_type": "code",
   "execution_count": 9,
   "metadata": {},
   "outputs": [
    {
     "data": {
      "text/html": [
       "<table>\n",
       "<thead><tr><th scope=col>id</th><th scope=col>test4</th></tr></thead>\n",
       "<tbody>\n",
       "\t<tr><td>1 </td><td>58</td></tr>\n",
       "\t<tr><td>2 </td><td>63</td></tr>\n",
       "\t<tr><td>3 </td><td>56</td></tr>\n",
       "\t<tr><td>4 </td><td>73</td></tr>\n",
       "\t<tr><td>5 </td><td>64</td></tr>\n",
       "\t<tr><td>6 </td><td>56</td></tr>\n",
       "</tbody>\n",
       "</table>\n"
      ],
      "text/latex": [
       "\\begin{tabular}{ll}\n",
       " id & test4\\\\\n",
       "\\hline\n",
       "\t 1  & 58\\\\\n",
       "\t 2  & 63\\\\\n",
       "\t 3  & 56\\\\\n",
       "\t 4  & 73\\\\\n",
       "\t 5  & 64\\\\\n",
       "\t 6  & 56\\\\\n",
       "\\end{tabular}\n"
      ],
      "text/markdown": [
       "\n",
       "id | test4 | \n",
       "|---|---|---|---|---|---|\n",
       "| 1  | 58 | \n",
       "| 2  | 63 | \n",
       "| 3  | 56 | \n",
       "| 4  | 73 | \n",
       "| 5  | 64 | \n",
       "| 6  | 56 | \n",
       "\n",
       "\n"
      ],
      "text/plain": [
       "     id test4\n",
       "[1,] 1  58   \n",
       "[2,] 2  63   \n",
       "[3,] 3  56   \n",
       "[4,] 4  73   \n",
       "[5,] 5  64   \n",
       "[6,] 6  56   "
      ]
     },
     "metadata": {},
     "output_type": "display_data"
    }
   ],
   "source": [
    "head(test)"
   ]
  },
  {
   "cell_type": "markdown",
   "metadata": {},
   "source": [
    "#### I want to merge this dataset with the original dataset consisting the three test scores."
   ]
  },
  {
   "cell_type": "code",
   "execution_count": 10,
   "metadata": {
    "collapsed": true,
    "scrolled": false
   },
   "outputs": [],
   "source": [
    "data2<-merge(data1,test, on=\"id\")"
   ]
  },
  {
   "cell_type": "code",
   "execution_count": 11,
   "metadata": {},
   "outputs": [
    {
     "data": {
      "text/plain": [
       "       id            gender       test1           test2           test3      \n",
       " Min.   :  1.00   Female:50   Min.   : 1.00   Min.   :36.00   Min.   :40.00  \n",
       " 1st Qu.: 25.75   Male  :50   1st Qu.:12.25   1st Qu.:52.00   1st Qu.:52.00  \n",
       " Median : 50.50               Median :17.50   Median :55.50   Median :57.00  \n",
       " Mean   : 50.50               Mean   :19.66   Mean   :56.08   Mean   :57.09  \n",
       " 3rd Qu.: 75.25               3rd Qu.:26.75   3rd Qu.:60.75   3rd Qu.:63.00  \n",
       " Max.   :100.00               Max.   :41.00   Max.   :75.00   Max.   :79.00  \n",
       "                              NA's   :10      NA's   :10                     \n",
       "     test4      \n",
       " Min.   :46.00  \n",
       " 1st Qu.:58.75  \n",
       " Median :63.00  \n",
       " Mean   :62.74  \n",
       " 3rd Qu.:67.00  \n",
       " Max.   :79.00  \n",
       "                "
      ]
     },
     "metadata": {},
     "output_type": "display_data"
    }
   ],
   "source": [
    "summary(data2)"
   ]
  },
  {
   "cell_type": "markdown",
   "metadata": {},
   "source": [
    "#### Say, I have a batch of student results that was accidentally omitted and now they are provided to me. Now I want to append these results together."
   ]
  },
  {
   "cell_type": "code",
   "execution_count": 12,
   "metadata": {
    "collapsed": true
   },
   "outputs": [],
   "source": [
    "# The dataset Class2.csv can be found here: \n",
    "# https://github.com/hxchua/datadoubleconfirm/tree/master/notebooks \n",
    "new<-read.csv(\"Class2.csv\",header=T)"
   ]
  },
  {
   "cell_type": "code",
   "execution_count": 13,
   "metadata": {
    "scrolled": true
   },
   "outputs": [
    {
     "data": {
      "text/html": [
       "<table>\n",
       "<thead><tr><th scope=col>id</th><th scope=col>gender</th><th scope=col>test1</th><th scope=col>test2</th><th scope=col>test3</th><th scope=col>test4</th></tr></thead>\n",
       "<tbody>\n",
       "\t<tr><td>91    </td><td>Female</td><td>37    </td><td>53    </td><td>50    </td><td>75    </td></tr>\n",
       "\t<tr><td>92    </td><td>Female</td><td>42    </td><td>45    </td><td>59    </td><td>69    </td></tr>\n",
       "\t<tr><td>93    </td><td>Female</td><td>43    </td><td>50    </td><td>67    </td><td>67    </td></tr>\n",
       "\t<tr><td>94    </td><td>Female</td><td>37    </td><td>34    </td><td>64    </td><td>65    </td></tr>\n",
       "\t<tr><td>95    </td><td>Female</td><td>40    </td><td>60    </td><td>62    </td><td>69    </td></tr>\n",
       "\t<tr><td>96    </td><td>Female</td><td>45    </td><td>58    </td><td>57    </td><td>53    </td></tr>\n",
       "</tbody>\n",
       "</table>\n"
      ],
      "text/latex": [
       "\\begin{tabular}{r|llllll}\n",
       " id & gender & test1 & test2 & test3 & test4\\\\\n",
       "\\hline\n",
       "\t 91     & Female & 37     & 53     & 50     & 75    \\\\\n",
       "\t 92     & Female & 42     & 45     & 59     & 69    \\\\\n",
       "\t 93     & Female & 43     & 50     & 67     & 67    \\\\\n",
       "\t 94     & Female & 37     & 34     & 64     & 65    \\\\\n",
       "\t 95     & Female & 40     & 60     & 62     & 69    \\\\\n",
       "\t 96     & Female & 45     & 58     & 57     & 53    \\\\\n",
       "\\end{tabular}\n"
      ],
      "text/markdown": [
       "\n",
       "id | gender | test1 | test2 | test3 | test4 | \n",
       "|---|---|---|---|---|---|\n",
       "| 91     | Female | 37     | 53     | 50     | 75     | \n",
       "| 92     | Female | 42     | 45     | 59     | 69     | \n",
       "| 93     | Female | 43     | 50     | 67     | 67     | \n",
       "| 94     | Female | 37     | 34     | 64     | 65     | \n",
       "| 95     | Female | 40     | 60     | 62     | 69     | \n",
       "| 96     | Female | 45     | 58     | 57     | 53     | \n",
       "\n",
       "\n"
      ],
      "text/plain": [
       "  id gender test1 test2 test3 test4\n",
       "1 91 Female 37    53    50    75   \n",
       "2 92 Female 42    45    59    69   \n",
       "3 93 Female 43    50    67    67   \n",
       "4 94 Female 37    34    64    65   \n",
       "5 95 Female 40    60    62    69   \n",
       "6 96 Female 45    58    57    53   "
      ]
     },
     "metadata": {},
     "output_type": "display_data"
    }
   ],
   "source": [
    "head(new)"
   ]
  },
  {
   "cell_type": "code",
   "execution_count": 14,
   "metadata": {
    "scrolled": true
   },
   "outputs": [
    {
     "data": {
      "text/plain": [
       "       id           gender       test1          test2           test3      \n",
       " Min.   : 91.0   Female:50   Min.   :27.0   Min.   :34.00   Min.   :41.00  \n",
       " 1st Qu.:115.8   Male  :50   1st Qu.:37.0   1st Qu.:47.00   1st Qu.:52.75  \n",
       " Median :140.5               Median :39.0   Median :52.00   Median :57.00  \n",
       " Mean   :140.5               Mean   :39.6   Mean   :52.96   Mean   :56.88  \n",
       " 3rd Qu.:165.2               3rd Qu.:43.0   3rd Qu.:58.25   3rd Qu.:62.00  \n",
       " Max.   :190.0               Max.   :52.0   Max.   :73.00   Max.   :72.00  \n",
       "     test4      \n",
       " Min.   :48.00  \n",
       " 1st Qu.:62.00  \n",
       " Median :65.00  \n",
       " Mean   :65.01  \n",
       " 3rd Qu.:68.25  \n",
       " Max.   :77.00  "
      ]
     },
     "metadata": {},
     "output_type": "display_data"
    }
   ],
   "source": [
    "# note that there are ids similar in Class1 as the minimum id is less than 100 \n",
    "summary(new)"
   ]
  },
  {
   "cell_type": "code",
   "execution_count": 15,
   "metadata": {
    "scrolled": true
   },
   "outputs": [],
   "source": [
    "# appending the data together\n",
    "data3<-rbind(data2,new)"
   ]
  },
  {
   "cell_type": "code",
   "execution_count": 16,
   "metadata": {},
   "outputs": [
    {
     "data": {
      "text/plain": [
       "       id            gender        test1           test2           test3      \n",
       " Min.   :  1.00   Female:100   Min.   : 1.00   Min.   :34.00   Min.   :40.00  \n",
       " 1st Qu.: 50.75   Male  :100   1st Qu.:18.25   1st Qu.:50.00   1st Qu.:52.00  \n",
       " Median : 95.50                Median :35.00   Median :54.00   Median :57.00  \n",
       " Mean   : 95.50                Mean   :30.15   Mean   :54.44   Mean   :56.98  \n",
       " 3rd Qu.:140.25                3rd Qu.:40.00   3rd Qu.:59.75   3rd Qu.:63.00  \n",
       " Max.   :190.00                Max.   :52.00   Max.   :75.00   Max.   :79.00  \n",
       "                               NA's   :10      NA's   :10                     \n",
       "     test4      \n",
       " Min.   :46.00  \n",
       " 1st Qu.:60.75  \n",
       " Median :64.00  \n",
       " Mean   :63.88  \n",
       " 3rd Qu.:68.00  \n",
       " Max.   :79.00  \n",
       "                "
      ]
     },
     "metadata": {},
     "output_type": "display_data"
    }
   ],
   "source": [
    "summary(data3)"
   ]
  },
  {
   "cell_type": "markdown",
   "metadata": {},
   "source": [
    "#### We noticed that there are some duplicate records after appending and so we want to drop the older records as, say, we found out that those older records were erroneous."
   ]
  },
  {
   "cell_type": "code",
   "execution_count": 17,
   "metadata": {
    "collapsed": true
   },
   "outputs": [],
   "source": [
    "data4<-data3[!rev(duplicated(rev(data3$id))),]"
   ]
  },
  {
   "cell_type": "code",
   "execution_count": 18,
   "metadata": {},
   "outputs": [
    {
     "data": {
      "text/plain": [
       "       id            gender        test1           test2           test3      \n",
       " Min.   :  1.00   Female: 90   Min.   : 1.00   Min.   :34.00   Min.   :40.00  \n",
       " 1st Qu.: 48.25   Male  :100   1st Qu.:18.75   1st Qu.:50.00   1st Qu.:52.00  \n",
       " Median : 95.50                Median :36.00   Median :54.00   Median :57.00  \n",
       " Mean   : 95.50                Mean   :30.53   Mean   :54.33   Mean   :57.05  \n",
       " 3rd Qu.:142.75                3rd Qu.:40.25   3rd Qu.:60.00   3rd Qu.:63.00  \n",
       " Max.   :190.00                Max.   :52.00   Max.   :75.00   Max.   :79.00  \n",
       "                               NA's   :10      NA's   :10                     \n",
       "     test4      \n",
       " Min.   :46.00  \n",
       " 1st Qu.:61.00  \n",
       " Median :64.00  \n",
       " Mean   :63.94  \n",
       " 3rd Qu.:67.75  \n",
       " Max.   :79.00  \n",
       "                "
      ]
     },
     "metadata": {},
     "output_type": "display_data"
    }
   ],
   "source": [
    "summary(data4)"
   ]
  },
  {
   "cell_type": "markdown",
   "metadata": {},
   "source": [
    "#### Say, I have some students who had missed test 2 decided to retake."
   ]
  },
  {
   "cell_type": "code",
   "execution_count": 19,
   "metadata": {
    "collapsed": true
   },
   "outputs": [],
   "source": [
    "retake<-matrix(c(24,60,30,50,54,52),nc=2)"
   ]
  },
  {
   "cell_type": "code",
   "execution_count": 20,
   "metadata": {
    "collapsed": true
   },
   "outputs": [],
   "source": [
    "colnames(retake)<-c(\"id\",\"retest2\")"
   ]
  },
  {
   "cell_type": "code",
   "execution_count": 21,
   "metadata": {},
   "outputs": [
    {
     "data": {
      "text/html": [
       "<table>\n",
       "<thead><tr><th scope=col>id</th><th scope=col>retest2</th></tr></thead>\n",
       "<tbody>\n",
       "\t<tr><td>24</td><td>50</td></tr>\n",
       "\t<tr><td>60</td><td>54</td></tr>\n",
       "\t<tr><td>30</td><td>52</td></tr>\n",
       "</tbody>\n",
       "</table>\n"
      ],
      "text/latex": [
       "\\begin{tabular}{ll}\n",
       " id & retest2\\\\\n",
       "\\hline\n",
       "\t 24 & 50\\\\\n",
       "\t 60 & 54\\\\\n",
       "\t 30 & 52\\\\\n",
       "\\end{tabular}\n"
      ],
      "text/markdown": [
       "\n",
       "id | retest2 | \n",
       "|---|---|---|\n",
       "| 24 | 50 | \n",
       "| 60 | 54 | \n",
       "| 30 | 52 | \n",
       "\n",
       "\n"
      ],
      "text/plain": [
       "     id retest2\n",
       "[1,] 24 50     \n",
       "[2,] 60 54     \n",
       "[3,] 30 52     "
      ]
     },
     "metadata": {},
     "output_type": "display_data"
    }
   ],
   "source": [
    "retake"
   ]
  },
  {
   "cell_type": "code",
   "execution_count": 22,
   "metadata": {
    "collapsed": true
   },
   "outputs": [],
   "source": [
    "# doing a vlookup\n",
    "base1 <- merge(data4, retake, by = 'id')"
   ]
  },
  {
   "cell_type": "code",
   "execution_count": 23,
   "metadata": {},
   "outputs": [
    {
     "data": {
      "text/html": [
       "<table>\n",
       "<thead><tr><th scope=col>id</th><th scope=col>gender</th><th scope=col>test1</th><th scope=col>test2</th><th scope=col>test3</th><th scope=col>test4</th><th scope=col>retest2</th></tr></thead>\n",
       "<tbody>\n",
       "\t<tr><td>24    </td><td>Male  </td><td>39    </td><td>NA    </td><td>52    </td><td>48    </td><td>50    </td></tr>\n",
       "\t<tr><td>30    </td><td>Male  </td><td>NA    </td><td>NA    </td><td>60    </td><td>65    </td><td>52    </td></tr>\n",
       "\t<tr><td>60    </td><td>Female</td><td>38    </td><td>NA    </td><td>69    </td><td>61    </td><td>54    </td></tr>\n",
       "</tbody>\n",
       "</table>\n"
      ],
      "text/latex": [
       "\\begin{tabular}{r|lllllll}\n",
       " id & gender & test1 & test2 & test3 & test4 & retest2\\\\\n",
       "\\hline\n",
       "\t 24     & Male   & 39     & NA     & 52     & 48     & 50    \\\\\n",
       "\t 30     & Male   & NA     & NA     & 60     & 65     & 52    \\\\\n",
       "\t 60     & Female & 38     & NA     & 69     & 61     & 54    \\\\\n",
       "\\end{tabular}\n"
      ],
      "text/markdown": [
       "\n",
       "id | gender | test1 | test2 | test3 | test4 | retest2 | \n",
       "|---|---|---|\n",
       "| 24     | Male   | 39     | NA     | 52     | 48     | 50     | \n",
       "| 30     | Male   | NA     | NA     | 60     | 65     | 52     | \n",
       "| 60     | Female | 38     | NA     | 69     | 61     | 54     | \n",
       "\n",
       "\n"
      ],
      "text/plain": [
       "  id gender test1 test2 test3 test4 retest2\n",
       "1 24 Male   39    NA    52    48    50     \n",
       "2 30 Male   NA    NA    60    65    52     \n",
       "3 60 Female 38    NA    69    61    54     "
      ]
     },
     "metadata": {},
     "output_type": "display_data"
    }
   ],
   "source": [
    "base1"
   ]
  },
  {
   "cell_type": "code",
   "execution_count": 24,
   "metadata": {
    "collapsed": true
   },
   "outputs": [],
   "source": [
    "# updating test2 with retest2 scores\n",
    "base1$test2<-base1$retest2"
   ]
  },
  {
   "cell_type": "code",
   "execution_count": 25,
   "metadata": {},
   "outputs": [
    {
     "data": {
      "text/html": [
       "<table>\n",
       "<thead><tr><th scope=col>id</th><th scope=col>gender</th><th scope=col>test1</th><th scope=col>test2</th><th scope=col>test3</th><th scope=col>test4</th><th scope=col>retest2</th></tr></thead>\n",
       "<tbody>\n",
       "\t<tr><td>24    </td><td>Male  </td><td>39    </td><td>50    </td><td>52    </td><td>48    </td><td>50    </td></tr>\n",
       "\t<tr><td>30    </td><td>Male  </td><td>NA    </td><td>52    </td><td>60    </td><td>65    </td><td>52    </td></tr>\n",
       "\t<tr><td>60    </td><td>Female</td><td>38    </td><td>54    </td><td>69    </td><td>61    </td><td>54    </td></tr>\n",
       "</tbody>\n",
       "</table>\n"
      ],
      "text/latex": [
       "\\begin{tabular}{r|lllllll}\n",
       " id & gender & test1 & test2 & test3 & test4 & retest2\\\\\n",
       "\\hline\n",
       "\t 24     & Male   & 39     & 50     & 52     & 48     & 50    \\\\\n",
       "\t 30     & Male   & NA     & 52     & 60     & 65     & 52    \\\\\n",
       "\t 60     & Female & 38     & 54     & 69     & 61     & 54    \\\\\n",
       "\\end{tabular}\n"
      ],
      "text/markdown": [
       "\n",
       "id | gender | test1 | test2 | test3 | test4 | retest2 | \n",
       "|---|---|---|\n",
       "| 24     | Male   | 39     | 50     | 52     | 48     | 50     | \n",
       "| 30     | Male   | NA     | 52     | 60     | 65     | 52     | \n",
       "| 60     | Female | 38     | 54     | 69     | 61     | 54     | \n",
       "\n",
       "\n"
      ],
      "text/plain": [
       "  id gender test1 test2 test3 test4 retest2\n",
       "1 24 Male   39    50    52    48    50     \n",
       "2 30 Male   NA    52    60    65    52     \n",
       "3 60 Female 38    54    69    61    54     "
      ]
     },
     "metadata": {},
     "output_type": "display_data"
    }
   ],
   "source": [
    "base1"
   ]
  },
  {
   "cell_type": "code",
   "execution_count": 26,
   "metadata": {
    "collapsed": true
   },
   "outputs": [],
   "source": [
    "# we only want the first six columns \n",
    "base1<-base1[,1:6]"
   ]
  },
  {
   "cell_type": "code",
   "execution_count": 27,
   "metadata": {
    "collapsed": true
   },
   "outputs": [],
   "source": [
    "# we append the dataset and drop the duplicates again\n",
    "data5<-rbind(data4,base1)\n",
    "data5<-data5[!rev(duplicated(rev(data5$id))),]"
   ]
  },
  {
   "cell_type": "code",
   "execution_count": 28,
   "metadata": {},
   "outputs": [
    {
     "data": {
      "text/plain": [
       "       id            gender        test1           test2          test3      \n",
       " Min.   :  1.00   Female: 90   Min.   : 1.00   Min.   :34.0   Min.   :40.00  \n",
       " 1st Qu.: 48.25   Male  :100   1st Qu.:18.75   1st Qu.:50.0   1st Qu.:52.00  \n",
       " Median : 95.50                Median :36.00   Median :54.0   Median :57.00  \n",
       " Mean   : 95.50                Mean   :30.53   Mean   :54.3   Mean   :57.05  \n",
       " 3rd Qu.:142.75                3rd Qu.:40.25   3rd Qu.:59.5   3rd Qu.:63.00  \n",
       " Max.   :190.00                Max.   :52.00   Max.   :75.0   Max.   :79.00  \n",
       "                               NA's   :10      NA's   :7                     \n",
       "     test4      \n",
       " Min.   :46.00  \n",
       " 1st Qu.:61.00  \n",
       " Median :64.00  \n",
       " Mean   :63.94  \n",
       " 3rd Qu.:67.75  \n",
       " Max.   :79.00  \n",
       "                "
      ]
     },
     "metadata": {},
     "output_type": "display_data"
    }
   ],
   "source": [
    "# note that the number of NA's for test2 has reduced\n",
    "summary(data5)"
   ]
  },
  {
   "cell_type": "code",
   "execution_count": 29,
   "metadata": {
    "scrolled": true
   },
   "outputs": [
    {
     "data": {
      "text/html": [
       "<table>\n",
       "<thead><tr><th></th><th scope=col>id</th><th scope=col>gender</th><th scope=col>test1</th><th scope=col>test2</th><th scope=col>test3</th><th scope=col>test4</th></tr></thead>\n",
       "<tbody>\n",
       "\t<tr><th scope=row>1100</th><td>24    </td><td>Male  </td><td>39    </td><td>50    </td><td>52    </td><td>48    </td></tr>\n",
       "\t<tr><th scope=row>210</th><td>30    </td><td>Male  </td><td>NA    </td><td>52    </td><td>60    </td><td>65    </td></tr>\n",
       "\t<tr><th scope=row>310</th><td>60    </td><td>Female</td><td>38    </td><td>54    </td><td>69    </td><td>61    </td></tr>\n",
       "</tbody>\n",
       "</table>\n"
      ],
      "text/latex": [
       "\\begin{tabular}{r|llllll}\n",
       "  & id & gender & test1 & test2 & test3 & test4\\\\\n",
       "\\hline\n",
       "\t1100 & 24     & Male   & 39     & 50     & 52     & 48    \\\\\n",
       "\t210 & 30     & Male   & NA     & 52     & 60     & 65    \\\\\n",
       "\t310 & 60     & Female & 38     & 54     & 69     & 61    \\\\\n",
       "\\end{tabular}\n"
      ],
      "text/markdown": [
       "\n",
       "| <!--/--> | id | gender | test1 | test2 | test3 | test4 | \n",
       "|---|---|---|\n",
       "| 1100 | 24     | Male   | 39     | 50     | 52     | 48     | \n",
       "| 210 | 30     | Male   | NA     | 52     | 60     | 65     | \n",
       "| 310 | 60     | Female | 38     | 54     | 69     | 61     | \n",
       "\n",
       "\n"
      ],
      "text/plain": [
       "     id gender test1 test2 test3 test4\n",
       "1100 24 Male   39    50    52    48   \n",
       "210  30 Male   NA    52    60    65   \n",
       "310  60 Female 38    54    69    61   "
      ]
     },
     "metadata": {},
     "output_type": "display_data"
    }
   ],
   "source": [
    "# check that the correct records are kept\n",
    "data5[data5$id==24 | data5$id==30 | data5$id==60, ]"
   ]
  },
  {
   "cell_type": "markdown",
   "metadata": {},
   "source": [
    "#### Sometimes, we want to replace missing data with zero (but note that this will skew the statistics) or the column mean (this will retain the distribution). "
   ]
  },
  {
   "cell_type": "code",
   "execution_count": 30,
   "metadata": {},
   "outputs": [],
   "source": [
    "# if we want to replace missing values with zero\n",
    "data6<-data5\n",
    "data6[is.na(data6)]<-0"
   ]
  },
  {
   "cell_type": "code",
   "execution_count": 31,
   "metadata": {},
   "outputs": [
    {
     "data": {
      "text/plain": [
       "       id            gender        test1           test2           test3      \n",
       " Min.   :  1.00   Female: 90   Min.   : 0.00   Min.   : 0.00   Min.   :40.00  \n",
       " 1st Qu.: 48.25   Male  :100   1st Qu.:17.00   1st Qu.:49.00   1st Qu.:52.00  \n",
       " Median : 95.50                Median :34.50   Median :54.00   Median :57.00  \n",
       " Mean   : 95.50                Mean   :28.93   Mean   :52.29   Mean   :57.05  \n",
       " 3rd Qu.:142.75                3rd Qu.:40.00   3rd Qu.:59.00   3rd Qu.:63.00  \n",
       " Max.   :190.00                Max.   :52.00   Max.   :75.00   Max.   :79.00  \n",
       "     test4      \n",
       " Min.   :46.00  \n",
       " 1st Qu.:61.00  \n",
       " Median :64.00  \n",
       " Mean   :63.94  \n",
       " 3rd Qu.:67.75  \n",
       " Max.   :79.00  "
      ]
     },
     "metadata": {},
     "output_type": "display_data"
    }
   ],
   "source": [
    "# the statistics for test1 and test2 has changed\n",
    "summary(data6)"
   ]
  },
  {
   "cell_type": "code",
   "execution_count": 32,
   "metadata": {},
   "outputs": [
    {
     "name": "stderr",
     "output_type": "stream",
     "text": [
      "Warning message in mean.default(data7[, i], na.rm = TRUE):\n",
      "\"argument is not numeric or logical: returning NA\""
     ]
    }
   ],
   "source": [
    "# if we want to replace missing values with column mean\n",
    "data7<-data5\n",
    "for(i in 1:ncol(data7)){\n",
    "  data7[is.na(data7[,i]), i] <- mean(data7[,i], na.rm = TRUE)\n",
    "}"
   ]
  },
  {
   "cell_type": "code",
   "execution_count": 33,
   "metadata": {},
   "outputs": [
    {
     "data": {
      "text/plain": [
       "       id            gender        test1           test2          test3      \n",
       " Min.   :  1.00   Female: 90   Min.   : 1.00   Min.   :34.0   Min.   :40.00  \n",
       " 1st Qu.: 48.25   Male  :100   1st Qu.:20.25   1st Qu.:50.0   1st Qu.:52.00  \n",
       " Median : 95.50                Median :34.50   Median :54.0   Median :57.00  \n",
       " Mean   : 95.50                Mean   :30.53   Mean   :54.3   Mean   :57.05  \n",
       " 3rd Qu.:142.75                3rd Qu.:40.00   3rd Qu.:59.0   3rd Qu.:63.00  \n",
       " Max.   :190.00                Max.   :52.00   Max.   :75.0   Max.   :79.00  \n",
       "     test4      \n",
       " Min.   :46.00  \n",
       " 1st Qu.:61.00  \n",
       " Median :64.00  \n",
       " Mean   :63.94  \n",
       " 3rd Qu.:67.75  \n",
       " Max.   :79.00  "
      ]
     },
     "metadata": {},
     "output_type": "display_data"
    }
   ],
   "source": [
    "# the statistics for test1 and test2 has changed\n",
    "summary(data7)"
   ]
  },
  {
   "cell_type": "markdown",
   "metadata": {},
   "source": [
    "#### We might also want to recode some values. For example, there is a moderation in scores and the minimum score for test 1 is moderated to be 15.  "
   ]
  },
  {
   "cell_type": "code",
   "execution_count": 34,
   "metadata": {},
   "outputs": [],
   "source": [
    "data8<-data5\n",
    "data8$test1[data8$test1<15]<-15"
   ]
  },
  {
   "cell_type": "code",
   "execution_count": 35,
   "metadata": {},
   "outputs": [
    {
     "data": {
      "text/plain": [
       "       id            gender        test1           test2          test3      \n",
       " Min.   :  1.00   Female: 90   Min.   :15.00   Min.   :34.0   Min.   :40.00  \n",
       " 1st Qu.: 48.25   Male  :100   1st Qu.:18.75   1st Qu.:50.0   1st Qu.:52.00  \n",
       " Median : 95.50                Median :36.00   Median :54.0   Median :57.00  \n",
       " Mean   : 95.50                Mean   :31.45   Mean   :54.3   Mean   :57.05  \n",
       " 3rd Qu.:142.75                3rd Qu.:40.25   3rd Qu.:59.5   3rd Qu.:63.00  \n",
       " Max.   :190.00                Max.   :52.00   Max.   :75.0   Max.   :79.00  \n",
       "                               NA's   :10      NA's   :7                     \n",
       "     test4      \n",
       " Min.   :46.00  \n",
       " 1st Qu.:61.00  \n",
       " Median :64.00  \n",
       " Mean   :63.94  \n",
       " 3rd Qu.:67.75  \n",
       " Max.   :79.00  \n",
       "                "
      ]
     },
     "metadata": {},
     "output_type": "display_data"
    }
   ],
   "source": [
    "summary(data8)"
   ]
  }
 ],
 "metadata": {
  "kernelspec": {
   "display_name": "R 3.3",
   "language": "R",
   "name": "ir33"
  },
  "language_info": {
   "codemirror_mode": "r",
   "file_extension": ".r",
   "mimetype": "text/x-r-source",
   "name": "R",
   "pygments_lexer": "r",
   "version": "3.3.1"
  }
 },
 "nbformat": 4,
 "nbformat_minor": 2
}
