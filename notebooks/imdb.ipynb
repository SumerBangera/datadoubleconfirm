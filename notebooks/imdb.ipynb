{
 "cells": [
  {
   "cell_type": "code",
   "execution_count": 1,
   "metadata": {
    "collapsed": true
   },
   "outputs": [],
   "source": [
    "from urllib.request import Request, urlopen\n",
    "import requests\n",
    "from bs4 import BeautifulSoup\n",
    "import csv"
   ]
  },
  {
   "cell_type": "code",
   "execution_count": 2,
   "metadata": {
    "collapsed": true
   },
   "outputs": [],
   "source": [
    "import pandas as pd\n",
    "import numpy as np"
   ]
  },
  {
   "cell_type": "markdown",
   "metadata": {},
   "source": [
    "## 1. Main page\n",
    "### Extracting Movie title, url, rank and rating of movies on the page "
   ]
  },
  {
   "cell_type": "code",
   "execution_count": 3,
   "metadata": {
    "collapsed": true
   },
   "outputs": [],
   "source": [
    "site = \"http://www.imdb.com/chart/moviemeter?ref_=nv_mv_mpm_8\"\n",
    "hdr = {'User-Agent': 'Mozilla/5.0'}\n",
    "bookpage = requests.get(site)\n",
    "soup = BeautifulSoup(bookpage.text, \"html.parser\")\n",
    "#print(soup.prettify())"
   ]
  },
  {
   "cell_type": "code",
   "execution_count": 4,
   "metadata": {
    "collapsed": true
   },
   "outputs": [],
   "source": [
    "titles = soup.find_all('td', class_ ='titleColumn')\n",
    "###unhash below if you want to see the output\n",
    "#titles"
   ]
  },
  {
   "cell_type": "code",
   "execution_count": 5,
   "metadata": {},
   "outputs": [
    {
     "data": {
      "text/plain": [
       "<td class=\"titleColumn\">\n",
       "<a href=\"/title/tt1825683/?pf_rd_m=A2FGELUUNOQJNL&amp;pf_rd_p=ea4e08e1-c8a3-47b5-ac3a-75026647c16e&amp;pf_rd_r=1JSMCPM57JH88ZMHMKPJ&amp;pf_rd_s=center-1&amp;pf_rd_t=15506&amp;pf_rd_i=moviemeter&amp;ref_=chtmvm_tt_1\" title=\"Ryan Coogler (dir.), Chadwick Boseman, Michael B. Jordan\">Black Panther</a>\n",
       "<span class=\"secondaryInfo\">(2018)</span>\n",
       "<div class=\"velocity\">1\n",
       "(no change)\n",
       "</div>\n",
       "</td>"
      ]
     },
     "execution_count": 5,
     "metadata": {},
     "output_type": "execute_result"
    }
   ],
   "source": [
    "#first row in the dataframe\n",
    "titles[0]"
   ]
  },
  {
   "cell_type": "code",
   "execution_count": 6,
   "metadata": {},
   "outputs": [
    {
     "data": {
      "text/plain": [
       "100"
      ]
     },
     "execution_count": 6,
     "metadata": {},
     "output_type": "execute_result"
    }
   ],
   "source": [
    "#number of rows in the dataframe\n",
    "len(titles)"
   ]
  },
  {
   "cell_type": "code",
   "execution_count": 7,
   "metadata": {},
   "outputs": [
    {
     "data": {
      "text/plain": [
       "'Black Panther\\n(2018)\\n1\\n(no change)'"
      ]
     },
     "execution_count": 7,
     "metadata": {},
     "output_type": "execute_result"
    }
   ],
   "source": [
    "#getting the text of the first row\n",
    "titles[0].text.strip()"
   ]
  },
  {
   "cell_type": "code",
   "execution_count": 8,
   "metadata": {},
   "outputs": [
    {
     "data": {
      "text/plain": [
       "['Black Panther', '(2018)', '1', '(no change)']"
      ]
     },
     "execution_count": 8,
     "metadata": {},
     "output_type": "execute_result"
    }
   ],
   "source": [
    "#getting the text before the \\n \n",
    "titles[0].text.strip().split('\\n')"
   ]
  },
  {
   "cell_type": "code",
   "execution_count": 9,
   "metadata": {
    "scrolled": true
   },
   "outputs": [
    {
     "data": {
      "text/plain": [
       "'Black Panther'"
      ]
     },
     "execution_count": 9,
     "metadata": {},
     "output_type": "execute_result"
    }
   ],
   "source": [
    "titles[0].text.strip().split('\\n')[0]"
   ]
  },
  {
   "cell_type": "code",
   "execution_count": 10,
   "metadata": {},
   "outputs": [
    {
     "data": {
      "text/plain": [
       "'/title/tt1825683/?pf_rd_m=A2FGELUUNOQJNL&pf_rd_p=ea4e08e1-c8a3-47b5-ac3a-75026647c16e&pf_rd_r=1JSMCPM57JH88ZMHMKPJ&pf_rd_s=center-1&pf_rd_t=15506&pf_rd_i=moviemeter&ref_=chtmvm_tt_1'"
      ]
     },
     "execution_count": 10,
     "metadata": {},
     "output_type": "execute_result"
    }
   ],
   "source": [
    "#getting the url of the first movie\n",
    "titles[0].a['href']"
   ]
  },
  {
   "cell_type": "code",
   "execution_count": 11,
   "metadata": {
    "collapsed": true
   },
   "outputs": [],
   "source": [
    "title_db = []\n",
    "url_db = []\n",
    "for i in titles:\n",
    "    name = i.text.strip().split('\\n')[0]\n",
    "    url = i.a['href']\n",
    "    title_db.append(name)\n",
    "    url_db.append(url)"
   ]
  },
  {
   "cell_type": "code",
   "execution_count": 12,
   "metadata": {},
   "outputs": [
    {
     "data": {
      "text/plain": [
       "['Black Panther',\n",
       " 'Red Sparrow',\n",
       " 'The Shape of Water',\n",
       " 'Annihilation',\n",
       " 'Avengers: Infinity War',\n",
       " 'Mute',\n",
       " 'Game Night',\n",
       " 'Three Billboards Outside Ebbing, Missouri',\n",
       " 'Thor: Ragnarok',\n",
       " 'Lady Bird',\n",
       " 'Call Me by Your Name',\n",
       " 'Fifty Shades Freed',\n",
       " 'I, Tonya',\n",
       " 'Death Wish',\n",
       " 'The Greatest Showman',\n",
       " 'Coco',\n",
       " 'Justice League',\n",
       " 'Ready Player One',\n",
       " 'Get Out',\n",
       " 'Murder on the Orient Express',\n",
       " 'Darkest Hour',\n",
       " 'Wonder',\n",
       " 'Jumanji: Welcome to the Jungle',\n",
       " 'Phantom Thread',\n",
       " 'Blade Runner 2049',\n",
       " 'Ferdinand',\n",
       " 'Tomb Raider',\n",
       " 'Best F(r)iends',\n",
       " 'A Wrinkle in Time',\n",
       " 'Hagane no renkinjutsushi',\n",
       " 'It',\n",
       " \"Daddy's Home 2\",\n",
       " 'The Post',\n",
       " 'Dunkirk',\n",
       " 'The Disaster Artist',\n",
       " 'Star Wars: Episode VIII - The Last Jedi',\n",
       " 'X-Men: Dark Phoenix',\n",
       " 'Verónica',\n",
       " 'The Death of Stalin',\n",
       " 'Wonder Woman',\n",
       " 'The Cloverfield Paradox',\n",
       " 'When We First Met',\n",
       " 'Peter Rabbit',\n",
       " 'The Ritual',\n",
       " 'Pitch Perfect 3',\n",
       " 'Den of Thieves',\n",
       " 'The Florida Project',\n",
       " 'Ralph Breaks the Internet: Wreck-It Ralph 2',\n",
       " 'Every Day',\n",
       " 'Thoroughbreds',\n",
       " 'The 15:17 to Paris',\n",
       " 'The Untitled Deadpool Sequel',\n",
       " 'The Square',\n",
       " 'Spider-Man: Homecoming',\n",
       " 'Beast of Burden',\n",
       " 'Baywatch',\n",
       " 'The Irishman',\n",
       " \"Molly's Game\",\n",
       " '12 Strong',\n",
       " 'Winchester',\n",
       " 'The Mummy',\n",
       " 'The Lodgers',\n",
       " 'Captain America: Civil War',\n",
       " 'Solo: A Star Wars Story',\n",
       " 'Mother!',\n",
       " 'The Room',\n",
       " 'Samson',\n",
       " 'Wind River',\n",
       " 'Venom',\n",
       " 'Kingsman: The Golden Circle',\n",
       " 'Pacific Rim Uprising',\n",
       " 'Only the Brave',\n",
       " 'Guardians of the Galaxy Vol. 2',\n",
       " 'Aquaman',\n",
       " 'Halloween',\n",
       " '7 Guardians of the Tomb',\n",
       " 'Hostiles',\n",
       " 'Logan Lucky',\n",
       " 'I Kill Giants',\n",
       " 'The Strangers: Prey at Night',\n",
       " 'Fifty Shades of Grey',\n",
       " 'Marrowbone',\n",
       " 'Baby Driver',\n",
       " 'Love, Simon',\n",
       " 'The Godfather',\n",
       " 'Captain Marvel',\n",
       " 'Bright',\n",
       " 'Suicide Squad',\n",
       " 'Isle of Dogs',\n",
       " 'Early Man',\n",
       " 'On Chesil Beach',\n",
       " 'Maze Runner: The Death Cure',\n",
       " 'Incredibles 2',\n",
       " 'A Quiet Place',\n",
       " 'The Predator',\n",
       " 'Wonder Wheel',\n",
       " 'Geostorm',\n",
       " 'Avengers: Age of Ultron',\n",
       " 'Mudbound',\n",
       " 'Valerian and the City of a Thousand Planets']"
      ]
     },
     "execution_count": 12,
     "metadata": {},
     "output_type": "execute_result"
    }
   ],
   "source": [
    "title_db"
   ]
  },
  {
   "cell_type": "code",
   "execution_count": 13,
   "metadata": {},
   "outputs": [
    {
     "data": {
      "text/plain": [
       "'/title/tt1825683/?pf_rd_m=A2FGELUUNOQJNL&pf_rd_p=ea4e08e1-c8a3-47b5-ac3a-75026647c16e&pf_rd_r=1JSMCPM57JH88ZMHMKPJ&pf_rd_s=center-1&pf_rd_t=15506&pf_rd_i=moviemeter&ref_=chtmvm_tt_1'"
      ]
     },
     "execution_count": 13,
     "metadata": {},
     "output_type": "execute_result"
    }
   ],
   "source": [
    "url_db[0]"
   ]
  },
  {
   "cell_type": "code",
   "execution_count": 14,
   "metadata": {},
   "outputs": [
    {
     "data": {
      "text/plain": [
       "'1'"
      ]
     },
     "execution_count": 14,
     "metadata": {},
     "output_type": "execute_result"
    }
   ],
   "source": [
    "#getting the rank of the first movie\n",
    "titles[0].text.strip().split('\\n')[2]"
   ]
  },
  {
   "cell_type": "code",
   "execution_count": 15,
   "metadata": {},
   "outputs": [
    {
     "data": {
      "text/plain": [
       "'7.8'"
      ]
     },
     "execution_count": 15,
     "metadata": {},
     "output_type": "execute_result"
    }
   ],
   "source": [
    "#getting the rating of the movies\n",
    "ratings = soup.find_all('td', class_ ='ratingColumn imdbRating')\n",
    "#see rating of first movie\n",
    "ratings[0].text.strip()"
   ]
  },
  {
   "cell_type": "markdown",
   "metadata": {},
   "source": [
    "### 2. Single page\n",
    "### Extracting Movie advisory category, duration, genre, date"
   ]
  },
  {
   "cell_type": "code",
   "execution_count": 16,
   "metadata": {
    "collapsed": true
   },
   "outputs": [],
   "source": [
    "nextsite = 'http://www.imdb.com/title/tt1825683/?pf_rd_m=A2FGELUUNOQJNL&pf_rd_p=ea4e08e1-c8a3-47b5-ac3a-75026647c16e&pf_rd_r=0P0MZYWFF77N2XF1Z2Y9&pf_rd_s=center-1&pf_rd_t=15506&pf_rd_i=moviemeter&ref_=chtmvm_tt_1'\n",
    "hdr = {'User-Agent': 'Mozilla/5.0'}\n",
    "onemoviepage = requests.get(nextsite)\n",
    "onesoup = BeautifulSoup(onemoviepage.text, \"html.parser\")"
   ]
  },
  {
   "cell_type": "code",
   "execution_count": 17,
   "metadata": {},
   "outputs": [
    {
     "data": {
      "text/plain": [
       "<div class=\"subtext\">\n",
       "<meta content=\"PG\" itemprop=\"contentRating\"/>PG\n",
       "<span class=\"ghost\">|</span> <time datetime=\"PT134M\" itemprop=\"duration\">\n",
       "                        2h 14min\n",
       "                    </time>\n",
       "<span class=\"ghost\">|</span>\n",
       "<a href=\"/genre/Action?ref_=tt_ov_inf\"><span class=\"itemprop\" itemprop=\"genre\">Action</span></a>, \n",
       "<a href=\"/genre/Adventure?ref_=tt_ov_inf\"><span class=\"itemprop\" itemprop=\"genre\">Adventure</span></a>, \n",
       "<a href=\"/genre/Sci-Fi?ref_=tt_ov_inf\"><span class=\"itemprop\" itemprop=\"genre\">Sci-Fi</span></a>\n",
       "<span class=\"ghost\">|</span>\n",
       "<a href=\"/title/tt1825683/releaseinfo?ref_=tt_ov_inf\" title=\"See more release dates\">14 February 2018 (Singapore)\n",
       "<meta content=\"2018-02-14\" itemprop=\"datePublished\">\n",
       "</meta></a> </div>"
      ]
     },
     "execution_count": 17,
     "metadata": {},
     "output_type": "execute_result"
    }
   ],
   "source": [
    "j = onesoup.find('div', class_ = \"subtext\")\n",
    "j"
   ]
  },
  {
   "cell_type": "code",
   "execution_count": 18,
   "metadata": {},
   "outputs": [
    {
     "data": {
      "text/plain": [
       "'PG'"
      ]
     },
     "execution_count": 18,
     "metadata": {},
     "output_type": "execute_result"
    }
   ],
   "source": [
    "j.find(itemprop=\"contentRating\").get(\"content\")"
   ]
  },
  {
   "cell_type": "code",
   "execution_count": 19,
   "metadata": {},
   "outputs": [
    {
     "data": {
      "text/plain": [
       "'2h 14min'"
      ]
     },
     "execution_count": 19,
     "metadata": {},
     "output_type": "execute_result"
    }
   ],
   "source": [
    "j.find(itemprop=\"duration\").get_text().strip()"
   ]
  },
  {
   "cell_type": "code",
   "execution_count": 20,
   "metadata": {},
   "outputs": [
    {
     "data": {
      "text/plain": [
       "'Action'"
      ]
     },
     "execution_count": 20,
     "metadata": {},
     "output_type": "execute_result"
    }
   ],
   "source": [
    "j.find(itemprop=\"genre\").get_text().strip()"
   ]
  },
  {
   "cell_type": "code",
   "execution_count": 21,
   "metadata": {},
   "outputs": [
    {
     "data": {
      "text/plain": [
       "'2018-02-14'"
      ]
     },
     "execution_count": 21,
     "metadata": {},
     "output_type": "execute_result"
    }
   ],
   "source": [
    "k = j.find_all('a')[-1]\n",
    "k.find(itemprop=\"datePublished\").get(\"content\")"
   ]
  },
  {
   "cell_type": "markdown",
   "metadata": {},
   "source": [
    "## 3. Putting everything together"
   ]
  },
  {
   "cell_type": "code",
   "execution_count": 22,
   "metadata": {
    "collapsed": true
   },
   "outputs": [],
   "source": [
    "import time"
   ]
  },
  {
   "cell_type": "code",
   "execution_count": 27,
   "metadata": {},
   "outputs": [
    {
     "name": "stdout",
     "output_type": "stream",
     "text": [
      "0\n",
      "1\n",
      "2\n",
      "3\n",
      "4\n",
      "5\n",
      "6\n",
      "7\n",
      "8\n",
      "9\n",
      "10\n",
      "11\n",
      "12\n",
      "13\n",
      "14\n",
      "15\n",
      "16\n",
      "17\n",
      "18\n",
      "19\n",
      "20\n",
      "21\n",
      "22\n",
      "23\n",
      "24\n",
      "25\n",
      "26\n",
      "27\n",
      "28\n",
      "29\n",
      "30\n",
      "31\n",
      "32\n",
      "33\n",
      "34\n",
      "35\n",
      "36\n",
      "37\n",
      "38\n",
      "39\n",
      "40\n",
      "41\n",
      "42\n",
      "43\n",
      "44\n",
      "45\n",
      "46\n",
      "47\n",
      "48\n",
      "49\n",
      "50\n",
      "51\n",
      "52\n",
      "53\n",
      "54\n",
      "55\n",
      "56\n",
      "57\n",
      "58\n",
      "59\n",
      "60\n",
      "61\n",
      "62\n",
      "63\n",
      "64\n",
      "65\n",
      "66\n",
      "67\n",
      "68\n",
      "69\n",
      "70\n",
      "71\n",
      "72\n",
      "73\n",
      "74\n",
      "75\n",
      "76\n",
      "77\n",
      "78\n",
      "79\n",
      "80\n",
      "81\n",
      "82\n",
      "83\n",
      "84\n",
      "85\n",
      "86\n",
      "87\n",
      "88\n",
      "89\n",
      "90\n",
      "91\n",
      "92\n",
      "93\n",
      "94\n",
      "95\n",
      "96\n",
      "97\n",
      "98\n",
      "99\n"
     ]
    }
   ],
   "source": [
    "data = []\n",
    "site = \"http://www.imdb.com/chart/moviemeter?ref_=nv_mv_mpm_8\"\n",
    "hdr = {'User-Agent': 'Mozilla/5.0'}\n",
    "bookpage = requests.get(site)\n",
    "soup = BeautifulSoup(bookpage.text, \"html.parser\")\n",
    "#print(soup.prettify())\n",
    "titles = soup.find_all('td', class_ ='titleColumn')\n",
    "ratings = soup.find_all('td', class_ ='ratingColumn imdbRating')\n",
    "title_db = []\n",
    "url_db = []\n",
    "for i in titles:\n",
    "    name = i.text.strip().split('\\n')[0]\n",
    "    url = i.a['href']\n",
    "    title_db.append(name)\n",
    "    url_db.append(url)\n",
    "for i in range(0,100): \n",
    "#for i in range(0,27): ###you can test a smaller range first\n",
    "    name = title_db[i]\n",
    "    rank = titles[i].text.strip().split('\\n')[2]\n",
    "    rating = ratings[i].text.strip()\n",
    "    nextsite = 'http://www.imdb.com' + url_db[i]\n",
    "    hdr = {'User-Agent': 'Mozilla/5.0'}\n",
    "    onebookpage = requests.get(nextsite)\n",
    "    onesoup = BeautifulSoup(onebookpage.text, \"html.parser\")\n",
    "    #print(onesoup.prettify())\n",
    "    j = onesoup.find('div', class_ = \"subtext\")\n",
    "    try:\n",
    "        advisory = j.find(itemprop=\"contentRating\").get(\"content\")\n",
    "    except: \n",
    "        advisory = \"NA\"\n",
    "    try:\n",
    "        duration = j.find(itemprop=\"duration\").get_text().strip()\n",
    "    except:\n",
    "        duration = \"NA\"\n",
    "    try:\n",
    "        genre = j.find(itemprop=\"genre\").get_text().strip()\n",
    "    except:\n",
    "        genre = \"NA\"\n",
    "    k = j.find_all('a')[-1]\n",
    "    try:\n",
    "        date = k.find(itemprop=\"datePublished\").get(\"content\")\n",
    "    except:\n",
    "        date = \"NA\"\n",
    "    data.append((name,rank,rating,advisory,genre,duration,date))\n",
    "    print(i)\n",
    "    time.sleep(2)"
   ]
  },
  {
   "cell_type": "code",
   "execution_count": 24,
   "metadata": {},
   "outputs": [
    {
     "data": {
      "text/plain": [
       "[('Black Panther', '1', '7.8', 'PG', 'Action', '2h 14min', '2018-02-14'),\n",
       " ('Red Sparrow', '2', '6.7', 'M18', 'Drama', '2h 20min', '2018-03-01'),\n",
       " ('The Shape of Water',\n",
       "  '3',\n",
       "  '7.6',\n",
       "  'M18',\n",
       "  'Adventure',\n",
       "  '2h 3min',\n",
       "  '2018-02-01'),\n",
       " ('Annihilation', '4', '7.8', 'M18', 'Adventure', '1h 55min', '2018-03-12'),\n",
       " ('Avengers: Infinity War', '5', '', 'NA', 'Action', 'NA', '2018-04-26'),\n",
       " ('Mute', '6', '5.4', 'R21', 'Mystery', '2h 6min', '2018-02-23'),\n",
       " ('Game Night', '7', '7.5', 'NC16', 'Comedy', '1h 40min', '2018-02-22'),\n",
       " ('Three Billboards Outside Ebbing, Missouri',\n",
       "  '8',\n",
       "  '8.3',\n",
       "  'NC16',\n",
       "  'Crime',\n",
       "  '1h 55min',\n",
       "  '2018-01-18'),\n",
       " ('Thor: Ragnarok', '9', '8.0', 'PG13', 'Action', '2h 10min', '2017-10-26'),\n",
       " ('Lady Bird', '10', '7.6', 'M18', 'Comedy', '1h 34min', '2018-02-22'),\n",
       " ('Call Me by Your Name',\n",
       "  '11',\n",
       "  '8.1',\n",
       "  'R21',\n",
       "  'Drama',\n",
       "  '2h 12min',\n",
       "  '2018-01-18'),\n",
       " ('Fifty Shades Freed', '12', '4.4', 'R21', 'Drama', '1h 45min', '2018-02-08'),\n",
       " ('I, Tonya', '13', '7.6', 'M18', 'Biography', '2h', '2018-02-01'),\n",
       " ('Death Wish', '14', '6.7', 'M18', 'Action', '1h 47min', '2018-03-01'),\n",
       " ('The Greatest Showman',\n",
       "  '15',\n",
       "  '7.9',\n",
       "  'PG',\n",
       "  'Biography',\n",
       "  '1h 45min',\n",
       "  '2017-12-28'),\n",
       " ('Coco', '16', '8.5', 'PG', 'Animation', '1h 45min', '2017-11-23'),\n",
       " ('Justice League', '17', '6.8', 'PG', 'Action', '2h', '2017-11-16'),\n",
       " ('Ready Player One', '18', '', 'PG13', 'Action', '2h 20min', '2018-03-29'),\n",
       " ('Get Out', '19', '7.7', 'NC16', 'Horror', '1h 44min', '2017-03-16'),\n",
       " ('Murder on the Orient Express',\n",
       "  '20',\n",
       "  '6.6',\n",
       "  'PG',\n",
       "  'Crime',\n",
       "  '1h 54min',\n",
       "  '2017-11-30'),\n",
       " ('Darkest Hour', '21', '7.4', 'PG', 'Biography', '2h 5min', '2018-01-04'),\n",
       " ('Wonder', '22', '8.0', 'PG', 'Drama', '1h 53min', '2017-12-14'),\n",
       " ('Jumanji: Welcome to the Jungle',\n",
       "  '23',\n",
       "  '7.2',\n",
       "  'PG',\n",
       "  'Action',\n",
       "  '1h 59min',\n",
       "  '2017-12-21'),\n",
       " ('Phantom Thread', '24', '7.8', 'NC16', 'Drama', '2h 10min', '2018-01-25'),\n",
       " ('Blade Runner 2049', '25', '8.2', 'M18', 'Drama', '2h 44min', '2017-10-05'),\n",
       " ('Ferdinand', '26', '6.7', 'PG', 'Animation', '1h 48min', '2017-12-21'),\n",
       " ('Tomb Raider', '27', '7.6', 'PG13', 'Action', '1h 58min', '2018-03-08')]"
      ]
     },
     "execution_count": 24,
     "metadata": {},
     "output_type": "execute_result"
    }
   ],
   "source": [
    "#data"
   ]
  },
  {
   "cell_type": "code",
   "execution_count": 28,
   "metadata": {},
   "outputs": [
    {
     "data": {
      "text/plain": [
       "100"
      ]
     },
     "execution_count": 28,
     "metadata": {},
     "output_type": "execute_result"
    }
   ],
   "source": [
    "len(data)"
   ]
  },
  {
   "cell_type": "code",
   "execution_count": 29,
   "metadata": {
    "collapsed": true
   },
   "outputs": [],
   "source": [
    "df = pd.DataFrame(np.array(data))"
   ]
  },
  {
   "cell_type": "code",
   "execution_count": 30,
   "metadata": {
    "collapsed": true
   },
   "outputs": [],
   "source": [
    "df.columns = ['name','rank','rating','advisory','genre','duration','date']"
   ]
  },
  {
   "cell_type": "code",
   "execution_count": 31,
   "metadata": {},
   "outputs": [
    {
     "data": {
      "text/html": [
       "<div>\n",
       "<style>\n",
       "    .dataframe thead tr:only-child th {\n",
       "        text-align: right;\n",
       "    }\n",
       "\n",
       "    .dataframe thead th {\n",
       "        text-align: left;\n",
       "    }\n",
       "\n",
       "    .dataframe tbody tr th {\n",
       "        vertical-align: top;\n",
       "    }\n",
       "</style>\n",
       "<table border=\"1\" class=\"dataframe\">\n",
       "  <thead>\n",
       "    <tr style=\"text-align: right;\">\n",
       "      <th></th>\n",
       "      <th>name</th>\n",
       "      <th>rank</th>\n",
       "      <th>rating</th>\n",
       "      <th>advisory</th>\n",
       "      <th>genre</th>\n",
       "      <th>duration</th>\n",
       "      <th>date</th>\n",
       "    </tr>\n",
       "  </thead>\n",
       "  <tbody>\n",
       "    <tr>\n",
       "      <th>0</th>\n",
       "      <td>Black Panther</td>\n",
       "      <td>1</td>\n",
       "      <td>7.8</td>\n",
       "      <td>PG</td>\n",
       "      <td>Action</td>\n",
       "      <td>2h 14min</td>\n",
       "      <td>2018-02-14</td>\n",
       "    </tr>\n",
       "    <tr>\n",
       "      <th>1</th>\n",
       "      <td>Red Sparrow</td>\n",
       "      <td>2</td>\n",
       "      <td>6.7</td>\n",
       "      <td>M18</td>\n",
       "      <td>Drama</td>\n",
       "      <td>2h 20min</td>\n",
       "      <td>2018-03-01</td>\n",
       "    </tr>\n",
       "    <tr>\n",
       "      <th>2</th>\n",
       "      <td>The Shape of Water</td>\n",
       "      <td>3</td>\n",
       "      <td>7.6</td>\n",
       "      <td>M18</td>\n",
       "      <td>Adventure</td>\n",
       "      <td>2h 3min</td>\n",
       "      <td>2018-02-01</td>\n",
       "    </tr>\n",
       "    <tr>\n",
       "      <th>3</th>\n",
       "      <td>Annihilation</td>\n",
       "      <td>4</td>\n",
       "      <td>7.8</td>\n",
       "      <td>M18</td>\n",
       "      <td>Adventure</td>\n",
       "      <td>1h 55min</td>\n",
       "      <td>2018-03-12</td>\n",
       "    </tr>\n",
       "    <tr>\n",
       "      <th>4</th>\n",
       "      <td>Avengers: Infinity War</td>\n",
       "      <td>5</td>\n",
       "      <td></td>\n",
       "      <td>NA</td>\n",
       "      <td>Action</td>\n",
       "      <td>NA</td>\n",
       "      <td>2018-04-26</td>\n",
       "    </tr>\n",
       "  </tbody>\n",
       "</table>\n",
       "</div>"
      ],
      "text/plain": [
       "                     name rank rating advisory      genre  duration  \\\n",
       "0           Black Panther    1    7.8       PG     Action  2h 14min   \n",
       "1             Red Sparrow    2    6.7      M18      Drama  2h 20min   \n",
       "2      The Shape of Water    3    7.6      M18  Adventure   2h 3min   \n",
       "3            Annihilation    4    7.8      M18  Adventure  1h 55min   \n",
       "4  Avengers: Infinity War    5              NA     Action        NA   \n",
       "\n",
       "         date  \n",
       "0  2018-02-14  \n",
       "1  2018-03-01  \n",
       "2  2018-02-01  \n",
       "3  2018-03-12  \n",
       "4  2018-04-26  "
      ]
     },
     "execution_count": 31,
     "metadata": {},
     "output_type": "execute_result"
    }
   ],
   "source": [
    "df.head()"
   ]
  },
  {
   "cell_type": "code",
   "execution_count": 32,
   "metadata": {
    "collapsed": true
   },
   "outputs": [],
   "source": [
    "df.to_csv('imdbpopular.csv')"
   ]
  },
  {
   "cell_type": "markdown",
   "metadata": {},
   "source": [
    "#### Resouces:\n",
    "https://stackoverflow.com/questions/34302774/beautiful-soup-meta-content-tag  \n",
    "https://stackoverflow.com/questions/27387415/how-would-i-get-everything-before-a-in-a-string-python"
   ]
  }
 ],
 "metadata": {
  "kernelspec": {
   "display_name": "Python 3",
   "language": "python",
   "name": "python3"
  },
  "language_info": {
   "codemirror_mode": {
    "name": "ipython",
    "version": 3
   },
   "file_extension": ".py",
   "mimetype": "text/x-python",
   "name": "python",
   "nbconvert_exporter": "python",
   "pygments_lexer": "ipython3",
   "version": "3.6.3"
  }
 },
 "nbformat": 4,
 "nbformat_minor": 2
}
