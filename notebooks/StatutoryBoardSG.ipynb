{
 "cells": [
  {
   "cell_type": "code",
   "execution_count": 1,
   "metadata": {
    "collapsed": true
   },
   "outputs": [],
   "source": [
    "# https://docs.python.org/3.4/installing/index.html\n",
    "from urllib.request import Request, urlopen\n",
    "import requests\n",
    "from bs4 import BeautifulSoup\n",
    "import csv\n",
    "import shutil\n",
    "import re\n",
    "import time"
   ]
  },
  {
   "cell_type": "code",
   "execution_count": 2,
   "metadata": {
    "collapsed": true
   },
   "outputs": [],
   "source": [
    "import pandas as pd\n",
    "import numpy as np"
   ]
  },
  {
   "cell_type": "markdown",
   "metadata": {},
   "source": [
    "## 1. Main page\n",
    "### Exploring how to extract names of Statutory Boards and url of their respective single pages"
   ]
  },
  {
   "cell_type": "code",
   "execution_count": 14,
   "metadata": {
    "collapsed": true
   },
   "outputs": [],
   "source": [
    "site = \"https://www.gov.sg/sgdi/statutory-boards\"\n",
    "hdr = {'User-Agent': 'Mozilla/5.0'}\n",
    "bookpage = requests.get(site)\n",
    "soup = BeautifulSoup(bookpage.text, \"html.parser\")\n",
    "# print(soup.prettify())"
   ]
  },
  {
   "cell_type": "code",
   "execution_count": 15,
   "metadata": {
    "scrolled": true
   },
   "outputs": [
    {
     "data": {
      "text/plain": [
       "<ul class=\"site-nav\">\n",
       "<li>\n",
       "<a href=\"https://m.me/gov.sg\" title=\"Message Us\">MESSAGE US</a>\n",
       "</li>\n",
       "<li>\n",
       "<a href=\"/subscription-page\" title=\"Subscribe Newsletter\">SUBSCRIBE</a>\n",
       "</li>\n",
       "<li><a href=\"/contact-info\" title=\"Contact Info\">CONTACT</a>\n",
       "</li>\n",
       "<li>\n",
       "<a href=\"/feedback-form\" title=\"Feedback\">FEEDBACK</a>\n",
       "</li>\n",
       "<li>\n",
       "<a href=\"/sitemap\" title=\"Sitemap\">SITEMAP</a>\n",
       "</li>\n",
       "<li>\n",
       "<a href=\"http://www.ifaq.gov.sg/govsgfaq\" title=\"FAQ\">FAQ</a>\n",
       "</li>\n",
       "</ul>"
      ]
     },
     "execution_count": 15,
     "metadata": {},
     "output_type": "execute_result"
    }
   ],
   "source": [
    "soup.ul"
   ]
  },
  {
   "cell_type": "code",
   "execution_count": 16,
   "metadata": {
    "scrolled": true
   },
   "outputs": [
    {
     "data": {
      "text/plain": [
       "[<li>\n",
       " <a href=\"https://m.me/gov.sg\" title=\"Message Us\">MESSAGE US</a>\n",
       " </li>, <li>\n",
       " <a href=\"/subscription-page\" title=\"Subscribe Newsletter\">SUBSCRIBE</a>\n",
       " </li>, <li><a href=\"/contact-info\" title=\"Contact Info\">CONTACT</a>\n",
       " </li>, <li>\n",
       " <a href=\"/feedback-form\" title=\"Feedback\">FEEDBACK</a>\n",
       " </li>, <li>\n",
       " <a href=\"/sitemap\" title=\"Sitemap\">SITEMAP</a>\n",
       " </li>, <li>\n",
       " <a href=\"http://www.ifaq.gov.sg/govsgfaq\" title=\"FAQ\">FAQ</a>\n",
       " </li>, <li class=\"print\">\n",
       " <a href=\"javascript:window.print();\">Print</a>\n",
       " </li>, <li class=\"smaller-font\">\n",
       " <a class=\"rvfs-decrease\" href=\"#\">Smaller font</a>\n",
       " </li>, <li class=\"bigger-font\">\n",
       " <a class=\"rvfs-increase\" href=\"#\">Bigger font</a>\n",
       " </li>, <li class=\"search\">\n",
       " <div id=\"mainmenu_0_mobilesearchbar_0_DivCode\">\n",
       " <div class=\"site-search\">\n",
       " <label for=\"txtSearchkeyMobile\" style=\"display:none;\">Search</label>\n",
       " <input class=\"searchinput\" id=\"txtSearchkeyMobile\" onclick=\"return runScriptEvent(event)\" onkeydown=\"if (event.keyCode == 13) document.getElementById('btnGoogleSearchMobile').click()\" placeholder=\"Search\" title=\"Search\" type=\"text\"/>\n",
       " <label for=\"selMobile\" style=\"display:none;\">Search Within</label>\n",
       " <select class=\"searchoption\" id=\"selMobile\">\n",
       " <option value=\"gov\">Within gov.sg</option>\n",
       " <option value=\"wog\">Within All Government Website</option>\n",
       " </select>\n",
       " <span class=\"glyphicon glyphicon-search\" id=\"btnGoogleSearchMobile\"></span>\n",
       " </div>\n",
       " </div>\n",
       " </li>, <li class=\"home\"><a href=\"/\">Home</a></li>, <li><a href=\"/news\">News</a></li>, <li><a href=\"/factually\">Factually</a></li>, <li><a data-toggle=\"dropdown disabled\" href=\"javascript:void(0);\">Microsites<span class=\"car\"></span></a><ul class=\"dropdown-menu\"><li><a href=\"/microsites/budget2018\">Budget 2018</a></li><li><a href=\"/microsites/abrighterfuture\">A Brighter Future</a></li><li><a href=\"/microsites/future-economy\">Future Economy</a></li><li><a href=\"/microsites/happy-can-already-3\">Happy Can Already 3</a></li><li><a href=\"/microsites/everydropcounts\">Every Drop Counts</a></li><li><a href=\"/microsites/whatsyourplan\">What's Your Plan</a></li><li><a href=\"/microsites/zika\">Zika Virus</a></li></ul></li>, <li><a href=\"/microsites/budget2018\">Budget 2018</a></li>, <li><a href=\"/microsites/abrighterfuture\">A Brighter Future</a></li>, <li><a href=\"/microsites/future-economy\">Future Economy</a></li>, <li><a href=\"/microsites/happy-can-already-3\">Happy Can Already 3</a></li>, <li><a href=\"/microsites/everydropcounts\">Every Drop Counts</a></li>, <li><a href=\"/microsites/whatsyourplan\">What's Your Plan</a></li>, <li><a href=\"/microsites/zika\">Zika Virus</a></li>, <li><a data-toggle=\"dropdown disabled\" href=\"/resources\">Resources<span class=\"car\"></span></a><ul class=\"dropdown-menu\"><li><a href=\"/resources/sgpc\">SG Press Centre</a></li><li><a href=\"/resources/translation\">Government Terms Translated</a></li><li><a href=\"/resources/sgdi\">Government Directory</a></li><li><a href=\"/resources/ecitizen\">eServices</a></li></ul></li>, <li><a href=\"/resources/sgpc\">SG Press Centre</a></li>, <li><a href=\"/resources/translation\">Government Terms Translated</a></li>, <li><a href=\"/resources/sgdi\">Government Directory</a></li>, <li><a href=\"/resources/ecitizen\">eServices</a></li>, <li><a href=\"/feedback-form\">Feedback</a></li>, <li class=\"extra-nav\">\n",
       " <div id=\"mainmenu_0_mobilerightheader_0_DivCode\">\n",
       " <ul class=\"site-nav\">\n",
       " <li>\n",
       " <a href=\"https://m.me/gov.sg\" title=\"Message Us\">MESSAGE US</a>\n",
       " </li>\n",
       " <li>\n",
       " <a href=\"/subscription-page\" title=\"Subscribe Newsletter\">SUBSCRIBE</a>\n",
       " </li>\n",
       " <li><a href=\"/contact-info\" title=\"Contact Info\">CONTACT</a>\n",
       " </li>\n",
       " <li>\n",
       " <a href=\"/feedback-form\" title=\"Feedback\">FEEDBACK</a>\n",
       " </li>\n",
       " <li>\n",
       " <a href=\"/sitemap\" title=\"Sitemap\">SITEMAP</a>\n",
       " </li>\n",
       " <li>\n",
       " <a href=\"http://www.ifaq.gov.sg/govsgfaq\" title=\"FAQ\">FAQ</a>\n",
       " </li>\n",
       " </ul>\n",
       " </div>\n",
       " </li>, <li>\n",
       " <a href=\"https://m.me/gov.sg\" title=\"Message Us\">MESSAGE US</a>\n",
       " </li>, <li>\n",
       " <a href=\"/subscription-page\" title=\"Subscribe Newsletter\">SUBSCRIBE</a>\n",
       " </li>, <li><a href=\"/contact-info\" title=\"Contact Info\">CONTACT</a>\n",
       " </li>, <li>\n",
       " <a href=\"/feedback-form\" title=\"Feedback\">FEEDBACK</a>\n",
       " </li>, <li>\n",
       " <a href=\"/sitemap\" title=\"Sitemap\">SITEMAP</a>\n",
       " </li>, <li>\n",
       " <a href=\"http://www.ifaq.gov.sg/govsgfaq\" title=\"FAQ\">FAQ</a>\n",
       " </li>, <li>\n",
       " <div id=\"mainmenu_0_mobilesocialmedia_0_DivCode\">\n",
       " <!-- social media navigation -->\n",
       " <!-- <h2 class=\"title-social\">Follow Us</h2> -->\n",
       " <ul class=\"social-media\">\n",
       " <li class=\"fb\">\n",
       " <a href=\"https://www.facebook.com/gov.sg\" title=\"Facebook\">Facebook</a>\n",
       " </li>\n",
       " <li class=\"tw\">\n",
       " <a href=\"https://twitter.com/govsingapore\" title=\"Twitter\">Twitter</a>\n",
       " </li>\n",
       " <li class=\"yt\">\n",
       " <a href=\"https://www.youtube.com/user/govsingapore\" title=\"Youtube\">Youtube</a>\n",
       " </li>\n",
       " <li class=\"ig\">\n",
       " <a href=\"https://www.instagram.com/gov.sg\" title=\"Instagram\">Instagram</a>\n",
       " </li>\n",
       " </ul>\n",
       " <!-- subscribe navigation -->\n",
       " <div class=\"subscribe-newsletter\">\n",
       " <a href=\"/subscription-page\" title=\"Subscription\">Subscribe to Us</a>\n",
       " </div>\n",
       " <!-- message us navigation -->\n",
       " <div class=\"subscribe-newsletter\">\n",
       " <a href=\"https://m.me/gov.sg\" title=\"Message Us\">Message Us</a>\n",
       " </div>\n",
       " </div>\n",
       " </li>, <li class=\"fb\">\n",
       " <a href=\"https://www.facebook.com/gov.sg\" title=\"Facebook\">Facebook</a>\n",
       " </li>, <li class=\"tw\">\n",
       " <a href=\"https://twitter.com/govsingapore\" title=\"Twitter\">Twitter</a>\n",
       " </li>, <li class=\"yt\">\n",
       " <a href=\"https://www.youtube.com/user/govsingapore\" title=\"Youtube\">Youtube</a>\n",
       " </li>, <li class=\"ig\">\n",
       " <a href=\"https://www.instagram.com/gov.sg\" title=\"Instagram\">Instagram</a>\n",
       " </li>, <li>\n",
       " <span class=\"st_facebook\">\n",
       " <a href=\"#\" title=\"Facebook\"></a>\n",
       " </span>\n",
       " </li>, <li>\n",
       " <span class=\"st_twitter\">\n",
       " <a href=\"#\" title=\"Twitter\"></a>\n",
       " </span>\n",
       " </li>, <li>\n",
       " <span class=\"st_linkedin\">\n",
       " <a href=\"#\" title=\"LinkedIn\"></a>\n",
       " </span>\n",
       " </li>, <li>\n",
       " <span class=\"st_sharethis\">\n",
       " <a href=\"#\" title=\"Sharethis\"></a>\n",
       " </span>\n",
       " </li>, <li>\n",
       " <span class=\"st_email\">\n",
       " <a href=\"#\" title=\"Email\"></a>\n",
       " </span>\n",
       " </li>, <li>\n",
       " <a class=\"rss\" href=\"/rss\" target=\"_blank\" title=\"RSS\">rss</a>\n",
       " </li>, <li><a href=\"/sgdi/ministries/mof/statutory-boards/acra\">ACCOUNTING AND CORPORATE REGULATORY AUTHORITY (ACRA)</a><a class=\"external\" href=\"http://www.acra.gov.sg\" target=\"_blank\"></a></li>, <li><a href=\"/sgdi/ministries/mti/statutory-boards/astar\">AGENCY FOR SCIENCE, TECHNOLOGY AND RESEARCH (A*STAR)</a><a class=\"external\" href=\"http://www.a-star.edu.sg\" target=\"_blank\"></a></li>, <li><a href=\"/sgdi/ministries/mnd/statutory-boards/ava\">AGRI-FOOD &amp; VETERINARY AUTHORITY OF SINGAPORE (AVA)</a><a class=\"external\" href=\"http://www.ava.gov.sg\" target=\"_blank\"></a></li>, <li><a href=\"/sgdi/ministries/mnd/statutory-boards/boa\">BOARD OF ARCHITECTS (BOA)</a><a class=\"external\" href=\"http://www.boa.gov.sg\" target=\"_blank\"></a></li>, <li><a href=\"/sgdi/ministries/mnd/statutory-boards/bca\">BUILDING AND CONSTRUCTION AUTHORITY (BCA)</a><a class=\"external\" href=\"http://www.bca.gov.sg\" target=\"_blank\"></a></li>, <li><a href=\"/sgdi/ministries/mha/statutory-boards/cra\">CASINO REGULATORY AUTHORITY OF SINGAPORE (CRA)</a><a class=\"external\" href=\"http://www.cra.gov.sg\" target=\"_blank\"></a></li>, <li><a href=\"/sgdi/ministries/mom/statutory-boards/cpfb\">CENTRAL PROVIDENT FUND BOARD (CPFB)</a><a class=\"external\" href=\"http://www.cpf.gov.sg\" target=\"_blank\"></a></li>, <li><a href=\"/sgdi/ministries/mot/statutory-boards/caas\">CIVIL AVIATION AUTHORITY OF SINGAPORE  (CAAS)</a><a class=\"external\" href=\"http://www.caas.gov.sg\" target=\"_blank\"></a></li>, <li><a href=\"/sgdi/ministries/pmo/statutory-boards/csc\">CIVIL SERVICE COLLEGE (CSC)</a><a class=\"external\" href=\"http://www.cscollege.gov.sg\" target=\"_blank\"></a></li>, <li><a href=\"/sgdi/ministries/mti/statutory-boards/cccs\">COMPETITION AND CONSUMER COMMISSION OF SINGAPORE (CCCS)</a><a class=\"external\" href=\"http://www.cccs.gov.sg\" target=\"_blank\"></a></li>, <li><a href=\"/sgdi/ministries/mnd/statutory-boards/cea\">COUNCIL FOR ESTATE AGENCIES (CEA)</a><a class=\"external\" href=\"http://www.cea.gov.sg\" target=\"_blank\"></a></li>, <li><a href=\"/sgdi/ministries/mindef/statutory-boards/dsta\">DEFENCE SCIENCE AND TECHNOLOGY AGENCY (DSTA)</a><a class=\"external\" href=\"http://www.dsta.gov.sg\" target=\"_blank\"></a></li>, <li><a href=\"/sgdi/ministries/mti/statutory-boards/edb\">ECONOMIC DEVELOPMENT BOARD (EDB)</a><a class=\"external\" href=\"http://www.sedb.com\" target=\"_blank\"></a></li>, <li><a href=\"/sgdi/ministries/mti/statutory-boards/ema\">ENERGY MARKET AUTHORITY (EMA)</a><a class=\"external\" href=\"http://www.ema.gov.sg\" target=\"_blank\"></a></li>, <li><a href=\"/sgdi/ministries/mti/statutory-boards/esg\">ENTERPRISE SINGAPORE  (ESG)</a><a class=\"external\" href=\"\" target=\"_blank\"></a></li>, <li><a href=\"/sgdi/ministries/pmo/statutory-boards/govtech\">GOVERNMENT TECHNOLOGY AGENCY (GOVTECH)</a><a class=\"external\" href=\"\" target=\"_blank\"></a></li>, <li><a href=\"/sgdi/ministries/moh/statutory-boards/hpb\">HEALTH PROMOTION BOARD (HPB)</a><a class=\"external\" href=\"http://www.hpb.gov.sg\" target=\"_blank\"></a></li>, <li><a href=\"/sgdi/ministries/moh/statutory-boards/hsa\">HEALTH SCIENCES AUTHORITY (HSA)</a><a class=\"external\" href=\"http://www.hsa.gov.sg\" target=\"_blank\"></a></li>, <li><a href=\"/sgdi/ministries/mti/statutory-boards/hlb\">HOTELS LICENSING BOARD (HLB)</a><a class=\"external\" href=\"http://www.hlb.gov.sg\" target=\"_blank\"></a></li>, <li><a href=\"/sgdi/ministries/mnd/statutory-boards/hdb\">HOUSING &amp; DEVELOPMENT BOARD (HDB)</a><a class=\"external\" href=\"http://www.hdb.gov.sg\" target=\"_blank\"></a></li>, <li><a href=\"/sgdi/ministries/mci/statutory-boards/imda\">INFO-COMMUNICATIONS MEDIA DEVELOPMENT AUTHORITY  (IMDA)</a><a class=\"external\" href=\"http://www.imda.gov.sg\" target=\"_blank\"></a></li>, <li><a href=\"/sgdi/ministries/mof/statutory-boards/iras\">INLAND REVENUE AUTHORITY OF SINGAPORE (IRAS)</a><a class=\"external\" href=\"http://www.iras.gov.sg\" target=\"_blank\"></a></li>, <li><a href=\"/sgdi/ministries/moe/statutory-boards/ite\">INSTITUTE OF TECHNICAL EDUCATION (ITE)</a><a class=\"external\" href=\"http://www.ite.edu.sg\" target=\"_blank\"></a></li>, <li><a href=\"/sgdi/ministries/minlaw/statutory-boards/ipos\">INTELLECTUAL PROPERTY OFFICE OF SINGAPORE (IPOS)</a><a class=\"external\" href=\"http://www.ipos.gov.sg\" target=\"_blank\"></a></li>, <li><a href=\"/sgdi/ministries/moe/statutory-boards/iseas\">ISEAS-YUSOF ISHAK INSTITUTE (ISEAS)</a><a class=\"external\" href=\"http://www.iseas.edu.sg\" target=\"_blank\"></a></li>, <li><a href=\"/sgdi/ministries/mti/statutory-boards/jtc\">JTC CORPORATION (JTC)</a><a class=\"external\" href=\"http://www.jtc.gov.sg\" target=\"_blank\"></a></li>, <li><a href=\"/sgdi/ministries/mot/statutory-boards/lta\">LAND TRANSPORT AUTHORITY (LTA)</a><a class=\"external\" href=\"http://www.lta.gov.sg\" target=\"_blank\"></a></li>, <li><a href=\"/sgdi/ministries/mccy/statutory-boards/muis\">MAJLIS UGAMA ISLAM, SINGAPURA (MUIS)</a><a class=\"external\" href=\"http://www.muis.gov.sg\" target=\"_blank\"></a></li>, <li><a href=\"/sgdi/ministries/mot/statutory-boards/mpa\">MARITIME AND PORT AUTHORITY OF SINGAPORE (MPA)</a><a class=\"external\" href=\"http://www.mpa.gov.sg\" target=\"_blank\"></a></li>, <li><a href=\"/sgdi/ministries/pmo/statutory-boards/mas\">MONETARY AUTHORITY OF SINGAPORE (MAS)</a><a class=\"external\" href=\"http://www.mas.gov.sg\" target=\"_blank\"></a></li>, <li><a href=\"/sgdi/ministries/moe/statutory-boards/nyp\">NANYANG POLYTECHNIC (NYP)</a><a class=\"external\" href=\"http://www.nyp.edu.sg\" target=\"_blank\"></a></li>, <li><a href=\"/sgdi/ministries/mccy/statutory-boards/nac\">NATIONAL ARTS COUNCIL (NAC)</a><a class=\"external\" href=\"http://www.nac.gov.sg\" target=\"_blank\"></a></li>, <li><a href=\"/sgdi/ministries/msf/statutory-boards/ncss\">NATIONAL COUNCIL OF SOCIAL SERVICE (NCSS)</a><a class=\"external\" href=\"http://www.ncss.gov.sg\" target=\"_blank\"></a></li>, <li><a href=\"/sgdi/ministries/mewr/statutory-boards/nea\">NATIONAL ENVIRONMENT AGENCY (NEA)</a><a class=\"external\" href=\"http://www.nea.gov.sg\" target=\"_blank\"></a></li>, <li><a href=\"/sgdi/ministries/mccy/statutory-boards/nhb\">NATIONAL HERITAGE BOARD (NHB)</a><a class=\"external\" href=\"http://www.nhb.gov.sg/\" target=\"_blank\"></a></li>, <li><a href=\"/sgdi/ministries/mci/statutory-boards/nlb\">NATIONAL LIBRARY BOARD (NLB)</a><a class=\"external\" href=\"http://www.nlb.gov.sg\" target=\"_blank\"></a></li>, <li><a href=\"/sgdi/ministries/mnd/statutory-boards/nparks\">NATIONAL PARKS BOARD (NPARKS)</a><a class=\"external\" href=\"http://www.nparks.gov.sg\" target=\"_blank\"></a></li>, <li><a href=\"/sgdi/ministries/moe/statutory-boards/np\">NGEE ANN POLYTECHNIC (NP)</a><a class=\"external\" href=\"http://www.np.edu.sg\" target=\"_blank\"></a></li>, <li><a href=\"/sgdi/ministries/mccy/statutory-boards/pa\">PEOPLE'S ASSOCIATION (PA)</a><a class=\"external\" href=\"http://www.pa.gov.sg\" target=\"_blank\"></a></li>, <li><a href=\"/sgdi/ministries/mnd/statutory-boards/peb\">PROFESSIONAL ENGINEERS BOARD, SINGAPORE (PEB)</a><a class=\"external\" href=\"http://www.peb.gov.sg\" target=\"_blank\"></a></li>, <li><a href=\"/sgdi/ministries/mewr/statutory-boards/pub\">PUB, Singapore's National Water Agency (PUB)</a><a class=\"external\" href=\"http://www.pub.gov.sg\" target=\"_blank\"></a></li>, <li><a href=\"/sgdi/ministries/mot/statutory-boards/ptc\">PUBLIC TRANSPORT COUNCIL (PTC)</a><a class=\"external\" href=\"http://www.ptc.gov.sg\" target=\"_blank\"></a></li>, <li><a href=\"/sgdi/ministries/moe/statutory-boards/rp\">REPUBLIC POLYTECHNIC (RP)</a><a class=\"external\" href=\"http://www.rp.edu.sg/\" target=\"_blank\"></a></li>, <li><a href=\"/sgdi/ministries/moe/statutory-boards/scb\">SCIENCE CENTRE BOARD (SCB)</a><a class=\"external\" href=\"http://www.science.edu.sg\" target=\"_blank\"></a></li>, <li><a href=\"/sgdi/ministries/mti/statutory-boards/sdc\">SENTOSA DEVELOPMENT CORPORATION (SDC)</a><a class=\"external\" href=\"http://www.sentosa.com.sg\" target=\"_blank\"></a></li>, <li><a href=\"/sgdi/ministries/mof/statutory-boards/sac\">SINGAPORE ACCOUNTANCY COMMISSION (SAC)</a><a class=\"external\" href=\"http://www.sac.gov.sg\" target=\"_blank\"></a></li>, <li><a href=\"/sgdi/ministries/mha/statutory-boards/score\">SINGAPORE CORPORATION OF REHABILITATIVE ENTERPRISES (SCORE)</a><a class=\"external\" href=\"http://www.score.gov.sg\" target=\"_blank\"></a></li>, <li><a href=\"/sgdi/ministries/moh/statutory-boards/sdc\">SINGAPORE DENTAL COUNCIL (SDC)</a><a class=\"external\" href=\"http://www.sdc.gov.sg\" target=\"_blank\"></a></li>, <li><a href=\"/sgdi/ministries/moe/statutory-boards/seab\">SINGAPORE EXAMINATIONS AND ASSESSMENT BOARD (SEAB)</a><a class=\"external\" href=\"http://www.seab.gov.sg/\" target=\"_blank\"></a></li>, <li><a href=\"/sgdi/ministries/mom/statutory-boards/slf\">SINGAPORE LABOUR FOUNDATION (SLF)</a><a class=\"external\" href=\"\" target=\"_blank\"></a></li>, <li><a href=\"/sgdi/ministries/minlaw/statutory-boards/sla\">SINGAPORE LAND AUTHORITY (SLA)</a><a class=\"external\" href=\"http://www.sla.gov.sg\" target=\"_blank\"></a></li>, <li><a href=\"/sgdi/ministries/moh/statutory-boards/smc\">SINGAPORE MEDICAL COUNCIL (SMC)</a><a class=\"external\" href=\"http://www.smc.gov.sg\" target=\"_blank\"></a></li>, <li><a href=\"/sgdi/ministries/moh/statutory-boards/snb\">SINGAPORE NURSING BOARD (SNB)</a><a class=\"external\" href=\"http://www.snb.gov.sg\" target=\"_blank\"></a></li>, <li><a href=\"/sgdi/ministries/moh/statutory-boards/spc\">SINGAPORE PHARMACY COUNCIL (SPC)</a><a class=\"external\" href=\"http://www.spc.gov.sg\" target=\"_blank\"></a></li>, <li><a href=\"/sgdi/ministries/moe/statutory-boards/sp\">SINGAPORE POLYTECHNIC (SP)</a><a class=\"external\" href=\"http://www.sp.edu.sg\" target=\"_blank\"></a></li>, <li><a href=\"/sgdi/ministries/mti/statutory-boards/stb\">SINGAPORE TOURISM BOARD (STB)</a><a class=\"external\" href=\"http://www.stb.gov.sg\" target=\"_blank\"></a></li>, <li><a href=\"/sgdi/ministries/moe/statutory-boards/ssg\">SKILLSFUTURE SINGAPORE (SSG)</a><a class=\"external\" href=\"\" target=\"_blank\"></a></li>, <li><a href=\"/sgdi/ministries/mccy/statutory-boards/sportsg\">SPORT SINGAPORE (SportSG)</a><a class=\"external\" href=\"http://www.sportsingapore.gov.sg\" target=\"_blank\"></a></li>, <li><a href=\"/sgdi/ministries/moh/statutory-boards/tcmpb\">TCM PRACTITIONERS BOARD (TCMPB)</a><a class=\"external\" href=\"http://www.tcmpb.gov.sg\" target=\"_blank\"></a></li>, <li><a href=\"/sgdi/ministries/moe/statutory-boards/tp\">TEMASEK POLYTECHNIC (TP)</a><a class=\"external\" href=\"http://www.tp.edu.sg\" target=\"_blank\"></a></li>, <li><a href=\"/sgdi/ministries/mof/statutory-boards/tote-board\">TOTE BOARD (TOTE BOARD)</a><a class=\"external\" href=\"http://www.toteboard.gov.sg\" target=\"_blank\"></a></li>, <li><a href=\"/sgdi/ministries/mnd/statutory-boards/ura\">URBAN REDEVELOPMENT AUTHORITY (URA)</a><a class=\"external\" href=\"http://www.ura.gov.sg\" target=\"_blank\"></a></li>, <li><a href=\"/sgdi/ministries/mom/statutory-boards/wsg\">WORKFORCE SINGAPORE (WSG)</a><a class=\"external\" href=\"http://www.wsg.gov.sg\" target=\"_blank\"></a></li>, <li>\n",
       " <a href=\"/about-us\" title=\"About Us\">About Us</a>\n",
       " </li>, <li>\n",
       " <a href=\"/privacy-statement\" title=\"Privacy Statement\">Privacy Statement</a>\n",
       " </li>, <li>\n",
       " <a href=\"/terms-of-use\" title=\"Terms of Use\">Terms of Use</a>\n",
       " </li>, <li>\n",
       " <a href=\"https://form.sg/forms/mci/5abc7befcd62d10030f7e223\" target=\"_blank\">Rate Our Website</a></li>, <li><a href=\"https://www.gov.sg/subscription-page\">Subscribe to Our Newsletter</a> </li>, <li><a href=\"https://m.me/gov.sg\">Message Us</a> </li>, <li>\n",
       " <p class=\"social-title\">Connect with us : </p>\n",
       " </li>, <li><a href=\"https://www.facebook.com/gov.sg\" target=\"_blank\"><img alt=\"Gov.sg Facebook\" src=\"/html/gov/img/ui/circle-facebook.png\"/></a></li>, <li><a href=\"https://twitter.com/govsingapore\" target=\"_blank\"><img alt=\"@govsingapore Twitter\" src=\"/html/gov/img/ui/circle-twitter.png\"/></a></li>, <li><a href=\"https://www.youtube.com/user/govsingapore\" target=\"_blank\"><img alt=\"govsingapore YouTube\" src=\"/html/gov/img/ui/circle-youtube.png\"/></a></li>, <li><a href=\"https://www.instagram.com/gov.sg\" target=\"_blank\"><img alt=\"gov.sg Instagram\" src=\"/html/gov/img/ui/circle-instagram.png\"/>\n",
       " </a></li>]"
      ]
     },
     "execution_count": 16,
     "metadata": {},
     "output_type": "execute_result"
    }
   ],
   "source": [
    "soup.find_all('li')"
   ]
  },
  {
   "cell_type": "code",
   "execution_count": 17,
   "metadata": {},
   "outputs": [
    {
     "data": {
      "text/plain": [
       "<li><a href=\"/sgdi/ministries/mha/statutory-boards/cra\">CASINO REGULATORY AUTHORITY OF SINGAPORE (CRA)</a><a class=\"external\" href=\"http://www.cra.gov.sg\" target=\"_blank\"></a></li>"
      ]
     },
     "execution_count": 17,
     "metadata": {},
     "output_type": "execute_result"
    }
   ],
   "source": [
    "# trying to find the row containing the first organisation \n",
    "# tried with row index 50 as a start\n",
    "soup.find_all('li')[50]"
   ]
  },
  {
   "cell_type": "code",
   "execution_count": 18,
   "metadata": {},
   "outputs": [
    {
     "data": {
      "text/plain": [
       "'ACCOUNTING AND CORPORATE REGULATORY AUTHORITY (ACRA)'"
      ]
     },
     "execution_count": 18,
     "metadata": {},
     "output_type": "execute_result"
    }
   ],
   "source": [
    "# working backwards - first organisation is at row index 45\n",
    "soup.find_all('li')[45].text.strip()"
   ]
  },
  {
   "cell_type": "code",
   "execution_count": 19,
   "metadata": {},
   "outputs": [
    {
     "data": {
      "text/plain": [
       "'/sgdi/ministries/mof/statutory-boards/acra'"
      ]
     },
     "execution_count": 19,
     "metadata": {},
     "output_type": "execute_result"
    }
   ],
   "source": [
    "# getting the url\n",
    "soup.find_all('li')[45].a['href']"
   ]
  },
  {
   "cell_type": "code",
   "execution_count": 20,
   "metadata": {},
   "outputs": [
    {
     "data": {
      "text/plain": [
       "'WORKFORCE SINGAPORE (WSG)'"
      ]
     },
     "execution_count": 20,
     "metadata": {},
     "output_type": "execute_result"
    }
   ],
   "source": [
    "# getting the last organisation record\n",
    "soup.find_all('li')[107].text.strip()"
   ]
  },
  {
   "cell_type": "code",
   "execution_count": 21,
   "metadata": {},
   "outputs": [
    {
     "data": {
      "text/plain": [
       "'/sgdi/ministries/mom/statutory-boards/wsg'"
      ]
     },
     "execution_count": 21,
     "metadata": {},
     "output_type": "execute_result"
    }
   ],
   "source": [
    "# getting the url\n",
    "soup.find_all('li')[107].a['href']"
   ]
  },
  {
   "cell_type": "code",
   "execution_count": 22,
   "metadata": {
    "collapsed": true
   },
   "outputs": [],
   "source": [
    "titles = soup.find_all('li')"
   ]
  },
  {
   "cell_type": "code",
   "execution_count": 23,
   "metadata": {
    "scrolled": true
   },
   "outputs": [
    {
     "name": "stdout",
     "output_type": "stream",
     "text": [
      "ACCOUNTING AND CORPORATE REGULATORY AUTHORITY (ACRA) /sgdi/ministries/mof/statutory-boards/acra\n",
      "AGENCY FOR SCIENCE, TECHNOLOGY AND RESEARCH (A*STAR) /sgdi/ministries/mti/statutory-boards/astar\n",
      "AGRI-FOOD & VETERINARY AUTHORITY OF SINGAPORE (AVA) /sgdi/ministries/mnd/statutory-boards/ava\n",
      "BOARD OF ARCHITECTS (BOA) /sgdi/ministries/mnd/statutory-boards/boa\n",
      "BUILDING AND CONSTRUCTION AUTHORITY (BCA) /sgdi/ministries/mnd/statutory-boards/bca\n",
      "CASINO REGULATORY AUTHORITY OF SINGAPORE (CRA) /sgdi/ministries/mha/statutory-boards/cra\n",
      "CENTRAL PROVIDENT FUND BOARD (CPFB) /sgdi/ministries/mom/statutory-boards/cpfb\n",
      "CIVIL AVIATION AUTHORITY OF SINGAPORE  (CAAS) /sgdi/ministries/mot/statutory-boards/caas\n",
      "CIVIL SERVICE COLLEGE (CSC) /sgdi/ministries/pmo/statutory-boards/csc\n",
      "COMPETITION AND CONSUMER COMMISSION OF SINGAPORE (CCCS) /sgdi/ministries/mti/statutory-boards/cccs\n",
      "COUNCIL FOR ESTATE AGENCIES (CEA) /sgdi/ministries/mnd/statutory-boards/cea\n",
      "DEFENCE SCIENCE AND TECHNOLOGY AGENCY (DSTA) /sgdi/ministries/mindef/statutory-boards/dsta\n",
      "ECONOMIC DEVELOPMENT BOARD (EDB) /sgdi/ministries/mti/statutory-boards/edb\n",
      "ENERGY MARKET AUTHORITY (EMA) /sgdi/ministries/mti/statutory-boards/ema\n",
      "ENTERPRISE SINGAPORE  (ESG) /sgdi/ministries/mti/statutory-boards/esg\n",
      "GOVERNMENT TECHNOLOGY AGENCY (GOVTECH) /sgdi/ministries/pmo/statutory-boards/govtech\n",
      "HEALTH PROMOTION BOARD (HPB) /sgdi/ministries/moh/statutory-boards/hpb\n",
      "HEALTH SCIENCES AUTHORITY (HSA) /sgdi/ministries/moh/statutory-boards/hsa\n",
      "HOTELS LICENSING BOARD (HLB) /sgdi/ministries/mti/statutory-boards/hlb\n",
      "HOUSING & DEVELOPMENT BOARD (HDB) /sgdi/ministries/mnd/statutory-boards/hdb\n",
      "INFO-COMMUNICATIONS MEDIA DEVELOPMENT AUTHORITY  (IMDA) /sgdi/ministries/mci/statutory-boards/imda\n",
      "INLAND REVENUE AUTHORITY OF SINGAPORE (IRAS) /sgdi/ministries/mof/statutory-boards/iras\n",
      "INSTITUTE OF TECHNICAL EDUCATION (ITE) /sgdi/ministries/moe/statutory-boards/ite\n",
      "INTELLECTUAL PROPERTY OFFICE OF SINGAPORE (IPOS) /sgdi/ministries/minlaw/statutory-boards/ipos\n",
      "ISEAS-YUSOF ISHAK INSTITUTE (ISEAS) /sgdi/ministries/moe/statutory-boards/iseas\n",
      "JTC CORPORATION (JTC) /sgdi/ministries/mti/statutory-boards/jtc\n",
      "LAND TRANSPORT AUTHORITY (LTA) /sgdi/ministries/mot/statutory-boards/lta\n",
      "MAJLIS UGAMA ISLAM, SINGAPURA (MUIS) /sgdi/ministries/mccy/statutory-boards/muis\n",
      "MARITIME AND PORT AUTHORITY OF SINGAPORE (MPA) /sgdi/ministries/mot/statutory-boards/mpa\n",
      "MONETARY AUTHORITY OF SINGAPORE (MAS) /sgdi/ministries/pmo/statutory-boards/mas\n",
      "NANYANG POLYTECHNIC (NYP) /sgdi/ministries/moe/statutory-boards/nyp\n",
      "NATIONAL ARTS COUNCIL (NAC) /sgdi/ministries/mccy/statutory-boards/nac\n",
      "NATIONAL COUNCIL OF SOCIAL SERVICE (NCSS) /sgdi/ministries/msf/statutory-boards/ncss\n",
      "NATIONAL ENVIRONMENT AGENCY (NEA) /sgdi/ministries/mewr/statutory-boards/nea\n",
      "NATIONAL HERITAGE BOARD (NHB) /sgdi/ministries/mccy/statutory-boards/nhb\n",
      "NATIONAL LIBRARY BOARD (NLB) /sgdi/ministries/mci/statutory-boards/nlb\n",
      "NATIONAL PARKS BOARD (NPARKS) /sgdi/ministries/mnd/statutory-boards/nparks\n",
      "NGEE ANN POLYTECHNIC (NP) /sgdi/ministries/moe/statutory-boards/np\n",
      "PEOPLE'S ASSOCIATION (PA) /sgdi/ministries/mccy/statutory-boards/pa\n",
      "PROFESSIONAL ENGINEERS BOARD, SINGAPORE (PEB) /sgdi/ministries/mnd/statutory-boards/peb\n",
      "PUB, Singapore's National Water Agency (PUB) /sgdi/ministries/mewr/statutory-boards/pub\n",
      "PUBLIC TRANSPORT COUNCIL (PTC) /sgdi/ministries/mot/statutory-boards/ptc\n",
      "REPUBLIC POLYTECHNIC (RP) /sgdi/ministries/moe/statutory-boards/rp\n",
      "SCIENCE CENTRE BOARD (SCB) /sgdi/ministries/moe/statutory-boards/scb\n",
      "SENTOSA DEVELOPMENT CORPORATION (SDC) /sgdi/ministries/mti/statutory-boards/sdc\n",
      "SINGAPORE ACCOUNTANCY COMMISSION (SAC) /sgdi/ministries/mof/statutory-boards/sac\n",
      "SINGAPORE CORPORATION OF REHABILITATIVE ENTERPRISES (SCORE) /sgdi/ministries/mha/statutory-boards/score\n",
      "SINGAPORE DENTAL COUNCIL (SDC) /sgdi/ministries/moh/statutory-boards/sdc\n",
      "SINGAPORE EXAMINATIONS AND ASSESSMENT BOARD (SEAB) /sgdi/ministries/moe/statutory-boards/seab\n",
      "SINGAPORE LABOUR FOUNDATION (SLF) /sgdi/ministries/mom/statutory-boards/slf\n",
      "SINGAPORE LAND AUTHORITY (SLA) /sgdi/ministries/minlaw/statutory-boards/sla\n",
      "SINGAPORE MEDICAL COUNCIL (SMC) /sgdi/ministries/moh/statutory-boards/smc\n",
      "SINGAPORE NURSING BOARD (SNB) /sgdi/ministries/moh/statutory-boards/snb\n",
      "SINGAPORE PHARMACY COUNCIL (SPC) /sgdi/ministries/moh/statutory-boards/spc\n",
      "SINGAPORE POLYTECHNIC (SP) /sgdi/ministries/moe/statutory-boards/sp\n",
      "SINGAPORE TOURISM BOARD (STB) /sgdi/ministries/mti/statutory-boards/stb\n",
      "SKILLSFUTURE SINGAPORE (SSG) /sgdi/ministries/moe/statutory-boards/ssg\n",
      "SPORT SINGAPORE (SportSG) /sgdi/ministries/mccy/statutory-boards/sportsg\n",
      "TCM PRACTITIONERS BOARD (TCMPB) /sgdi/ministries/moh/statutory-boards/tcmpb\n",
      "TEMASEK POLYTECHNIC (TP) /sgdi/ministries/moe/statutory-boards/tp\n",
      "TOTE BOARD (TOTE BOARD) /sgdi/ministries/mof/statutory-boards/tote-board\n",
      "URBAN REDEVELOPMENT AUTHORITY (URA) /sgdi/ministries/mnd/statutory-boards/ura\n",
      "WORKFORCE SINGAPORE (WSG) /sgdi/ministries/mom/statutory-boards/wsg\n"
     ]
    }
   ],
   "source": [
    "for i in range(45,108):\n",
    "    print(titles[i].text.strip(), titles[i].a['href'])"
   ]
  },
  {
   "cell_type": "code",
   "execution_count": 26,
   "metadata": {
    "collapsed": true
   },
   "outputs": [],
   "source": [
    "title_db = []\n",
    "url_db = []\n",
    "for i in range(45,108):\n",
    "    name = titles[i].text.strip()\n",
    "    url = titles[i].a['href']\n",
    "    title_db.append(name)\n",
    "    url_db.append(url)"
   ]
  },
  {
   "cell_type": "code",
   "execution_count": 27,
   "metadata": {},
   "outputs": [
    {
     "data": {
      "text/plain": [
       "['ACCOUNTING AND CORPORATE REGULATORY AUTHORITY (ACRA)',\n",
       " 'AGENCY FOR SCIENCE, TECHNOLOGY AND RESEARCH (A*STAR)',\n",
       " 'AGRI-FOOD & VETERINARY AUTHORITY OF SINGAPORE (AVA)',\n",
       " 'BOARD OF ARCHITECTS (BOA)',\n",
       " 'BUILDING AND CONSTRUCTION AUTHORITY (BCA)',\n",
       " 'CASINO REGULATORY AUTHORITY OF SINGAPORE (CRA)',\n",
       " 'CENTRAL PROVIDENT FUND BOARD (CPFB)',\n",
       " 'CIVIL AVIATION AUTHORITY OF SINGAPORE  (CAAS)',\n",
       " 'CIVIL SERVICE COLLEGE (CSC)',\n",
       " 'COMPETITION AND CONSUMER COMMISSION OF SINGAPORE (CCCS)',\n",
       " 'COUNCIL FOR ESTATE AGENCIES (CEA)',\n",
       " 'DEFENCE SCIENCE AND TECHNOLOGY AGENCY (DSTA)',\n",
       " 'ECONOMIC DEVELOPMENT BOARD (EDB)',\n",
       " 'ENERGY MARKET AUTHORITY (EMA)',\n",
       " 'ENTERPRISE SINGAPORE  (ESG)',\n",
       " 'GOVERNMENT TECHNOLOGY AGENCY (GOVTECH)',\n",
       " 'HEALTH PROMOTION BOARD (HPB)',\n",
       " 'HEALTH SCIENCES AUTHORITY (HSA)',\n",
       " 'HOTELS LICENSING BOARD (HLB)',\n",
       " 'HOUSING & DEVELOPMENT BOARD (HDB)',\n",
       " 'INFO-COMMUNICATIONS MEDIA DEVELOPMENT AUTHORITY  (IMDA)',\n",
       " 'INLAND REVENUE AUTHORITY OF SINGAPORE (IRAS)',\n",
       " 'INSTITUTE OF TECHNICAL EDUCATION (ITE)',\n",
       " 'INTELLECTUAL PROPERTY OFFICE OF SINGAPORE (IPOS)',\n",
       " 'ISEAS-YUSOF ISHAK INSTITUTE (ISEAS)',\n",
       " 'JTC CORPORATION (JTC)',\n",
       " 'LAND TRANSPORT AUTHORITY (LTA)',\n",
       " 'MAJLIS UGAMA ISLAM, SINGAPURA (MUIS)',\n",
       " 'MARITIME AND PORT AUTHORITY OF SINGAPORE (MPA)',\n",
       " 'MONETARY AUTHORITY OF SINGAPORE (MAS)',\n",
       " 'NANYANG POLYTECHNIC (NYP)',\n",
       " 'NATIONAL ARTS COUNCIL (NAC)',\n",
       " 'NATIONAL COUNCIL OF SOCIAL SERVICE (NCSS)',\n",
       " 'NATIONAL ENVIRONMENT AGENCY (NEA)',\n",
       " 'NATIONAL HERITAGE BOARD (NHB)',\n",
       " 'NATIONAL LIBRARY BOARD (NLB)',\n",
       " 'NATIONAL PARKS BOARD (NPARKS)',\n",
       " 'NGEE ANN POLYTECHNIC (NP)',\n",
       " \"PEOPLE'S ASSOCIATION (PA)\",\n",
       " 'PROFESSIONAL ENGINEERS BOARD, SINGAPORE (PEB)',\n",
       " \"PUB, Singapore's National Water Agency (PUB)\",\n",
       " 'PUBLIC TRANSPORT COUNCIL (PTC)',\n",
       " 'REPUBLIC POLYTECHNIC (RP)',\n",
       " 'SCIENCE CENTRE BOARD (SCB)',\n",
       " 'SENTOSA DEVELOPMENT CORPORATION (SDC)',\n",
       " 'SINGAPORE ACCOUNTANCY COMMISSION (SAC)',\n",
       " 'SINGAPORE CORPORATION OF REHABILITATIVE ENTERPRISES (SCORE)',\n",
       " 'SINGAPORE DENTAL COUNCIL (SDC)',\n",
       " 'SINGAPORE EXAMINATIONS AND ASSESSMENT BOARD (SEAB)',\n",
       " 'SINGAPORE LABOUR FOUNDATION (SLF)',\n",
       " 'SINGAPORE LAND AUTHORITY (SLA)',\n",
       " 'SINGAPORE MEDICAL COUNCIL (SMC)',\n",
       " 'SINGAPORE NURSING BOARD (SNB)',\n",
       " 'SINGAPORE PHARMACY COUNCIL (SPC)',\n",
       " 'SINGAPORE POLYTECHNIC (SP)',\n",
       " 'SINGAPORE TOURISM BOARD (STB)',\n",
       " 'SKILLSFUTURE SINGAPORE (SSG)',\n",
       " 'SPORT SINGAPORE (SportSG)',\n",
       " 'TCM PRACTITIONERS BOARD (TCMPB)',\n",
       " 'TEMASEK POLYTECHNIC (TP)',\n",
       " 'TOTE BOARD (TOTE BOARD)',\n",
       " 'URBAN REDEVELOPMENT AUTHORITY (URA)',\n",
       " 'WORKFORCE SINGAPORE (WSG)']"
      ]
     },
     "execution_count": 27,
     "metadata": {},
     "output_type": "execute_result"
    }
   ],
   "source": [
    "title_db"
   ]
  },
  {
   "cell_type": "code",
   "execution_count": 28,
   "metadata": {},
   "outputs": [
    {
     "data": {
      "text/plain": [
       "63"
      ]
     },
     "execution_count": 28,
     "metadata": {},
     "output_type": "execute_result"
    }
   ],
   "source": [
    "# total number of organisations\n",
    "len(title_db)"
   ]
  },
  {
   "cell_type": "code",
   "execution_count": 29,
   "metadata": {},
   "outputs": [
    {
     "data": {
      "text/plain": [
       "'/sgdi/ministries/mof/statutory-boards/acra'"
      ]
     },
     "execution_count": 29,
     "metadata": {},
     "output_type": "execute_result"
    }
   ],
   "source": [
    "url_db[0]"
   ]
  },
  {
   "cell_type": "code",
   "execution_count": 30,
   "metadata": {},
   "outputs": [
    {
     "data": {
      "text/plain": [
       "'https://www.gov.sg/sgdi/ministries/mof/statutory-boards/acra'"
      ]
     },
     "execution_count": 30,
     "metadata": {},
     "output_type": "execute_result"
    }
   ],
   "source": [
    "\"https://www.gov.sg\"+url_db[0]"
   ]
  },
  {
   "cell_type": "markdown",
   "metadata": {},
   "source": [
    "## 2. Single page\n",
    "### Exploring how to extract specific information i.e. street address, tel number, fax number, website, email of organisation and also downloading logo images automatically"
   ]
  },
  {
   "cell_type": "code",
   "execution_count": 3,
   "metadata": {
    "collapsed": true
   },
   "outputs": [],
   "source": [
    "nextsite = \"https://www.gov.sg/sgdi/ministries/mot/statutory-boards/caas\"\n",
    "#nextsite\n",
    "hdr = {'User-Agent': 'Mozilla/5.0'}\n",
    "onepage = requests.get(nextsite)\n",
    "onesoup = BeautifulSoup(onepage.text, \"html.parser\")\n",
    "# print(onesoup.prettify())"
   ]
  },
  {
   "cell_type": "code",
   "execution_count": 12,
   "metadata": {},
   "outputs": [
    {
     "data": {
      "text/plain": [
       "<p class=\"street-address\">Terminal 2 - 60 Airport Boulevard Singapore 819643;\n",
       "Mailing Address:\n",
       "Singapore Changi Airport\n",
       "P O Box1\n",
       "Singapore 918141</p>"
      ]
     },
     "execution_count": 12,
     "metadata": {},
     "output_type": "execute_result"
    }
   ],
   "source": [
    "j = onesoup.find('p', class_ = \"street-address\")\n",
    "j"
   ]
  },
  {
   "cell_type": "code",
   "execution_count": 13,
   "metadata": {},
   "outputs": [
    {
     "data": {
      "text/plain": [
       "'Terminal 2 - 60 Airport Boulevard Singapore 819643;\\r\\nMailing Address:\\r\\nSingapore Changi Airport\\r\\nP O Box1\\r\\nSingapore 918141'"
      ]
     },
     "execution_count": 13,
     "metadata": {},
     "output_type": "execute_result"
    }
   ],
   "source": [
    "j.text.strip()\n",
    "#j.get_text().strip()"
   ]
  },
  {
   "cell_type": "code",
   "execution_count": 30,
   "metadata": {
    "scrolled": true
   },
   "outputs": [
    {
     "data": {
      "text/plain": [
       "'65421122'"
      ]
     },
     "execution_count": 30,
     "metadata": {},
     "output_type": "execute_result"
    }
   ],
   "source": [
    "onesoup.find('p', class_ = \"tel-info\").get_text().strip()"
   ]
  },
  {
   "cell_type": "code",
   "execution_count": 31,
   "metadata": {},
   "outputs": [
    {
     "data": {
      "text/plain": [
       "'65421231'"
      ]
     },
     "execution_count": 31,
     "metadata": {},
     "output_type": "execute_result"
    }
   ],
   "source": [
    "onesoup.find_all('p', class_ = \"tel-info\")[1].get_text().strip()"
   ]
  },
  {
   "cell_type": "code",
   "execution_count": 35,
   "metadata": {
    "scrolled": true
   },
   "outputs": [
    {
     "data": {
      "text/plain": [
       "[<div class=\"agency-info\">\n",
       " <h2 class=\"agency-address-title\">Address : </h2><address><p class=\"street-address\">Terminal 2 - 60 Airport Boulevard Singapore 819643;\n",
       " Mailing Address:\n",
       " Singapore Changi Airport\n",
       " P O Box1\n",
       " Singapore 918141</p><div class=\"agency-location\"><a href=\"javascript:void(0);\" onclick=\"showMap('819643')\">View agency's location map <span class=\" glyphicon glyphicon-map-marker\"></span></a></div><p class=\"tel\">Tel</p><p class=\"tel-info\">65421122</p><p class=\"tel\">Fax</p><p class=\"tel-info\">65421231</p><p class=\"website\"><a href=\"http://www.caas.gov.sg\">http://www.caas.gov.sg</a></p></address></div>]"
      ]
     },
     "execution_count": 35,
     "metadata": {},
     "output_type": "execute_result"
    }
   ],
   "source": [
    "b = onesoup.find_all('div', class_ = \"agency-info\")\n",
    "b"
   ]
  },
  {
   "cell_type": "code",
   "execution_count": 51,
   "metadata": {},
   "outputs": [
    {
     "data": {
      "text/plain": [
       "'http://www.caas.gov.sg'"
      ]
     },
     "execution_count": 51,
     "metadata": {},
     "output_type": "execute_result"
    }
   ],
   "source": [
    "onesoup.find('p', class_ = \"website\").get_text().strip()"
   ]
  },
  {
   "cell_type": "code",
   "execution_count": 27,
   "metadata": {
    "scrolled": true
   },
   "outputs": [
    {
     "data": {
      "text/plain": [
       "[<a href=\"/\" title=\"Singapore Government\">\n",
       " <img alt=\"Singapore Government crest\" class=\"not-dark\" src=\"/sgdi/~/media/gov/common/crest.png\"/><img alt=\"Singapore Government logo\" src=\"/sgdi/~/media/gov/common/logo.jpg\"/>\n",
       " </a>, <a href=\"/\" title=\"Singapore Government\">\n",
       " <img alt=\"Singapore Government crest\" class=\"not-dark\" src=\"/sgdi/~/media/gov/common/crest-mobile.png\"/><img alt=\"Singapore Government logo\" src=\"/sgdi/~/media/gov/common/logo-mobile.jpg\"/>\n",
       " </a>, <a href=\"javascript:window.print();\">Print</a>, <a class=\"rvfs-decrease\" href=\"#\">Smaller font</a>, <a class=\"rvfs-increase\" href=\"#\">Bigger font</a>, <a href=\"javascript:;\">\n",
       " <span class=\"glyphicon glyphicon-menu-hamburger\"></span>\n",
       " </a>, <a href=\"/\">Home</a>, <a href=\"/news\">News</a>, <a href=\"/factually\">Factually</a>, <a data-toggle=\"dropdown disabled\" href=\"javascript:void(0);\">Microsites<span class=\"car\"></span></a>, <a href=\"/microsites/budget2018\">Budget 2018</a>, <a href=\"/microsites/abrighterfuture\">A Brighter Future</a>, <a href=\"/microsites/future-economy\">Future Economy</a>, <a href=\"/microsites/happy-can-already-3\">Happy Can Already 3</a>, <a href=\"/microsites/everydropcounts\">Every Drop Counts</a>, <a href=\"/microsites/whatsyourplan\">What's Your Plan</a>, <a href=\"/microsites/zika\">Zika Virus</a>, <a data-toggle=\"dropdown disabled\" href=\"/resources\">Resources<span class=\"car\"></span></a>, <a href=\"/resources/sgpc\">SG Press Centre</a>, <a href=\"/resources/translation\">Government Terms Translated</a>, <a href=\"/resources/sgdi\">Government Directory</a>, <a href=\"/resources/ecitizen\">eServices</a>, <a href=\"/feedback-form\">Feedback</a>, <a href=\"/\" property=\"v:title\" rel=\"v:url\">Home</a>, <a href=\"/sgdi/ministries\" property=\"v:title\" rel=\"v:url\">Ministries</a>, <a href=\"/sgdi/ministries/mot\" property=\"v:title\" rel=\"v:url\">MOT</a>, <a class=\"active\" href=\"/sgdi/ministries/mot/statutory-boards/caas\" property=\"v:title\" rel=\"v:url\">CAAS</a>, <a href=\"#\" title=\"Facebook\"></a>, <a href=\"#\" title=\"Twitter\"></a>, <a href=\"#\" title=\"LinkedIn\"></a>, <a href=\"#\" title=\"Sharethis\"></a>, <a href=\"#\" title=\"Email\"></a>, <a class=\"rss\" href=\"/rss\" target=\"_blank\" title=\"RSS\">rss</a>, <a class=\"search-button\" data-search=\"\" href=\"javascript:__doPostBack('leftsearch_0$BtnSearch','')\" id=\"leftsearch_0_BtnSearch\">\n",
       " <span class=\"glyphicon glyphicon-search\"></span>\n",
       " <span>Search</span>\n",
       " </a>, <a href=\"javascript:void(0);\" onclick=\"showMap('819643')\">View agency's location map <span class=\" glyphicon glyphicon-map-marker\"></span></a>, <a href=\"http://www.caas.gov.sg\">http://www.caas.gov.sg</a>, <a href=\"#\">qsm@caas.gov.sg</a>, <a data-section=\"section-1\" href=\"#\">SHOW</a>, <a data-section=\"section-2\" href=\"#\">SHOW</a>, <a aria-controls=\"DepartmentsDivisions\" aria-expanded=\"false\" data-toggle=\"tab\" href=\"#DepartmentsDivisions\" id=\"DepartmentsDivisions-tab\" role=\"tab\">Departments/Divisions</a>, <a href=\"/sgdi/ministries/mot/statutory-boards/caas/departments/cavag\">CIVIL AVIATION  ADVISORY GROUP</a>, <a href=\"/sgdi/ministries/mot/statutory-boards/caas/departments/ia\">INTERNAL AUDIT DIVISION</a>, <a href=\"/sgdi/ministries/mot/statutory-boards/caas/departments/icao\">OFFICE OF THE REPRESENTATIVE OF SINGAPORE ON THE COUNCIL OF ICAO</a>, <a href=\"/sgdi/ministries/mot/statutory-boards/caas/departments/ir\">INTERNATIONAL RELATIONS DIVISION</a>, <a href=\"/sgdi/ministries/mot/statutory-boards/caas/departments/saa\">SINGAPORE AVIATION ACADEMY</a>, <a href=\"/sgdi/ministries/mot/statutory-boards/caas/departments/ans\">AIR NAVIGATION SERVICES</a>, <a href=\"/sgdi/ministries/mot/statutory-boards/caas/departments/corporate\">CORPORATE</a>, <a href=\"/sgdi/ministries/mot/statutory-boards/caas/departments/ad\">AVIATION DEVELOPMENT</a>, <a href=\"/sgdi/ministries/mot/statutory-boards/caas/departments/sr\">SAFETY REGULATION</a>, <a href=\"/sgdi/ministries/mot/statutory-boards/caas/departments/cavag\">CIVIL AVIATION  ADVISORY GROUP</a>, <a href=\"/sgdi/ministries/mot/statutory-boards/caas/departments/ia\">INTERNAL AUDIT DIVISION</a>, <a href=\"/sgdi/ministries/mot/statutory-boards/caas/departments/icao\">OFFICE OF THE REPRESENTATIVE OF SINGAPORE ON THE COUNCIL OF ICAO</a>, <a href=\"/sgdi/ministries/mot/statutory-boards/caas/departments/ir\">INTERNATIONAL RELATIONS DIVISION</a>, <a href=\"/sgdi/ministries/mot/statutory-boards/caas/departments/saa\">SINGAPORE AVIATION ACADEMY</a>, <a href=\"/sgdi/ministries/mot/statutory-boards/caas/departments/ans\">AIR NAVIGATION SERVICES</a>, <a href=\"/sgdi/ministries/mot/statutory-boards/caas/departments/corporate\">CORPORATE</a>, <a href=\"/sgdi/ministries/mot/statutory-boards/caas/departments/ad\">AVIATION DEVELOPMENT</a>, <a href=\"/sgdi/ministries/mot/statutory-boards/caas/departments/sr\">SAFETY REGULATION</a>, <a data-section=\"mobilesection-DepartmentsDivisions\" href=\"#\">SHOW</a>]"
      ]
     },
     "execution_count": 27,
     "metadata": {},
     "output_type": "execute_result"
    }
   ],
   "source": [
    "onesoup.find_all('a')"
   ]
  },
  {
   "cell_type": "code",
   "execution_count": 42,
   "metadata": {},
   "outputs": [
    {
     "data": {
      "text/plain": [
       "[<a class=\"rvfs-decrease\" href=\"#\">Smaller font</a>,\n",
       " <a class=\"rvfs-increase\" href=\"#\">Bigger font</a>,\n",
       " <a href=\"#\" title=\"Facebook\"></a>,\n",
       " <a href=\"#\" title=\"Twitter\"></a>,\n",
       " <a href=\"#\" title=\"LinkedIn\"></a>,\n",
       " <a href=\"#\" title=\"Sharethis\"></a>,\n",
       " <a href=\"#\" title=\"Email\"></a>,\n",
       " <a href=\"#\">qsm@caas.gov.sg</a>,\n",
       " <a data-section=\"section-1\" href=\"#\">SHOW</a>,\n",
       " <a data-section=\"section-2\" href=\"#\">SHOW</a>,\n",
       " <a aria-controls=\"DepartmentsDivisions\" aria-expanded=\"false\" data-toggle=\"tab\" href=\"#DepartmentsDivisions\" id=\"DepartmentsDivisions-tab\" role=\"tab\">Departments/Divisions</a>,\n",
       " <a data-section=\"mobilesection-DepartmentsDivisions\" href=\"#\">SHOW</a>]"
      ]
     },
     "execution_count": 42,
     "metadata": {},
     "output_type": "execute_result"
    }
   ],
   "source": [
    "pattern = re.compile(\"#\")\n",
    "onesoup.find_all('a', href=pattern)"
   ]
  },
  {
   "cell_type": "code",
   "execution_count": 44,
   "metadata": {},
   "outputs": [
    {
     "data": {
      "text/plain": [
       "'qsm@caas.gov.sg'"
      ]
     },
     "execution_count": 44,
     "metadata": {},
     "output_type": "execute_result"
    }
   ],
   "source": [
    "onesoup.find_all('a', href=pattern)[7].get_text().strip()"
   ]
  },
  {
   "cell_type": "code",
   "execution_count": 54,
   "metadata": {},
   "outputs": [
    {
     "data": {
      "text/plain": [
       "<div class=\"agency-logo\"><img alt=\"CAAS\" src=\"/sgdi/~/media/sgdi/caas.jpg\"/></div>"
      ]
     },
     "execution_count": 54,
     "metadata": {},
     "output_type": "execute_result"
    }
   ],
   "source": [
    "onesoup.find('div', class_ = \"agency-logo\")"
   ]
  },
  {
   "cell_type": "code",
   "execution_count": 58,
   "metadata": {},
   "outputs": [
    {
     "data": {
      "text/plain": [
       "[<img alt=\"Singapore Government crest\" class=\"not-dark\" src=\"/sgdi/~/media/gov/common/crest.png\"/>,\n",
       " <img alt=\"Singapore Government logo\" src=\"/sgdi/~/media/gov/common/logo.jpg\"/>,\n",
       " <img alt=\"Singapore Government crest\" class=\"not-dark\" src=\"/sgdi/~/media/gov/common/crest-mobile.png\"/>,\n",
       " <img alt=\"Singapore Government logo\" src=\"/sgdi/~/media/gov/common/logo-mobile.jpg\"/>,\n",
       " <img src=\"/html/gov/img/ui/ic-officer.png\"/>,\n",
       " <img alt=\"CAAS\" src=\"/sgdi/~/media/sgdi/caas.jpg\"/>]"
      ]
     },
     "execution_count": 58,
     "metadata": {},
     "output_type": "execute_result"
    }
   ],
   "source": [
    "onesoup.find_all('img')"
   ]
  },
  {
   "cell_type": "code",
   "execution_count": 65,
   "metadata": {
    "scrolled": false
   },
   "outputs": [
    {
     "data": {
      "text/plain": [
       "'/sgdi/~/media/sgdi/caas.jpg'"
      ]
     },
     "execution_count": 65,
     "metadata": {},
     "output_type": "execute_result"
    }
   ],
   "source": [
    "logourl = onesoup.find_all('img')[-1]['src']\n",
    "logourl"
   ]
  },
  {
   "cell_type": "code",
   "execution_count": 66,
   "metadata": {},
   "outputs": [
    {
     "data": {
      "text/plain": [
       "'https://www.gov.sg/sgdi/~/media/sgdi/caas.jpg'"
      ]
     },
     "execution_count": 66,
     "metadata": {},
     "output_type": "execute_result"
    }
   ],
   "source": [
    "\"https://www.gov.sg\"+logourl"
   ]
  },
  {
   "cell_type": "code",
   "execution_count": 76,
   "metadata": {},
   "outputs": [
    {
     "data": {
      "text/plain": [
       "'.jpg'"
      ]
     },
     "execution_count": 76,
     "metadata": {},
     "output_type": "execute_result"
    }
   ],
   "source": [
    "logourl[-4:]"
   ]
  },
  {
   "cell_type": "code",
   "execution_count": 67,
   "metadata": {},
   "outputs": [
    {
     "data": {
      "text/plain": [
       "'CAAS'"
      ]
     },
     "execution_count": 67,
     "metadata": {},
     "output_type": "execute_result"
    }
   ],
   "source": [
    "logoname = onesoup.find_all('img')[-1]['alt']\n",
    "logoname"
   ]
  },
  {
   "cell_type": "code",
   "execution_count": 77,
   "metadata": {},
   "outputs": [
    {
     "data": {
      "text/plain": [
       "'CAAS.jpg'"
      ]
     },
     "execution_count": 77,
     "metadata": {},
     "output_type": "execute_result"
    }
   ],
   "source": [
    "logoname+logourl[-4:]"
   ]
  },
  {
   "cell_type": "code",
   "execution_count": 78,
   "metadata": {
    "collapsed": true
   },
   "outputs": [],
   "source": [
    "r = requests.get(\"https://www.gov.sg\"+logourl, stream=True, headers={'User-agent': 'Mozilla/5.0'})\n",
    "if r.status_code == 200:\n",
    "    with open(logoname+logourl[-4:], 'wb') as f:\n",
    "        r.raw.decode_content = True\n",
    "        shutil.copyfileobj(r.raw, f)"
   ]
  },
  {
   "cell_type": "markdown",
   "metadata": {},
   "source": [
    "## 2.1 Another single page\n",
    "### Choose any other single organisation page to check if html structure is always consistent  "
   ]
  },
  {
   "cell_type": "code",
   "execution_count": 3,
   "metadata": {
    "collapsed": true
   },
   "outputs": [],
   "source": [
    "nextsite = \"https://www.gov.sg/sgdi/ministries/mnd/statutory-boards/bca\"\n",
    "#nextsite = url_db[0]\n",
    "hdr = {'User-Agent': 'Mozilla/5.0'}\n",
    "page2 = requests.get(nextsite)\n",
    "soup2 = BeautifulSoup(page2.text, \"html.parser\")"
   ]
  },
  {
   "cell_type": "code",
   "execution_count": 7,
   "metadata": {},
   "outputs": [
    {
     "data": {
      "text/plain": [
       "[<a class=\"rvfs-decrease\" href=\"#\">Smaller font</a>,\n",
       " <a class=\"rvfs-increase\" href=\"#\">Bigger font</a>,\n",
       " <a href=\"#\" title=\"Facebook\"></a>,\n",
       " <a href=\"#\" title=\"Twitter\"></a>,\n",
       " <a href=\"#\" title=\"LinkedIn\"></a>,\n",
       " <a href=\"#\" title=\"Sharethis\"></a>,\n",
       " <a href=\"#\" title=\"Email\"></a>,\n",
       " <a href=\"#\">bca_enquiry@bca.gov.sg</a>,\n",
       " <a data-section=\"section-1\" href=\"#\">SHOW</a>,\n",
       " <a data-section=\"section-2\" href=\"#\">SHOW</a>,\n",
       " <a aria-controls=\"DepartmentsDivisions\" aria-expanded=\"false\" data-toggle=\"tab\" href=\"#DepartmentsDivisions\" id=\"DepartmentsDivisions-tab\" role=\"tab\">Departments/Divisions</a>,\n",
       " <a data-section=\"mobilesection-DepartmentsDivisions\" href=\"#\">SHOW</a>]"
      ]
     },
     "execution_count": 7,
     "metadata": {},
     "output_type": "execute_result"
    }
   ],
   "source": [
    "pattern = re.compile(\"#\")\n",
    "soup2.find_all('a', href=pattern)"
   ]
  },
  {
   "cell_type": "code",
   "execution_count": 8,
   "metadata": {},
   "outputs": [
    {
     "data": {
      "text/plain": [
       "'bca_enquiry@bca.gov.sg'"
      ]
     },
     "execution_count": 8,
     "metadata": {},
     "output_type": "execute_result"
    }
   ],
   "source": [
    "soup2.find_all('a', href=pattern)[7].get_text().strip()"
   ]
  },
  {
   "cell_type": "code",
   "execution_count": 9,
   "metadata": {},
   "outputs": [
    {
     "data": {
      "text/plain": [
       "[<img alt=\"Singapore Government crest\" class=\"not-dark\" src=\"/sgdi/~/media/gov/common/crest.png\"/>,\n",
       " <img alt=\"Singapore Government logo\" src=\"/sgdi/~/media/gov/common/logo.jpg\"/>,\n",
       " <img alt=\"Singapore Government crest\" class=\"not-dark\" src=\"/sgdi/~/media/gov/common/crest-mobile.png\"/>,\n",
       " <img alt=\"Singapore Government logo\" src=\"/sgdi/~/media/gov/common/logo-mobile.jpg\"/>,\n",
       " <img src=\"/html/gov/img/ui/ic-officer.png\"/>,\n",
       " <img alt=\"BCA\" src=\"/sgdi/~/media/sgdi/bca.gif\"/>]"
      ]
     },
     "execution_count": 9,
     "metadata": {},
     "output_type": "execute_result"
    }
   ],
   "source": [
    "soup2.find_all('img')"
   ]
  },
  {
   "cell_type": "code",
   "execution_count": 11,
   "metadata": {},
   "outputs": [
    {
     "data": {
      "text/plain": [
       "'/sgdi/~/media/sgdi/bca.gif'"
      ]
     },
     "execution_count": 11,
     "metadata": {},
     "output_type": "execute_result"
    }
   ],
   "source": [
    "logourl = soup2.find_all('img')[-1]['src']\n",
    "logourl"
   ]
  },
  {
   "cell_type": "code",
   "execution_count": 12,
   "metadata": {},
   "outputs": [
    {
     "data": {
      "text/plain": [
       "'BCA'"
      ]
     },
     "execution_count": 12,
     "metadata": {},
     "output_type": "execute_result"
    }
   ],
   "source": [
    "logoname = soup2.find_all('img')[-1]['alt']\n",
    "logoname"
   ]
  },
  {
   "cell_type": "code",
   "execution_count": 13,
   "metadata": {
    "collapsed": true
   },
   "outputs": [],
   "source": [
    "r = requests.get(\"https://www.gov.sg\"+logourl, stream=True, headers={'User-agent': 'Mozilla/5.0'})\n",
    "if r.status_code == 200:\n",
    "    with open(logoname+logourl[-4:], 'wb') as f:\n",
    "        r.raw.decode_content = True\n",
    "        shutil.copyfileobj(r.raw, f)"
   ]
  },
  {
   "cell_type": "markdown",
   "metadata": {},
   "source": [
    "## 3. Putting everything together\n",
    "#### In the event of a disconnection, re-run the code below for sites not yet crawled by updating the range below"
   ]
  },
  {
   "cell_type": "code",
   "execution_count": 3,
   "metadata": {},
   "outputs": [
    {
     "name": "stdout",
     "output_type": "stream",
     "text": [
      "0\n",
      "1\n",
      "2\n",
      "3\n",
      "4\n",
      "5\n",
      "6\n",
      "7\n",
      "8\n",
      "9\n",
      "10\n",
      "11\n",
      "12\n",
      "13\n",
      "14\n",
      "15\n",
      "16\n",
      "17\n",
      "18\n",
      "19\n",
      "20\n",
      "21\n",
      "22\n",
      "23\n",
      "24\n",
      "25\n",
      "26\n",
      "27\n",
      "28\n",
      "29\n",
      "30\n",
      "31\n",
      "32\n",
      "33\n",
      "34\n",
      "35\n",
      "36\n",
      "37\n",
      "38\n",
      "39\n",
      "40\n",
      "41\n",
      "42\n",
      "43\n",
      "44\n",
      "45\n",
      "46\n",
      "47\n",
      "48\n",
      "49\n",
      "50\n",
      "51\n",
      "52\n",
      "53\n",
      "54\n",
      "55\n",
      "56\n",
      "57\n",
      "58\n",
      "59\n",
      "60\n",
      "61\n",
      "62\n"
     ]
    }
   ],
   "source": [
    "site = \"https://www.gov.sg/sgdi/statutory-boards\"\n",
    "hdr = {'User-Agent': 'Mozilla/5.0'}\n",
    "bookpage = requests.get(site)\n",
    "soup = BeautifulSoup(bookpage.text, \"html.parser\")\n",
    "titles = soup.find_all('li')\n",
    "title_db = []\n",
    "url_db = []\n",
    "data = []\n",
    "\n",
    "for i in range(45,108):\n",
    "    name = titles[i].text.strip()\n",
    "    url = titles[i].a['href']\n",
    "    title_db.append(name)\n",
    "    url_db.append(url)\n",
    "    \n",
    "for i in range(0,len(title_db)): \n",
    "#for i in range(0,3): \n",
    "    name = title_db[i]\n",
    "    nextsite = \"https://www.gov.sg\"+url_db[i]\n",
    "    hdr = {'User-Agent': 'Mozilla/5.0'}\n",
    "    onebookpage = requests.get(nextsite)\n",
    "    onesoup = BeautifulSoup(onebookpage.text, \"html.parser\")\n",
    "    #print(onesoup.prettify())\n",
    "    try:\n",
    "        address = onesoup.find('p', class_ = \"street-address\").text.strip()\n",
    "    except: \n",
    "        address = \"NA\"\n",
    "    try:\n",
    "        tel = onesoup.find('p', class_ = \"tel-info\").get_text().strip()\n",
    "    except:\n",
    "        tel = \"NA\"\n",
    "    try:\n",
    "        fax = onesoup.find_all('p', class_ = \"tel-info\")[1].get_text().strip()\n",
    "    except:\n",
    "        fax = \"NA\"\n",
    "    try:\n",
    "        website = onesoup.find('p', class_ = \"website\").get_text().strip()\n",
    "    except:\n",
    "        website = \"NA\"  \n",
    "    try:\n",
    "        pattern = re.compile(\"#\")\n",
    "        email = onesoup.find_all('a', href=pattern)[7].get_text().strip()\n",
    "    except: \n",
    "        email = \"NA\"\n",
    "    data.append((name,address,tel,fax,website,email))\n",
    "    try:\n",
    "        logourl = onesoup.find_all('img')[-1]['src']\n",
    "        logoname = onesoup.find_all('img')[-1]['alt']\n",
    "        r = requests.get(\"https://www.gov.sg\"+logourl, stream=True, headers={'User-agent': 'Mozilla/5.0'})\n",
    "        if r.status_code == 200:\n",
    "            with open(logoname+logourl[-4:], 'wb') as f:\n",
    "                r.raw.decode_content = True\n",
    "                shutil.copyfileobj(r.raw, f)\n",
    "    except:\n",
    "        pass\n",
    "    print(i)\n",
    "    time.sleep(2)"
   ]
  },
  {
   "cell_type": "code",
   "execution_count": 4,
   "metadata": {
    "scrolled": true
   },
   "outputs": [
    {
     "data": {
      "text/plain": [
       "63"
      ]
     },
     "execution_count": 4,
     "metadata": {},
     "output_type": "execute_result"
    }
   ],
   "source": [
    "len(data)"
   ]
  },
  {
   "cell_type": "code",
   "execution_count": 5,
   "metadata": {
    "collapsed": true
   },
   "outputs": [],
   "source": [
    "df = pd.DataFrame(np.array(data))"
   ]
  },
  {
   "cell_type": "code",
   "execution_count": 6,
   "metadata": {
    "collapsed": true
   },
   "outputs": [],
   "source": [
    "df.columns = ['name','address','tel','fax','website','email']"
   ]
  },
  {
   "cell_type": "code",
   "execution_count": 7,
   "metadata": {},
   "outputs": [
    {
     "data": {
      "text/html": [
       "<div>\n",
       "<style>\n",
       "    .dataframe thead tr:only-child th {\n",
       "        text-align: right;\n",
       "    }\n",
       "\n",
       "    .dataframe thead th {\n",
       "        text-align: left;\n",
       "    }\n",
       "\n",
       "    .dataframe tbody tr th {\n",
       "        vertical-align: top;\n",
       "    }\n",
       "</style>\n",
       "<table border=\"1\" class=\"dataframe\">\n",
       "  <thead>\n",
       "    <tr style=\"text-align: right;\">\n",
       "      <th></th>\n",
       "      <th>name</th>\n",
       "      <th>address</th>\n",
       "      <th>tel</th>\n",
       "      <th>fax</th>\n",
       "      <th>website</th>\n",
       "      <th>email</th>\n",
       "    </tr>\n",
       "  </thead>\n",
       "  <tbody>\n",
       "    <tr>\n",
       "      <th>0</th>\n",
       "      <td>ACCOUNTING AND CORPORATE REGULATORY AUTHORITY ...</td>\n",
       "      <td>10 Anson Road \\r\\n#05-01/15 International Plaz...</td>\n",
       "      <td>62486028 (ACRA Helpdesk)</td>\n",
       "      <td>NA</td>\n",
       "      <td>http://www.acra.gov.sg</td>\n",
       "      <td>http://www.acra.gov.sg/askacra (Enquiry Websit...</td>\n",
       "    </tr>\n",
       "    <tr>\n",
       "      <th>1</th>\n",
       "      <td>AGENCY FOR SCIENCE, TECHNOLOGY AND RESEARCH (A...</td>\n",
       "      <td>1 Fusionopolis Way\\r\\n#20-10 Connexis North\\r\\...</td>\n",
       "      <td>68266111</td>\n",
       "      <td>67771711</td>\n",
       "      <td>http://www.a-star.edu.sg</td>\n",
       "      <td>contact@a-star.edu.sg</td>\n",
       "    </tr>\n",
       "    <tr>\n",
       "      <th>2</th>\n",
       "      <td>AGRI-FOOD &amp; VETERINARY AUTHORITY OF SINGAPORE ...</td>\n",
       "      <td>52, Jurong Gateway Road #14-01\\r\\nSingapore 60...</td>\n",
       "      <td>68052992 Lines For Public Enquiries/Feedback:</td>\n",
       "      <td>63341831</td>\n",
       "      <td>http://www.ava.gov.sgwww.ava.gov.sg/contactus</td>\n",
       "      <td>www.ava.gov.sg/contactus</td>\n",
       "    </tr>\n",
       "    <tr>\n",
       "      <th>3</th>\n",
       "      <td>BOARD OF ARCHITECTS (BOA)</td>\n",
       "      <td>5 Maxwell Road\\r\\n#01-03, Tower Block, MND Com...</td>\n",
       "      <td>62225295</td>\n",
       "      <td>62224452</td>\n",
       "      <td>http://www.boa.gov.sg</td>\n",
       "      <td>boarch@singnet.com.sg</td>\n",
       "    </tr>\n",
       "    <tr>\n",
       "      <th>4</th>\n",
       "      <td>BUILDING AND CONSTRUCTION AUTHORITY (BCA)</td>\n",
       "      <td>52 Jurong Gateway Road\\r\\n#11-01 Singapore 608550</td>\n",
       "      <td>1800-3425222</td>\n",
       "      <td>63344287</td>\n",
       "      <td>http://www.bca.gov.sgbca_enquiry@bca.gov.sg</td>\n",
       "      <td>bca_enquiry@bca.gov.sg</td>\n",
       "    </tr>\n",
       "  </tbody>\n",
       "</table>\n",
       "</div>"
      ],
      "text/plain": [
       "                                                name  \\\n",
       "0  ACCOUNTING AND CORPORATE REGULATORY AUTHORITY ...   \n",
       "1  AGENCY FOR SCIENCE, TECHNOLOGY AND RESEARCH (A...   \n",
       "2  AGRI-FOOD & VETERINARY AUTHORITY OF SINGAPORE ...   \n",
       "3                          BOARD OF ARCHITECTS (BOA)   \n",
       "4          BUILDING AND CONSTRUCTION AUTHORITY (BCA)   \n",
       "\n",
       "                                             address  \\\n",
       "0  10 Anson Road \\r\\n#05-01/15 International Plaz...   \n",
       "1  1 Fusionopolis Way\\r\\n#20-10 Connexis North\\r\\...   \n",
       "2  52, Jurong Gateway Road #14-01\\r\\nSingapore 60...   \n",
       "3  5 Maxwell Road\\r\\n#01-03, Tower Block, MND Com...   \n",
       "4  52 Jurong Gateway Road\\r\\n#11-01 Singapore 608550   \n",
       "\n",
       "                                             tel       fax  \\\n",
       "0                       62486028 (ACRA Helpdesk)        NA   \n",
       "1                                       68266111  67771711   \n",
       "2  68052992 Lines For Public Enquiries/Feedback:  63341831   \n",
       "3                                       62225295  62224452   \n",
       "4                                   1800-3425222  63344287   \n",
       "\n",
       "                                         website  \\\n",
       "0                         http://www.acra.gov.sg   \n",
       "1                       http://www.a-star.edu.sg   \n",
       "2  http://www.ava.gov.sgwww.ava.gov.sg/contactus   \n",
       "3                          http://www.boa.gov.sg   \n",
       "4    http://www.bca.gov.sgbca_enquiry@bca.gov.sg   \n",
       "\n",
       "                                               email  \n",
       "0  http://www.acra.gov.sg/askacra (Enquiry Websit...  \n",
       "1                              contact@a-star.edu.sg  \n",
       "2                           www.ava.gov.sg/contactus  \n",
       "3                              boarch@singnet.com.sg  \n",
       "4                             bca_enquiry@bca.gov.sg  "
      ]
     },
     "execution_count": 7,
     "metadata": {},
     "output_type": "execute_result"
    }
   ],
   "source": [
    "df.head()"
   ]
  },
  {
   "cell_type": "code",
   "execution_count": 8,
   "metadata": {
    "collapsed": true
   },
   "outputs": [],
   "source": [
    "df.to_csv('statboards.csv')"
   ]
  },
  {
   "cell_type": "markdown",
   "metadata": {},
   "source": [
    "#### Resources: \n",
    "http://altitudelabs.com/blog/web-scraping-with-python-and-beautiful-soup/\n",
    "http://web.stanford.edu/~zlotnick/TextAsData/Web_Scraping_with_Beautiful_Soup.html  \n",
    "https://www.crummy.com/software/BeautifulSoup/bs4/doc/  \n",
    "https://www.dataquest.io/blog/web-scraping-beautifulsoup/"
   ]
  }
 ],
 "metadata": {
  "kernelspec": {
   "display_name": "Python 3",
   "language": "python",
   "name": "python3"
  },
  "language_info": {
   "codemirror_mode": {
    "name": "ipython",
    "version": 3
   },
   "file_extension": ".py",
   "mimetype": "text/x-python",
   "name": "python",
   "nbconvert_exporter": "python",
   "pygments_lexer": "ipython3",
   "version": "3.6.3"
  }
 },
 "nbformat": 4,
 "nbformat_minor": 2
}
