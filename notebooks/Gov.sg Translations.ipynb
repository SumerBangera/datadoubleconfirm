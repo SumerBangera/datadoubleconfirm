{
 "cells": [
  {
   "cell_type": "code",
   "execution_count": null,
   "metadata": {},
   "outputs": [],
   "source": [
    "import time\n",
    "import pickle\n",
    "from itertools import combinations\n",
    "\n",
    "import pandas as pd\n",
    "from bs4 import BeautifulSoup\n",
    "\n",
    "from selenium import webdriver\n",
    "from selenium.webdriver.chrome.options import Options\n",
    "from selenium.webdriver.support.ui import Select\n",
    "\n",
    "import pyderman\n",
    "\n",
    "from tqdm import tqdm\n",
    "\n",
    "from lazyme import zigzag, retry"
   ]
  },
  {
   "cell_type": "code",
   "execution_count": null,
   "metadata": {},
   "outputs": [],
   "source": [
    "options = Options()\n",
    "options.headless = True # Somehow somtimes headless don't working =( for this site.\n",
    "\n",
    "path = pyderman.install(browser=pyderman.chrome)\n",
    "\n",
    "driver = webdriver.Chrome(path, options=options)"
   ]
  },
  {
   "cell_type": "code",
   "execution_count": null,
   "metadata": {},
   "outputs": [],
   "source": [
    "# Fetch the page.\n",
    "driver.get('https://www.gov.sg/resources/translation')"
   ]
  },
  {
   "cell_type": "code",
   "execution_count": null,
   "metadata": {},
   "outputs": [],
   "source": [
    "# Select the \"All\" category.\n",
    "category=Select(driver.find_element_by_name(\"content_0$DdlCategory\"))\n",
    "category.select_by_value('-1') # All."
   ]
  },
  {
   "cell_type": "code",
   "execution_count": null,
   "metadata": {},
   "outputs": [],
   "source": [
    "# Selec the \"languages\".\n",
    "from_lang = Select(driver.find_element_by_name(\"content_0$DdlFrom\"))\n",
    "to_lang = Select(driver.find_element_by_name(\"content_0$DdlTo\"))\n",
    "\n",
    "from_lang.select_by_value('1') # English.\n",
    "to_lang.select_by_value('2')   # Mandarin."
   ]
  },
  {
   "cell_type": "code",
   "execution_count": null,
   "metadata": {},
   "outputs": [],
   "source": [
    "@retry(Exception, delay=1)\n",
    "def find_last_page(driver):\n",
    "    # Go to the last page .\n",
    "    driver.find_element_by_id(\"content_0_RGridTranslation_ctl00_ctl03_ctl01_Last\").click()\n",
    "    # Find what is the page no. of the last page.\n",
    "    bsoup = BeautifulSoup(driver.page_source, 'lxml')\n",
    "    last_page = int(bsoup.find(\"tr\", attrs={\"class\":\"rgPager\"}).find_all('span')[-1].text)\n",
    "    return last_page\n",
    "    \n",
    "# Click on the \"search\" (magnifying glass) button.\n",
    "driver.find_element_by_name(\"content_0$BtnTranslateSearch\").click()\n",
    "# Find the last page.\n",
    "last_page = find_last_page(driver)\n",
    "# Go back to the first page.\n",
    "driver.find_element_by_id(\"content_0_RGridTranslation_ctl00_ctl03_ctl01_BtnFirst\").click()"
   ]
  },
  {
   "cell_type": "code",
   "execution_count": null,
   "metadata": {},
   "outputs": [],
   "source": [
    "assert last_page == 1045"
   ]
  },
  {
   "cell_type": "code",
   "execution_count": null,
   "metadata": {},
   "outputs": [],
   "source": [
    "@retry(Exception, delay=1)\n",
    "def munge_page_for_translations(driver):\n",
    "    # Reads the page source into beautiful soup.\n",
    "    html = driver.page_source\n",
    "    bsoup = BeautifulSoup(driver.page_source, 'lxml')\n",
    "    # Munge and get the translations. \n",
    "    translations = [div.text.strip() for div in bsoup.find('tbody').find_all('div') if div.text.strip()]\n",
    "    # zigzag splits a list into two by alternative, even and odd items.\n",
    "    # zip(*iterable) iterates throught the zigzag list one pair at a time.\n",
    "    return dict(zip(*zigzag(translations)))"
   ]
  },
  {
   "cell_type": "code",
   "execution_count": null,
   "metadata": {},
   "outputs": [],
   "source": [
    "munge_page_for_translations(driver)"
   ]
  },
  {
   "cell_type": "code",
   "execution_count": null,
   "metadata": {},
   "outputs": [],
   "source": [
    "terminology = {}\n",
    "\n",
    "# Iterate through the pages and get the dictionary entries for each page.\n",
    "for i in tqdm(range(last_page)):\n",
    "    translations = munge_page_for_translations(driver)\n",
    "    terminology.update(translations)\n",
    "    # Moves to the next page.    \n",
    "    driver.find_element_by_id(\"content_0_RGridTranslation_ctl00_ctl03_ctl01_Next\").click()\n",
    "    driver.implicitly_wait(1.5)"
   ]
  },
  {
   "cell_type": "code",
   "execution_count": null,
   "metadata": {},
   "outputs": [],
   "source": [
    "# Convert the dictionary to a two columns dataframe.\n",
    "df = pd.DataFrame(list(terminology.items()), columns=['english', 'mandarin'])"
   ]
  },
  {
   "cell_type": "code",
   "execution_count": null,
   "metadata": {},
   "outputs": [],
   "source": [
    "df.head()"
   ]
  },
  {
   "cell_type": "code",
   "execution_count": null,
   "metadata": {},
   "outputs": [],
   "source": [
    "# Save the dataframe to tsv file.\n",
    "df.to_csv('../datasets/gov-sg-terms-translations.tsv', sep='\\t', index=False, quotechar='\"')"
   ]
  },
  {
   "cell_type": "code",
   "execution_count": null,
   "metadata": {},
   "outputs": [],
   "source": [
    "# Example to re-read the saved tsv file.\n",
    "pd.read_csv('../datasets/gov-sg-terms-translations.tsv', sep='\\t', quotechar='\"')"
   ]
  },
  {
   "cell_type": "code",
   "execution_count": null,
   "metadata": {},
   "outputs": [],
   "source": []
  }
 ],
 "metadata": {
  "kernelspec": {
   "display_name": "Python 3",
   "language": "python",
   "name": "python3"
  },
  "language_info": {
   "codemirror_mode": {
    "name": "ipython",
    "version": 3
   },
   "file_extension": ".py",
   "mimetype": "text/x-python",
   "name": "python",
   "nbconvert_exporter": "python",
   "pygments_lexer": "ipython3",
   "version": "3.6.4rc1"
  }
 },
 "nbformat": 4,
 "nbformat_minor": 2
}
