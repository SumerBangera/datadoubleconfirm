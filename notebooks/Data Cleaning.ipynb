{
 "cells": [
  {
   "cell_type": "markdown",
   "metadata": {},
   "source": [
    "#### Over here I'm creating four datasets for use, namely gender of students, scores of test 1, 2 and 3. There are a total of 50 male and 50 female students. Each test score follows its own normal distribution. The datasets created are complete and usually this is not the case in real world. So I'm making some scores for test 1, 2 and 3 to be missing. Assume the datasets you received are dataset1, dataset2, dataset3 and dataset4."
   ]
  },
  {
   "cell_type": "code",
   "execution_count": 62,
   "metadata": {
    "collapsed": true
   },
   "outputs": [],
   "source": [
    "id<-matrix(c(1:100),nr=100,nc=1)"
   ]
  },
  {
   "cell_type": "code",
   "execution_count": 67,
   "metadata": {},
   "outputs": [],
   "source": [
    "id<-data.frame(id)"
   ]
  },
  {
   "cell_type": "code",
   "execution_count": 48,
   "metadata": {
    "collapsed": true
   },
   "outputs": [],
   "source": [
    "set.seed(1)"
   ]
  },
  {
   "cell_type": "code",
   "execution_count": 49,
   "metadata": {
    "collapsed": true
   },
   "outputs": [],
   "source": [
    "test1 <-round(rnorm(100, 50, 10))\n",
    "test2 <-round(rnorm(100, 55, 8))\n",
    "test3 <-round(rnorm(100, 58, 9))"
   ]
  },
  {
   "cell_type": "code",
   "execution_count": 50,
   "metadata": {},
   "outputs": [
    {
     "data": {
      "text/html": [
       "<ol class=list-inline>\n",
       "\t<li>44</li>\n",
       "\t<li>52</li>\n",
       "\t<li>42</li>\n",
       "\t<li>66</li>\n",
       "\t<li>53</li>\n",
       "\t<li>42</li>\n",
       "</ol>\n"
      ],
      "text/latex": [
       "\\begin{enumerate*}\n",
       "\\item 44\n",
       "\\item 52\n",
       "\\item 42\n",
       "\\item 66\n",
       "\\item 53\n",
       "\\item 42\n",
       "\\end{enumerate*}\n"
      ],
      "text/markdown": [
       "1. 44\n",
       "2. 52\n",
       "3. 42\n",
       "4. 66\n",
       "5. 53\n",
       "6. 42\n",
       "\n",
       "\n"
      ],
      "text/plain": [
       "[1] 44 52 42 66 53 42"
      ]
     },
     "metadata": {},
     "output_type": "display_data"
    }
   ],
   "source": [
    "head(set1)"
   ]
  },
  {
   "cell_type": "code",
   "execution_count": 51,
   "metadata": {
    "collapsed": true
   },
   "outputs": [],
   "source": [
    "df1 <-data.frame(test1)\n",
    "df2 <-data.frame(test2)\n",
    "df3 <-data.frame(test3)"
   ]
  },
  {
   "cell_type": "code",
   "execution_count": 64,
   "metadata": {},
   "outputs": [],
   "source": [
    "gender <-matrix(\"Male\",nr=100,nc=1)\n",
    "gender[51:100] <-c(\"Female\")"
   ]
  },
  {
   "cell_type": "code",
   "execution_count": 68,
   "metadata": {
    "collapsed": true
   },
   "outputs": [],
   "source": [
    "dataset1<-cbind(id,gender)"
   ]
  },
  {
   "cell_type": "code",
   "execution_count": 77,
   "metadata": {
    "scrolled": true
   },
   "outputs": [],
   "source": [
    "dataset2<-cbind(id, df1)"
   ]
  },
  {
   "cell_type": "code",
   "execution_count": 71,
   "metadata": {
    "collapsed": true
   },
   "outputs": [],
   "source": [
    "dataset3<-cbind(id,df2)"
   ]
  },
  {
   "cell_type": "code",
   "execution_count": 72,
   "metadata": {
    "collapsed": true
   },
   "outputs": [],
   "source": [
    "dataset4<-cbind(id,df3)"
   ]
  },
  {
   "cell_type": "markdown",
   "metadata": {},
   "source": [
    "#### Upon receiving four datasets, we want to combine them into one main dataset. We have to check the datasets we had received is correct. "
   ]
  },
  {
   "cell_type": "code",
   "execution_count": null,
   "metadata": {
    "collapsed": true
   },
   "outputs": [],
   "source": []
  },
  {
   "cell_type": "markdown",
   "metadata": {},
   "source": [
    "#### We need to merge."
   ]
  },
  {
   "cell_type": "code",
   "execution_count": null,
   "metadata": {
    "collapsed": true
   },
   "outputs": [],
   "source": []
  },
  {
   "cell_type": "code",
   "execution_count": 73,
   "metadata": {
    "collapsed": true
   },
   "outputs": [],
   "source": [
    "data<-merge(dataset1, dataset2, on=\"id\")"
   ]
  },
  {
   "cell_type": "code",
   "execution_count": 75,
   "metadata": {
    "collapsed": true
   },
   "outputs": [],
   "source": [
    "data<-merge(data, dataset3, on=\"id\")\n",
    "data<-merge(data, dataset4, on=\"id\")"
   ]
  },
  {
   "cell_type": "code",
   "execution_count": 76,
   "metadata": {},
   "outputs": [
    {
     "data": {
      "text/plain": [
       "       id            gender        set1            set2            set3      \n",
       " Min.   :  1.00   Female:50   Min.   :28.00   Min.   :40.00   Min.   :32.00  \n",
       " 1st Qu.: 25.75   Male  :50   1st Qu.:45.00   1st Qu.:50.00   1st Qu.:53.75  \n",
       " Median : 50.50               Median :51.50   Median :54.00   Median :58.00  \n",
       " Mean   : 50.50               Mean   :51.14   Mean   :54.72   Mean   :58.23  \n",
       " 3rd Qu.: 75.25               3rd Qu.:57.00   3rd Qu.:59.00   3rd Qu.:64.00  \n",
       " Max.   :100.00               Max.   :74.00   Max.   :73.00   Max.   :82.00  "
      ]
     },
     "metadata": {},
     "output_type": "display_data"
    }
   ],
   "source": [
    "summary(data)"
   ]
  },
  {
   "cell_type": "code",
   "execution_count": 58,
   "metadata": {},
   "outputs": [],
   "source": [
    "data[1:10,2]<-\"\"\n",
    "data$set1<-as.numeric(data$set1)"
   ]
  },
  {
   "cell_type": "code",
   "execution_count": 59,
   "metadata": {},
   "outputs": [
    {
     "data": {
      "text/html": [
       "<table>\n",
       "<thead><tr><th scope=col>gender</th><th scope=col>set1</th><th scope=col>set2</th><th scope=col>set3</th></tr></thead>\n",
       "<tbody>\n",
       "\t<tr><td>Male</td><td>NA  </td><td>50  </td><td>62  </td></tr>\n",
       "\t<tr><td>Male</td><td>NA  </td><td>55  </td><td>73  </td></tr>\n",
       "\t<tr><td>Male</td><td>NA  </td><td>48  </td><td>72  </td></tr>\n",
       "\t<tr><td>Male</td><td>NA  </td><td>56  </td><td>55  </td></tr>\n",
       "\t<tr><td>Male</td><td>NA  </td><td>50  </td><td>37  </td></tr>\n",
       "\t<tr><td>Male</td><td>NA  </td><td>69  </td><td>80  </td></tr>\n",
       "</tbody>\n",
       "</table>\n"
      ],
      "text/latex": [
       "\\begin{tabular}{r|llll}\n",
       " gender & set1 & set2 & set3\\\\\n",
       "\\hline\n",
       "\t Male & NA   & 50   & 62  \\\\\n",
       "\t Male & NA   & 55   & 73  \\\\\n",
       "\t Male & NA   & 48   & 72  \\\\\n",
       "\t Male & NA   & 56   & 55  \\\\\n",
       "\t Male & NA   & 50   & 37  \\\\\n",
       "\t Male & NA   & 69   & 80  \\\\\n",
       "\\end{tabular}\n"
      ],
      "text/markdown": [
       "\n",
       "gender | set1 | set2 | set3 | \n",
       "|---|---|---|---|---|---|\n",
       "| Male | NA   | 50   | 62   | \n",
       "| Male | NA   | 55   | 73   | \n",
       "| Male | NA   | 48   | 72   | \n",
       "| Male | NA   | 56   | 55   | \n",
       "| Male | NA   | 50   | 37   | \n",
       "| Male | NA   | 69   | 80   | \n",
       "\n",
       "\n"
      ],
      "text/plain": [
       "  gender set1 set2 set3\n",
       "1 Male   NA   50   62  \n",
       "2 Male   NA   55   73  \n",
       "3 Male   NA   48   72  \n",
       "4 Male   NA   56   55  \n",
       "5 Male   NA   50   37  \n",
       "6 Male   NA   69   80  "
      ]
     },
     "metadata": {},
     "output_type": "display_data"
    }
   ],
   "source": [
    "head(data)"
   ]
  },
  {
   "cell_type": "code",
   "execution_count": 60,
   "metadata": {
    "scrolled": true
   },
   "outputs": [
    {
     "data": {
      "text/plain": [
       "    gender        set1            set2            set3      \n",
       " Female:50   Min.   :28.00   Min.   :40.00   Min.   :32.00  \n",
       " Male  :50   1st Qu.:45.00   1st Qu.:50.00   1st Qu.:53.75  \n",
       "             Median :51.00   Median :54.00   Median :58.00  \n",
       "             Mean   :51.11   Mean   :54.72   Mean   :58.23  \n",
       "             3rd Qu.:57.00   3rd Qu.:59.00   3rd Qu.:64.00  \n",
       "             Max.   :74.00   Max.   :73.00   Max.   :82.00  \n",
       "             NA's   :10                                     "
      ]
     },
     "metadata": {},
     "output_type": "display_data"
    }
   ],
   "source": [
    "summary(data)"
   ]
  },
  {
   "cell_type": "markdown",
   "metadata": {},
   "source": [
    "#### Say, some time later, another dataset containing new set of ids, gender, and three test scores are made available and now you would like to append the dataset. "
   ]
  },
  {
   "cell_type": "code",
   "execution_count": null,
   "metadata": {
    "collapsed": true
   },
   "outputs": [],
   "source": []
  }
 ],
 "metadata": {
  "kernelspec": {
   "display_name": "R 3.3",
   "language": "R",
   "name": "ir33"
  },
  "language_info": {
   "codemirror_mode": "r",
   "file_extension": ".r",
   "mimetype": "text/x-r-source",
   "name": "R",
   "pygments_lexer": "r",
   "version": "3.3.1"
  }
 },
 "nbformat": 4,
 "nbformat_minor": 2
}
