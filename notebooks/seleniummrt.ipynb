{
 "cells": [
  {
   "cell_type": "code",
   "execution_count": 1,
   "metadata": {
    "collapsed": true
   },
   "outputs": [],
   "source": [
    "from selenium import webdriver\n",
    "from selenium.webdriver.common.keys import Keys\n",
    "from selenium.webdriver.support.ui import Select\n",
    "from bs4 import BeautifulSoup\n",
    "import pandas as pd\n",
    "import numpy as np\n",
    "import os\n",
    "import sys\n",
    "import time"
   ]
  },
  {
   "cell_type": "code",
   "execution_count": 2,
   "metadata": {},
   "outputs": [
    {
     "data": {
      "text/plain": [
       "['',\n",
       " 'C:\\\\Users\\\\HuiXiang\\\\Anaconda2\\\\lib\\\\site-packages\\\\fake_useragent-0.1.8-py2.7.egg',\n",
       " 'C:\\\\Users\\\\HuiXiang\\\\Anaconda2\\\\lib\\\\site-packages\\\\bs4-0.0.1-py2.7.egg',\n",
       " 'C:\\\\Users\\\\HuiXiang\\\\Anaconda2\\\\lib\\\\site-packages\\\\coala_utils-0.5.1-py2.7.egg',\n",
       " 'C:\\\\Users\\\\HuiXiang\\\\Anaconda2\\\\lib\\\\site-packages\\\\xgoogle-1.3-py2.7.egg',\n",
       " 'C:\\\\Users\\\\HuiXiang\\\\Anaconda2\\\\python27.zip',\n",
       " 'C:\\\\Users\\\\HuiXiang\\\\Anaconda2\\\\DLLs',\n",
       " 'C:\\\\Users\\\\HuiXiang\\\\Anaconda2\\\\lib',\n",
       " 'C:\\\\Users\\\\HuiXiang\\\\Anaconda2\\\\lib\\\\plat-win',\n",
       " 'C:\\\\Users\\\\HuiXiang\\\\Anaconda2\\\\lib\\\\lib-tk',\n",
       " 'C:\\\\Users\\\\HuiXiang\\\\Anaconda2',\n",
       " 'C:\\\\Users\\\\HuiXiang\\\\Anaconda2\\\\lib\\\\site-packages',\n",
       " 'C:\\\\Users\\\\HuiXiang\\\\Anaconda2\\\\lib\\\\site-packages\\\\Sphinx-1.3.5-py2.7.egg',\n",
       " 'C:\\\\Users\\\\HuiXiang\\\\Anaconda2\\\\lib\\\\site-packages\\\\win32',\n",
       " 'C:\\\\Users\\\\HuiXiang\\\\Anaconda2\\\\lib\\\\site-packages\\\\win32\\\\lib',\n",
       " 'C:\\\\Users\\\\HuiXiang\\\\Anaconda2\\\\lib\\\\site-packages\\\\Pythonwin',\n",
       " 'C:\\\\Users\\\\HuiXiang\\\\Anaconda2\\\\lib\\\\site-packages\\\\IPython\\\\extensions',\n",
       " 'C:\\\\Users\\\\HuiXiang\\\\.ipython']"
      ]
     },
     "execution_count": 2,
     "metadata": {},
     "output_type": "execute_result"
    }
   ],
   "source": [
    "sys.path"
   ]
  },
  {
   "cell_type": "code",
   "execution_count": 3,
   "metadata": {},
   "outputs": [
    {
     "name": "stdout",
     "output_type": "stream",
     "text": [
      "2.7.13 |Anaconda custom (64-bit)| (default, May 11 2017, 13:17:26) [MSC v.1500 64 bit (AMD64)]\n"
     ]
    }
   ],
   "source": [
    "print(sys.version)"
   ]
  },
  {
   "cell_type": "markdown",
   "metadata": {},
   "source": [
    "#### Selecting from dropdown list and submitting selection using selenium"
   ]
  },
  {
   "cell_type": "code",
   "execution_count": 4,
   "metadata": {
    "collapsed": true
   },
   "outputs": [],
   "source": [
    "url = 'https://www.transitlink.com.sg/eservice/eguide/rail_idx.php'\n",
    "driver = webdriver.Chrome()\n",
    "driver.implicitly_wait(30)\n",
    "driver.get(url)"
   ]
  },
  {
   "cell_type": "code",
   "execution_count": 5,
   "metadata": {
    "collapsed": true
   },
   "outputs": [],
   "source": [
    "select = Select(driver.find_element_by_name('mrtcode_start'))\n",
    "index = 1\n",
    "select.select_by_index(index)\n",
    "# select.select_by_visible_text(\"text\")\n",
    "# select.select_by_value(value)"
   ]
  },
  {
   "cell_type": "code",
   "execution_count": 6,
   "metadata": {
    "collapsed": true
   },
   "outputs": [],
   "source": [
    "select_end = Select(driver.find_element_by_name('mrtcode_end'))\n",
    "index_end = 2\n",
    "select_end.select_by_index(index_end)"
   ]
  },
  {
   "cell_type": "code",
   "execution_count": 7,
   "metadata": {
    "scrolled": true
   },
   "outputs": [
    {
     "data": {
      "text/plain": [
       "158"
      ]
     },
     "execution_count": 7,
     "metadata": {},
     "output_type": "execute_result"
    }
   ],
   "source": [
    "len(select.options)"
   ]
  },
  {
   "cell_type": "code",
   "execution_count": 8,
   "metadata": {
    "collapsed": true
   },
   "outputs": [],
   "source": [
    "driver.find_element_by_name(\"submit\").click()"
   ]
  },
  {
   "cell_type": "markdown",
   "metadata": {},
   "source": [
    "#### Scraping results returned from selection on fares and travel time using BeautifulSoup"
   ]
  },
  {
   "cell_type": "code",
   "execution_count": 9,
   "metadata": {
    "collapsed": true
   },
   "outputs": [],
   "source": [
    "soup_level1=BeautifulSoup(driver.page_source, 'lxml')"
   ]
  },
  {
   "cell_type": "code",
   "execution_count": 10,
   "metadata": {},
   "outputs": [
    {
     "data": {
      "text/plain": [
       "[<td class=\"subhead2\">Adult</td>,\n",
       " <td class=\"subhead2\">Senior Citizen / PWD <span class=\"super\">#</span></td>,\n",
       " <td class=\"subhead2\">Student</td>,\n",
       " <td class=\"subhead2\">WTCS <span class=\"super\">#</span></td>]"
      ]
     },
     "execution_count": 10,
     "metadata": {},
     "output_type": "execute_result"
    }
   ],
   "source": [
    "soup_level1.find_all('td', class_ = \"subhead2\")"
   ]
  },
  {
   "cell_type": "code",
   "execution_count": 11,
   "metadata": {},
   "outputs": [
    {
     "data": {
      "text/plain": [
       "[<td width=\"10%\"><img src=\"../imgs/transitlink_logo_60.jpg\"/></td>,\n",
       " <td><img alt=\"Electronic Guide\" src=\"../imgs/title/eguide.png\"/></td>,\n",
       " <td class=\"subhead\" width=\"50%\">From</td>,\n",
       " <td class=\"subhead\">To</td>,\n",
       " <td class=\"data\"><span id=\"railColorNS\">NS10</span>\\xa0\\xa0Admiralty</td>,\n",
       " <td class=\"data\"><span id=\"railColorEW\">EW9</span>\\xa0\\xa0 Aljunied</td>,\n",
       " <td class=\"subhead\" width=\"25%\">* Fare Type</td>,\n",
       " <td class=\"subhead\" width=\"25%\">* Card</td>,\n",
       " <td class=\"subhead\">Standard Ticket</td>,\n",
       " <td class=\"subhead\">^ Estimated Travel Time (min)</td>,\n",
       " <td class=\"subhead2\">Adult</td>,\n",
       " <td width=\"15%\">$1.85</td>,\n",
       " <td rowspan=\"4\">$2.50</td>,\n",
       " <td rowspan=\"4\">42</td>,\n",
       " <td class=\"subhead2\">Senior Citizen / PWD <span class=\"super\">#</span></td>,\n",
       " <td>$0.87</td>,\n",
       " <td class=\"subhead2\">Student</td>,\n",
       " <td>$0.58</td>,\n",
       " <td class=\"subhead2\">WTCS <span class=\"super\">#</span></td>,\n",
       " <td>$1.51</td>]"
      ]
     },
     "execution_count": 11,
     "metadata": {},
     "output_type": "execute_result"
    }
   ],
   "source": [
    "soup_level1.find_all('td')"
   ]
  },
  {
   "cell_type": "code",
   "execution_count": 12,
   "metadata": {},
   "outputs": [
    {
     "data": {
      "text/plain": [
       "u'$1.51'"
      ]
     },
     "execution_count": 12,
     "metadata": {},
     "output_type": "execute_result"
    }
   ],
   "source": [
    "soup_level1.find_all('td')[-1].get_text().strip()"
   ]
  },
  {
   "cell_type": "code",
   "execution_count": 13,
   "metadata": {},
   "outputs": [
    {
     "data": {
      "text/plain": [
       "u'$0.58'"
      ]
     },
     "execution_count": 13,
     "metadata": {},
     "output_type": "execute_result"
    }
   ],
   "source": [
    "soup_level1.find_all('td')[-3].get_text()"
   ]
  },
  {
   "cell_type": "code",
   "execution_count": 14,
   "metadata": {},
   "outputs": [
    {
     "data": {
      "text/plain": [
       "u'$0.87'"
      ]
     },
     "execution_count": 14,
     "metadata": {},
     "output_type": "execute_result"
    }
   ],
   "source": [
    "soup_level1.find_all('td')[-5].get_text()"
   ]
  },
  {
   "cell_type": "code",
   "execution_count": 15,
   "metadata": {},
   "outputs": [
    {
     "data": {
      "text/plain": [
       "u'42'"
      ]
     },
     "execution_count": 15,
     "metadata": {},
     "output_type": "execute_result"
    }
   ],
   "source": [
    "soup_level1.find_all('td')[-7].get_text()"
   ]
  },
  {
   "cell_type": "code",
   "execution_count": 16,
   "metadata": {},
   "outputs": [
    {
     "data": {
      "text/plain": [
       "u'$2.50'"
      ]
     },
     "execution_count": 16,
     "metadata": {},
     "output_type": "execute_result"
    }
   ],
   "source": [
    "soup_level1.find_all('td')[-8].get_text()"
   ]
  },
  {
   "cell_type": "code",
   "execution_count": 17,
   "metadata": {},
   "outputs": [
    {
     "data": {
      "text/plain": [
       "u'$1.85'"
      ]
     },
     "execution_count": 17,
     "metadata": {},
     "output_type": "execute_result"
    }
   ],
   "source": [
    "soup_level1.find_all('td')[-9].get_text()"
   ]
  },
  {
   "cell_type": "code",
   "execution_count": 18,
   "metadata": {},
   "outputs": [
    {
     "data": {
      "text/plain": [
       "[<td class=\"data\"><span id=\"railColorNS\">NS10</span>\\xa0\\xa0Admiralty</td>,\n",
       " <td class=\"data\"><span id=\"railColorEW\">EW9</span>\\xa0\\xa0 Aljunied</td>]"
      ]
     },
     "execution_count": 18,
     "metadata": {},
     "output_type": "execute_result"
    }
   ],
   "source": [
    "soup_level1.find_all('td' , class_ = \"data\")"
   ]
  },
  {
   "cell_type": "code",
   "execution_count": 19,
   "metadata": {},
   "outputs": [
    {
     "data": {
      "text/plain": [
       "u'NS10\\xa0\\xa0Admiralty'"
      ]
     },
     "execution_count": 19,
     "metadata": {},
     "output_type": "execute_result"
    }
   ],
   "source": [
    "soup_level1.find_all('td' , class_ = \"data\")[0].get_text()"
   ]
  },
  {
   "cell_type": "code",
   "execution_count": 20,
   "metadata": {},
   "outputs": [
    {
     "data": {
      "text/plain": [
       "u'EW9\\xa0\\xa0 Aljunied'"
      ]
     },
     "execution_count": 20,
     "metadata": {},
     "output_type": "execute_result"
    }
   ],
   "source": [
    "soup_level1.find_all('td' , class_ = \"data\")[1].get_text()"
   ]
  },
  {
   "cell_type": "markdown",
   "metadata": {},
   "source": [
    "#### Putting everything together and looping through the actions"
   ]
  },
  {
   "cell_type": "code",
   "execution_count": 21,
   "metadata": {},
   "outputs": [
    {
     "name": "stdout",
     "output_type": "stream",
     "text": [
      "(0, 0)\n",
      "(0, 1)\n",
      "(0, 2)\n",
      "(0, 3)\n",
      "(0, 4)\n",
      "(0, 5)\n",
      "(0, 6)\n",
      "(0, 7)\n",
      "(0, 8)\n",
      "(0, 9)\n"
     ]
    }
   ],
   "source": [
    "data = []\n",
    "#for i in range(0,157):\n",
    "for i in range(0,1):\n",
    "    #for j in range(0,157):\n",
    "    for j in range(0,10):\n",
    "        url = 'https://www.transitlink.com.sg/eservice/eguide/rail_idx.php'\n",
    "        driver = webdriver.Chrome()\n",
    "        driver.implicitly_wait(30)\n",
    "        driver.get(url)\n",
    "        select = Select(driver.find_element_by_name('mrtcode_start'))\n",
    "        index = i+1\n",
    "        select.select_by_index(index)\n",
    "        select_end = Select(driver.find_element_by_name('mrtcode_end'))\n",
    "        index_end = j+1\n",
    "        select_end.select_by_index(index_end)\n",
    "        driver.find_element_by_name(\"submit\").click()\n",
    "        soup_level1=BeautifulSoup(driver.page_source, 'lxml')\n",
    "        Station_start = soup_level1.find_all('td' , class_ = \"data\")[0].get_text()\n",
    "        Station_end = soup_level1.find_all('td' , class_ = \"data\")[1].get_text()\n",
    "        Time = soup_level1.find_all('td')[-7].get_text()\n",
    "        Standard = soup_level1.find_all('td')[-8].get_text()\n",
    "        Adult = soup_level1.find_all('td')[-9].get_text()\n",
    "        Senior = soup_level1.find_all('td')[-5].get_text()\n",
    "        Student = soup_level1.find_all('td')[-3].get_text()\n",
    "        WTCS = soup_level1.find_all('td')[-1].get_text()\n",
    "        data.append((Station_start,Station_end,Time,Standard,Adult,Senior,Student,WTCS))\n",
    "        time.sleep(3)\n",
    "        driver.close()\n",
    "        print(i,j)\n",
    "        time.sleep(1)"
   ]
  },
  {
   "cell_type": "code",
   "execution_count": 22,
   "metadata": {},
   "outputs": [
    {
     "data": {
      "text/plain": [
       "[(u'NS10\\xa0\\xa0Admiralty',\n",
       "  u'NS10\\xa0\\xa0 Admiralty',\n",
       "  u'0',\n",
       "  u'$1.40',\n",
       "  u'$0.77',\n",
       "  u'$0.54',\n",
       "  u'$0.37',\n",
       "  u'$0.63'),\n",
       " (u'NS10\\xa0\\xa0Admiralty',\n",
       "  u'EW9\\xa0\\xa0 Aljunied',\n",
       "  u'42',\n",
       "  u'$2.50',\n",
       "  u'$1.85',\n",
       "  u'$0.87',\n",
       "  u'$0.58',\n",
       "  u'$1.51'),\n",
       " (u'NS10\\xa0\\xa0Admiralty',\n",
       "  u'NS16\\xa0\\xa0 Ang Mo Kio',\n",
       "  u'17',\n",
       "  u'$2.20',\n",
       "  u'$1.49',\n",
       "  u'$0.87',\n",
       "  u'$0.58',\n",
       "  u'$1.21'),\n",
       " (u'NS10\\xa0\\xa0Admiralty',\n",
       "  u'SE3\\xa0\\xa0 Bakau',\n",
       "  u'53',\n",
       "  u'$2.50',\n",
       "  u'$1.87',\n",
       "  u'$0.87',\n",
       "  u'$0.58',\n",
       "  u'$1.52'),\n",
       " (u'NS10\\xa0\\xa0Admiralty',\n",
       "  u'BP9\\xa0\\xa0 Bangkit',\n",
       "  u'26',\n",
       "  u'$2.20',\n",
       "  u'$1.53',\n",
       "  u'$0.87',\n",
       "  u'$0.58',\n",
       "  u'$1.24'),\n",
       " (u'NS10\\xa0\\xa0Admiralty',\n",
       "  u'CC12\\xa0\\xa0 Bartley',\n",
       "  u'30',\n",
       "  u'$2.40',\n",
       "  u'$1.72',\n",
       "  u'$0.87',\n",
       "  u'$0.58',\n",
       "  u'$1.39'),\n",
       " (u'NS10\\xa0\\xa0Admiralty',\n",
       "  u'CE1\\xa0\\xa0DT16\\xa0\\xa0 Bayfront',\n",
       "  u'40',\n",
       "  u'$2.50',\n",
       "  u'$1.87',\n",
       "  u'$0.87',\n",
       "  u'$0.58',\n",
       "  u'$1.52'),\n",
       " (u'NS10\\xa0\\xa0Admiralty',\n",
       "  u'DT5\\xa0\\xa0 Beauty World',\n",
       "  u'35',\n",
       "  u'$2.30',\n",
       "  u'$1.65',\n",
       "  u'$0.87',\n",
       "  u'$0.58',\n",
       "  u'$1.33'),\n",
       " (u'NS10\\xa0\\xa0Admiralty',\n",
       "  u'EW5\\xa0\\xa0 Bedok',\n",
       "  u'46',\n",
       "  u'$2.50',\n",
       "  u'$1.89',\n",
       "  u'$0.87',\n",
       "  u'$0.58',\n",
       "  u'$1.54'),\n",
       " (u'NS10\\xa0\\xa0Admiralty',\n",
       "  u'DT29\\xa0\\xa0 Bedok North',\n",
       "  u'43',\n",
       "  u'$2.50',\n",
       "  u'$1.87',\n",
       "  u'$0.87',\n",
       "  u'$0.58',\n",
       "  u'$1.52')]"
      ]
     },
     "execution_count": 22,
     "metadata": {},
     "output_type": "execute_result"
    }
   ],
   "source": [
    "data"
   ]
  },
  {
   "cell_type": "code",
   "execution_count": 23,
   "metadata": {
    "scrolled": true
   },
   "outputs": [
    {
     "data": {
      "text/plain": [
       "10"
      ]
     },
     "execution_count": 23,
     "metadata": {},
     "output_type": "execute_result"
    }
   ],
   "source": [
    "len(data)"
   ]
  },
  {
   "cell_type": "code",
   "execution_count": 24,
   "metadata": {
    "collapsed": true,
    "scrolled": true
   },
   "outputs": [],
   "source": [
    "df = pd.DataFrame(np.array(data))"
   ]
  },
  {
   "cell_type": "code",
   "execution_count": 25,
   "metadata": {
    "collapsed": true
   },
   "outputs": [],
   "source": [
    "df.columns = ['Station_start','Station_end','Time','Standard','Adult','Senior','Student','WTCS']"
   ]
  },
  {
   "cell_type": "code",
   "execution_count": 26,
   "metadata": {},
   "outputs": [
    {
     "data": {
      "text/html": [
       "<div>\n",
       "<table border=\"1\" class=\"dataframe\">\n",
       "  <thead>\n",
       "    <tr style=\"text-align: right;\">\n",
       "      <th></th>\n",
       "      <th>Station_start</th>\n",
       "      <th>Station_end</th>\n",
       "      <th>Time</th>\n",
       "      <th>Standard</th>\n",
       "      <th>Adult</th>\n",
       "      <th>Senior</th>\n",
       "      <th>Student</th>\n",
       "      <th>WTCS</th>\n",
       "    </tr>\n",
       "  </thead>\n",
       "  <tbody>\n",
       "    <tr>\n",
       "      <th>0</th>\n",
       "      <td>NS10  Admiralty</td>\n",
       "      <td>NS10   Admiralty</td>\n",
       "      <td>0</td>\n",
       "      <td>$1.40</td>\n",
       "      <td>$0.77</td>\n",
       "      <td>$0.54</td>\n",
       "      <td>$0.37</td>\n",
       "      <td>$0.63</td>\n",
       "    </tr>\n",
       "    <tr>\n",
       "      <th>1</th>\n",
       "      <td>NS10  Admiralty</td>\n",
       "      <td>EW9   Aljunied</td>\n",
       "      <td>42</td>\n",
       "      <td>$2.50</td>\n",
       "      <td>$1.85</td>\n",
       "      <td>$0.87</td>\n",
       "      <td>$0.58</td>\n",
       "      <td>$1.51</td>\n",
       "    </tr>\n",
       "    <tr>\n",
       "      <th>2</th>\n",
       "      <td>NS10  Admiralty</td>\n",
       "      <td>NS16   Ang Mo Kio</td>\n",
       "      <td>17</td>\n",
       "      <td>$2.20</td>\n",
       "      <td>$1.49</td>\n",
       "      <td>$0.87</td>\n",
       "      <td>$0.58</td>\n",
       "      <td>$1.21</td>\n",
       "    </tr>\n",
       "    <tr>\n",
       "      <th>3</th>\n",
       "      <td>NS10  Admiralty</td>\n",
       "      <td>SE3   Bakau</td>\n",
       "      <td>53</td>\n",
       "      <td>$2.50</td>\n",
       "      <td>$1.87</td>\n",
       "      <td>$0.87</td>\n",
       "      <td>$0.58</td>\n",
       "      <td>$1.52</td>\n",
       "    </tr>\n",
       "    <tr>\n",
       "      <th>4</th>\n",
       "      <td>NS10  Admiralty</td>\n",
       "      <td>BP9   Bangkit</td>\n",
       "      <td>26</td>\n",
       "      <td>$2.20</td>\n",
       "      <td>$1.53</td>\n",
       "      <td>$0.87</td>\n",
       "      <td>$0.58</td>\n",
       "      <td>$1.24</td>\n",
       "    </tr>\n",
       "  </tbody>\n",
       "</table>\n",
       "</div>"
      ],
      "text/plain": [
       "     Station_start        Station_end Time Standard  Adult Senior Student  \\\n",
       "0  NS10  Admiralty   NS10   Admiralty    0    $1.40  $0.77  $0.54   $0.37   \n",
       "1  NS10  Admiralty     EW9   Aljunied   42    $2.50  $1.85  $0.87   $0.58   \n",
       "2  NS10  Admiralty  NS16   Ang Mo Kio   17    $2.20  $1.49  $0.87   $0.58   \n",
       "3  NS10  Admiralty        SE3   Bakau   53    $2.50  $1.87  $0.87   $0.58   \n",
       "4  NS10  Admiralty      BP9   Bangkit   26    $2.20  $1.53  $0.87   $0.58   \n",
       "\n",
       "    WTCS  \n",
       "0  $0.63  \n",
       "1  $1.51  \n",
       "2  $1.21  \n",
       "3  $1.52  \n",
       "4  $1.24  "
      ]
     },
     "execution_count": 26,
     "metadata": {},
     "output_type": "execute_result"
    }
   ],
   "source": [
    "df.head()"
   ]
  },
  {
   "cell_type": "code",
   "execution_count": 27,
   "metadata": {},
   "outputs": [
    {
     "data": {
      "text/html": [
       "<div>\n",
       "<table border=\"1\" class=\"dataframe\">\n",
       "  <thead>\n",
       "    <tr style=\"text-align: right;\">\n",
       "      <th></th>\n",
       "      <th>Station_start</th>\n",
       "      <th>Station_end</th>\n",
       "      <th>Time</th>\n",
       "      <th>Standard</th>\n",
       "      <th>Adult</th>\n",
       "      <th>Senior</th>\n",
       "      <th>Student</th>\n",
       "      <th>WTCS</th>\n",
       "    </tr>\n",
       "  </thead>\n",
       "  <tbody>\n",
       "    <tr>\n",
       "      <th>5</th>\n",
       "      <td>NS10  Admiralty</td>\n",
       "      <td>CC12   Bartley</td>\n",
       "      <td>30</td>\n",
       "      <td>$2.40</td>\n",
       "      <td>$1.72</td>\n",
       "      <td>$0.87</td>\n",
       "      <td>$0.58</td>\n",
       "      <td>$1.39</td>\n",
       "    </tr>\n",
       "    <tr>\n",
       "      <th>6</th>\n",
       "      <td>NS10  Admiralty</td>\n",
       "      <td>CE1  DT16   Bayfront</td>\n",
       "      <td>40</td>\n",
       "      <td>$2.50</td>\n",
       "      <td>$1.87</td>\n",
       "      <td>$0.87</td>\n",
       "      <td>$0.58</td>\n",
       "      <td>$1.52</td>\n",
       "    </tr>\n",
       "    <tr>\n",
       "      <th>7</th>\n",
       "      <td>NS10  Admiralty</td>\n",
       "      <td>DT5   Beauty World</td>\n",
       "      <td>35</td>\n",
       "      <td>$2.30</td>\n",
       "      <td>$1.65</td>\n",
       "      <td>$0.87</td>\n",
       "      <td>$0.58</td>\n",
       "      <td>$1.33</td>\n",
       "    </tr>\n",
       "    <tr>\n",
       "      <th>8</th>\n",
       "      <td>NS10  Admiralty</td>\n",
       "      <td>EW5   Bedok</td>\n",
       "      <td>46</td>\n",
       "      <td>$2.50</td>\n",
       "      <td>$1.89</td>\n",
       "      <td>$0.87</td>\n",
       "      <td>$0.58</td>\n",
       "      <td>$1.54</td>\n",
       "    </tr>\n",
       "    <tr>\n",
       "      <th>9</th>\n",
       "      <td>NS10  Admiralty</td>\n",
       "      <td>DT29   Bedok North</td>\n",
       "      <td>43</td>\n",
       "      <td>$2.50</td>\n",
       "      <td>$1.87</td>\n",
       "      <td>$0.87</td>\n",
       "      <td>$0.58</td>\n",
       "      <td>$1.52</td>\n",
       "    </tr>\n",
       "  </tbody>\n",
       "</table>\n",
       "</div>"
      ],
      "text/plain": [
       "     Station_start           Station_end Time Standard  Adult Senior Student  \\\n",
       "5  NS10  Admiralty        CC12   Bartley   30    $2.40  $1.72  $0.87   $0.58   \n",
       "6  NS10  Admiralty  CE1  DT16   Bayfront   40    $2.50  $1.87  $0.87   $0.58   \n",
       "7  NS10  Admiralty    DT5   Beauty World   35    $2.30  $1.65  $0.87   $0.58   \n",
       "8  NS10  Admiralty           EW5   Bedok   46    $2.50  $1.89  $0.87   $0.58   \n",
       "9  NS10  Admiralty    DT29   Bedok North   43    $2.50  $1.87  $0.87   $0.58   \n",
       "\n",
       "    WTCS  \n",
       "5  $1.39  \n",
       "6  $1.52  \n",
       "7  $1.33  \n",
       "8  $1.54  \n",
       "9  $1.52  "
      ]
     },
     "execution_count": 27,
     "metadata": {},
     "output_type": "execute_result"
    }
   ],
   "source": [
    "df.tail()"
   ]
  },
  {
   "cell_type": "code",
   "execution_count": 28,
   "metadata": {
    "collapsed": true,
    "scrolled": true
   },
   "outputs": [],
   "source": [
    "df.to_csv('mrtfare051018.csv', encoding = 'utf-8')"
   ]
  }
 ],
 "metadata": {
  "kernelspec": {
   "display_name": "Python 2",
   "language": "python",
   "name": "python2"
  },
  "language_info": {
   "codemirror_mode": {
    "name": "ipython",
    "version": 2
   },
   "file_extension": ".py",
   "mimetype": "text/x-python",
   "name": "python",
   "nbconvert_exporter": "python",
   "pygments_lexer": "ipython2",
   "version": "2.7.13"
  }
 },
 "nbformat": 4,
 "nbformat_minor": 2
}
