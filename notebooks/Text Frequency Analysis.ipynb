{
 "cells": [
  {
   "cell_type": "markdown",
   "metadata": {},
   "source": [
    "#### This exercise demonstrates how to get the frequency distribution of words used in a chunk of text. The dataset used can be found [here](https://github.com/hxchua/datadoubleconfirm/blob/master/datasets/DisneySongs25.csv). "
   ]
  },
  {
   "cell_type": "code",
   "execution_count": 1,
   "metadata": {
    "collapsed": true
   },
   "outputs": [],
   "source": [
    "textdata<-read.csv(\"C:/Users/HuiXiang/Documents/DisneySongs25.csv\",header=T)"
   ]
  },
  {
   "cell_type": "code",
   "execution_count": 2,
   "metadata": {},
   "outputs": [
    {
     "data": {
      "text/html": [
       "<table>\n",
       "<thead><tr><th scope=col>Rank</th><th scope=col>Song.Title</th><th scope=col>Movie</th><th scope=col>Year</th><th scope=col>Lyrics</th></tr></thead>\n",
       "<tbody>\n",
       "\t<tr><td>25                                                                                                                                                                                                                                                                                                                                                                                                                                                                                                                                                                                                                                                                                                                                                                                                                                                                                                                                                                                                                                                                                                                                                                                                                                                                                                                                                                                                                                                                                                                                                                                                                                                                                                                                                                                         </td><td>Go the Distance                                                                                                                                                                                                                                                                                                                                                                                                                                                                                                                                                                                                                                                                                                                                                                                                                                                                                                                                                                                                                                                                                                                                                                                                                                                                                                                                                                                                                                                                                                                                                                                                                                                                                                                                                                            </td><td>Hercules                                                                                                                                                                                                                                                                                                                                                                                                                                                                                                                                                                                                                                                                                                                                                                                                                                                                                                                                                                                                                                                                                                                                                                                                                                                                                                                                                                                                                                                                                                                                                                                                                                                                                                                                                                                   </td><td>1997                                                                                                                                                                                                                                                                                                                                                                                                                                                                                                                                                                                                                                                                                                                                                                                                                                                                                                                                                                                                                                                                                                                                                                                                                                                                                                                                                                                                                                                                                                                                                                                                                                                                                                                                                                                       </td><td>I have often dreamed of a far off place Where a hero's welcome would be waiting for me Where the crowds would cheer, when they see my face And a voice keeps saying this is where I'm meant to be  I'll be there someday, I can go the distance I will find my way if I can be strong I know every mile would be worth my while When I go the distance, I'll be right where I belong  Down an unknown road to embrace my fate Though that road may wander, it will lead me to you And a thousand years would be worth the wait It might take a lifetime but somehow I'll see it through  And I won't look back, I can go the distance And I'll stay on track, no I won't accept defeat It's an uphill slope But I won't loose hope, 'till I go the distance And my journey is complete, oh yeah  But to look beyond the glory is the hardest part For a hero's strength is measured by his heart, oh  Like a shooting star, I will go the distance I will search the world, I will face its harms I don't care how far, I can go the distance 'Till I find my hero's welcome waiting in your arms  I will search the world, I will face its harms 'Till I find my hero's welcome waiting in your arms                                                                                                                                                                                                                                                                                                                                                                                                                                                                                                                                                                                      </td></tr>\n",
       "\t<tr><td>24                                                                                                                                                                                                                                                                                                                                                                                                                                                                                                                                                                                                                                                                                                                                                                                                                                                                                                                                                                                                                                                                                                                                                                                                                                                                                                                                                                                                                                                                                                                                                                                                                                                                                                                                                                                         </td><td>I 2 I                                                                                                                                                                                                                                                                                                                                                                                                                                                                                                                                                                                                                                                                                                                                                                                                                                                                                                                                                                                                                                                                                                                                                                                                                                                                                                                                                                                                                                                                                                                                                                                                                                                                                                                                                                                      </td><td>A Goofy Movie                                                                                                                                                                                                                                                                                                                                                                                                                                                                                                                                                                                                                                                                                                                                                                                                                                                                                                                                                                                                                                                                                                                                                                                                                                                                                                                                                                                                                                                                                                                                                                                                                                                                                                                                                                              </td><td>1995                                                                                                                                                                                                                                                                                                                                                                                                                                                                                                                                                                                                                                                                                                                                                                                                                                                                                                                                                                                                                                                                                                                                                                                                                                                                                                                                                                                                                                                                                                                                                                                                                                                                                                                                                                                       </td><td>Hey yeah I got myself a notion One I know that you'll understand We set the world in motion By reaching out for each other's hand  Maybe we'll discover What we should have known all along One way or another Together's where we both belong  If we listen to each other's heart We'll find we're never too far apart And maybe love is the reason why For the first time ever, we're seein' it I-2-I  If a wall should come between us Too high to climb, too hard to break through I know that love will lead us And find a way to bring me to you  So don't be in a hurry Think before you count us out You don't have to worry I won't ever let you drown (Nothing's gonna stop us now)  If we listen to each other's heart We'll find we're never too far apart And maybe love is the reason why For the first time ever, we're seein' it I-2-I  Love is why we're seein' it I-2-I (Yes, we are seein' it I-2-I) Seein' it I-2 (Love is why we're seein' it) I think we're seein' it I-2-I (I-2-I) I-2-I We're seein' it I-2-I (I-2-I!)  If you're ever lonely, stop! You don't have to be After all, it's only a beat away from you to me (Take a look inside to see)  If we listen to each other's heart We'll find we're never too far apart And maybe love is the reason why For the first time ever, we're seein' it I-2-I  If we listen to each other's heart We'll find we're never too far apart And maybe love is the reason why For the first time ever, we're seein' it I-2-I  Seein' it I-2 Seein' it I-2-I We're seein' it I-2-I, baby For the first time For the first time  I-2-I Seein't it Seein' it, baby Seein' it I-2-I For the first time ever Yeah, yeah, yeah Yeah, baby We're seein' it I-2-I Seein' it (Come on, baby)  I-2-I I-2-I I-2-I I-2-I Yeah I-2-I!</td></tr>\n",
       "\t<tr><td>23                                                                                                                                                                                                                                                                                                                                                                                                                                                                                                                                                                                                                                                                                                                                                                                                                                                                                                                                                                                                                                                                                                                                                                                                                                                                                                                                                                                                                                                                                                                                                                                                                                                                                                                                                                                         </td><td>Everybody Wants to be a Cat                                                                                                                                                                                                                                                                                                                                                                                                                                                                                                                                                                                                                                                                                                                                                                                                                                                                                                                                                                                                                                                                                                                                                                                                                                                                                                                                                                                                                                                                                                                                                                                                                                                                                                                                                                </td><td>The Aristocats                                                                                                                                                                                                                                                                                                                                                                                                                                                                                                                                                                                                                                                                                                                                                                                                                                                                                                                                                                                                                                                                                                                                                                                                                                                                                                                                                                                                                                                                                                                                                                                                                                                                                                                                                                             </td><td>1970                                                                                                                                                                                                                                                                                                                                                                                                                                                                                                                                                                                                                                                                                                                                                                                                                                                                                                                                                                                                                                                                                                                                                                                                                                                                                                                                                                                                                                                                                                                                                                                                                                                                                                                                                                                       </td><td>Everybody wants to be a cat Because a cat's the only cat who knows where it's at Everybody's pickin' up on that feline beat 'cause everything else is obsolete  A square with a horn Makes you wish you weren't born Every time he plays But with a square in the act You can set music back To the caveman days  I've heard some corny birds who tried to sing Still a cat's the only cat Who knows how to swing Who wants to dig a long-haired gig stuff like that? When everybody wants to be a cat  A square with a horn Makes you wish you weren't born Every time he plays With a square in the act You can set music back to the caveman days  Everybody wants to be a cat Because a cat's the only cat who knows where it's at When playin' jazz he always has a welcome mat 'cause everybody digs a swingin' cat  Everybody, everybody Everybody wants to be a cat  Everybody, everybody Everybody wants to be a cat  Everybody, everybody Everybody wants to be a cat                                                                                                                                                                                                                                                                                                                                                                                                                                                                                                                                                                                                                                                                                                                                                                                                            </td></tr>\n",
       "\t<tr><td>22                                                                                                                                                                                                                                                                                                                                                                                                                                                                                                                                                                                                                                                                                                                                                                                                                                                                                                                                                                                                                                                                                                                                                                                                                                                                                                                                                                                                                                                                                                                                                                                                                                                                                                                                                                                                                                 </td><td><span style=white-space:pre-wrap>Beauty &amp; the Beast         </span>                                                                                                                                                                                                                                                                                                                                                                                                                                                                                                                                                                                                                                                                                                                                                                                                                                                                                                                                                                                                                                                                                                                                                                                                                                                                                                                                                                                                                                                                                                                                                                                                                                                                                                                                                            </td><td>Beauty &amp; the Beast                                                                                                                                                                                                                                                                                                                                                                                                                                                                                                                                                                                                                                                                                                                                                                                                                                                                                                                                                                                                                                                                                                                                                                                                                                                                                                                                                                                                                                                                                                                                                                                                                                                                                                                                                                                                             </td><td>1991                                                                                                                                                                                                                                                                                                                                                                                                                                                                                                                                                                                                                                                                                                                                                                                                                                                                                                                                                                                                                                                                                                                                                                                                                                                                                                                                                                                                                                                                                                                                                                                                                                                                                                                                                                                                                               </td><td><span style=white-space:pre-wrap>Tale as old as time True as it can be Barely even friends Then somebody bends Unexpectedly  Just a little change Small to say the least Both a little scared Neither one prepared Beauty and the Beast  Ever just the same Ever a surprise Ever as before Ever just as sure As the sun will rise  Tale as old as time Tune as old as song Bittersweet and strange Finding you can change Learning you were wrong  Certain as the sun Rising in the east Tale as old as time Song as old as rhyme Beauty and the Beast  Tale as old as time Song as old as rhyme Beauty and the Beast                                                                                                                                                                                                                                                                                                                                                                                                                                                                                                                                                                                                                                                                                                                                                                                                                                                                                                                                                                                                                                                                                                                                                                                                       </span></td></tr>\n",
       "\t<tr><td>21                                                                                                                                                                                                                                                                                                                                                                                                                                                                                                                                                                                                                                                                                                                                                                                                                                                                                                                                                                                                                                                                                                                                                                                                                                                                                                                                                                                                                                                                                                                                                                                                                                                                                                                                                                                         </td><td>Man Out of You                                                                                                                                                                                                                                                                                                                                                                                                                                                                                                                                                                                                                                                                                                                                                                                                                                                                                                                                                                                                                                                                                                                                                                                                                                                                                                                                                                                                                                                                                                                                                                                                                                                                                                                                                                             </td><td>Mulan                                                                                                                                                                                                                                                                                                                                                                                                                                                                                                                                                                                                                                                                                                                                                                                                                                                                                                                                                                                                                                                                                                                                                                                                                                                                                                                                                                                                                                                                                                                                                                                                                                                                                                                                                                                      </td><td>1998                                                                                                                                                                                                                                                                                                                                                                                                                                                                                                                                                                                                                                                                                                                                                                                                                                                                                                                                                                                                                                                                                                                                                                                                                                                                                                                                                                                                                                                                                                                                                                                                                                                                                                                                                                                       </td><td>Let's get down to business To defeat the Huns Did they send me daughters when I asked for sons? You're the saddest bunch I ever met But you can bet before we're through Mister, I'll make a man out of you  Tranquil as a forest But on fire within Once you find your center You are sure to win You're a spineless, pale, pathetic lot And you haven't got a clue Somehow I'll make a man out of you  I'm never gonna catch my breath Say goodbye to those who knew me Boy, was I a fool in school for cutting gym This guy's got 'em scared to death Hope he doesn't see right through me Now I really wish that I knew how to swim  Be a man We must be swift as a coursing river Be a man With all the force of a great typhoon Be a man With all the strength of a raging fire Mysterious as the dark side of the moon  Time is racing toward us till the Huns arrive Heed my every order and you might survive You're unsuited for the rage of war So pack up, go home you're through How could I make a man out of you?                                                                                                                                                                                                                                                                                                                                                                                                                                                                                                                                                                                                                                                                                                                                                           </td></tr>\n",
       "\t<tr><td>20                                                                                                                                                                                                                                                                                                                                                                                                                                                                                                                                                                                                                                                                                                                                                                                                                                                                                                                                                                                                                                                                                                                                                                                                                                                                                                                                                                                                                                                                                                                                                                                                                                                                                                                                                                                         </td><td>Cruella de Vil                                                                                                                                                                                                                                                                                                                                                                                                                                                                                                                                                                                                                                                                                                                                                                                                                                                                                                                                                                                                                                                                                                                                                                                                                                                                                                                                                                                                                                                                                                                                                                                                                                                                                                                                                                             </td><td>101 Dalamatians                                                                                                                                                                                                                                                                                                                                                                                                                                                                                                                                                                                                                                                                                                                                                                                                                                                                                                                                                                                                                                                                                                                                                                                                                                                                                                                                                                                                                                                                                                                                                                                                                                                                                                                                                                            </td><td>1961                                                                                                                                                                                                                                                                                                                                                                                                                                                                                                                                                                                                                                                                                                                                                                                                                                                                                                                                                                                                                                                                                                                                                                                                                                                                                                                                                                                                                                                                                                                                                                                                                                                                                                                                                                                       </td><td>Cruella De Vil Cruella De Vil If she doesn't scare you No evil thing will To see her is to take a sudden chill Cruella, Cruella She's like a spider waiting for the kill Look out for Cruella De Vil  At first you think Cruella is a devil But after time has worn away the shock You come to realize You've seen her kind of eyes Watching you from underneath a rock  This vampire bat, this inhuman beast She ought to be locked up and never released The world was such a wholesome place until Cruella, Cruella De Vil                                                                                                                                                                                                                                                                                                                                                                                                                                                                                                                                                                                                                                                                                                                                                                                                                                                                                                                                                                                                                                                                                                                                                                                                                                                              </td></tr>\n",
       "</tbody>\n",
       "</table>\n"
      ],
      "text/latex": [
       "\\begin{tabular}{r|lllll}\n",
       " Rank & Song.Title & Movie & Year & Lyrics\\\\\n",
       "\\hline\n",
       "\t 25                                                                                                                                                                                                                                                                                                                                                                                                                                                                                                                                                                                                                                                                                                                                                                                                                                                                                                                                                                                                                                                                                                                                                                                                                                                                                                                                                                                                                                                                                                                                                                                                                                                                                                                                                                                          & Go the Distance                                                                                                                                                                                                                                                                                                                                                                                                                                                                                                                                                                                                                                                                                                                                                                                                                                                                                                                                                                                                                                                                                                                                                                                                                                                                                                                                                                                                                                                                                                                                                                                                                                                                                                                                                                             & Hercules                                                                                                                                                                                                                                                                                                                                                                                                                                                                                                                                                                                                                                                                                                                                                                                                                                                                                                                                                                                                                                                                                                                                                                                                                                                                                                                                                                                                                                                                                                                                                                                                                                                                                                                                                                                    & 1997                                                                                                                                                                                                                                                                                                                                                                                                                                                                                                                                                                                                                                                                                                                                                                                                                                                                                                                                                                                                                                                                                                                                                                                                                                                                                                                                                                                                                                                                                                                                                                                                                                                                                                                                                                                        & I have often dreamed of a far off place Where a hero's welcome would be waiting for me Where the crowds would cheer, when they see my face And a voice keeps saying this is where I'm meant to be  I'll be there someday, I can go the distance I will find my way if I can be strong I know every mile would be worth my while When I go the distance, I'll be right where I belong  Down an unknown road to embrace my fate Though that road may wander, it will lead me to you And a thousand years would be worth the wait It might take a lifetime but somehow I'll see it through  And I won't look back, I can go the distance And I'll stay on track, no I won't accept defeat It's an uphill slope But I won't loose hope, 'till I go the distance And my journey is complete, oh yeah  But to look beyond the glory is the hardest part For a hero's strength is measured by his heart, oh  Like a shooting star, I will go the distance I will search the world, I will face its harms I don't care how far, I can go the distance 'Till I find my hero's welcome waiting in your arms  I will search the world, I will face its harms 'Till I find my hero's welcome waiting in your arms                                                                                                                                                                                                                                                                                                                                                                                                                                                                                                                                                                                      \\\\\n",
       "\t 24                                                                                                                                                                                                                                                                                                                                                                                                                                                                                                                                                                                                                                                                                                                                                                                                                                                                                                                                                                                                                                                                                                                                                                                                                                                                                                                                                                                                                                                                                                                                                                                                                                                                                                                                                                                          & I 2 I                                                                                                                                                                                                                                                                                                                                                                                                                                                                                                                                                                                                                                                                                                                                                                                                                                                                                                                                                                                                                                                                                                                                                                                                                                                                                                                                                                                                                                                                                                                                                                                                                                                                                                                                                                                       & A Goofy Movie                                                                                                                                                                                                                                                                                                                                                                                                                                                                                                                                                                                                                                                                                                                                                                                                                                                                                                                                                                                                                                                                                                                                                                                                                                                                                                                                                                                                                                                                                                                                                                                                                                                                                                                                                                               & 1995                                                                                                                                                                                                                                                                                                                                                                                                                                                                                                                                                                                                                                                                                                                                                                                                                                                                                                                                                                                                                                                                                                                                                                                                                                                                                                                                                                                                                                                                                                                                                                                                                                                                                                                                                                                        & Hey yeah I got myself a notion One I know that you'll understand We set the world in motion By reaching out for each other's hand  Maybe we'll discover What we should have known all along One way or another Together's where we both belong  If we listen to each other's heart We'll find we're never too far apart And maybe love is the reason why For the first time ever, we're seein' it I-2-I  If a wall should come between us Too high to climb, too hard to break through I know that love will lead us And find a way to bring me to you  So don't be in a hurry Think before you count us out You don't have to worry I won't ever let you drown (Nothing's gonna stop us now)  If we listen to each other's heart We'll find we're never too far apart And maybe love is the reason why For the first time ever, we're seein' it I-2-I  Love is why we're seein' it I-2-I (Yes, we are seein' it I-2-I) Seein' it I-2 (Love is why we're seein' it) I think we're seein' it I-2-I (I-2-I) I-2-I We're seein' it I-2-I (I-2-I!)  If you're ever lonely, stop! You don't have to be After all, it's only a beat away from you to me (Take a look inside to see)  If we listen to each other's heart We'll find we're never too far apart And maybe love is the reason why For the first time ever, we're seein' it I-2-I  If we listen to each other's heart We'll find we're never too far apart And maybe love is the reason why For the first time ever, we're seein' it I-2-I  Seein' it I-2 Seein' it I-2-I We're seein' it I-2-I, baby For the first time For the first time  I-2-I Seein't it Seein' it, baby Seein' it I-2-I For the first time ever Yeah, yeah, yeah Yeah, baby We're seein' it I-2-I Seein' it (Come on, baby)  I-2-I I-2-I I-2-I I-2-I Yeah I-2-I!\\\\\n",
       "\t 23                                                                                                                                                                                                                                                                                                                                                                                                                                                                                                                                                                                                                                                                                                                                                                                                                                                                                                                                                                                                                                                                                                                                                                                                                                                                                                                                                                                                                                                                                                                                                                                                                                                                                                                                                                                          & Everybody Wants to be a Cat                                                                                                                                                                                                                                                                                                                                                                                                                                                                                                                                                                                                                                                                                                                                                                                                                                                                                                                                                                                                                                                                                                                                                                                                                                                                                                                                                                                                                                                                                                                                                                                                                                                                                                                                                                 & The Aristocats                                                                                                                                                                                                                                                                                                                                                                                                                                                                                                                                                                                                                                                                                                                                                                                                                                                                                                                                                                                                                                                                                                                                                                                                                                                                                                                                                                                                                                                                                                                                                                                                                                                                                                                                                                              & 1970                                                                                                                                                                                                                                                                                                                                                                                                                                                                                                                                                                                                                                                                                                                                                                                                                                                                                                                                                                                                                                                                                                                                                                                                                                                                                                                                                                                                                                                                                                                                                                                                                                                                                                                                                                                        & Everybody wants to be a cat Because a cat's the only cat who knows where it's at Everybody's pickin' up on that feline beat 'cause everything else is obsolete  A square with a horn Makes you wish you weren't born Every time he plays But with a square in the act You can set music back To the caveman days  I've heard some corny birds who tried to sing Still a cat's the only cat Who knows how to swing Who wants to dig a long-haired gig stuff like that? When everybody wants to be a cat  A square with a horn Makes you wish you weren't born Every time he plays With a square in the act You can set music back to the caveman days  Everybody wants to be a cat Because a cat's the only cat who knows where it's at When playin' jazz he always has a welcome mat 'cause everybody digs a swingin' cat  Everybody, everybody Everybody wants to be a cat  Everybody, everybody Everybody wants to be a cat  Everybody, everybody Everybody wants to be a cat                                                                                                                                                                                                                                                                                                                                                                                                                                                                                                                                                                                                                                                                                                                                                                                                            \\\\\n",
       "\t 22                                                                                                                                                                                                                                                                                                                                                                                                                                                                                                                                                                                                                                                                                                                                                                                                                                                                                                                                                                                                                                                                                                                                                                                                                                                                                                                                                                                                                                                                                                                                                                                                                                                                                                                                                                                          & Beauty \\& the Beast                                                                                                                                                                                                                                                                                                                                                                                                                                                                                                                                                                                                                                                                                                                                                                                                                                                                                                                                                                                                                                                                                                                                                                                                                                                                                                                                                                                                                                                                                                                                                                                                                                                                                                                                                                        & Beauty \\& the Beast                                                                                                                                                                                                                                                                                                                                                                                                                                                                                                                                                                                                                                                                                                                                                                                                                                                                                                                                                                                                                                                                                                                                                                                                                                                                                                                                                                                                                                                                                                                                                                                                                                                                                                                                                                        & 1991                                                                                                                                                                                                                                                                                                                                                                                                                                                                                                                                                                                                                                                                                                                                                                                                                                                                                                                                                                                                                                                                                                                                                                                                                                                                                                                                                                                                                                                                                                                                                                                                                                                                                                                                                                                        & Tale as old as time True as it can be Barely even friends Then somebody bends Unexpectedly  Just a little change Small to say the least Both a little scared Neither one prepared Beauty and the Beast  Ever just the same Ever a surprise Ever as before Ever just as sure As the sun will rise  Tale as old as time Tune as old as song Bittersweet and strange Finding you can change Learning you were wrong  Certain as the sun Rising in the east Tale as old as time Song as old as rhyme Beauty and the Beast  Tale as old as time Song as old as rhyme Beauty and the Beast                                                                                                                                                                                                                                                                                                                                                                                                                                                                                                                                                                                                                                                                                                                                                                                                                                                                                                                                                                                                                                                                                                                                                                                                       \\\\\n",
       "\t 21                                                                                                                                                                                                                                                                                                                                                                                                                                                                                                                                                                                                                                                                                                                                                                                                                                                                                                                                                                                                                                                                                                                                                                                                                                                                                                                                                                                                                                                                                                                                                                                                                                                                                                                                                                                          & Man Out of You                                                                                                                                                                                                                                                                                                                                                                                                                                                                                                                                                                                                                                                                                                                                                                                                                                                                                                                                                                                                                                                                                                                                                                                                                                                                                                                                                                                                                                                                                                                                                                                                                                                                                                                                                                              & Mulan                                                                                                                                                                                                                                                                                                                                                                                                                                                                                                                                                                                                                                                                                                                                                                                                                                                                                                                                                                                                                                                                                                                                                                                                                                                                                                                                                                                                                                                                                                                                                                                                                                                                                                                                                                                       & 1998                                                                                                                                                                                                                                                                                                                                                                                                                                                                                                                                                                                                                                                                                                                                                                                                                                                                                                                                                                                                                                                                                                                                                                                                                                                                                                                                                                                                                                                                                                                                                                                                                                                                                                                                                                                        & Let's get down to business To defeat the Huns Did they send me daughters when I asked for sons? You're the saddest bunch I ever met But you can bet before we're through Mister, I'll make a man out of you  Tranquil as a forest But on fire within Once you find your center You are sure to win You're a spineless, pale, pathetic lot And you haven't got a clue Somehow I'll make a man out of you  I'm never gonna catch my breath Say goodbye to those who knew me Boy, was I a fool in school for cutting gym This guy's got 'em scared to death Hope he doesn't see right through me Now I really wish that I knew how to swim  Be a man We must be swift as a coursing river Be a man With all the force of a great typhoon Be a man With all the strength of a raging fire Mysterious as the dark side of the moon  Time is racing toward us till the Huns arrive Heed my every order and you might survive You're unsuited for the rage of war So pack up, go home you're through How could I make a man out of you?                                                                                                                                                                                                                                                                                                                                                                                                                                                                                                                                                                                                                                                                                                                                                           \\\\\n",
       "\t 20                                                                                                                                                                                                                                                                                                                                                                                                                                                                                                                                                                                                                                                                                                                                                                                                                                                                                                                                                                                                                                                                                                                                                                                                                                                                                                                                                                                                                                                                                                                                                                                                                                                                                                                                                                                          & Cruella de Vil                                                                                                                                                                                                                                                                                                                                                                                                                                                                                                                                                                                                                                                                                                                                                                                                                                                                                                                                                                                                                                                                                                                                                                                                                                                                                                                                                                                                                                                                                                                                                                                                                                                                                                                                                                              & 101 Dalamatians                                                                                                                                                                                                                                                                                                                                                                                                                                                                                                                                                                                                                                                                                                                                                                                                                                                                                                                                                                                                                                                                                                                                                                                                                                                                                                                                                                                                                                                                                                                                                                                                                                                                                                                                                                             & 1961                                                                                                                                                                                                                                                                                                                                                                                                                                                                                                                                                                                                                                                                                                                                                                                                                                                                                                                                                                                                                                                                                                                                                                                                                                                                                                                                                                                                                                                                                                                                                                                                                                                                                                                                                                                        & Cruella De Vil Cruella De Vil If she doesn't scare you No evil thing will To see her is to take a sudden chill Cruella, Cruella She's like a spider waiting for the kill Look out for Cruella De Vil  At first you think Cruella is a devil But after time has worn away the shock You come to realize You've seen her kind of eyes Watching you from underneath a rock  This vampire bat, this inhuman beast She ought to be locked up and never released The world was such a wholesome place until Cruella, Cruella De Vil                                                                                                                                                                                                                                                                                                                                                                                                                                                                                                                                                                                                                                                                                                                                                                                                                                                                                                                                                                                                                                                                                                                                                                                                                                                              \\\\\n",
       "\\end{tabular}\n"
      ],
      "text/markdown": [
       "\n",
       "Rank | Song.Title | Movie | Year | Lyrics | \n",
       "|---|---|---|---|---|---|\n",
       "| 25                                                                                                                                                                                                                                                                                                                                                                                                                                                                                                                                                                                                                                                                                                                                                                                                                                                                                                                                                                                                                                                                                                                                                                                                                                                                                                                                                                                                                                                                                                                                                                                                                                                                                                                                                                                          | Go the Distance                                                                                                                                                                                                                                                                                                                                                                                                                                                                                                                                                                                                                                                                                                                                                                                                                                                                                                                                                                                                                                                                                                                                                                                                                                                                                                                                                                                                                                                                                                                                                                                                                                                                                                                                                                             | Hercules                                                                                                                                                                                                                                                                                                                                                                                                                                                                                                                                                                                                                                                                                                                                                                                                                                                                                                                                                                                                                                                                                                                                                                                                                                                                                                                                                                                                                                                                                                                                                                                                                                                                                                                                                                                    | 1997                                                                                                                                                                                                                                                                                                                                                                                                                                                                                                                                                                                                                                                                                                                                                                                                                                                                                                                                                                                                                                                                                                                                                                                                                                                                                                                                                                                                                                                                                                                                                                                                                                                                                                                                                                                        | I have often dreamed of a far off place Where a hero's welcome would be waiting for me Where the crowds would cheer, when they see my face And a voice keeps saying this is where I'm meant to be  I'll be there someday, I can go the distance I will find my way if I can be strong I know every mile would be worth my while When I go the distance, I'll be right where I belong  Down an unknown road to embrace my fate Though that road may wander, it will lead me to you And a thousand years would be worth the wait It might take a lifetime but somehow I'll see it through  And I won't look back, I can go the distance And I'll stay on track, no I won't accept defeat It's an uphill slope But I won't loose hope, 'till I go the distance And my journey is complete, oh yeah  But to look beyond the glory is the hardest part For a hero's strength is measured by his heart, oh  Like a shooting star, I will go the distance I will search the world, I will face its harms I don't care how far, I can go the distance 'Till I find my hero's welcome waiting in your arms  I will search the world, I will face its harms 'Till I find my hero's welcome waiting in your arms                                                                                                                                                                                                                                                                                                                                                                                                                                                                                                                                                                                       | \n",
       "| 24                                                                                                                                                                                                                                                                                                                                                                                                                                                                                                                                                                                                                                                                                                                                                                                                                                                                                                                                                                                                                                                                                                                                                                                                                                                                                                                                                                                                                                                                                                                                                                                                                                                                                                                                                                                          | I 2 I                                                                                                                                                                                                                                                                                                                                                                                                                                                                                                                                                                                                                                                                                                                                                                                                                                                                                                                                                                                                                                                                                                                                                                                                                                                                                                                                                                                                                                                                                                                                                                                                                                                                                                                                                                                       | A Goofy Movie                                                                                                                                                                                                                                                                                                                                                                                                                                                                                                                                                                                                                                                                                                                                                                                                                                                                                                                                                                                                                                                                                                                                                                                                                                                                                                                                                                                                                                                                                                                                                                                                                                                                                                                                                                               | 1995                                                                                                                                                                                                                                                                                                                                                                                                                                                                                                                                                                                                                                                                                                                                                                                                                                                                                                                                                                                                                                                                                                                                                                                                                                                                                                                                                                                                                                                                                                                                                                                                                                                                                                                                                                                        | Hey yeah I got myself a notion One I know that you'll understand We set the world in motion By reaching out for each other's hand  Maybe we'll discover What we should have known all along One way or another Together's where we both belong  If we listen to each other's heart We'll find we're never too far apart And maybe love is the reason why For the first time ever, we're seein' it I-2-I  If a wall should come between us Too high to climb, too hard to break through I know that love will lead us And find a way to bring me to you  So don't be in a hurry Think before you count us out You don't have to worry I won't ever let you drown (Nothing's gonna stop us now)  If we listen to each other's heart We'll find we're never too far apart And maybe love is the reason why For the first time ever, we're seein' it I-2-I  Love is why we're seein' it I-2-I (Yes, we are seein' it I-2-I) Seein' it I-2 (Love is why we're seein' it) I think we're seein' it I-2-I (I-2-I) I-2-I We're seein' it I-2-I (I-2-I!)  If you're ever lonely, stop! You don't have to be After all, it's only a beat away from you to me (Take a look inside to see)  If we listen to each other's heart We'll find we're never too far apart And maybe love is the reason why For the first time ever, we're seein' it I-2-I  If we listen to each other's heart We'll find we're never too far apart And maybe love is the reason why For the first time ever, we're seein' it I-2-I  Seein' it I-2 Seein' it I-2-I We're seein' it I-2-I, baby For the first time For the first time  I-2-I Seein't it Seein' it, baby Seein' it I-2-I For the first time ever Yeah, yeah, yeah Yeah, baby We're seein' it I-2-I Seein' it (Come on, baby)  I-2-I I-2-I I-2-I I-2-I Yeah I-2-I! | \n",
       "| 23                                                                                                                                                                                                                                                                                                                                                                                                                                                                                                                                                                                                                                                                                                                                                                                                                                                                                                                                                                                                                                                                                                                                                                                                                                                                                                                                                                                                                                                                                                                                                                                                                                                                                                                                                                                          | Everybody Wants to be a Cat                                                                                                                                                                                                                                                                                                                                                                                                                                                                                                                                                                                                                                                                                                                                                                                                                                                                                                                                                                                                                                                                                                                                                                                                                                                                                                                                                                                                                                                                                                                                                                                                                                                                                                                                                                 | The Aristocats                                                                                                                                                                                                                                                                                                                                                                                                                                                                                                                                                                                                                                                                                                                                                                                                                                                                                                                                                                                                                                                                                                                                                                                                                                                                                                                                                                                                                                                                                                                                                                                                                                                                                                                                                                              | 1970                                                                                                                                                                                                                                                                                                                                                                                                                                                                                                                                                                                                                                                                                                                                                                                                                                                                                                                                                                                                                                                                                                                                                                                                                                                                                                                                                                                                                                                                                                                                                                                                                                                                                                                                                                                        | Everybody wants to be a cat Because a cat's the only cat who knows where it's at Everybody's pickin' up on that feline beat 'cause everything else is obsolete  A square with a horn Makes you wish you weren't born Every time he plays But with a square in the act You can set music back To the caveman days  I've heard some corny birds who tried to sing Still a cat's the only cat Who knows how to swing Who wants to dig a long-haired gig stuff like that? When everybody wants to be a cat  A square with a horn Makes you wish you weren't born Every time he plays With a square in the act You can set music back to the caveman days  Everybody wants to be a cat Because a cat's the only cat who knows where it's at When playin' jazz he always has a welcome mat 'cause everybody digs a swingin' cat  Everybody, everybody Everybody wants to be a cat  Everybody, everybody Everybody wants to be a cat  Everybody, everybody Everybody wants to be a cat                                                                                                                                                                                                                                                                                                                                                                                                                                                                                                                                                                                                                                                                                                                                                                                                             | \n",
       "| 22                                                                                                                                                                                                                                                                                                                                                                                                                                                                                                                                                                                                                                                                                                                                                                                                                                                                                                                                                                                                                                                                                                                                                                                                                                                                                                                                                                                                                                                                                                                                                                                                                                                                                                                                                                                          | Beauty & the Beast                                                                                                                                                                                                                                                                                                                                                                                                                                                                                                                                                                                                                                                                                                                                                                                                                                                                                                                                                                                                                                                                                                                                                                                                                                                                                                                                                                                                                                                                                                                                                                                                                                                                                                                                                                          | Beauty & the Beast                                                                                                                                                                                                                                                                                                                                                                                                                                                                                                                                                                                                                                                                                                                                                                                                                                                                                                                                                                                                                                                                                                                                                                                                                                                                                                                                                                                                                                                                                                                                                                                                                                                                                                                                                                          | 1991                                                                                                                                                                                                                                                                                                                                                                                                                                                                                                                                                                                                                                                                                                                                                                                                                                                                                                                                                                                                                                                                                                                                                                                                                                                                                                                                                                                                                                                                                                                                                                                                                                                                                                                                                                                        | Tale as old as time True as it can be Barely even friends Then somebody bends Unexpectedly  Just a little change Small to say the least Both a little scared Neither one prepared Beauty and the Beast  Ever just the same Ever a surprise Ever as before Ever just as sure As the sun will rise  Tale as old as time Tune as old as song Bittersweet and strange Finding you can change Learning you were wrong  Certain as the sun Rising in the east Tale as old as time Song as old as rhyme Beauty and the Beast  Tale as old as time Song as old as rhyme Beauty and the Beast                                                                                                                                                                                                                                                                                                                                                                                                                                                                                                                                                                                                                                                                                                                                                                                                                                                                                                                                                                                                                                                                                                                                                                                                        | \n",
       "| 21                                                                                                                                                                                                                                                                                                                                                                                                                                                                                                                                                                                                                                                                                                                                                                                                                                                                                                                                                                                                                                                                                                                                                                                                                                                                                                                                                                                                                                                                                                                                                                                                                                                                                                                                                                                          | Man Out of You                                                                                                                                                                                                                                                                                                                                                                                                                                                                                                                                                                                                                                                                                                                                                                                                                                                                                                                                                                                                                                                                                                                                                                                                                                                                                                                                                                                                                                                                                                                                                                                                                                                                                                                                                                              | Mulan                                                                                                                                                                                                                                                                                                                                                                                                                                                                                                                                                                                                                                                                                                                                                                                                                                                                                                                                                                                                                                                                                                                                                                                                                                                                                                                                                                                                                                                                                                                                                                                                                                                                                                                                                                                       | 1998                                                                                                                                                                                                                                                                                                                                                                                                                                                                                                                                                                                                                                                                                                                                                                                                                                                                                                                                                                                                                                                                                                                                                                                                                                                                                                                                                                                                                                                                                                                                                                                                                                                                                                                                                                                        | Let's get down to business To defeat the Huns Did they send me daughters when I asked for sons? You're the saddest bunch I ever met But you can bet before we're through Mister, I'll make a man out of you  Tranquil as a forest But on fire within Once you find your center You are sure to win You're a spineless, pale, pathetic lot And you haven't got a clue Somehow I'll make a man out of you  I'm never gonna catch my breath Say goodbye to those who knew me Boy, was I a fool in school for cutting gym This guy's got 'em scared to death Hope he doesn't see right through me Now I really wish that I knew how to swim  Be a man We must be swift as a coursing river Be a man With all the force of a great typhoon Be a man With all the strength of a raging fire Mysterious as the dark side of the moon  Time is racing toward us till the Huns arrive Heed my every order and you might survive You're unsuited for the rage of war So pack up, go home you're through How could I make a man out of you?                                                                                                                                                                                                                                                                                                                                                                                                                                                                                                                                                                                                                                                                                                                                                            | \n",
       "| 20                                                                                                                                                                                                                                                                                                                                                                                                                                                                                                                                                                                                                                                                                                                                                                                                                                                                                                                                                                                                                                                                                                                                                                                                                                                                                                                                                                                                                                                                                                                                                                                                                                                                                                                                                                                          | Cruella de Vil                                                                                                                                                                                                                                                                                                                                                                                                                                                                                                                                                                                                                                                                                                                                                                                                                                                                                                                                                                                                                                                                                                                                                                                                                                                                                                                                                                                                                                                                                                                                                                                                                                                                                                                                                                              | 101 Dalamatians                                                                                                                                                                                                                                                                                                                                                                                                                                                                                                                                                                                                                                                                                                                                                                                                                                                                                                                                                                                                                                                                                                                                                                                                                                                                                                                                                                                                                                                                                                                                                                                                                                                                                                                                                                             | 1961                                                                                                                                                                                                                                                                                                                                                                                                                                                                                                                                                                                                                                                                                                                                                                                                                                                                                                                                                                                                                                                                                                                                                                                                                                                                                                                                                                                                                                                                                                                                                                                                                                                                                                                                                                                        | Cruella De Vil Cruella De Vil If she doesn't scare you No evil thing will To see her is to take a sudden chill Cruella, Cruella She's like a spider waiting for the kill Look out for Cruella De Vil  At first you think Cruella is a devil But after time has worn away the shock You come to realize You've seen her kind of eyes Watching you from underneath a rock  This vampire bat, this inhuman beast She ought to be locked up and never released The world was such a wholesome place until Cruella, Cruella De Vil                                                                                                                                                                                                                                                                                                                                                                                                                                                                                                                                                                                                                                                                                                                                                                                                                                                                                                                                                                                                                                                                                                                                                                                                                                                               | \n",
       "\n",
       "\n"
      ],
      "text/plain": [
       "  Rank Song.Title                  Movie              Year\n",
       "1 25   Go the Distance             Hercules           1997\n",
       "2 24   I 2 I                       A Goofy Movie      1995\n",
       "3 23   Everybody Wants to be a Cat The Aristocats     1970\n",
       "4 22   Beauty & the Beast          Beauty & the Beast 1991\n",
       "5 21   Man Out of You              Mulan              1998\n",
       "6 20   Cruella de Vil              101 Dalamatians    1961\n",
       "  Lyrics                                                                                                                                                                                                                                                                                                                                                                                                                                                                                                                                                                                                                                                                                                                                                                                                                                                                                                                                                                                                                                                                                                                                                                                                                                                                                                                                                                                                                                                                                                                                                                                                                                                                                                                                                                                     \n",
       "1 I have often dreamed of a far off place Where a hero's welcome would be waiting for me Where the crowds would cheer, when they see my face And a voice keeps saying this is where I'm meant to be  I'll be there someday, I can go the distance I will find my way if I can be strong I know every mile would be worth my while When I go the distance, I'll be right where I belong  Down an unknown road to embrace my fate Though that road may wander, it will lead me to you And a thousand years would be worth the wait It might take a lifetime but somehow I'll see it through  And I won't look back, I can go the distance And I'll stay on track, no I won't accept defeat It's an uphill slope But I won't loose hope, 'till I go the distance And my journey is complete, oh yeah  But to look beyond the glory is the hardest part For a hero's strength is measured by his heart, oh  Like a shooting star, I will go the distance I will search the world, I will face its harms I don't care how far, I can go the distance 'Till I find my hero's welcome waiting in your arms  I will search the world, I will face its harms 'Till I find my hero's welcome waiting in your arms                                                                                                                                                                                                                                                                                                                                                                                                                                                                                                                                                                                      \n",
       "2 Hey yeah I got myself a notion One I know that you'll understand We set the world in motion By reaching out for each other's hand  Maybe we'll discover What we should have known all along One way or another Together's where we both belong  If we listen to each other's heart We'll find we're never too far apart And maybe love is the reason why For the first time ever, we're seein' it I-2-I  If a wall should come between us Too high to climb, too hard to break through I know that love will lead us And find a way to bring me to you  So don't be in a hurry Think before you count us out You don't have to worry I won't ever let you drown (Nothing's gonna stop us now)  If we listen to each other's heart We'll find we're never too far apart And maybe love is the reason why For the first time ever, we're seein' it I-2-I  Love is why we're seein' it I-2-I (Yes, we are seein' it I-2-I) Seein' it I-2 (Love is why we're seein' it) I think we're seein' it I-2-I (I-2-I) I-2-I We're seein' it I-2-I (I-2-I!)  If you're ever lonely, stop! You don't have to be After all, it's only a beat away from you to me (Take a look inside to see)  If we listen to each other's heart We'll find we're never too far apart And maybe love is the reason why For the first time ever, we're seein' it I-2-I  If we listen to each other's heart We'll find we're never too far apart And maybe love is the reason why For the first time ever, we're seein' it I-2-I  Seein' it I-2 Seein' it I-2-I We're seein' it I-2-I, baby For the first time For the first time  I-2-I Seein't it Seein' it, baby Seein' it I-2-I For the first time ever Yeah, yeah, yeah Yeah, baby We're seein' it I-2-I Seein' it (Come on, baby)  I-2-I I-2-I I-2-I I-2-I Yeah I-2-I!\n",
       "3 Everybody wants to be a cat Because a cat's the only cat who knows where it's at Everybody's pickin' up on that feline beat 'cause everything else is obsolete  A square with a horn Makes you wish you weren't born Every time he plays But with a square in the act You can set music back To the caveman days  I've heard some corny birds who tried to sing Still a cat's the only cat Who knows how to swing Who wants to dig a long-haired gig stuff like that? When everybody wants to be a cat  A square with a horn Makes you wish you weren't born Every time he plays With a square in the act You can set music back to the caveman days  Everybody wants to be a cat Because a cat's the only cat who knows where it's at When playin' jazz he always has a welcome mat 'cause everybody digs a swingin' cat  Everybody, everybody Everybody wants to be a cat  Everybody, everybody Everybody wants to be a cat  Everybody, everybody Everybody wants to be a cat                                                                                                                                                                                                                                                                                                                                                                                                                                                                                                                                                                                                                                                                                                                                                                                                            \n",
       "4 Tale as old as time True as it can be Barely even friends Then somebody bends Unexpectedly  Just a little change Small to say the least Both a little scared Neither one prepared Beauty and the Beast  Ever just the same Ever a surprise Ever as before Ever just as sure As the sun will rise  Tale as old as time Tune as old as song Bittersweet and strange Finding you can change Learning you were wrong  Certain as the sun Rising in the east Tale as old as time Song as old as rhyme Beauty and the Beast  Tale as old as time Song as old as rhyme Beauty and the Beast                                                                                                                                                                                                                                                                                                                                                                                                                                                                                                                                                                                                                                                                                                                                                                                                                                                                                                                                                                                                                                                                                                                                                                                                       \n",
       "5 Let's get down to business To defeat the Huns Did they send me daughters when I asked for sons? You're the saddest bunch I ever met But you can bet before we're through Mister, I'll make a man out of you  Tranquil as a forest But on fire within Once you find your center You are sure to win You're a spineless, pale, pathetic lot And you haven't got a clue Somehow I'll make a man out of you  I'm never gonna catch my breath Say goodbye to those who knew me Boy, was I a fool in school for cutting gym This guy's got 'em scared to death Hope he doesn't see right through me Now I really wish that I knew how to swim  Be a man We must be swift as a coursing river Be a man With all the force of a great typhoon Be a man With all the strength of a raging fire Mysterious as the dark side of the moon  Time is racing toward us till the Huns arrive Heed my every order and you might survive You're unsuited for the rage of war So pack up, go home you're through How could I make a man out of you?                                                                                                                                                                                                                                                                                                                                                                                                                                                                                                                                                                                                                                                                                                                                                           \n",
       "6 Cruella De Vil Cruella De Vil If she doesn't scare you No evil thing will To see her is to take a sudden chill Cruella, Cruella She's like a spider waiting for the kill Look out for Cruella De Vil  At first you think Cruella is a devil But after time has worn away the shock You come to realize You've seen her kind of eyes Watching you from underneath a rock  This vampire bat, this inhuman beast She ought to be locked up and never released The world was such a wholesome place until Cruella, Cruella De Vil                                                                                                                                                                                                                                                                                                                                                                                                                                                                                                                                                                                                                                                                                                                                                                                                                                                                                                                                                                                                                                                                                                                                                                                                                                                              "
      ]
     },
     "metadata": {},
     "output_type": "display_data"
    }
   ],
   "source": [
    "head(textdata) #looking at the first few rows"
   ]
  },
  {
   "cell_type": "code",
   "execution_count": 3,
   "metadata": {},
   "outputs": [
    {
     "data": {
      "text/html": [
       "25"
      ],
      "text/latex": [
       "25"
      ],
      "text/markdown": [
       "25"
      ],
      "text/plain": [
       "[1] 25"
      ]
     },
     "metadata": {},
     "output_type": "display_data"
    }
   ],
   "source": [
    "nrow(textdata) #checking number of rows in dataset"
   ]
  },
  {
   "cell_type": "code",
   "execution_count": 4,
   "metadata": {
    "collapsed": true
   },
   "outputs": [],
   "source": [
    "data<-as.data.frame(textdata$Lyrics) #we're interested in the lyrics column only"
   ]
  },
  {
   "cell_type": "code",
   "execution_count": 5,
   "metadata": {},
   "outputs": [
    {
     "data": {
      "text/html": [
       "1"
      ],
      "text/latex": [
       "1"
      ],
      "text/markdown": [
       "1"
      ],
      "text/plain": [
       "[1] 1"
      ]
     },
     "metadata": {},
     "output_type": "display_data"
    }
   ],
   "source": [
    "length(data) #check that we only took one column"
   ]
  },
  {
   "cell_type": "code",
   "execution_count": 6,
   "metadata": {},
   "outputs": [
    {
     "data": {
      "text/html": [
       "25"
      ],
      "text/latex": [
       "25"
      ],
      "text/markdown": [
       "25"
      ],
      "text/plain": [
       "[1] 25"
      ]
     },
     "metadata": {},
     "output_type": "display_data"
    }
   ],
   "source": [
    "nrow(data) #checking number of rows again"
   ]
  },
  {
   "cell_type": "code",
   "execution_count": 7,
   "metadata": {
    "collapsed": true
   },
   "outputs": [],
   "source": [
    "#creating a function that cleans the text data\n",
    "one<-function(str){\n",
    "  m <- as.data.frame((str))\n",
    "  colnames(m) <- \"word\"\n",
    "  m <- as.matrix(m)\n",
    "  for(i in 1:nrow(m)){\n",
    "    m[i,] = gsub('[[:punct:] ]','', m[i,]) #removing punctuations or symbols\n",
    "    m[i,] = tolower(m[i,]) #convert all to lowercase\n",
    "  }\n",
    "  return(m)\n",
    "}"
   ]
  },
  {
   "cell_type": "code",
   "execution_count": 8,
   "metadata": {},
   "outputs": [
    {
     "data": {
      "text/html": [
       "<table>\n",
       "<thead><tr><th scope=col>word</th></tr></thead>\n",
       "<tbody>\n",
       "\t<tr><td>i      </td></tr>\n",
       "\t<tr><td>have   </td></tr>\n",
       "\t<tr><td>often  </td></tr>\n",
       "\t<tr><td>dreamed</td></tr>\n",
       "\t<tr><td>of     </td></tr>\n",
       "\t<tr><td>a      </td></tr>\n",
       "\t<tr><td>far    </td></tr>\n",
       "\t<tr><td>off    </td></tr>\n",
       "\t<tr><td>place  </td></tr>\n",
       "\t<tr><td>where  </td></tr>\n",
       "\t<tr><td>a      </td></tr>\n",
       "\t<tr><td>heros  </td></tr>\n",
       "\t<tr><td>welcome</td></tr>\n",
       "\t<tr><td>would  </td></tr>\n",
       "\t<tr><td>be     </td></tr>\n",
       "\t<tr><td>waiting</td></tr>\n",
       "\t<tr><td>for    </td></tr>\n",
       "\t<tr><td>me     </td></tr>\n",
       "\t<tr><td>where  </td></tr>\n",
       "\t<tr><td>the    </td></tr>\n",
       "\t<tr><td>crowds </td></tr>\n",
       "\t<tr><td>would  </td></tr>\n",
       "\t<tr><td>cheer  </td></tr>\n",
       "\t<tr><td>when   </td></tr>\n",
       "\t<tr><td>they   </td></tr>\n",
       "\t<tr><td>see    </td></tr>\n",
       "\t<tr><td>my     </td></tr>\n",
       "\t<tr><td>face   </td></tr>\n",
       "\t<tr><td>and    </td></tr>\n",
       "\t<tr><td>a      </td></tr>\n",
       "\t<tr><td>...</td></tr>\n",
       "\t<tr><td>i      </td></tr>\n",
       "\t<tr><td>find   </td></tr>\n",
       "\t<tr><td>my     </td></tr>\n",
       "\t<tr><td>heros  </td></tr>\n",
       "\t<tr><td>welcome</td></tr>\n",
       "\t<tr><td>waiting</td></tr>\n",
       "\t<tr><td>in     </td></tr>\n",
       "\t<tr><td>your   </td></tr>\n",
       "\t<tr><td>arms   </td></tr>\n",
       "\t<tr><td>       </td></tr>\n",
       "\t<tr><td>i      </td></tr>\n",
       "\t<tr><td>will   </td></tr>\n",
       "\t<tr><td>search </td></tr>\n",
       "\t<tr><td>the    </td></tr>\n",
       "\t<tr><td>world  </td></tr>\n",
       "\t<tr><td>i      </td></tr>\n",
       "\t<tr><td>will   </td></tr>\n",
       "\t<tr><td>face   </td></tr>\n",
       "\t<tr><td>its    </td></tr>\n",
       "\t<tr><td>harms  </td></tr>\n",
       "\t<tr><td>till   </td></tr>\n",
       "\t<tr><td>i      </td></tr>\n",
       "\t<tr><td>find   </td></tr>\n",
       "\t<tr><td>my     </td></tr>\n",
       "\t<tr><td>heros  </td></tr>\n",
       "\t<tr><td>welcome</td></tr>\n",
       "\t<tr><td>waiting</td></tr>\n",
       "\t<tr><td>in     </td></tr>\n",
       "\t<tr><td>your   </td></tr>\n",
       "\t<tr><td>arms   </td></tr>\n",
       "</tbody>\n",
       "</table>\n"
      ],
      "text/latex": [
       "\\begin{tabular}{l}\n",
       " word\\\\\n",
       "\\hline\n",
       "\t i      \\\\\n",
       "\t have   \\\\\n",
       "\t often  \\\\\n",
       "\t dreamed\\\\\n",
       "\t of     \\\\\n",
       "\t a      \\\\\n",
       "\t far    \\\\\n",
       "\t off    \\\\\n",
       "\t place  \\\\\n",
       "\t where  \\\\\n",
       "\t a      \\\\\n",
       "\t heros  \\\\\n",
       "\t welcome\\\\\n",
       "\t would  \\\\\n",
       "\t be     \\\\\n",
       "\t waiting\\\\\n",
       "\t for    \\\\\n",
       "\t me     \\\\\n",
       "\t where  \\\\\n",
       "\t the    \\\\\n",
       "\t crowds \\\\\n",
       "\t would  \\\\\n",
       "\t cheer  \\\\\n",
       "\t when   \\\\\n",
       "\t they   \\\\\n",
       "\t see    \\\\\n",
       "\t my     \\\\\n",
       "\t face   \\\\\n",
       "\t and    \\\\\n",
       "\t a      \\\\\n",
       "\t ...\\\\\n",
       "\t i      \\\\\n",
       "\t find   \\\\\n",
       "\t my     \\\\\n",
       "\t heros  \\\\\n",
       "\t welcome\\\\\n",
       "\t waiting\\\\\n",
       "\t in     \\\\\n",
       "\t your   \\\\\n",
       "\t arms   \\\\\n",
       "\t        \\\\\n",
       "\t i      \\\\\n",
       "\t will   \\\\\n",
       "\t search \\\\\n",
       "\t the    \\\\\n",
       "\t world  \\\\\n",
       "\t i      \\\\\n",
       "\t will   \\\\\n",
       "\t face   \\\\\n",
       "\t its    \\\\\n",
       "\t harms  \\\\\n",
       "\t till   \\\\\n",
       "\t i      \\\\\n",
       "\t find   \\\\\n",
       "\t my     \\\\\n",
       "\t heros  \\\\\n",
       "\t welcome\\\\\n",
       "\t waiting\\\\\n",
       "\t in     \\\\\n",
       "\t your   \\\\\n",
       "\t arms   \\\\\n",
       "\\end{tabular}\n"
      ],
      "text/markdown": [
       "\n",
       "word | \n",
       "|---|---|---|---|---|---|---|---|---|---|---|---|---|---|---|---|---|---|---|---|---|---|---|---|---|---|---|---|---|---|---|---|---|---|---|---|---|---|---|---|---|---|---|---|---|---|---|---|---|---|---|---|---|---|---|---|---|---|---|---|---|\n",
       "| i       | \n",
       "| have    | \n",
       "| often   | \n",
       "| dreamed | \n",
       "| of      | \n",
       "| a       | \n",
       "| far     | \n",
       "| off     | \n",
       "| place   | \n",
       "| where   | \n",
       "| a       | \n",
       "| heros   | \n",
       "| welcome | \n",
       "| would   | \n",
       "| be      | \n",
       "| waiting | \n",
       "| for     | \n",
       "| me      | \n",
       "| where   | \n",
       "| the     | \n",
       "| crowds  | \n",
       "| would   | \n",
       "| cheer   | \n",
       "| when    | \n",
       "| they    | \n",
       "| see     | \n",
       "| my      | \n",
       "| face    | \n",
       "| and     | \n",
       "| a       | \n",
       "| ... | \n",
       "| i       | \n",
       "| find    | \n",
       "| my      | \n",
       "| heros   | \n",
       "| welcome | \n",
       "| waiting | \n",
       "| in      | \n",
       "| your    | \n",
       "| arms    | \n",
       "|         | \n",
       "| i       | \n",
       "| will    | \n",
       "| search  | \n",
       "| the     | \n",
       "| world   | \n",
       "| i       | \n",
       "| will    | \n",
       "| face    | \n",
       "| its     | \n",
       "| harms   | \n",
       "| till    | \n",
       "| i       | \n",
       "| find    | \n",
       "| my      | \n",
       "| heros   | \n",
       "| welcome | \n",
       "| waiting | \n",
       "| in      | \n",
       "| your    | \n",
       "| arms    | \n",
       "\n",
       "\n"
      ],
      "text/plain": [
       "      word   \n",
       " [1,] i      \n",
       " [2,] have   \n",
       " [3,] often  \n",
       " [4,] dreamed\n",
       " [5,] of     \n",
       " [6,] a      \n",
       " [7,] far    \n",
       " [8,] off    \n",
       " [9,] place  \n",
       "[10,] where  \n",
       "[11,] a      \n",
       "[12,] heros  \n",
       "[13,] welcome\n",
       "[14,] would  \n",
       "[15,] be     \n",
       "[16,] waiting\n",
       "[17,] for    \n",
       "[18,] me     \n",
       "[19,] where  \n",
       "[20,] the    \n",
       "[21,] crowds \n",
       "[22,] would  \n",
       "[23,] cheer  \n",
       "[24,] when   \n",
       "[25,] they   \n",
       "[26,] see    \n",
       "[27,] my     \n",
       "[28,] face   \n",
       "[29,] and    \n",
       "[30,] a      \n",
       "[31,] ...    \n",
       "[32,] i      \n",
       "[33,] find   \n",
       "[34,] my     \n",
       "[35,] heros  \n",
       "[36,] welcome\n",
       "[37,] waiting\n",
       "[38,] in     \n",
       "[39,] your   \n",
       "[40,] arms   \n",
       "[41,]        \n",
       "[42,] i      \n",
       "[43,] will   \n",
       "[44,] search \n",
       "[45,] the    \n",
       "[46,] world  \n",
       "[47,] i      \n",
       "[48,] will   \n",
       "[49,] face   \n",
       "[50,] its    \n",
       "[51,] harms  \n",
       "[52,] till   \n",
       "[53,] i      \n",
       "[54,] find   \n",
       "[55,] my     \n",
       "[56,] heros  \n",
       "[57,] welcome\n",
       "[58,] waiting\n",
       "[59,] in     \n",
       "[60,] your   \n",
       "[61,] arms   "
      ]
     },
     "metadata": {},
     "output_type": "display_data"
    }
   ],
   "source": [
    "str <- strsplit(paste(data[1,]), split = \" \") #taking the first row and creating a matrix with each row containing one word\n",
    "r = one(str) #applying the cleaning function to each word\n",
    "r"
   ]
  },
  {
   "cell_type": "code",
   "execution_count": 9,
   "metadata": {
    "collapsed": true
   },
   "outputs": [],
   "source": [
    "#applying the text cleaning function to rest of the rows and combine all words in one dataframe\n",
    "for(i in 2:nrow(data)){\n",
    "  str <- strsplit(paste(data[i,]), split = \" \")\n",
    "  m = one(str)\n",
    "  r = rbind(r,m)\n",
    "}"
   ]
  },
  {
   "cell_type": "code",
   "execution_count": 10,
   "metadata": {},
   "outputs": [
    {
     "data": {
      "text/html": [
       "5317"
      ],
      "text/latex": [
       "5317"
      ],
      "text/markdown": [
       "5317"
      ],
      "text/plain": [
       "[1] 5317"
      ]
     },
     "metadata": {},
     "output_type": "display_data"
    }
   ],
   "source": [
    "nrow(r)"
   ]
  },
  {
   "cell_type": "code",
   "execution_count": 11,
   "metadata": {},
   "outputs": [
    {
     "name": "stderr",
     "output_type": "stream",
     "text": [
      "Warning message:\n",
      "\"package 'plyr' was built under R version 3.3.2\""
     ]
    }
   ],
   "source": [
    "library(plyr)"
   ]
  },
  {
   "cell_type": "code",
   "execution_count": 12,
   "metadata": {
    "collapsed": true,
    "scrolled": true
   },
   "outputs": [],
   "source": [
    "tab = as.data.frame(count(r))"
   ]
  },
  {
   "cell_type": "code",
   "execution_count": 13,
   "metadata": {},
   "outputs": [
    {
     "data": {
      "text/html": [
       "<table>\n",
       "<thead><tr><th scope=col>word</th><th scope=col>freq</th></tr></thead>\n",
       "<tbody>\n",
       "\t<tr><td>          </td><td>178       </td></tr>\n",
       "\t<tr><td>a         </td><td>153       </td></tr>\n",
       "\t<tr><td>about     </td><td>  5       </td></tr>\n",
       "\t<tr><td>above     </td><td>  1       </td></tr>\n",
       "\t<tr><td>absolutely</td><td>  2       </td></tr>\n",
       "\t<tr><td>accept    </td><td>  1       </td></tr>\n",
       "</tbody>\n",
       "</table>\n"
      ],
      "text/latex": [
       "\\begin{tabular}{r|ll}\n",
       " word & freq\\\\\n",
       "\\hline\n",
       "\t            & 178       \\\\\n",
       "\t a          & 153       \\\\\n",
       "\t about      &   5       \\\\\n",
       "\t above      &   1       \\\\\n",
       "\t absolutely &   2       \\\\\n",
       "\t accept     &   1       \\\\\n",
       "\\end{tabular}\n"
      ],
      "text/markdown": [
       "\n",
       "word | freq | \n",
       "|---|---|---|---|---|---|\n",
       "|            | 178        | \n",
       "| a          | 153        | \n",
       "| about      |   5        | \n",
       "| above      |   1        | \n",
       "| absolutely |   2        | \n",
       "| accept     |   1        | \n",
       "\n",
       "\n"
      ],
      "text/plain": [
       "  word       freq\n",
       "1            178 \n",
       "2 a          153 \n",
       "3 about        5 \n",
       "4 above        1 \n",
       "5 absolutely   2 \n",
       "6 accept       1 "
      ]
     },
     "metadata": {},
     "output_type": "display_data"
    }
   ],
   "source": [
    "head(tab)"
   ]
  },
  {
   "cell_type": "code",
   "execution_count": 14,
   "metadata": {
    "collapsed": true
   },
   "outputs": [],
   "source": [
    "f<-tab[rev(order(tab$freq)),]"
   ]
  },
  {
   "cell_type": "code",
   "execution_count": 15,
   "metadata": {},
   "outputs": [
    {
     "data": {
      "text/html": [
       "<table>\n",
       "<thead><tr><th></th><th scope=col>word</th><th scope=col>freq</th></tr></thead>\n",
       "<tbody>\n",
       "\t<tr><th scope=row>956</th><td>the  </td><td>247  </td></tr>\n",
       "\t<tr><th scope=row>1</th><td>     </td><td>178  </td></tr>\n",
       "\t<tr><th scope=row>2</th><td>a    </td><td>153  </td></tr>\n",
       "\t<tr><th scope=row>1132</th><td>you  </td><td>130  </td></tr>\n",
       "\t<tr><th scope=row>988</th><td>to   </td><td>120  </td></tr>\n",
       "\t<tr><th scope=row>472</th><td>i    </td><td>113  </td></tr>\n",
       "\t<tr><th scope=row>26</th><td>and  </td><td>112  </td></tr>\n",
       "\t<tr><th scope=row>64</th><td>be   </td><td>101  </td></tr>\n",
       "\t<tr><th scope=row>480</th><td>in   </td><td> 69  </td></tr>\n",
       "\t<tr><th scope=row>491</th><td>it   </td><td> 67  </td></tr>\n",
       "\t<tr><th scope=row>652</th><td>of   </td><td> 53  </td></tr>\n",
       "\t<tr><th scope=row>618</th><td>my   </td><td> 47  </td></tr>\n",
       "\t<tr><th scope=row>579</th><td>me   </td><td> 45  </td></tr>\n",
       "\t<tr><th scope=row>488</th><td>is   </td><td> 44  </td></tr>\n",
       "\t<tr><th scope=row>401</th><td>got  </td><td> 40  </td></tr>\n",
       "\t<tr><th scope=row>140</th><td>can  </td><td> 40  </td></tr>\n",
       "\t<tr><th scope=row>657</th><td>on   </td><td> 39  </td></tr>\n",
       "\t<tr><th scope=row>973</th><td>this </td><td> 38  </td></tr>\n",
       "\t<tr><th scope=row>1135</th><td>your </td><td> 37  </td></tr>\n",
       "\t<tr><th scope=row>352</th><td>for  </td><td> 36  </td></tr>\n",
       "\t<tr><th scope=row>954</th><td>that </td><td> 34  </td></tr>\n",
       "\t<tr><th scope=row>493</th><td>its  </td><td> 32  </td></tr>\n",
       "\t<tr><th scope=row>1070</th><td>we   </td><td> 31  </td></tr>\n",
       "\t<tr><th scope=row>639</th><td>no   </td><td> 31  </td></tr>\n",
       "\t<tr><th scope=row>394</th><td>go   </td><td> 31  </td></tr>\n",
       "\t<tr><th scope=row>671</th><td>our  </td><td> 30  </td></tr>\n",
       "\t<tr><th scope=row>544</th><td>like </td><td> 30  </td></tr>\n",
       "\t<tr><th scope=row>520</th><td>la   </td><td> 30  </td></tr>\n",
       "\t<tr><th scope=row>443</th><td>here </td><td> 29  </td></tr>\n",
       "\t<tr><th scope=row>258</th><td>dont </td><td> 29  </td></tr>\n",
       "\t<tr><th scope=row>963</th><td>they </td><td> 28  </td></tr>\n",
       "\t<tr><th scope=row>48</th><td>as   </td><td> 27  </td></tr>\n",
       "\t<tr><th scope=row>1105</th><td>with </td><td> 26  </td></tr>\n",
       "\t<tr><th scope=row>1095</th><td>will </td><td> 25  </td></tr>\n",
       "\t<tr><th scope=row>1082</th><td>when </td><td> 25  </td></tr>\n",
       "\t<tr><th scope=row>1079</th><td>what </td><td> 25  </td></tr>\n",
       "\t<tr><th scope=row>985</th><td>time </td><td> 25  </td></tr>\n",
       "\t<tr><th scope=row>434</th><td>heart</td><td> 25  </td></tr>\n",
       "\t<tr><th scope=row>132</th><td>but  </td><td> 25  </td></tr>\n",
       "\t<tr><th scope=row>20</th><td>all  </td><td> 24  </td></tr>\n",
       "\t<tr><th scope=row>1074</th><td>were </td><td> 23  </td></tr>\n",
       "\t<tr><th scope=row>536</th><td>let  </td><td> 23  </td></tr>\n",
       "\t<tr><th scope=row>655</th><td>oh   </td><td> 22  </td></tr>\n",
       "\t<tr><th scope=row>807</th><td>see  </td><td> 21  </td></tr>\n",
       "\t<tr><th scope=row>474</th><td>i2i  </td><td> 21  </td></tr>\n",
       "\t<tr><th scope=row>408</th><td>guest</td><td> 21  </td></tr>\n",
       "\t<tr><th scope=row>554</th><td>look </td><td> 20  </td></tr>\n",
       "\t<tr><th scope=row>505</th><td>just </td><td> 20  </td></tr>\n",
       "\t<tr><th scope=row>1133</th><td>youll</td><td> 19  </td></tr>\n",
       "\t<tr><th scope=row>1080</th><td>whats</td><td> 19  </td></tr>\n",
       "</tbody>\n",
       "</table>\n"
      ],
      "text/latex": [
       "\\begin{tabular}{r|ll}\n",
       "  & word & freq\\\\\n",
       "\\hline\n",
       "\t956 & the   & 247  \\\\\n",
       "\t1 &       & 178  \\\\\n",
       "\t2 & a     & 153  \\\\\n",
       "\t1132 & you   & 130  \\\\\n",
       "\t988 & to    & 120  \\\\\n",
       "\t472 & i     & 113  \\\\\n",
       "\t26 & and   & 112  \\\\\n",
       "\t64 & be    & 101  \\\\\n",
       "\t480 & in    &  69  \\\\\n",
       "\t491 & it    &  67  \\\\\n",
       "\t652 & of    &  53  \\\\\n",
       "\t618 & my    &  47  \\\\\n",
       "\t579 & me    &  45  \\\\\n",
       "\t488 & is    &  44  \\\\\n",
       "\t401 & got   &  40  \\\\\n",
       "\t140 & can   &  40  \\\\\n",
       "\t657 & on    &  39  \\\\\n",
       "\t973 & this  &  38  \\\\\n",
       "\t1135 & your  &  37  \\\\\n",
       "\t352 & for   &  36  \\\\\n",
       "\t954 & that  &  34  \\\\\n",
       "\t493 & its   &  32  \\\\\n",
       "\t1070 & we    &  31  \\\\\n",
       "\t639 & no    &  31  \\\\\n",
       "\t394 & go    &  31  \\\\\n",
       "\t671 & our   &  30  \\\\\n",
       "\t544 & like  &  30  \\\\\n",
       "\t520 & la    &  30  \\\\\n",
       "\t443 & here  &  29  \\\\\n",
       "\t258 & dont  &  29  \\\\\n",
       "\t963 & they  &  28  \\\\\n",
       "\t48 & as    &  27  \\\\\n",
       "\t1105 & with  &  26  \\\\\n",
       "\t1095 & will  &  25  \\\\\n",
       "\t1082 & when  &  25  \\\\\n",
       "\t1079 & what  &  25  \\\\\n",
       "\t985 & time  &  25  \\\\\n",
       "\t434 & heart &  25  \\\\\n",
       "\t132 & but   &  25  \\\\\n",
       "\t20 & all   &  24  \\\\\n",
       "\t1074 & were  &  23  \\\\\n",
       "\t536 & let   &  23  \\\\\n",
       "\t655 & oh    &  22  \\\\\n",
       "\t807 & see   &  21  \\\\\n",
       "\t474 & i2i   &  21  \\\\\n",
       "\t408 & guest &  21  \\\\\n",
       "\t554 & look  &  20  \\\\\n",
       "\t505 & just  &  20  \\\\\n",
       "\t1133 & youll &  19  \\\\\n",
       "\t1080 & whats &  19  \\\\\n",
       "\\end{tabular}\n"
      ],
      "text/markdown": [
       "\n",
       "| <!--/--> | word | freq | \n",
       "|---|---|---|---|---|---|---|---|---|---|---|---|---|---|---|---|---|---|---|---|---|---|---|---|---|---|---|---|---|---|---|---|---|---|---|---|---|---|---|---|---|---|---|---|---|---|---|---|---|---|\n",
       "| 956 | the   | 247   | \n",
       "| 1 |       | 178   | \n",
       "| 2 | a     | 153   | \n",
       "| 1132 | you   | 130   | \n",
       "| 988 | to    | 120   | \n",
       "| 472 | i     | 113   | \n",
       "| 26 | and   | 112   | \n",
       "| 64 | be    | 101   | \n",
       "| 480 | in    |  69   | \n",
       "| 491 | it    |  67   | \n",
       "| 652 | of    |  53   | \n",
       "| 618 | my    |  47   | \n",
       "| 579 | me    |  45   | \n",
       "| 488 | is    |  44   | \n",
       "| 401 | got   |  40   | \n",
       "| 140 | can   |  40   | \n",
       "| 657 | on    |  39   | \n",
       "| 973 | this  |  38   | \n",
       "| 1135 | your  |  37   | \n",
       "| 352 | for   |  36   | \n",
       "| 954 | that  |  34   | \n",
       "| 493 | its   |  32   | \n",
       "| 1070 | we    |  31   | \n",
       "| 639 | no    |  31   | \n",
       "| 394 | go    |  31   | \n",
       "| 671 | our   |  30   | \n",
       "| 544 | like  |  30   | \n",
       "| 520 | la    |  30   | \n",
       "| 443 | here  |  29   | \n",
       "| 258 | dont  |  29   | \n",
       "| 963 | they  |  28   | \n",
       "| 48 | as    |  27   | \n",
       "| 1105 | with  |  26   | \n",
       "| 1095 | will  |  25   | \n",
       "| 1082 | when  |  25   | \n",
       "| 1079 | what  |  25   | \n",
       "| 985 | time  |  25   | \n",
       "| 434 | heart |  25   | \n",
       "| 132 | but   |  25   | \n",
       "| 20 | all   |  24   | \n",
       "| 1074 | were  |  23   | \n",
       "| 536 | let   |  23   | \n",
       "| 655 | oh    |  22   | \n",
       "| 807 | see   |  21   | \n",
       "| 474 | i2i   |  21   | \n",
       "| 408 | guest |  21   | \n",
       "| 554 | look  |  20   | \n",
       "| 505 | just  |  20   | \n",
       "| 1133 | youll |  19   | \n",
       "| 1080 | whats |  19   | \n",
       "\n",
       "\n"
      ],
      "text/plain": [
       "     word  freq\n",
       "956  the   247 \n",
       "1          178 \n",
       "2    a     153 \n",
       "1132 you   130 \n",
       "988  to    120 \n",
       "472  i     113 \n",
       "26   and   112 \n",
       "64   be    101 \n",
       "480  in     69 \n",
       "491  it     67 \n",
       "652  of     53 \n",
       "618  my     47 \n",
       "579  me     45 \n",
       "488  is     44 \n",
       "401  got    40 \n",
       "140  can    40 \n",
       "657  on     39 \n",
       "973  this   38 \n",
       "1135 your   37 \n",
       "352  for    36 \n",
       "954  that   34 \n",
       "493  its    32 \n",
       "1070 we     31 \n",
       "639  no     31 \n",
       "394  go     31 \n",
       "671  our    30 \n",
       "544  like   30 \n",
       "520  la     30 \n",
       "443  here   29 \n",
       "258  dont   29 \n",
       "963  they   28 \n",
       "48   as     27 \n",
       "1105 with   26 \n",
       "1095 will   25 \n",
       "1082 when   25 \n",
       "1079 what   25 \n",
       "985  time   25 \n",
       "434  heart  25 \n",
       "132  but    25 \n",
       "20   all    24 \n",
       "1074 were   23 \n",
       "536  let    23 \n",
       "655  oh     22 \n",
       "807  see    21 \n",
       "474  i2i    21 \n",
       "408  guest  21 \n",
       "554  look   20 \n",
       "505  just   20 \n",
       "1133 youll  19 \n",
       "1080 whats  19 "
      ]
     },
     "metadata": {},
     "output_type": "display_data"
    }
   ],
   "source": [
    "f[1:50,]"
   ]
  },
  {
   "cell_type": "markdown",
   "metadata": {},
   "source": [
    "#### Removing punctuations from words might have some misrepresentation eg. \"we're\" will become \"were\" or \"it's\" will become \"its\".  This is okay if there aren't a lot of short forms. To be more precise, we can do text stemming (before removing punctuations or symbols). We will make use of a package called SnowballC. It will derive the root word for each term. An example is shown below."
   ]
  },
  {
   "cell_type": "code",
   "execution_count": 16,
   "metadata": {
    "collapsed": true
   },
   "outputs": [],
   "source": [
    "library(SnowballC)"
   ]
  },
  {
   "cell_type": "code",
   "execution_count": 17,
   "metadata": {},
   "outputs": [
    {
     "data": {
      "text/html": [
       "<table>\n",
       "<thead><tr><th scope=col>wordStem(c(\"we're\", \"were\", \"its\", \"it's\"))</th></tr></thead>\n",
       "<tbody>\n",
       "\t<tr><td>we'r</td></tr>\n",
       "\t<tr><td>were</td></tr>\n",
       "\t<tr><td>it  </td></tr>\n",
       "\t<tr><td>it' </td></tr>\n",
       "</tbody>\n",
       "</table>\n"
      ],
      "text/latex": [
       "\\begin{tabular}{r|l}\n",
       " wordStem(c(\"we're\", \"were\", \"its\", \"it's\"))\\\\\n",
       "\\hline\n",
       "\t we'r\\\\\n",
       "\t were\\\\\n",
       "\t it  \\\\\n",
       "\t it' \\\\\n",
       "\\end{tabular}\n"
      ],
      "text/markdown": [
       "\n",
       "wordStem(c(\"we're\", \"were\", \"its\", \"it's\")) | \n",
       "|---|---|---|---|\n",
       "| we'r | \n",
       "| were | \n",
       "| it   | \n",
       "| it'  | \n",
       "\n",
       "\n"
      ],
      "text/plain": [
       "  wordStem(c(\"we're\", \"were\", \"its\", \"it's\"))\n",
       "1 we'r                                       \n",
       "2 were                                       \n",
       "3 it                                         \n",
       "4 it'                                        "
      ]
     },
     "metadata": {},
     "output_type": "display_data"
    }
   ],
   "source": [
    "as.data.frame(wordStem(c(\"we're\",\"were\",\"its\",\"it's\")))"
   ]
  },
  {
   "cell_type": "code",
   "execution_count": 18,
   "metadata": {
    "collapsed": true
   },
   "outputs": [],
   "source": [
    "one<-function(str){\n",
    "  m <- as.data.frame((str))\n",
    "  colnames(m) <- \"word\"\n",
    "  m <- as.matrix(m)\n",
    "  for(i in 1:nrow(m)){\n",
    "    m[i,] = wordStem(m[i,]) #note this addition into the function for text stemming\n",
    "    m[i,] = gsub('[[:punct:] ]','', m[i,])\n",
    "    m[i,] = tolower(m[i,])\n",
    "  }\n",
    "  return(m)\n",
    "}"
   ]
  },
  {
   "cell_type": "code",
   "execution_count": 19,
   "metadata": {},
   "outputs": [
    {
     "data": {
      "text/html": [
       "<table>\n",
       "<thead><tr><th></th><th scope=col>word</th><th scope=col>freq</th></tr></thead>\n",
       "<tbody>\n",
       "\t<tr><th scope=row>888</th><td>the  </td><td>247  </td></tr>\n",
       "\t<tr><th scope=row>2</th><td>a    </td><td>180  </td></tr>\n",
       "\t<tr><th scope=row>1</th><td>     </td><td>178  </td></tr>\n",
       "\t<tr><th scope=row>445</th><td>i    </td><td>157  </td></tr>\n",
       "\t<tr><th scope=row>1052</th><td>you  </td><td>130  </td></tr>\n",
       "\t<tr><th scope=row>919</th><td>to   </td><td>120  </td></tr>\n",
       "\t<tr><th scope=row>26</th><td>and  </td><td>112  </td></tr>\n",
       "\t<tr><th scope=row>63</th><td>be   </td><td>101  </td></tr>\n",
       "\t<tr><th scope=row>463</th><td>it   </td><td> 99  </td></tr>\n",
       "\t<tr><th scope=row>453</th><td>in   </td><td> 69  </td></tr>\n",
       "\t<tr><th scope=row>611</th><td>on   </td><td> 53  </td></tr>\n",
       "\t<tr><th scope=row>606</th><td>of   </td><td> 53  </td></tr>\n",
       "\t<tr><th scope=row>1055</th><td>your </td><td> 48  </td></tr>\n",
       "\t<tr><th scope=row>575</th><td>my   </td><td> 47  </td></tr>\n",
       "\t<tr><th scope=row>539</th><td>me   </td><td> 45  </td></tr>\n",
       "\t<tr><th scope=row>1007</th><td>what </td><td> 44  </td></tr>\n",
       "\t<tr><th scope=row>887</th><td>that </td><td> 40  </td></tr>\n",
       "\t<tr><th scope=row>378</th><td>got  </td><td> 40  </td></tr>\n",
       "\t<tr><th scope=row>137</th><td>can  </td><td> 40  </td></tr>\n",
       "\t<tr><th scope=row>335</th><td>for  </td><td> 36  </td></tr>\n",
       "\t<tr><th scope=row>372</th><td>go   </td><td> 35  </td></tr>\n",
       "\t<tr><th scope=row>997</th><td>we   </td><td> 31  </td></tr>\n",
       "\t<tr><th scope=row>594</th><td>no   </td><td> 31  </td></tr>\n",
       "\t<tr><th scope=row>624</th><td>our  </td><td> 30  </td></tr>\n",
       "\t<tr><th scope=row>508</th><td>like </td><td> 30  </td></tr>\n",
       "\t<tr><th scope=row>487</th><td>la   </td><td> 30  </td></tr>\n",
       "\t<tr><th scope=row>417</th><td>here </td><td> 29  </td></tr>\n",
       "\t<tr><th scope=row>247</th><td>dont </td><td> 29  </td></tr>\n",
       "\t<tr><th scope=row>889</th><td>thei </td><td> 28  </td></tr>\n",
       "\t<tr><th scope=row>893</th><td>there</td><td> 27  </td></tr>\n",
       "\t<tr><th scope=row>518</th><td>look </td><td> 27  </td></tr>\n",
       "\t<tr><th scope=row>1029</th><td>with </td><td> 26  </td></tr>\n",
       "\t<tr><th scope=row>1009</th><td>when </td><td> 26  </td></tr>\n",
       "\t<tr><th scope=row>502</th><td>let  </td><td> 26  </td></tr>\n",
       "\t<tr><th scope=row>1020</th><td>will </td><td> 25  </td></tr>\n",
       "\t<tr><th scope=row>916</th><td>time </td><td> 25  </td></tr>\n",
       "\t<tr><th scope=row>408</th><td>heart</td><td> 25  </td></tr>\n",
       "\t<tr><th scope=row>130</th><td>but  </td><td> 25  </td></tr>\n",
       "\t<tr><th scope=row>404</th><td>he   </td><td> 24  </td></tr>\n",
       "\t<tr><th scope=row>20</th><td>all  </td><td> 24  </td></tr>\n",
       "\t<tr><th scope=row>485</th><td>know </td><td> 23  </td></tr>\n",
       "\t<tr><th scope=row>206</th><td>dai  </td><td> 23  </td></tr>\n",
       "\t<tr><th scope=row>749</th><td>see  </td><td> 22  </td></tr>\n",
       "\t<tr><th scope=row>609</th><td>oh   </td><td> 22  </td></tr>\n",
       "\t<tr><th scope=row>898</th><td>thi  </td><td> 21  </td></tr>\n",
       "\t<tr><th scope=row>447</th><td>i2i  </td><td> 21  </td></tr>\n",
       "\t<tr><th scope=row>385</th><td>guest</td><td> 21  </td></tr>\n",
       "\t<tr><th scope=row>1001</th><td>wer  </td><td> 20  </td></tr>\n",
       "\t<tr><th scope=row>601</th><td>now  </td><td> 20  </td></tr>\n",
       "\t<tr><th scope=row>476</th><td>just </td><td> 20  </td></tr>\n",
       "</tbody>\n",
       "</table>\n"
      ],
      "text/latex": [
       "\\begin{tabular}{r|ll}\n",
       "  & word & freq\\\\\n",
       "\\hline\n",
       "\t888 & the   & 247  \\\\\n",
       "\t2 & a     & 180  \\\\\n",
       "\t1 &       & 178  \\\\\n",
       "\t445 & i     & 157  \\\\\n",
       "\t1052 & you   & 130  \\\\\n",
       "\t919 & to    & 120  \\\\\n",
       "\t26 & and   & 112  \\\\\n",
       "\t63 & be    & 101  \\\\\n",
       "\t463 & it    &  99  \\\\\n",
       "\t453 & in    &  69  \\\\\n",
       "\t611 & on    &  53  \\\\\n",
       "\t606 & of    &  53  \\\\\n",
       "\t1055 & your  &  48  \\\\\n",
       "\t575 & my    &  47  \\\\\n",
       "\t539 & me    &  45  \\\\\n",
       "\t1007 & what  &  44  \\\\\n",
       "\t887 & that  &  40  \\\\\n",
       "\t378 & got   &  40  \\\\\n",
       "\t137 & can   &  40  \\\\\n",
       "\t335 & for   &  36  \\\\\n",
       "\t372 & go    &  35  \\\\\n",
       "\t997 & we    &  31  \\\\\n",
       "\t594 & no    &  31  \\\\\n",
       "\t624 & our   &  30  \\\\\n",
       "\t508 & like  &  30  \\\\\n",
       "\t487 & la    &  30  \\\\\n",
       "\t417 & here  &  29  \\\\\n",
       "\t247 & dont  &  29  \\\\\n",
       "\t889 & thei  &  28  \\\\\n",
       "\t893 & there &  27  \\\\\n",
       "\t518 & look  &  27  \\\\\n",
       "\t1029 & with  &  26  \\\\\n",
       "\t1009 & when  &  26  \\\\\n",
       "\t502 & let   &  26  \\\\\n",
       "\t1020 & will  &  25  \\\\\n",
       "\t916 & time  &  25  \\\\\n",
       "\t408 & heart &  25  \\\\\n",
       "\t130 & but   &  25  \\\\\n",
       "\t404 & he    &  24  \\\\\n",
       "\t20 & all   &  24  \\\\\n",
       "\t485 & know  &  23  \\\\\n",
       "\t206 & dai   &  23  \\\\\n",
       "\t749 & see   &  22  \\\\\n",
       "\t609 & oh    &  22  \\\\\n",
       "\t898 & thi   &  21  \\\\\n",
       "\t447 & i2i   &  21  \\\\\n",
       "\t385 & guest &  21  \\\\\n",
       "\t1001 & wer   &  20  \\\\\n",
       "\t601 & now   &  20  \\\\\n",
       "\t476 & just  &  20  \\\\\n",
       "\\end{tabular}\n"
      ],
      "text/markdown": [
       "\n",
       "| <!--/--> | word | freq | \n",
       "|---|---|---|---|---|---|---|---|---|---|---|---|---|---|---|---|---|---|---|---|---|---|---|---|---|---|---|---|---|---|---|---|---|---|---|---|---|---|---|---|---|---|---|---|---|---|---|---|---|---|\n",
       "| 888 | the   | 247   | \n",
       "| 2 | a     | 180   | \n",
       "| 1 |       | 178   | \n",
       "| 445 | i     | 157   | \n",
       "| 1052 | you   | 130   | \n",
       "| 919 | to    | 120   | \n",
       "| 26 | and   | 112   | \n",
       "| 63 | be    | 101   | \n",
       "| 463 | it    |  99   | \n",
       "| 453 | in    |  69   | \n",
       "| 611 | on    |  53   | \n",
       "| 606 | of    |  53   | \n",
       "| 1055 | your  |  48   | \n",
       "| 575 | my    |  47   | \n",
       "| 539 | me    |  45   | \n",
       "| 1007 | what  |  44   | \n",
       "| 887 | that  |  40   | \n",
       "| 378 | got   |  40   | \n",
       "| 137 | can   |  40   | \n",
       "| 335 | for   |  36   | \n",
       "| 372 | go    |  35   | \n",
       "| 997 | we    |  31   | \n",
       "| 594 | no    |  31   | \n",
       "| 624 | our   |  30   | \n",
       "| 508 | like  |  30   | \n",
       "| 487 | la    |  30   | \n",
       "| 417 | here  |  29   | \n",
       "| 247 | dont  |  29   | \n",
       "| 889 | thei  |  28   | \n",
       "| 893 | there |  27   | \n",
       "| 518 | look  |  27   | \n",
       "| 1029 | with  |  26   | \n",
       "| 1009 | when  |  26   | \n",
       "| 502 | let   |  26   | \n",
       "| 1020 | will  |  25   | \n",
       "| 916 | time  |  25   | \n",
       "| 408 | heart |  25   | \n",
       "| 130 | but   |  25   | \n",
       "| 404 | he    |  24   | \n",
       "| 20 | all   |  24   | \n",
       "| 485 | know  |  23   | \n",
       "| 206 | dai   |  23   | \n",
       "| 749 | see   |  22   | \n",
       "| 609 | oh    |  22   | \n",
       "| 898 | thi   |  21   | \n",
       "| 447 | i2i   |  21   | \n",
       "| 385 | guest |  21   | \n",
       "| 1001 | wer   |  20   | \n",
       "| 601 | now   |  20   | \n",
       "| 476 | just  |  20   | \n",
       "\n",
       "\n"
      ],
      "text/plain": [
       "     word  freq\n",
       "888  the   247 \n",
       "2    a     180 \n",
       "1          178 \n",
       "445  i     157 \n",
       "1052 you   130 \n",
       "919  to    120 \n",
       "26   and   112 \n",
       "63   be    101 \n",
       "463  it     99 \n",
       "453  in     69 \n",
       "611  on     53 \n",
       "606  of     53 \n",
       "1055 your   48 \n",
       "575  my     47 \n",
       "539  me     45 \n",
       "1007 what   44 \n",
       "887  that   40 \n",
       "378  got    40 \n",
       "137  can    40 \n",
       "335  for    36 \n",
       "372  go     35 \n",
       "997  we     31 \n",
       "594  no     31 \n",
       "624  our    30 \n",
       "508  like   30 \n",
       "487  la     30 \n",
       "417  here   29 \n",
       "247  dont   29 \n",
       "889  thei   28 \n",
       "893  there  27 \n",
       "518  look   27 \n",
       "1029 with   26 \n",
       "1009 when   26 \n",
       "502  let    26 \n",
       "1020 will   25 \n",
       "916  time   25 \n",
       "408  heart  25 \n",
       "130  but    25 \n",
       "404  he     24 \n",
       "20   all    24 \n",
       "485  know   23 \n",
       "206  dai    23 \n",
       "749  see    22 \n",
       "609  oh     22 \n",
       "898  thi    21 \n",
       "447  i2i    21 \n",
       "385  guest  21 \n",
       "1001 wer    20 \n",
       "601  now    20 \n",
       "476  just   20 "
      ]
     },
     "metadata": {},
     "output_type": "display_data"
    }
   ],
   "source": [
    "#re-running the text cleaning function through the list of words\n",
    "str <- strsplit(paste(data[1,]), split = \" \")\n",
    "r = one(str)\n",
    "for(i in 2:nrow(data)){\n",
    "  str <- strsplit(paste(data[i,]), split = \" \")\n",
    "  m = one(str)\n",
    "  r = rbind(r,m)\n",
    "}\n",
    "tab = as.data.frame(count(r))\n",
    "f<-tab[rev(order(tab$freq)),]\n",
    "f[1:50,]"
   ]
  },
  {
   "cell_type": "markdown",
   "metadata": {},
   "source": [
    "#### If you're not interested in stopwords eg.  \"the\", \"a\", \"and\", we will have to make use of another package called tm. A tutorial can be found [here]( https://projectosyo.wixsite.com/datadoubleconfirm/single-post/2017/12/24/Text-mining---Process---R). "
   ]
  }
 ],
 "metadata": {
  "kernelspec": {
   "display_name": "R 3.3",
   "language": "R",
   "name": "ir33"
  },
  "language_info": {
   "codemirror_mode": "r",
   "file_extension": ".r",
   "mimetype": "text/x-r-source",
   "name": "R",
   "pygments_lexer": "r",
   "version": "3.3.1"
  }
 },
 "nbformat": 4,
 "nbformat_minor": 2
}
